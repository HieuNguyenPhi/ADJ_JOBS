{
 "cells": [
  {
   "cell_type": "code",
   "execution_count": 1,
   "id": "e1780f43",
   "metadata": {
    "execution": {
     "iopub.execute_input": "2025-10-07T16:42:07.998988Z",
     "iopub.status.busy": "2025-10-07T16:42:07.998738Z",
     "iopub.status.idle": "2025-10-07T16:42:08.004170Z",
     "shell.execute_reply": "2025-10-07T16:42:08.003685Z"
    },
    "papermill": {
     "duration": 0.010758,
     "end_time": "2025-10-07T16:42:08.005061",
     "exception": false,
     "start_time": "2025-10-07T16:42:07.994303",
     "status": "completed"
    },
    "tags": [
     "injected-parameters"
    ]
   },
   "outputs": [],
   "source": [
    "# Parameters\n",
    "RUN_DATE = \"2025-10-07\"\n"
   ]
  },
  {
   "cell_type": "markdown",
   "id": "f43733fe",
   "metadata": {
    "colab_type": "text",
    "id": "view-in-github",
    "papermill": {
     "duration": 0.002233,
     "end_time": "2025-10-07T16:42:08.009885",
     "exception": false,
     "start_time": "2025-10-07T16:42:08.007652",
     "status": "completed"
    },
    "tags": []
   },
   "source": [
    "<a href=\"https://colab.research.google.com/github/HieuNguyenPhi/ADJ_JOBS/blob/main/notebooks/ADJUST_JOB.ipynb\" target=\"_parent\"><img src=\"https://colab.research.google.com/assets/colab-badge.svg\" alt=\"Open In Colab\"/></a>"
   ]
  },
  {
   "cell_type": "code",
   "execution_count": 2,
   "id": "a00a2444",
   "metadata": {
    "execution": {
     "iopub.execute_input": "2025-10-07T16:42:08.015109Z",
     "iopub.status.busy": "2025-10-07T16:42:08.014879Z",
     "iopub.status.idle": "2025-10-07T16:42:14.810323Z",
     "shell.execute_reply": "2025-10-07T16:42:14.809732Z"
    },
    "id": "ycUR2r1dq1Nm",
    "papermill": {
     "duration": 6.799109,
     "end_time": "2025-10-07T16:42:14.811190",
     "exception": false,
     "start_time": "2025-10-07T16:42:08.012081",
     "status": "completed"
    },
    "tags": []
   },
   "outputs": [
    {
     "data": {
      "text/plain": [
       "['2025-10-03', '2025-10-04', '2025-10-05', '2025-10-06', '2025-10-07']"
      ]
     },
     "execution_count": 2,
     "metadata": {},
     "output_type": "execute_result"
    }
   ],
   "source": [
    "import os\n",
    "from azure.storage.blob import BlobServiceClient\n",
    "\n",
    "account_name = os.getenv('ACCOUNT_NAME')\n",
    "account_key = os.getenv('ACCOUNT_KEY')\n",
    "# Replace with your Azure Storage account name and SAS token or connection string\n",
    "connect_str = f\"DefaultEndpointsProtocol=https;AccountName={account_name};AccountKey={account_key};EndpointSuffix=core.windows.net\"\n",
    "blob_service_client = BlobServiceClient.from_connection_string(connect_str)\n",
    "container_list = blob_service_client.list_containers()\n",
    "container_name = \"adjuststbuatprocessed\" #os.getenv('CONTAINER_NAME')\n",
    "container_client = blob_service_client.get_container_client(container_name)\n",
    "already_processed = [file.name.split('/')[1].split('.')[0] for file in container_client.list_blobs() if file.name.split('/')[0] == 'output']\n",
    "already_processed[-5:]"
   ]
  },
  {
   "cell_type": "code",
   "execution_count": 3,
   "id": "47738bd6",
   "metadata": {
    "execution": {
     "iopub.execute_input": "2025-10-07T16:42:14.817014Z",
     "iopub.status.busy": "2025-10-07T16:42:14.816722Z",
     "iopub.status.idle": "2025-10-07T16:42:15.107383Z",
     "shell.execute_reply": "2025-10-07T16:42:15.106744Z"
    },
    "id": "UvcDO8k7s0Jz",
    "papermill": {
     "duration": 0.294395,
     "end_time": "2025-10-07T16:42:15.108296",
     "exception": false,
     "start_time": "2025-10-07T16:42:14.813901",
     "status": "completed"
    },
    "tags": []
   },
   "outputs": [
    {
     "data": {
      "text/plain": [
       "['2025-10-06', '2025-10-07']"
      ]
     },
     "execution_count": 3,
     "metadata": {},
     "output_type": "execute_result"
    }
   ],
   "source": [
    "from datetime import date\n",
    "import pandas as pd\n",
    "today = date.today().strftime('%Y-%m-%d')\n",
    "need_process = pd.date_range(start=already_processed[-2], end=today).strftime('%Y-%m-%d').to_list()\n",
    "need_process"
   ]
  },
  {
   "cell_type": "code",
   "execution_count": 4,
   "id": "82901fa7",
   "metadata": {
    "execution": {
     "iopub.execute_input": "2025-10-07T16:42:15.114395Z",
     "iopub.status.busy": "2025-10-07T16:42:15.114128Z",
     "iopub.status.idle": "2025-10-07T16:42:23.726673Z",
     "shell.execute_reply": "2025-10-07T16:42:23.726116Z"
    },
    "id": "xyPuVC12s7fn",
    "papermill": {
     "duration": 8.616447,
     "end_time": "2025-10-07T16:42:23.727564",
     "exception": false,
     "start_time": "2025-10-07T16:42:15.111117",
     "status": "completed"
    },
    "tags": []
   },
   "outputs": [
    {
     "data": {
      "text/plain": [
       "['rsh20bkkb4zk_2025-10-07T150000_762c775ae454d23f2c6b6a75623d14c7_2853a0.csv.gz',\n",
       " 'rsh20bkkb4zk_2025-10-07T150000_762c775ae454d23f2c6b6a75623d14c7_2853a1.csv.gz',\n",
       " 'rsh20bkkb4zk_2025-10-07T150000_762c775ae454d23f2c6b6a75623d14c7_c35750.csv.gz',\n",
       " 'rsh20bkkb4zk_2025-10-07T150000_762c775ae454d23f2c6b6a75623d14c7_c35751.csv.gz']"
      ]
     },
     "execution_count": 4,
     "metadata": {},
     "output_type": "execute_result"
    }
   ],
   "source": [
    "container_name_uat = \"adjuststbuat\"\n",
    "container_client_uat = blob_service_client.get_container_client(container_name_uat)\n",
    "from collections import defaultdict\n",
    "files = [i.name for i in container_client_uat.list_blobs()]\n",
    "groups = defaultdict(list)\n",
    "for f in files:\n",
    "    dt = f.split('_')[1]\n",
    "    groups[dt].append(f)\n",
    "groups[dt]"
   ]
  },
  {
   "cell_type": "code",
   "execution_count": 5,
   "id": "2b62fb17",
   "metadata": {
    "execution": {
     "iopub.execute_input": "2025-10-07T16:42:23.733897Z",
     "iopub.status.busy": "2025-10-07T16:42:23.733684Z",
     "iopub.status.idle": "2025-10-07T16:44:48.356984Z",
     "shell.execute_reply": "2025-10-07T16:44:48.356335Z"
    },
    "id": "U34_SUSAs-GQ",
    "papermill": {
     "duration": 144.627239,
     "end_time": "2025-10-07T16:44:48.357856",
     "exception": false,
     "start_time": "2025-10-07T16:42:23.730617",
     "status": "completed"
    },
    "tags": []
   },
   "outputs": [
    {
     "name": "stderr",
     "output_type": "stream",
     "text": [
      "\r",
      "  0%|          | 0/1825 [00:00<?, ?it/s]"
     ]
    },
    {
     "name": "stderr",
     "output_type": "stream",
     "text": [
      "\r",
      " 98%|█████████▊| 1786/1825 [00:01<00:00, 1237.50it/s]"
     ]
    },
    {
     "name": "stdout",
     "output_type": "stream",
     "text": [
      "Done dt=2025-10-06/2025-10-06T000000.parquet\n"
     ]
    },
    {
     "name": "stdout",
     "output_type": "stream",
     "text": [
      "Done dt=2025-10-06/2025-10-06T010000.parquet\n"
     ]
    },
    {
     "name": "stdout",
     "output_type": "stream",
     "text": [
      "Done dt=2025-10-06/2025-10-06T020000.parquet\n"
     ]
    },
    {
     "name": "stdout",
     "output_type": "stream",
     "text": [
      "Done dt=2025-10-06/2025-10-06T030000.parquet\n"
     ]
    },
    {
     "name": "stdout",
     "output_type": "stream",
     "text": [
      "Done dt=2025-10-06/2025-10-06T040000.parquet\n"
     ]
    },
    {
     "name": "stderr",
     "output_type": "stream",
     "text": [
      "\r",
      " 98%|█████████▊| 1786/1825 [00:19<00:00, 1237.50it/s]"
     ]
    },
    {
     "name": "stderr",
     "output_type": "stream",
     "text": [
      "\r",
      " 98%|█████████▊| 1791/1825 [00:21<00:00, 59.01it/s]  "
     ]
    },
    {
     "name": "stdout",
     "output_type": "stream",
     "text": [
      "Done dt=2025-10-06/2025-10-06T050000.parquet\n"
     ]
    },
    {
     "name": "stderr",
     "output_type": "stream",
     "text": [
      "\r",
      " 98%|█████████▊| 1792/1825 [00:25<00:00, 46.05it/s]"
     ]
    },
    {
     "name": "stdout",
     "output_type": "stream",
     "text": [
      "Done dt=2025-10-06/2025-10-06T060000.parquet\n"
     ]
    },
    {
     "name": "stdout",
     "output_type": "stream",
     "text": [
      "Done dt=2025-10-06/2025-10-06T070000.parquet\n"
     ]
    },
    {
     "name": "stdout",
     "output_type": "stream",
     "text": [
      "Done dt=2025-10-06/2025-10-06T080000.parquet\n"
     ]
    },
    {
     "name": "stdout",
     "output_type": "stream",
     "text": [
      "Done dt=2025-10-06/2025-10-06T090000.parquet\n"
     ]
    },
    {
     "name": "stderr",
     "output_type": "stream",
     "text": [
      "\r",
      " 98%|█████████▊| 1792/1825 [00:40<00:00, 46.05it/s]"
     ]
    },
    {
     "name": "stderr",
     "output_type": "stream",
     "text": [
      "\r",
      " 98%|█████████▊| 1796/1825 [00:42<00:01, 20.48it/s]"
     ]
    },
    {
     "name": "stdout",
     "output_type": "stream",
     "text": [
      "Done dt=2025-10-06/2025-10-06T100000.parquet\n"
     ]
    },
    {
     "name": "stderr",
     "output_type": "stream",
     "text": [
      "\r",
      " 98%|█████████▊| 1797/1825 [00:46<00:01, 17.63it/s]"
     ]
    },
    {
     "name": "stdout",
     "output_type": "stream",
     "text": [
      "Done dt=2025-10-06/2025-10-06T110000.parquet\n"
     ]
    },
    {
     "name": "stdout",
     "output_type": "stream",
     "text": [
      "Done dt=2025-10-06/2025-10-06T120000.parquet\n"
     ]
    },
    {
     "name": "stdout",
     "output_type": "stream",
     "text": [
      "Done dt=2025-10-06/2025-10-06T130000.parquet\n"
     ]
    },
    {
     "name": "stdout",
     "output_type": "stream",
     "text": [
      "Done dt=2025-10-06/2025-10-06T140000.parquet\n"
     ]
    },
    {
     "name": "stdout",
     "output_type": "stream",
     "text": [
      "Done dt=2025-10-06/2025-10-06T150000.parquet\n"
     ]
    },
    {
     "name": "stderr",
     "output_type": "stream",
     "text": [
      "\r",
      " 98%|█████████▊| 1797/1825 [01:00<00:01, 17.63it/s]"
     ]
    },
    {
     "name": "stderr",
     "output_type": "stream",
     "text": [
      "\r",
      " 99%|█████████▊| 1802/1825 [01:01<00:02,  9.45it/s]"
     ]
    },
    {
     "name": "stdout",
     "output_type": "stream",
     "text": [
      "Done dt=2025-10-06/2025-10-06T160000.parquet\n"
     ]
    },
    {
     "name": "stderr",
     "output_type": "stream",
     "text": [
      "\r",
      " 99%|█████████▉| 1803/1825 [01:04<00:02,  8.47it/s]"
     ]
    },
    {
     "name": "stdout",
     "output_type": "stream",
     "text": [
      "Done dt=2025-10-06/2025-10-06T170000.parquet\n"
     ]
    },
    {
     "name": "stdout",
     "output_type": "stream",
     "text": [
      "Done dt=2025-10-06/2025-10-06T180000.parquet\n"
     ]
    },
    {
     "name": "stdout",
     "output_type": "stream",
     "text": [
      "Done dt=2025-10-06/2025-10-06T190000.parquet\n"
     ]
    },
    {
     "name": "stdout",
     "output_type": "stream",
     "text": [
      "Done dt=2025-10-06/2025-10-06T200000.parquet\n"
     ]
    },
    {
     "name": "stdout",
     "output_type": "stream",
     "text": [
      "Done dt=2025-10-06/2025-10-06T210000.parquet\n"
     ]
    },
    {
     "name": "stdout",
     "output_type": "stream",
     "text": [
      "Done dt=2025-10-06/2025-10-06T220000.parquet\n"
     ]
    },
    {
     "name": "stderr",
     "output_type": "stream",
     "text": [
      "\r",
      " 99%|█████████▉| 1803/1825 [01:20<00:02,  8.47it/s]"
     ]
    },
    {
     "name": "stderr",
     "output_type": "stream",
     "text": [
      "\r",
      " 99%|█████████▉| 1809/1825 [01:21<00:03,  4.55it/s]"
     ]
    },
    {
     "name": "stdout",
     "output_type": "stream",
     "text": [
      "Done dt=2025-10-06/2025-10-06T230000.parquet\n"
     ]
    },
    {
     "name": "stderr",
     "output_type": "stream",
     "text": [
      "\r",
      " 99%|█████████▉| 1810/1825 [01:24<00:03,  4.12it/s]"
     ]
    },
    {
     "name": "stdout",
     "output_type": "stream",
     "text": [
      "Done dt=2025-10-07/2025-10-07T000000.parquet\n"
     ]
    },
    {
     "name": "stdout",
     "output_type": "stream",
     "text": [
      "Done dt=2025-10-07/2025-10-07T010000.parquet\n"
     ]
    },
    {
     "name": "stdout",
     "output_type": "stream",
     "text": [
      "Done dt=2025-10-07/2025-10-07T020000.parquet\n"
     ]
    },
    {
     "name": "stdout",
     "output_type": "stream",
     "text": [
      "Done dt=2025-10-07/2025-10-07T030000.parquet\n"
     ]
    },
    {
     "name": "stderr",
     "output_type": "stream",
     "text": [
      "\r",
      " 99%|█████████▉| 1810/1825 [01:40<00:03,  4.12it/s]"
     ]
    },
    {
     "name": "stderr",
     "output_type": "stream",
     "text": [
      "\r",
      " 99%|█████████▉| 1814/1825 [01:40<00:04,  2.30it/s]"
     ]
    },
    {
     "name": "stdout",
     "output_type": "stream",
     "text": [
      "Done dt=2025-10-07/2025-10-07T040000.parquet\n"
     ]
    },
    {
     "name": "stderr",
     "output_type": "stream",
     "text": [
      "\r",
      " 99%|█████████▉| 1815/1825 [01:43<00:04,  2.11it/s]"
     ]
    },
    {
     "name": "stdout",
     "output_type": "stream",
     "text": [
      "Done dt=2025-10-07/2025-10-07T050000.parquet\n"
     ]
    },
    {
     "name": "stdout",
     "output_type": "stream",
     "text": [
      "Done dt=2025-10-07/2025-10-07T060000.parquet\n"
     ]
    },
    {
     "name": "stdout",
     "output_type": "stream",
     "text": [
      "Done dt=2025-10-07/2025-10-07T070000.parquet\n"
     ]
    },
    {
     "name": "stdout",
     "output_type": "stream",
     "text": [
      "Done dt=2025-10-07/2025-10-07T080000.parquet\n"
     ]
    },
    {
     "name": "stderr",
     "output_type": "stream",
     "text": [
      "\r",
      " 99%|█████████▉| 1815/1825 [02:00<00:04,  2.11it/s]"
     ]
    },
    {
     "name": "stderr",
     "output_type": "stream",
     "text": [
      "\r",
      "100%|█████████▉| 1819/1825 [02:00<00:04,  1.24it/s]"
     ]
    },
    {
     "name": "stdout",
     "output_type": "stream",
     "text": [
      "Done dt=2025-10-07/2025-10-07T090000.parquet\n"
     ]
    },
    {
     "name": "stderr",
     "output_type": "stream",
     "text": [
      "\r",
      "100%|█████████▉| 1820/1825 [02:04<00:04,  1.10it/s]"
     ]
    },
    {
     "name": "stdout",
     "output_type": "stream",
     "text": [
      "Done dt=2025-10-07/2025-10-07T100000.parquet\n"
     ]
    },
    {
     "name": "stdout",
     "output_type": "stream",
     "text": [
      "Done dt=2025-10-07/2025-10-07T110000.parquet\n"
     ]
    },
    {
     "name": "stdout",
     "output_type": "stream",
     "text": [
      "Done dt=2025-10-07/2025-10-07T120000.parquet\n"
     ]
    },
    {
     "name": "stdout",
     "output_type": "stream",
     "text": [
      "Done dt=2025-10-07/2025-10-07T130000.parquet\n"
     ]
    },
    {
     "name": "stderr",
     "output_type": "stream",
     "text": [
      "\r",
      "100%|█████████▉| 1820/1825 [02:20<00:04,  1.10it/s]"
     ]
    },
    {
     "name": "stderr",
     "output_type": "stream",
     "text": [
      "\r",
      "100%|█████████▉| 1824/1825 [02:21<00:01,  1.41s/it]"
     ]
    },
    {
     "name": "stdout",
     "output_type": "stream",
     "text": [
      "Done dt=2025-10-07/2025-10-07T140000.parquet\n"
     ]
    },
    {
     "name": "stderr",
     "output_type": "stream",
     "text": [
      "\r",
      "100%|██████████| 1825/1825 [02:24<00:00,  1.48s/it]"
     ]
    },
    {
     "name": "stderr",
     "output_type": "stream",
     "text": [
      "\r",
      "100%|██████████| 1825/1825 [02:24<00:00, 12.63it/s]"
     ]
    },
    {
     "name": "stdout",
     "output_type": "stream",
     "text": [
      "Done dt=2025-10-07/2025-10-07T150000.parquet\n"
     ]
    },
    {
     "name": "stderr",
     "output_type": "stream",
     "text": [
      "\n"
     ]
    }
   ],
   "source": [
    "from pathlib import Path\n",
    "root = Path.cwd()\n",
    "process_path = f'{root}/process/adjust_uat'\n",
    "from tqdm import tqdm\n",
    "import polars as pl\n",
    "\n",
    "os.makedirs(process_path, exist_ok=True)\n",
    "\n",
    "storage_options = {\n",
    "    \"account_name\": account_name,\n",
    "    \"account_key\":  account_key,\n",
    "}\n",
    "\n",
    "for ts, files in tqdm(groups.items()):\n",
    "    dt = ts[:10]                       # \"2025-06-25\" -> partition dt=...\n",
    "    if dt not in need_process:\n",
    "        continue\n",
    "    # break\n",
    "    partition_dir = os.path.join(process_path, f\"dt={dt}\")\n",
    "    os.makedirs(partition_dir, exist_ok=True)\n",
    "    out_file = os.path.join(partition_dir, f\"{ts}.parquet\")\n",
    "\n",
    "    dfs = []\n",
    "    for f in files:\n",
    "        df = (pl.scan_csv(f\"az://adjuststbuat/{f}\",                             # eager\n",
    "                          storage_options=storage_options,\n",
    "                          has_header=True,\n",
    "                          null_values=[\"\", \"NULL\"])       # rỗng → null\n",
    "                .select(pl.all().cast(pl.Utf8)))          # tất cả cột → string\n",
    "        dfs.append(df)\n",
    "\n",
    "    df_all = pl.concat(dfs, how=\"diagonal\")               # tự thêm null cột thiếu\n",
    "    df_all.sink_parquet(out_file, compression=\"snappy\")\n",
    "    print(f'Done dt={dt}/{ts}.parquet')\n"
   ]
  },
  {
   "cell_type": "code",
   "execution_count": 6,
   "id": "d8408298",
   "metadata": {
    "execution": {
     "iopub.execute_input": "2025-10-07T16:44:48.368800Z",
     "iopub.status.busy": "2025-10-07T16:44:48.368581Z",
     "iopub.status.idle": "2025-10-07T16:44:48.536482Z",
     "shell.execute_reply": "2025-10-07T16:44:48.535892Z"
    },
    "id": "K5p12_Giu1Cx",
    "papermill": {
     "duration": 0.174413,
     "end_time": "2025-10-07T16:44:48.537420",
     "exception": false,
     "start_time": "2025-10-07T16:44:48.363007",
     "status": "completed"
    },
    "tags": []
   },
   "outputs": [
    {
     "name": "stderr",
     "output_type": "stream",
     "text": [
      "\r",
      "  0%|          | 0/2 [00:00<?, ?it/s]"
     ]
    },
    {
     "name": "stderr",
     "output_type": "stream",
     "text": [
      "\r",
      "100%|██████████| 2/2 [00:00<00:00, 12.57it/s]"
     ]
    },
    {
     "name": "stderr",
     "output_type": "stream",
     "text": [
      "\r",
      "100%|██████████| 2/2 [00:00<00:00, 12.50it/s]"
     ]
    },
    {
     "name": "stderr",
     "output_type": "stream",
     "text": [
      "\n"
     ]
    }
   ],
   "source": [
    "output_path = f'{root}/output/adjust_uat'\n",
    "os.makedirs(output_path, exist_ok=True)\n",
    "import glob\n",
    "import shutil\n",
    "for dt_folder in tqdm(glob.glob(os.path.join(process_path, \"dt=*\"))):\n",
    "    dt = os.path.basename(dt_folder)[3:]                 # \"2025-06-25\"\n",
    "    files_pq = glob.glob(os.path.join(dt_folder, \"*T*.parquet\"))\n",
    "    if not files_pq:\n",
    "        continue\n",
    "\n",
    "    out_path = os.path.join(output_path, f\"{dt}.parquet\")\n",
    "\n",
    "    # Nếu trước đó lỡ tạo cùng tên dưới dạng DIR → xoá\n",
    "    if os.path.isdir(out_path):\n",
    "        shutil.rmtree(out_path)\n",
    "\n",
    "    # ---------- ❶  Lazy scan tất cả Parquet ----------\n",
    "    lfs = [pl.scan_parquet(f) for f in files_pq]          # mỗi file → LazyFrame\n",
    "\n",
    "    # ---------- ❷  Concat diagonal + giữ schema linh hoạt ----------\n",
    "    lf_day = (\n",
    "        pl.concat(lfs, how=\"diagonal\")                    # tự thêm null cột thiếu\n",
    "        .select(pl.all().cast(pl.Utf8))                   # đảm bảo mọi cột = string\n",
    "        .with_columns(pl.lit(dt).alias(\"dt\"))             # thêm cột partition (tuỳ)\n",
    "    )\n",
    "\n",
    "    # ---------- ❸  Ghi duy nhất 1 Parquet ----------\n",
    "    lf_day.sink_parquet(out_path, compression=\"snappy\")"
   ]
  },
  {
   "cell_type": "code",
   "execution_count": 7,
   "id": "d1ef615a",
   "metadata": {
    "execution": {
     "iopub.execute_input": "2025-10-07T16:44:48.549157Z",
     "iopub.status.busy": "2025-10-07T16:44:48.548979Z",
     "iopub.status.idle": "2025-10-07T16:44:58.865361Z",
     "shell.execute_reply": "2025-10-07T16:44:58.864744Z"
    },
    "id": "eoUxR5sVxMJI",
    "papermill": {
     "duration": 10.32344,
     "end_time": "2025-10-07T16:44:58.866295",
     "exception": false,
     "start_time": "2025-10-07T16:44:48.542855",
     "status": "completed"
    },
    "tags": []
   },
   "outputs": [
    {
     "name": "stderr",
     "output_type": "stream",
     "text": [
      "\r",
      "0it [00:00, ?it/s]"
     ]
    },
    {
     "name": "stdout",
     "output_type": "stream",
     "text": [
      "Uploading /home/runner/work/ADJ_JOBS/ADJ_JOBS/process/adjust_uat/dt=2025-10-06/2025-10-06T090000.parquet to adjuststbuatprocessed/processing/dt=2025-10-06/2025-10-06T090000.parquet\n"
     ]
    },
    {
     "name": "stdout",
     "output_type": "stream",
     "text": [
      "Uploading /home/runner/work/ADJ_JOBS/ADJ_JOBS/process/adjust_uat/dt=2025-10-06/2025-10-06T200000.parquet to adjuststbuatprocessed/processing/dt=2025-10-06/2025-10-06T200000.parquet\n"
     ]
    },
    {
     "name": "stdout",
     "output_type": "stream",
     "text": [
      "Uploading /home/runner/work/ADJ_JOBS/ADJ_JOBS/process/adjust_uat/dt=2025-10-06/2025-10-06T110000.parquet to adjuststbuatprocessed/processing/dt=2025-10-06/2025-10-06T110000.parquet\n"
     ]
    },
    {
     "name": "stdout",
     "output_type": "stream",
     "text": [
      "Uploading /home/runner/work/ADJ_JOBS/ADJ_JOBS/process/adjust_uat/dt=2025-10-06/2025-10-06T190000.parquet to adjuststbuatprocessed/processing/dt=2025-10-06/2025-10-06T190000.parquet\n"
     ]
    },
    {
     "name": "stdout",
     "output_type": "stream",
     "text": [
      "Uploading /home/runner/work/ADJ_JOBS/ADJ_JOBS/process/adjust_uat/dt=2025-10-06/2025-10-06T100000.parquet to adjuststbuatprocessed/processing/dt=2025-10-06/2025-10-06T100000.parquet\n"
     ]
    },
    {
     "name": "stdout",
     "output_type": "stream",
     "text": [
      "Uploading /home/runner/work/ADJ_JOBS/ADJ_JOBS/process/adjust_uat/dt=2025-10-06/2025-10-06T060000.parquet to adjuststbuatprocessed/processing/dt=2025-10-06/2025-10-06T060000.parquet\n"
     ]
    },
    {
     "name": "stdout",
     "output_type": "stream",
     "text": [
      "Uploading /home/runner/work/ADJ_JOBS/ADJ_JOBS/process/adjust_uat/dt=2025-10-06/2025-10-06T120000.parquet to adjuststbuatprocessed/processing/dt=2025-10-06/2025-10-06T120000.parquet\n"
     ]
    },
    {
     "name": "stdout",
     "output_type": "stream",
     "text": [
      "Uploading /home/runner/work/ADJ_JOBS/ADJ_JOBS/process/adjust_uat/dt=2025-10-06/2025-10-06T230000.parquet to adjuststbuatprocessed/processing/dt=2025-10-06/2025-10-06T230000.parquet\n"
     ]
    },
    {
     "name": "stdout",
     "output_type": "stream",
     "text": [
      "Uploading /home/runner/work/ADJ_JOBS/ADJ_JOBS/process/adjust_uat/dt=2025-10-06/2025-10-06T170000.parquet to adjuststbuatprocessed/processing/dt=2025-10-06/2025-10-06T170000.parquet\n"
     ]
    },
    {
     "name": "stdout",
     "output_type": "stream",
     "text": [
      "Uploading /home/runner/work/ADJ_JOBS/ADJ_JOBS/process/adjust_uat/dt=2025-10-06/2025-10-06T070000.parquet to adjuststbuatprocessed/processing/dt=2025-10-06/2025-10-06T070000.parquet\n"
     ]
    },
    {
     "name": "stdout",
     "output_type": "stream",
     "text": [
      "Uploading /home/runner/work/ADJ_JOBS/ADJ_JOBS/process/adjust_uat/dt=2025-10-06/2025-10-06T050000.parquet to adjuststbuatprocessed/processing/dt=2025-10-06/2025-10-06T050000.parquet\n"
     ]
    },
    {
     "name": "stdout",
     "output_type": "stream",
     "text": [
      "Uploading /home/runner/work/ADJ_JOBS/ADJ_JOBS/process/adjust_uat/dt=2025-10-06/2025-10-06T210000.parquet to adjuststbuatprocessed/processing/dt=2025-10-06/2025-10-06T210000.parquet\n"
     ]
    },
    {
     "name": "stdout",
     "output_type": "stream",
     "text": [
      "Uploading /home/runner/work/ADJ_JOBS/ADJ_JOBS/process/adjust_uat/dt=2025-10-06/2025-10-06T160000.parquet to adjuststbuatprocessed/processing/dt=2025-10-06/2025-10-06T160000.parquet\n"
     ]
    },
    {
     "name": "stdout",
     "output_type": "stream",
     "text": [
      "Uploading /home/runner/work/ADJ_JOBS/ADJ_JOBS/process/adjust_uat/dt=2025-10-06/2025-10-06T000000.parquet to adjuststbuatprocessed/processing/dt=2025-10-06/2025-10-06T000000.parquet\n"
     ]
    },
    {
     "name": "stdout",
     "output_type": "stream",
     "text": [
      "Uploading /home/runner/work/ADJ_JOBS/ADJ_JOBS/process/adjust_uat/dt=2025-10-06/2025-10-06T010000.parquet to adjuststbuatprocessed/processing/dt=2025-10-06/2025-10-06T010000.parquet\n"
     ]
    },
    {
     "name": "stdout",
     "output_type": "stream",
     "text": [
      "Uploading /home/runner/work/ADJ_JOBS/ADJ_JOBS/process/adjust_uat/dt=2025-10-06/2025-10-06T080000.parquet to adjuststbuatprocessed/processing/dt=2025-10-06/2025-10-06T080000.parquet\n"
     ]
    },
    {
     "name": "stdout",
     "output_type": "stream",
     "text": [
      "Uploading /home/runner/work/ADJ_JOBS/ADJ_JOBS/process/adjust_uat/dt=2025-10-06/2025-10-06T040000.parquet to adjuststbuatprocessed/processing/dt=2025-10-06/2025-10-06T040000.parquet\n"
     ]
    },
    {
     "name": "stdout",
     "output_type": "stream",
     "text": [
      "Uploading /home/runner/work/ADJ_JOBS/ADJ_JOBS/process/adjust_uat/dt=2025-10-06/2025-10-06T020000.parquet to adjuststbuatprocessed/processing/dt=2025-10-06/2025-10-06T020000.parquet\n"
     ]
    },
    {
     "name": "stdout",
     "output_type": "stream",
     "text": [
      "Uploading /home/runner/work/ADJ_JOBS/ADJ_JOBS/process/adjust_uat/dt=2025-10-06/2025-10-06T180000.parquet to adjuststbuatprocessed/processing/dt=2025-10-06/2025-10-06T180000.parquet\n"
     ]
    },
    {
     "name": "stdout",
     "output_type": "stream",
     "text": [
      "Uploading /home/runner/work/ADJ_JOBS/ADJ_JOBS/process/adjust_uat/dt=2025-10-06/2025-10-06T030000.parquet to adjuststbuatprocessed/processing/dt=2025-10-06/2025-10-06T030000.parquet\n"
     ]
    },
    {
     "name": "stdout",
     "output_type": "stream",
     "text": [
      "Uploading /home/runner/work/ADJ_JOBS/ADJ_JOBS/process/adjust_uat/dt=2025-10-06/2025-10-06T130000.parquet to adjuststbuatprocessed/processing/dt=2025-10-06/2025-10-06T130000.parquet\n"
     ]
    },
    {
     "name": "stdout",
     "output_type": "stream",
     "text": [
      "Uploading /home/runner/work/ADJ_JOBS/ADJ_JOBS/process/adjust_uat/dt=2025-10-06/2025-10-06T220000.parquet to adjuststbuatprocessed/processing/dt=2025-10-06/2025-10-06T220000.parquet\n"
     ]
    },
    {
     "name": "stdout",
     "output_type": "stream",
     "text": [
      "Uploading /home/runner/work/ADJ_JOBS/ADJ_JOBS/process/adjust_uat/dt=2025-10-06/2025-10-06T150000.parquet to adjuststbuatprocessed/processing/dt=2025-10-06/2025-10-06T150000.parquet\n"
     ]
    },
    {
     "name": "stdout",
     "output_type": "stream",
     "text": [
      "Uploading /home/runner/work/ADJ_JOBS/ADJ_JOBS/process/adjust_uat/dt=2025-10-06/2025-10-06T140000.parquet to adjuststbuatprocessed/processing/dt=2025-10-06/2025-10-06T140000.parquet\n"
     ]
    },
    {
     "name": "stderr",
     "output_type": "stream",
     "text": [
      "\r",
      "2it [00:06,  3.23s/it]"
     ]
    },
    {
     "name": "stdout",
     "output_type": "stream",
     "text": [
      "Uploading /home/runner/work/ADJ_JOBS/ADJ_JOBS/process/adjust_uat/dt=2025-10-07/2025-10-07T060000.parquet to adjuststbuatprocessed/processing/dt=2025-10-07/2025-10-07T060000.parquet\n"
     ]
    },
    {
     "name": "stdout",
     "output_type": "stream",
     "text": [
      "Uploading /home/runner/work/ADJ_JOBS/ADJ_JOBS/process/adjust_uat/dt=2025-10-07/2025-10-07T050000.parquet to adjuststbuatprocessed/processing/dt=2025-10-07/2025-10-07T050000.parquet\n"
     ]
    },
    {
     "name": "stdout",
     "output_type": "stream",
     "text": [
      "Uploading /home/runner/work/ADJ_JOBS/ADJ_JOBS/process/adjust_uat/dt=2025-10-07/2025-10-07T090000.parquet to adjuststbuatprocessed/processing/dt=2025-10-07/2025-10-07T090000.parquet\n"
     ]
    },
    {
     "name": "stdout",
     "output_type": "stream",
     "text": [
      "Uploading /home/runner/work/ADJ_JOBS/ADJ_JOBS/process/adjust_uat/dt=2025-10-07/2025-10-07T040000.parquet to adjuststbuatprocessed/processing/dt=2025-10-07/2025-10-07T040000.parquet\n"
     ]
    },
    {
     "name": "stdout",
     "output_type": "stream",
     "text": [
      "Uploading /home/runner/work/ADJ_JOBS/ADJ_JOBS/process/adjust_uat/dt=2025-10-07/2025-10-07T020000.parquet to adjuststbuatprocessed/processing/dt=2025-10-07/2025-10-07T020000.parquet\n"
     ]
    },
    {
     "name": "stdout",
     "output_type": "stream",
     "text": [
      "Uploading /home/runner/work/ADJ_JOBS/ADJ_JOBS/process/adjust_uat/dt=2025-10-07/2025-10-07T130000.parquet to adjuststbuatprocessed/processing/dt=2025-10-07/2025-10-07T130000.parquet\n"
     ]
    },
    {
     "name": "stdout",
     "output_type": "stream",
     "text": [
      "Uploading /home/runner/work/ADJ_JOBS/ADJ_JOBS/process/adjust_uat/dt=2025-10-07/2025-10-07T070000.parquet to adjuststbuatprocessed/processing/dt=2025-10-07/2025-10-07T070000.parquet\n"
     ]
    },
    {
     "name": "stdout",
     "output_type": "stream",
     "text": [
      "Uploading /home/runner/work/ADJ_JOBS/ADJ_JOBS/process/adjust_uat/dt=2025-10-07/2025-10-07T110000.parquet to adjuststbuatprocessed/processing/dt=2025-10-07/2025-10-07T110000.parquet\n"
     ]
    },
    {
     "name": "stdout",
     "output_type": "stream",
     "text": [
      "Uploading /home/runner/work/ADJ_JOBS/ADJ_JOBS/process/adjust_uat/dt=2025-10-07/2025-10-07T150000.parquet to adjuststbuatprocessed/processing/dt=2025-10-07/2025-10-07T150000.parquet\n"
     ]
    },
    {
     "name": "stdout",
     "output_type": "stream",
     "text": [
      "Uploading /home/runner/work/ADJ_JOBS/ADJ_JOBS/process/adjust_uat/dt=2025-10-07/2025-10-07T100000.parquet to adjuststbuatprocessed/processing/dt=2025-10-07/2025-10-07T100000.parquet\n"
     ]
    },
    {
     "name": "stdout",
     "output_type": "stream",
     "text": [
      "Uploading /home/runner/work/ADJ_JOBS/ADJ_JOBS/process/adjust_uat/dt=2025-10-07/2025-10-07T010000.parquet to adjuststbuatprocessed/processing/dt=2025-10-07/2025-10-07T010000.parquet\n"
     ]
    },
    {
     "name": "stdout",
     "output_type": "stream",
     "text": [
      "Uploading /home/runner/work/ADJ_JOBS/ADJ_JOBS/process/adjust_uat/dt=2025-10-07/2025-10-07T030000.parquet to adjuststbuatprocessed/processing/dt=2025-10-07/2025-10-07T030000.parquet\n"
     ]
    },
    {
     "name": "stdout",
     "output_type": "stream",
     "text": [
      "Uploading /home/runner/work/ADJ_JOBS/ADJ_JOBS/process/adjust_uat/dt=2025-10-07/2025-10-07T000000.parquet to adjuststbuatprocessed/processing/dt=2025-10-07/2025-10-07T000000.parquet\n"
     ]
    },
    {
     "name": "stdout",
     "output_type": "stream",
     "text": [
      "Uploading /home/runner/work/ADJ_JOBS/ADJ_JOBS/process/adjust_uat/dt=2025-10-07/2025-10-07T080000.parquet to adjuststbuatprocessed/processing/dt=2025-10-07/2025-10-07T080000.parquet\n"
     ]
    },
    {
     "name": "stdout",
     "output_type": "stream",
     "text": [
      "Uploading /home/runner/work/ADJ_JOBS/ADJ_JOBS/process/adjust_uat/dt=2025-10-07/2025-10-07T120000.parquet to adjuststbuatprocessed/processing/dt=2025-10-07/2025-10-07T120000.parquet\n"
     ]
    },
    {
     "name": "stdout",
     "output_type": "stream",
     "text": [
      "Uploading /home/runner/work/ADJ_JOBS/ADJ_JOBS/process/adjust_uat/dt=2025-10-07/2025-10-07T140000.parquet to adjuststbuatprocessed/processing/dt=2025-10-07/2025-10-07T140000.parquet\n"
     ]
    },
    {
     "name": "stderr",
     "output_type": "stream",
     "text": [
      "\r",
      "3it [00:10,  3.49s/it]"
     ]
    },
    {
     "name": "stderr",
     "output_type": "stream",
     "text": [
      "\r",
      "3it [00:10,  3.44s/it]"
     ]
    },
    {
     "name": "stdout",
     "output_type": "stream",
     "text": [
      "\n",
      "Folder upload complete.\n"
     ]
    },
    {
     "name": "stderr",
     "output_type": "stream",
     "text": [
      "\n"
     ]
    }
   ],
   "source": [
    "\n",
    "local_folder_path = f\"{root}/process/adjust_uat\"\n",
    "\n",
    "# Replace with the desired folder name in the Azure container\n",
    "azure_folder_name = \"processing\"\n",
    "\n",
    "# Iterate through files in the local folder and upload them\n",
    "for root, dirs, files in tqdm(os.walk(local_folder_path)):\n",
    "    for file in files:\n",
    "        # Construct the full local file path\n",
    "        local_file_path = os.path.join(root, file)\n",
    "\n",
    "        # Construct the blob name (path within the Azure container)\n",
    "        # This preserves the folder structure from the local path\n",
    "        relative_path = os.path.relpath(local_file_path, local_folder_path)\n",
    "        blob_name = os.path.join(azure_folder_name, relative_path)\n",
    "        # print(blob_name)\n",
    "        # Create a blob client for the current file\n",
    "        blob_client = container_client.get_blob_client(blob_name)\n",
    "\n",
    "        print(f\"Uploading {local_file_path} to {container_name}/{blob_name}\")\n",
    "\n",
    "#         # Upload the file\n",
    "        with open(local_file_path, \"rb\") as data:\n",
    "            blob_client.upload_blob(data, overwrite=True)\n",
    "\n",
    "print(\"\\nFolder upload complete.\")"
   ]
  },
  {
   "cell_type": "code",
   "execution_count": 8,
   "id": "612d00cb",
   "metadata": {
    "execution": {
     "iopub.execute_input": "2025-10-07T16:44:58.881270Z",
     "iopub.status.busy": "2025-10-07T16:44:58.881060Z",
     "iopub.status.idle": "2025-10-07T16:44:58.887512Z",
     "shell.execute_reply": "2025-10-07T16:44:58.886996Z"
    },
    "id": "guZytRUpxPdd",
    "papermill": {
     "duration": 0.014706,
     "end_time": "2025-10-07T16:44:58.888320",
     "exception": false,
     "start_time": "2025-10-07T16:44:58.873614",
     "status": "completed"
    },
    "tags": []
   },
   "outputs": [
    {
     "name": "stderr",
     "output_type": "stream",
     "text": [
      "\r",
      "0it [00:00, ?it/s]"
     ]
    },
    {
     "name": "stderr",
     "output_type": "stream",
     "text": [
      "\r",
      "0it [00:00, ?it/s]"
     ]
    },
    {
     "name": "stdout",
     "output_type": "stream",
     "text": [
      "\n",
      "Folder upload complete.\n"
     ]
    },
    {
     "name": "stderr",
     "output_type": "stream",
     "text": [
      "\n"
     ]
    }
   ],
   "source": [
    "\n",
    "local_folder_path = f\"{root}/output/adjust_uat\"\n",
    "\n",
    "# Replace with the desired folder name in the Azure container\n",
    "azure_folder_name = \"output\"\n",
    "\n",
    "# Iterate through files in the local folder and upload them\n",
    "for root, dirs, files in tqdm(os.walk(local_folder_path)):\n",
    "    for file in files:\n",
    "        # Construct the full local file path\n",
    "        local_file_path = os.path.join(root, file)\n",
    "\n",
    "        # Construct the blob name (path within the Azure container)\n",
    "        # This preserves the folder structure from the local path\n",
    "        relative_path = os.path.relpath(local_file_path, local_folder_path)\n",
    "        blob_name = os.path.join(azure_folder_name, relative_path)\n",
    "        # print(blob_name)\n",
    "        # Create a blob client for the current file\n",
    "        blob_client = container_client.get_blob_client(blob_name)\n",
    "\n",
    "        print(f\"Uploading {local_file_path} to {container_name}/{blob_name}\")\n",
    "\n",
    "#         # Upload the file\n",
    "        with open(local_file_path, \"rb\") as data:\n",
    "            blob_client.upload_blob(data, overwrite=True)\n",
    "\n",
    "print(\"\\nFolder upload complete.\")"
   ]
  },
  {
   "cell_type": "code",
   "execution_count": 9,
   "id": "1c2b8b42",
   "metadata": {
    "execution": {
     "iopub.execute_input": "2025-10-07T16:44:58.902794Z",
     "iopub.status.busy": "2025-10-07T16:44:58.902603Z",
     "iopub.status.idle": "2025-10-07T16:44:58.906505Z",
     "shell.execute_reply": "2025-10-07T16:44:58.906059Z"
    },
    "id": "cRg5jAwbxQ7K",
    "papermill": {
     "duration": 0.012086,
     "end_time": "2025-10-07T16:44:58.907350",
     "exception": false,
     "start_time": "2025-10-07T16:44:58.895264",
     "status": "completed"
    },
    "tags": []
   },
   "outputs": [
    {
     "name": "stdout",
     "output_type": "stream",
     "text": [
      "Local folder not found: /home/runner/work/ADJ_JOBS/ADJ_JOBS/process/adjust_uat/dt=2025-10-07/process/adjust_uat\n",
      "Local folder not found: /home/runner/work/ADJ_JOBS/ADJ_JOBS/process/adjust_uat/dt=2025-10-07/output/adjust_uat\n"
     ]
    }
   ],
   "source": [
    "# Replace with the path to the local folder you want to delete\n",
    "local_folder_paths = [f\"{root}/process/adjust_uat\",f\"{root}/output/adjust_uat\"]\n",
    "# local_folder_path = f\"data/process/adjust_live\"\n",
    "for local_folder_path in local_folder_paths:\n",
    "    if os.path.exists(local_folder_path):\n",
    "        print(f\"Deleting local folder: {local_folder_path}\")\n",
    "        shutil.rmtree(local_folder_path)\n",
    "        print(\"Local folder deleted.\")\n",
    "    else:\n",
    "        print(f\"Local folder not found: {local_folder_path}\")"
   ]
  },
  {
   "cell_type": "markdown",
   "id": "5095124a",
   "metadata": {
    "id": "2TvKr29qyJd_",
    "papermill": {
     "duration": 0.007029,
     "end_time": "2025-10-07T16:44:58.921452",
     "exception": false,
     "start_time": "2025-10-07T16:44:58.914423",
     "status": "completed"
    },
    "tags": []
   },
   "source": [
    "# Live"
   ]
  },
  {
   "cell_type": "code",
   "execution_count": 10,
   "id": "f5d1947a",
   "metadata": {
    "execution": {
     "iopub.execute_input": "2025-10-07T16:44:58.935951Z",
     "iopub.status.busy": "2025-10-07T16:44:58.935732Z",
     "iopub.status.idle": "2025-10-07T16:45:03.173462Z",
     "shell.execute_reply": "2025-10-07T16:45:03.172809Z"
    },
    "id": "EnaFsdZFxpwc",
    "papermill": {
     "duration": 4.246117,
     "end_time": "2025-10-07T16:45:03.174526",
     "exception": false,
     "start_time": "2025-10-07T16:44:58.928409",
     "status": "completed"
    },
    "tags": []
   },
   "outputs": [
    {
     "data": {
      "text/plain": [
       "['2025-10-03', '2025-10-04', '2025-10-05', '2025-10-06', '2025-10-07']"
      ]
     },
     "execution_count": 10,
     "metadata": {},
     "output_type": "execute_result"
    }
   ],
   "source": [
    "already_processed = [file.name.split('/')[-1].split('.')[0] for file in container_client.list_blobs() if file.name[:12] == 'live/output/']\n",
    "already_processed[-5:]"
   ]
  },
  {
   "cell_type": "code",
   "execution_count": 11,
   "id": "a2aa6d73",
   "metadata": {
    "execution": {
     "iopub.execute_input": "2025-10-07T16:45:03.189999Z",
     "iopub.status.busy": "2025-10-07T16:45:03.189769Z",
     "iopub.status.idle": "2025-10-07T16:45:03.194274Z",
     "shell.execute_reply": "2025-10-07T16:45:03.193724Z"
    },
    "id": "aHveM3L5yNix",
    "papermill": {
     "duration": 0.01305,
     "end_time": "2025-10-07T16:45:03.195146",
     "exception": false,
     "start_time": "2025-10-07T16:45:03.182096",
     "status": "completed"
    },
    "tags": []
   },
   "outputs": [
    {
     "data": {
      "text/plain": [
       "['2025-10-07']"
      ]
     },
     "execution_count": 11,
     "metadata": {},
     "output_type": "execute_result"
    }
   ],
   "source": [
    "need_process = pd.date_range(start=already_processed[-1], end=today).strftime('%Y-%m-%d').to_list()\n",
    "need_process"
   ]
  },
  {
   "cell_type": "code",
   "execution_count": 12,
   "id": "06b28dab",
   "metadata": {
    "execution": {
     "iopub.execute_input": "2025-10-07T16:45:03.210272Z",
     "iopub.status.busy": "2025-10-07T16:45:03.210079Z",
     "iopub.status.idle": "2025-10-07T16:45:15.243659Z",
     "shell.execute_reply": "2025-10-07T16:45:15.243109Z"
    },
    "id": "I7Er6YEUyOsL",
    "papermill": {
     "duration": 12.042121,
     "end_time": "2025-10-07T16:45:15.244579",
     "exception": false,
     "start_time": "2025-10-07T16:45:03.202458",
     "status": "completed"
    },
    "tags": []
   },
   "outputs": [
    {
     "data": {
      "text/plain": [
       "['65n1fgov4zr4_2025-10-07T150000_762c775ae454d23f2c6b6a75623d14c7_2853a0.csv.gz',\n",
       " '65n1fgov4zr4_2025-10-07T150000_762c775ae454d23f2c6b6a75623d14c7_2853a1.csv.gz',\n",
       " '65n1fgov4zr4_2025-10-07T150000_762c775ae454d23f2c6b6a75623d14c7_be8220.csv.gz',\n",
       " '65n1fgov4zr4_2025-10-07T150000_762c775ae454d23f2c6b6a75623d14c7_be8221.csv.gz',\n",
       " '65n1fgov4zr4_2025-10-07T150000_762c775ae454d23f2c6b6a75623d14c7_c35750.csv.gz',\n",
       " '65n1fgov4zr4_2025-10-07T150000_762c775ae454d23f2c6b6a75623d14c7_c35751.csv.gz']"
      ]
     },
     "execution_count": 12,
     "metadata": {},
     "output_type": "execute_result"
    }
   ],
   "source": [
    "container_name_uat = \"adjuststblive\"\n",
    "container_client_uat = blob_service_client.get_container_client(container_name_uat)\n",
    "from collections import defaultdict\n",
    "files = [i.name for i in container_client_uat.list_blobs()]\n",
    "groups = defaultdict(list)\n",
    "for f in files:\n",
    "    dt = f.split('_')[1]\n",
    "    groups[dt].append(f)\n",
    "groups[dt]"
   ]
  },
  {
   "cell_type": "code",
   "execution_count": 13,
   "id": "b3d46a19",
   "metadata": {
    "execution": {
     "iopub.execute_input": "2025-10-07T16:45:15.260679Z",
     "iopub.status.busy": "2025-10-07T16:45:15.260453Z",
     "iopub.status.idle": "2025-10-07T16:50:13.856352Z",
     "shell.execute_reply": "2025-10-07T16:50:13.855718Z"
    },
    "id": "g-W3s2nRyRY7",
    "papermill": {
     "duration": 298.604945,
     "end_time": "2025-10-07T16:50:13.857278",
     "exception": false,
     "start_time": "2025-10-07T16:45:15.252333",
     "status": "completed"
    },
    "tags": []
   },
   "outputs": [
    {
     "name": "stderr",
     "output_type": "stream",
     "text": [
      "\r",
      "  0%|          | 0/1806 [00:00<?, ?it/s]"
     ]
    },
    {
     "name": "stderr",
     "output_type": "stream",
     "text": [
      "\r",
      " 99%|█████████▉| 1791/1806 [00:17<00:00, 101.74it/s]"
     ]
    },
    {
     "name": "stdout",
     "output_type": "stream",
     "text": [
      "Done dt=2025-10-07/2025-10-07T000000.parquet\n"
     ]
    },
    {
     "name": "stderr",
     "output_type": "stream",
     "text": [
      "\r",
      " 99%|█████████▉| 1791/1806 [00:28<00:00, 101.74it/s]"
     ]
    },
    {
     "name": "stderr",
     "output_type": "stream",
     "text": [
      "\r",
      " 99%|█████████▉| 1792/1806 [00:34<00:00, 42.47it/s] "
     ]
    },
    {
     "name": "stdout",
     "output_type": "stream",
     "text": [
      "Done dt=2025-10-07/2025-10-07T010000.parquet\n"
     ]
    },
    {
     "name": "stderr",
     "output_type": "stream",
     "text": [
      "\r",
      " 99%|█████████▉| 1793/1806 [00:56<00:00, 20.85it/s]"
     ]
    },
    {
     "name": "stdout",
     "output_type": "stream",
     "text": [
      "Done dt=2025-10-07/2025-10-07T020000.parquet\n"
     ]
    },
    {
     "name": "stderr",
     "output_type": "stream",
     "text": [
      "\r",
      " 99%|█████████▉| 1794/1806 [01:16<00:00, 12.49it/s]"
     ]
    },
    {
     "name": "stdout",
     "output_type": "stream",
     "text": [
      "Done dt=2025-10-07/2025-10-07T030000.parquet\n"
     ]
    },
    {
     "name": "stderr",
     "output_type": "stream",
     "text": [
      "\r",
      " 99%|█████████▉| 1795/1806 [01:34<00:01,  8.19it/s]"
     ]
    },
    {
     "name": "stdout",
     "output_type": "stream",
     "text": [
      "Done dt=2025-10-07/2025-10-07T040000.parquet\n"
     ]
    },
    {
     "name": "stderr",
     "output_type": "stream",
     "text": [
      "\r",
      " 99%|█████████▉| 1796/1806 [01:48<00:01,  5.91it/s]"
     ]
    },
    {
     "name": "stdout",
     "output_type": "stream",
     "text": [
      "Done dt=2025-10-07/2025-10-07T050000.parquet\n"
     ]
    },
    {
     "name": "stderr",
     "output_type": "stream",
     "text": [
      "\r",
      "100%|█████████▉| 1797/1806 [02:03<00:02,  4.19it/s]"
     ]
    },
    {
     "name": "stdout",
     "output_type": "stream",
     "text": [
      "Done dt=2025-10-07/2025-10-07T060000.parquet\n"
     ]
    },
    {
     "name": "stderr",
     "output_type": "stream",
     "text": [
      "\r",
      "100%|█████████▉| 1798/1806 [02:20<00:02,  2.86it/s]"
     ]
    },
    {
     "name": "stdout",
     "output_type": "stream",
     "text": [
      "Done dt=2025-10-07/2025-10-07T070000.parquet\n"
     ]
    },
    {
     "name": "stderr",
     "output_type": "stream",
     "text": [
      "\r",
      "100%|█████████▉| 1799/1806 [02:45<00:04,  1.73it/s]"
     ]
    },
    {
     "name": "stdout",
     "output_type": "stream",
     "text": [
      "Done dt=2025-10-07/2025-10-07T080000.parquet\n"
     ]
    },
    {
     "name": "stderr",
     "output_type": "stream",
     "text": [
      "\r",
      "100%|█████████▉| 1800/1806 [03:05<00:05,  1.19it/s]"
     ]
    },
    {
     "name": "stdout",
     "output_type": "stream",
     "text": [
      "Done dt=2025-10-07/2025-10-07T090000.parquet\n"
     ]
    },
    {
     "name": "stderr",
     "output_type": "stream",
     "text": [
      "\r",
      "100%|█████████▉| 1801/1806 [03:23<00:05,  1.16s/it]"
     ]
    },
    {
     "name": "stdout",
     "output_type": "stream",
     "text": [
      "Done dt=2025-10-07/2025-10-07T100000.parquet\n"
     ]
    },
    {
     "name": "stderr",
     "output_type": "stream",
     "text": [
      "\r",
      "100%|█████████▉| 1802/1806 [03:43<00:06,  1.63s/it]"
     ]
    },
    {
     "name": "stdout",
     "output_type": "stream",
     "text": [
      "Done dt=2025-10-07/2025-10-07T110000.parquet\n"
     ]
    },
    {
     "name": "stderr",
     "output_type": "stream",
     "text": [
      "\r",
      "100%|█████████▉| 1803/1806 [04:02<00:06,  2.27s/it]"
     ]
    },
    {
     "name": "stdout",
     "output_type": "stream",
     "text": [
      "Done dt=2025-10-07/2025-10-07T120000.parquet\n"
     ]
    },
    {
     "name": "stderr",
     "output_type": "stream",
     "text": [
      "\r",
      "100%|█████████▉| 1804/1806 [04:31<00:07,  3.55s/it]"
     ]
    },
    {
     "name": "stdout",
     "output_type": "stream",
     "text": [
      "Done dt=2025-10-07/2025-10-07T130000.parquet\n"
     ]
    },
    {
     "name": "stderr",
     "output_type": "stream",
     "text": [
      "\r",
      "100%|█████████▉| 1805/1806 [04:48<00:04,  4.41s/it]"
     ]
    },
    {
     "name": "stdout",
     "output_type": "stream",
     "text": [
      "Done dt=2025-10-07/2025-10-07T140000.parquet\n"
     ]
    },
    {
     "name": "stderr",
     "output_type": "stream",
     "text": [
      "\r",
      "100%|██████████| 1806/1806 [04:58<00:00,  4.90s/it]"
     ]
    },
    {
     "name": "stderr",
     "output_type": "stream",
     "text": [
      "\r",
      "100%|██████████| 1806/1806 [04:58<00:00,  6.05it/s]"
     ]
    },
    {
     "name": "stdout",
     "output_type": "stream",
     "text": [
      "Done dt=2025-10-07/2025-10-07T150000.parquet\n"
     ]
    },
    {
     "name": "stderr",
     "output_type": "stream",
     "text": [
      "\n"
     ]
    }
   ],
   "source": [
    "process_path = f'{root}/process/adjust_live'\n",
    "os.makedirs(process_path, exist_ok=True)\n",
    "\n",
    "for ts, files in tqdm(groups.items()):\n",
    "    # if ts not in need_process:\n",
    "    #     continue\n",
    "    dt = ts[:10]                       # \"2025-06-25\" -> partition dt=...\n",
    "    # print(ts)\n",
    "    # break\n",
    "    if dt not in need_process:\n",
    "        continue\n",
    "    # break\n",
    "    partition_dir = os.path.join(process_path, f\"dt={dt}\")\n",
    "    os.makedirs(partition_dir, exist_ok=True)\n",
    "    out_file = os.path.join(partition_dir, f\"{ts}.parquet\")\n",
    "\n",
    "    dfs = []\n",
    "    for f in files:\n",
    "        df = (pl.scan_csv(f\"az://adjuststblive/{f}\",                             # eager\n",
    "                          storage_options=storage_options,\n",
    "                          has_header=True,\n",
    "                          null_values=[\"\", \"NULL\"],\n",
    "                          ignore_errors=True)       # rỗng → null\n",
    "                .select(pl.all().cast(pl.Utf8)))          # tất cả cột → string\n",
    "        dfs.append(df)\n",
    "\n",
    "    df_all = pl.concat(dfs, how=\"diagonal\")               # tự thêm null cột thiếu\n",
    "    df_all.sink_parquet(out_file, compression=\"snappy\")\n",
    "    print(f'Done dt={dt}/{ts}.parquet')"
   ]
  },
  {
   "cell_type": "code",
   "execution_count": 14,
   "id": "a66545ff",
   "metadata": {
    "execution": {
     "iopub.execute_input": "2025-10-07T16:50:13.875944Z",
     "iopub.status.busy": "2025-10-07T16:50:13.875689Z",
     "iopub.status.idle": "2025-10-07T16:50:42.224238Z",
     "shell.execute_reply": "2025-10-07T16:50:42.223688Z"
    },
    "id": "sBm7rfFUyePJ",
    "papermill": {
     "duration": 28.358611,
     "end_time": "2025-10-07T16:50:42.225106",
     "exception": false,
     "start_time": "2025-10-07T16:50:13.866495",
     "status": "completed"
    },
    "tags": []
   },
   "outputs": [
    {
     "name": "stderr",
     "output_type": "stream",
     "text": [
      "\r",
      "  0%|          | 0/1 [00:00<?, ?it/s]"
     ]
    },
    {
     "name": "stderr",
     "output_type": "stream",
     "text": [
      "\r",
      "100%|██████████| 1/1 [00:28<00:00, 28.34s/it]"
     ]
    },
    {
     "name": "stderr",
     "output_type": "stream",
     "text": [
      "\r",
      "100%|██████████| 1/1 [00:28<00:00, 28.34s/it]"
     ]
    },
    {
     "name": "stderr",
     "output_type": "stream",
     "text": [
      "\n"
     ]
    }
   ],
   "source": [
    "output_path = f'{root}/output/adjust_live'\n",
    "os.makedirs(output_path, exist_ok=True)\n",
    "for dt_folder in tqdm(glob.glob(os.path.join(process_path, \"dt=*\"))):\n",
    "    dt = os.path.basename(dt_folder)[3:]                 # \"2025-06-25\"\n",
    "    files_pq = glob.glob(os.path.join(dt_folder, \"*T*.parquet\"))\n",
    "    if not files_pq:\n",
    "        continue\n",
    "\n",
    "    out_path = os.path.join(output_path, f\"{dt}.parquet\")\n",
    "\n",
    "    # Nếu trước đó lỡ tạo cùng tên dưới dạng DIR → xoá\n",
    "    if os.path.isdir(out_path):\n",
    "        shutil.rmtree(out_path)\n",
    "\n",
    "    # ---------- ❶  Lazy scan tất cả Parquet ----------\n",
    "    lfs = [pl.scan_parquet(f) for f in files_pq]          # mỗi file → LazyFrame\n",
    "\n",
    "    # ---------- ❷  Concat diagonal + giữ schema linh hoạt ----------\n",
    "    lf_day = (\n",
    "        pl.concat(lfs, how=\"diagonal\")                    # tự thêm null cột thiếu\n",
    "        .select(pl.all().cast(pl.Utf8))                   # đảm bảo mọi cột = string\n",
    "        .with_columns(pl.lit(dt).alias(\"dt\"))             # thêm cột partition (tuỳ)\n",
    "    )\n",
    "\n",
    "    # ---------- ❸  Ghi duy nhất 1 Parquet ----------\n",
    "    lf_day.sink_parquet(out_path, compression=\"snappy\")"
   ]
  },
  {
   "cell_type": "code",
   "execution_count": 15,
   "id": "5b87953c",
   "metadata": {
    "execution": {
     "iopub.execute_input": "2025-10-07T16:50:42.318519Z",
     "iopub.status.busy": "2025-10-07T16:50:42.318283Z",
     "iopub.status.idle": "2025-10-07T16:54:44.954239Z",
     "shell.execute_reply": "2025-10-07T16:54:44.953637Z"
    },
    "id": "nkJnz3CeykiU",
    "papermill": {
     "duration": 242.720637,
     "end_time": "2025-10-07T16:54:44.955185",
     "exception": false,
     "start_time": "2025-10-07T16:50:42.234548",
     "status": "completed"
    },
    "tags": []
   },
   "outputs": [
    {
     "name": "stderr",
     "output_type": "stream",
     "text": [
      "\r",
      "0it [00:00, ?it/s]"
     ]
    },
    {
     "name": "stdout",
     "output_type": "stream",
     "text": [
      "Uploading /home/runner/work/ADJ_JOBS/ADJ_JOBS/process/adjust_uat/dt=2025-10-07/process/adjust_live/dt=2025-10-07/2025-10-07T060000.parquet to adjuststbuatprocessed/live/processing/dt=2025-10-07/2025-10-07T060000.parquet\n"
     ]
    },
    {
     "name": "stdout",
     "output_type": "stream",
     "text": [
      "Uploading /home/runner/work/ADJ_JOBS/ADJ_JOBS/process/adjust_uat/dt=2025-10-07/process/adjust_live/dt=2025-10-07/2025-10-07T050000.parquet to adjuststbuatprocessed/live/processing/dt=2025-10-07/2025-10-07T050000.parquet\n"
     ]
    },
    {
     "name": "stdout",
     "output_type": "stream",
     "text": [
      "Uploading /home/runner/work/ADJ_JOBS/ADJ_JOBS/process/adjust_uat/dt=2025-10-07/process/adjust_live/dt=2025-10-07/2025-10-07T090000.parquet to adjuststbuatprocessed/live/processing/dt=2025-10-07/2025-10-07T090000.parquet\n"
     ]
    },
    {
     "name": "stdout",
     "output_type": "stream",
     "text": [
      "Uploading /home/runner/work/ADJ_JOBS/ADJ_JOBS/process/adjust_uat/dt=2025-10-07/process/adjust_live/dt=2025-10-07/2025-10-07T040000.parquet to adjuststbuatprocessed/live/processing/dt=2025-10-07/2025-10-07T040000.parquet\n"
     ]
    },
    {
     "name": "stdout",
     "output_type": "stream",
     "text": [
      "Uploading /home/runner/work/ADJ_JOBS/ADJ_JOBS/process/adjust_uat/dt=2025-10-07/process/adjust_live/dt=2025-10-07/2025-10-07T020000.parquet to adjuststbuatprocessed/live/processing/dt=2025-10-07/2025-10-07T020000.parquet\n"
     ]
    },
    {
     "name": "stdout",
     "output_type": "stream",
     "text": [
      "Uploading /home/runner/work/ADJ_JOBS/ADJ_JOBS/process/adjust_uat/dt=2025-10-07/process/adjust_live/dt=2025-10-07/2025-10-07T130000.parquet to adjuststbuatprocessed/live/processing/dt=2025-10-07/2025-10-07T130000.parquet\n"
     ]
    },
    {
     "name": "stdout",
     "output_type": "stream",
     "text": [
      "Uploading /home/runner/work/ADJ_JOBS/ADJ_JOBS/process/adjust_uat/dt=2025-10-07/process/adjust_live/dt=2025-10-07/2025-10-07T070000.parquet to adjuststbuatprocessed/live/processing/dt=2025-10-07/2025-10-07T070000.parquet\n"
     ]
    },
    {
     "name": "stdout",
     "output_type": "stream",
     "text": [
      "Uploading /home/runner/work/ADJ_JOBS/ADJ_JOBS/process/adjust_uat/dt=2025-10-07/process/adjust_live/dt=2025-10-07/2025-10-07T110000.parquet to adjuststbuatprocessed/live/processing/dt=2025-10-07/2025-10-07T110000.parquet\n"
     ]
    },
    {
     "name": "stdout",
     "output_type": "stream",
     "text": [
      "Uploading /home/runner/work/ADJ_JOBS/ADJ_JOBS/process/adjust_uat/dt=2025-10-07/process/adjust_live/dt=2025-10-07/2025-10-07T150000.parquet to adjuststbuatprocessed/live/processing/dt=2025-10-07/2025-10-07T150000.parquet\n"
     ]
    },
    {
     "name": "stdout",
     "output_type": "stream",
     "text": [
      "Uploading /home/runner/work/ADJ_JOBS/ADJ_JOBS/process/adjust_uat/dt=2025-10-07/process/adjust_live/dt=2025-10-07/2025-10-07T100000.parquet to adjuststbuatprocessed/live/processing/dt=2025-10-07/2025-10-07T100000.parquet\n"
     ]
    },
    {
     "name": "stdout",
     "output_type": "stream",
     "text": [
      "Uploading /home/runner/work/ADJ_JOBS/ADJ_JOBS/process/adjust_uat/dt=2025-10-07/process/adjust_live/dt=2025-10-07/2025-10-07T010000.parquet to adjuststbuatprocessed/live/processing/dt=2025-10-07/2025-10-07T010000.parquet\n"
     ]
    },
    {
     "name": "stdout",
     "output_type": "stream",
     "text": [
      "Uploading /home/runner/work/ADJ_JOBS/ADJ_JOBS/process/adjust_uat/dt=2025-10-07/process/adjust_live/dt=2025-10-07/2025-10-07T030000.parquet to adjuststbuatprocessed/live/processing/dt=2025-10-07/2025-10-07T030000.parquet\n"
     ]
    },
    {
     "name": "stdout",
     "output_type": "stream",
     "text": [
      "Uploading /home/runner/work/ADJ_JOBS/ADJ_JOBS/process/adjust_uat/dt=2025-10-07/process/adjust_live/dt=2025-10-07/2025-10-07T000000.parquet to adjuststbuatprocessed/live/processing/dt=2025-10-07/2025-10-07T000000.parquet\n"
     ]
    },
    {
     "name": "stdout",
     "output_type": "stream",
     "text": [
      "Uploading /home/runner/work/ADJ_JOBS/ADJ_JOBS/process/adjust_uat/dt=2025-10-07/process/adjust_live/dt=2025-10-07/2025-10-07T080000.parquet to adjuststbuatprocessed/live/processing/dt=2025-10-07/2025-10-07T080000.parquet\n"
     ]
    },
    {
     "name": "stdout",
     "output_type": "stream",
     "text": [
      "Uploading /home/runner/work/ADJ_JOBS/ADJ_JOBS/process/adjust_uat/dt=2025-10-07/process/adjust_live/dt=2025-10-07/2025-10-07T120000.parquet to adjuststbuatprocessed/live/processing/dt=2025-10-07/2025-10-07T120000.parquet\n"
     ]
    },
    {
     "name": "stdout",
     "output_type": "stream",
     "text": [
      "Uploading /home/runner/work/ADJ_JOBS/ADJ_JOBS/process/adjust_uat/dt=2025-10-07/process/adjust_live/dt=2025-10-07/2025-10-07T140000.parquet to adjuststbuatprocessed/live/processing/dt=2025-10-07/2025-10-07T140000.parquet\n"
     ]
    },
    {
     "name": "stderr",
     "output_type": "stream",
     "text": [
      "\r",
      "2it [04:02, 121.31s/it]"
     ]
    },
    {
     "name": "stderr",
     "output_type": "stream",
     "text": [
      "\r",
      "2it [04:02, 121.31s/it]"
     ]
    },
    {
     "name": "stdout",
     "output_type": "stream",
     "text": [
      "\n",
      "Folder upload complete.\n"
     ]
    },
    {
     "name": "stderr",
     "output_type": "stream",
     "text": [
      "\n"
     ]
    }
   ],
   "source": [
    "\n",
    "local_folder_path = f\"{root}/process/adjust_live\"\n",
    "\n",
    "# Replace with the desired folder name in the Azure container\n",
    "azure_folder_name = \"live/processing\"\n",
    "\n",
    "# Iterate through files in the local folder and upload them\n",
    "for root, dirs, files in tqdm(os.walk(local_folder_path)):\n",
    "    for file in files:\n",
    "        # Construct the full local file path\n",
    "        local_file_path = os.path.join(root, file)\n",
    "\n",
    "        # Construct the blob name (path within the Azure container)\n",
    "        # This preserves the folder structure from the local path\n",
    "        relative_path = os.path.relpath(local_file_path, local_folder_path)\n",
    "        blob_name = os.path.join(azure_folder_name, relative_path)\n",
    "        # print(blob_name)\n",
    "        # Create a blob client for the current file\n",
    "        blob_client = container_client.get_blob_client(blob_name)\n",
    "\n",
    "        print(f\"Uploading {local_file_path} to {container_name}/{blob_name}\")\n",
    "\n",
    "#         # Upload the file\n",
    "        with open(local_file_path, \"rb\") as data:\n",
    "            blob_client.upload_blob(data, overwrite=True)\n",
    "\n",
    "print(\"\\nFolder upload complete.\")"
   ]
  },
  {
   "cell_type": "code",
   "execution_count": 16,
   "id": "f98cdd87",
   "metadata": {
    "execution": {
     "iopub.execute_input": "2025-10-07T16:54:44.976913Z",
     "iopub.status.busy": "2025-10-07T16:54:44.976649Z",
     "iopub.status.idle": "2025-10-07T16:54:44.983194Z",
     "shell.execute_reply": "2025-10-07T16:54:44.982673Z"
    },
    "id": "uJFbJAwtysuo",
    "papermill": {
     "duration": 0.018378,
     "end_time": "2025-10-07T16:54:44.983997",
     "exception": false,
     "start_time": "2025-10-07T16:54:44.965619",
     "status": "completed"
    },
    "tags": []
   },
   "outputs": [
    {
     "name": "stderr",
     "output_type": "stream",
     "text": [
      "\r",
      "0it [00:00, ?it/s]"
     ]
    },
    {
     "name": "stderr",
     "output_type": "stream",
     "text": [
      "\r",
      "0it [00:00, ?it/s]"
     ]
    },
    {
     "name": "stdout",
     "output_type": "stream",
     "text": [
      "\n",
      "Folder upload complete.\n"
     ]
    },
    {
     "name": "stderr",
     "output_type": "stream",
     "text": [
      "\n"
     ]
    }
   ],
   "source": [
    "local_folder_path = f\"{root}/output/adjust_live\"\n",
    "\n",
    "# Replace with the desired folder name in the Azure container\n",
    "azure_folder_name = \"live/output\"\n",
    "\n",
    "# Iterate through files in the local folder and upload them\n",
    "for root, dirs, files in tqdm(os.walk(local_folder_path)):\n",
    "    for file in files:\n",
    "        # Construct the full local file path\n",
    "        local_file_path = os.path.join(root, file)\n",
    "\n",
    "        # Construct the blob name (path within the Azure container)\n",
    "        # This preserves the folder structure from the local path\n",
    "        relative_path = os.path.relpath(local_file_path, local_folder_path)\n",
    "        blob_name = os.path.join(azure_folder_name, relative_path)\n",
    "        # print(blob_name)\n",
    "        # Create a blob client for the current file\n",
    "        blob_client = container_client.get_blob_client(blob_name)\n",
    "\n",
    "        print(f\"Uploading {local_file_path} to {container_name}/{blob_name}\")\n",
    "\n",
    "#         # Upload the file\n",
    "        with open(local_file_path, \"rb\") as data:\n",
    "            blob_client.upload_blob(data, overwrite=True)\n",
    "\n",
    "print(\"\\nFolder upload complete.\")"
   ]
  },
  {
   "cell_type": "code",
   "execution_count": 17,
   "id": "ffad38a9",
   "metadata": {
    "execution": {
     "iopub.execute_input": "2025-10-07T16:54:45.005896Z",
     "iopub.status.busy": "2025-10-07T16:54:45.005635Z",
     "iopub.status.idle": "2025-10-07T16:54:45.009429Z",
     "shell.execute_reply": "2025-10-07T16:54:45.008913Z"
    },
    "id": "dtaKWhzhyx3j",
    "papermill": {
     "duration": 0.015855,
     "end_time": "2025-10-07T16:54:45.010306",
     "exception": false,
     "start_time": "2025-10-07T16:54:44.994451",
     "status": "completed"
    },
    "tags": []
   },
   "outputs": [
    {
     "name": "stdout",
     "output_type": "stream",
     "text": [
      "Local folder not found: /home/runner/work/ADJ_JOBS/ADJ_JOBS/process/adjust_uat/dt=2025-10-07/process/adjust_live/dt=2025-10-07/process/adjust_live\n",
      "Local folder not found: /home/runner/work/ADJ_JOBS/ADJ_JOBS/process/adjust_uat/dt=2025-10-07/process/adjust_live/dt=2025-10-07/output/adjust_live\n"
     ]
    }
   ],
   "source": [
    "# Replace with the path to the local folder you want to delete\n",
    "local_folder_paths = [f\"{root}/process/adjust_live\",f\"{root}/output/adjust_live\"]\n",
    "# local_folder_path = f\"data/process/adjust_live\"\n",
    "for local_folder_path in local_folder_paths:\n",
    "    if os.path.exists(local_folder_path):\n",
    "        print(f\"Deleting local folder: {local_folder_path}\")\n",
    "        shutil.rmtree(local_folder_path)\n",
    "        print(\"Local folder deleted.\")\n",
    "    else:\n",
    "        print(f\"Local folder not found: {local_folder_path}\")"
   ]
  }
 ],
 "metadata": {
  "colab": {
   "authorship_tag": "ABX9TyMNL9iAxf3zZSw1o07sV5Qf",
   "include_colab_link": true,
   "provenance": []
  },
  "kernelspec": {
   "display_name": "Python 3",
   "name": "python3"
  },
  "language_info": {
   "codemirror_mode": {
    "name": "ipython",
    "version": 3
   },
   "file_extension": ".py",
   "mimetype": "text/x-python",
   "name": "python",
   "nbconvert_exporter": "python",
   "pygments_lexer": "ipython3",
   "version": "3.11.13"
  },
  "papermill": {
   "default_parameters": {},
   "duration": 759.072431,
   "end_time": "2025-10-07T16:54:45.637728",
   "environment_variables": {},
   "exception": null,
   "input_path": "notebooks/ADJUST_JOB.ipynb",
   "output_path": "outputs/ADJUST_JOB_2025-10-07.ipynb",
   "parameters": {
    "RUN_DATE": "2025-10-07"
   },
   "start_time": "2025-10-07T16:42:06.565297",
   "version": "2.6.0"
  }
 },
 "nbformat": 4,
 "nbformat_minor": 5
}