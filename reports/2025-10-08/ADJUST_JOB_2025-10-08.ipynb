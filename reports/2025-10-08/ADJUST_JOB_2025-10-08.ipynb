{
 "cells": [
  {
   "cell_type": "code",
   "execution_count": 1,
   "id": "cbef40b5",
   "metadata": {
    "execution": {
     "iopub.execute_input": "2025-10-08T07:57:28.033617Z",
     "iopub.status.busy": "2025-10-08T07:57:28.033390Z",
     "iopub.status.idle": "2025-10-08T07:57:28.038553Z",
     "shell.execute_reply": "2025-10-08T07:57:28.037998Z"
    },
    "papermill": {
     "duration": 0.010455,
     "end_time": "2025-10-08T07:57:28.039490",
     "exception": false,
     "start_time": "2025-10-08T07:57:28.029035",
     "status": "completed"
    },
    "tags": [
     "injected-parameters"
    ]
   },
   "outputs": [],
   "source": [
    "# Parameters\n",
    "RUN_DATE = \"2025-10-08\"\n"
   ]
  },
  {
   "cell_type": "markdown",
   "id": "831da1bd",
   "metadata": {
    "colab_type": "text",
    "id": "view-in-github",
    "papermill": {
     "duration": 0.00173,
     "end_time": "2025-10-08T07:57:28.043177",
     "exception": false,
     "start_time": "2025-10-08T07:57:28.041447",
     "status": "completed"
    },
    "tags": []
   },
   "source": [
    "<a href=\"https://colab.research.google.com/github/HieuNguyenPhi/ADJ_JOBS/blob/main/notebooks/ADJUST_JOB.ipynb\" target=\"_parent\"><img src=\"https://colab.research.google.com/assets/colab-badge.svg\" alt=\"Open In Colab\"/></a>"
   ]
  },
  {
   "cell_type": "markdown",
   "id": "1c696d6f",
   "metadata": {
    "papermill": {
     "duration": 0.0016,
     "end_time": "2025-10-08T07:57:28.046399",
     "exception": false,
     "start_time": "2025-10-08T07:57:28.044799",
     "status": "completed"
    },
    "tags": []
   },
   "source": [
    "# UAT"
   ]
  },
  {
   "cell_type": "code",
   "execution_count": 2,
   "id": "cfa25997",
   "metadata": {
    "execution": {
     "iopub.execute_input": "2025-10-08T07:57:28.050296Z",
     "iopub.status.busy": "2025-10-08T07:57:28.050138Z",
     "iopub.status.idle": "2025-10-08T07:57:34.530119Z",
     "shell.execute_reply": "2025-10-08T07:57:34.529502Z"
    },
    "id": "ycUR2r1dq1Nm",
    "papermill": {
     "duration": 6.483095,
     "end_time": "2025-10-08T07:57:34.531122",
     "exception": false,
     "start_time": "2025-10-08T07:57:28.048027",
     "status": "completed"
    },
    "tags": []
   },
   "outputs": [
    {
     "data": {
      "text/plain": [
       "['2025-10-04', '2025-10-05', '2025-10-06', '2025-10-07', '2025-10-08']"
      ]
     },
     "execution_count": 2,
     "metadata": {},
     "output_type": "execute_result"
    }
   ],
   "source": [
    "import os\n",
    "from azure.storage.blob import BlobServiceClient\n",
    "\n",
    "account_name = os.getenv('ACCOUNT_NAME')\n",
    "account_key = os.getenv('ACCOUNT_KEY')\n",
    "# Replace with your Azure Storage account name and SAS token or connection string\n",
    "connect_str = f\"DefaultEndpointsProtocol=https;AccountName={account_name};AccountKey={account_key};EndpointSuffix=core.windows.net\"\n",
    "blob_service_client = BlobServiceClient.from_connection_string(connect_str)\n",
    "container_list = blob_service_client.list_containers()\n",
    "container_name = \"adjuststbuatprocessed\" #os.getenv('CONTAINER_NAME')\n",
    "container_client = blob_service_client.get_container_client(container_name)\n",
    "already_processed = [file.name.split('/')[1].split('.')[0] for file in container_client.list_blobs() if file.name.split('/')[0] == 'output']\n",
    "already_processed[-5:]"
   ]
  },
  {
   "cell_type": "code",
   "execution_count": 3,
   "id": "15fe7e77",
   "metadata": {
    "execution": {
     "iopub.execute_input": "2025-10-08T07:57:34.536916Z",
     "iopub.status.busy": "2025-10-08T07:57:34.536673Z",
     "iopub.status.idle": "2025-10-08T07:57:34.869195Z",
     "shell.execute_reply": "2025-10-08T07:57:34.868572Z"
    },
    "id": "UvcDO8k7s0Jz",
    "papermill": {
     "duration": 0.33595,
     "end_time": "2025-10-08T07:57:34.870142",
     "exception": false,
     "start_time": "2025-10-08T07:57:34.534192",
     "status": "completed"
    },
    "tags": []
   },
   "outputs": [
    {
     "data": {
      "text/plain": [
       "['2025-10-08']"
      ]
     },
     "execution_count": 3,
     "metadata": {},
     "output_type": "execute_result"
    }
   ],
   "source": [
    "from datetime import date\n",
    "import pandas as pd\n",
    "today = date.today().strftime('%Y-%m-%d')\n",
    "need_process = pd.date_range(start=already_processed[-1], end=today).strftime('%Y-%m-%d').to_list()\n",
    "need_process"
   ]
  },
  {
   "cell_type": "code",
   "execution_count": 4,
   "id": "b2d06e62",
   "metadata": {
    "execution": {
     "iopub.execute_input": "2025-10-08T07:57:34.875128Z",
     "iopub.status.busy": "2025-10-08T07:57:34.874860Z",
     "iopub.status.idle": "2025-10-08T07:57:42.993444Z",
     "shell.execute_reply": "2025-10-08T07:57:42.992926Z"
    },
    "id": "xyPuVC12s7fn",
    "papermill": {
     "duration": 8.121985,
     "end_time": "2025-10-08T07:57:42.994335",
     "exception": false,
     "start_time": "2025-10-08T07:57:34.872350",
     "status": "completed"
    },
    "tags": []
   },
   "outputs": [
    {
     "data": {
      "text/plain": [
       "['rsh20bkkb4zk_2025-10-08T060000_762c775ae454d23f2c6b6a75623d14c7_2853a0.csv.gz',\n",
       " 'rsh20bkkb4zk_2025-10-08T060000_762c775ae454d23f2c6b6a75623d14c7_2853a1.csv.gz',\n",
       " 'rsh20bkkb4zk_2025-10-08T060000_762c775ae454d23f2c6b6a75623d14c7_be8220.csv.gz',\n",
       " 'rsh20bkkb4zk_2025-10-08T060000_762c775ae454d23f2c6b6a75623d14c7_be8221.csv.gz',\n",
       " 'rsh20bkkb4zk_2025-10-08T060000_762c775ae454d23f2c6b6a75623d14c7_c35750.csv.gz',\n",
       " 'rsh20bkkb4zk_2025-10-08T060000_762c775ae454d23f2c6b6a75623d14c7_c35751.csv.gz']"
      ]
     },
     "execution_count": 4,
     "metadata": {},
     "output_type": "execute_result"
    }
   ],
   "source": [
    "container_name_uat = \"adjuststbuat\"\n",
    "container_client_uat = blob_service_client.get_container_client(container_name_uat)\n",
    "from collections import defaultdict\n",
    "files = [i.name for i in container_client_uat.list_blobs()]\n",
    "groups = defaultdict(list)\n",
    "for f in files:\n",
    "    dt = f.split('_')[1]\n",
    "    groups[dt].append(f)\n",
    "groups[dt]"
   ]
  },
  {
   "cell_type": "code",
   "execution_count": 5,
   "id": "1059d2a7",
   "metadata": {
    "execution": {
     "iopub.execute_input": "2025-10-08T07:57:42.999486Z",
     "iopub.status.busy": "2025-10-08T07:57:42.999321Z",
     "iopub.status.idle": "2025-10-08T07:58:44.172042Z",
     "shell.execute_reply": "2025-10-08T07:58:44.171436Z"
    },
    "papermill": {
     "duration": 61.178602,
     "end_time": "2025-10-08T07:58:44.175235",
     "exception": false,
     "start_time": "2025-10-08T07:57:42.996633",
     "status": "completed"
    },
    "tags": []
   },
   "outputs": [
    {
     "name": "stderr",
     "output_type": "stream",
     "text": [
      "\r",
      "  0%|          | 0/1840 [00:00<?, ?it/s]"
     ]
    },
    {
     "name": "stderr",
     "output_type": "stream",
     "text": [
      "\r",
      "100%|█████████▉| 1834/1840 [00:10<00:00, 174.20it/s]"
     ]
    },
    {
     "name": "stdout",
     "output_type": "stream",
     "text": [
      "Done dt=2025-10-08/2025-10-08T000000.parquet\n"
     ]
    },
    {
     "name": "stdout",
     "output_type": "stream",
     "text": [
      "Done dt=2025-10-08/2025-10-08T010000.parquet\n"
     ]
    },
    {
     "name": "stdout",
     "output_type": "stream",
     "text": [
      "Done dt=2025-10-08/2025-10-08T020000.parquet\n"
     ]
    },
    {
     "name": "stderr",
     "output_type": "stream",
     "text": [
      "\r",
      "100%|█████████▉| 1834/1840 [00:29<00:00, 174.20it/s]"
     ]
    },
    {
     "name": "stderr",
     "output_type": "stream",
     "text": [
      "\r",
      "100%|█████████▉| 1837/1840 [00:36<00:00, 38.88it/s] "
     ]
    },
    {
     "name": "stdout",
     "output_type": "stream",
     "text": [
      "Done dt=2025-10-08/2025-10-08T030000.parquet\n"
     ]
    },
    {
     "name": "stderr",
     "output_type": "stream",
     "text": [
      "\r",
      "100%|█████████▉| 1838/1840 [00:44<00:00, 28.67it/s]"
     ]
    },
    {
     "name": "stdout",
     "output_type": "stream",
     "text": [
      "Done dt=2025-10-08/2025-10-08T040000.parquet\n"
     ]
    },
    {
     "name": "stderr",
     "output_type": "stream",
     "text": [
      "\r",
      "100%|█████████▉| 1839/1840 [00:52<00:00, 20.83it/s]"
     ]
    },
    {
     "name": "stdout",
     "output_type": "stream",
     "text": [
      "Done dt=2025-10-08/2025-10-08T050000.parquet\n"
     ]
    },
    {
     "name": "stderr",
     "output_type": "stream",
     "text": [
      "\r",
      "100%|██████████| 1840/1840 [01:01<00:00, 15.05it/s]"
     ]
    },
    {
     "name": "stderr",
     "output_type": "stream",
     "text": [
      "\r",
      "100%|██████████| 1840/1840 [01:01<00:00, 30.12it/s]"
     ]
    },
    {
     "name": "stdout",
     "output_type": "stream",
     "text": [
      "Done dt=2025-10-08/2025-10-08T060000.parquet\n"
     ]
    },
    {
     "name": "stderr",
     "output_type": "stream",
     "text": [
      "\n"
     ]
    }
   ],
   "source": [
    "import polars as pl \n",
    "from tqdm import tqdm\n",
    "storage_options = {\n",
    "    \"account_name\": account_name,\n",
    "    \"account_key\":  account_key,\n",
    "}\n",
    "\n",
    "for ts, files in tqdm(groups.items()):\n",
    "    dt = ts[:10]\n",
    "    if dt not in need_process:\n",
    "        continue\n",
    "    df = pl.scan_csv(f\"az://adjuststbuat/*_{ts}_*.csv.gz\", storage_options = storage_options,glob=True, has_header = True, null_values = [\"\",\"NULL\"], ignore_errors=True).select(pl.all().cast(pl.Utf8))\n",
    "    df.sink_parquet(f\"az://adjuststbuatprocessed/processing/dt={dt}/{ts}.parquet\", storage_options = storage_options, compression=\"snappy\")\n",
    "    print(f'Done dt={dt}/{ts}.parquet')\n",
    "        "
   ]
  },
  {
   "cell_type": "code",
   "execution_count": 6,
   "id": "9ee2e5a5",
   "metadata": {
    "execution": {
     "iopub.execute_input": "2025-10-08T07:58:44.181310Z",
     "iopub.status.busy": "2025-10-08T07:58:44.181065Z",
     "iopub.status.idle": "2025-10-08T07:58:47.912446Z",
     "shell.execute_reply": "2025-10-08T07:58:47.911837Z"
    },
    "papermill": {
     "duration": 3.735366,
     "end_time": "2025-10-08T07:58:47.913305",
     "exception": false,
     "start_time": "2025-10-08T07:58:44.177939",
     "status": "completed"
    },
    "tags": []
   },
   "outputs": [
    {
     "name": "stdout",
     "output_type": "stream",
     "text": [
      "\n",
      " Done 2025-10-08\n",
      "\n"
     ]
    }
   ],
   "source": [
    "for dt in need_process:\n",
    "  df = pl.scan_parquet(f\"az://adjuststbuatprocessed/processing/dt={dt}/*.parquet\", storage_options=storage_options,glob=True).with_columns(pl.lit(dt).alias(\"dt\"))\n",
    "  df.sink_parquet(f\"az://adjuststbuatprocessed/output/{dt}.parquet\", storage_options=storage_options, compression=\"snappy\")\n",
    "  print(f'\\n Done {dt}\\n')"
   ]
  },
  {
   "cell_type": "markdown",
   "id": "a7698877",
   "metadata": {
    "id": "2TvKr29qyJd_",
    "papermill": {
     "duration": 0.002602,
     "end_time": "2025-10-08T07:58:47.918900",
     "exception": false,
     "start_time": "2025-10-08T07:58:47.916298",
     "status": "completed"
    },
    "tags": []
   },
   "source": [
    "# Live"
   ]
  },
  {
   "cell_type": "code",
   "execution_count": 7,
   "id": "bcdace2c",
   "metadata": {
    "execution": {
     "iopub.execute_input": "2025-10-08T07:58:47.924818Z",
     "iopub.status.busy": "2025-10-08T07:58:47.924607Z",
     "iopub.status.idle": "2025-10-08T07:58:52.013307Z",
     "shell.execute_reply": "2025-10-08T07:58:52.012687Z"
    },
    "id": "EnaFsdZFxpwc",
    "papermill": {
     "duration": 4.092766,
     "end_time": "2025-10-08T07:58:52.014274",
     "exception": false,
     "start_time": "2025-10-08T07:58:47.921508",
     "status": "completed"
    },
    "tags": []
   },
   "outputs": [
    {
     "data": {
      "text/plain": [
       "['2025-10-04', '2025-10-05', '2025-10-06', '2025-10-07', '2025-10-08']"
      ]
     },
     "execution_count": 7,
     "metadata": {},
     "output_type": "execute_result"
    }
   ],
   "source": [
    "already_processed = [file.name.split('/')[-1].split('.')[0] for file in container_client.list_blobs() if file.name[:12] == 'live/output/']\n",
    "already_processed[-5:]"
   ]
  },
  {
   "cell_type": "code",
   "execution_count": 8,
   "id": "41a8daaa",
   "metadata": {
    "execution": {
     "iopub.execute_input": "2025-10-08T07:58:52.020760Z",
     "iopub.status.busy": "2025-10-08T07:58:52.020548Z",
     "iopub.status.idle": "2025-10-08T07:58:52.024989Z",
     "shell.execute_reply": "2025-10-08T07:58:52.024553Z"
    },
    "id": "aHveM3L5yNix",
    "papermill": {
     "duration": 0.0086,
     "end_time": "2025-10-08T07:58:52.025892",
     "exception": false,
     "start_time": "2025-10-08T07:58:52.017292",
     "status": "completed"
    },
    "tags": []
   },
   "outputs": [
    {
     "data": {
      "text/plain": [
       "['2025-10-08']"
      ]
     },
     "execution_count": 8,
     "metadata": {},
     "output_type": "execute_result"
    }
   ],
   "source": [
    "need_process = pd.date_range(start=already_processed[-1], end=today).strftime('%Y-%m-%d').to_list()\n",
    "need_process"
   ]
  },
  {
   "cell_type": "code",
   "execution_count": 9,
   "id": "05375ae3",
   "metadata": {
    "execution": {
     "iopub.execute_input": "2025-10-08T07:58:52.032181Z",
     "iopub.status.busy": "2025-10-08T07:58:52.032004Z",
     "iopub.status.idle": "2025-10-08T07:59:03.364242Z",
     "shell.execute_reply": "2025-10-08T07:59:03.363764Z"
    },
    "id": "I7Er6YEUyOsL",
    "papermill": {
     "duration": 11.336274,
     "end_time": "2025-10-08T07:59:03.365052",
     "exception": false,
     "start_time": "2025-10-08T07:58:52.028778",
     "status": "completed"
    },
    "tags": []
   },
   "outputs": [
    {
     "data": {
      "text/plain": [
       "['65n1fgov4zr4_2025-10-08T060000_762c775ae454d23f2c6b6a75623d14c7_2853a0.csv.gz',\n",
       " '65n1fgov4zr4_2025-10-08T060000_762c775ae454d23f2c6b6a75623d14c7_2853a1.csv.gz',\n",
       " '65n1fgov4zr4_2025-10-08T060000_762c775ae454d23f2c6b6a75623d14c7_be8220.csv.gz',\n",
       " '65n1fgov4zr4_2025-10-08T060000_762c775ae454d23f2c6b6a75623d14c7_be8221.csv.gz',\n",
       " '65n1fgov4zr4_2025-10-08T060000_762c775ae454d23f2c6b6a75623d14c7_c35750.csv.gz',\n",
       " '65n1fgov4zr4_2025-10-08T060000_762c775ae454d23f2c6b6a75623d14c7_c35751.csv.gz']"
      ]
     },
     "execution_count": 9,
     "metadata": {},
     "output_type": "execute_result"
    }
   ],
   "source": [
    "container_name_uat = \"adjuststblive\"\n",
    "container_client_uat = blob_service_client.get_container_client(container_name_uat)\n",
    "from collections import defaultdict\n",
    "files = [i.name for i in container_client_uat.list_blobs()]\n",
    "groups = defaultdict(list)\n",
    "for f in files:\n",
    "    dt = f.split('_')[1]\n",
    "    groups[dt].append(f)\n",
    "groups[dt]"
   ]
  },
  {
   "cell_type": "code",
   "execution_count": 10,
   "id": "29d65e70",
   "metadata": {
    "execution": {
     "iopub.execute_input": "2025-10-08T07:59:03.371930Z",
     "iopub.status.busy": "2025-10-08T07:59:03.371754Z",
     "iopub.status.idle": "2025-10-08T08:03:58.942183Z",
     "shell.execute_reply": "2025-10-08T08:03:58.941649Z"
    },
    "id": "g-W3s2nRyRY7",
    "papermill": {
     "duration": 295.578398,
     "end_time": "2025-10-08T08:03:58.946665",
     "exception": false,
     "start_time": "2025-10-08T07:59:03.368267",
     "status": "completed"
    },
    "tags": []
   },
   "outputs": [
    {
     "name": "stderr",
     "output_type": "stream",
     "text": [
      "\r",
      "  0%|          | 0/1821 [00:00<?, ?it/s]"
     ]
    },
    {
     "name": "stderr",
     "output_type": "stream",
     "text": [
      "\r",
      "100%|█████████▉| 1815/1821 [00:27<00:00, 65.38it/s]"
     ]
    },
    {
     "name": "stdout",
     "output_type": "stream",
     "text": [
      "Done dt=2025-10-08/2025-10-08T000000.parquet\n"
     ]
    },
    {
     "name": "stderr",
     "output_type": "stream",
     "text": [
      "\r",
      "100%|█████████▉| 1815/1821 [00:39<00:00, 65.38it/s]"
     ]
    },
    {
     "name": "stderr",
     "output_type": "stream",
     "text": [
      "\r",
      "100%|█████████▉| 1816/1821 [00:50<00:00, 29.82it/s]"
     ]
    },
    {
     "name": "stdout",
     "output_type": "stream",
     "text": [
      "Done dt=2025-10-08/2025-10-08T010000.parquet\n"
     ]
    },
    {
     "name": "stderr",
     "output_type": "stream",
     "text": [
      "\r",
      "100%|█████████▉| 1817/1821 [01:22<00:00, 14.50it/s]"
     ]
    },
    {
     "name": "stdout",
     "output_type": "stream",
     "text": [
      "Done dt=2025-10-08/2025-10-08T020000.parquet\n"
     ]
    },
    {
     "name": "stderr",
     "output_type": "stream",
     "text": [
      "\r",
      "100%|█████████▉| 1818/1821 [02:10<00:00,  6.89it/s]"
     ]
    },
    {
     "name": "stdout",
     "output_type": "stream",
     "text": [
      "Done dt=2025-10-08/2025-10-08T030000.parquet\n"
     ]
    },
    {
     "name": "stderr",
     "output_type": "stream",
     "text": [
      "\r",
      "100%|█████████▉| 1819/1821 [03:04<00:00,  3.72it/s]"
     ]
    },
    {
     "name": "stdout",
     "output_type": "stream",
     "text": [
      "Done dt=2025-10-08/2025-10-08T040000.parquet\n"
     ]
    },
    {
     "name": "stderr",
     "output_type": "stream",
     "text": [
      "\r",
      "100%|█████████▉| 1820/1821 [03:54<00:00,  2.33it/s]"
     ]
    },
    {
     "name": "stdout",
     "output_type": "stream",
     "text": [
      "Done dt=2025-10-08/2025-10-08T050000.parquet\n"
     ]
    },
    {
     "name": "stderr",
     "output_type": "stream",
     "text": [
      "\r",
      "100%|██████████| 1821/1821 [04:55<00:00,  1.41it/s]"
     ]
    },
    {
     "name": "stderr",
     "output_type": "stream",
     "text": [
      "\r",
      "100%|██████████| 1821/1821 [04:55<00:00,  6.16it/s]"
     ]
    },
    {
     "name": "stdout",
     "output_type": "stream",
     "text": [
      "Done dt=2025-10-08/2025-10-08T060000.parquet\n"
     ]
    },
    {
     "name": "stderr",
     "output_type": "stream",
     "text": [
      "\n"
     ]
    }
   ],
   "source": [
    "storage_options = {\n",
    "    \"account_name\": account_name,\n",
    "    \"account_key\":  account_key,\n",
    "}\n",
    "\n",
    "for ts, files in tqdm(groups.items()):\n",
    "    dt = ts[:10]\n",
    "    if dt not in need_process:\n",
    "        continue\n",
    "    df = pl.scan_csv(f\"az://adjuststblive/*_{ts}_*.csv.gz\", storage_options = storage_options,glob=True, has_header = True, null_values = [\"\",\"NULL\"], ignore_errors=True).select(pl.all().cast(pl.Utf8))\n",
    "    df.sink_parquet(f\"az://adjuststbuatprocessed/live/processing/dt={dt}/{ts}.parquet\", storage_options = storage_options, compression=\"snappy\")\n",
    "    print(f'Done dt={dt}/{ts}.parquet')\n",
    "        "
   ]
  },
  {
   "cell_type": "code",
   "execution_count": 11,
   "id": "bff547ac",
   "metadata": {
    "execution": {
     "iopub.execute_input": "2025-10-08T08:03:58.954859Z",
     "iopub.status.busy": "2025-10-08T08:03:58.954668Z",
     "iopub.status.idle": "2025-10-08T08:04:58.887119Z",
     "shell.execute_reply": "2025-10-08T08:04:58.886507Z"
    },
    "id": "sBm7rfFUyePJ",
    "papermill": {
     "duration": 59.940493,
     "end_time": "2025-10-08T08:04:58.890929",
     "exception": false,
     "start_time": "2025-10-08T08:03:58.950436",
     "status": "completed"
    },
    "tags": []
   },
   "outputs": [
    {
     "name": "stdout",
     "output_type": "stream",
     "text": [
      "\n",
      " Done 2025-10-08\n",
      "\n"
     ]
    }
   ],
   "source": [
    "for dt in need_process:\n",
    "  df = pl.scan_parquet(f\"az://adjuststbuatprocessed/live/processing/dt={dt}/*.parquet\", storage_options=storage_options,glob=True).with_columns(pl.lit(dt).alias(\"dt\"))\n",
    "  df.sink_parquet(f\"az://adjuststbuatprocessed/live/output/{dt}.parquet\", storage_options=storage_options, compression=\"snappy\")\n",
    "  print(f'\\n Done {dt}\\n')"
   ]
  }
 ],
 "metadata": {
  "colab": {
   "authorship_tag": "ABX9TyOfzO6uvqUX+Tt89Y73G9E8",
   "include_colab_link": true,
   "provenance": []
  },
  "kernelspec": {
   "display_name": "Python 3",
   "name": "python3"
  },
  "language_info": {
   "codemirror_mode": {
    "name": "ipython",
    "version": 3
   },
   "file_extension": ".py",
   "mimetype": "text/x-python",
   "name": "python",
   "nbconvert_exporter": "python",
   "pygments_lexer": "ipython3",
   "version": "3.11.13"
  },
  "papermill": {
   "default_parameters": {},
   "duration": 453.264278,
   "end_time": "2025-10-08T08:04:59.510767",
   "environment_variables": {},
   "exception": null,
   "input_path": "notebooks/ADJUST_JOB.ipynb",
   "output_path": "outputs/ADJUST_JOB_2025-10-08.ipynb",
   "parameters": {
    "RUN_DATE": "2025-10-08"
   },
   "start_time": "2025-10-08T07:57:26.246489",
   "version": "2.6.0"
  }
 },
 "nbformat": 4,
 "nbformat_minor": 5
}