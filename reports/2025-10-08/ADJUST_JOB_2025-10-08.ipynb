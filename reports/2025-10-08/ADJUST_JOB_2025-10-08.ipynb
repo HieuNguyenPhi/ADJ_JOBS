{
 "cells": [
  {
   "cell_type": "code",
   "execution_count": 1,
   "id": "eceda1c2",
   "metadata": {
    "execution": {
     "iopub.execute_input": "2025-10-08T07:38:00.459746Z",
     "iopub.status.busy": "2025-10-08T07:38:00.459463Z",
     "iopub.status.idle": "2025-10-08T07:38:00.464791Z",
     "shell.execute_reply": "2025-10-08T07:38:00.464297Z"
    },
    "papermill": {
     "duration": 0.010383,
     "end_time": "2025-10-08T07:38:00.465740",
     "exception": false,
     "start_time": "2025-10-08T07:38:00.455357",
     "status": "completed"
    },
    "tags": [
     "injected-parameters"
    ]
   },
   "outputs": [],
   "source": [
    "# Parameters\n",
    "RUN_DATE = \"2025-10-08\"\n"
   ]
  },
  {
   "cell_type": "markdown",
   "id": "b1673546",
   "metadata": {
    "colab_type": "text",
    "id": "view-in-github",
    "papermill": {
     "duration": 0.002692,
     "end_time": "2025-10-08T07:38:00.471643",
     "exception": false,
     "start_time": "2025-10-08T07:38:00.468951",
     "status": "completed"
    },
    "tags": []
   },
   "source": [
    "<a href=\"https://colab.research.google.com/github/HieuNguyenPhi/ADJ_JOBS/blob/main/notebooks/ADJUST_JOB.ipynb\" target=\"_parent\"><img src=\"https://colab.research.google.com/assets/colab-badge.svg\" alt=\"Open In Colab\"/></a>"
   ]
  },
  {
   "cell_type": "markdown",
   "id": "44b92a30",
   "metadata": {
    "papermill": {
     "duration": 0.002507,
     "end_time": "2025-10-08T07:38:00.476845",
     "exception": false,
     "start_time": "2025-10-08T07:38:00.474338",
     "status": "completed"
    },
    "tags": []
   },
   "source": [
    "# UAT"
   ]
  },
  {
   "cell_type": "code",
   "execution_count": 2,
   "id": "386643f6",
   "metadata": {
    "execution": {
     "iopub.execute_input": "2025-10-08T07:38:00.484113Z",
     "iopub.status.busy": "2025-10-08T07:38:00.483879Z",
     "iopub.status.idle": "2025-10-08T07:38:07.418531Z",
     "shell.execute_reply": "2025-10-08T07:38:07.417917Z"
    },
    "id": "ycUR2r1dq1Nm",
    "papermill": {
     "duration": 6.939037,
     "end_time": "2025-10-08T07:38:07.419499",
     "exception": false,
     "start_time": "2025-10-08T07:38:00.480462",
     "status": "completed"
    },
    "tags": []
   },
   "outputs": [
    {
     "data": {
      "text/plain": [
       "['2025-10-04', '2025-10-05', '2025-10-06', '2025-10-07', '2025-10-08']"
      ]
     },
     "execution_count": 2,
     "metadata": {},
     "output_type": "execute_result"
    }
   ],
   "source": [
    "import os\n",
    "from azure.storage.blob import BlobServiceClient\n",
    "\n",
    "account_name = os.getenv('ACCOUNT_NAME')\n",
    "account_key = os.getenv('ACCOUNT_KEY')\n",
    "# Replace with your Azure Storage account name and SAS token or connection string\n",
    "connect_str = f\"DefaultEndpointsProtocol=https;AccountName={account_name};AccountKey={account_key};EndpointSuffix=core.windows.net\"\n",
    "blob_service_client = BlobServiceClient.from_connection_string(connect_str)\n",
    "container_list = blob_service_client.list_containers()\n",
    "container_name = \"adjuststbuatprocessed\" #os.getenv('CONTAINER_NAME')\n",
    "container_client = blob_service_client.get_container_client(container_name)\n",
    "already_processed = [file.name.split('/')[1].split('.')[0] for file in container_client.list_blobs() if file.name.split('/')[0] == 'output']\n",
    "already_processed[-5:]"
   ]
  },
  {
   "cell_type": "code",
   "execution_count": 3,
   "id": "26da9b9e",
   "metadata": {
    "execution": {
     "iopub.execute_input": "2025-10-08T07:38:07.426859Z",
     "iopub.status.busy": "2025-10-08T07:38:07.426556Z",
     "iopub.status.idle": "2025-10-08T07:38:07.916501Z",
     "shell.execute_reply": "2025-10-08T07:38:07.915845Z"
    },
    "id": "UvcDO8k7s0Jz",
    "papermill": {
     "duration": 0.494384,
     "end_time": "2025-10-08T07:38:07.917523",
     "exception": false,
     "start_time": "2025-10-08T07:38:07.423139",
     "status": "completed"
    },
    "tags": []
   },
   "outputs": [
    {
     "data": {
      "text/plain": [
       "['2025-10-08']"
      ]
     },
     "execution_count": 3,
     "metadata": {},
     "output_type": "execute_result"
    }
   ],
   "source": [
    "from datetime import date\n",
    "import pandas as pd\n",
    "today = date.today().strftime('%Y-%m-%d')\n",
    "need_process = pd.date_range(start=already_processed[-1], end=today).strftime('%Y-%m-%d').to_list()\n",
    "need_process"
   ]
  },
  {
   "cell_type": "code",
   "execution_count": 4,
   "id": "09d4ddcd",
   "metadata": {
    "execution": {
     "iopub.execute_input": "2025-10-08T07:38:07.924930Z",
     "iopub.status.busy": "2025-10-08T07:38:07.924596Z",
     "iopub.status.idle": "2025-10-08T07:38:16.621808Z",
     "shell.execute_reply": "2025-10-08T07:38:16.621294Z"
    },
    "id": "xyPuVC12s7fn",
    "papermill": {
     "duration": 8.701728,
     "end_time": "2025-10-08T07:38:16.622704",
     "exception": false,
     "start_time": "2025-10-08T07:38:07.920976",
     "status": "completed"
    },
    "tags": []
   },
   "outputs": [
    {
     "data": {
      "text/plain": [
       "['rsh20bkkb4zk_2025-10-08T060000_762c775ae454d23f2c6b6a75623d14c7_2853a0.csv.gz',\n",
       " 'rsh20bkkb4zk_2025-10-08T060000_762c775ae454d23f2c6b6a75623d14c7_2853a1.csv.gz',\n",
       " 'rsh20bkkb4zk_2025-10-08T060000_762c775ae454d23f2c6b6a75623d14c7_be8220.csv.gz',\n",
       " 'rsh20bkkb4zk_2025-10-08T060000_762c775ae454d23f2c6b6a75623d14c7_be8221.csv.gz',\n",
       " 'rsh20bkkb4zk_2025-10-08T060000_762c775ae454d23f2c6b6a75623d14c7_c35750.csv.gz',\n",
       " 'rsh20bkkb4zk_2025-10-08T060000_762c775ae454d23f2c6b6a75623d14c7_c35751.csv.gz']"
      ]
     },
     "execution_count": 4,
     "metadata": {},
     "output_type": "execute_result"
    }
   ],
   "source": [
    "container_name_uat = \"adjuststbuat\"\n",
    "container_client_uat = blob_service_client.get_container_client(container_name_uat)\n",
    "from collections import defaultdict\n",
    "files = [i.name for i in container_client_uat.list_blobs()]\n",
    "groups = defaultdict(list)\n",
    "for f in files:\n",
    "    dt = f.split('_')[1]\n",
    "    groups[dt].append(f)\n",
    "groups[dt]"
   ]
  },
  {
   "cell_type": "code",
   "execution_count": 5,
   "id": "079dd8d9",
   "metadata": {
    "execution": {
     "iopub.execute_input": "2025-10-08T07:38:16.629794Z",
     "iopub.status.busy": "2025-10-08T07:38:16.629569Z",
     "iopub.status.idle": "2025-10-08T07:39:26.515482Z",
     "shell.execute_reply": "2025-10-08T07:39:26.514776Z"
    },
    "papermill": {
     "duration": 69.890318,
     "end_time": "2025-10-08T07:39:26.516304",
     "exception": false,
     "start_time": "2025-10-08T07:38:16.625986",
     "status": "completed"
    },
    "tags": []
   },
   "outputs": [
    {
     "name": "stderr",
     "output_type": "stream",
     "text": [
      "\r",
      "  0%|          | 0/1840 [00:00<?, ?it/s]"
     ]
    },
    {
     "name": "stderr",
     "output_type": "stream",
     "text": [
      "\r",
      "100%|█████████▉| 1834/1840 [00:11<00:00, 156.63it/s]"
     ]
    },
    {
     "name": "stdout",
     "output_type": "stream",
     "text": [
      "Done dt=2025-10-08/2025-10-08T000000.parquet\n"
     ]
    },
    {
     "name": "stdout",
     "output_type": "stream",
     "text": [
      "Done dt=2025-10-08/2025-10-08T010000.parquet\n"
     ]
    },
    {
     "name": "stderr",
     "output_type": "stream",
     "text": [
      "\r",
      "100%|█████████▉| 1834/1840 [00:29<00:00, 156.63it/s]"
     ]
    },
    {
     "name": "stderr",
     "output_type": "stream",
     "text": [
      "\r",
      "100%|█████████▉| 1836/1840 [00:31<00:00, 46.44it/s] "
     ]
    },
    {
     "name": "stdout",
     "output_type": "stream",
     "text": [
      "Done dt=2025-10-08/2025-10-08T020000.parquet\n"
     ]
    },
    {
     "name": "stderr",
     "output_type": "stream",
     "text": [
      "\r",
      "100%|█████████▉| 1837/1840 [00:40<00:00, 31.54it/s]"
     ]
    },
    {
     "name": "stdout",
     "output_type": "stream",
     "text": [
      "Done dt=2025-10-08/2025-10-08T030000.parquet\n"
     ]
    },
    {
     "name": "stderr",
     "output_type": "stream",
     "text": [
      "\r",
      "100%|█████████▉| 1838/1840 [00:50<00:00, 20.82it/s]"
     ]
    },
    {
     "name": "stdout",
     "output_type": "stream",
     "text": [
      "Done dt=2025-10-08/2025-10-08T040000.parquet\n"
     ]
    },
    {
     "name": "stderr",
     "output_type": "stream",
     "text": [
      "\r",
      "100%|█████████▉| 1839/1840 [01:00<00:00, 14.23it/s]"
     ]
    },
    {
     "name": "stdout",
     "output_type": "stream",
     "text": [
      "Done dt=2025-10-08/2025-10-08T050000.parquet\n"
     ]
    },
    {
     "name": "stderr",
     "output_type": "stream",
     "text": [
      "\r",
      "100%|██████████| 1840/1840 [01:09<00:00, 10.05it/s]"
     ]
    },
    {
     "name": "stderr",
     "output_type": "stream",
     "text": [
      "\r",
      "100%|██████████| 1840/1840 [01:09<00:00, 26.36it/s]"
     ]
    },
    {
     "name": "stdout",
     "output_type": "stream",
     "text": [
      "Done dt=2025-10-08/2025-10-08T060000.parquet\n"
     ]
    },
    {
     "name": "stderr",
     "output_type": "stream",
     "text": [
      "\n"
     ]
    }
   ],
   "source": [
    "import polars as pl \n",
    "from tqdm import tqdm\n",
    "storage_options = {\n",
    "    \"account_name\": account_name,\n",
    "    \"account_key\":  account_key,\n",
    "}\n",
    "\n",
    "for ts, files in tqdm(groups.items()):\n",
    "    dt = ts[:10]\n",
    "    if dt not in need_process:\n",
    "        continue\n",
    "    df = pl.scan_csv(f\"az://adjuststbuat/*_{ts}_*.csv.gz\", storage_options = storage_options,glob=True, has_header = True, null_values = [\"\",\"NULL\"]).select(pl.all().cast(pl.Utf8))\n",
    "    df.sink_parquet(f\"az://adjuststbuatprocessed/processing/dt={dt}/{ts}.parquet\", storage_options = storage_options, compression=\"snappy\")\n",
    "    print(f'Done dt={dt}/{ts}.parquet')\n",
    "        "
   ]
  },
  {
   "cell_type": "code",
   "execution_count": 6,
   "id": "60f1aa32",
   "metadata": {
    "execution": {
     "iopub.execute_input": "2025-10-08T07:39:26.524497Z",
     "iopub.status.busy": "2025-10-08T07:39:26.524308Z",
     "iopub.status.idle": "2025-10-08T07:39:30.513992Z",
     "shell.execute_reply": "2025-10-08T07:39:30.513353Z"
    },
    "papermill": {
     "duration": 3.994767,
     "end_time": "2025-10-08T07:39:30.514960",
     "exception": false,
     "start_time": "2025-10-08T07:39:26.520193",
     "status": "completed"
    },
    "tags": []
   },
   "outputs": [
    {
     "name": "stdout",
     "output_type": "stream",
     "text": [
      "\n",
      " Done 2025-10-08\n",
      "\n"
     ]
    }
   ],
   "source": [
    "for dt in need_process:\n",
    "  df = pl.scan_parquet(f\"az://adjuststbuatprocessed/processing/dt={dt}/*.parquet\", storage_options=storage_options,glob=True).with_columns(pl.lit(dt).alias(\"dt\"))\n",
    "  df.sink_parquet(f\"az://adjuststbuatprocessed/output/{dt}.parquet\", storage_options=storage_options, compression=\"snappy\")\n",
    "  print(f'\\n Done {dt}\\n')"
   ]
  },
  {
   "cell_type": "code",
   "execution_count": 7,
   "id": "52d25d08",
   "metadata": {
    "execution": {
     "iopub.execute_input": "2025-10-08T07:39:30.523213Z",
     "iopub.status.busy": "2025-10-08T07:39:30.523022Z",
     "iopub.status.idle": "2025-10-08T07:39:30.525875Z",
     "shell.execute_reply": "2025-10-08T07:39:30.525421Z"
    },
    "id": "U34_SUSAs-GQ",
    "papermill": {
     "duration": 0.007914,
     "end_time": "2025-10-08T07:39:30.526686",
     "exception": false,
     "start_time": "2025-10-08T07:39:30.518772",
     "status": "completed"
    },
    "tags": []
   },
   "outputs": [],
   "source": [
    "# from pathlib import Path\n",
    "# root = Path.cwd()\n",
    "# process_path = f'{root}/process/adjust_uat'\n",
    "# from tqdm import tqdm\n",
    "# import polars as pl\n",
    "\n",
    "# os.makedirs(process_path, exist_ok=True)\n",
    "\n",
    "# storage_options = {\n",
    "#     \"account_name\": account_name,\n",
    "#     \"account_key\":  account_key,\n",
    "# }\n",
    "\n",
    "# for ts, files in tqdm(groups.items()):\n",
    "#     dt = ts[:10]                       # \"2025-06-25\" -> partition dt=...\n",
    "#     if dt not in need_process:\n",
    "#         continue\n",
    "#     # break\n",
    "#     partition_dir = os.path.join(process_path, f\"dt={dt}\")\n",
    "#     os.makedirs(partition_dir, exist_ok=True)\n",
    "#     out_file = os.path.join(partition_dir, f\"{ts}.parquet\")\n",
    "\n",
    "#     dfs = []\n",
    "#     for f in files:\n",
    "#         df = (pl.scan_csv(f\"az://adjuststbuat/{f}\",                             # eager\n",
    "#                           storage_options=storage_options,\n",
    "#                           has_header=True,\n",
    "#                           null_values=[\"\", \"NULL\"])       # rỗng → null\n",
    "#                 .select(pl.all().cast(pl.Utf8)))          # tất cả cột → string\n",
    "#         dfs.append(df)\n",
    "\n",
    "#     df_all = pl.concat(dfs, how=\"diagonal\")               # tự thêm null cột thiếu\n",
    "#     df_all.sink_parquet(out_file, compression=\"snappy\")\n",
    "#     print(f'Done dt={dt}/{ts}.parquet')\n"
   ]
  },
  {
   "cell_type": "code",
   "execution_count": 8,
   "id": "4ba0a0d4",
   "metadata": {
    "execution": {
     "iopub.execute_input": "2025-10-08T07:39:30.534431Z",
     "iopub.status.busy": "2025-10-08T07:39:30.534254Z",
     "iopub.status.idle": "2025-10-08T07:39:30.537269Z",
     "shell.execute_reply": "2025-10-08T07:39:30.536678Z"
    },
    "id": "Yl40uY9E7IP3",
    "papermill": {
     "duration": 0.00791,
     "end_time": "2025-10-08T07:39:30.538191",
     "exception": false,
     "start_time": "2025-10-08T07:39:30.530281",
     "status": "completed"
    },
    "tags": []
   },
   "outputs": [],
   "source": [
    "# local_folder_path = f\"{root}/process/adjust_uat\"\n",
    "\n",
    "# # Replace with the desired folder name in the Azure container\n",
    "# azure_folder_name = \"processing\"\n",
    "\n",
    "# # Iterate through files in the local folder and upload them\n",
    "# for root, dirs, files in tqdm(os.walk(local_folder_path)):\n",
    "#     for file in files:\n",
    "#         # Construct the full local file path\n",
    "#         local_file_path = os.path.join(root, file)\n",
    "\n",
    "#         # Construct the blob name (path within the Azure container)\n",
    "#         # This preserves the folder structure from the local path\n",
    "#         relative_path = os.path.relpath(local_file_path, local_folder_path)\n",
    "#         blob_name = os.path.join(azure_folder_name, relative_path)\n",
    "#         # print(blob_name)\n",
    "#         # Create a blob client for the current file\n",
    "#         blob_client = container_client.get_blob_client(blob_name)\n",
    "\n",
    "#         print(f\"Uploading {local_file_path} to {container_name}/{blob_name}\")\n",
    "\n",
    "# #         # Upload the file\n",
    "#         with open(local_file_path, \"rb\") as data:\n",
    "#             blob_client.upload_blob(data, overwrite=True)\n",
    "\n",
    "# print(\"\\nFolder upload complete.\")"
   ]
  },
  {
   "cell_type": "code",
   "execution_count": 9,
   "id": "3a5d5636",
   "metadata": {
    "execution": {
     "iopub.execute_input": "2025-10-08T07:39:30.546001Z",
     "iopub.status.busy": "2025-10-08T07:39:30.545801Z",
     "iopub.status.idle": "2025-10-08T07:39:30.548881Z",
     "shell.execute_reply": "2025-10-08T07:39:30.548412Z"
    },
    "id": "K5p12_Giu1Cx",
    "papermill": {
     "duration": 0.007931,
     "end_time": "2025-10-08T07:39:30.549726",
     "exception": false,
     "start_time": "2025-10-08T07:39:30.541795",
     "status": "completed"
    },
    "tags": []
   },
   "outputs": [],
   "source": [
    "# import glob\n",
    "# for dt_folder in tqdm(glob.glob(os.path.join(process_path, \"dt=*\"))):\n",
    "#   dt = os.path.basename(dt_folder)[3:]\n",
    "#   df = pl.scan_parquet(\n",
    "#       f\"az://adjuststbuatprocessed/live/processing/dt={dt}/*.parquet\",\n",
    "#       storage_options=storage_options,\n",
    "#       glob=True,                 # rất quan trọng để expand '*'\n",
    "#   ).select(pl.all().cast(pl.Utf8)).with_columns(pl.lit(dt).alias(\"dt\"))\n",
    "#   df.sink_parquet(\n",
    "#       f\"az://adjuststbuatprocessed/live/output/dt={dt}.parquet\",\n",
    "#       storage_options=storage_options,\n",
    "#       compression=\"snappy\",\n",
    "#   )\n",
    "# # output_path = f'{root}/output/adjust_uat'\n",
    "# # os.makedirs(output_path, exist_ok=True)\n",
    "# # import glob\n",
    "# # import shutil\n",
    "# # for dt_folder in tqdm(glob.glob(os.path.join(process_path, \"dt=*\"))):\n",
    "# #     dt = os.path.basename(dt_folder)[3:]                 # \"2025-06-25\"\n",
    "# #     files_pq = glob.glob(os.path.join(dt_folder, \"*T*.parquet\"))\n",
    "# #     if not files_pq:\n",
    "# #         continue\n",
    "\n",
    "# #     out_path = os.path.join(output_path, f\"{dt}.parquet\")\n",
    "\n",
    "# #     # Nếu trước đó lỡ tạo cùng tên dưới dạng DIR → xoá\n",
    "# #     if os.path.isdir(out_path):\n",
    "# #         shutil.rmtree(out_path)\n",
    "\n",
    "# #     # ---------- ❶  Lazy scan tất cả Parquet ----------\n",
    "# #     lfs = [pl.scan_parquet(f) for f in files_pq]          # mỗi file → LazyFrame\n",
    "\n",
    "# #     # ---------- ❷  Concat diagonal + giữ schema linh hoạt ----------\n",
    "# #     lf_day = (\n",
    "# #         pl.concat(lfs, how=\"diagonal\")                    # tự thêm null cột thiếu\n",
    "# #         .select(pl.all().cast(pl.Utf8))                   # đảm bảo mọi cột = string\n",
    "# #         .with_columns(pl.lit(dt).alias(\"dt\"))             # thêm cột partition (tuỳ)\n",
    "# #     )\n",
    "\n",
    "# #     # ---------- ❸  Ghi duy nhất 1 Parquet ----------\n",
    "# #     lf_day.sink_parquet(out_path, compression=\"snappy\")"
   ]
  },
  {
   "cell_type": "code",
   "execution_count": null,
   "id": "831cbd14",
   "metadata": {
    "id": "eoUxR5sVxMJI",
    "papermill": {
     "duration": 0.003474,
     "end_time": "2025-10-08T07:39:30.556784",
     "exception": false,
     "start_time": "2025-10-08T07:39:30.553310",
     "status": "completed"
    },
    "tags": []
   },
   "outputs": [],
   "source": []
  },
  {
   "cell_type": "code",
   "execution_count": 10,
   "id": "116e10b1",
   "metadata": {
    "execution": {
     "iopub.execute_input": "2025-10-08T07:39:30.564584Z",
     "iopub.status.busy": "2025-10-08T07:39:30.564415Z",
     "iopub.status.idle": "2025-10-08T07:39:30.567191Z",
     "shell.execute_reply": "2025-10-08T07:39:30.566711Z"
    },
    "id": "guZytRUpxPdd",
    "papermill": {
     "duration": 0.007686,
     "end_time": "2025-10-08T07:39:30.568007",
     "exception": false,
     "start_time": "2025-10-08T07:39:30.560321",
     "status": "completed"
    },
    "tags": []
   },
   "outputs": [],
   "source": [
    "\n",
    "# local_folder_path = f\"{root}/output/adjust_uat\"\n",
    "\n",
    "# # Replace with the desired folder name in the Azure container\n",
    "# azure_folder_name = \"output\"\n",
    "\n",
    "# # Iterate through files in the local folder and upload them\n",
    "# for root, dirs, files in tqdm(os.walk(local_folder_path)):\n",
    "#     for file in files:\n",
    "#         # Construct the full local file path\n",
    "#         local_file_path = os.path.join(root, file)\n",
    "\n",
    "#         # Construct the blob name (path within the Azure container)\n",
    "#         # This preserves the folder structure from the local path\n",
    "#         relative_path = os.path.relpath(local_file_path, local_folder_path)\n",
    "#         blob_name = os.path.join(azure_folder_name, relative_path)\n",
    "#         # print(blob_name)\n",
    "#         # Create a blob client for the current file\n",
    "#         blob_client = container_client.get_blob_client(blob_name)\n",
    "\n",
    "#         print(f\"Uploading {local_file_path} to {container_name}/{blob_name}\")\n",
    "\n",
    "# #         # Upload the file\n",
    "#         with open(local_file_path, \"rb\") as data:\n",
    "#             blob_client.upload_blob(data, overwrite=True)\n",
    "\n",
    "# print(\"\\nFolder upload complete.\")"
   ]
  },
  {
   "cell_type": "code",
   "execution_count": 11,
   "id": "11d683b3",
   "metadata": {
    "execution": {
     "iopub.execute_input": "2025-10-08T07:39:30.575865Z",
     "iopub.status.busy": "2025-10-08T07:39:30.575680Z",
     "iopub.status.idle": "2025-10-08T07:39:30.578028Z",
     "shell.execute_reply": "2025-10-08T07:39:30.577576Z"
    },
    "id": "cRg5jAwbxQ7K",
    "papermill": {
     "duration": 0.007173,
     "end_time": "2025-10-08T07:39:30.578803",
     "exception": false,
     "start_time": "2025-10-08T07:39:30.571630",
     "status": "completed"
    },
    "tags": []
   },
   "outputs": [],
   "source": [
    "# # Replace with the path to the local folder you want to delete\n",
    "# local_folder_paths = [f\"{root}/process/adjust_uat\",f\"{root}/output/adjust_uat\"]\n",
    "# # local_folder_path = f\"data/process/adjust_live\"\n",
    "# for local_folder_path in local_folder_paths:\n",
    "#     if os.path.exists(local_folder_path):\n",
    "#         print(f\"Deleting local folder: {local_folder_path}\")\n",
    "#         shutil.rmtree(local_folder_path)\n",
    "#         print(\"Local folder deleted.\")\n",
    "#     else:\n",
    "#         print(f\"Local folder not found: {local_folder_path}\")"
   ]
  },
  {
   "cell_type": "markdown",
   "id": "b57f852e",
   "metadata": {
    "id": "2TvKr29qyJd_",
    "papermill": {
     "duration": 0.003597,
     "end_time": "2025-10-08T07:39:30.586041",
     "exception": false,
     "start_time": "2025-10-08T07:39:30.582444",
     "status": "completed"
    },
    "tags": []
   },
   "source": [
    "# Live"
   ]
  },
  {
   "cell_type": "code",
   "execution_count": 12,
   "id": "53f0ec43",
   "metadata": {
    "execution": {
     "iopub.execute_input": "2025-10-08T07:39:30.594012Z",
     "iopub.status.busy": "2025-10-08T07:39:30.593791Z",
     "iopub.status.idle": "2025-10-08T07:39:30.596189Z",
     "shell.execute_reply": "2025-10-08T07:39:30.595733Z"
    },
    "id": "EnaFsdZFxpwc",
    "papermill": {
     "duration": 0.007318,
     "end_time": "2025-10-08T07:39:30.597027",
     "exception": false,
     "start_time": "2025-10-08T07:39:30.589709",
     "status": "completed"
    },
    "tags": []
   },
   "outputs": [],
   "source": [
    "# already_processed = [file.name.split('/')[-1].split('.')[0] for file in container_client.list_blobs() if file.name[:12] == 'live/output/']\n",
    "# already_processed[-5:]"
   ]
  },
  {
   "cell_type": "code",
   "execution_count": 13,
   "id": "362fb4ee",
   "metadata": {
    "execution": {
     "iopub.execute_input": "2025-10-08T07:39:30.604996Z",
     "iopub.status.busy": "2025-10-08T07:39:30.604783Z",
     "iopub.status.idle": "2025-10-08T07:39:30.606991Z",
     "shell.execute_reply": "2025-10-08T07:39:30.606565Z"
    },
    "id": "aHveM3L5yNix",
    "papermill": {
     "duration": 0.007168,
     "end_time": "2025-10-08T07:39:30.607839",
     "exception": false,
     "start_time": "2025-10-08T07:39:30.600671",
     "status": "completed"
    },
    "tags": []
   },
   "outputs": [],
   "source": [
    "# need_process = pd.date_range(start=already_processed[-1], end=today).strftime('%Y-%m-%d').to_list()\n",
    "# need_process"
   ]
  },
  {
   "cell_type": "code",
   "execution_count": 14,
   "id": "d77a0825",
   "metadata": {
    "execution": {
     "iopub.execute_input": "2025-10-08T07:39:30.616807Z",
     "iopub.status.busy": "2025-10-08T07:39:30.616603Z",
     "iopub.status.idle": "2025-10-08T07:39:30.619335Z",
     "shell.execute_reply": "2025-10-08T07:39:30.618735Z"
    },
    "id": "I7Er6YEUyOsL",
    "papermill": {
     "duration": 0.007862,
     "end_time": "2025-10-08T07:39:30.620170",
     "exception": false,
     "start_time": "2025-10-08T07:39:30.612308",
     "status": "completed"
    },
    "tags": []
   },
   "outputs": [],
   "source": [
    "# container_name_uat = \"adjuststblive\"\n",
    "# container_client_uat = blob_service_client.get_container_client(container_name_uat)\n",
    "# from collections import defaultdict\n",
    "# files = [i.name for i in container_client_uat.list_blobs()]\n",
    "# groups = defaultdict(list)\n",
    "# for f in files:\n",
    "#     dt = f.split('_')[1]\n",
    "#     groups[dt].append(f)\n",
    "# groups[dt]"
   ]
  },
  {
   "cell_type": "code",
   "execution_count": 15,
   "id": "28abfe8a",
   "metadata": {
    "execution": {
     "iopub.execute_input": "2025-10-08T07:39:30.628656Z",
     "iopub.status.busy": "2025-10-08T07:39:30.628438Z",
     "iopub.status.idle": "2025-10-08T07:39:30.631594Z",
     "shell.execute_reply": "2025-10-08T07:39:30.630986Z"
    },
    "id": "g-W3s2nRyRY7",
    "papermill": {
     "duration": 0.008312,
     "end_time": "2025-10-08T07:39:30.632414",
     "exception": false,
     "start_time": "2025-10-08T07:39:30.624102",
     "status": "completed"
    },
    "tags": []
   },
   "outputs": [],
   "source": [
    "# process_path = f'{root}/process/adjust_live'\n",
    "# os.makedirs(process_path, exist_ok=True)\n",
    "\n",
    "# for ts, files in tqdm(groups.items()):\n",
    "#     # if ts not in need_process:\n",
    "#     #     continue\n",
    "#     dt = ts[:10]                       # \"2025-06-25\" -> partition dt=...\n",
    "#     # print(ts)\n",
    "#     # break\n",
    "#     if dt not in need_process:\n",
    "#         continue\n",
    "#     # break\n",
    "#     partition_dir = os.path.join(process_path, f\"dt={dt}\")\n",
    "#     os.makedirs(partition_dir, exist_ok=True)\n",
    "#     out_file = os.path.join(partition_dir, f\"{ts}.parquet\")\n",
    "\n",
    "#     dfs = []\n",
    "#     for f in files:\n",
    "#         df = (pl.scan_csv(f\"az://adjuststblive/{f}\",                             # eager\n",
    "#                           storage_options=storage_options,\n",
    "#                           has_header=True,\n",
    "#                           null_values=[\"\", \"NULL\"],\n",
    "#                           ignore_errors=True)       # rỗng → null\n",
    "#                 .select(pl.all().cast(pl.Utf8)))          # tất cả cột → string\n",
    "#         dfs.append(df)\n",
    "\n",
    "#     df_all = pl.concat(dfs, how=\"diagonal\")               # tự thêm null cột thiếu\n",
    "#     df_all.sink_parquet(out_file, compression=\"snappy\")\n",
    "#     print(f'Done dt={dt}/{ts}.parquet')"
   ]
  },
  {
   "cell_type": "code",
   "execution_count": 16,
   "id": "695a558f",
   "metadata": {
    "execution": {
     "iopub.execute_input": "2025-10-08T07:39:30.640530Z",
     "iopub.status.busy": "2025-10-08T07:39:30.640328Z",
     "iopub.status.idle": "2025-10-08T07:39:30.643178Z",
     "shell.execute_reply": "2025-10-08T07:39:30.642739Z"
    },
    "id": "sBm7rfFUyePJ",
    "papermill": {
     "duration": 0.007863,
     "end_time": "2025-10-08T07:39:30.644016",
     "exception": false,
     "start_time": "2025-10-08T07:39:30.636153",
     "status": "completed"
    },
    "tags": []
   },
   "outputs": [],
   "source": [
    "# output_path = f'{root}/output/adjust_live'\n",
    "# os.makedirs(output_path, exist_ok=True)\n",
    "# for dt_folder in tqdm(glob.glob(os.path.join(process_path, \"dt=*\"))):\n",
    "#     dt = os.path.basename(dt_folder)[3:]                 # \"2025-06-25\"\n",
    "#     files_pq = glob.glob(os.path.join(dt_folder, \"*T*.parquet\"))\n",
    "#     if not files_pq:\n",
    "#         continue\n",
    "\n",
    "#     out_path = os.path.join(output_path, f\"{dt}.parquet\")\n",
    "\n",
    "#     # Nếu trước đó lỡ tạo cùng tên dưới dạng DIR → xoá\n",
    "#     if os.path.isdir(out_path):\n",
    "#         shutil.rmtree(out_path)\n",
    "\n",
    "#     # ---------- ❶  Lazy scan tất cả Parquet ----------\n",
    "#     lfs = [pl.scan_parquet(f) for f in files_pq]          # mỗi file → LazyFrame\n",
    "\n",
    "#     # ---------- ❷  Concat diagonal + giữ schema linh hoạt ----------\n",
    "#     lf_day = (\n",
    "#         pl.concat(lfs, how=\"diagonal\")                    # tự thêm null cột thiếu\n",
    "#         .select(pl.all().cast(pl.Utf8))                   # đảm bảo mọi cột = string\n",
    "#         .with_columns(pl.lit(dt).alias(\"dt\"))             # thêm cột partition (tuỳ)\n",
    "#     )\n",
    "\n",
    "#     # ---------- ❸  Ghi duy nhất 1 Parquet ----------\n",
    "#     lf_day.sink_parquet(out_path, compression=\"snappy\")"
   ]
  },
  {
   "cell_type": "code",
   "execution_count": 17,
   "id": "43159976",
   "metadata": {
    "execution": {
     "iopub.execute_input": "2025-10-08T07:39:30.652335Z",
     "iopub.status.busy": "2025-10-08T07:39:30.652172Z",
     "iopub.status.idle": "2025-10-08T07:39:30.654904Z",
     "shell.execute_reply": "2025-10-08T07:39:30.654439Z"
    },
    "id": "nkJnz3CeykiU",
    "papermill": {
     "duration": 0.007854,
     "end_time": "2025-10-08T07:39:30.655723",
     "exception": false,
     "start_time": "2025-10-08T07:39:30.647869",
     "status": "completed"
    },
    "tags": []
   },
   "outputs": [],
   "source": [
    "\n",
    "# local_folder_path = f\"{root}/process/adjust_live\"\n",
    "\n",
    "# # Replace with the desired folder name in the Azure container\n",
    "# azure_folder_name = \"live/processing\"\n",
    "\n",
    "# # Iterate through files in the local folder and upload them\n",
    "# for root, dirs, files in tqdm(os.walk(local_folder_path)):\n",
    "#     for file in files:\n",
    "#         # Construct the full local file path\n",
    "#         local_file_path = os.path.join(root, file)\n",
    "\n",
    "#         # Construct the blob name (path within the Azure container)\n",
    "#         # This preserves the folder structure from the local path\n",
    "#         relative_path = os.path.relpath(local_file_path, local_folder_path)\n",
    "#         blob_name = os.path.join(azure_folder_name, relative_path)\n",
    "#         # print(blob_name)\n",
    "#         # Create a blob client for the current file\n",
    "#         blob_client = container_client.get_blob_client(blob_name)\n",
    "\n",
    "#         print(f\"Uploading {local_file_path} to {container_name}/{blob_name}\")\n",
    "\n",
    "# #         # Upload the file\n",
    "#         with open(local_file_path, \"rb\") as data:\n",
    "#             blob_client.upload_blob(data, overwrite=True)\n",
    "\n",
    "# print(\"\\nFolder upload complete.\")"
   ]
  },
  {
   "cell_type": "code",
   "execution_count": 18,
   "id": "a0c989fd",
   "metadata": {
    "execution": {
     "iopub.execute_input": "2025-10-08T07:39:30.663960Z",
     "iopub.status.busy": "2025-10-08T07:39:30.663763Z",
     "iopub.status.idle": "2025-10-08T07:39:30.666514Z",
     "shell.execute_reply": "2025-10-08T07:39:30.666059Z"
    },
    "id": "uJFbJAwtysuo",
    "papermill": {
     "duration": 0.007786,
     "end_time": "2025-10-08T07:39:30.667334",
     "exception": false,
     "start_time": "2025-10-08T07:39:30.659548",
     "status": "completed"
    },
    "tags": []
   },
   "outputs": [],
   "source": [
    "# local_folder_path = f\"{root}/output/adjust_live\"\n",
    "\n",
    "# # Replace with the desired folder name in the Azure container\n",
    "# azure_folder_name = \"live/output\"\n",
    "\n",
    "# # Iterate through files in the local folder and upload them\n",
    "# for root, dirs, files in tqdm(os.walk(local_folder_path)):\n",
    "#     for file in files:\n",
    "#         # Construct the full local file path\n",
    "#         local_file_path = os.path.join(root, file)\n",
    "\n",
    "#         # Construct the blob name (path within the Azure container)\n",
    "#         # This preserves the folder structure from the local path\n",
    "#         relative_path = os.path.relpath(local_file_path, local_folder_path)\n",
    "#         blob_name = os.path.join(azure_folder_name, relative_path)\n",
    "#         # print(blob_name)\n",
    "#         # Create a blob client for the current file\n",
    "#         blob_client = container_client.get_blob_client(blob_name)\n",
    "\n",
    "#         print(f\"Uploading {local_file_path} to {container_name}/{blob_name}\")\n",
    "\n",
    "# #         # Upload the file\n",
    "#         with open(local_file_path, \"rb\") as data:\n",
    "#             blob_client.upload_blob(data, overwrite=True)\n",
    "\n",
    "# print(\"\\nFolder upload complete.\")"
   ]
  },
  {
   "cell_type": "code",
   "execution_count": 19,
   "id": "e5ddfd51",
   "metadata": {
    "execution": {
     "iopub.execute_input": "2025-10-08T07:39:30.675638Z",
     "iopub.status.busy": "2025-10-08T07:39:30.675447Z",
     "iopub.status.idle": "2025-10-08T07:39:30.677966Z",
     "shell.execute_reply": "2025-10-08T07:39:30.677508Z"
    },
    "id": "dtaKWhzhyx3j",
    "papermill": {
     "duration": 0.007547,
     "end_time": "2025-10-08T07:39:30.678768",
     "exception": false,
     "start_time": "2025-10-08T07:39:30.671221",
     "status": "completed"
    },
    "tags": []
   },
   "outputs": [],
   "source": [
    "# # Replace with the path to the local folder you want to delete\n",
    "# local_folder_paths = [f\"{root}/process/adjust_live\",f\"{root}/output/adjust_live\"]\n",
    "# # local_folder_path = f\"data/process/adjust_live\"\n",
    "# for local_folder_path in local_folder_paths:\n",
    "#     if os.path.exists(local_folder_path):\n",
    "#         print(f\"Deleting local folder: {local_folder_path}\")\n",
    "#         shutil.rmtree(local_folder_path)\n",
    "#         print(\"Local folder deleted.\")\n",
    "#     else:\n",
    "#         print(f\"Local folder not found: {local_folder_path}\")"
   ]
  }
 ],
 "metadata": {
  "colab": {
   "authorship_tag": "ABX9TyOfzO6uvqUX+Tt89Y73G9E8",
   "include_colab_link": true,
   "provenance": []
  },
  "kernelspec": {
   "display_name": "Python 3",
   "name": "python3"
  },
  "language_info": {
   "codemirror_mode": {
    "name": "ipython",
    "version": 3
   },
   "file_extension": ".py",
   "mimetype": "text/x-python",
   "name": "python",
   "nbconvert_exporter": "python",
   "pygments_lexer": "ipython3",
   "version": "3.11.13"
  },
  "papermill": {
   "default_parameters": {},
   "duration": 92.257294,
   "end_time": "2025-10-08T07:39:30.997538",
   "environment_variables": {},
   "exception": null,
   "input_path": "notebooks/ADJUST_JOB.ipynb",
   "output_path": "outputs/ADJUST_JOB_2025-10-08.ipynb",
   "parameters": {
    "RUN_DATE": "2025-10-08"
   },
   "start_time": "2025-10-08T07:37:58.740244",
   "version": "2.6.0"
  }
 },
 "nbformat": 4,
 "nbformat_minor": 5
}