{
 "cells": [
  {
   "cell_type": "code",
   "execution_count": 1,
   "id": "4bc8e8a8",
   "metadata": {
    "execution": {
     "iopub.execute_input": "2025-10-08T01:48:44.398646Z",
     "iopub.status.busy": "2025-10-08T01:48:44.398433Z",
     "iopub.status.idle": "2025-10-08T01:48:44.403520Z",
     "shell.execute_reply": "2025-10-08T01:48:44.403028Z"
    },
    "papermill": {
     "duration": 0.009937,
     "end_time": "2025-10-08T01:48:44.404413",
     "exception": false,
     "start_time": "2025-10-08T01:48:44.394476",
     "status": "completed"
    },
    "tags": [
     "injected-parameters"
    ]
   },
   "outputs": [],
   "source": [
    "# Parameters\n",
    "RUN_DATE = \"2025-10-08\"\n"
   ]
  },
  {
   "cell_type": "markdown",
   "id": "7fa6c894",
   "metadata": {
    "colab_type": "text",
    "id": "view-in-github",
    "papermill": {
     "duration": 0.002496,
     "end_time": "2025-10-08T01:48:44.409511",
     "exception": false,
     "start_time": "2025-10-08T01:48:44.407015",
     "status": "completed"
    },
    "tags": []
   },
   "source": [
    "<a href=\"https://colab.research.google.com/github/HieuNguyenPhi/ADJ_JOBS/blob/main/notebooks/ADJUST_JOB.ipynb\" target=\"_parent\"><img src=\"https://colab.research.google.com/assets/colab-badge.svg\" alt=\"Open In Colab\"/></a>"
   ]
  },
  {
   "cell_type": "code",
   "execution_count": 2,
   "id": "6c0b8ad5",
   "metadata": {
    "execution": {
     "iopub.execute_input": "2025-10-08T01:48:44.414709Z",
     "iopub.status.busy": "2025-10-08T01:48:44.414515Z",
     "iopub.status.idle": "2025-10-08T01:48:50.006460Z",
     "shell.execute_reply": "2025-10-08T01:48:50.005766Z"
    },
    "id": "ycUR2r1dq1Nm",
    "papermill": {
     "duration": 5.595707,
     "end_time": "2025-10-08T01:48:50.007469",
     "exception": false,
     "start_time": "2025-10-08T01:48:44.411762",
     "status": "completed"
    },
    "tags": []
   },
   "outputs": [
    {
     "data": {
      "text/plain": [
       "['2025-10-03', '2025-10-04', '2025-10-05', '2025-10-06', '2025-10-07']"
      ]
     },
     "execution_count": 2,
     "metadata": {},
     "output_type": "execute_result"
    }
   ],
   "source": [
    "import os\n",
    "from azure.storage.blob import BlobServiceClient\n",
    "\n",
    "account_name = os.getenv('ACCOUNT_NAME')\n",
    "account_key = os.getenv('ACCOUNT_KEY')\n",
    "# Replace with your Azure Storage account name and SAS token or connection string\n",
    "connect_str = f\"DefaultEndpointsProtocol=https;AccountName={account_name};AccountKey={account_key};EndpointSuffix=core.windows.net\"\n",
    "blob_service_client = BlobServiceClient.from_connection_string(connect_str)\n",
    "container_list = blob_service_client.list_containers()\n",
    "container_name = \"adjuststbuatprocessed\" #os.getenv('CONTAINER_NAME')\n",
    "container_client = blob_service_client.get_container_client(container_name)\n",
    "already_processed = [file.name.split('/')[1].split('.')[0] for file in container_client.list_blobs() if file.name.split('/')[0] == 'output']\n",
    "already_processed[-5:]"
   ]
  },
  {
   "cell_type": "code",
   "execution_count": 3,
   "id": "062a4f29",
   "metadata": {
    "execution": {
     "iopub.execute_input": "2025-10-08T01:48:50.015203Z",
     "iopub.status.busy": "2025-10-08T01:48:50.014867Z",
     "iopub.status.idle": "2025-10-08T01:48:50.329544Z",
     "shell.execute_reply": "2025-10-08T01:48:50.328982Z"
    },
    "id": "UvcDO8k7s0Jz",
    "papermill": {
     "duration": 0.320222,
     "end_time": "2025-10-08T01:48:50.330513",
     "exception": false,
     "start_time": "2025-10-08T01:48:50.010291",
     "status": "completed"
    },
    "tags": []
   },
   "outputs": [
    {
     "data": {
      "text/plain": [
       "['2025-10-06', '2025-10-07', '2025-10-08']"
      ]
     },
     "execution_count": 3,
     "metadata": {},
     "output_type": "execute_result"
    }
   ],
   "source": [
    "from datetime import date\n",
    "import pandas as pd\n",
    "today = date.today().strftime('%Y-%m-%d')\n",
    "need_process = pd.date_range(start=already_processed[-2], end=today).strftime('%Y-%m-%d').to_list()\n",
    "need_process"
   ]
  },
  {
   "cell_type": "code",
   "execution_count": 4,
   "id": "cbe9528c",
   "metadata": {
    "execution": {
     "iopub.execute_input": "2025-10-08T01:48:50.336713Z",
     "iopub.status.busy": "2025-10-08T01:48:50.336443Z",
     "iopub.status.idle": "2025-10-08T01:48:57.318504Z",
     "shell.execute_reply": "2025-10-08T01:48:57.317961Z"
    },
    "id": "xyPuVC12s7fn",
    "papermill": {
     "duration": 6.986054,
     "end_time": "2025-10-08T01:48:57.319389",
     "exception": false,
     "start_time": "2025-10-08T01:48:50.333335",
     "status": "completed"
    },
    "tags": []
   },
   "outputs": [
    {
     "data": {
      "text/plain": [
       "['rsh20bkkb4zk_2025-10-08T000000_762c775ae454d23f2c6b6a75623d14c7_2853a0.csv.gz',\n",
       " 'rsh20bkkb4zk_2025-10-08T000000_762c775ae454d23f2c6b6a75623d14c7_2853a1.csv.gz',\n",
       " 'rsh20bkkb4zk_2025-10-08T000000_762c775ae454d23f2c6b6a75623d14c7_c35750.csv.gz',\n",
       " 'rsh20bkkb4zk_2025-10-08T000000_762c775ae454d23f2c6b6a75623d14c7_c35751.csv.gz']"
      ]
     },
     "execution_count": 4,
     "metadata": {},
     "output_type": "execute_result"
    }
   ],
   "source": [
    "container_name_uat = \"adjuststbuat\"\n",
    "container_client_uat = blob_service_client.get_container_client(container_name_uat)\n",
    "from collections import defaultdict\n",
    "files = [i.name for i in container_client_uat.list_blobs()]\n",
    "groups = defaultdict(list)\n",
    "for f in files:\n",
    "    dt = f.split('_')[1]\n",
    "    groups[dt].append(f)\n",
    "groups[dt]"
   ]
  },
  {
   "cell_type": "code",
   "execution_count": 5,
   "id": "47328c3b",
   "metadata": {
    "execution": {
     "iopub.execute_input": "2025-10-08T01:48:57.325596Z",
     "iopub.status.busy": "2025-10-08T01:48:57.325424Z",
     "iopub.status.idle": "2025-10-08T01:51:06.052839Z",
     "shell.execute_reply": "2025-10-08T01:51:06.052200Z"
    },
    "id": "U34_SUSAs-GQ",
    "papermill": {
     "duration": 128.731467,
     "end_time": "2025-10-08T01:51:06.053755",
     "exception": false,
     "start_time": "2025-10-08T01:48:57.322288",
     "status": "completed"
    },
    "tags": []
   },
   "outputs": [
    {
     "name": "stderr",
     "output_type": "stream",
     "text": [
      "\r",
      "  0%|          | 0/1834 [00:00<?, ?it/s]"
     ]
    },
    {
     "name": "stderr",
     "output_type": "stream",
     "text": [
      "\r",
      " 97%|█████████▋| 1786/1834 [00:01<00:00, 1646.15it/s]"
     ]
    },
    {
     "name": "stdout",
     "output_type": "stream",
     "text": [
      "Done dt=2025-10-06/2025-10-06T000000.parquet\n"
     ]
    },
    {
     "name": "stdout",
     "output_type": "stream",
     "text": [
      "Done dt=2025-10-06/2025-10-06T010000.parquet\n"
     ]
    },
    {
     "name": "stdout",
     "output_type": "stream",
     "text": [
      "Done dt=2025-10-06/2025-10-06T020000.parquet\n"
     ]
    },
    {
     "name": "stdout",
     "output_type": "stream",
     "text": [
      "Done dt=2025-10-06/2025-10-06T030000.parquet\n"
     ]
    },
    {
     "name": "stdout",
     "output_type": "stream",
     "text": [
      "Done dt=2025-10-06/2025-10-06T040000.parquet\n"
     ]
    },
    {
     "name": "stdout",
     "output_type": "stream",
     "text": [
      "Done dt=2025-10-06/2025-10-06T050000.parquet\n"
     ]
    },
    {
     "name": "stdout",
     "output_type": "stream",
     "text": [
      "Done dt=2025-10-06/2025-10-06T060000.parquet\n"
     ]
    },
    {
     "name": "stderr",
     "output_type": "stream",
     "text": [
      "\r",
      " 97%|█████████▋| 1786/1834 [00:19<00:00, 1646.15it/s]"
     ]
    },
    {
     "name": "stderr",
     "output_type": "stream",
     "text": [
      "\r",
      " 98%|█████████▊| 1793/1834 [00:22<00:00, 56.69it/s]  "
     ]
    },
    {
     "name": "stdout",
     "output_type": "stream",
     "text": [
      "Done dt=2025-10-06/2025-10-06T070000.parquet\n"
     ]
    },
    {
     "name": "stderr",
     "output_type": "stream",
     "text": [
      "\r",
      " 98%|█████████▊| 1794/1834 [00:25<00:00, 47.25it/s]"
     ]
    },
    {
     "name": "stdout",
     "output_type": "stream",
     "text": [
      "Done dt=2025-10-06/2025-10-06T080000.parquet\n"
     ]
    },
    {
     "name": "stdout",
     "output_type": "stream",
     "text": [
      "Done dt=2025-10-06/2025-10-06T090000.parquet\n"
     ]
    },
    {
     "name": "stdout",
     "output_type": "stream",
     "text": [
      "Done dt=2025-10-06/2025-10-06T100000.parquet\n"
     ]
    },
    {
     "name": "stdout",
     "output_type": "stream",
     "text": [
      "Done dt=2025-10-06/2025-10-06T110000.parquet\n"
     ]
    },
    {
     "name": "stdout",
     "output_type": "stream",
     "text": [
      "Done dt=2025-10-06/2025-10-06T120000.parquet\n"
     ]
    },
    {
     "name": "stdout",
     "output_type": "stream",
     "text": [
      "Done dt=2025-10-06/2025-10-06T130000.parquet\n"
     ]
    },
    {
     "name": "stderr",
     "output_type": "stream",
     "text": [
      "\r",
      " 98%|█████████▊| 1794/1834 [00:40<00:00, 47.25it/s]"
     ]
    },
    {
     "name": "stderr",
     "output_type": "stream",
     "text": [
      "\r",
      " 98%|█████████▊| 1800/1834 [00:41<00:01, 21.26it/s]"
     ]
    },
    {
     "name": "stdout",
     "output_type": "stream",
     "text": [
      "Done dt=2025-10-06/2025-10-06T140000.parquet\n"
     ]
    },
    {
     "name": "stderr",
     "output_type": "stream",
     "text": [
      "\r",
      " 98%|█████████▊| 1801/1834 [00:43<00:01, 19.32it/s]"
     ]
    },
    {
     "name": "stdout",
     "output_type": "stream",
     "text": [
      "Done dt=2025-10-06/2025-10-06T150000.parquet\n"
     ]
    },
    {
     "name": "stdout",
     "output_type": "stream",
     "text": [
      "Done dt=2025-10-06/2025-10-06T160000.parquet\n"
     ]
    },
    {
     "name": "stdout",
     "output_type": "stream",
     "text": [
      "Done dt=2025-10-06/2025-10-06T170000.parquet\n"
     ]
    },
    {
     "name": "stdout",
     "output_type": "stream",
     "text": [
      "Done dt=2025-10-06/2025-10-06T180000.parquet\n"
     ]
    },
    {
     "name": "stdout",
     "output_type": "stream",
     "text": [
      "Done dt=2025-10-06/2025-10-06T190000.parquet\n"
     ]
    },
    {
     "name": "stdout",
     "output_type": "stream",
     "text": [
      "Done dt=2025-10-06/2025-10-06T200000.parquet\n"
     ]
    },
    {
     "name": "stdout",
     "output_type": "stream",
     "text": [
      "Done dt=2025-10-06/2025-10-06T210000.parquet\n"
     ]
    },
    {
     "name": "stdout",
     "output_type": "stream",
     "text": [
      "Done dt=2025-10-06/2025-10-06T220000.parquet\n"
     ]
    },
    {
     "name": "stderr",
     "output_type": "stream",
     "text": [
      "\r",
      " 98%|█████████▊| 1801/1834 [01:00<00:01, 19.32it/s]"
     ]
    },
    {
     "name": "stderr",
     "output_type": "stream",
     "text": [
      "\r",
      " 99%|█████████▊| 1809/1834 [01:00<00:02,  9.64it/s]"
     ]
    },
    {
     "name": "stdout",
     "output_type": "stream",
     "text": [
      "Done dt=2025-10-06/2025-10-06T230000.parquet\n"
     ]
    },
    {
     "name": "stderr",
     "output_type": "stream",
     "text": [
      "\r",
      " 99%|█████████▊| 1810/1834 [01:02<00:02,  8.87it/s]"
     ]
    },
    {
     "name": "stdout",
     "output_type": "stream",
     "text": [
      "Done dt=2025-10-07/2025-10-07T000000.parquet\n"
     ]
    },
    {
     "name": "stdout",
     "output_type": "stream",
     "text": [
      "Done dt=2025-10-07/2025-10-07T010000.parquet\n"
     ]
    },
    {
     "name": "stdout",
     "output_type": "stream",
     "text": [
      "Done dt=2025-10-07/2025-10-07T020000.parquet\n"
     ]
    },
    {
     "name": "stdout",
     "output_type": "stream",
     "text": [
      "Done dt=2025-10-07/2025-10-07T030000.parquet\n"
     ]
    },
    {
     "name": "stdout",
     "output_type": "stream",
     "text": [
      "Done dt=2025-10-07/2025-10-07T040000.parquet\n"
     ]
    },
    {
     "name": "stdout",
     "output_type": "stream",
     "text": [
      "Done dt=2025-10-07/2025-10-07T050000.parquet\n"
     ]
    },
    {
     "name": "stderr",
     "output_type": "stream",
     "text": [
      "\r",
      " 99%|█████████▊| 1810/1834 [01:20<00:02,  8.87it/s]"
     ]
    },
    {
     "name": "stderr",
     "output_type": "stream",
     "text": [
      "\r",
      " 99%|█████████▉| 1816/1834 [01:20<00:03,  4.56it/s]"
     ]
    },
    {
     "name": "stdout",
     "output_type": "stream",
     "text": [
      "Done dt=2025-10-07/2025-10-07T060000.parquet\n"
     ]
    },
    {
     "name": "stderr",
     "output_type": "stream",
     "text": [
      "\r",
      " 99%|█████████▉| 1817/1834 [01:23<00:04,  4.07it/s]"
     ]
    },
    {
     "name": "stdout",
     "output_type": "stream",
     "text": [
      "Done dt=2025-10-07/2025-10-07T070000.parquet\n"
     ]
    },
    {
     "name": "stdout",
     "output_type": "stream",
     "text": [
      "Done dt=2025-10-07/2025-10-07T080000.parquet\n"
     ]
    },
    {
     "name": "stdout",
     "output_type": "stream",
     "text": [
      "Done dt=2025-10-07/2025-10-07T090000.parquet\n"
     ]
    },
    {
     "name": "stdout",
     "output_type": "stream",
     "text": [
      "Done dt=2025-10-07/2025-10-07T100000.parquet\n"
     ]
    },
    {
     "name": "stdout",
     "output_type": "stream",
     "text": [
      "Done dt=2025-10-07/2025-10-07T110000.parquet\n"
     ]
    },
    {
     "name": "stderr",
     "output_type": "stream",
     "text": [
      "\r",
      " 99%|█████████▉| 1817/1834 [01:40<00:04,  4.07it/s]"
     ]
    },
    {
     "name": "stderr",
     "output_type": "stream",
     "text": [
      "\r",
      " 99%|█████████▉| 1822/1834 [01:40<00:05,  2.34it/s]"
     ]
    },
    {
     "name": "stdout",
     "output_type": "stream",
     "text": [
      "Done dt=2025-10-07/2025-10-07T120000.parquet\n"
     ]
    },
    {
     "name": "stderr",
     "output_type": "stream",
     "text": [
      "\r",
      " 99%|█████████▉| 1823/1834 [01:43<00:05,  2.11it/s]"
     ]
    },
    {
     "name": "stdout",
     "output_type": "stream",
     "text": [
      "Done dt=2025-10-07/2025-10-07T130000.parquet\n"
     ]
    },
    {
     "name": "stdout",
     "output_type": "stream",
     "text": [
      "Done dt=2025-10-07/2025-10-07T140000.parquet\n"
     ]
    },
    {
     "name": "stdout",
     "output_type": "stream",
     "text": [
      "Done dt=2025-10-07/2025-10-07T150000.parquet\n"
     ]
    },
    {
     "name": "stdout",
     "output_type": "stream",
     "text": [
      "Done dt=2025-10-07/2025-10-07T160000.parquet\n"
     ]
    },
    {
     "name": "stdout",
     "output_type": "stream",
     "text": [
      "Done dt=2025-10-07/2025-10-07T170000.parquet\n"
     ]
    },
    {
     "name": "stdout",
     "output_type": "stream",
     "text": [
      "Done dt=2025-10-07/2025-10-07T180000.parquet\n"
     ]
    },
    {
     "name": "stdout",
     "output_type": "stream",
     "text": [
      "Done dt=2025-10-07/2025-10-07T190000.parquet\n"
     ]
    },
    {
     "name": "stderr",
     "output_type": "stream",
     "text": [
      "\r",
      " 99%|█████████▉| 1823/1834 [02:00<00:05,  2.11it/s]"
     ]
    },
    {
     "name": "stderr",
     "output_type": "stream",
     "text": [
      "\r",
      "100%|█████████▉| 1830/1834 [02:00<00:02,  1.34it/s]"
     ]
    },
    {
     "name": "stdout",
     "output_type": "stream",
     "text": [
      "Done dt=2025-10-07/2025-10-07T200000.parquet\n"
     ]
    },
    {
     "name": "stderr",
     "output_type": "stream",
     "text": [
      "\r",
      "100%|█████████▉| 1831/1834 [02:02<00:02,  1.28it/s]"
     ]
    },
    {
     "name": "stdout",
     "output_type": "stream",
     "text": [
      "Done dt=2025-10-07/2025-10-07T210000.parquet\n"
     ]
    },
    {
     "name": "stdout",
     "output_type": "stream",
     "text": [
      "Done dt=2025-10-07/2025-10-07T220000.parquet\n"
     ]
    },
    {
     "name": "stdout",
     "output_type": "stream",
     "text": [
      "Done dt=2025-10-07/2025-10-07T230000.parquet\n"
     ]
    },
    {
     "name": "stderr",
     "output_type": "stream",
     "text": [
      "\r",
      "100%|██████████| 1834/1834 [02:08<00:00, 14.26it/s]"
     ]
    },
    {
     "name": "stdout",
     "output_type": "stream",
     "text": [
      "Done dt=2025-10-08/2025-10-08T000000.parquet\n"
     ]
    },
    {
     "name": "stderr",
     "output_type": "stream",
     "text": [
      "\n"
     ]
    }
   ],
   "source": [
    "from pathlib import Path\n",
    "root = Path.cwd()\n",
    "process_path = f'{root}/process/adjust_uat'\n",
    "from tqdm import tqdm\n",
    "import polars as pl\n",
    "\n",
    "os.makedirs(process_path, exist_ok=True)\n",
    "\n",
    "storage_options = {\n",
    "    \"account_name\": account_name,\n",
    "    \"account_key\":  account_key,\n",
    "}\n",
    "\n",
    "for ts, files in tqdm(groups.items()):\n",
    "    dt = ts[:10]                       # \"2025-06-25\" -> partition dt=...\n",
    "    if dt not in need_process:\n",
    "        continue\n",
    "    # break\n",
    "    partition_dir = os.path.join(process_path, f\"dt={dt}\")\n",
    "    os.makedirs(partition_dir, exist_ok=True)\n",
    "    out_file = os.path.join(partition_dir, f\"{ts}.parquet\")\n",
    "\n",
    "    dfs = []\n",
    "    for f in files:\n",
    "        df = (pl.scan_csv(f\"az://adjuststbuat/{f}\",                             # eager\n",
    "                          storage_options=storage_options,\n",
    "                          has_header=True,\n",
    "                          null_values=[\"\", \"NULL\"])       # rỗng → null\n",
    "                .select(pl.all().cast(pl.Utf8)))          # tất cả cột → string\n",
    "        dfs.append(df)\n",
    "\n",
    "    df_all = pl.concat(dfs, how=\"diagonal\")               # tự thêm null cột thiếu\n",
    "    df_all.sink_parquet(out_file, compression=\"snappy\")\n",
    "    print(f'Done dt={dt}/{ts}.parquet')\n"
   ]
  },
  {
   "cell_type": "code",
   "execution_count": 6,
   "id": "70b79b15",
   "metadata": {
    "execution": {
     "iopub.execute_input": "2025-10-08T01:51:06.065356Z",
     "iopub.status.busy": "2025-10-08T01:51:06.065108Z",
     "iopub.status.idle": "2025-10-08T01:51:06.278042Z",
     "shell.execute_reply": "2025-10-08T01:51:06.277553Z"
    },
    "id": "K5p12_Giu1Cx",
    "papermill": {
     "duration": 0.219741,
     "end_time": "2025-10-08T01:51:06.278879",
     "exception": false,
     "start_time": "2025-10-08T01:51:06.059138",
     "status": "completed"
    },
    "tags": []
   },
   "outputs": [
    {
     "name": "stderr",
     "output_type": "stream",
     "text": [
      "\r",
      "  0%|          | 0/3 [00:00<?, ?it/s]"
     ]
    },
    {
     "name": "stderr",
     "output_type": "stream",
     "text": [
      "\r",
      " 67%|██████▋   | 2/3 [00:00<00:00, 18.46it/s]"
     ]
    },
    {
     "name": "stderr",
     "output_type": "stream",
     "text": [
      "\r",
      "100%|██████████| 3/3 [00:00<00:00, 14.68it/s]"
     ]
    },
    {
     "name": "stderr",
     "output_type": "stream",
     "text": [
      "\n"
     ]
    }
   ],
   "source": [
    "output_path = f'{root}/output/adjust_uat'\n",
    "os.makedirs(output_path, exist_ok=True)\n",
    "import glob\n",
    "import shutil\n",
    "for dt_folder in tqdm(glob.glob(os.path.join(process_path, \"dt=*\"))):\n",
    "    dt = os.path.basename(dt_folder)[3:]                 # \"2025-06-25\"\n",
    "    files_pq = glob.glob(os.path.join(dt_folder, \"*T*.parquet\"))\n",
    "    if not files_pq:\n",
    "        continue\n",
    "\n",
    "    out_path = os.path.join(output_path, f\"{dt}.parquet\")\n",
    "\n",
    "    # Nếu trước đó lỡ tạo cùng tên dưới dạng DIR → xoá\n",
    "    if os.path.isdir(out_path):\n",
    "        shutil.rmtree(out_path)\n",
    "\n",
    "    # ---------- ❶  Lazy scan tất cả Parquet ----------\n",
    "    lfs = [pl.scan_parquet(f) for f in files_pq]          # mỗi file → LazyFrame\n",
    "\n",
    "    # ---------- ❷  Concat diagonal + giữ schema linh hoạt ----------\n",
    "    lf_day = (\n",
    "        pl.concat(lfs, how=\"diagonal\")                    # tự thêm null cột thiếu\n",
    "        .select(pl.all().cast(pl.Utf8))                   # đảm bảo mọi cột = string\n",
    "        .with_columns(pl.lit(dt).alias(\"dt\"))             # thêm cột partition (tuỳ)\n",
    "    )\n",
    "\n",
    "    # ---------- ❸  Ghi duy nhất 1 Parquet ----------\n",
    "    lf_day.sink_parquet(out_path, compression=\"snappy\")"
   ]
  },
  {
   "cell_type": "code",
   "execution_count": 7,
   "id": "d24dc28e",
   "metadata": {
    "execution": {
     "iopub.execute_input": "2025-10-08T01:51:06.291386Z",
     "iopub.status.busy": "2025-10-08T01:51:06.291097Z",
     "iopub.status.idle": "2025-10-08T01:51:15.746724Z",
     "shell.execute_reply": "2025-10-08T01:51:15.746134Z"
    },
    "id": "eoUxR5sVxMJI",
    "papermill": {
     "duration": 9.463056,
     "end_time": "2025-10-08T01:51:15.747605",
     "exception": false,
     "start_time": "2025-10-08T01:51:06.284549",
     "status": "completed"
    },
    "tags": []
   },
   "outputs": [
    {
     "name": "stderr",
     "output_type": "stream",
     "text": [
      "\r",
      "0it [00:00, ?it/s]"
     ]
    },
    {
     "name": "stdout",
     "output_type": "stream",
     "text": [
      "Uploading /home/runner/work/ADJ_JOBS/ADJ_JOBS/process/adjust_uat/dt=2025-10-06/2025-10-06T090000.parquet to adjuststbuatprocessed/processing/dt=2025-10-06/2025-10-06T090000.parquet\n"
     ]
    },
    {
     "name": "stdout",
     "output_type": "stream",
     "text": [
      "Uploading /home/runner/work/ADJ_JOBS/ADJ_JOBS/process/adjust_uat/dt=2025-10-06/2025-10-06T200000.parquet to adjuststbuatprocessed/processing/dt=2025-10-06/2025-10-06T200000.parquet\n",
      "Uploading /home/runner/work/ADJ_JOBS/ADJ_JOBS/process/adjust_uat/dt=2025-10-06/2025-10-06T110000.parquet to adjuststbuatprocessed/processing/dt=2025-10-06/2025-10-06T110000.parquet\n"
     ]
    },
    {
     "name": "stdout",
     "output_type": "stream",
     "text": [
      "Uploading /home/runner/work/ADJ_JOBS/ADJ_JOBS/process/adjust_uat/dt=2025-10-06/2025-10-06T190000.parquet to adjuststbuatprocessed/processing/dt=2025-10-06/2025-10-06T190000.parquet\n",
      "Uploading /home/runner/work/ADJ_JOBS/ADJ_JOBS/process/adjust_uat/dt=2025-10-06/2025-10-06T100000.parquet to adjuststbuatprocessed/processing/dt=2025-10-06/2025-10-06T100000.parquet\n"
     ]
    },
    {
     "name": "stdout",
     "output_type": "stream",
     "text": [
      "Uploading /home/runner/work/ADJ_JOBS/ADJ_JOBS/process/adjust_uat/dt=2025-10-06/2025-10-06T060000.parquet to adjuststbuatprocessed/processing/dt=2025-10-06/2025-10-06T060000.parquet\n",
      "Uploading /home/runner/work/ADJ_JOBS/ADJ_JOBS/process/adjust_uat/dt=2025-10-06/2025-10-06T120000.parquet to adjuststbuatprocessed/processing/dt=2025-10-06/2025-10-06T120000.parquet\n"
     ]
    },
    {
     "name": "stdout",
     "output_type": "stream",
     "text": [
      "Uploading /home/runner/work/ADJ_JOBS/ADJ_JOBS/process/adjust_uat/dt=2025-10-06/2025-10-06T230000.parquet to adjuststbuatprocessed/processing/dt=2025-10-06/2025-10-06T230000.parquet\n",
      "Uploading /home/runner/work/ADJ_JOBS/ADJ_JOBS/process/adjust_uat/dt=2025-10-06/2025-10-06T170000.parquet to adjuststbuatprocessed/processing/dt=2025-10-06/2025-10-06T170000.parquet\n"
     ]
    },
    {
     "name": "stdout",
     "output_type": "stream",
     "text": [
      "Uploading /home/runner/work/ADJ_JOBS/ADJ_JOBS/process/adjust_uat/dt=2025-10-06/2025-10-06T070000.parquet to adjuststbuatprocessed/processing/dt=2025-10-06/2025-10-06T070000.parquet\n",
      "Uploading /home/runner/work/ADJ_JOBS/ADJ_JOBS/process/adjust_uat/dt=2025-10-06/2025-10-06T050000.parquet to adjuststbuatprocessed/processing/dt=2025-10-06/2025-10-06T050000.parquet\n"
     ]
    },
    {
     "name": "stdout",
     "output_type": "stream",
     "text": [
      "Uploading /home/runner/work/ADJ_JOBS/ADJ_JOBS/process/adjust_uat/dt=2025-10-06/2025-10-06T210000.parquet to adjuststbuatprocessed/processing/dt=2025-10-06/2025-10-06T210000.parquet\n",
      "Uploading /home/runner/work/ADJ_JOBS/ADJ_JOBS/process/adjust_uat/dt=2025-10-06/2025-10-06T160000.parquet to adjuststbuatprocessed/processing/dt=2025-10-06/2025-10-06T160000.parquet\n"
     ]
    },
    {
     "name": "stdout",
     "output_type": "stream",
     "text": [
      "Uploading /home/runner/work/ADJ_JOBS/ADJ_JOBS/process/adjust_uat/dt=2025-10-06/2025-10-06T000000.parquet to adjuststbuatprocessed/processing/dt=2025-10-06/2025-10-06T000000.parquet\n",
      "Uploading /home/runner/work/ADJ_JOBS/ADJ_JOBS/process/adjust_uat/dt=2025-10-06/2025-10-06T010000.parquet to adjuststbuatprocessed/processing/dt=2025-10-06/2025-10-06T010000.parquet\n"
     ]
    },
    {
     "name": "stdout",
     "output_type": "stream",
     "text": [
      "Uploading /home/runner/work/ADJ_JOBS/ADJ_JOBS/process/adjust_uat/dt=2025-10-06/2025-10-06T080000.parquet to adjuststbuatprocessed/processing/dt=2025-10-06/2025-10-06T080000.parquet\n",
      "Uploading /home/runner/work/ADJ_JOBS/ADJ_JOBS/process/adjust_uat/dt=2025-10-06/2025-10-06T040000.parquet to adjuststbuatprocessed/processing/dt=2025-10-06/2025-10-06T040000.parquet\n"
     ]
    },
    {
     "name": "stdout",
     "output_type": "stream",
     "text": [
      "Uploading /home/runner/work/ADJ_JOBS/ADJ_JOBS/process/adjust_uat/dt=2025-10-06/2025-10-06T020000.parquet to adjuststbuatprocessed/processing/dt=2025-10-06/2025-10-06T020000.parquet\n",
      "Uploading /home/runner/work/ADJ_JOBS/ADJ_JOBS/process/adjust_uat/dt=2025-10-06/2025-10-06T180000.parquet to adjuststbuatprocessed/processing/dt=2025-10-06/2025-10-06T180000.parquet\n"
     ]
    },
    {
     "name": "stdout",
     "output_type": "stream",
     "text": [
      "Uploading /home/runner/work/ADJ_JOBS/ADJ_JOBS/process/adjust_uat/dt=2025-10-06/2025-10-06T030000.parquet to adjuststbuatprocessed/processing/dt=2025-10-06/2025-10-06T030000.parquet\n",
      "Uploading /home/runner/work/ADJ_JOBS/ADJ_JOBS/process/adjust_uat/dt=2025-10-06/2025-10-06T130000.parquet to adjuststbuatprocessed/processing/dt=2025-10-06/2025-10-06T130000.parquet\n"
     ]
    },
    {
     "name": "stdout",
     "output_type": "stream",
     "text": [
      "Uploading /home/runner/work/ADJ_JOBS/ADJ_JOBS/process/adjust_uat/dt=2025-10-06/2025-10-06T220000.parquet to adjuststbuatprocessed/processing/dt=2025-10-06/2025-10-06T220000.parquet\n",
      "Uploading /home/runner/work/ADJ_JOBS/ADJ_JOBS/process/adjust_uat/dt=2025-10-06/2025-10-06T150000.parquet to adjuststbuatprocessed/processing/dt=2025-10-06/2025-10-06T150000.parquet\n"
     ]
    },
    {
     "name": "stderr",
     "output_type": "stream",
     "text": [
      "\r",
      "2it [00:04,  2.45s/it]"
     ]
    },
    {
     "name": "stdout",
     "output_type": "stream",
     "text": [
      "Uploading /home/runner/work/ADJ_JOBS/ADJ_JOBS/process/adjust_uat/dt=2025-10-06/2025-10-06T140000.parquet to adjuststbuatprocessed/processing/dt=2025-10-06/2025-10-06T140000.parquet\n",
      "Uploading /home/runner/work/ADJ_JOBS/ADJ_JOBS/process/adjust_uat/dt=2025-10-08/2025-10-08T000000.parquet to adjuststbuatprocessed/processing/dt=2025-10-08/2025-10-08T000000.parquet\n"
     ]
    },
    {
     "name": "stderr",
     "output_type": "stream",
     "text": [
      "\r",
      "3it [00:05,  1.51s/it]"
     ]
    },
    {
     "name": "stdout",
     "output_type": "stream",
     "text": [
      "Uploading /home/runner/work/ADJ_JOBS/ADJ_JOBS/process/adjust_uat/dt=2025-10-07/2025-10-07T230000.parquet to adjuststbuatprocessed/processing/dt=2025-10-07/2025-10-07T230000.parquet\n",
      "Uploading /home/runner/work/ADJ_JOBS/ADJ_JOBS/process/adjust_uat/dt=2025-10-07/2025-10-07T060000.parquet to adjuststbuatprocessed/processing/dt=2025-10-07/2025-10-07T060000.parquet\n"
     ]
    },
    {
     "name": "stdout",
     "output_type": "stream",
     "text": [
      "Uploading /home/runner/work/ADJ_JOBS/ADJ_JOBS/process/adjust_uat/dt=2025-10-07/2025-10-07T170000.parquet to adjuststbuatprocessed/processing/dt=2025-10-07/2025-10-07T170000.parquet\n",
      "Uploading /home/runner/work/ADJ_JOBS/ADJ_JOBS/process/adjust_uat/dt=2025-10-07/2025-10-07T050000.parquet to adjuststbuatprocessed/processing/dt=2025-10-07/2025-10-07T050000.parquet\n"
     ]
    },
    {
     "name": "stdout",
     "output_type": "stream",
     "text": [
      "Uploading /home/runner/work/ADJ_JOBS/ADJ_JOBS/process/adjust_uat/dt=2025-10-07/2025-10-07T090000.parquet to adjuststbuatprocessed/processing/dt=2025-10-07/2025-10-07T090000.parquet\n",
      "Uploading /home/runner/work/ADJ_JOBS/ADJ_JOBS/process/adjust_uat/dt=2025-10-07/2025-10-07T040000.parquet to adjuststbuatprocessed/processing/dt=2025-10-07/2025-10-07T040000.parquet\n"
     ]
    },
    {
     "name": "stdout",
     "output_type": "stream",
     "text": [
      "Uploading /home/runner/work/ADJ_JOBS/ADJ_JOBS/process/adjust_uat/dt=2025-10-07/2025-10-07T190000.parquet to adjuststbuatprocessed/processing/dt=2025-10-07/2025-10-07T190000.parquet\n",
      "Uploading /home/runner/work/ADJ_JOBS/ADJ_JOBS/process/adjust_uat/dt=2025-10-07/2025-10-07T020000.parquet to adjuststbuatprocessed/processing/dt=2025-10-07/2025-10-07T020000.parquet\n"
     ]
    },
    {
     "name": "stdout",
     "output_type": "stream",
     "text": [
      "Uploading /home/runner/work/ADJ_JOBS/ADJ_JOBS/process/adjust_uat/dt=2025-10-07/2025-10-07T200000.parquet to adjuststbuatprocessed/processing/dt=2025-10-07/2025-10-07T200000.parquet\n",
      "Uploading /home/runner/work/ADJ_JOBS/ADJ_JOBS/process/adjust_uat/dt=2025-10-07/2025-10-07T130000.parquet to adjuststbuatprocessed/processing/dt=2025-10-07/2025-10-07T130000.parquet\n"
     ]
    },
    {
     "name": "stdout",
     "output_type": "stream",
     "text": [
      "Uploading /home/runner/work/ADJ_JOBS/ADJ_JOBS/process/adjust_uat/dt=2025-10-07/2025-10-07T220000.parquet to adjuststbuatprocessed/processing/dt=2025-10-07/2025-10-07T220000.parquet\n",
      "Uploading /home/runner/work/ADJ_JOBS/ADJ_JOBS/process/adjust_uat/dt=2025-10-07/2025-10-07T070000.parquet to adjuststbuatprocessed/processing/dt=2025-10-07/2025-10-07T070000.parquet\n"
     ]
    },
    {
     "name": "stdout",
     "output_type": "stream",
     "text": [
      "Uploading /home/runner/work/ADJ_JOBS/ADJ_JOBS/process/adjust_uat/dt=2025-10-07/2025-10-07T110000.parquet to adjuststbuatprocessed/processing/dt=2025-10-07/2025-10-07T110000.parquet\n",
      "Uploading /home/runner/work/ADJ_JOBS/ADJ_JOBS/process/adjust_uat/dt=2025-10-07/2025-10-07T180000.parquet to adjuststbuatprocessed/processing/dt=2025-10-07/2025-10-07T180000.parquet\n"
     ]
    },
    {
     "name": "stdout",
     "output_type": "stream",
     "text": [
      "Uploading /home/runner/work/ADJ_JOBS/ADJ_JOBS/process/adjust_uat/dt=2025-10-07/2025-10-07T150000.parquet to adjuststbuatprocessed/processing/dt=2025-10-07/2025-10-07T150000.parquet\n",
      "Uploading /home/runner/work/ADJ_JOBS/ADJ_JOBS/process/adjust_uat/dt=2025-10-07/2025-10-07T100000.parquet to adjuststbuatprocessed/processing/dt=2025-10-07/2025-10-07T100000.parquet\n"
     ]
    },
    {
     "name": "stdout",
     "output_type": "stream",
     "text": [
      "Uploading /home/runner/work/ADJ_JOBS/ADJ_JOBS/process/adjust_uat/dt=2025-10-07/2025-10-07T010000.parquet to adjuststbuatprocessed/processing/dt=2025-10-07/2025-10-07T010000.parquet\n",
      "Uploading /home/runner/work/ADJ_JOBS/ADJ_JOBS/process/adjust_uat/dt=2025-10-07/2025-10-07T030000.parquet to adjuststbuatprocessed/processing/dt=2025-10-07/2025-10-07T030000.parquet\n"
     ]
    },
    {
     "name": "stdout",
     "output_type": "stream",
     "text": [
      "Uploading /home/runner/work/ADJ_JOBS/ADJ_JOBS/process/adjust_uat/dt=2025-10-07/2025-10-07T000000.parquet to adjuststbuatprocessed/processing/dt=2025-10-07/2025-10-07T000000.parquet\n",
      "Uploading /home/runner/work/ADJ_JOBS/ADJ_JOBS/process/adjust_uat/dt=2025-10-07/2025-10-07T080000.parquet to adjuststbuatprocessed/processing/dt=2025-10-07/2025-10-07T080000.parquet\n"
     ]
    },
    {
     "name": "stdout",
     "output_type": "stream",
     "text": [
      "Uploading /home/runner/work/ADJ_JOBS/ADJ_JOBS/process/adjust_uat/dt=2025-10-07/2025-10-07T160000.parquet to adjuststbuatprocessed/processing/dt=2025-10-07/2025-10-07T160000.parquet\n",
      "Uploading /home/runner/work/ADJ_JOBS/ADJ_JOBS/process/adjust_uat/dt=2025-10-07/2025-10-07T120000.parquet to adjuststbuatprocessed/processing/dt=2025-10-07/2025-10-07T120000.parquet\n"
     ]
    },
    {
     "name": "stdout",
     "output_type": "stream",
     "text": [
      "Uploading /home/runner/work/ADJ_JOBS/ADJ_JOBS/process/adjust_uat/dt=2025-10-07/2025-10-07T140000.parquet to adjuststbuatprocessed/processing/dt=2025-10-07/2025-10-07T140000.parquet\n",
      "Uploading /home/runner/work/ADJ_JOBS/ADJ_JOBS/process/adjust_uat/dt=2025-10-07/2025-10-07T210000.parquet to adjuststbuatprocessed/processing/dt=2025-10-07/2025-10-07T210000.parquet\n"
     ]
    },
    {
     "name": "stderr",
     "output_type": "stream",
     "text": [
      "\r",
      "4it [00:09,  2.57s/it]"
     ]
    },
    {
     "name": "stderr",
     "output_type": "stream",
     "text": [
      "\r",
      "4it [00:09,  2.36s/it]"
     ]
    },
    {
     "name": "stdout",
     "output_type": "stream",
     "text": [
      "\n",
      "Folder upload complete.\n"
     ]
    },
    {
     "name": "stderr",
     "output_type": "stream",
     "text": [
      "\n"
     ]
    }
   ],
   "source": [
    "\n",
    "local_folder_path = f\"{root}/process/adjust_uat\"\n",
    "\n",
    "# Replace with the desired folder name in the Azure container\n",
    "azure_folder_name = \"processing\"\n",
    "\n",
    "# Iterate through files in the local folder and upload them\n",
    "for root, dirs, files in tqdm(os.walk(local_folder_path)):\n",
    "    for file in files:\n",
    "        # Construct the full local file path\n",
    "        local_file_path = os.path.join(root, file)\n",
    "\n",
    "        # Construct the blob name (path within the Azure container)\n",
    "        # This preserves the folder structure from the local path\n",
    "        relative_path = os.path.relpath(local_file_path, local_folder_path)\n",
    "        blob_name = os.path.join(azure_folder_name, relative_path)\n",
    "        # print(blob_name)\n",
    "        # Create a blob client for the current file\n",
    "        blob_client = container_client.get_blob_client(blob_name)\n",
    "\n",
    "        print(f\"Uploading {local_file_path} to {container_name}/{blob_name}\")\n",
    "\n",
    "#         # Upload the file\n",
    "        with open(local_file_path, \"rb\") as data:\n",
    "            blob_client.upload_blob(data, overwrite=True)\n",
    "\n",
    "print(\"\\nFolder upload complete.\")"
   ]
  },
  {
   "cell_type": "code",
   "execution_count": 8,
   "id": "ebcd6161",
   "metadata": {
    "execution": {
     "iopub.execute_input": "2025-10-08T01:51:15.762019Z",
     "iopub.status.busy": "2025-10-08T01:51:15.761796Z",
     "iopub.status.idle": "2025-10-08T01:51:15.768143Z",
     "shell.execute_reply": "2025-10-08T01:51:15.767579Z"
    },
    "id": "guZytRUpxPdd",
    "papermill": {
     "duration": 0.014557,
     "end_time": "2025-10-08T01:51:15.768971",
     "exception": false,
     "start_time": "2025-10-08T01:51:15.754414",
     "status": "completed"
    },
    "tags": []
   },
   "outputs": [
    {
     "name": "stderr",
     "output_type": "stream",
     "text": [
      "\r",
      "0it [00:00, ?it/s]"
     ]
    },
    {
     "name": "stderr",
     "output_type": "stream",
     "text": [
      "\r",
      "0it [00:00, ?it/s]"
     ]
    },
    {
     "name": "stdout",
     "output_type": "stream",
     "text": [
      "\n",
      "Folder upload complete.\n"
     ]
    },
    {
     "name": "stderr",
     "output_type": "stream",
     "text": [
      "\n"
     ]
    }
   ],
   "source": [
    "\n",
    "local_folder_path = f\"{root}/output/adjust_uat\"\n",
    "\n",
    "# Replace with the desired folder name in the Azure container\n",
    "azure_folder_name = \"output\"\n",
    "\n",
    "# Iterate through files in the local folder and upload them\n",
    "for root, dirs, files in tqdm(os.walk(local_folder_path)):\n",
    "    for file in files:\n",
    "        # Construct the full local file path\n",
    "        local_file_path = os.path.join(root, file)\n",
    "\n",
    "        # Construct the blob name (path within the Azure container)\n",
    "        # This preserves the folder structure from the local path\n",
    "        relative_path = os.path.relpath(local_file_path, local_folder_path)\n",
    "        blob_name = os.path.join(azure_folder_name, relative_path)\n",
    "        # print(blob_name)\n",
    "        # Create a blob client for the current file\n",
    "        blob_client = container_client.get_blob_client(blob_name)\n",
    "\n",
    "        print(f\"Uploading {local_file_path} to {container_name}/{blob_name}\")\n",
    "\n",
    "#         # Upload the file\n",
    "        with open(local_file_path, \"rb\") as data:\n",
    "            blob_client.upload_blob(data, overwrite=True)\n",
    "\n",
    "print(\"\\nFolder upload complete.\")"
   ]
  },
  {
   "cell_type": "code",
   "execution_count": 9,
   "id": "81cc95da",
   "metadata": {
    "execution": {
     "iopub.execute_input": "2025-10-08T01:51:15.783175Z",
     "iopub.status.busy": "2025-10-08T01:51:15.782971Z",
     "iopub.status.idle": "2025-10-08T01:51:15.786625Z",
     "shell.execute_reply": "2025-10-08T01:51:15.786147Z"
    },
    "id": "cRg5jAwbxQ7K",
    "papermill": {
     "duration": 0.011739,
     "end_time": "2025-10-08T01:51:15.787462",
     "exception": false,
     "start_time": "2025-10-08T01:51:15.775723",
     "status": "completed"
    },
    "tags": []
   },
   "outputs": [
    {
     "name": "stdout",
     "output_type": "stream",
     "text": [
      "Local folder not found: /home/runner/work/ADJ_JOBS/ADJ_JOBS/process/adjust_uat/dt=2025-10-07/process/adjust_uat\n",
      "Local folder not found: /home/runner/work/ADJ_JOBS/ADJ_JOBS/process/adjust_uat/dt=2025-10-07/output/adjust_uat\n"
     ]
    }
   ],
   "source": [
    "# Replace with the path to the local folder you want to delete\n",
    "local_folder_paths = [f\"{root}/process/adjust_uat\",f\"{root}/output/adjust_uat\"]\n",
    "# local_folder_path = f\"data/process/adjust_live\"\n",
    "for local_folder_path in local_folder_paths:\n",
    "    if os.path.exists(local_folder_path):\n",
    "        print(f\"Deleting local folder: {local_folder_path}\")\n",
    "        shutil.rmtree(local_folder_path)\n",
    "        print(\"Local folder deleted.\")\n",
    "    else:\n",
    "        print(f\"Local folder not found: {local_folder_path}\")"
   ]
  },
  {
   "cell_type": "markdown",
   "id": "f061738e",
   "metadata": {
    "id": "2TvKr29qyJd_",
    "papermill": {
     "duration": 0.00669,
     "end_time": "2025-10-08T01:51:15.800975",
     "exception": false,
     "start_time": "2025-10-08T01:51:15.794285",
     "status": "completed"
    },
    "tags": []
   },
   "source": [
    "# Live"
   ]
  },
  {
   "cell_type": "code",
   "execution_count": 10,
   "id": "596caf45",
   "metadata": {
    "execution": {
     "iopub.execute_input": "2025-10-08T01:51:15.815379Z",
     "iopub.status.busy": "2025-10-08T01:51:15.815111Z",
     "iopub.status.idle": "2025-10-08T01:51:19.325495Z",
     "shell.execute_reply": "2025-10-08T01:51:19.324972Z"
    },
    "id": "EnaFsdZFxpwc",
    "papermill": {
     "duration": 3.5187,
     "end_time": "2025-10-08T01:51:19.326385",
     "exception": false,
     "start_time": "2025-10-08T01:51:15.807685",
     "status": "completed"
    },
    "tags": []
   },
   "outputs": [
    {
     "data": {
      "text/plain": [
       "['2025-10-03', '2025-10-04', '2025-10-05', '2025-10-06', '2025-10-07']"
      ]
     },
     "execution_count": 10,
     "metadata": {},
     "output_type": "execute_result"
    }
   ],
   "source": [
    "already_processed = [file.name.split('/')[-1].split('.')[0] for file in container_client.list_blobs() if file.name[:12] == 'live/output/']\n",
    "already_processed[-5:]"
   ]
  },
  {
   "cell_type": "code",
   "execution_count": 11,
   "id": "6d554d40",
   "metadata": {
    "execution": {
     "iopub.execute_input": "2025-10-08T01:51:19.341377Z",
     "iopub.status.busy": "2025-10-08T01:51:19.341125Z",
     "iopub.status.idle": "2025-10-08T01:51:19.345691Z",
     "shell.execute_reply": "2025-10-08T01:51:19.345111Z"
    },
    "id": "aHveM3L5yNix",
    "papermill": {
     "duration": 0.013146,
     "end_time": "2025-10-08T01:51:19.346626",
     "exception": false,
     "start_time": "2025-10-08T01:51:19.333480",
     "status": "completed"
    },
    "tags": []
   },
   "outputs": [
    {
     "data": {
      "text/plain": [
       "['2025-10-07', '2025-10-08']"
      ]
     },
     "execution_count": 11,
     "metadata": {},
     "output_type": "execute_result"
    }
   ],
   "source": [
    "need_process = pd.date_range(start=already_processed[-1], end=today).strftime('%Y-%m-%d').to_list()\n",
    "need_process"
   ]
  },
  {
   "cell_type": "code",
   "execution_count": 12,
   "id": "7d01de17",
   "metadata": {
    "execution": {
     "iopub.execute_input": "2025-10-08T01:51:19.361937Z",
     "iopub.status.busy": "2025-10-08T01:51:19.361717Z",
     "iopub.status.idle": "2025-10-08T01:51:29.288666Z",
     "shell.execute_reply": "2025-10-08T01:51:29.288010Z"
    },
    "id": "I7Er6YEUyOsL",
    "papermill": {
     "duration": 9.93603,
     "end_time": "2025-10-08T01:51:29.289739",
     "exception": false,
     "start_time": "2025-10-08T01:51:19.353709",
     "status": "completed"
    },
    "tags": []
   },
   "outputs": [
    {
     "data": {
      "text/plain": [
       "['65n1fgov4zr4_2025-10-08T000000_762c775ae454d23f2c6b6a75623d14c7_2853a0.csv.gz',\n",
       " '65n1fgov4zr4_2025-10-08T000000_762c775ae454d23f2c6b6a75623d14c7_2853a1.csv.gz',\n",
       " '65n1fgov4zr4_2025-10-08T000000_762c775ae454d23f2c6b6a75623d14c7_be8220.csv.gz',\n",
       " '65n1fgov4zr4_2025-10-08T000000_762c775ae454d23f2c6b6a75623d14c7_be8221.csv.gz',\n",
       " '65n1fgov4zr4_2025-10-08T000000_762c775ae454d23f2c6b6a75623d14c7_c35750.csv.gz',\n",
       " '65n1fgov4zr4_2025-10-08T000000_762c775ae454d23f2c6b6a75623d14c7_c35751.csv.gz']"
      ]
     },
     "execution_count": 12,
     "metadata": {},
     "output_type": "execute_result"
    }
   ],
   "source": [
    "container_name_uat = \"adjuststblive\"\n",
    "container_client_uat = blob_service_client.get_container_client(container_name_uat)\n",
    "from collections import defaultdict\n",
    "files = [i.name for i in container_client_uat.list_blobs()]\n",
    "groups = defaultdict(list)\n",
    "for f in files:\n",
    "    dt = f.split('_')[1]\n",
    "    groups[dt].append(f)\n",
    "groups[dt]"
   ]
  },
  {
   "cell_type": "code",
   "execution_count": 13,
   "id": "dfa80eb9",
   "metadata": {
    "execution": {
     "iopub.execute_input": "2025-10-08T01:51:29.305891Z",
     "iopub.status.busy": "2025-10-08T01:51:29.305624Z",
     "iopub.status.idle": "2025-10-08T01:55:37.567905Z",
     "shell.execute_reply": "2025-10-08T01:55:37.567280Z"
    },
    "id": "g-W3s2nRyRY7",
    "papermill": {
     "duration": 248.271304,
     "end_time": "2025-10-08T01:55:37.568751",
     "exception": false,
     "start_time": "2025-10-08T01:51:29.297447",
     "status": "completed"
    },
    "tags": []
   },
   "outputs": [
    {
     "name": "stderr",
     "output_type": "stream",
     "text": [
      "\r",
      "  0%|          | 0/1815 [00:00<?, ?it/s]"
     ]
    },
    {
     "name": "stderr",
     "output_type": "stream",
     "text": [
      "\r",
      " 99%|█████████▊| 1791/1815 [00:14<00:00, 122.76it/s]"
     ]
    },
    {
     "name": "stdout",
     "output_type": "stream",
     "text": [
      "Done dt=2025-10-07/2025-10-07T000000.parquet\n"
     ]
    },
    {
     "name": "stdout",
     "output_type": "stream",
     "text": [
      "Done dt=2025-10-07/2025-10-07T010000.parquet\n"
     ]
    },
    {
     "name": "stderr",
     "output_type": "stream",
     "text": [
      "\r",
      " 99%|█████████▊| 1791/1815 [00:28<00:00, 122.76it/s]"
     ]
    },
    {
     "name": "stderr",
     "output_type": "stream",
     "text": [
      "\r",
      " 99%|█████████▉| 1793/1815 [00:38<00:00, 37.15it/s] "
     ]
    },
    {
     "name": "stdout",
     "output_type": "stream",
     "text": [
      "Done dt=2025-10-07/2025-10-07T020000.parquet\n"
     ]
    },
    {
     "name": "stderr",
     "output_type": "stream",
     "text": [
      "\r",
      " 99%|█████████▉| 1794/1815 [00:51<00:00, 24.11it/s]"
     ]
    },
    {
     "name": "stdout",
     "output_type": "stream",
     "text": [
      "Done dt=2025-10-07/2025-10-07T030000.parquet\n"
     ]
    },
    {
     "name": "stderr",
     "output_type": "stream",
     "text": [
      "\r",
      " 99%|█████████▉| 1795/1815 [01:04<00:01, 16.00it/s]"
     ]
    },
    {
     "name": "stdout",
     "output_type": "stream",
     "text": [
      "Done dt=2025-10-07/2025-10-07T040000.parquet\n"
     ]
    },
    {
     "name": "stderr",
     "output_type": "stream",
     "text": [
      "\r",
      " 99%|█████████▉| 1796/1815 [01:16<00:01, 11.07it/s]"
     ]
    },
    {
     "name": "stdout",
     "output_type": "stream",
     "text": [
      "Done dt=2025-10-07/2025-10-07T050000.parquet\n"
     ]
    },
    {
     "name": "stderr",
     "output_type": "stream",
     "text": [
      "\r",
      " 99%|█████████▉| 1797/1815 [01:26<00:02,  7.97it/s]"
     ]
    },
    {
     "name": "stdout",
     "output_type": "stream",
     "text": [
      "Done dt=2025-10-07/2025-10-07T060000.parquet\n"
     ]
    },
    {
     "name": "stderr",
     "output_type": "stream",
     "text": [
      "\r",
      " 99%|█████████▉| 1798/1815 [01:38<00:03,  5.52it/s]"
     ]
    },
    {
     "name": "stdout",
     "output_type": "stream",
     "text": [
      "Done dt=2025-10-07/2025-10-07T070000.parquet\n"
     ]
    },
    {
     "name": "stderr",
     "output_type": "stream",
     "text": [
      "\r",
      " 99%|█████████▉| 1799/1815 [01:52<00:04,  3.68it/s]"
     ]
    },
    {
     "name": "stdout",
     "output_type": "stream",
     "text": [
      "Done dt=2025-10-07/2025-10-07T080000.parquet\n"
     ]
    },
    {
     "name": "stderr",
     "output_type": "stream",
     "text": [
      "\r",
      " 99%|█████████▉| 1800/1815 [02:06<00:05,  2.50it/s]"
     ]
    },
    {
     "name": "stdout",
     "output_type": "stream",
     "text": [
      "Done dt=2025-10-07/2025-10-07T090000.parquet\n"
     ]
    },
    {
     "name": "stderr",
     "output_type": "stream",
     "text": [
      "\r",
      " 99%|█████████▉| 1801/1815 [02:21<00:08,  1.70it/s]"
     ]
    },
    {
     "name": "stdout",
     "output_type": "stream",
     "text": [
      "Done dt=2025-10-07/2025-10-07T100000.parquet\n"
     ]
    },
    {
     "name": "stderr",
     "output_type": "stream",
     "text": [
      "\r",
      " 99%|█████████▉| 1802/1815 [02:35<00:10,  1.19it/s]"
     ]
    },
    {
     "name": "stdout",
     "output_type": "stream",
     "text": [
      "Done dt=2025-10-07/2025-10-07T110000.parquet\n"
     ]
    },
    {
     "name": "stderr",
     "output_type": "stream",
     "text": [
      "\r",
      " 99%|█████████▉| 1803/1815 [02:49<00:14,  1.17s/it]"
     ]
    },
    {
     "name": "stdout",
     "output_type": "stream",
     "text": [
      "Done dt=2025-10-07/2025-10-07T120000.parquet\n"
     ]
    },
    {
     "name": "stderr",
     "output_type": "stream",
     "text": [
      "\r",
      " 99%|█████████▉| 1804/1815 [03:01<00:17,  1.57s/it]"
     ]
    },
    {
     "name": "stdout",
     "output_type": "stream",
     "text": [
      "Done dt=2025-10-07/2025-10-07T130000.parquet\n"
     ]
    },
    {
     "name": "stderr",
     "output_type": "stream",
     "text": [
      "\r",
      " 99%|█████████▉| 1805/1815 [03:10<00:19,  1.95s/it]"
     ]
    },
    {
     "name": "stdout",
     "output_type": "stream",
     "text": [
      "Done dt=2025-10-07/2025-10-07T140000.parquet\n"
     ]
    },
    {
     "name": "stderr",
     "output_type": "stream",
     "text": [
      "\r",
      "100%|█████████▉| 1806/1815 [03:20<00:22,  2.47s/it]"
     ]
    },
    {
     "name": "stdout",
     "output_type": "stream",
     "text": [
      "Done dt=2025-10-07/2025-10-07T150000.parquet\n"
     ]
    },
    {
     "name": "stderr",
     "output_type": "stream",
     "text": [
      "\r",
      "100%|█████████▉| 1807/1815 [03:26<00:21,  2.73s/it]"
     ]
    },
    {
     "name": "stdout",
     "output_type": "stream",
     "text": [
      "Done dt=2025-10-07/2025-10-07T160000.parquet\n"
     ]
    },
    {
     "name": "stderr",
     "output_type": "stream",
     "text": [
      "\r",
      "100%|█████████▉| 1808/1815 [03:30<00:20,  2.88s/it]"
     ]
    },
    {
     "name": "stdout",
     "output_type": "stream",
     "text": [
      "Done dt=2025-10-07/2025-10-07T170000.parquet\n"
     ]
    },
    {
     "name": "stderr",
     "output_type": "stream",
     "text": [
      "\r",
      "100%|█████████▉| 1809/1815 [03:34<00:18,  3.01s/it]"
     ]
    },
    {
     "name": "stdout",
     "output_type": "stream",
     "text": [
      "Done dt=2025-10-07/2025-10-07T180000.parquet\n"
     ]
    },
    {
     "name": "stderr",
     "output_type": "stream",
     "text": [
      "\r",
      "100%|█████████▉| 1810/1815 [03:38<00:15,  3.11s/it]"
     ]
    },
    {
     "name": "stdout",
     "output_type": "stream",
     "text": [
      "Done dt=2025-10-07/2025-10-07T190000.parquet\n"
     ]
    },
    {
     "name": "stderr",
     "output_type": "stream",
     "text": [
      "\r",
      "100%|█████████▉| 1811/1815 [03:41<00:12,  3.21s/it]"
     ]
    },
    {
     "name": "stdout",
     "output_type": "stream",
     "text": [
      "Done dt=2025-10-07/2025-10-07T200000.parquet\n"
     ]
    },
    {
     "name": "stderr",
     "output_type": "stream",
     "text": [
      "\r",
      "100%|█████████▉| 1812/1815 [03:45<00:09,  3.33s/it]"
     ]
    },
    {
     "name": "stdout",
     "output_type": "stream",
     "text": [
      "Done dt=2025-10-07/2025-10-07T210000.parquet\n"
     ]
    },
    {
     "name": "stderr",
     "output_type": "stream",
     "text": [
      "\r",
      "100%|█████████▉| 1813/1815 [03:49<00:07,  3.56s/it]"
     ]
    },
    {
     "name": "stdout",
     "output_type": "stream",
     "text": [
      "Done dt=2025-10-07/2025-10-07T220000.parquet\n"
     ]
    },
    {
     "name": "stderr",
     "output_type": "stream",
     "text": [
      "\r",
      "100%|█████████▉| 1814/1815 [03:58<00:04,  4.81s/it]"
     ]
    },
    {
     "name": "stdout",
     "output_type": "stream",
     "text": [
      "Done dt=2025-10-07/2025-10-07T230000.parquet\n"
     ]
    },
    {
     "name": "stderr",
     "output_type": "stream",
     "text": [
      "\r",
      "100%|██████████| 1815/1815 [04:08<00:00,  6.12s/it]"
     ]
    },
    {
     "name": "stderr",
     "output_type": "stream",
     "text": [
      "\r",
      "100%|██████████| 1815/1815 [04:08<00:00,  7.31it/s]"
     ]
    },
    {
     "name": "stdout",
     "output_type": "stream",
     "text": [
      "Done dt=2025-10-08/2025-10-08T000000.parquet\n"
     ]
    },
    {
     "name": "stderr",
     "output_type": "stream",
     "text": [
      "\n"
     ]
    }
   ],
   "source": [
    "process_path = f'{root}/process/adjust_live'\n",
    "os.makedirs(process_path, exist_ok=True)\n",
    "\n",
    "for ts, files in tqdm(groups.items()):\n",
    "    # if ts not in need_process:\n",
    "    #     continue\n",
    "    dt = ts[:10]                       # \"2025-06-25\" -> partition dt=...\n",
    "    # print(ts)\n",
    "    # break\n",
    "    if dt not in need_process:\n",
    "        continue\n",
    "    # break\n",
    "    partition_dir = os.path.join(process_path, f\"dt={dt}\")\n",
    "    os.makedirs(partition_dir, exist_ok=True)\n",
    "    out_file = os.path.join(partition_dir, f\"{ts}.parquet\")\n",
    "\n",
    "    dfs = []\n",
    "    for f in files:\n",
    "        df = (pl.scan_csv(f\"az://adjuststblive/{f}\",                             # eager\n",
    "                          storage_options=storage_options,\n",
    "                          has_header=True,\n",
    "                          null_values=[\"\", \"NULL\"],\n",
    "                          ignore_errors=True)       # rỗng → null\n",
    "                .select(pl.all().cast(pl.Utf8)))          # tất cả cột → string\n",
    "        dfs.append(df)\n",
    "\n",
    "    df_all = pl.concat(dfs, how=\"diagonal\")               # tự thêm null cột thiếu\n",
    "    df_all.sink_parquet(out_file, compression=\"snappy\")\n",
    "    print(f'Done dt={dt}/{ts}.parquet')"
   ]
  },
  {
   "cell_type": "code",
   "execution_count": 14,
   "id": "71d3fe85",
   "metadata": {
    "execution": {
     "iopub.execute_input": "2025-10-08T01:55:37.588817Z",
     "iopub.status.busy": "2025-10-08T01:55:37.588604Z",
     "iopub.status.idle": "2025-10-08T01:56:09.490808Z",
     "shell.execute_reply": "2025-10-08T01:56:09.490207Z"
    },
    "id": "sBm7rfFUyePJ",
    "papermill": {
     "duration": 31.922747,
     "end_time": "2025-10-08T01:56:09.500737",
     "exception": false,
     "start_time": "2025-10-08T01:55:37.577990",
     "status": "completed"
    },
    "tags": []
   },
   "outputs": [
    {
     "name": "stderr",
     "output_type": "stream",
     "text": [
      "\r",
      "  0%|          | 0/2 [00:00<?, ?it/s]"
     ]
    },
    {
     "name": "stderr",
     "output_type": "stream",
     "text": [
      "\r",
      " 50%|█████     | 1/2 [00:01<00:01,  1.30s/it]"
     ]
    },
    {
     "name": "stderr",
     "output_type": "stream",
     "text": [
      "\r",
      "100%|██████████| 2/2 [00:31<00:00, 18.53s/it]"
     ]
    },
    {
     "name": "stderr",
     "output_type": "stream",
     "text": [
      "\r",
      "100%|██████████| 2/2 [00:31<00:00, 15.95s/it]"
     ]
    },
    {
     "name": "stderr",
     "output_type": "stream",
     "text": [
      "\n"
     ]
    }
   ],
   "source": [
    "output_path = f'{root}/output/adjust_live'\n",
    "os.makedirs(output_path, exist_ok=True)\n",
    "for dt_folder in tqdm(glob.glob(os.path.join(process_path, \"dt=*\"))):\n",
    "    dt = os.path.basename(dt_folder)[3:]                 # \"2025-06-25\"\n",
    "    files_pq = glob.glob(os.path.join(dt_folder, \"*T*.parquet\"))\n",
    "    if not files_pq:\n",
    "        continue\n",
    "\n",
    "    out_path = os.path.join(output_path, f\"{dt}.parquet\")\n",
    "\n",
    "    # Nếu trước đó lỡ tạo cùng tên dưới dạng DIR → xoá\n",
    "    if os.path.isdir(out_path):\n",
    "        shutil.rmtree(out_path)\n",
    "\n",
    "    # ---------- ❶  Lazy scan tất cả Parquet ----------\n",
    "    lfs = [pl.scan_parquet(f) for f in files_pq]          # mỗi file → LazyFrame\n",
    "\n",
    "    # ---------- ❷  Concat diagonal + giữ schema linh hoạt ----------\n",
    "    lf_day = (\n",
    "        pl.concat(lfs, how=\"diagonal\")                    # tự thêm null cột thiếu\n",
    "        .select(pl.all().cast(pl.Utf8))                   # đảm bảo mọi cột = string\n",
    "        .with_columns(pl.lit(dt).alias(\"dt\"))             # thêm cột partition (tuỳ)\n",
    "    )\n",
    "\n",
    "    # ---------- ❸  Ghi duy nhất 1 Parquet ----------\n",
    "    lf_day.sink_parquet(out_path, compression=\"snappy\")"
   ]
  },
  {
   "cell_type": "code",
   "execution_count": 15,
   "id": "c9a0a77e",
   "metadata": {
    "execution": {
     "iopub.execute_input": "2025-10-08T01:56:09.782074Z",
     "iopub.status.busy": "2025-10-08T01:56:09.781836Z",
     "iopub.status.idle": "2025-10-08T02:08:54.133387Z",
     "shell.execute_reply": "2025-10-08T02:08:54.132730Z"
    },
    "id": "nkJnz3CeykiU",
    "papermill": {
     "duration": 764.557871,
     "end_time": "2025-10-08T02:08:54.134286",
     "exception": false,
     "start_time": "2025-10-08T01:56:09.576415",
     "status": "completed"
    },
    "tags": []
   },
   "outputs": [
    {
     "name": "stderr",
     "output_type": "stream",
     "text": [
      "\r",
      "0it [00:00, ?it/s]"
     ]
    },
    {
     "name": "stdout",
     "output_type": "stream",
     "text": [
      "Uploading /home/runner/work/ADJ_JOBS/ADJ_JOBS/process/adjust_uat/dt=2025-10-07/process/adjust_live/dt=2025-10-08/2025-10-08T000000.parquet to adjuststbuatprocessed/live/processing/dt=2025-10-08/2025-10-08T000000.parquet\n"
     ]
    },
    {
     "name": "stderr",
     "output_type": "stream",
     "text": [
      "\r",
      "2it [00:10,  5.03s/it]"
     ]
    },
    {
     "name": "stdout",
     "output_type": "stream",
     "text": [
      "Uploading /home/runner/work/ADJ_JOBS/ADJ_JOBS/process/adjust_uat/dt=2025-10-07/process/adjust_live/dt=2025-10-07/2025-10-07T230000.parquet to adjuststbuatprocessed/live/processing/dt=2025-10-07/2025-10-07T230000.parquet\n"
     ]
    },
    {
     "name": "stdout",
     "output_type": "stream",
     "text": [
      "Uploading /home/runner/work/ADJ_JOBS/ADJ_JOBS/process/adjust_uat/dt=2025-10-07/process/adjust_live/dt=2025-10-07/2025-10-07T060000.parquet to adjuststbuatprocessed/live/processing/dt=2025-10-07/2025-10-07T060000.parquet\n"
     ]
    },
    {
     "name": "stdout",
     "output_type": "stream",
     "text": [
      "Uploading /home/runner/work/ADJ_JOBS/ADJ_JOBS/process/adjust_uat/dt=2025-10-07/process/adjust_live/dt=2025-10-07/2025-10-07T170000.parquet to adjuststbuatprocessed/live/processing/dt=2025-10-07/2025-10-07T170000.parquet\n"
     ]
    },
    {
     "name": "stdout",
     "output_type": "stream",
     "text": [
      "Uploading /home/runner/work/ADJ_JOBS/ADJ_JOBS/process/adjust_uat/dt=2025-10-07/process/adjust_live/dt=2025-10-07/2025-10-07T050000.parquet to adjuststbuatprocessed/live/processing/dt=2025-10-07/2025-10-07T050000.parquet\n"
     ]
    },
    {
     "name": "stdout",
     "output_type": "stream",
     "text": [
      "Uploading /home/runner/work/ADJ_JOBS/ADJ_JOBS/process/adjust_uat/dt=2025-10-07/process/adjust_live/dt=2025-10-07/2025-10-07T090000.parquet to adjuststbuatprocessed/live/processing/dt=2025-10-07/2025-10-07T090000.parquet\n"
     ]
    },
    {
     "name": "stdout",
     "output_type": "stream",
     "text": [
      "Uploading /home/runner/work/ADJ_JOBS/ADJ_JOBS/process/adjust_uat/dt=2025-10-07/process/adjust_live/dt=2025-10-07/2025-10-07T040000.parquet to adjuststbuatprocessed/live/processing/dt=2025-10-07/2025-10-07T040000.parquet\n"
     ]
    },
    {
     "name": "stdout",
     "output_type": "stream",
     "text": [
      "Uploading /home/runner/work/ADJ_JOBS/ADJ_JOBS/process/adjust_uat/dt=2025-10-07/process/adjust_live/dt=2025-10-07/2025-10-07T190000.parquet to adjuststbuatprocessed/live/processing/dt=2025-10-07/2025-10-07T190000.parquet\n"
     ]
    },
    {
     "name": "stdout",
     "output_type": "stream",
     "text": [
      "Uploading /home/runner/work/ADJ_JOBS/ADJ_JOBS/process/adjust_uat/dt=2025-10-07/process/adjust_live/dt=2025-10-07/2025-10-07T020000.parquet to adjuststbuatprocessed/live/processing/dt=2025-10-07/2025-10-07T020000.parquet\n"
     ]
    },
    {
     "name": "stdout",
     "output_type": "stream",
     "text": [
      "Uploading /home/runner/work/ADJ_JOBS/ADJ_JOBS/process/adjust_uat/dt=2025-10-07/process/adjust_live/dt=2025-10-07/2025-10-07T200000.parquet to adjuststbuatprocessed/live/processing/dt=2025-10-07/2025-10-07T200000.parquet\n"
     ]
    },
    {
     "name": "stdout",
     "output_type": "stream",
     "text": [
      "Uploading /home/runner/work/ADJ_JOBS/ADJ_JOBS/process/adjust_uat/dt=2025-10-07/process/adjust_live/dt=2025-10-07/2025-10-07T130000.parquet to adjuststbuatprocessed/live/processing/dt=2025-10-07/2025-10-07T130000.parquet\n"
     ]
    },
    {
     "name": "stdout",
     "output_type": "stream",
     "text": [
      "Uploading /home/runner/work/ADJ_JOBS/ADJ_JOBS/process/adjust_uat/dt=2025-10-07/process/adjust_live/dt=2025-10-07/2025-10-07T220000.parquet to adjuststbuatprocessed/live/processing/dt=2025-10-07/2025-10-07T220000.parquet\n"
     ]
    },
    {
     "name": "stdout",
     "output_type": "stream",
     "text": [
      "Uploading /home/runner/work/ADJ_JOBS/ADJ_JOBS/process/adjust_uat/dt=2025-10-07/process/adjust_live/dt=2025-10-07/2025-10-07T070000.parquet to adjuststbuatprocessed/live/processing/dt=2025-10-07/2025-10-07T070000.parquet\n"
     ]
    },
    {
     "name": "stdout",
     "output_type": "stream",
     "text": [
      "Uploading /home/runner/work/ADJ_JOBS/ADJ_JOBS/process/adjust_uat/dt=2025-10-07/process/adjust_live/dt=2025-10-07/2025-10-07T110000.parquet to adjuststbuatprocessed/live/processing/dt=2025-10-07/2025-10-07T110000.parquet\n"
     ]
    },
    {
     "name": "stdout",
     "output_type": "stream",
     "text": [
      "Uploading /home/runner/work/ADJ_JOBS/ADJ_JOBS/process/adjust_uat/dt=2025-10-07/process/adjust_live/dt=2025-10-07/2025-10-07T180000.parquet to adjuststbuatprocessed/live/processing/dt=2025-10-07/2025-10-07T180000.parquet\n"
     ]
    },
    {
     "name": "stdout",
     "output_type": "stream",
     "text": [
      "Uploading /home/runner/work/ADJ_JOBS/ADJ_JOBS/process/adjust_uat/dt=2025-10-07/process/adjust_live/dt=2025-10-07/2025-10-07T150000.parquet to adjuststbuatprocessed/live/processing/dt=2025-10-07/2025-10-07T150000.parquet\n"
     ]
    },
    {
     "name": "stdout",
     "output_type": "stream",
     "text": [
      "Uploading /home/runner/work/ADJ_JOBS/ADJ_JOBS/process/adjust_uat/dt=2025-10-07/process/adjust_live/dt=2025-10-07/2025-10-07T100000.parquet to adjuststbuatprocessed/live/processing/dt=2025-10-07/2025-10-07T100000.parquet\n"
     ]
    },
    {
     "name": "stdout",
     "output_type": "stream",
     "text": [
      "Uploading /home/runner/work/ADJ_JOBS/ADJ_JOBS/process/adjust_uat/dt=2025-10-07/process/adjust_live/dt=2025-10-07/2025-10-07T010000.parquet to adjuststbuatprocessed/live/processing/dt=2025-10-07/2025-10-07T010000.parquet\n"
     ]
    },
    {
     "name": "stdout",
     "output_type": "stream",
     "text": [
      "Uploading /home/runner/work/ADJ_JOBS/ADJ_JOBS/process/adjust_uat/dt=2025-10-07/process/adjust_live/dt=2025-10-07/2025-10-07T030000.parquet to adjuststbuatprocessed/live/processing/dt=2025-10-07/2025-10-07T030000.parquet\n"
     ]
    },
    {
     "name": "stdout",
     "output_type": "stream",
     "text": [
      "Uploading /home/runner/work/ADJ_JOBS/ADJ_JOBS/process/adjust_uat/dt=2025-10-07/process/adjust_live/dt=2025-10-07/2025-10-07T000000.parquet to adjuststbuatprocessed/live/processing/dt=2025-10-07/2025-10-07T000000.parquet\n"
     ]
    },
    {
     "name": "stdout",
     "output_type": "stream",
     "text": [
      "Uploading /home/runner/work/ADJ_JOBS/ADJ_JOBS/process/adjust_uat/dt=2025-10-07/process/adjust_live/dt=2025-10-07/2025-10-07T080000.parquet to adjuststbuatprocessed/live/processing/dt=2025-10-07/2025-10-07T080000.parquet\n"
     ]
    },
    {
     "name": "stdout",
     "output_type": "stream",
     "text": [
      "Uploading /home/runner/work/ADJ_JOBS/ADJ_JOBS/process/adjust_uat/dt=2025-10-07/process/adjust_live/dt=2025-10-07/2025-10-07T160000.parquet to adjuststbuatprocessed/live/processing/dt=2025-10-07/2025-10-07T160000.parquet\n"
     ]
    },
    {
     "name": "stdout",
     "output_type": "stream",
     "text": [
      "Uploading /home/runner/work/ADJ_JOBS/ADJ_JOBS/process/adjust_uat/dt=2025-10-07/process/adjust_live/dt=2025-10-07/2025-10-07T120000.parquet to adjuststbuatprocessed/live/processing/dt=2025-10-07/2025-10-07T120000.parquet\n"
     ]
    },
    {
     "name": "stdout",
     "output_type": "stream",
     "text": [
      "Uploading /home/runner/work/ADJ_JOBS/ADJ_JOBS/process/adjust_uat/dt=2025-10-07/process/adjust_live/dt=2025-10-07/2025-10-07T140000.parquet to adjuststbuatprocessed/live/processing/dt=2025-10-07/2025-10-07T140000.parquet\n"
     ]
    },
    {
     "name": "stdout",
     "output_type": "stream",
     "text": [
      "Uploading /home/runner/work/ADJ_JOBS/ADJ_JOBS/process/adjust_uat/dt=2025-10-07/process/adjust_live/dt=2025-10-07/2025-10-07T210000.parquet to adjuststbuatprocessed/live/processing/dt=2025-10-07/2025-10-07T210000.parquet\n"
     ]
    },
    {
     "name": "stderr",
     "output_type": "stream",
     "text": [
      "\r",
      "3it [12:44, 317.22s/it]"
     ]
    },
    {
     "name": "stderr",
     "output_type": "stream",
     "text": [
      "\r",
      "3it [12:44, 254.78s/it]"
     ]
    },
    {
     "name": "stdout",
     "output_type": "stream",
     "text": [
      "\n",
      "Folder upload complete.\n"
     ]
    },
    {
     "name": "stderr",
     "output_type": "stream",
     "text": [
      "\n"
     ]
    }
   ],
   "source": [
    "\n",
    "local_folder_path = f\"{root}/process/adjust_live\"\n",
    "\n",
    "# Replace with the desired folder name in the Azure container\n",
    "azure_folder_name = \"live/processing\"\n",
    "\n",
    "# Iterate through files in the local folder and upload them\n",
    "for root, dirs, files in tqdm(os.walk(local_folder_path)):\n",
    "    for file in files:\n",
    "        # Construct the full local file path\n",
    "        local_file_path = os.path.join(root, file)\n",
    "\n",
    "        # Construct the blob name (path within the Azure container)\n",
    "        # This preserves the folder structure from the local path\n",
    "        relative_path = os.path.relpath(local_file_path, local_folder_path)\n",
    "        blob_name = os.path.join(azure_folder_name, relative_path)\n",
    "        # print(blob_name)\n",
    "        # Create a blob client for the current file\n",
    "        blob_client = container_client.get_blob_client(blob_name)\n",
    "\n",
    "        print(f\"Uploading {local_file_path} to {container_name}/{blob_name}\")\n",
    "\n",
    "#         # Upload the file\n",
    "        with open(local_file_path, \"rb\") as data:\n",
    "            blob_client.upload_blob(data, overwrite=True)\n",
    "\n",
    "print(\"\\nFolder upload complete.\")"
   ]
  },
  {
   "cell_type": "code",
   "execution_count": 16,
   "id": "9ed48bea",
   "metadata": {
    "execution": {
     "iopub.execute_input": "2025-10-08T02:08:54.156155Z",
     "iopub.status.busy": "2025-10-08T02:08:54.155936Z",
     "iopub.status.idle": "2025-10-08T02:08:54.162767Z",
     "shell.execute_reply": "2025-10-08T02:08:54.162161Z"
    },
    "id": "uJFbJAwtysuo",
    "papermill": {
     "duration": 0.018645,
     "end_time": "2025-10-08T02:08:54.163648",
     "exception": false,
     "start_time": "2025-10-08T02:08:54.145003",
     "status": "completed"
    },
    "tags": []
   },
   "outputs": [
    {
     "name": "stderr",
     "output_type": "stream",
     "text": [
      "\r",
      "0it [00:00, ?it/s]"
     ]
    },
    {
     "name": "stderr",
     "output_type": "stream",
     "text": [
      "\r",
      "0it [00:00, ?it/s]"
     ]
    },
    {
     "name": "stdout",
     "output_type": "stream",
     "text": [
      "\n",
      "Folder upload complete.\n"
     ]
    },
    {
     "name": "stderr",
     "output_type": "stream",
     "text": [
      "\n"
     ]
    }
   ],
   "source": [
    "local_folder_path = f\"{root}/output/adjust_live\"\n",
    "\n",
    "# Replace with the desired folder name in the Azure container\n",
    "azure_folder_name = \"live/output\"\n",
    "\n",
    "# Iterate through files in the local folder and upload them\n",
    "for root, dirs, files in tqdm(os.walk(local_folder_path)):\n",
    "    for file in files:\n",
    "        # Construct the full local file path\n",
    "        local_file_path = os.path.join(root, file)\n",
    "\n",
    "        # Construct the blob name (path within the Azure container)\n",
    "        # This preserves the folder structure from the local path\n",
    "        relative_path = os.path.relpath(local_file_path, local_folder_path)\n",
    "        blob_name = os.path.join(azure_folder_name, relative_path)\n",
    "        # print(blob_name)\n",
    "        # Create a blob client for the current file\n",
    "        blob_client = container_client.get_blob_client(blob_name)\n",
    "\n",
    "        print(f\"Uploading {local_file_path} to {container_name}/{blob_name}\")\n",
    "\n",
    "#         # Upload the file\n",
    "        with open(local_file_path, \"rb\") as data:\n",
    "            blob_client.upload_blob(data, overwrite=True)\n",
    "\n",
    "print(\"\\nFolder upload complete.\")"
   ]
  },
  {
   "cell_type": "code",
   "execution_count": 17,
   "id": "1cd41da9",
   "metadata": {
    "execution": {
     "iopub.execute_input": "2025-10-08T02:08:54.185475Z",
     "iopub.status.busy": "2025-10-08T02:08:54.185240Z",
     "iopub.status.idle": "2025-10-08T02:08:54.189056Z",
     "shell.execute_reply": "2025-10-08T02:08:54.188591Z"
    },
    "id": "dtaKWhzhyx3j",
    "papermill": {
     "duration": 0.015781,
     "end_time": "2025-10-08T02:08:54.189864",
     "exception": false,
     "start_time": "2025-10-08T02:08:54.174083",
     "status": "completed"
    },
    "tags": []
   },
   "outputs": [
    {
     "name": "stdout",
     "output_type": "stream",
     "text": [
      "Local folder not found: /home/runner/work/ADJ_JOBS/ADJ_JOBS/process/adjust_uat/dt=2025-10-07/process/adjust_live/dt=2025-10-07/process/adjust_live\n",
      "Local folder not found: /home/runner/work/ADJ_JOBS/ADJ_JOBS/process/adjust_uat/dt=2025-10-07/process/adjust_live/dt=2025-10-07/output/adjust_live\n"
     ]
    }
   ],
   "source": [
    "# Replace with the path to the local folder you want to delete\n",
    "local_folder_paths = [f\"{root}/process/adjust_live\",f\"{root}/output/adjust_live\"]\n",
    "# local_folder_path = f\"data/process/adjust_live\"\n",
    "for local_folder_path in local_folder_paths:\n",
    "    if os.path.exists(local_folder_path):\n",
    "        print(f\"Deleting local folder: {local_folder_path}\")\n",
    "        shutil.rmtree(local_folder_path)\n",
    "        print(\"Local folder deleted.\")\n",
    "    else:\n",
    "        print(f\"Local folder not found: {local_folder_path}\")"
   ]
  }
 ],
 "metadata": {
  "colab": {
   "authorship_tag": "ABX9TyMNL9iAxf3zZSw1o07sV5Qf",
   "include_colab_link": true,
   "provenance": []
  },
  "kernelspec": {
   "display_name": "Python 3",
   "name": "python3"
  },
  "language_info": {
   "codemirror_mode": {
    "name": "ipython",
    "version": 3
   },
   "file_extension": ".py",
   "mimetype": "text/x-python",
   "name": "python",
   "nbconvert_exporter": "python",
   "pygments_lexer": "ipython3",
   "version": "3.11.13"
  },
  "papermill": {
   "default_parameters": {},
   "duration": 1211.542132,
   "end_time": "2025-10-08T02:08:54.715730",
   "environment_variables": {},
   "exception": null,
   "input_path": "notebooks/ADJUST_JOB.ipynb",
   "output_path": "outputs/ADJUST_JOB_2025-10-08.ipynb",
   "parameters": {
    "RUN_DATE": "2025-10-08"
   },
   "start_time": "2025-10-08T01:48:43.173598",
   "version": "2.6.0"
  }
 },
 "nbformat": 4,
 "nbformat_minor": 5
}