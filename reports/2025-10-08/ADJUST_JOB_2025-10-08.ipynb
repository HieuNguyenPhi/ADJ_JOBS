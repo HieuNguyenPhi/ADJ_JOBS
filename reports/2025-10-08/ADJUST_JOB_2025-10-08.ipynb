{
 "cells": [
  {
   "cell_type": "code",
   "execution_count": 1,
   "id": "7a4fc77c",
   "metadata": {
    "execution": {
     "iopub.execute_input": "2025-10-08T04:08:12.573817Z",
     "iopub.status.busy": "2025-10-08T04:08:12.573603Z",
     "iopub.status.idle": "2025-10-08T04:08:12.578744Z",
     "shell.execute_reply": "2025-10-08T04:08:12.578185Z"
    },
    "papermill": {
     "duration": 0.009684,
     "end_time": "2025-10-08T04:08:12.579617",
     "exception": false,
     "start_time": "2025-10-08T04:08:12.569933",
     "status": "completed"
    },
    "tags": [
     "injected-parameters"
    ]
   },
   "outputs": [],
   "source": [
    "# Parameters\n",
    "RUN_DATE = \"2025-10-08\"\n"
   ]
  },
  {
   "cell_type": "markdown",
   "id": "b3a71694",
   "metadata": {
    "colab_type": "text",
    "id": "view-in-github",
    "papermill": {
     "duration": 0.002347,
     "end_time": "2025-10-08T04:08:12.584612",
     "exception": false,
     "start_time": "2025-10-08T04:08:12.582265",
     "status": "completed"
    },
    "tags": []
   },
   "source": [
    "<a href=\"https://colab.research.google.com/github/HieuNguyenPhi/ADJ_JOBS/blob/main/notebooks/ADJUST_JOB.ipynb\" target=\"_parent\"><img src=\"https://colab.research.google.com/assets/colab-badge.svg\" alt=\"Open In Colab\"/></a>"
   ]
  },
  {
   "cell_type": "code",
   "execution_count": 2,
   "id": "ba2d3aca",
   "metadata": {
    "execution": {
     "iopub.execute_input": "2025-10-08T04:08:12.589912Z",
     "iopub.status.busy": "2025-10-08T04:08:12.589704Z",
     "iopub.status.idle": "2025-10-08T04:08:19.501154Z",
     "shell.execute_reply": "2025-10-08T04:08:19.500501Z"
    },
    "id": "ycUR2r1dq1Nm",
    "papermill": {
     "duration": 6.915233,
     "end_time": "2025-10-08T04:08:19.502138",
     "exception": false,
     "start_time": "2025-10-08T04:08:12.586905",
     "status": "completed"
    },
    "tags": []
   },
   "outputs": [
    {
     "data": {
      "text/plain": [
       "['2025-10-03', '2025-10-04', '2025-10-05', '2025-10-06', '2025-10-07']"
      ]
     },
     "execution_count": 2,
     "metadata": {},
     "output_type": "execute_result"
    }
   ],
   "source": [
    "import os\n",
    "from azure.storage.blob import BlobServiceClient\n",
    "\n",
    "account_name = os.getenv('ACCOUNT_NAME')\n",
    "account_key = os.getenv('ACCOUNT_KEY')\n",
    "# Replace with your Azure Storage account name and SAS token or connection string\n",
    "connect_str = f\"DefaultEndpointsProtocol=https;AccountName={account_name};AccountKey={account_key};EndpointSuffix=core.windows.net\"\n",
    "blob_service_client = BlobServiceClient.from_connection_string(connect_str)\n",
    "container_list = blob_service_client.list_containers()\n",
    "container_name = \"adjuststbuatprocessed\" #os.getenv('CONTAINER_NAME')\n",
    "container_client = blob_service_client.get_container_client(container_name)\n",
    "already_processed = [file.name.split('/')[1].split('.')[0] for file in container_client.list_blobs() if file.name.split('/')[0] == 'output']\n",
    "already_processed[-5:]"
   ]
  },
  {
   "cell_type": "code",
   "execution_count": 3,
   "id": "aa0b583e",
   "metadata": {
    "execution": {
     "iopub.execute_input": "2025-10-08T04:08:19.509228Z",
     "iopub.status.busy": "2025-10-08T04:08:19.508942Z",
     "iopub.status.idle": "2025-10-08T04:08:19.850121Z",
     "shell.execute_reply": "2025-10-08T04:08:19.849464Z"
    },
    "id": "UvcDO8k7s0Jz",
    "papermill": {
     "duration": 0.34521,
     "end_time": "2025-10-08T04:08:19.851085",
     "exception": false,
     "start_time": "2025-10-08T04:08:19.505875",
     "status": "completed"
    },
    "tags": []
   },
   "outputs": [
    {
     "data": {
      "text/plain": [
       "['2025-10-06', '2025-10-07', '2025-10-08']"
      ]
     },
     "execution_count": 3,
     "metadata": {},
     "output_type": "execute_result"
    }
   ],
   "source": [
    "from datetime import date\n",
    "import pandas as pd\n",
    "today = date.today().strftime('%Y-%m-%d')\n",
    "need_process = pd.date_range(start=already_processed[-2], end=today).strftime('%Y-%m-%d').to_list()\n",
    "need_process"
   ]
  },
  {
   "cell_type": "code",
   "execution_count": 4,
   "id": "0b928b5f",
   "metadata": {
    "execution": {
     "iopub.execute_input": "2025-10-08T04:08:19.857389Z",
     "iopub.status.busy": "2025-10-08T04:08:19.857114Z",
     "iopub.status.idle": "2025-10-08T04:08:28.675503Z",
     "shell.execute_reply": "2025-10-08T04:08:28.674964Z"
    },
    "id": "xyPuVC12s7fn",
    "papermill": {
     "duration": 8.822509,
     "end_time": "2025-10-08T04:08:28.676415",
     "exception": false,
     "start_time": "2025-10-08T04:08:19.853906",
     "status": "completed"
    },
    "tags": []
   },
   "outputs": [
    {
     "data": {
      "text/plain": [
       "['rsh20bkkb4zk_2025-10-08T030000_762c775ae454d23f2c6b6a75623d14c7_2853a0.csv.gz',\n",
       " 'rsh20bkkb4zk_2025-10-08T030000_762c775ae454d23f2c6b6a75623d14c7_2853a1.csv.gz',\n",
       " 'rsh20bkkb4zk_2025-10-08T030000_762c775ae454d23f2c6b6a75623d14c7_be8220.csv.gz',\n",
       " 'rsh20bkkb4zk_2025-10-08T030000_762c775ae454d23f2c6b6a75623d14c7_be8221.csv.gz',\n",
       " 'rsh20bkkb4zk_2025-10-08T030000_762c775ae454d23f2c6b6a75623d14c7_c35750.csv.gz',\n",
       " 'rsh20bkkb4zk_2025-10-08T030000_762c775ae454d23f2c6b6a75623d14c7_c35751.csv.gz']"
      ]
     },
     "execution_count": 4,
     "metadata": {},
     "output_type": "execute_result"
    }
   ],
   "source": [
    "container_name_uat = \"adjuststbuat\"\n",
    "container_client_uat = blob_service_client.get_container_client(container_name_uat)\n",
    "from collections import defaultdict\n",
    "files = [i.name for i in container_client_uat.list_blobs()]\n",
    "groups = defaultdict(list)\n",
    "for f in files:\n",
    "    dt = f.split('_')[1]\n",
    "    groups[dt].append(f)\n",
    "groups[dt]"
   ]
  },
  {
   "cell_type": "code",
   "execution_count": 5,
   "id": "f3b7737e",
   "metadata": {
    "execution": {
     "iopub.execute_input": "2025-10-08T04:08:28.683327Z",
     "iopub.status.busy": "2025-10-08T04:08:28.683129Z",
     "iopub.status.idle": "2025-10-08T04:11:37.866408Z",
     "shell.execute_reply": "2025-10-08T04:11:37.865811Z"
    },
    "id": "U34_SUSAs-GQ",
    "papermill": {
     "duration": 189.187754,
     "end_time": "2025-10-08T04:11:37.867268",
     "exception": false,
     "start_time": "2025-10-08T04:08:28.679514",
     "status": "completed"
    },
    "tags": []
   },
   "outputs": [
    {
     "name": "stderr",
     "output_type": "stream",
     "text": [
      "\r",
      "  0%|          | 0/1837 [00:00<?, ?it/s]"
     ]
    },
    {
     "name": "stderr",
     "output_type": "stream",
     "text": [
      "\r",
      " 97%|█████████▋| 1786/1837 [00:01<00:00, 1225.52it/s]"
     ]
    },
    {
     "name": "stdout",
     "output_type": "stream",
     "text": [
      "Done dt=2025-10-06/2025-10-06T000000.parquet\n"
     ]
    },
    {
     "name": "stdout",
     "output_type": "stream",
     "text": [
      "Done dt=2025-10-06/2025-10-06T010000.parquet\n"
     ]
    },
    {
     "name": "stdout",
     "output_type": "stream",
     "text": [
      "Done dt=2025-10-06/2025-10-06T020000.parquet\n"
     ]
    },
    {
     "name": "stdout",
     "output_type": "stream",
     "text": [
      "Done dt=2025-10-06/2025-10-06T030000.parquet\n"
     ]
    },
    {
     "name": "stdout",
     "output_type": "stream",
     "text": [
      "Done dt=2025-10-06/2025-10-06T040000.parquet\n"
     ]
    },
    {
     "name": "stderr",
     "output_type": "stream",
     "text": [
      "\r",
      " 97%|█████████▋| 1786/1837 [00:19<00:00, 1225.52it/s]"
     ]
    },
    {
     "name": "stderr",
     "output_type": "stream",
     "text": [
      "\r",
      " 97%|█████████▋| 1791/1837 [00:22<00:00, 56.76it/s]  "
     ]
    },
    {
     "name": "stdout",
     "output_type": "stream",
     "text": [
      "Done dt=2025-10-06/2025-10-06T050000.parquet\n"
     ]
    },
    {
     "name": "stderr",
     "output_type": "stream",
     "text": [
      "\r",
      " 98%|█████████▊| 1792/1837 [00:26<00:01, 44.40it/s]"
     ]
    },
    {
     "name": "stdout",
     "output_type": "stream",
     "text": [
      "Done dt=2025-10-06/2025-10-06T060000.parquet\n"
     ]
    },
    {
     "name": "stdout",
     "output_type": "stream",
     "text": [
      "Done dt=2025-10-06/2025-10-06T070000.parquet\n"
     ]
    },
    {
     "name": "stdout",
     "output_type": "stream",
     "text": [
      "Done dt=2025-10-06/2025-10-06T080000.parquet\n"
     ]
    },
    {
     "name": "stderr",
     "output_type": "stream",
     "text": [
      "\r",
      " 98%|█████████▊| 1792/1837 [00:40<00:01, 44.40it/s]"
     ]
    },
    {
     "name": "stdout",
     "output_type": "stream",
     "text": [
      "Done dt=2025-10-06/2025-10-06T090000.parquet\n"
     ]
    },
    {
     "name": "stderr",
     "output_type": "stream",
     "text": [
      "\r",
      " 98%|█████████▊| 1796/1837 [00:44<00:02, 19.87it/s]"
     ]
    },
    {
     "name": "stdout",
     "output_type": "stream",
     "text": [
      "Done dt=2025-10-06/2025-10-06T100000.parquet\n"
     ]
    },
    {
     "name": "stderr",
     "output_type": "stream",
     "text": [
      "\r",
      " 98%|█████████▊| 1797/1837 [00:47<00:02, 17.09it/s]"
     ]
    },
    {
     "name": "stdout",
     "output_type": "stream",
     "text": [
      "Done dt=2025-10-06/2025-10-06T110000.parquet\n"
     ]
    },
    {
     "name": "stdout",
     "output_type": "stream",
     "text": [
      "Done dt=2025-10-06/2025-10-06T120000.parquet\n"
     ]
    },
    {
     "name": "stdout",
     "output_type": "stream",
     "text": [
      "Done dt=2025-10-06/2025-10-06T130000.parquet\n"
     ]
    },
    {
     "name": "stdout",
     "output_type": "stream",
     "text": [
      "Done dt=2025-10-06/2025-10-06T140000.parquet\n"
     ]
    },
    {
     "name": "stderr",
     "output_type": "stream",
     "text": [
      "\r",
      " 98%|█████████▊| 1797/1837 [01:00<00:02, 17.09it/s]"
     ]
    },
    {
     "name": "stderr",
     "output_type": "stream",
     "text": [
      "\r",
      " 98%|█████████▊| 1801/1837 [01:00<00:03, 10.01it/s]"
     ]
    },
    {
     "name": "stdout",
     "output_type": "stream",
     "text": [
      "Done dt=2025-10-06/2025-10-06T150000.parquet\n"
     ]
    },
    {
     "name": "stderr",
     "output_type": "stream",
     "text": [
      "\r",
      " 98%|█████████▊| 1802/1837 [01:03<00:03,  8.87it/s]"
     ]
    },
    {
     "name": "stdout",
     "output_type": "stream",
     "text": [
      "Done dt=2025-10-06/2025-10-06T160000.parquet\n"
     ]
    },
    {
     "name": "stdout",
     "output_type": "stream",
     "text": [
      "Done dt=2025-10-06/2025-10-06T170000.parquet\n"
     ]
    },
    {
     "name": "stdout",
     "output_type": "stream",
     "text": [
      "Done dt=2025-10-06/2025-10-06T180000.parquet\n"
     ]
    },
    {
     "name": "stdout",
     "output_type": "stream",
     "text": [
      "Done dt=2025-10-06/2025-10-06T190000.parquet\n"
     ]
    },
    {
     "name": "stdout",
     "output_type": "stream",
     "text": [
      "Done dt=2025-10-06/2025-10-06T200000.parquet\n"
     ]
    },
    {
     "name": "stdout",
     "output_type": "stream",
     "text": [
      "Done dt=2025-10-06/2025-10-06T210000.parquet\n"
     ]
    },
    {
     "name": "stderr",
     "output_type": "stream",
     "text": [
      "\r",
      " 98%|█████████▊| 1802/1837 [01:20<00:03,  8.87it/s]"
     ]
    },
    {
     "name": "stderr",
     "output_type": "stream",
     "text": [
      "\r",
      " 98%|█████████▊| 1808/1837 [01:20<00:06,  4.59it/s]"
     ]
    },
    {
     "name": "stdout",
     "output_type": "stream",
     "text": [
      "Done dt=2025-10-06/2025-10-06T220000.parquet\n"
     ]
    },
    {
     "name": "stderr",
     "output_type": "stream",
     "text": [
      "\r",
      " 98%|█████████▊| 1809/1837 [01:23<00:06,  4.14it/s]"
     ]
    },
    {
     "name": "stdout",
     "output_type": "stream",
     "text": [
      "Done dt=2025-10-06/2025-10-06T230000.parquet\n"
     ]
    },
    {
     "name": "stdout",
     "output_type": "stream",
     "text": [
      "Done dt=2025-10-07/2025-10-07T000000.parquet\n"
     ]
    },
    {
     "name": "stdout",
     "output_type": "stream",
     "text": [
      "Done dt=2025-10-07/2025-10-07T010000.parquet\n"
     ]
    },
    {
     "name": "stdout",
     "output_type": "stream",
     "text": [
      "Done dt=2025-10-07/2025-10-07T020000.parquet\n"
     ]
    },
    {
     "name": "stdout",
     "output_type": "stream",
     "text": [
      "Done dt=2025-10-07/2025-10-07T030000.parquet\n"
     ]
    },
    {
     "name": "stderr",
     "output_type": "stream",
     "text": [
      "\r",
      " 98%|█████████▊| 1809/1837 [01:40<00:06,  4.14it/s]"
     ]
    },
    {
     "name": "stderr",
     "output_type": "stream",
     "text": [
      "\r",
      " 99%|█████████▊| 1814/1837 [01:44<00:10,  2.13it/s]"
     ]
    },
    {
     "name": "stdout",
     "output_type": "stream",
     "text": [
      "Done dt=2025-10-07/2025-10-07T040000.parquet\n"
     ]
    },
    {
     "name": "stderr",
     "output_type": "stream",
     "text": [
      "\r",
      " 99%|█████████▉| 1815/1837 [01:46<00:11,  1.96it/s]"
     ]
    },
    {
     "name": "stdout",
     "output_type": "stream",
     "text": [
      "Done dt=2025-10-07/2025-10-07T050000.parquet\n"
     ]
    },
    {
     "name": "stdout",
     "output_type": "stream",
     "text": [
      "Done dt=2025-10-07/2025-10-07T060000.parquet\n"
     ]
    },
    {
     "name": "stdout",
     "output_type": "stream",
     "text": [
      "Done dt=2025-10-07/2025-10-07T070000.parquet\n"
     ]
    },
    {
     "name": "stderr",
     "output_type": "stream",
     "text": [
      "\r",
      " 99%|█████████▉| 1815/1837 [02:00<00:11,  1.96it/s]"
     ]
    },
    {
     "name": "stdout",
     "output_type": "stream",
     "text": [
      "Done dt=2025-10-07/2025-10-07T080000.parquet\n"
     ]
    },
    {
     "name": "stderr",
     "output_type": "stream",
     "text": [
      "\r",
      " 99%|█████████▉| 1819/1837 [02:04<00:15,  1.18it/s]"
     ]
    },
    {
     "name": "stdout",
     "output_type": "stream",
     "text": [
      "Done dt=2025-10-07/2025-10-07T090000.parquet\n"
     ]
    },
    {
     "name": "stderr",
     "output_type": "stream",
     "text": [
      "\r",
      " 99%|█████████▉| 1820/1837 [02:08<00:16,  1.05it/s]"
     ]
    },
    {
     "name": "stdout",
     "output_type": "stream",
     "text": [
      "Done dt=2025-10-07/2025-10-07T100000.parquet\n"
     ]
    },
    {
     "name": "stdout",
     "output_type": "stream",
     "text": [
      "Done dt=2025-10-07/2025-10-07T110000.parquet\n"
     ]
    },
    {
     "name": "stdout",
     "output_type": "stream",
     "text": [
      "Done dt=2025-10-07/2025-10-07T120000.parquet\n"
     ]
    },
    {
     "name": "stderr",
     "output_type": "stream",
     "text": [
      "\r",
      " 99%|█████████▉| 1820/1837 [02:20<00:16,  1.05it/s]"
     ]
    },
    {
     "name": "stderr",
     "output_type": "stream",
     "text": [
      "\r",
      " 99%|█████████▉| 1823/1837 [02:22<00:19,  1.37s/it]"
     ]
    },
    {
     "name": "stdout",
     "output_type": "stream",
     "text": [
      "Done dt=2025-10-07/2025-10-07T130000.parquet\n"
     ]
    },
    {
     "name": "stderr",
     "output_type": "stream",
     "text": [
      "\r",
      " 99%|█████████▉| 1824/1837 [02:26<00:19,  1.52s/it]"
     ]
    },
    {
     "name": "stdout",
     "output_type": "stream",
     "text": [
      "Done dt=2025-10-07/2025-10-07T140000.parquet\n"
     ]
    },
    {
     "name": "stdout",
     "output_type": "stream",
     "text": [
      "Done dt=2025-10-07/2025-10-07T150000.parquet\n"
     ]
    },
    {
     "name": "stdout",
     "output_type": "stream",
     "text": [
      "Done dt=2025-10-07/2025-10-07T160000.parquet\n"
     ]
    },
    {
     "name": "stdout",
     "output_type": "stream",
     "text": [
      "Done dt=2025-10-07/2025-10-07T170000.parquet\n"
     ]
    },
    {
     "name": "stderr",
     "output_type": "stream",
     "text": [
      "\r",
      "100%|█████████▉| 1828/1837 [02:38<00:16,  1.85s/it]"
     ]
    },
    {
     "name": "stdout",
     "output_type": "stream",
     "text": [
      "Done dt=2025-10-07/2025-10-07T180000.parquet\n"
     ]
    },
    {
     "name": "stderr",
     "output_type": "stream",
     "text": [
      "\r",
      "100%|█████████▉| 1829/1837 [02:41<00:15,  1.93s/it]"
     ]
    },
    {
     "name": "stdout",
     "output_type": "stream",
     "text": [
      "Done dt=2025-10-07/2025-10-07T190000.parquet\n"
     ]
    },
    {
     "name": "stdout",
     "output_type": "stream",
     "text": [
      "Done dt=2025-10-07/2025-10-07T200000.parquet\n"
     ]
    },
    {
     "name": "stdout",
     "output_type": "stream",
     "text": [
      "Done dt=2025-10-07/2025-10-07T210000.parquet\n"
     ]
    },
    {
     "name": "stderr",
     "output_type": "stream",
     "text": [
      "\r",
      "100%|█████████▉| 1832/1837 [02:50<00:10,  2.19s/it]"
     ]
    },
    {
     "name": "stdout",
     "output_type": "stream",
     "text": [
      "Done dt=2025-10-07/2025-10-07T220000.parquet\n"
     ]
    },
    {
     "name": "stdout",
     "output_type": "stream",
     "text": [
      "Done dt=2025-10-07/2025-10-07T230000.parquet\n"
     ]
    },
    {
     "name": "stderr",
     "output_type": "stream",
     "text": [
      "\r",
      "100%|█████████▉| 1834/1837 [02:56<00:06,  2.33s/it]"
     ]
    },
    {
     "name": "stdout",
     "output_type": "stream",
     "text": [
      "Done dt=2025-10-08/2025-10-08T000000.parquet\n"
     ]
    },
    {
     "name": "stdout",
     "output_type": "stream",
     "text": [
      "Done dt=2025-10-08/2025-10-08T010000.parquet\n"
     ]
    },
    {
     "name": "stderr",
     "output_type": "stream",
     "text": [
      "\r",
      "100%|█████████▉| 1836/1837 [03:04<00:02,  2.76s/it]"
     ]
    },
    {
     "name": "stdout",
     "output_type": "stream",
     "text": [
      "Done dt=2025-10-08/2025-10-08T020000.parquet\n"
     ]
    },
    {
     "name": "stderr",
     "output_type": "stream",
     "text": [
      "\r",
      "100%|██████████| 1837/1837 [03:09<00:00,  2.97s/it]"
     ]
    },
    {
     "name": "stderr",
     "output_type": "stream",
     "text": [
      "\r",
      "100%|██████████| 1837/1837 [03:09<00:00,  9.71it/s]"
     ]
    },
    {
     "name": "stdout",
     "output_type": "stream",
     "text": [
      "Done dt=2025-10-08/2025-10-08T030000.parquet\n"
     ]
    },
    {
     "name": "stderr",
     "output_type": "stream",
     "text": [
      "\n"
     ]
    }
   ],
   "source": [
    "from pathlib import Path\n",
    "root = Path.cwd()\n",
    "process_path = f'{root}/process/adjust_uat'\n",
    "from tqdm import tqdm\n",
    "import polars as pl\n",
    "\n",
    "os.makedirs(process_path, exist_ok=True)\n",
    "\n",
    "storage_options = {\n",
    "    \"account_name\": account_name,\n",
    "    \"account_key\":  account_key,\n",
    "}\n",
    "\n",
    "for ts, files in tqdm(groups.items()):\n",
    "    dt = ts[:10]                       # \"2025-06-25\" -> partition dt=...\n",
    "    if dt not in need_process:\n",
    "        continue\n",
    "    # break\n",
    "    partition_dir = os.path.join(process_path, f\"dt={dt}\")\n",
    "    os.makedirs(partition_dir, exist_ok=True)\n",
    "    out_file = os.path.join(partition_dir, f\"{ts}.parquet\")\n",
    "\n",
    "    dfs = []\n",
    "    for f in files:\n",
    "        df = (pl.scan_csv(f\"az://adjuststbuat/{f}\",                             # eager\n",
    "                          storage_options=storage_options,\n",
    "                          has_header=True,\n",
    "                          null_values=[\"\", \"NULL\"])       # rỗng → null\n",
    "                .select(pl.all().cast(pl.Utf8)))          # tất cả cột → string\n",
    "        dfs.append(df)\n",
    "\n",
    "    df_all = pl.concat(dfs, how=\"diagonal\")               # tự thêm null cột thiếu\n",
    "    df_all.sink_parquet(out_file, compression=\"snappy\")\n",
    "    print(f'Done dt={dt}/{ts}.parquet')\n"
   ]
  },
  {
   "cell_type": "code",
   "execution_count": 6,
   "id": "a2dc2c07",
   "metadata": {
    "execution": {
     "iopub.execute_input": "2025-10-08T04:11:37.879678Z",
     "iopub.status.busy": "2025-10-08T04:11:37.879468Z",
     "iopub.status.idle": "2025-10-08T04:11:52.627101Z",
     "shell.execute_reply": "2025-10-08T04:11:52.626609Z"
    },
    "id": "Yl40uY9E7IP3",
    "papermill": {
     "duration": 14.754672,
     "end_time": "2025-10-08T04:11:52.627941",
     "exception": false,
     "start_time": "2025-10-08T04:11:37.873269",
     "status": "completed"
    },
    "tags": []
   },
   "outputs": [
    {
     "name": "stderr",
     "output_type": "stream",
     "text": [
      "\r",
      "0it [00:00, ?it/s]"
     ]
    },
    {
     "name": "stdout",
     "output_type": "stream",
     "text": [
      "Uploading /home/runner/work/ADJ_JOBS/ADJ_JOBS/process/adjust_uat/dt=2025-10-06/2025-10-06T090000.parquet to adjuststbuatprocessed/processing/dt=2025-10-06/2025-10-06T090000.parquet\n"
     ]
    },
    {
     "name": "stdout",
     "output_type": "stream",
     "text": [
      "Uploading /home/runner/work/ADJ_JOBS/ADJ_JOBS/process/adjust_uat/dt=2025-10-06/2025-10-06T200000.parquet to adjuststbuatprocessed/processing/dt=2025-10-06/2025-10-06T200000.parquet\n"
     ]
    },
    {
     "name": "stdout",
     "output_type": "stream",
     "text": [
      "Uploading /home/runner/work/ADJ_JOBS/ADJ_JOBS/process/adjust_uat/dt=2025-10-06/2025-10-06T110000.parquet to adjuststbuatprocessed/processing/dt=2025-10-06/2025-10-06T110000.parquet\n"
     ]
    },
    {
     "name": "stdout",
     "output_type": "stream",
     "text": [
      "Uploading /home/runner/work/ADJ_JOBS/ADJ_JOBS/process/adjust_uat/dt=2025-10-06/2025-10-06T190000.parquet to adjuststbuatprocessed/processing/dt=2025-10-06/2025-10-06T190000.parquet\n"
     ]
    },
    {
     "name": "stdout",
     "output_type": "stream",
     "text": [
      "Uploading /home/runner/work/ADJ_JOBS/ADJ_JOBS/process/adjust_uat/dt=2025-10-06/2025-10-06T100000.parquet to adjuststbuatprocessed/processing/dt=2025-10-06/2025-10-06T100000.parquet\n"
     ]
    },
    {
     "name": "stdout",
     "output_type": "stream",
     "text": [
      "Uploading /home/runner/work/ADJ_JOBS/ADJ_JOBS/process/adjust_uat/dt=2025-10-06/2025-10-06T060000.parquet to adjuststbuatprocessed/processing/dt=2025-10-06/2025-10-06T060000.parquet\n"
     ]
    },
    {
     "name": "stdout",
     "output_type": "stream",
     "text": [
      "Uploading /home/runner/work/ADJ_JOBS/ADJ_JOBS/process/adjust_uat/dt=2025-10-06/2025-10-06T120000.parquet to adjuststbuatprocessed/processing/dt=2025-10-06/2025-10-06T120000.parquet\n"
     ]
    },
    {
     "name": "stdout",
     "output_type": "stream",
     "text": [
      "Uploading /home/runner/work/ADJ_JOBS/ADJ_JOBS/process/adjust_uat/dt=2025-10-06/2025-10-06T230000.parquet to adjuststbuatprocessed/processing/dt=2025-10-06/2025-10-06T230000.parquet\n"
     ]
    },
    {
     "name": "stdout",
     "output_type": "stream",
     "text": [
      "Uploading /home/runner/work/ADJ_JOBS/ADJ_JOBS/process/adjust_uat/dt=2025-10-06/2025-10-06T170000.parquet to adjuststbuatprocessed/processing/dt=2025-10-06/2025-10-06T170000.parquet\n"
     ]
    },
    {
     "name": "stdout",
     "output_type": "stream",
     "text": [
      "Uploading /home/runner/work/ADJ_JOBS/ADJ_JOBS/process/adjust_uat/dt=2025-10-06/2025-10-06T070000.parquet to adjuststbuatprocessed/processing/dt=2025-10-06/2025-10-06T070000.parquet\n"
     ]
    },
    {
     "name": "stdout",
     "output_type": "stream",
     "text": [
      "Uploading /home/runner/work/ADJ_JOBS/ADJ_JOBS/process/adjust_uat/dt=2025-10-06/2025-10-06T050000.parquet to adjuststbuatprocessed/processing/dt=2025-10-06/2025-10-06T050000.parquet\n"
     ]
    },
    {
     "name": "stdout",
     "output_type": "stream",
     "text": [
      "Uploading /home/runner/work/ADJ_JOBS/ADJ_JOBS/process/adjust_uat/dt=2025-10-06/2025-10-06T210000.parquet to adjuststbuatprocessed/processing/dt=2025-10-06/2025-10-06T210000.parquet\n"
     ]
    },
    {
     "name": "stdout",
     "output_type": "stream",
     "text": [
      "Uploading /home/runner/work/ADJ_JOBS/ADJ_JOBS/process/adjust_uat/dt=2025-10-06/2025-10-06T160000.parquet to adjuststbuatprocessed/processing/dt=2025-10-06/2025-10-06T160000.parquet\n"
     ]
    },
    {
     "name": "stdout",
     "output_type": "stream",
     "text": [
      "Uploading /home/runner/work/ADJ_JOBS/ADJ_JOBS/process/adjust_uat/dt=2025-10-06/2025-10-06T000000.parquet to adjuststbuatprocessed/processing/dt=2025-10-06/2025-10-06T000000.parquet\n"
     ]
    },
    {
     "name": "stdout",
     "output_type": "stream",
     "text": [
      "Uploading /home/runner/work/ADJ_JOBS/ADJ_JOBS/process/adjust_uat/dt=2025-10-06/2025-10-06T010000.parquet to adjuststbuatprocessed/processing/dt=2025-10-06/2025-10-06T010000.parquet\n"
     ]
    },
    {
     "name": "stdout",
     "output_type": "stream",
     "text": [
      "Uploading /home/runner/work/ADJ_JOBS/ADJ_JOBS/process/adjust_uat/dt=2025-10-06/2025-10-06T080000.parquet to adjuststbuatprocessed/processing/dt=2025-10-06/2025-10-06T080000.parquet\n"
     ]
    },
    {
     "name": "stdout",
     "output_type": "stream",
     "text": [
      "Uploading /home/runner/work/ADJ_JOBS/ADJ_JOBS/process/adjust_uat/dt=2025-10-06/2025-10-06T040000.parquet to adjuststbuatprocessed/processing/dt=2025-10-06/2025-10-06T040000.parquet\n"
     ]
    },
    {
     "name": "stdout",
     "output_type": "stream",
     "text": [
      "Uploading /home/runner/work/ADJ_JOBS/ADJ_JOBS/process/adjust_uat/dt=2025-10-06/2025-10-06T020000.parquet to adjuststbuatprocessed/processing/dt=2025-10-06/2025-10-06T020000.parquet\n"
     ]
    },
    {
     "name": "stdout",
     "output_type": "stream",
     "text": [
      "Uploading /home/runner/work/ADJ_JOBS/ADJ_JOBS/process/adjust_uat/dt=2025-10-06/2025-10-06T180000.parquet to adjuststbuatprocessed/processing/dt=2025-10-06/2025-10-06T180000.parquet\n"
     ]
    },
    {
     "name": "stdout",
     "output_type": "stream",
     "text": [
      "Uploading /home/runner/work/ADJ_JOBS/ADJ_JOBS/process/adjust_uat/dt=2025-10-06/2025-10-06T030000.parquet to adjuststbuatprocessed/processing/dt=2025-10-06/2025-10-06T030000.parquet\n"
     ]
    },
    {
     "name": "stdout",
     "output_type": "stream",
     "text": [
      "Uploading /home/runner/work/ADJ_JOBS/ADJ_JOBS/process/adjust_uat/dt=2025-10-06/2025-10-06T130000.parquet to adjuststbuatprocessed/processing/dt=2025-10-06/2025-10-06T130000.parquet\n"
     ]
    },
    {
     "name": "stdout",
     "output_type": "stream",
     "text": [
      "Uploading /home/runner/work/ADJ_JOBS/ADJ_JOBS/process/adjust_uat/dt=2025-10-06/2025-10-06T220000.parquet to adjuststbuatprocessed/processing/dt=2025-10-06/2025-10-06T220000.parquet\n"
     ]
    },
    {
     "name": "stdout",
     "output_type": "stream",
     "text": [
      "Uploading /home/runner/work/ADJ_JOBS/ADJ_JOBS/process/adjust_uat/dt=2025-10-06/2025-10-06T150000.parquet to adjuststbuatprocessed/processing/dt=2025-10-06/2025-10-06T150000.parquet\n"
     ]
    },
    {
     "name": "stdout",
     "output_type": "stream",
     "text": [
      "Uploading /home/runner/work/ADJ_JOBS/ADJ_JOBS/process/adjust_uat/dt=2025-10-06/2025-10-06T140000.parquet to adjuststbuatprocessed/processing/dt=2025-10-06/2025-10-06T140000.parquet\n"
     ]
    },
    {
     "name": "stderr",
     "output_type": "stream",
     "text": [
      "\r",
      "2it [00:07,  3.75s/it]"
     ]
    },
    {
     "name": "stdout",
     "output_type": "stream",
     "text": [
      "Uploading /home/runner/work/ADJ_JOBS/ADJ_JOBS/process/adjust_uat/dt=2025-10-08/2025-10-08T030000.parquet to adjuststbuatprocessed/processing/dt=2025-10-08/2025-10-08T030000.parquet\n"
     ]
    },
    {
     "name": "stdout",
     "output_type": "stream",
     "text": [
      "Uploading /home/runner/work/ADJ_JOBS/ADJ_JOBS/process/adjust_uat/dt=2025-10-08/2025-10-08T020000.parquet to adjuststbuatprocessed/processing/dt=2025-10-08/2025-10-08T020000.parquet\n"
     ]
    },
    {
     "name": "stdout",
     "output_type": "stream",
     "text": [
      "Uploading /home/runner/work/ADJ_JOBS/ADJ_JOBS/process/adjust_uat/dt=2025-10-08/2025-10-08T000000.parquet to adjuststbuatprocessed/processing/dt=2025-10-08/2025-10-08T000000.parquet\n"
     ]
    },
    {
     "name": "stdout",
     "output_type": "stream",
     "text": [
      "Uploading /home/runner/work/ADJ_JOBS/ADJ_JOBS/process/adjust_uat/dt=2025-10-08/2025-10-08T010000.parquet to adjuststbuatprocessed/processing/dt=2025-10-08/2025-10-08T010000.parquet\n"
     ]
    },
    {
     "name": "stderr",
     "output_type": "stream",
     "text": [
      "\r",
      "3it [00:08,  2.61s/it]"
     ]
    },
    {
     "name": "stdout",
     "output_type": "stream",
     "text": [
      "Uploading /home/runner/work/ADJ_JOBS/ADJ_JOBS/process/adjust_uat/dt=2025-10-07/2025-10-07T230000.parquet to adjuststbuatprocessed/processing/dt=2025-10-07/2025-10-07T230000.parquet\n"
     ]
    },
    {
     "name": "stdout",
     "output_type": "stream",
     "text": [
      "Uploading /home/runner/work/ADJ_JOBS/ADJ_JOBS/process/adjust_uat/dt=2025-10-07/2025-10-07T060000.parquet to adjuststbuatprocessed/processing/dt=2025-10-07/2025-10-07T060000.parquet\n"
     ]
    },
    {
     "name": "stdout",
     "output_type": "stream",
     "text": [
      "Uploading /home/runner/work/ADJ_JOBS/ADJ_JOBS/process/adjust_uat/dt=2025-10-07/2025-10-07T170000.parquet to adjuststbuatprocessed/processing/dt=2025-10-07/2025-10-07T170000.parquet\n"
     ]
    },
    {
     "name": "stdout",
     "output_type": "stream",
     "text": [
      "Uploading /home/runner/work/ADJ_JOBS/ADJ_JOBS/process/adjust_uat/dt=2025-10-07/2025-10-07T050000.parquet to adjuststbuatprocessed/processing/dt=2025-10-07/2025-10-07T050000.parquet\n"
     ]
    },
    {
     "name": "stdout",
     "output_type": "stream",
     "text": [
      "Uploading /home/runner/work/ADJ_JOBS/ADJ_JOBS/process/adjust_uat/dt=2025-10-07/2025-10-07T090000.parquet to adjuststbuatprocessed/processing/dt=2025-10-07/2025-10-07T090000.parquet\n"
     ]
    },
    {
     "name": "stdout",
     "output_type": "stream",
     "text": [
      "Uploading /home/runner/work/ADJ_JOBS/ADJ_JOBS/process/adjust_uat/dt=2025-10-07/2025-10-07T040000.parquet to adjuststbuatprocessed/processing/dt=2025-10-07/2025-10-07T040000.parquet\n"
     ]
    },
    {
     "name": "stdout",
     "output_type": "stream",
     "text": [
      "Uploading /home/runner/work/ADJ_JOBS/ADJ_JOBS/process/adjust_uat/dt=2025-10-07/2025-10-07T190000.parquet to adjuststbuatprocessed/processing/dt=2025-10-07/2025-10-07T190000.parquet\n"
     ]
    },
    {
     "name": "stdout",
     "output_type": "stream",
     "text": [
      "Uploading /home/runner/work/ADJ_JOBS/ADJ_JOBS/process/adjust_uat/dt=2025-10-07/2025-10-07T020000.parquet to adjuststbuatprocessed/processing/dt=2025-10-07/2025-10-07T020000.parquet\n"
     ]
    },
    {
     "name": "stdout",
     "output_type": "stream",
     "text": [
      "Uploading /home/runner/work/ADJ_JOBS/ADJ_JOBS/process/adjust_uat/dt=2025-10-07/2025-10-07T200000.parquet to adjuststbuatprocessed/processing/dt=2025-10-07/2025-10-07T200000.parquet\n"
     ]
    },
    {
     "name": "stdout",
     "output_type": "stream",
     "text": [
      "Uploading /home/runner/work/ADJ_JOBS/ADJ_JOBS/process/adjust_uat/dt=2025-10-07/2025-10-07T130000.parquet to adjuststbuatprocessed/processing/dt=2025-10-07/2025-10-07T130000.parquet\n"
     ]
    },
    {
     "name": "stdout",
     "output_type": "stream",
     "text": [
      "Uploading /home/runner/work/ADJ_JOBS/ADJ_JOBS/process/adjust_uat/dt=2025-10-07/2025-10-07T220000.parquet to adjuststbuatprocessed/processing/dt=2025-10-07/2025-10-07T220000.parquet\n"
     ]
    },
    {
     "name": "stdout",
     "output_type": "stream",
     "text": [
      "Uploading /home/runner/work/ADJ_JOBS/ADJ_JOBS/process/adjust_uat/dt=2025-10-07/2025-10-07T070000.parquet to adjuststbuatprocessed/processing/dt=2025-10-07/2025-10-07T070000.parquet\n"
     ]
    },
    {
     "name": "stdout",
     "output_type": "stream",
     "text": [
      "Uploading /home/runner/work/ADJ_JOBS/ADJ_JOBS/process/adjust_uat/dt=2025-10-07/2025-10-07T110000.parquet to adjuststbuatprocessed/processing/dt=2025-10-07/2025-10-07T110000.parquet\n"
     ]
    },
    {
     "name": "stdout",
     "output_type": "stream",
     "text": [
      "Uploading /home/runner/work/ADJ_JOBS/ADJ_JOBS/process/adjust_uat/dt=2025-10-07/2025-10-07T180000.parquet to adjuststbuatprocessed/processing/dt=2025-10-07/2025-10-07T180000.parquet\n"
     ]
    },
    {
     "name": "stdout",
     "output_type": "stream",
     "text": [
      "Uploading /home/runner/work/ADJ_JOBS/ADJ_JOBS/process/adjust_uat/dt=2025-10-07/2025-10-07T150000.parquet to adjuststbuatprocessed/processing/dt=2025-10-07/2025-10-07T150000.parquet\n"
     ]
    },
    {
     "name": "stdout",
     "output_type": "stream",
     "text": [
      "Uploading /home/runner/work/ADJ_JOBS/ADJ_JOBS/process/adjust_uat/dt=2025-10-07/2025-10-07T100000.parquet to adjuststbuatprocessed/processing/dt=2025-10-07/2025-10-07T100000.parquet\n"
     ]
    },
    {
     "name": "stdout",
     "output_type": "stream",
     "text": [
      "Uploading /home/runner/work/ADJ_JOBS/ADJ_JOBS/process/adjust_uat/dt=2025-10-07/2025-10-07T010000.parquet to adjuststbuatprocessed/processing/dt=2025-10-07/2025-10-07T010000.parquet\n"
     ]
    },
    {
     "name": "stdout",
     "output_type": "stream",
     "text": [
      "Uploading /home/runner/work/ADJ_JOBS/ADJ_JOBS/process/adjust_uat/dt=2025-10-07/2025-10-07T030000.parquet to adjuststbuatprocessed/processing/dt=2025-10-07/2025-10-07T030000.parquet\n"
     ]
    },
    {
     "name": "stdout",
     "output_type": "stream",
     "text": [
      "Uploading /home/runner/work/ADJ_JOBS/ADJ_JOBS/process/adjust_uat/dt=2025-10-07/2025-10-07T000000.parquet to adjuststbuatprocessed/processing/dt=2025-10-07/2025-10-07T000000.parquet\n"
     ]
    },
    {
     "name": "stdout",
     "output_type": "stream",
     "text": [
      "Uploading /home/runner/work/ADJ_JOBS/ADJ_JOBS/process/adjust_uat/dt=2025-10-07/2025-10-07T080000.parquet to adjuststbuatprocessed/processing/dt=2025-10-07/2025-10-07T080000.parquet\n"
     ]
    },
    {
     "name": "stdout",
     "output_type": "stream",
     "text": [
      "Uploading /home/runner/work/ADJ_JOBS/ADJ_JOBS/process/adjust_uat/dt=2025-10-07/2025-10-07T160000.parquet to adjuststbuatprocessed/processing/dt=2025-10-07/2025-10-07T160000.parquet\n"
     ]
    },
    {
     "name": "stdout",
     "output_type": "stream",
     "text": [
      "Uploading /home/runner/work/ADJ_JOBS/ADJ_JOBS/process/adjust_uat/dt=2025-10-07/2025-10-07T120000.parquet to adjuststbuatprocessed/processing/dt=2025-10-07/2025-10-07T120000.parquet\n"
     ]
    },
    {
     "name": "stdout",
     "output_type": "stream",
     "text": [
      "Uploading /home/runner/work/ADJ_JOBS/ADJ_JOBS/process/adjust_uat/dt=2025-10-07/2025-10-07T140000.parquet to adjuststbuatprocessed/processing/dt=2025-10-07/2025-10-07T140000.parquet\n"
     ]
    },
    {
     "name": "stdout",
     "output_type": "stream",
     "text": [
      "Uploading /home/runner/work/ADJ_JOBS/ADJ_JOBS/process/adjust_uat/dt=2025-10-07/2025-10-07T210000.parquet to adjuststbuatprocessed/processing/dt=2025-10-07/2025-10-07T210000.parquet\n"
     ]
    },
    {
     "name": "stderr",
     "output_type": "stream",
     "text": [
      "\r",
      "4it [00:14,  3.96s/it]"
     ]
    },
    {
     "name": "stderr",
     "output_type": "stream",
     "text": [
      "\r",
      "4it [00:14,  3.69s/it]"
     ]
    },
    {
     "name": "stdout",
     "output_type": "stream",
     "text": [
      "\n",
      "Folder upload complete.\n"
     ]
    },
    {
     "name": "stderr",
     "output_type": "stream",
     "text": [
      "\n"
     ]
    }
   ],
   "source": [
    "local_folder_path = f\"{root}/process/adjust_uat\"\n",
    "\n",
    "# Replace with the desired folder name in the Azure container\n",
    "azure_folder_name = \"processing\"\n",
    "\n",
    "# Iterate through files in the local folder and upload them\n",
    "for root, dirs, files in tqdm(os.walk(local_folder_path)):\n",
    "    for file in files:\n",
    "        # Construct the full local file path\n",
    "        local_file_path = os.path.join(root, file)\n",
    "\n",
    "        # Construct the blob name (path within the Azure container)\n",
    "        # This preserves the folder structure from the local path\n",
    "        relative_path = os.path.relpath(local_file_path, local_folder_path)\n",
    "        blob_name = os.path.join(azure_folder_name, relative_path)\n",
    "        # print(blob_name)\n",
    "        # Create a blob client for the current file\n",
    "        blob_client = container_client.get_blob_client(blob_name)\n",
    "\n",
    "        print(f\"Uploading {local_file_path} to {container_name}/{blob_name}\")\n",
    "\n",
    "#         # Upload the file\n",
    "        with open(local_file_path, \"rb\") as data:\n",
    "            blob_client.upload_blob(data, overwrite=True)\n",
    "\n",
    "print(\"\\nFolder upload complete.\")"
   ]
  },
  {
   "cell_type": "code",
   "execution_count": 7,
   "id": "5aef2db1",
   "metadata": {
    "execution": {
     "iopub.execute_input": "2025-10-08T04:11:52.644744Z",
     "iopub.status.busy": "2025-10-08T04:11:52.644545Z",
     "iopub.status.idle": "2025-10-08T04:15:12.513564Z",
     "shell.execute_reply": "2025-10-08T04:15:12.512939Z"
    },
    "id": "K5p12_Giu1Cx",
    "papermill": {
     "duration": 199.885765,
     "end_time": "2025-10-08T04:15:12.521996",
     "exception": false,
     "start_time": "2025-10-08T04:11:52.636231",
     "status": "completed"
    },
    "tags": []
   },
   "outputs": [
    {
     "name": "stderr",
     "output_type": "stream",
     "text": [
      "\r",
      "  0%|          | 0/3 [00:00<?, ?it/s]"
     ]
    },
    {
     "name": "stderr",
     "output_type": "stream",
     "text": [
      "\r",
      " 33%|███▎      | 1/3 [01:21<02:42, 81.35s/it]"
     ]
    },
    {
     "name": "stderr",
     "output_type": "stream",
     "text": [
      "\r",
      " 67%|██████▋   | 2/3 [02:14<01:04, 64.83s/it]"
     ]
    },
    {
     "name": "stderr",
     "output_type": "stream",
     "text": [
      "\r",
      "100%|██████████| 3/3 [03:19<00:00, 65.02s/it]"
     ]
    },
    {
     "name": "stderr",
     "output_type": "stream",
     "text": [
      "\r",
      "100%|██████████| 3/3 [03:19<00:00, 66.62s/it]"
     ]
    },
    {
     "name": "stderr",
     "output_type": "stream",
     "text": [
      "\n"
     ]
    }
   ],
   "source": [
    "import glob\n",
    "for dt_folder in tqdm(glob.glob(os.path.join(process_path, \"dt=*\"))):\n",
    "  dt = os.path.basename(dt_folder)[3:]\n",
    "  df = pl.scan_parquet(\n",
    "      f\"az://adjuststbuatprocessed/live/processing/dt={dt}/*.parquet\",\n",
    "      storage_options=storage_options,\n",
    "      glob=True,                 # rất quan trọng để expand '*'\n",
    "  ).select(pl.all().cast(pl.Utf8)).with_columns(pl.lit(dt).alias(\"dt\"))\n",
    "  df.sink_parquet(\n",
    "      f\"az://adjuststbuatprocessed/live/output/dt={dt}.parquet\",\n",
    "      storage_options=storage_options,\n",
    "      compression=\"snappy\",\n",
    "  )\n",
    "# output_path = f'{root}/output/adjust_uat'\n",
    "# os.makedirs(output_path, exist_ok=True)\n",
    "# import glob\n",
    "# import shutil\n",
    "# for dt_folder in tqdm(glob.glob(os.path.join(process_path, \"dt=*\"))):\n",
    "#     dt = os.path.basename(dt_folder)[3:]                 # \"2025-06-25\"\n",
    "#     files_pq = glob.glob(os.path.join(dt_folder, \"*T*.parquet\"))\n",
    "#     if not files_pq:\n",
    "#         continue\n",
    "\n",
    "#     out_path = os.path.join(output_path, f\"{dt}.parquet\")\n",
    "\n",
    "#     # Nếu trước đó lỡ tạo cùng tên dưới dạng DIR → xoá\n",
    "#     if os.path.isdir(out_path):\n",
    "#         shutil.rmtree(out_path)\n",
    "\n",
    "#     # ---------- ❶  Lazy scan tất cả Parquet ----------\n",
    "#     lfs = [pl.scan_parquet(f) for f in files_pq]          # mỗi file → LazyFrame\n",
    "\n",
    "#     # ---------- ❷  Concat diagonal + giữ schema linh hoạt ----------\n",
    "#     lf_day = (\n",
    "#         pl.concat(lfs, how=\"diagonal\")                    # tự thêm null cột thiếu\n",
    "#         .select(pl.all().cast(pl.Utf8))                   # đảm bảo mọi cột = string\n",
    "#         .with_columns(pl.lit(dt).alias(\"dt\"))             # thêm cột partition (tuỳ)\n",
    "#     )\n",
    "\n",
    "#     # ---------- ❸  Ghi duy nhất 1 Parquet ----------\n",
    "#     lf_day.sink_parquet(out_path, compression=\"snappy\")"
   ]
  },
  {
   "cell_type": "code",
   "execution_count": null,
   "id": "b1f93d91",
   "metadata": {
    "id": "eoUxR5sVxMJI",
    "papermill": {
     "duration": 0.007896,
     "end_time": "2025-10-08T04:15:12.538169",
     "exception": false,
     "start_time": "2025-10-08T04:15:12.530273",
     "status": "completed"
    },
    "tags": []
   },
   "outputs": [],
   "source": []
  },
  {
   "cell_type": "code",
   "execution_count": 8,
   "id": "b03d2c50",
   "metadata": {
    "execution": {
     "iopub.execute_input": "2025-10-08T04:15:12.554809Z",
     "iopub.status.busy": "2025-10-08T04:15:12.554599Z",
     "iopub.status.idle": "2025-10-08T04:15:12.557532Z",
     "shell.execute_reply": "2025-10-08T04:15:12.557097Z"
    },
    "id": "guZytRUpxPdd",
    "papermill": {
     "duration": 0.012303,
     "end_time": "2025-10-08T04:15:12.558344",
     "exception": false,
     "start_time": "2025-10-08T04:15:12.546041",
     "status": "completed"
    },
    "tags": []
   },
   "outputs": [],
   "source": [
    "\n",
    "# local_folder_path = f\"{root}/output/adjust_uat\"\n",
    "\n",
    "# # Replace with the desired folder name in the Azure container\n",
    "# azure_folder_name = \"output\"\n",
    "\n",
    "# # Iterate through files in the local folder and upload them\n",
    "# for root, dirs, files in tqdm(os.walk(local_folder_path)):\n",
    "#     for file in files:\n",
    "#         # Construct the full local file path\n",
    "#         local_file_path = os.path.join(root, file)\n",
    "\n",
    "#         # Construct the blob name (path within the Azure container)\n",
    "#         # This preserves the folder structure from the local path\n",
    "#         relative_path = os.path.relpath(local_file_path, local_folder_path)\n",
    "#         blob_name = os.path.join(azure_folder_name, relative_path)\n",
    "#         # print(blob_name)\n",
    "#         # Create a blob client for the current file\n",
    "#         blob_client = container_client.get_blob_client(blob_name)\n",
    "\n",
    "#         print(f\"Uploading {local_file_path} to {container_name}/{blob_name}\")\n",
    "\n",
    "# #         # Upload the file\n",
    "#         with open(local_file_path, \"rb\") as data:\n",
    "#             blob_client.upload_blob(data, overwrite=True)\n",
    "\n",
    "# print(\"\\nFolder upload complete.\")"
   ]
  },
  {
   "cell_type": "code",
   "execution_count": 9,
   "id": "6364704a",
   "metadata": {
    "execution": {
     "iopub.execute_input": "2025-10-08T04:15:12.574921Z",
     "iopub.status.busy": "2025-10-08T04:15:12.574741Z",
     "iopub.status.idle": "2025-10-08T04:15:12.578509Z",
     "shell.execute_reply": "2025-10-08T04:15:12.578066Z"
    },
    "id": "cRg5jAwbxQ7K",
    "papermill": {
     "duration": 0.013025,
     "end_time": "2025-10-08T04:15:12.579324",
     "exception": false,
     "start_time": "2025-10-08T04:15:12.566299",
     "status": "completed"
    },
    "tags": []
   },
   "outputs": [
    {
     "name": "stdout",
     "output_type": "stream",
     "text": [
      "Local folder not found: /home/runner/work/ADJ_JOBS/ADJ_JOBS/process/adjust_uat/dt=2025-10-07/process/adjust_uat\n",
      "Local folder not found: /home/runner/work/ADJ_JOBS/ADJ_JOBS/process/adjust_uat/dt=2025-10-07/output/adjust_uat\n"
     ]
    }
   ],
   "source": [
    "# Replace with the path to the local folder you want to delete\n",
    "local_folder_paths = [f\"{root}/process/adjust_uat\",f\"{root}/output/adjust_uat\"]\n",
    "# local_folder_path = f\"data/process/adjust_live\"\n",
    "for local_folder_path in local_folder_paths:\n",
    "    if os.path.exists(local_folder_path):\n",
    "        print(f\"Deleting local folder: {local_folder_path}\")\n",
    "        shutil.rmtree(local_folder_path)\n",
    "        print(\"Local folder deleted.\")\n",
    "    else:\n",
    "        print(f\"Local folder not found: {local_folder_path}\")"
   ]
  },
  {
   "cell_type": "markdown",
   "id": "fe8b63c7",
   "metadata": {
    "id": "2TvKr29qyJd_",
    "papermill": {
     "duration": 0.007966,
     "end_time": "2025-10-08T04:15:12.595372",
     "exception": false,
     "start_time": "2025-10-08T04:15:12.587406",
     "status": "completed"
    },
    "tags": []
   },
   "source": [
    "# Live"
   ]
  },
  {
   "cell_type": "code",
   "execution_count": 10,
   "id": "299f8b4c",
   "metadata": {
    "execution": {
     "iopub.execute_input": "2025-10-08T04:15:12.612246Z",
     "iopub.status.busy": "2025-10-08T04:15:12.612007Z",
     "iopub.status.idle": "2025-10-08T04:15:12.614224Z",
     "shell.execute_reply": "2025-10-08T04:15:12.613744Z"
    },
    "id": "EnaFsdZFxpwc",
    "papermill": {
     "duration": 0.01166,
     "end_time": "2025-10-08T04:15:12.615002",
     "exception": false,
     "start_time": "2025-10-08T04:15:12.603342",
     "status": "completed"
    },
    "tags": []
   },
   "outputs": [],
   "source": [
    "# already_processed = [file.name.split('/')[-1].split('.')[0] for file in container_client.list_blobs() if file.name[:12] == 'live/output/']\n",
    "# already_processed[-5:]"
   ]
  },
  {
   "cell_type": "code",
   "execution_count": 11,
   "id": "141c8e07",
   "metadata": {
    "execution": {
     "iopub.execute_input": "2025-10-08T04:15:12.631871Z",
     "iopub.status.busy": "2025-10-08T04:15:12.631691Z",
     "iopub.status.idle": "2025-10-08T04:15:12.633941Z",
     "shell.execute_reply": "2025-10-08T04:15:12.633503Z"
    },
    "id": "aHveM3L5yNix",
    "papermill": {
     "duration": 0.011547,
     "end_time": "2025-10-08T04:15:12.634741",
     "exception": false,
     "start_time": "2025-10-08T04:15:12.623194",
     "status": "completed"
    },
    "tags": []
   },
   "outputs": [],
   "source": [
    "# need_process = pd.date_range(start=already_processed[-1], end=today).strftime('%Y-%m-%d').to_list()\n",
    "# need_process"
   ]
  },
  {
   "cell_type": "code",
   "execution_count": 12,
   "id": "7d9c6a21",
   "metadata": {
    "execution": {
     "iopub.execute_input": "2025-10-08T04:15:12.651844Z",
     "iopub.status.busy": "2025-10-08T04:15:12.651689Z",
     "iopub.status.idle": "2025-10-08T04:15:12.653977Z",
     "shell.execute_reply": "2025-10-08T04:15:12.653541Z"
    },
    "id": "I7Er6YEUyOsL",
    "papermill": {
     "duration": 0.011862,
     "end_time": "2025-10-08T04:15:12.654815",
     "exception": false,
     "start_time": "2025-10-08T04:15:12.642953",
     "status": "completed"
    },
    "tags": []
   },
   "outputs": [],
   "source": [
    "# container_name_uat = \"adjuststblive\"\n",
    "# container_client_uat = blob_service_client.get_container_client(container_name_uat)\n",
    "# from collections import defaultdict\n",
    "# files = [i.name for i in container_client_uat.list_blobs()]\n",
    "# groups = defaultdict(list)\n",
    "# for f in files:\n",
    "#     dt = f.split('_')[1]\n",
    "#     groups[dt].append(f)\n",
    "# groups[dt]"
   ]
  },
  {
   "cell_type": "code",
   "execution_count": 13,
   "id": "d47e3d41",
   "metadata": {
    "execution": {
     "iopub.execute_input": "2025-10-08T04:15:12.672386Z",
     "iopub.status.busy": "2025-10-08T04:15:12.672199Z",
     "iopub.status.idle": "2025-10-08T04:15:12.675013Z",
     "shell.execute_reply": "2025-10-08T04:15:12.674504Z"
    },
    "id": "g-W3s2nRyRY7",
    "papermill": {
     "duration": 0.012172,
     "end_time": "2025-10-08T04:15:12.675776",
     "exception": false,
     "start_time": "2025-10-08T04:15:12.663604",
     "status": "completed"
    },
    "tags": []
   },
   "outputs": [],
   "source": [
    "# process_path = f'{root}/process/adjust_live'\n",
    "# os.makedirs(process_path, exist_ok=True)\n",
    "\n",
    "# for ts, files in tqdm(groups.items()):\n",
    "#     # if ts not in need_process:\n",
    "#     #     continue\n",
    "#     dt = ts[:10]                       # \"2025-06-25\" -> partition dt=...\n",
    "#     # print(ts)\n",
    "#     # break\n",
    "#     if dt not in need_process:\n",
    "#         continue\n",
    "#     # break\n",
    "#     partition_dir = os.path.join(process_path, f\"dt={dt}\")\n",
    "#     os.makedirs(partition_dir, exist_ok=True)\n",
    "#     out_file = os.path.join(partition_dir, f\"{ts}.parquet\")\n",
    "\n",
    "#     dfs = []\n",
    "#     for f in files:\n",
    "#         df = (pl.scan_csv(f\"az://adjuststblive/{f}\",                             # eager\n",
    "#                           storage_options=storage_options,\n",
    "#                           has_header=True,\n",
    "#                           null_values=[\"\", \"NULL\"],\n",
    "#                           ignore_errors=True)       # rỗng → null\n",
    "#                 .select(pl.all().cast(pl.Utf8)))          # tất cả cột → string\n",
    "#         dfs.append(df)\n",
    "\n",
    "#     df_all = pl.concat(dfs, how=\"diagonal\")               # tự thêm null cột thiếu\n",
    "#     df_all.sink_parquet(out_file, compression=\"snappy\")\n",
    "#     print(f'Done dt={dt}/{ts}.parquet')"
   ]
  },
  {
   "cell_type": "code",
   "execution_count": 14,
   "id": "5cdd3bd3",
   "metadata": {
    "execution": {
     "iopub.execute_input": "2025-10-08T04:15:12.692621Z",
     "iopub.status.busy": "2025-10-08T04:15:12.692442Z",
     "iopub.status.idle": "2025-10-08T04:15:12.694966Z",
     "shell.execute_reply": "2025-10-08T04:15:12.694542Z"
    },
    "id": "sBm7rfFUyePJ",
    "papermill": {
     "duration": 0.011876,
     "end_time": "2025-10-08T04:15:12.695764",
     "exception": false,
     "start_time": "2025-10-08T04:15:12.683888",
     "status": "completed"
    },
    "tags": []
   },
   "outputs": [],
   "source": [
    "# output_path = f'{root}/output/adjust_live'\n",
    "# os.makedirs(output_path, exist_ok=True)\n",
    "# for dt_folder in tqdm(glob.glob(os.path.join(process_path, \"dt=*\"))):\n",
    "#     dt = os.path.basename(dt_folder)[3:]                 # \"2025-06-25\"\n",
    "#     files_pq = glob.glob(os.path.join(dt_folder, \"*T*.parquet\"))\n",
    "#     if not files_pq:\n",
    "#         continue\n",
    "\n",
    "#     out_path = os.path.join(output_path, f\"{dt}.parquet\")\n",
    "\n",
    "#     # Nếu trước đó lỡ tạo cùng tên dưới dạng DIR → xoá\n",
    "#     if os.path.isdir(out_path):\n",
    "#         shutil.rmtree(out_path)\n",
    "\n",
    "#     # ---------- ❶  Lazy scan tất cả Parquet ----------\n",
    "#     lfs = [pl.scan_parquet(f) for f in files_pq]          # mỗi file → LazyFrame\n",
    "\n",
    "#     # ---------- ❷  Concat diagonal + giữ schema linh hoạt ----------\n",
    "#     lf_day = (\n",
    "#         pl.concat(lfs, how=\"diagonal\")                    # tự thêm null cột thiếu\n",
    "#         .select(pl.all().cast(pl.Utf8))                   # đảm bảo mọi cột = string\n",
    "#         .with_columns(pl.lit(dt).alias(\"dt\"))             # thêm cột partition (tuỳ)\n",
    "#     )\n",
    "\n",
    "#     # ---------- ❸  Ghi duy nhất 1 Parquet ----------\n",
    "#     lf_day.sink_parquet(out_path, compression=\"snappy\")"
   ]
  },
  {
   "cell_type": "code",
   "execution_count": 15,
   "id": "e87b61e5",
   "metadata": {
    "execution": {
     "iopub.execute_input": "2025-10-08T04:15:12.712738Z",
     "iopub.status.busy": "2025-10-08T04:15:12.712563Z",
     "iopub.status.idle": "2025-10-08T04:15:12.715327Z",
     "shell.execute_reply": "2025-10-08T04:15:12.714860Z"
    },
    "id": "nkJnz3CeykiU",
    "papermill": {
     "duration": 0.012172,
     "end_time": "2025-10-08T04:15:12.716116",
     "exception": false,
     "start_time": "2025-10-08T04:15:12.703944",
     "status": "completed"
    },
    "tags": []
   },
   "outputs": [],
   "source": [
    "\n",
    "# local_folder_path = f\"{root}/process/adjust_live\"\n",
    "\n",
    "# # Replace with the desired folder name in the Azure container\n",
    "# azure_folder_name = \"live/processing\"\n",
    "\n",
    "# # Iterate through files in the local folder and upload them\n",
    "# for root, dirs, files in tqdm(os.walk(local_folder_path)):\n",
    "#     for file in files:\n",
    "#         # Construct the full local file path\n",
    "#         local_file_path = os.path.join(root, file)\n",
    "\n",
    "#         # Construct the blob name (path within the Azure container)\n",
    "#         # This preserves the folder structure from the local path\n",
    "#         relative_path = os.path.relpath(local_file_path, local_folder_path)\n",
    "#         blob_name = os.path.join(azure_folder_name, relative_path)\n",
    "#         # print(blob_name)\n",
    "#         # Create a blob client for the current file\n",
    "#         blob_client = container_client.get_blob_client(blob_name)\n",
    "\n",
    "#         print(f\"Uploading {local_file_path} to {container_name}/{blob_name}\")\n",
    "\n",
    "# #         # Upload the file\n",
    "#         with open(local_file_path, \"rb\") as data:\n",
    "#             blob_client.upload_blob(data, overwrite=True)\n",
    "\n",
    "# print(\"\\nFolder upload complete.\")"
   ]
  },
  {
   "cell_type": "code",
   "execution_count": 16,
   "id": "b4815810",
   "metadata": {
    "execution": {
     "iopub.execute_input": "2025-10-08T04:15:12.733005Z",
     "iopub.status.busy": "2025-10-08T04:15:12.732856Z",
     "iopub.status.idle": "2025-10-08T04:15:12.735557Z",
     "shell.execute_reply": "2025-10-08T04:15:12.735108Z"
    },
    "id": "uJFbJAwtysuo",
    "papermill": {
     "duration": 0.012081,
     "end_time": "2025-10-08T04:15:12.736342",
     "exception": false,
     "start_time": "2025-10-08T04:15:12.724261",
     "status": "completed"
    },
    "tags": []
   },
   "outputs": [],
   "source": [
    "# local_folder_path = f\"{root}/output/adjust_live\"\n",
    "\n",
    "# # Replace with the desired folder name in the Azure container\n",
    "# azure_folder_name = \"live/output\"\n",
    "\n",
    "# # Iterate through files in the local folder and upload them\n",
    "# for root, dirs, files in tqdm(os.walk(local_folder_path)):\n",
    "#     for file in files:\n",
    "#         # Construct the full local file path\n",
    "#         local_file_path = os.path.join(root, file)\n",
    "\n",
    "#         # Construct the blob name (path within the Azure container)\n",
    "#         # This preserves the folder structure from the local path\n",
    "#         relative_path = os.path.relpath(local_file_path, local_folder_path)\n",
    "#         blob_name = os.path.join(azure_folder_name, relative_path)\n",
    "#         # print(blob_name)\n",
    "#         # Create a blob client for the current file\n",
    "#         blob_client = container_client.get_blob_client(blob_name)\n",
    "\n",
    "#         print(f\"Uploading {local_file_path} to {container_name}/{blob_name}\")\n",
    "\n",
    "# #         # Upload the file\n",
    "#         with open(local_file_path, \"rb\") as data:\n",
    "#             blob_client.upload_blob(data, overwrite=True)\n",
    "\n",
    "# print(\"\\nFolder upload complete.\")"
   ]
  },
  {
   "cell_type": "code",
   "execution_count": 17,
   "id": "ad284459",
   "metadata": {
    "execution": {
     "iopub.execute_input": "2025-10-08T04:15:12.753492Z",
     "iopub.status.busy": "2025-10-08T04:15:12.753318Z",
     "iopub.status.idle": "2025-10-08T04:15:12.755865Z",
     "shell.execute_reply": "2025-10-08T04:15:12.755425Z"
    },
    "id": "dtaKWhzhyx3j",
    "papermill": {
     "duration": 0.012033,
     "end_time": "2025-10-08T04:15:12.756653",
     "exception": false,
     "start_time": "2025-10-08T04:15:12.744620",
     "status": "completed"
    },
    "tags": []
   },
   "outputs": [],
   "source": [
    "# # Replace with the path to the local folder you want to delete\n",
    "# local_folder_paths = [f\"{root}/process/adjust_live\",f\"{root}/output/adjust_live\"]\n",
    "# # local_folder_path = f\"data/process/adjust_live\"\n",
    "# for local_folder_path in local_folder_paths:\n",
    "#     if os.path.exists(local_folder_path):\n",
    "#         print(f\"Deleting local folder: {local_folder_path}\")\n",
    "#         shutil.rmtree(local_folder_path)\n",
    "#         print(\"Local folder deleted.\")\n",
    "#     else:\n",
    "#         print(f\"Local folder not found: {local_folder_path}\")"
   ]
  }
 ],
 "metadata": {
  "colab": {
   "authorship_tag": "ABX9TyOfzO6uvqUX+Tt89Y73G9E8",
   "include_colab_link": true,
   "provenance": []
  },
  "kernelspec": {
   "display_name": "Python 3",
   "name": "python3"
  },
  "language_info": {
   "codemirror_mode": {
    "name": "ipython",
    "version": 3
   },
   "file_extension": ".py",
   "mimetype": "text/x-python",
   "name": "python",
   "nbconvert_exporter": "python",
   "pygments_lexer": "ipython3",
   "version": "3.11.13"
  },
  "papermill": {
   "default_parameters": {},
   "duration": 422.282428,
   "end_time": "2025-10-08T04:15:13.481881",
   "environment_variables": {},
   "exception": null,
   "input_path": "notebooks/ADJUST_JOB.ipynb",
   "output_path": "outputs/ADJUST_JOB_2025-10-08.ipynb",
   "parameters": {
    "RUN_DATE": "2025-10-08"
   },
   "start_time": "2025-10-08T04:08:11.199453",
   "version": "2.6.0"
  }
 },
 "nbformat": 4,
 "nbformat_minor": 5
}