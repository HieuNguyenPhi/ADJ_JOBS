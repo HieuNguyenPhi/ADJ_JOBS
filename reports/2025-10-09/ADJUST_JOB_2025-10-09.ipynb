{
 "cells": [
  {
   "cell_type": "code",
   "execution_count": 1,
   "id": "6ae006d5",
   "metadata": {
    "execution": {
     "iopub.execute_input": "2025-10-09T06:59:20.817396Z",
     "iopub.status.busy": "2025-10-09T06:59:20.817176Z",
     "iopub.status.idle": "2025-10-09T06:59:20.822301Z",
     "shell.execute_reply": "2025-10-09T06:59:20.821850Z"
    },
    "papermill": {
     "duration": 0.008977,
     "end_time": "2025-10-09T06:59:20.823182",
     "exception": false,
     "start_time": "2025-10-09T06:59:20.814205",
     "status": "completed"
    },
    "tags": [
     "injected-parameters"
    ]
   },
   "outputs": [],
   "source": [
    "# Parameters\n",
    "RUN_DATE = \"2025-10-09\"\n"
   ]
  },
  {
   "cell_type": "markdown",
   "id": "af4343f8",
   "metadata": {
    "colab_type": "text",
    "id": "view-in-github",
    "papermill": {
     "duration": 0.001806,
     "end_time": "2025-10-09T06:59:20.826947",
     "exception": false,
     "start_time": "2025-10-09T06:59:20.825141",
     "status": "completed"
    },
    "tags": []
   },
   "source": [
    "<a href=\"https://colab.research.google.com/github/HieuNguyenPhi/ADJ_JOBS/blob/main/notebooks/ADJUST_JOB.ipynb\" target=\"_parent\"><img src=\"https://colab.research.google.com/assets/colab-badge.svg\" alt=\"Open In Colab\"/></a>"
   ]
  },
  {
   "cell_type": "markdown",
   "id": "32f4f5ef",
   "metadata": {
    "papermill": {
     "duration": 0.001834,
     "end_time": "2025-10-09T06:59:20.831161",
     "exception": false,
     "start_time": "2025-10-09T06:59:20.829327",
     "status": "completed"
    },
    "tags": []
   },
   "source": [
    "# UAT"
   ]
  },
  {
   "cell_type": "code",
   "execution_count": 2,
   "id": "7d22097b",
   "metadata": {
    "execution": {
     "iopub.execute_input": "2025-10-09T06:59:20.835181Z",
     "iopub.status.busy": "2025-10-09T06:59:20.835008Z",
     "iopub.status.idle": "2025-10-09T06:59:27.855537Z",
     "shell.execute_reply": "2025-10-09T06:59:27.854922Z"
    },
    "id": "ycUR2r1dq1Nm",
    "papermill": {
     "duration": 7.023663,
     "end_time": "2025-10-09T06:59:27.856528",
     "exception": false,
     "start_time": "2025-10-09T06:59:20.832865",
     "status": "completed"
    },
    "tags": []
   },
   "outputs": [
    {
     "data": {
      "text/plain": [
       "['2025-10-05', '2025-10-06', '2025-10-07', '2025-10-08', '2025-10-09']"
      ]
     },
     "execution_count": 2,
     "metadata": {},
     "output_type": "execute_result"
    }
   ],
   "source": [
    "import os\n",
    "from azure.storage.blob import BlobServiceClient\n",
    "\n",
    "account_name = os.getenv('ACCOUNT_NAME')\n",
    "account_key = os.getenv('ACCOUNT_KEY')\n",
    "# Replace with your Azure Storage account name and SAS token or connection string\n",
    "connect_str = f\"DefaultEndpointsProtocol=https;AccountName={account_name};AccountKey={account_key};EndpointSuffix=core.windows.net\"\n",
    "blob_service_client = BlobServiceClient.from_connection_string(connect_str)\n",
    "container_list = blob_service_client.list_containers()\n",
    "container_name = \"adjuststbuatprocessed\" #os.getenv('CONTAINER_NAME')\n",
    "container_client = blob_service_client.get_container_client(container_name)\n",
    "already_processed = [file.name.split('/')[1].split('.')[0] for file in container_client.list_blobs() if file.name.split('/')[0] == 'output']\n",
    "already_processed[-5:]"
   ]
  },
  {
   "cell_type": "code",
   "execution_count": 3,
   "id": "8e753546",
   "metadata": {
    "execution": {
     "iopub.execute_input": "2025-10-09T06:59:27.862661Z",
     "iopub.status.busy": "2025-10-09T06:59:27.862293Z",
     "iopub.status.idle": "2025-10-09T06:59:28.223057Z",
     "shell.execute_reply": "2025-10-09T06:59:28.222525Z"
    },
    "id": "UvcDO8k7s0Jz",
    "papermill": {
     "duration": 0.36437,
     "end_time": "2025-10-09T06:59:28.223962",
     "exception": false,
     "start_time": "2025-10-09T06:59:27.859592",
     "status": "completed"
    },
    "tags": []
   },
   "outputs": [
    {
     "data": {
      "text/plain": [
       "['2025-10-09']"
      ]
     },
     "execution_count": 3,
     "metadata": {},
     "output_type": "execute_result"
    }
   ],
   "source": [
    "from datetime import date\n",
    "import pandas as pd\n",
    "today = date.today().strftime('%Y-%m-%d')\n",
    "need_process = pd.date_range(start=already_processed[-1], end=today).strftime('%Y-%m-%d').to_list()\n",
    "need_process"
   ]
  },
  {
   "cell_type": "code",
   "execution_count": 4,
   "id": "c941dece",
   "metadata": {
    "execution": {
     "iopub.execute_input": "2025-10-09T06:59:28.228940Z",
     "iopub.status.busy": "2025-10-09T06:59:28.228663Z",
     "iopub.status.idle": "2025-10-09T06:59:36.994802Z",
     "shell.execute_reply": "2025-10-09T06:59:36.994162Z"
    },
    "id": "xyPuVC12s7fn",
    "papermill": {
     "duration": 8.769659,
     "end_time": "2025-10-09T06:59:36.995800",
     "exception": false,
     "start_time": "2025-10-09T06:59:28.226141",
     "status": "completed"
    },
    "tags": []
   },
   "outputs": [
    {
     "data": {
      "text/plain": [
       "['rsh20bkkb4zk_2025-10-09T050000_762c775ae454d23f2c6b6a75623d14c7_2853a0.csv.gz',\n",
       " 'rsh20bkkb4zk_2025-10-09T050000_762c775ae454d23f2c6b6a75623d14c7_2853a1.csv.gz',\n",
       " 'rsh20bkkb4zk_2025-10-09T050000_762c775ae454d23f2c6b6a75623d14c7_be8220.csv.gz',\n",
       " 'rsh20bkkb4zk_2025-10-09T050000_762c775ae454d23f2c6b6a75623d14c7_be8221.csv.gz',\n",
       " 'rsh20bkkb4zk_2025-10-09T050000_762c775ae454d23f2c6b6a75623d14c7_c35750.csv.gz',\n",
       " 'rsh20bkkb4zk_2025-10-09T050000_762c775ae454d23f2c6b6a75623d14c7_c35751.csv.gz']"
      ]
     },
     "execution_count": 4,
     "metadata": {},
     "output_type": "execute_result"
    }
   ],
   "source": [
    "container_name_uat = \"adjuststbuat\"\n",
    "container_client_uat = blob_service_client.get_container_client(container_name_uat)\n",
    "from collections import defaultdict\n",
    "files = [i.name for i in container_client_uat.list_blobs()]\n",
    "groups = defaultdict(list)\n",
    "for f in files:\n",
    "    dt = f.split('_')[1]\n",
    "    groups[dt].append(f)\n",
    "groups[dt]"
   ]
  },
  {
   "cell_type": "code",
   "execution_count": 5,
   "id": "e83f15dc",
   "metadata": {
    "execution": {
     "iopub.execute_input": "2025-10-09T06:59:37.001478Z",
     "iopub.status.busy": "2025-10-09T06:59:37.001295Z",
     "iopub.status.idle": "2025-10-09T07:00:39.718402Z",
     "shell.execute_reply": "2025-10-09T07:00:39.717668Z"
    },
    "papermill": {
     "duration": 62.723526,
     "end_time": "2025-10-09T07:00:39.721724",
     "exception": false,
     "start_time": "2025-10-09T06:59:36.998198",
     "status": "completed"
    },
    "tags": []
   },
   "outputs": [
    {
     "name": "stderr",
     "output_type": "stream",
     "text": [
      "\r",
      "  0%|          | 0/1863 [00:00<?, ?it/s]"
     ]
    },
    {
     "name": "stderr",
     "output_type": "stream",
     "text": [
      "\r",
      "100%|█████████▉| 1858/1863 [00:12<00:00, 153.52it/s]"
     ]
    },
    {
     "name": "stdout",
     "output_type": "stream",
     "text": [
      "Done dt=2025-10-09/2025-10-09T000000.parquet\n"
     ]
    },
    {
     "name": "stdout",
     "output_type": "stream",
     "text": [
      "Done dt=2025-10-09/2025-10-09T010000.parquet\n"
     ]
    },
    {
     "name": "stderr",
     "output_type": "stream",
     "text": [
      "\r",
      "100%|█████████▉| 1858/1863 [00:29<00:00, 153.52it/s]"
     ]
    },
    {
     "name": "stderr",
     "output_type": "stream",
     "text": [
      "\r",
      "100%|█████████▉| 1860/1863 [00:33<00:00, 43.69it/s] "
     ]
    },
    {
     "name": "stdout",
     "output_type": "stream",
     "text": [
      "Done dt=2025-10-09/2025-10-09T020000.parquet\n"
     ]
    },
    {
     "name": "stderr",
     "output_type": "stream",
     "text": [
      "\r",
      "100%|█████████▉| 1861/1863 [00:44<00:00, 28.95it/s]"
     ]
    },
    {
     "name": "stdout",
     "output_type": "stream",
     "text": [
      "Done dt=2025-10-09/2025-10-09T030000.parquet\n"
     ]
    },
    {
     "name": "stderr",
     "output_type": "stream",
     "text": [
      "\r",
      "100%|█████████▉| 1862/1863 [00:53<00:00, 20.48it/s]"
     ]
    },
    {
     "name": "stdout",
     "output_type": "stream",
     "text": [
      "Done dt=2025-10-09/2025-10-09T040000.parquet\n"
     ]
    },
    {
     "name": "stderr",
     "output_type": "stream",
     "text": [
      "\r",
      "100%|██████████| 1863/1863 [01:02<00:00, 14.40it/s]"
     ]
    },
    {
     "name": "stderr",
     "output_type": "stream",
     "text": [
      "\r",
      "100%|██████████| 1863/1863 [01:02<00:00, 29.77it/s]"
     ]
    },
    {
     "name": "stdout",
     "output_type": "stream",
     "text": [
      "Done dt=2025-10-09/2025-10-09T050000.parquet\n"
     ]
    },
    {
     "name": "stderr",
     "output_type": "stream",
     "text": [
      "\n"
     ]
    }
   ],
   "source": [
    "import polars as pl \n",
    "from tqdm import tqdm\n",
    "storage_options = {\n",
    "    \"account_name\": account_name,\n",
    "    \"account_key\":  account_key,\n",
    "}\n",
    "\n",
    "for ts, files in tqdm(groups.items()):\n",
    "    dt = ts[:10]\n",
    "    if dt not in need_process:\n",
    "        continue\n",
    "    df = pl.scan_csv(f\"az://adjuststbuat/*_{ts}_*.csv.gz\", storage_options = storage_options,glob=True, has_header = True, null_values = [\"\",\"NULL\"], ignore_errors=True).select(pl.all().cast(pl.Utf8))\n",
    "    df.sink_parquet(f\"az://adjuststbuatprocessed/processing/dt={dt}/{ts}.parquet\", storage_options = storage_options, compression=\"snappy\")\n",
    "    print(f'Done dt={dt}/{ts}.parquet')\n",
    "        "
   ]
  },
  {
   "cell_type": "code",
   "execution_count": 6,
   "id": "feb9972e",
   "metadata": {
    "execution": {
     "iopub.execute_input": "2025-10-09T07:00:39.727828Z",
     "iopub.status.busy": "2025-10-09T07:00:39.727648Z",
     "iopub.status.idle": "2025-10-09T07:00:43.742145Z",
     "shell.execute_reply": "2025-10-09T07:00:43.741649Z"
    },
    "papermill": {
     "duration": 4.018621,
     "end_time": "2025-10-09T07:00:43.743006",
     "exception": false,
     "start_time": "2025-10-09T07:00:39.724385",
     "status": "completed"
    },
    "tags": []
   },
   "outputs": [
    {
     "name": "stdout",
     "output_type": "stream",
     "text": [
      "\n",
      " Done 2025-10-09\n",
      "\n"
     ]
    }
   ],
   "source": [
    "for dt in need_process:\n",
    "  df = pl.scan_parquet(f\"az://adjuststbuatprocessed/processing/dt={dt}/*.parquet\", storage_options=storage_options,glob=True).with_columns(pl.lit(dt).alias(\"dt\"))\n",
    "  df.sink_parquet(f\"az://adjuststbuatprocessed/output/{dt}.parquet\", storage_options=storage_options, compression=\"snappy\")\n",
    "  print(f'\\n Done {dt}\\n')"
   ]
  },
  {
   "cell_type": "markdown",
   "id": "fd3242d7",
   "metadata": {
    "id": "2TvKr29qyJd_",
    "papermill": {
     "duration": 0.002691,
     "end_time": "2025-10-09T07:00:43.748612",
     "exception": false,
     "start_time": "2025-10-09T07:00:43.745921",
     "status": "completed"
    },
    "tags": []
   },
   "source": [
    "# Live"
   ]
  },
  {
   "cell_type": "code",
   "execution_count": 7,
   "id": "cd104f31",
   "metadata": {
    "execution": {
     "iopub.execute_input": "2025-10-09T07:00:43.754523Z",
     "iopub.status.busy": "2025-10-09T07:00:43.754344Z",
     "iopub.status.idle": "2025-10-09T07:00:48.004306Z",
     "shell.execute_reply": "2025-10-09T07:00:48.003777Z"
    },
    "id": "EnaFsdZFxpwc",
    "papermill": {
     "duration": 4.253967,
     "end_time": "2025-10-09T07:00:48.005173",
     "exception": false,
     "start_time": "2025-10-09T07:00:43.751206",
     "status": "completed"
    },
    "tags": []
   },
   "outputs": [
    {
     "data": {
      "text/plain": [
       "['2025-10-05', '2025-10-06', '2025-10-07', '2025-10-08', '2025-10-09']"
      ]
     },
     "execution_count": 7,
     "metadata": {},
     "output_type": "execute_result"
    }
   ],
   "source": [
    "already_processed = [file.name.split('/')[-1].split('.')[0] for file in container_client.list_blobs() if file.name[:12] == 'live/output/']\n",
    "already_processed[-5:]"
   ]
  },
  {
   "cell_type": "code",
   "execution_count": 8,
   "id": "0ac72257",
   "metadata": {
    "execution": {
     "iopub.execute_input": "2025-10-09T07:00:48.011768Z",
     "iopub.status.busy": "2025-10-09T07:00:48.011513Z",
     "iopub.status.idle": "2025-10-09T07:00:48.015956Z",
     "shell.execute_reply": "2025-10-09T07:00:48.015477Z"
    },
    "id": "aHveM3L5yNix",
    "papermill": {
     "duration": 0.008566,
     "end_time": "2025-10-09T07:00:48.016758",
     "exception": false,
     "start_time": "2025-10-09T07:00:48.008192",
     "status": "completed"
    },
    "tags": []
   },
   "outputs": [
    {
     "data": {
      "text/plain": [
       "['2025-10-09']"
      ]
     },
     "execution_count": 8,
     "metadata": {},
     "output_type": "execute_result"
    }
   ],
   "source": [
    "need_process = pd.date_range(start=already_processed[-1], end=today).strftime('%Y-%m-%d').to_list()\n",
    "need_process"
   ]
  },
  {
   "cell_type": "code",
   "execution_count": 9,
   "id": "7d1028db",
   "metadata": {
    "execution": {
     "iopub.execute_input": "2025-10-09T07:00:48.023040Z",
     "iopub.status.busy": "2025-10-09T07:00:48.022855Z",
     "iopub.status.idle": "2025-10-09T07:01:00.302227Z",
     "shell.execute_reply": "2025-10-09T07:01:00.301657Z"
    },
    "id": "I7Er6YEUyOsL",
    "papermill": {
     "duration": 12.283562,
     "end_time": "2025-10-09T07:01:00.303141",
     "exception": false,
     "start_time": "2025-10-09T07:00:48.019579",
     "status": "completed"
    },
    "tags": []
   },
   "outputs": [
    {
     "data": {
      "text/plain": [
       "['65n1fgov4zr4_2025-10-09T050000_762c775ae454d23f2c6b6a75623d14c7_2853a0.csv.gz',\n",
       " '65n1fgov4zr4_2025-10-09T050000_762c775ae454d23f2c6b6a75623d14c7_2853a1.csv.gz',\n",
       " '65n1fgov4zr4_2025-10-09T050000_762c775ae454d23f2c6b6a75623d14c7_be8220.csv.gz',\n",
       " '65n1fgov4zr4_2025-10-09T050000_762c775ae454d23f2c6b6a75623d14c7_be8221.csv.gz',\n",
       " '65n1fgov4zr4_2025-10-09T050000_762c775ae454d23f2c6b6a75623d14c7_c35750.csv.gz',\n",
       " '65n1fgov4zr4_2025-10-09T050000_762c775ae454d23f2c6b6a75623d14c7_c35751.csv.gz']"
      ]
     },
     "execution_count": 9,
     "metadata": {},
     "output_type": "execute_result"
    }
   ],
   "source": [
    "container_name_uat = \"adjuststblive\"\n",
    "container_client_uat = blob_service_client.get_container_client(container_name_uat)\n",
    "from collections import defaultdict\n",
    "files = [i.name for i in container_client_uat.list_blobs()]\n",
    "groups = defaultdict(list)\n",
    "for f in files:\n",
    "    dt = f.split('_')[1]\n",
    "    groups[dt].append(f)\n",
    "groups[dt]"
   ]
  },
  {
   "cell_type": "code",
   "execution_count": 10,
   "id": "d148aa1d",
   "metadata": {
    "execution": {
     "iopub.execute_input": "2025-10-09T07:01:00.309868Z",
     "iopub.status.busy": "2025-10-09T07:01:00.309702Z",
     "iopub.status.idle": "2025-10-09T07:05:48.651789Z",
     "shell.execute_reply": "2025-10-09T07:05:48.651182Z"
    },
    "id": "g-W3s2nRyRY7",
    "papermill": {
     "duration": 288.348896,
     "end_time": "2025-10-09T07:05:48.655198",
     "exception": false,
     "start_time": "2025-10-09T07:01:00.306302",
     "status": "completed"
    },
    "tags": []
   },
   "outputs": [
    {
     "name": "stderr",
     "output_type": "stream",
     "text": [
      "\r",
      "  0%|          | 0/1844 [00:00<?, ?it/s]"
     ]
    },
    {
     "name": "stderr",
     "output_type": "stream",
     "text": [
      "\r",
      "100%|█████████▉| 1839/1844 [00:31<00:00, 59.06it/s]"
     ]
    },
    {
     "name": "stdout",
     "output_type": "stream",
     "text": [
      "Done dt=2025-10-09/2025-10-09T000000.parquet\n"
     ]
    },
    {
     "name": "stderr",
     "output_type": "stream",
     "text": [
      "\r",
      "100%|█████████▉| 1839/1844 [00:46<00:00, 59.06it/s]"
     ]
    },
    {
     "name": "stderr",
     "output_type": "stream",
     "text": [
      "\r",
      "100%|█████████▉| 1840/1844 [01:17<00:00, 19.02it/s]"
     ]
    },
    {
     "name": "stdout",
     "output_type": "stream",
     "text": [
      "Done dt=2025-10-09/2025-10-09T010000.parquet\n"
     ]
    },
    {
     "name": "stderr",
     "output_type": "stream",
     "text": [
      "\r",
      "100%|█████████▉| 1841/1844 [02:15<00:00,  8.49it/s]"
     ]
    },
    {
     "name": "stdout",
     "output_type": "stream",
     "text": [
      "Done dt=2025-10-09/2025-10-09T020000.parquet\n"
     ]
    },
    {
     "name": "stderr",
     "output_type": "stream",
     "text": [
      "\r",
      "100%|█████████▉| 1842/1844 [03:11<00:00,  4.89it/s]"
     ]
    },
    {
     "name": "stdout",
     "output_type": "stream",
     "text": [
      "Done dt=2025-10-09/2025-10-09T030000.parquet\n"
     ]
    },
    {
     "name": "stderr",
     "output_type": "stream",
     "text": [
      "\r",
      "100%|█████████▉| 1843/1844 [04:00<00:00,  3.16it/s]"
     ]
    },
    {
     "name": "stdout",
     "output_type": "stream",
     "text": [
      "Done dt=2025-10-09/2025-10-09T040000.parquet\n"
     ]
    },
    {
     "name": "stderr",
     "output_type": "stream",
     "text": [
      "\r",
      "100%|██████████| 1844/1844 [04:48<00:00,  2.14it/s]"
     ]
    },
    {
     "name": "stderr",
     "output_type": "stream",
     "text": [
      "\r",
      "100%|██████████| 1844/1844 [04:48<00:00,  6.40it/s]"
     ]
    },
    {
     "name": "stdout",
     "output_type": "stream",
     "text": [
      "Done dt=2025-10-09/2025-10-09T050000.parquet\n"
     ]
    },
    {
     "name": "stderr",
     "output_type": "stream",
     "text": [
      "\n"
     ]
    }
   ],
   "source": [
    "storage_options = {\n",
    "    \"account_name\": account_name,\n",
    "    \"account_key\":  account_key,\n",
    "}\n",
    "\n",
    "for ts, files in tqdm(groups.items()):\n",
    "    dt = ts[:10]\n",
    "    if dt not in need_process:\n",
    "        continue\n",
    "    df = pl.scan_csv(f\"az://adjuststblive/*_{ts}_*.csv.gz\", storage_options = storage_options,glob=True, has_header = True, null_values = [\"\",\"NULL\"], ignore_errors=True).select(pl.all().cast(pl.Utf8))\n",
    "    df.sink_parquet(f\"az://adjuststbuatprocessed/live/processing/dt={dt}/{ts}.parquet\", storage_options = storage_options, compression=\"snappy\")\n",
    "    print(f'Done dt={dt}/{ts}.parquet')\n",
    "        "
   ]
  },
  {
   "cell_type": "code",
   "execution_count": 11,
   "id": "1527bdab",
   "metadata": {
    "execution": {
     "iopub.execute_input": "2025-10-09T07:05:48.663112Z",
     "iopub.status.busy": "2025-10-09T07:05:48.662940Z",
     "iopub.status.idle": "2025-10-09T07:06:38.640140Z",
     "shell.execute_reply": "2025-10-09T07:06:38.639484Z"
    },
    "id": "sBm7rfFUyePJ",
    "papermill": {
     "duration": 49.985322,
     "end_time": "2025-10-09T07:06:38.644094",
     "exception": false,
     "start_time": "2025-10-09T07:05:48.658772",
     "status": "completed"
    },
    "tags": []
   },
   "outputs": [
    {
     "name": "stdout",
     "output_type": "stream",
     "text": [
      "\n",
      " Done 2025-10-09\n",
      "\n"
     ]
    }
   ],
   "source": [
    "for dt in need_process:\n",
    "  df = pl.scan_parquet(f\"az://adjuststbuatprocessed/live/processing/dt={dt}/*.parquet\", storage_options=storage_options,glob=True).with_columns(pl.lit(dt).alias(\"dt\"))\n",
    "  df.sink_parquet(f\"az://adjuststbuatprocessed/live/output/{dt}.parquet\", storage_options=storage_options, compression=\"snappy\")\n",
    "  print(f'\\n Done {dt}\\n')"
   ]
  }
 ],
 "metadata": {
  "colab": {
   "authorship_tag": "ABX9TyOfzO6uvqUX+Tt89Y73G9E8",
   "include_colab_link": true,
   "provenance": []
  },
  "kernelspec": {
   "display_name": "Python 3",
   "name": "python3"
  },
  "language_info": {
   "codemirror_mode": {
    "name": "ipython",
    "version": 3
   },
   "file_extension": ".py",
   "mimetype": "text/x-python",
   "name": "python",
   "nbconvert_exporter": "python",
   "pygments_lexer": "ipython3",
   "version": "3.11.13"
  },
  "papermill": {
   "default_parameters": {},
   "duration": 439.542787,
   "end_time": "2025-10-09T07:06:39.163806",
   "environment_variables": {},
   "exception": null,
   "input_path": "notebooks/ADJUST_JOB.ipynb",
   "output_path": "outputs/ADJUST_JOB_2025-10-09.ipynb",
   "parameters": {
    "RUN_DATE": "2025-10-09"
   },
   "start_time": "2025-10-09T06:59:19.621019",
   "version": "2.6.0"
  }
 },
 "nbformat": 4,
 "nbformat_minor": 5
}