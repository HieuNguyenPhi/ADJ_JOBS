{
 "cells": [
  {
   "cell_type": "code",
   "execution_count": 1,
   "id": "1d0e4fc6",
   "metadata": {
    "execution": {
     "iopub.execute_input": "2025-10-10T03:03:48.424000Z",
     "iopub.status.busy": "2025-10-10T03:03:48.423698Z",
     "iopub.status.idle": "2025-10-10T03:03:48.429157Z",
     "shell.execute_reply": "2025-10-10T03:03:48.428676Z"
    },
    "papermill": {
     "duration": 0.009764,
     "end_time": "2025-10-10T03:03:48.430101",
     "exception": false,
     "start_time": "2025-10-10T03:03:48.420337",
     "status": "completed"
    },
    "tags": [
     "injected-parameters"
    ]
   },
   "outputs": [],
   "source": [
    "# Parameters\n",
    "RUN_DATE = \"2025-10-10\"\n"
   ]
  },
  {
   "cell_type": "markdown",
   "id": "08d9f3e8",
   "metadata": {
    "colab_type": "text",
    "id": "view-in-github",
    "papermill": {
     "duration": 0.001931,
     "end_time": "2025-10-10T03:03:48.434402",
     "exception": false,
     "start_time": "2025-10-10T03:03:48.432471",
     "status": "completed"
    },
    "tags": []
   },
   "source": [
    "<a href=\"https://colab.research.google.com/github/HieuNguyenPhi/ADJ_JOBS/blob/main/notebooks/ADJUST_JOB.ipynb\" target=\"_parent\"><img src=\"https://colab.research.google.com/assets/colab-badge.svg\" alt=\"Open In Colab\"/></a>"
   ]
  },
  {
   "cell_type": "markdown",
   "id": "44a389d1",
   "metadata": {
    "papermill": {
     "duration": 0.001865,
     "end_time": "2025-10-10T03:03:48.438187",
     "exception": false,
     "start_time": "2025-10-10T03:03:48.436322",
     "status": "completed"
    },
    "tags": []
   },
   "source": [
    "# UAT"
   ]
  },
  {
   "cell_type": "code",
   "execution_count": 2,
   "id": "92affb74",
   "metadata": {
    "execution": {
     "iopub.execute_input": "2025-10-10T03:03:48.443877Z",
     "iopub.status.busy": "2025-10-10T03:03:48.443638Z",
     "iopub.status.idle": "2025-10-10T03:03:54.031307Z",
     "shell.execute_reply": "2025-10-10T03:03:54.030800Z"
    },
    "id": "ycUR2r1dq1Nm",
    "papermill": {
     "duration": 5.592195,
     "end_time": "2025-10-10T03:03:54.032290",
     "exception": false,
     "start_time": "2025-10-10T03:03:48.440095",
     "status": "completed"
    },
    "tags": []
   },
   "outputs": [
    {
     "data": {
      "text/plain": [
       "['2025-10-09T160000',\n",
       " '2025-10-09T180000',\n",
       " '2025-10-09T210000',\n",
       " '2025-10-09T230000',\n",
       " '2025-10-10T000000']"
      ]
     },
     "execution_count": 2,
     "metadata": {},
     "output_type": "execute_result"
    }
   ],
   "source": [
    "import os\n",
    "from azure.storage.blob import BlobServiceClient\n",
    "\n",
    "account_name = os.getenv('ACCOUNT_NAME')\n",
    "account_key = os.getenv('ACCOUNT_KEY')\n",
    "# Replace with your Azure Storage account name and SAS token or connection string\n",
    "connect_str = f\"DefaultEndpointsProtocol=https;AccountName={account_name};AccountKey={account_key};EndpointSuffix=core.windows.net\"\n",
    "blob_service_client = BlobServiceClient.from_connection_string(connect_str)\n",
    "container_list = blob_service_client.list_containers()\n",
    "container_name = \"adjuststbuatprocessed\" #os.getenv('CONTAINER_NAME')\n",
    "container_client = blob_service_client.get_container_client(container_name)\n",
    "# already_processed = [file.name.split('/')[1].split('.')[0] for file in container_client.list_blobs() if file.name.split('/')[0] == 'output']\n",
    "# already_processed[-5:]\n",
    "already_processed_ts = sorted([file.name.split('/')[-1].split(\".\")[0] for file in container_client.list_blobs() if file.name.split('/')[0] == 'processing'])\n",
    "already_processed_ts[-5:]"
   ]
  },
  {
   "cell_type": "code",
   "execution_count": 3,
   "id": "8f05518a",
   "metadata": {
    "execution": {
     "iopub.execute_input": "2025-10-10T03:03:54.037889Z",
     "iopub.status.busy": "2025-10-10T03:03:54.037589Z",
     "iopub.status.idle": "2025-10-10T03:04:01.483932Z",
     "shell.execute_reply": "2025-10-10T03:04:01.483370Z"
    },
    "id": "xyPuVC12s7fn",
    "papermill": {
     "duration": 7.450054,
     "end_time": "2025-10-10T03:04:01.484826",
     "exception": false,
     "start_time": "2025-10-10T03:03:54.034772",
     "status": "completed"
    },
    "tags": []
   },
   "outputs": [
    {
     "data": {
      "text/plain": [
       "['rsh20bkkb4zk_2025-10-10T020000_762c775ae454d23f2c6b6a75623d14c7_2853a0.csv.gz',\n",
       " 'rsh20bkkb4zk_2025-10-10T020000_762c775ae454d23f2c6b6a75623d14c7_2853a1.csv.gz',\n",
       " 'rsh20bkkb4zk_2025-10-10T020000_762c775ae454d23f2c6b6a75623d14c7_be8220.csv.gz',\n",
       " 'rsh20bkkb4zk_2025-10-10T020000_762c775ae454d23f2c6b6a75623d14c7_be8221.csv.gz',\n",
       " 'rsh20bkkb4zk_2025-10-10T020000_762c775ae454d23f2c6b6a75623d14c7_c35750.csv.gz',\n",
       " 'rsh20bkkb4zk_2025-10-10T020000_762c775ae454d23f2c6b6a75623d14c7_c35751.csv.gz']"
      ]
     },
     "execution_count": 3,
     "metadata": {},
     "output_type": "execute_result"
    }
   ],
   "source": [
    "container_name_uat = \"adjuststbuat\"\n",
    "container_client_uat = blob_service_client.get_container_client(container_name_uat)\n",
    "from collections import defaultdict\n",
    "files = [i.name for i in container_client_uat.list_blobs()]\n",
    "groups = defaultdict(list)\n",
    "for f in files:\n",
    "    dt = f.split('_')[1]\n",
    "    groups[dt].append(f)\n",
    "groups[dt]"
   ]
  },
  {
   "cell_type": "code",
   "execution_count": 4,
   "id": "21858f4f",
   "metadata": {
    "execution": {
     "iopub.execute_input": "2025-10-10T03:04:01.490547Z",
     "iopub.status.busy": "2025-10-10T03:04:01.490318Z",
     "iopub.status.idle": "2025-10-10T03:04:01.493174Z",
     "shell.execute_reply": "2025-10-10T03:04:01.492664Z"
    },
    "papermill": {
     "duration": 0.006709,
     "end_time": "2025-10-10T03:04:01.494031",
     "exception": false,
     "start_time": "2025-10-10T03:04:01.487322",
     "status": "completed"
    },
    "tags": []
   },
   "outputs": [],
   "source": [
    "# from datetime import date, timedelta, datetime\n",
    "# import pandas as pd\n",
    "# today = date.today().strftime('%Y-%m-%d')\n",
    "# yesterday = (date.today() - timedelta(days = 1) ).strftime('%Y-%m-%d')\n",
    "# check_date = dt.split(\"T\")[0]\n",
    "# if check_date == today:\n",
    "#     need_process = pd.date_range(start=already_processed[-1], end=today).strftime('%Y-%m-%d').to_list()\n",
    "# else:\n",
    "#     need_process = pd.date_range(start=already_processed[-1], end=yesterday).strftime('%Y-%m-%d').to_list()\n",
    "# need_process"
   ]
  },
  {
   "cell_type": "code",
   "execution_count": 5,
   "id": "6ba0d125",
   "metadata": {
    "execution": {
     "iopub.execute_input": "2025-10-10T03:04:01.499604Z",
     "iopub.status.busy": "2025-10-10T03:04:01.499383Z",
     "iopub.status.idle": "2025-10-10T03:04:01.786468Z",
     "shell.execute_reply": "2025-10-10T03:04:01.785940Z"
    },
    "papermill": {
     "duration": 0.290989,
     "end_time": "2025-10-10T03:04:01.787447",
     "exception": false,
     "start_time": "2025-10-10T03:04:01.496458",
     "status": "completed"
    },
    "tags": []
   },
   "outputs": [
    {
     "data": {
      "text/plain": [
       "['2025-10-09T230000',\n",
       " '2025-10-10T000000',\n",
       " '2025-10-10T010000',\n",
       " '2025-10-10T020000']"
      ]
     },
     "execution_count": 5,
     "metadata": {},
     "output_type": "execute_result"
    }
   ],
   "source": [
    "from datetime import datetime\n",
    "import pandas as pd\n",
    "B = datetime.strptime(dt, \"%Y-%m-%dT%H0000\")\n",
    "A = datetime.strptime(already_processed_ts[-2], \"%Y-%m-%dT%H0000\")\n",
    "need_process_ts =  pd.date_range(A, B, freq='h').strftime('%Y-%m-%dT%H0000').tolist()\n",
    "need_process_ts"
   ]
  },
  {
   "cell_type": "code",
   "execution_count": 6,
   "id": "df80242f",
   "metadata": {
    "execution": {
     "iopub.execute_input": "2025-10-10T03:04:01.793628Z",
     "iopub.status.busy": "2025-10-10T03:04:01.793319Z",
     "iopub.status.idle": "2025-10-10T03:04:31.929667Z",
     "shell.execute_reply": "2025-10-10T03:04:31.929021Z"
    },
    "papermill": {
     "duration": 30.143073,
     "end_time": "2025-10-10T03:04:31.933196",
     "exception": false,
     "start_time": "2025-10-10T03:04:01.790123",
     "status": "completed"
    },
    "tags": []
   },
   "outputs": [
    {
     "name": "stderr",
     "output_type": "stream",
     "text": [
      "\r",
      "  0%|          | 0/1880 [00:00<?, ?it/s]"
     ]
    },
    {
     "name": "stderr",
     "output_type": "stream",
     "text": [
      "\r",
      "100%|█████████▉| 1877/1880 [00:08<00:00, 222.67it/s]"
     ]
    },
    {
     "name": "stdout",
     "output_type": "stream",
     "text": [
      "Done dt=2025-10-09/2025-10-09T230000.parquet\n"
     ]
    },
    {
     "name": "stdout",
     "output_type": "stream",
     "text": [
      "Done dt=2025-10-10/2025-10-10T000000.parquet\n"
     ]
    },
    {
     "name": "stderr",
     "output_type": "stream",
     "text": [
      "\r",
      "100%|█████████▉| 1877/1880 [00:19<00:00, 222.67it/s]"
     ]
    },
    {
     "name": "stderr",
     "output_type": "stream",
     "text": [
      "\r",
      "100%|█████████▉| 1879/1880 [00:21<00:00, 68.39it/s] "
     ]
    },
    {
     "name": "stdout",
     "output_type": "stream",
     "text": [
      "Done dt=2025-10-10/2025-10-10T010000.parquet\n"
     ]
    },
    {
     "name": "stderr",
     "output_type": "stream",
     "text": [
      "\r",
      "100%|██████████| 1880/1880 [00:29<00:00, 42.52it/s]"
     ]
    },
    {
     "name": "stderr",
     "output_type": "stream",
     "text": [
      "\r",
      "100%|██████████| 1880/1880 [00:29<00:00, 62.69it/s]"
     ]
    },
    {
     "name": "stdout",
     "output_type": "stream",
     "text": [
      "Done dt=2025-10-10/2025-10-10T020000.parquet\n"
     ]
    },
    {
     "name": "stderr",
     "output_type": "stream",
     "text": [
      "\n"
     ]
    }
   ],
   "source": [
    "import polars as pl \n",
    "from tqdm import tqdm\n",
    "storage_options = {\n",
    "    \"account_name\": account_name,\n",
    "    \"account_key\":  account_key,\n",
    "}\n",
    "\n",
    "for ts, files in tqdm(groups.items()):\n",
    "    if ts not in need_process_ts:\n",
    "        continue\n",
    "    dt = ts[:10]\n",
    "    # if dt not in need_process:\n",
    "    #     continue\n",
    "    df = pl.scan_csv(f\"az://adjuststbuat/*_{ts}_*.csv.gz\", storage_options = storage_options,glob=True, has_header = True, null_values = [\"\",\"NULL\"], ignore_errors=True).select(pl.all().cast(pl.Utf8))\n",
    "    df.sink_parquet(f\"az://adjuststbuatprocessed/processing/dt={dt}/{ts}.parquet\", storage_options = storage_options, compression=\"snappy\")\n",
    "    print(f'Done dt={dt}/{ts}.parquet')\n",
    "        "
   ]
  },
  {
   "cell_type": "code",
   "execution_count": 7,
   "id": "1992b3be",
   "metadata": {
    "execution": {
     "iopub.execute_input": "2025-10-10T03:04:31.939783Z",
     "iopub.status.busy": "2025-10-10T03:04:31.939502Z",
     "iopub.status.idle": "2025-10-10T03:04:31.943853Z",
     "shell.execute_reply": "2025-10-10T03:04:31.943262Z"
    },
    "papermill": {
     "duration": 0.008711,
     "end_time": "2025-10-10T03:04:31.944799",
     "exception": false,
     "start_time": "2025-10-10T03:04:31.936088",
     "status": "completed"
    },
    "tags": []
   },
   "outputs": [
    {
     "data": {
      "text/plain": [
       "{'2025-10-09', '2025-10-10'}"
      ]
     },
     "execution_count": 7,
     "metadata": {},
     "output_type": "execute_result"
    }
   ],
   "source": [
    "need_process = set([i.split(\"T\")[0] for i in need_process_ts])\n",
    "need_process"
   ]
  },
  {
   "cell_type": "code",
   "execution_count": 8,
   "id": "e277be05",
   "metadata": {
    "execution": {
     "iopub.execute_input": "2025-10-10T03:04:31.951410Z",
     "iopub.status.busy": "2025-10-10T03:04:31.951197Z",
     "iopub.status.idle": "2025-10-10T03:04:38.890492Z",
     "shell.execute_reply": "2025-10-10T03:04:38.889900Z"
    },
    "papermill": {
     "duration": 6.943599,
     "end_time": "2025-10-10T03:04:38.891429",
     "exception": false,
     "start_time": "2025-10-10T03:04:31.947830",
     "status": "completed"
    },
    "tags": []
   },
   "outputs": [
    {
     "name": "stdout",
     "output_type": "stream",
     "text": [
      "\n",
      " Done 2025-10-10\n",
      "\n"
     ]
    },
    {
     "name": "stdout",
     "output_type": "stream",
     "text": [
      "\n",
      " Done 2025-10-09\n",
      "\n"
     ]
    }
   ],
   "source": [
    "for dt in need_process:\n",
    "  df = pl.scan_parquet(f\"az://adjuststbuatprocessed/processing/dt={dt}/*.parquet\", storage_options=storage_options,glob=True).with_columns(pl.lit(dt).alias(\"dt\"))\n",
    "  df.sink_parquet(f\"az://adjuststbuatprocessed/output/{dt}.parquet\", storage_options=storage_options, compression=\"snappy\")\n",
    "  print(f'\\n Done {dt}\\n')"
   ]
  },
  {
   "cell_type": "markdown",
   "id": "a8094d0f",
   "metadata": {
    "id": "2TvKr29qyJd_",
    "papermill": {
     "duration": 0.002979,
     "end_time": "2025-10-10T03:04:38.897634",
     "exception": false,
     "start_time": "2025-10-10T03:04:38.894655",
     "status": "completed"
    },
    "tags": []
   },
   "source": [
    "# Live"
   ]
  },
  {
   "cell_type": "code",
   "execution_count": 9,
   "id": "003f8141",
   "metadata": {
    "execution": {
     "iopub.execute_input": "2025-10-10T03:04:38.904292Z",
     "iopub.status.busy": "2025-10-10T03:04:38.904047Z",
     "iopub.status.idle": "2025-10-10T03:04:42.555312Z",
     "shell.execute_reply": "2025-10-10T03:04:42.554695Z"
    },
    "id": "EnaFsdZFxpwc",
    "papermill": {
     "duration": 3.655746,
     "end_time": "2025-10-10T03:04:42.556276",
     "exception": false,
     "start_time": "2025-10-10T03:04:38.900530",
     "status": "completed"
    },
    "tags": []
   },
   "outputs": [
    {
     "data": {
      "text/plain": [
       "['2025-10-09T200000',\n",
       " '2025-10-09T210000',\n",
       " '2025-10-09T220000',\n",
       " '2025-10-09T230000',\n",
       " '2025-10-10T000000']"
      ]
     },
     "execution_count": 9,
     "metadata": {},
     "output_type": "execute_result"
    }
   ],
   "source": [
    "# already_processed = [file.name.split('/')[-1].split('.')[0] for file in container_client.list_blobs() if file.name[:12] == 'live/output/']\n",
    "# already_processed[-5:]\n",
    "already_processed_ts = sorted([file.name.split('/')[-1].split(\".\")[0] for file in container_client.list_blobs() if (file.name.split('/')[0] + \"/\" + file.name.split('/')[1]) == 'live/processing'])\n",
    "already_processed_ts[-5:]"
   ]
  },
  {
   "cell_type": "code",
   "execution_count": 10,
   "id": "cac0bfc0",
   "metadata": {
    "execution": {
     "iopub.execute_input": "2025-10-10T03:04:42.563510Z",
     "iopub.status.busy": "2025-10-10T03:04:42.563282Z",
     "iopub.status.idle": "2025-10-10T03:04:53.126446Z",
     "shell.execute_reply": "2025-10-10T03:04:53.125858Z"
    },
    "id": "I7Er6YEUyOsL",
    "papermill": {
     "duration": 10.567749,
     "end_time": "2025-10-10T03:04:53.127339",
     "exception": false,
     "start_time": "2025-10-10T03:04:42.559590",
     "status": "completed"
    },
    "tags": []
   },
   "outputs": [
    {
     "data": {
      "text/plain": [
       "['65n1fgov4zr4_2025-10-10T020000_762c775ae454d23f2c6b6a75623d14c7_2853a0.csv.gz',\n",
       " '65n1fgov4zr4_2025-10-10T020000_762c775ae454d23f2c6b6a75623d14c7_2853a1.csv.gz',\n",
       " '65n1fgov4zr4_2025-10-10T020000_762c775ae454d23f2c6b6a75623d14c7_be8220.csv.gz',\n",
       " '65n1fgov4zr4_2025-10-10T020000_762c775ae454d23f2c6b6a75623d14c7_be8221.csv.gz',\n",
       " '65n1fgov4zr4_2025-10-10T020000_762c775ae454d23f2c6b6a75623d14c7_c35750.csv.gz',\n",
       " '65n1fgov4zr4_2025-10-10T020000_762c775ae454d23f2c6b6a75623d14c7_c35751.csv.gz']"
      ]
     },
     "execution_count": 10,
     "metadata": {},
     "output_type": "execute_result"
    }
   ],
   "source": [
    "container_name_uat = \"adjuststblive\"\n",
    "container_client_uat = blob_service_client.get_container_client(container_name_uat)\n",
    "from collections import defaultdict\n",
    "files = [i.name for i in container_client_uat.list_blobs()]\n",
    "groups = defaultdict(list)\n",
    "for f in files:\n",
    "    dt = f.split('_')[1]\n",
    "    groups[dt].append(f)\n",
    "groups[dt]"
   ]
  },
  {
   "cell_type": "code",
   "execution_count": 11,
   "id": "0f86de12",
   "metadata": {
    "execution": {
     "iopub.execute_input": "2025-10-10T03:04:53.134838Z",
     "iopub.status.busy": "2025-10-10T03:04:53.134585Z",
     "iopub.status.idle": "2025-10-10T03:04:53.139519Z",
     "shell.execute_reply": "2025-10-10T03:04:53.138954Z"
    },
    "papermill": {
     "duration": 0.009596,
     "end_time": "2025-10-10T03:04:53.140405",
     "exception": false,
     "start_time": "2025-10-10T03:04:53.130809",
     "status": "completed"
    },
    "tags": []
   },
   "outputs": [
    {
     "data": {
      "text/plain": [
       "['2025-10-10T000000', '2025-10-10T010000', '2025-10-10T020000']"
      ]
     },
     "execution_count": 11,
     "metadata": {},
     "output_type": "execute_result"
    }
   ],
   "source": [
    "# need_process = pd.date_range(start=already_processed[-1], end=today).strftime('%Y-%m-%d').to_list()\n",
    "# need_process\n",
    "\n",
    "B = datetime.strptime(dt, \"%Y-%m-%dT%H0000\")\n",
    "A = datetime.strptime(already_processed_ts[-1], \"%Y-%m-%dT%H0000\")\n",
    "need_process_ts =  pd.date_range(A, B, freq='h').strftime('%Y-%m-%dT%H0000').tolist()\n",
    "need_process_ts"
   ]
  },
  {
   "cell_type": "code",
   "execution_count": 12,
   "id": "dff7183e",
   "metadata": {
    "execution": {
     "iopub.execute_input": "2025-10-10T03:04:53.147522Z",
     "iopub.status.busy": "2025-10-10T03:04:53.147325Z",
     "iopub.status.idle": "2025-10-10T03:07:06.358933Z",
     "shell.execute_reply": "2025-10-10T03:07:06.358296Z"
    },
    "id": "g-W3s2nRyRY7",
    "papermill": {
     "duration": 133.219557,
     "end_time": "2025-10-10T03:07:06.363232",
     "exception": false,
     "start_time": "2025-10-10T03:04:53.143675",
     "status": "completed"
    },
    "tags": []
   },
   "outputs": [
    {
     "name": "stderr",
     "output_type": "stream",
     "text": [
      "\r",
      "  0%|          | 0/1865 [00:00<?, ?it/s]"
     ]
    },
    {
     "name": "stderr",
     "output_type": "stream",
     "text": [
      "\r",
      "100%|█████████▉| 1863/1865 [00:35<00:00, 53.13it/s]"
     ]
    },
    {
     "name": "stdout",
     "output_type": "stream",
     "text": [
      "Done dt=2025-10-10/2025-10-10T000000.parquet\n"
     ]
    },
    {
     "name": "stderr",
     "output_type": "stream",
     "text": [
      "\r",
      "100%|█████████▉| 1863/1865 [00:48<00:00, 53.13it/s]"
     ]
    },
    {
     "name": "stderr",
     "output_type": "stream",
     "text": [
      "\r",
      "100%|█████████▉| 1864/1865 [01:04<00:00, 23.99it/s]"
     ]
    },
    {
     "name": "stdout",
     "output_type": "stream",
     "text": [
      "Done dt=2025-10-10/2025-10-10T010000.parquet\n"
     ]
    },
    {
     "name": "stderr",
     "output_type": "stream",
     "text": [
      "\r",
      "100%|██████████| 1865/1865 [02:13<00:00,  8.60it/s]"
     ]
    },
    {
     "name": "stderr",
     "output_type": "stream",
     "text": [
      "\r",
      "100%|██████████| 1865/1865 [02:13<00:00, 14.00it/s]"
     ]
    },
    {
     "name": "stdout",
     "output_type": "stream",
     "text": [
      "Done dt=2025-10-10/2025-10-10T020000.parquet\n"
     ]
    },
    {
     "name": "stderr",
     "output_type": "stream",
     "text": [
      "\n"
     ]
    }
   ],
   "source": [
    "storage_options = {\n",
    "    \"account_name\": account_name,\n",
    "    \"account_key\":  account_key,\n",
    "}\n",
    "\n",
    "for ts, files in tqdm(groups.items()):\n",
    "    if ts not in need_process_ts: continue\n",
    "    dt = ts[:10]\n",
    "    # if dt not in need_process:\n",
    "    #     continue\n",
    "    df = pl.scan_csv(f\"az://adjuststblive/*_{ts}_*.csv.gz\", storage_options = storage_options,glob=True, has_header = True, null_values = [\"\",\"NULL\"], ignore_errors=True).select(pl.all().cast(pl.Utf8))\n",
    "    df.sink_parquet(f\"az://adjuststbuatprocessed/live/processing/dt={dt}/{ts}.parquet\", storage_options = storage_options, compression=\"snappy\")\n",
    "    print(f'Done dt={dt}/{ts}.parquet')\n",
    "        "
   ]
  },
  {
   "cell_type": "code",
   "execution_count": 13,
   "id": "8b998164",
   "metadata": {
    "execution": {
     "iopub.execute_input": "2025-10-10T03:07:06.371208Z",
     "iopub.status.busy": "2025-10-10T03:07:06.371014Z",
     "iopub.status.idle": "2025-10-10T03:07:06.375082Z",
     "shell.execute_reply": "2025-10-10T03:07:06.374510Z"
    },
    "papermill": {
     "duration": 0.009017,
     "end_time": "2025-10-10T03:07:06.375932",
     "exception": false,
     "start_time": "2025-10-10T03:07:06.366915",
     "status": "completed"
    },
    "tags": []
   },
   "outputs": [
    {
     "data": {
      "text/plain": [
       "{'2025-10-10'}"
      ]
     },
     "execution_count": 13,
     "metadata": {},
     "output_type": "execute_result"
    }
   ],
   "source": [
    "need_process = set([i.split(\"T\")[0] for i in need_process_ts])\n",
    "need_process"
   ]
  },
  {
   "cell_type": "code",
   "execution_count": 14,
   "id": "3a366f92",
   "metadata": {
    "execution": {
     "iopub.execute_input": "2025-10-10T03:07:06.383931Z",
     "iopub.status.busy": "2025-10-10T03:07:06.383758Z",
     "iopub.status.idle": "2025-10-10T03:08:15.771856Z",
     "shell.execute_reply": "2025-10-10T03:08:15.771245Z"
    },
    "id": "sBm7rfFUyePJ",
    "papermill": {
     "duration": 69.396182,
     "end_time": "2025-10-10T03:08:15.775847",
     "exception": false,
     "start_time": "2025-10-10T03:07:06.379665",
     "status": "completed"
    },
    "tags": []
   },
   "outputs": [
    {
     "name": "stdout",
     "output_type": "stream",
     "text": [
      "\n",
      " Done 2025-10-10\n",
      "\n"
     ]
    }
   ],
   "source": [
    "for dt in need_process:\n",
    "  df = pl.scan_parquet(f\"az://adjuststbuatprocessed/live/processing/dt={dt}/*.parquet\", storage_options=storage_options,glob=True).with_columns(pl.lit(dt).alias(\"dt\"))\n",
    "  df.sink_parquet(f\"az://adjuststbuatprocessed/live/output/{dt}.parquet\", storage_options=storage_options, compression=\"snappy\")\n",
    "  print(f'\\n Done {dt}\\n')"
   ]
  }
 ],
 "metadata": {
  "colab": {
   "authorship_tag": "ABX9TyOfzO6uvqUX+Tt89Y73G9E8",
   "include_colab_link": true,
   "provenance": []
  },
  "kernelspec": {
   "display_name": "Python 3",
   "name": "python3"
  },
  "language_info": {
   "codemirror_mode": {
    "name": "ipython",
    "version": 3
   },
   "file_extension": ".py",
   "mimetype": "text/x-python",
   "name": "python",
   "nbconvert_exporter": "python",
   "pygments_lexer": "ipython3",
   "version": "3.11.13"
  },
  "papermill": {
   "default_parameters": {},
   "duration": 269.155622,
   "end_time": "2025-10-10T03:08:16.395952",
   "environment_variables": {},
   "exception": null,
   "input_path": "notebooks/ADJUST_JOB.ipynb",
   "output_path": "outputs/ADJUST_JOB_2025-10-10.ipynb",
   "parameters": {
    "RUN_DATE": "2025-10-10"
   },
   "start_time": "2025-10-10T03:03:47.240330",
   "version": "2.6.0"
  }
 },
 "nbformat": 4,
 "nbformat_minor": 5
}