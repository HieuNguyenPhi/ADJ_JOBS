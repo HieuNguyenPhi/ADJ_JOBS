{
 "cells": [
  {
   "cell_type": "code",
   "execution_count": 1,
   "id": "96788edb",
   "metadata": {
    "execution": {
     "iopub.execute_input": "2025-10-10T06:16:37.531891Z",
     "iopub.status.busy": "2025-10-10T06:16:37.531674Z",
     "iopub.status.idle": "2025-10-10T06:16:37.536787Z",
     "shell.execute_reply": "2025-10-10T06:16:37.536228Z"
    },
    "papermill": {
     "duration": 0.009345,
     "end_time": "2025-10-10T06:16:37.537732",
     "exception": false,
     "start_time": "2025-10-10T06:16:37.528387",
     "status": "completed"
    },
    "tags": [
     "injected-parameters"
    ]
   },
   "outputs": [],
   "source": [
    "# Parameters\n",
    "RUN_DATE = \"2025-10-10\"\n"
   ]
  },
  {
   "cell_type": "markdown",
   "id": "90136451",
   "metadata": {
    "colab_type": "text",
    "id": "view-in-github",
    "papermill": {
     "duration": 0.001911,
     "end_time": "2025-10-10T06:16:37.541933",
     "exception": false,
     "start_time": "2025-10-10T06:16:37.540022",
     "status": "completed"
    },
    "tags": []
   },
   "source": [
    "<a href=\"https://colab.research.google.com/github/HieuNguyenPhi/ADJ_JOBS/blob/main/notebooks/ADJUST_JOB.ipynb\" target=\"_parent\"><img src=\"https://colab.research.google.com/assets/colab-badge.svg\" alt=\"Open In Colab\"/></a>"
   ]
  },
  {
   "cell_type": "markdown",
   "id": "5bbadefe",
   "metadata": {
    "papermill": {
     "duration": 0.001829,
     "end_time": "2025-10-10T06:16:37.545651",
     "exception": false,
     "start_time": "2025-10-10T06:16:37.543822",
     "status": "completed"
    },
    "tags": []
   },
   "source": [
    "# UAT"
   ]
  },
  {
   "cell_type": "code",
   "execution_count": 2,
   "id": "fef3cd8b",
   "metadata": {
    "execution": {
     "iopub.execute_input": "2025-10-10T06:16:37.551128Z",
     "iopub.status.busy": "2025-10-10T06:16:37.550899Z",
     "iopub.status.idle": "2025-10-10T06:16:43.107856Z",
     "shell.execute_reply": "2025-10-10T06:16:43.107370Z"
    },
    "id": "ycUR2r1dq1Nm",
    "papermill": {
     "duration": 5.561233,
     "end_time": "2025-10-10T06:16:43.108733",
     "exception": false,
     "start_time": "2025-10-10T06:16:37.547500",
     "status": "completed"
    },
    "tags": []
   },
   "outputs": [
    {
     "data": {
      "text/plain": [
       "['2025-10-09T210000',\n",
       " '2025-10-09T230000',\n",
       " '2025-10-10T000000',\n",
       " '2025-10-10T010000',\n",
       " '2025-10-10T020000']"
      ]
     },
     "execution_count": 2,
     "metadata": {},
     "output_type": "execute_result"
    }
   ],
   "source": [
    "import os\n",
    "from azure.storage.blob import BlobServiceClient\n",
    "\n",
    "account_name = os.getenv('ACCOUNT_NAME')\n",
    "account_key = os.getenv('ACCOUNT_KEY')\n",
    "# Replace with your Azure Storage account name and SAS token or connection string\n",
    "connect_str = f\"DefaultEndpointsProtocol=https;AccountName={account_name};AccountKey={account_key};EndpointSuffix=core.windows.net\"\n",
    "blob_service_client = BlobServiceClient.from_connection_string(connect_str)\n",
    "container_list = blob_service_client.list_containers()\n",
    "container_name = \"adjuststbuatprocessed\" #os.getenv('CONTAINER_NAME')\n",
    "container_client = blob_service_client.get_container_client(container_name)\n",
    "# already_processed = [file.name.split('/')[1].split('.')[0] for file in container_client.list_blobs() if file.name.split('/')[0] == 'output']\n",
    "# already_processed[-5:]\n",
    "already_processed_ts = sorted([file.name.split('/')[-1].split(\".\")[0] for file in container_client.list_blobs() if file.name.split('/')[0] == 'processing'])\n",
    "already_processed_ts[-5:]"
   ]
  },
  {
   "cell_type": "code",
   "execution_count": 3,
   "id": "80cc21d7",
   "metadata": {
    "execution": {
     "iopub.execute_input": "2025-10-10T06:16:43.113958Z",
     "iopub.status.busy": "2025-10-10T06:16:43.113719Z",
     "iopub.status.idle": "2025-10-10T06:16:50.396795Z",
     "shell.execute_reply": "2025-10-10T06:16:50.396292Z"
    },
    "id": "xyPuVC12s7fn",
    "papermill": {
     "duration": 7.28667,
     "end_time": "2025-10-10T06:16:50.397743",
     "exception": false,
     "start_time": "2025-10-10T06:16:43.111073",
     "status": "completed"
    },
    "tags": []
   },
   "outputs": [
    {
     "data": {
      "text/plain": [
       "['rsh20bkkb4zk_2025-10-10T050000_762c775ae454d23f2c6b6a75623d14c7_2853a1.csv.gz',\n",
       " 'rsh20bkkb4zk_2025-10-10T050000_762c775ae454d23f2c6b6a75623d14c7_be8220.csv.gz',\n",
       " 'rsh20bkkb4zk_2025-10-10T050000_762c775ae454d23f2c6b6a75623d14c7_be8221.csv.gz',\n",
       " 'rsh20bkkb4zk_2025-10-10T050000_762c775ae454d23f2c6b6a75623d14c7_c35750.csv.gz',\n",
       " 'rsh20bkkb4zk_2025-10-10T050000_762c775ae454d23f2c6b6a75623d14c7_c35751.csv.gz']"
      ]
     },
     "execution_count": 3,
     "metadata": {},
     "output_type": "execute_result"
    }
   ],
   "source": [
    "container_name_uat = \"adjuststbuat\"\n",
    "container_client_uat = blob_service_client.get_container_client(container_name_uat)\n",
    "from collections import defaultdict\n",
    "files = [i.name for i in container_client_uat.list_blobs()]\n",
    "groups = defaultdict(list)\n",
    "for f in files:\n",
    "    dt = f.split('_')[1]\n",
    "    groups[dt].append(f)\n",
    "groups[dt]"
   ]
  },
  {
   "cell_type": "code",
   "execution_count": 4,
   "id": "6ae0103f",
   "metadata": {
    "execution": {
     "iopub.execute_input": "2025-10-10T06:16:50.403238Z",
     "iopub.status.busy": "2025-10-10T06:16:50.403043Z",
     "iopub.status.idle": "2025-10-10T06:16:50.405749Z",
     "shell.execute_reply": "2025-10-10T06:16:50.405249Z"
    },
    "papermill": {
     "duration": 0.006369,
     "end_time": "2025-10-10T06:16:50.406597",
     "exception": false,
     "start_time": "2025-10-10T06:16:50.400228",
     "status": "completed"
    },
    "tags": []
   },
   "outputs": [],
   "source": [
    "# from datetime import date, timedelta, datetime\n",
    "# import pandas as pd\n",
    "# today = date.today().strftime('%Y-%m-%d')\n",
    "# yesterday = (date.today() - timedelta(days = 1) ).strftime('%Y-%m-%d')\n",
    "# check_date = dt.split(\"T\")[0]\n",
    "# if check_date == today:\n",
    "#     need_process = pd.date_range(start=already_processed[-1], end=today).strftime('%Y-%m-%d').to_list()\n",
    "# else:\n",
    "#     need_process = pd.date_range(start=already_processed[-1], end=yesterday).strftime('%Y-%m-%d').to_list()\n",
    "# need_process"
   ]
  },
  {
   "cell_type": "code",
   "execution_count": 5,
   "id": "2268e492",
   "metadata": {
    "execution": {
     "iopub.execute_input": "2025-10-10T06:16:50.411582Z",
     "iopub.status.busy": "2025-10-10T06:16:50.411424Z",
     "iopub.status.idle": "2025-10-10T06:16:50.744134Z",
     "shell.execute_reply": "2025-10-10T06:16:50.743637Z"
    },
    "papermill": {
     "duration": 0.336214,
     "end_time": "2025-10-10T06:16:50.745056",
     "exception": false,
     "start_time": "2025-10-10T06:16:50.408842",
     "status": "completed"
    },
    "tags": []
   },
   "outputs": [
    {
     "data": {
      "text/plain": [
       "['2025-10-10T010000',\n",
       " '2025-10-10T020000',\n",
       " '2025-10-10T030000',\n",
       " '2025-10-10T040000',\n",
       " '2025-10-10T050000']"
      ]
     },
     "execution_count": 5,
     "metadata": {},
     "output_type": "execute_result"
    }
   ],
   "source": [
    "from datetime import datetime\n",
    "import pandas as pd\n",
    "B = datetime.strptime(dt, \"%Y-%m-%dT%H0000\")\n",
    "A = datetime.strptime(already_processed_ts[-2], \"%Y-%m-%dT%H0000\")\n",
    "need_process_ts =  pd.date_range(A, B, freq='h').strftime('%Y-%m-%dT%H0000').tolist()\n",
    "need_process_ts"
   ]
  },
  {
   "cell_type": "code",
   "execution_count": 6,
   "id": "5120b912",
   "metadata": {
    "execution": {
     "iopub.execute_input": "2025-10-10T06:16:50.750940Z",
     "iopub.status.busy": "2025-10-10T06:16:50.750667Z",
     "iopub.status.idle": "2025-10-10T06:17:30.808631Z",
     "shell.execute_reply": "2025-10-10T06:17:30.808054Z"
    },
    "papermill": {
     "duration": 40.061839,
     "end_time": "2025-10-10T06:17:30.809497",
     "exception": false,
     "start_time": "2025-10-10T06:16:50.747658",
     "status": "completed"
    },
    "tags": []
   },
   "outputs": [
    {
     "name": "stderr",
     "output_type": "stream",
     "text": [
      "\r",
      "  0%|          | 0/1883 [00:00<?, ?it/s]"
     ]
    },
    {
     "name": "stderr",
     "output_type": "stream",
     "text": [
      "\r",
      "100%|█████████▉| 1879/1883 [00:09<00:00, 197.25it/s]"
     ]
    },
    {
     "name": "stdout",
     "output_type": "stream",
     "text": [
      "Done dt=2025-10-10/2025-10-10T010000.parquet\n"
     ]
    },
    {
     "name": "stdout",
     "output_type": "stream",
     "text": [
      "Done dt=2025-10-10/2025-10-10T020000.parquet\n"
     ]
    },
    {
     "name": "stderr",
     "output_type": "stream",
     "text": [
      "\r",
      "100%|█████████▉| 1879/1883 [00:19<00:00, 197.25it/s]"
     ]
    },
    {
     "name": "stderr",
     "output_type": "stream",
     "text": [
      "\r",
      "100%|█████████▉| 1881/1883 [00:25<00:00, 58.57it/s] "
     ]
    },
    {
     "name": "stdout",
     "output_type": "stream",
     "text": [
      "Done dt=2025-10-10/2025-10-10T030000.parquet\n"
     ]
    },
    {
     "name": "stderr",
     "output_type": "stream",
     "text": [
      "\r",
      "100%|█████████▉| 1882/1883 [00:33<00:00, 39.45it/s]"
     ]
    },
    {
     "name": "stdout",
     "output_type": "stream",
     "text": [
      "Done dt=2025-10-10/2025-10-10T040000.parquet\n"
     ]
    },
    {
     "name": "stderr",
     "output_type": "stream",
     "text": [
      "\r",
      "100%|██████████| 1883/1883 [00:39<00:00, 47.17it/s]"
     ]
    },
    {
     "name": "stdout",
     "output_type": "stream",
     "text": [
      "Done dt=2025-10-10/2025-10-10T050000.parquet\n"
     ]
    },
    {
     "name": "stderr",
     "output_type": "stream",
     "text": [
      "\n"
     ]
    }
   ],
   "source": [
    "import polars as pl \n",
    "from tqdm import tqdm\n",
    "storage_options = {\n",
    "    \"account_name\": account_name,\n",
    "    \"account_key\":  account_key,\n",
    "}\n",
    "\n",
    "for ts, files in tqdm(groups.items()):\n",
    "    if ts not in need_process_ts:\n",
    "        continue\n",
    "    dt = ts[:10]\n",
    "    # if dt not in need_process:\n",
    "    #     continue\n",
    "    df = pl.scan_csv(f\"az://adjuststbuat/*_{ts}_*.csv.gz\", storage_options = storage_options,glob=True, has_header = True, null_values = [\"\",\"NULL\"], ignore_errors=True).select(pl.all().cast(pl.Utf8))\n",
    "    df.sink_parquet(f\"az://adjuststbuatprocessed/processing/dt={dt}/{ts}.parquet\", storage_options = storage_options, compression=\"snappy\")\n",
    "    print(f'Done dt={dt}/{ts}.parquet')\n",
    "        "
   ]
  },
  {
   "cell_type": "code",
   "execution_count": 7,
   "id": "f4efb24a",
   "metadata": {
    "execution": {
     "iopub.execute_input": "2025-10-10T06:17:30.816050Z",
     "iopub.status.busy": "2025-10-10T06:17:30.815839Z",
     "iopub.status.idle": "2025-10-10T06:17:30.819890Z",
     "shell.execute_reply": "2025-10-10T06:17:30.819337Z"
    },
    "papermill": {
     "duration": 0.008124,
     "end_time": "2025-10-10T06:17:30.820697",
     "exception": false,
     "start_time": "2025-10-10T06:17:30.812573",
     "status": "completed"
    },
    "tags": []
   },
   "outputs": [
    {
     "data": {
      "text/plain": [
       "{'2025-10-10'}"
      ]
     },
     "execution_count": 7,
     "metadata": {},
     "output_type": "execute_result"
    }
   ],
   "source": [
    "need_process = set([i.split(\"T\")[0] for i in need_process_ts])\n",
    "need_process"
   ]
  },
  {
   "cell_type": "code",
   "execution_count": 8,
   "id": "1e1f981c",
   "metadata": {
    "execution": {
     "iopub.execute_input": "2025-10-10T06:17:30.826994Z",
     "iopub.status.busy": "2025-10-10T06:17:30.826815Z",
     "iopub.status.idle": "2025-10-10T06:17:33.970337Z",
     "shell.execute_reply": "2025-10-10T06:17:33.969745Z"
    },
    "papermill": {
     "duration": 3.147567,
     "end_time": "2025-10-10T06:17:33.971176",
     "exception": false,
     "start_time": "2025-10-10T06:17:30.823609",
     "status": "completed"
    },
    "tags": []
   },
   "outputs": [
    {
     "name": "stdout",
     "output_type": "stream",
     "text": [
      "\n",
      " Done 2025-10-10\n",
      "\n"
     ]
    }
   ],
   "source": [
    "for dt in need_process:\n",
    "  df = pl.scan_parquet(f\"az://adjuststbuatprocessed/processing/dt={dt}/*.parquet\", storage_options=storage_options,glob=True).with_columns(pl.lit(dt).alias(\"dt\"))\n",
    "  df.sink_parquet(f\"az://adjuststbuatprocessed/output/{dt}.parquet\", storage_options=storage_options, compression=\"snappy\")\n",
    "  print(f'\\n Done {dt}\\n')"
   ]
  },
  {
   "cell_type": "markdown",
   "id": "08662192",
   "metadata": {
    "id": "2TvKr29qyJd_",
    "papermill": {
     "duration": 0.002819,
     "end_time": "2025-10-10T06:17:33.977161",
     "exception": false,
     "start_time": "2025-10-10T06:17:33.974342",
     "status": "completed"
    },
    "tags": []
   },
   "source": [
    "# Live"
   ]
  },
  {
   "cell_type": "code",
   "execution_count": 9,
   "id": "a2964b59",
   "metadata": {
    "execution": {
     "iopub.execute_input": "2025-10-10T06:17:33.983564Z",
     "iopub.status.busy": "2025-10-10T06:17:33.983367Z",
     "iopub.status.idle": "2025-10-10T06:17:37.451502Z",
     "shell.execute_reply": "2025-10-10T06:17:37.450908Z"
    },
    "id": "EnaFsdZFxpwc",
    "papermill": {
     "duration": 3.472386,
     "end_time": "2025-10-10T06:17:37.452417",
     "exception": false,
     "start_time": "2025-10-10T06:17:33.980031",
     "status": "completed"
    },
    "tags": []
   },
   "outputs": [
    {
     "data": {
      "text/plain": [
       "['2025-10-09T220000',\n",
       " '2025-10-09T230000',\n",
       " '2025-10-10T000000',\n",
       " '2025-10-10T010000',\n",
       " '2025-10-10T020000']"
      ]
     },
     "execution_count": 9,
     "metadata": {},
     "output_type": "execute_result"
    }
   ],
   "source": [
    "# already_processed = [file.name.split('/')[-1].split('.')[0] for file in container_client.list_blobs() if file.name[:12] == 'live/output/']\n",
    "# already_processed[-5:]\n",
    "already_processed_ts = sorted([file.name.split('/')[-1].split(\".\")[0] for file in container_client.list_blobs() if (file.name.split('/')[0] + \"/\" + file.name.split('/')[1]) == 'live/processing'])\n",
    "already_processed_ts[-5:]"
   ]
  },
  {
   "cell_type": "code",
   "execution_count": 10,
   "id": "f7839ee5",
   "metadata": {
    "execution": {
     "iopub.execute_input": "2025-10-10T06:17:37.459695Z",
     "iopub.status.busy": "2025-10-10T06:17:37.459443Z",
     "iopub.status.idle": "2025-10-10T06:17:47.701357Z",
     "shell.execute_reply": "2025-10-10T06:17:47.700725Z"
    },
    "id": "I7Er6YEUyOsL",
    "papermill": {
     "duration": 10.246477,
     "end_time": "2025-10-10T06:17:47.702211",
     "exception": false,
     "start_time": "2025-10-10T06:17:37.455734",
     "status": "completed"
    },
    "tags": []
   },
   "outputs": [
    {
     "data": {
      "text/plain": [
       "['65n1fgov4zr4_2025-10-10T050000_762c775ae454d23f2c6b6a75623d14c7_2853a0.csv.gz',\n",
       " '65n1fgov4zr4_2025-10-10T050000_762c775ae454d23f2c6b6a75623d14c7_2853a1.csv.gz',\n",
       " '65n1fgov4zr4_2025-10-10T050000_762c775ae454d23f2c6b6a75623d14c7_be8220.csv.gz',\n",
       " '65n1fgov4zr4_2025-10-10T050000_762c775ae454d23f2c6b6a75623d14c7_be8221.csv.gz',\n",
       " '65n1fgov4zr4_2025-10-10T050000_762c775ae454d23f2c6b6a75623d14c7_c35750.csv.gz',\n",
       " '65n1fgov4zr4_2025-10-10T050000_762c775ae454d23f2c6b6a75623d14c7_c35751.csv.gz']"
      ]
     },
     "execution_count": 10,
     "metadata": {},
     "output_type": "execute_result"
    }
   ],
   "source": [
    "container_name_uat = \"adjuststblive\"\n",
    "container_client_uat = blob_service_client.get_container_client(container_name_uat)\n",
    "from collections import defaultdict\n",
    "files = [i.name for i in container_client_uat.list_blobs()]\n",
    "groups = defaultdict(list)\n",
    "for f in files:\n",
    "    dt = f.split('_')[1]\n",
    "    groups[dt].append(f)\n",
    "groups[dt]"
   ]
  },
  {
   "cell_type": "code",
   "execution_count": 11,
   "id": "84e1a4d3",
   "metadata": {
    "execution": {
     "iopub.execute_input": "2025-10-10T06:17:47.709866Z",
     "iopub.status.busy": "2025-10-10T06:17:47.709615Z",
     "iopub.status.idle": "2025-10-10T06:17:47.714569Z",
     "shell.execute_reply": "2025-10-10T06:17:47.714079Z"
    },
    "papermill": {
     "duration": 0.009762,
     "end_time": "2025-10-10T06:17:47.715388",
     "exception": false,
     "start_time": "2025-10-10T06:17:47.705626",
     "status": "completed"
    },
    "tags": []
   },
   "outputs": [
    {
     "data": {
      "text/plain": [
       "['2025-10-10T020000',\n",
       " '2025-10-10T030000',\n",
       " '2025-10-10T040000',\n",
       " '2025-10-10T050000']"
      ]
     },
     "execution_count": 11,
     "metadata": {},
     "output_type": "execute_result"
    }
   ],
   "source": [
    "# need_process = pd.date_range(start=already_processed[-1], end=today).strftime('%Y-%m-%d').to_list()\n",
    "# need_process\n",
    "\n",
    "B = datetime.strptime(dt, \"%Y-%m-%dT%H0000\")\n",
    "A = datetime.strptime(already_processed_ts[-1], \"%Y-%m-%dT%H0000\")\n",
    "need_process_ts =  pd.date_range(A, B, freq='h').strftime('%Y-%m-%dT%H0000').tolist()\n",
    "need_process_ts"
   ]
  },
  {
   "cell_type": "code",
   "execution_count": 12,
   "id": "d3fd6c86",
   "metadata": {
    "execution": {
     "iopub.execute_input": "2025-10-10T06:17:47.722496Z",
     "iopub.status.busy": "2025-10-10T06:17:47.722259Z",
     "iopub.status.idle": "2025-10-10T06:19:48.990488Z",
     "shell.execute_reply": "2025-10-10T06:19:48.989871Z"
    },
    "id": "g-W3s2nRyRY7",
    "papermill": {
     "duration": 121.276303,
     "end_time": "2025-10-10T06:19:48.994908",
     "exception": false,
     "start_time": "2025-10-10T06:17:47.718605",
     "status": "completed"
    },
    "tags": []
   },
   "outputs": [
    {
     "name": "stderr",
     "output_type": "stream",
     "text": [
      "\r",
      "  0%|          | 0/1868 [00:00<?, ?it/s]"
     ]
    },
    {
     "name": "stderr",
     "output_type": "stream",
     "text": [
      "\r",
      "100%|█████████▉| 1865/1868 [00:26<00:00, 70.83it/s]"
     ]
    },
    {
     "name": "stdout",
     "output_type": "stream",
     "text": [
      "Done dt=2025-10-10/2025-10-10T020000.parquet\n"
     ]
    },
    {
     "name": "stderr",
     "output_type": "stream",
     "text": [
      "\r",
      "100%|█████████▉| 1865/1868 [00:43<00:00, 70.83it/s]"
     ]
    },
    {
     "name": "stderr",
     "output_type": "stream",
     "text": [
      "\r",
      "100%|█████████▉| 1866/1868 [00:52<00:00, 29.23it/s]"
     ]
    },
    {
     "name": "stdout",
     "output_type": "stream",
     "text": [
      "Done dt=2025-10-10/2025-10-10T030000.parquet\n"
     ]
    },
    {
     "name": "stderr",
     "output_type": "stream",
     "text": [
      "\r",
      "100%|█████████▉| 1867/1868 [01:23<00:00, 14.63it/s]"
     ]
    },
    {
     "name": "stdout",
     "output_type": "stream",
     "text": [
      "Done dt=2025-10-10/2025-10-10T040000.parquet\n"
     ]
    },
    {
     "name": "stderr",
     "output_type": "stream",
     "text": [
      "\r",
      "100%|██████████| 1868/1868 [02:01<00:00,  7.91it/s]"
     ]
    },
    {
     "name": "stderr",
     "output_type": "stream",
     "text": [
      "\r",
      "100%|██████████| 1868/1868 [02:01<00:00, 15.40it/s]"
     ]
    },
    {
     "name": "stdout",
     "output_type": "stream",
     "text": [
      "Done dt=2025-10-10/2025-10-10T050000.parquet\n"
     ]
    },
    {
     "name": "stderr",
     "output_type": "stream",
     "text": [
      "\n"
     ]
    }
   ],
   "source": [
    "storage_options = {\n",
    "    \"account_name\": account_name,\n",
    "    \"account_key\":  account_key,\n",
    "}\n",
    "\n",
    "for ts, files in tqdm(groups.items()):\n",
    "    if ts not in need_process_ts: continue\n",
    "    dt = ts[:10]\n",
    "    # if dt not in need_process:\n",
    "    #     continue\n",
    "    df = pl.scan_csv(f\"az://adjuststblive/*_{ts}_*.csv.gz\", storage_options = storage_options,glob=True, has_header = True, null_values = [\"\",\"NULL\"], ignore_errors=True).select(pl.all().cast(pl.Utf8))\n",
    "    df.sink_parquet(f\"az://adjuststbuatprocessed/live/processing/dt={dt}/{ts}.parquet\", storage_options = storage_options, compression=\"snappy\")\n",
    "    print(f'Done dt={dt}/{ts}.parquet')\n",
    "        "
   ]
  },
  {
   "cell_type": "code",
   "execution_count": 13,
   "id": "1103d0d9",
   "metadata": {
    "execution": {
     "iopub.execute_input": "2025-10-10T06:19:49.002934Z",
     "iopub.status.busy": "2025-10-10T06:19:49.002746Z",
     "iopub.status.idle": "2025-10-10T06:19:49.006688Z",
     "shell.execute_reply": "2025-10-10T06:19:49.006125Z"
    },
    "papermill": {
     "duration": 0.008967,
     "end_time": "2025-10-10T06:19:49.007582",
     "exception": false,
     "start_time": "2025-10-10T06:19:48.998615",
     "status": "completed"
    },
    "tags": []
   },
   "outputs": [
    {
     "data": {
      "text/plain": [
       "{'2025-10-10'}"
      ]
     },
     "execution_count": 13,
     "metadata": {},
     "output_type": "execute_result"
    }
   ],
   "source": [
    "need_process = set([i.split(\"T\")[0] for i in need_process_ts])\n",
    "need_process"
   ]
  },
  {
   "cell_type": "code",
   "execution_count": 14,
   "id": "c0d2d67d",
   "metadata": {
    "execution": {
     "iopub.execute_input": "2025-10-10T06:19:49.015939Z",
     "iopub.status.busy": "2025-10-10T06:19:49.015757Z",
     "iopub.status.idle": "2025-10-10T06:20:32.282188Z",
     "shell.execute_reply": "2025-10-10T06:20:32.281537Z"
    },
    "id": "sBm7rfFUyePJ",
    "papermill": {
     "duration": 43.274662,
     "end_time": "2025-10-10T06:20:32.286021",
     "exception": false,
     "start_time": "2025-10-10T06:19:49.011359",
     "status": "completed"
    },
    "tags": []
   },
   "outputs": [
    {
     "name": "stdout",
     "output_type": "stream",
     "text": [
      "\n",
      " Done 2025-10-10\n",
      "\n"
     ]
    }
   ],
   "source": [
    "for dt in need_process:\n",
    "  df = pl.scan_parquet(f\"az://adjuststbuatprocessed/live/processing/dt={dt}/*.parquet\", storage_options=storage_options,glob=True).with_columns(pl.lit(dt).alias(\"dt\"))\n",
    "  df.sink_parquet(f\"az://adjuststbuatprocessed/live/output/{dt}.parquet\", storage_options=storage_options, compression=\"snappy\")\n",
    "  print(f'\\n Done {dt}\\n')"
   ]
  }
 ],
 "metadata": {
  "colab": {
   "authorship_tag": "ABX9TyOfzO6uvqUX+Tt89Y73G9E8",
   "include_colab_link": true,
   "provenance": []
  },
  "kernelspec": {
   "display_name": "Python 3",
   "name": "python3"
  },
  "language_info": {
   "codemirror_mode": {
    "name": "ipython",
    "version": 3
   },
   "file_extension": ".py",
   "mimetype": "text/x-python",
   "name": "python",
   "nbconvert_exporter": "python",
   "pygments_lexer": "ipython3",
   "version": "3.11.13"
  },
  "papermill": {
   "default_parameters": {},
   "duration": 237.042057,
   "end_time": "2025-10-10T06:20:33.007026",
   "environment_variables": {},
   "exception": null,
   "input_path": "notebooks/ADJUST_JOB.ipynb",
   "output_path": "outputs/ADJUST_JOB_2025-10-10.ipynb",
   "parameters": {
    "RUN_DATE": "2025-10-10"
   },
   "start_time": "2025-10-10T06:16:35.964969",
   "version": "2.6.0"
  }
 },
 "nbformat": 4,
 "nbformat_minor": 5
}