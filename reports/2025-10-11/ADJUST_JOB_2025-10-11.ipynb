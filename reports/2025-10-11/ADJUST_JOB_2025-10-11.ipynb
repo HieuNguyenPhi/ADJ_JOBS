{
 "cells": [
  {
   "cell_type": "code",
   "execution_count": 1,
   "id": "79e25ea9",
   "metadata": {
    "execution": {
     "iopub.execute_input": "2025-10-11T01:44:01.653540Z",
     "iopub.status.busy": "2025-10-11T01:44:01.653279Z",
     "iopub.status.idle": "2025-10-11T01:44:01.658755Z",
     "shell.execute_reply": "2025-10-11T01:44:01.658148Z"
    },
    "papermill": {
     "duration": 0.010254,
     "end_time": "2025-10-11T01:44:01.659982",
     "exception": false,
     "start_time": "2025-10-11T01:44:01.649728",
     "status": "completed"
    },
    "tags": [
     "injected-parameters"
    ]
   },
   "outputs": [],
   "source": [
    "# Parameters\n",
    "RUN_DATE = \"2025-10-11\"\n"
   ]
  },
  {
   "cell_type": "markdown",
   "id": "2d885b55",
   "metadata": {
    "colab_type": "text",
    "id": "view-in-github",
    "papermill": {
     "duration": 0.002282,
     "end_time": "2025-10-11T01:44:01.666199",
     "exception": false,
     "start_time": "2025-10-11T01:44:01.663917",
     "status": "completed"
    },
    "tags": []
   },
   "source": [
    "<a href=\"https://colab.research.google.com/github/HieuNguyenPhi/ADJ_JOBS/blob/main/notebooks/ADJUST_JOB.ipynb\" target=\"_parent\"><img src=\"https://colab.research.google.com/assets/colab-badge.svg\" alt=\"Open In Colab\"/></a>"
   ]
  },
  {
   "cell_type": "markdown",
   "id": "accefcd6",
   "metadata": {
    "papermill": {
     "duration": 0.001867,
     "end_time": "2025-10-11T01:44:01.669996",
     "exception": false,
     "start_time": "2025-10-11T01:44:01.668129",
     "status": "completed"
    },
    "tags": []
   },
   "source": [
    "# UAT"
   ]
  },
  {
   "cell_type": "code",
   "execution_count": 2,
   "id": "ab20fe9a",
   "metadata": {
    "execution": {
     "iopub.execute_input": "2025-10-11T01:44:01.675523Z",
     "iopub.status.busy": "2025-10-11T01:44:01.675316Z",
     "iopub.status.idle": "2025-10-11T01:44:07.817662Z",
     "shell.execute_reply": "2025-10-11T01:44:07.817156Z"
    },
    "id": "ycUR2r1dq1Nm",
    "papermill": {
     "duration": 6.146731,
     "end_time": "2025-10-11T01:44:07.818628",
     "exception": false,
     "start_time": "2025-10-11T01:44:01.671897",
     "status": "completed"
    },
    "tags": []
   },
   "outputs": [
    {
     "data": {
      "text/plain": [
       "['2025-10-10T010000',\n",
       " '2025-10-10T020000',\n",
       " '2025-10-10T030000',\n",
       " '2025-10-10T040000',\n",
       " '2025-10-10T050000']"
      ]
     },
     "execution_count": 2,
     "metadata": {},
     "output_type": "execute_result"
    }
   ],
   "source": [
    "import os\n",
    "from azure.storage.blob import BlobServiceClient\n",
    "\n",
    "account_name = os.getenv('ACCOUNT_NAME')\n",
    "account_key = os.getenv('ACCOUNT_KEY')\n",
    "# Replace with your Azure Storage account name and SAS token or connection string\n",
    "connect_str = f\"DefaultEndpointsProtocol=https;AccountName={account_name};AccountKey={account_key};EndpointSuffix=core.windows.net\"\n",
    "blob_service_client = BlobServiceClient.from_connection_string(connect_str)\n",
    "container_list = blob_service_client.list_containers()\n",
    "container_name = \"adjuststbuatprocessed\" #os.getenv('CONTAINER_NAME')\n",
    "container_client = blob_service_client.get_container_client(container_name)\n",
    "# already_processed = [file.name.split('/')[1].split('.')[0] for file in container_client.list_blobs() if file.name.split('/')[0] == 'output']\n",
    "# already_processed[-5:]\n",
    "already_processed_ts = sorted([file.name.split('/')[-1].split(\".\")[0] for file in container_client.list_blobs() if file.name.split('/')[0] == 'processing'])\n",
    "already_processed_ts[-5:]"
   ]
  },
  {
   "cell_type": "code",
   "execution_count": 3,
   "id": "39383be6",
   "metadata": {
    "execution": {
     "iopub.execute_input": "2025-10-11T01:44:07.823986Z",
     "iopub.status.busy": "2025-10-11T01:44:07.823731Z",
     "iopub.status.idle": "2025-10-11T01:44:15.995850Z",
     "shell.execute_reply": "2025-10-11T01:44:15.995285Z"
    },
    "id": "xyPuVC12s7fn",
    "papermill": {
     "duration": 8.175784,
     "end_time": "2025-10-11T01:44:15.996766",
     "exception": false,
     "start_time": "2025-10-11T01:44:07.820982",
     "status": "completed"
    },
    "tags": []
   },
   "outputs": [
    {
     "data": {
      "text/plain": [
       "['rsh20bkkb4zk_2025-10-11T000000_762c775ae454d23f2c6b6a75623d14c7_be8221.csv.gz']"
      ]
     },
     "execution_count": 3,
     "metadata": {},
     "output_type": "execute_result"
    }
   ],
   "source": [
    "container_name_uat = \"adjuststbuat\"\n",
    "container_client_uat = blob_service_client.get_container_client(container_name_uat)\n",
    "from collections import defaultdict\n",
    "files = [i.name for i in container_client_uat.list_blobs()]\n",
    "groups = defaultdict(list)\n",
    "for f in files:\n",
    "    dt = f.split('_')[1]\n",
    "    groups[dt].append(f)\n",
    "groups[dt]"
   ]
  },
  {
   "cell_type": "code",
   "execution_count": 4,
   "id": "1df9d430",
   "metadata": {
    "execution": {
     "iopub.execute_input": "2025-10-11T01:44:16.002270Z",
     "iopub.status.busy": "2025-10-11T01:44:16.002103Z",
     "iopub.status.idle": "2025-10-11T01:44:16.004628Z",
     "shell.execute_reply": "2025-10-11T01:44:16.004124Z"
    },
    "papermill": {
     "duration": 0.006239,
     "end_time": "2025-10-11T01:44:16.005487",
     "exception": false,
     "start_time": "2025-10-11T01:44:15.999248",
     "status": "completed"
    },
    "tags": []
   },
   "outputs": [],
   "source": [
    "# from datetime import date, timedelta, datetime\n",
    "# import pandas as pd\n",
    "# today = date.today().strftime('%Y-%m-%d')\n",
    "# yesterday = (date.today() - timedelta(days = 1) ).strftime('%Y-%m-%d')\n",
    "# check_date = dt.split(\"T\")[0]\n",
    "# if check_date == today:\n",
    "#     need_process = pd.date_range(start=already_processed[-1], end=today).strftime('%Y-%m-%d').to_list()\n",
    "# else:\n",
    "#     need_process = pd.date_range(start=already_processed[-1], end=yesterday).strftime('%Y-%m-%d').to_list()\n",
    "# need_process"
   ]
  },
  {
   "cell_type": "code",
   "execution_count": 5,
   "id": "6533168b",
   "metadata": {
    "execution": {
     "iopub.execute_input": "2025-10-11T01:44:16.010352Z",
     "iopub.status.busy": "2025-10-11T01:44:16.010200Z",
     "iopub.status.idle": "2025-10-11T01:44:16.293505Z",
     "shell.execute_reply": "2025-10-11T01:44:16.292981Z"
    },
    "papermill": {
     "duration": 0.286828,
     "end_time": "2025-10-11T01:44:16.294491",
     "exception": false,
     "start_time": "2025-10-11T01:44:16.007663",
     "status": "completed"
    },
    "tags": []
   },
   "outputs": [
    {
     "data": {
      "text/plain": [
       "['2025-10-10T040000',\n",
       " '2025-10-10T050000',\n",
       " '2025-10-10T060000',\n",
       " '2025-10-10T070000',\n",
       " '2025-10-10T080000',\n",
       " '2025-10-10T090000',\n",
       " '2025-10-10T100000',\n",
       " '2025-10-10T110000',\n",
       " '2025-10-10T120000',\n",
       " '2025-10-10T130000',\n",
       " '2025-10-10T140000',\n",
       " '2025-10-10T150000',\n",
       " '2025-10-10T160000',\n",
       " '2025-10-10T170000',\n",
       " '2025-10-10T180000',\n",
       " '2025-10-10T190000',\n",
       " '2025-10-10T200000',\n",
       " '2025-10-10T210000',\n",
       " '2025-10-10T220000',\n",
       " '2025-10-10T230000',\n",
       " '2025-10-11T000000']"
      ]
     },
     "execution_count": 5,
     "metadata": {},
     "output_type": "execute_result"
    }
   ],
   "source": [
    "from datetime import datetime\n",
    "import pandas as pd\n",
    "B = datetime.strptime(dt, \"%Y-%m-%dT%H0000\")\n",
    "A = datetime.strptime(already_processed_ts[-2], \"%Y-%m-%dT%H0000\")\n",
    "need_process_ts =  pd.date_range(A, B, freq='h').strftime('%Y-%m-%dT%H0000').tolist()\n",
    "need_process_ts"
   ]
  },
  {
   "cell_type": "code",
   "execution_count": 6,
   "id": "72a0eb5e",
   "metadata": {
    "execution": {
     "iopub.execute_input": "2025-10-11T01:44:16.300167Z",
     "iopub.status.busy": "2025-10-11T01:44:16.299917Z",
     "iopub.status.idle": "2025-10-11T01:46:28.554293Z",
     "shell.execute_reply": "2025-10-11T01:46:28.553641Z"
    },
    "papermill": {
     "duration": 132.258123,
     "end_time": "2025-10-11T01:46:28.555149",
     "exception": false,
     "start_time": "2025-10-11T01:44:16.297026",
     "status": "completed"
    },
    "tags": []
   },
   "outputs": [
    {
     "name": "stderr",
     "output_type": "stream",
     "text": [
      "\r",
      "  0%|          | 0/1897 [00:00<?, ?it/s]"
     ]
    },
    {
     "name": "stderr",
     "output_type": "stream",
     "text": [
      "\r",
      " 99%|█████████▉| 1882/1897 [00:10<00:00, 175.91it/s]"
     ]
    },
    {
     "name": "stdout",
     "output_type": "stream",
     "text": [
      "Done dt=2025-10-10/2025-10-10T040000.parquet\n"
     ]
    },
    {
     "name": "stdout",
     "output_type": "stream",
     "text": [
      "Done dt=2025-10-10/2025-10-10T050000.parquet\n"
     ]
    },
    {
     "name": "stdout",
     "output_type": "stream",
     "text": [
      "Done dt=2025-10-10/2025-10-10T060000.parquet\n"
     ]
    },
    {
     "name": "stderr",
     "output_type": "stream",
     "text": [
      "\r",
      " 99%|█████████▉| 1882/1897 [00:29<00:00, 175.91it/s]"
     ]
    },
    {
     "name": "stderr",
     "output_type": "stream",
     "text": [
      "\r",
      " 99%|█████████▉| 1885/1897 [00:37<00:00, 38.84it/s] "
     ]
    },
    {
     "name": "stdout",
     "output_type": "stream",
     "text": [
      "Done dt=2025-10-10/2025-10-10T070000.parquet\n"
     ]
    },
    {
     "name": "stderr",
     "output_type": "stream",
     "text": [
      "\r",
      " 99%|█████████▉| 1886/1897 [00:46<00:00, 28.05it/s]"
     ]
    },
    {
     "name": "stdout",
     "output_type": "stream",
     "text": [
      "Done dt=2025-10-10/2025-10-10T080000.parquet\n"
     ]
    },
    {
     "name": "stderr",
     "output_type": "stream",
     "text": [
      "\r",
      " 99%|█████████▉| 1887/1897 [00:54<00:00, 20.65it/s]"
     ]
    },
    {
     "name": "stdout",
     "output_type": "stream",
     "text": [
      "Done dt=2025-10-10/2025-10-10T090000.parquet\n"
     ]
    },
    {
     "name": "stderr",
     "output_type": "stream",
     "text": [
      "\r",
      "100%|█████████▉| 1888/1897 [01:02<00:00, 15.12it/s]"
     ]
    },
    {
     "name": "stdout",
     "output_type": "stream",
     "text": [
      "Done dt=2025-10-10/2025-10-10T100000.parquet\n"
     ]
    },
    {
     "name": "stderr",
     "output_type": "stream",
     "text": [
      "\r",
      "100%|█████████▉| 1889/1897 [01:10<00:00, 10.94it/s]"
     ]
    },
    {
     "name": "stdout",
     "output_type": "stream",
     "text": [
      "Done dt=2025-10-10/2025-10-10T110000.parquet\n"
     ]
    },
    {
     "name": "stderr",
     "output_type": "stream",
     "text": [
      "\r",
      "100%|█████████▉| 1890/1897 [01:18<00:00,  8.04it/s]"
     ]
    },
    {
     "name": "stdout",
     "output_type": "stream",
     "text": [
      "Done dt=2025-10-10/2025-10-10T120000.parquet\n"
     ]
    },
    {
     "name": "stderr",
     "output_type": "stream",
     "text": [
      "\r",
      "100%|█████████▉| 1891/1897 [01:26<00:01,  5.79it/s]"
     ]
    },
    {
     "name": "stdout",
     "output_type": "stream",
     "text": [
      "Done dt=2025-10-10/2025-10-10T130000.parquet\n"
     ]
    },
    {
     "name": "stderr",
     "output_type": "stream",
     "text": [
      "\r",
      "100%|█████████▉| 1892/1897 [01:34<00:01,  4.07it/s]"
     ]
    },
    {
     "name": "stdout",
     "output_type": "stream",
     "text": [
      "Done dt=2025-10-10/2025-10-10T140000.parquet\n"
     ]
    },
    {
     "name": "stderr",
     "output_type": "stream",
     "text": [
      "\r",
      "100%|█████████▉| 1893/1897 [01:42<00:01,  2.97it/s]"
     ]
    },
    {
     "name": "stdout",
     "output_type": "stream",
     "text": [
      "Done dt=2025-10-10/2025-10-10T160000.parquet\n"
     ]
    },
    {
     "name": "stderr",
     "output_type": "stream",
     "text": [
      "\r",
      "100%|█████████▉| 1894/1897 [01:49<00:01,  2.16it/s]"
     ]
    },
    {
     "name": "stdout",
     "output_type": "stream",
     "text": [
      "Done dt=2025-10-10/2025-10-10T170000.parquet\n"
     ]
    },
    {
     "name": "stderr",
     "output_type": "stream",
     "text": [
      "\r",
      "100%|█████████▉| 1895/1897 [01:57<00:01,  1.55it/s]"
     ]
    },
    {
     "name": "stdout",
     "output_type": "stream",
     "text": [
      "Done dt=2025-10-10/2025-10-10T180000.parquet\n"
     ]
    },
    {
     "name": "stderr",
     "output_type": "stream",
     "text": [
      "\r",
      "100%|█████████▉| 1896/1897 [02:04<00:00,  1.14it/s]"
     ]
    },
    {
     "name": "stdout",
     "output_type": "stream",
     "text": [
      "Done dt=2025-10-10/2025-10-10T210000.parquet\n"
     ]
    },
    {
     "name": "stderr",
     "output_type": "stream",
     "text": [
      "\r",
      "100%|██████████| 1897/1897 [02:12<00:00,  1.18s/it]"
     ]
    },
    {
     "name": "stderr",
     "output_type": "stream",
     "text": [
      "\r",
      "100%|██████████| 1897/1897 [02:12<00:00, 14.36it/s]"
     ]
    },
    {
     "name": "stdout",
     "output_type": "stream",
     "text": [
      "Done dt=2025-10-11/2025-10-11T000000.parquet\n"
     ]
    },
    {
     "name": "stderr",
     "output_type": "stream",
     "text": [
      "\n"
     ]
    }
   ],
   "source": [
    "import polars as pl \n",
    "from tqdm import tqdm\n",
    "storage_options = {\n",
    "    \"account_name\": account_name,\n",
    "    \"account_key\":  account_key,\n",
    "}\n",
    "\n",
    "for ts, files in tqdm(groups.items()):\n",
    "    if ts not in need_process_ts:\n",
    "        continue\n",
    "    dt = ts[:10]\n",
    "    # if dt not in need_process:\n",
    "    #     continue\n",
    "    df = pl.scan_csv(f\"az://adjuststbuat/*_{ts}_*.csv.gz\", storage_options = storage_options,glob=True, has_header = True, null_values = [\"\",\"NULL\"], ignore_errors=True).select(pl.all().cast(pl.Utf8))\n",
    "    df.sink_parquet(f\"az://adjuststbuatprocessed/processing/dt={dt}/{ts}.parquet\", storage_options = storage_options, compression=\"snappy\")\n",
    "    print(f'Done dt={dt}/{ts}.parquet')\n",
    "        "
   ]
  },
  {
   "cell_type": "code",
   "execution_count": 7,
   "id": "f928a233",
   "metadata": {
    "execution": {
     "iopub.execute_input": "2025-10-11T01:46:28.563221Z",
     "iopub.status.busy": "2025-10-11T01:46:28.563038Z",
     "iopub.status.idle": "2025-10-11T01:46:28.567202Z",
     "shell.execute_reply": "2025-10-11T01:46:28.566636Z"
    },
    "papermill": {
     "duration": 0.0091,
     "end_time": "2025-10-11T01:46:28.568047",
     "exception": false,
     "start_time": "2025-10-11T01:46:28.558947",
     "status": "completed"
    },
    "tags": []
   },
   "outputs": [
    {
     "data": {
      "text/plain": [
       "{'2025-10-10', '2025-10-11'}"
      ]
     },
     "execution_count": 7,
     "metadata": {},
     "output_type": "execute_result"
    }
   ],
   "source": [
    "need_process = set([i.split(\"T\")[0] for i in need_process_ts])\n",
    "need_process"
   ]
  },
  {
   "cell_type": "code",
   "execution_count": 8,
   "id": "2b3beecc",
   "metadata": {
    "execution": {
     "iopub.execute_input": "2025-10-11T01:46:28.575823Z",
     "iopub.status.busy": "2025-10-11T01:46:28.575617Z",
     "iopub.status.idle": "2025-10-11T01:46:35.133388Z",
     "shell.execute_reply": "2025-10-11T01:46:35.132804Z"
    },
    "papermill": {
     "duration": 6.562626,
     "end_time": "2025-10-11T01:46:35.134238",
     "exception": false,
     "start_time": "2025-10-11T01:46:28.571612",
     "status": "completed"
    },
    "tags": []
   },
   "outputs": [
    {
     "name": "stdout",
     "output_type": "stream",
     "text": [
      "\n",
      " Done 2025-10-11\n",
      "\n"
     ]
    },
    {
     "name": "stdout",
     "output_type": "stream",
     "text": [
      "\n",
      " Done 2025-10-10\n",
      "\n"
     ]
    }
   ],
   "source": [
    "for dt in need_process:\n",
    "  df = pl.scan_parquet(f\"az://adjuststbuatprocessed/processing/dt={dt}/*.parquet\", storage_options=storage_options,glob=True).with_columns(pl.lit(dt).alias(\"dt\"))\n",
    "  df.sink_parquet(f\"az://adjuststbuatprocessed/output/{dt}.parquet\", storage_options=storage_options, compression=\"snappy\")\n",
    "  print(f'\\n Done {dt}\\n')"
   ]
  },
  {
   "cell_type": "markdown",
   "id": "85d681d4",
   "metadata": {
    "id": "2TvKr29qyJd_",
    "papermill": {
     "duration": 0.0036,
     "end_time": "2025-10-11T01:46:35.141849",
     "exception": false,
     "start_time": "2025-10-11T01:46:35.138249",
     "status": "completed"
    },
    "tags": []
   },
   "source": [
    "# Live"
   ]
  },
  {
   "cell_type": "code",
   "execution_count": 9,
   "id": "a287a04a",
   "metadata": {
    "execution": {
     "iopub.execute_input": "2025-10-11T01:46:35.149792Z",
     "iopub.status.busy": "2025-10-11T01:46:35.149627Z",
     "iopub.status.idle": "2025-10-11T01:46:39.191289Z",
     "shell.execute_reply": "2025-10-11T01:46:39.190792Z"
    },
    "id": "EnaFsdZFxpwc",
    "papermill": {
     "duration": 4.046697,
     "end_time": "2025-10-11T01:46:39.192161",
     "exception": false,
     "start_time": "2025-10-11T01:46:35.145464",
     "status": "completed"
    },
    "tags": []
   },
   "outputs": [
    {
     "data": {
      "text/plain": [
       "['2025-10-10T010000',\n",
       " '2025-10-10T020000',\n",
       " '2025-10-10T030000',\n",
       " '2025-10-10T040000',\n",
       " '2025-10-10T050000']"
      ]
     },
     "execution_count": 9,
     "metadata": {},
     "output_type": "execute_result"
    }
   ],
   "source": [
    "# already_processed = [file.name.split('/')[-1].split('.')[0] for file in container_client.list_blobs() if file.name[:12] == 'live/output/']\n",
    "# already_processed[-5:]\n",
    "already_processed_ts = sorted([file.name.split('/')[-1].split(\".\")[0] for file in container_client.list_blobs() if (file.name.split('/')[0] + \"/\" + file.name.split('/')[1]) == 'live/processing'])\n",
    "already_processed_ts[-5:]"
   ]
  },
  {
   "cell_type": "code",
   "execution_count": 10,
   "id": "48b6e70e",
   "metadata": {
    "execution": {
     "iopub.execute_input": "2025-10-11T01:46:39.200792Z",
     "iopub.status.busy": "2025-10-11T01:46:39.200587Z",
     "iopub.status.idle": "2025-10-11T01:46:50.787103Z",
     "shell.execute_reply": "2025-10-11T01:46:50.786566Z"
    },
    "id": "I7Er6YEUyOsL",
    "papermill": {
     "duration": 11.591729,
     "end_time": "2025-10-11T01:46:50.787988",
     "exception": false,
     "start_time": "2025-10-11T01:46:39.196259",
     "status": "completed"
    },
    "tags": []
   },
   "outputs": [
    {
     "data": {
      "text/plain": [
       "['65n1fgov4zr4_2025-10-11T000000_762c775ae454d23f2c6b6a75623d14c7_2853a0.csv.gz',\n",
       " '65n1fgov4zr4_2025-10-11T000000_762c775ae454d23f2c6b6a75623d14c7_2853a1.csv.gz',\n",
       " '65n1fgov4zr4_2025-10-11T000000_762c775ae454d23f2c6b6a75623d14c7_be8220.csv.gz',\n",
       " '65n1fgov4zr4_2025-10-11T000000_762c775ae454d23f2c6b6a75623d14c7_be8221.csv.gz',\n",
       " '65n1fgov4zr4_2025-10-11T000000_762c775ae454d23f2c6b6a75623d14c7_c35750.csv.gz',\n",
       " '65n1fgov4zr4_2025-10-11T000000_762c775ae454d23f2c6b6a75623d14c7_c35751.csv.gz']"
      ]
     },
     "execution_count": 10,
     "metadata": {},
     "output_type": "execute_result"
    }
   ],
   "source": [
    "container_name_uat = \"adjuststblive\"\n",
    "container_client_uat = blob_service_client.get_container_client(container_name_uat)\n",
    "from collections import defaultdict\n",
    "files = [i.name for i in container_client_uat.list_blobs()]\n",
    "groups = defaultdict(list)\n",
    "for f in files:\n",
    "    dt = f.split('_')[1]\n",
    "    groups[dt].append(f)\n",
    "groups[dt]"
   ]
  },
  {
   "cell_type": "code",
   "execution_count": 11,
   "id": "2acc3023",
   "metadata": {
    "execution": {
     "iopub.execute_input": "2025-10-11T01:46:50.796692Z",
     "iopub.status.busy": "2025-10-11T01:46:50.796506Z",
     "iopub.status.idle": "2025-10-11T01:46:50.801512Z",
     "shell.execute_reply": "2025-10-11T01:46:50.801022Z"
    },
    "papermill": {
     "duration": 0.01016,
     "end_time": "2025-10-11T01:46:50.802301",
     "exception": false,
     "start_time": "2025-10-11T01:46:50.792141",
     "status": "completed"
    },
    "tags": []
   },
   "outputs": [
    {
     "data": {
      "text/plain": [
       "['2025-10-10T050000',\n",
       " '2025-10-10T060000',\n",
       " '2025-10-10T070000',\n",
       " '2025-10-10T080000',\n",
       " '2025-10-10T090000',\n",
       " '2025-10-10T100000',\n",
       " '2025-10-10T110000',\n",
       " '2025-10-10T120000',\n",
       " '2025-10-10T130000',\n",
       " '2025-10-10T140000',\n",
       " '2025-10-10T150000',\n",
       " '2025-10-10T160000',\n",
       " '2025-10-10T170000',\n",
       " '2025-10-10T180000',\n",
       " '2025-10-10T190000',\n",
       " '2025-10-10T200000',\n",
       " '2025-10-10T210000',\n",
       " '2025-10-10T220000',\n",
       " '2025-10-10T230000',\n",
       " '2025-10-11T000000']"
      ]
     },
     "execution_count": 11,
     "metadata": {},
     "output_type": "execute_result"
    }
   ],
   "source": [
    "# need_process = pd.date_range(start=already_processed[-1], end=today).strftime('%Y-%m-%d').to_list()\n",
    "# need_process\n",
    "\n",
    "B = datetime.strptime(dt, \"%Y-%m-%dT%H0000\")\n",
    "A = datetime.strptime(already_processed_ts[-1], \"%Y-%m-%dT%H0000\")\n",
    "need_process_ts =  pd.date_range(A, B, freq='h').strftime('%Y-%m-%dT%H0000').tolist()\n",
    "need_process_ts"
   ]
  },
  {
   "cell_type": "code",
   "execution_count": 12,
   "id": "fd55f062",
   "metadata": {
    "execution": {
     "iopub.execute_input": "2025-10-11T01:46:50.810789Z",
     "iopub.status.busy": "2025-10-11T01:46:50.810601Z",
     "iopub.status.idle": "2025-10-11T02:00:03.839298Z",
     "shell.execute_reply": "2025-10-11T02:00:03.838695Z"
    },
    "id": "g-W3s2nRyRY7",
    "papermill": {
     "duration": 793.03948,
     "end_time": "2025-10-11T02:00:03.845696",
     "exception": false,
     "start_time": "2025-10-11T01:46:50.806216",
     "status": "completed"
    },
    "tags": []
   },
   "outputs": [
    {
     "name": "stderr",
     "output_type": "stream",
     "text": [
      "\r",
      "  0%|          | 0/1887 [00:00<?, ?it/s]"
     ]
    },
    {
     "name": "stderr",
     "output_type": "stream",
     "text": [
      "\r",
      " 99%|█████████▉| 1868/1887 [00:28<00:00, 64.54it/s]"
     ]
    },
    {
     "name": "stdout",
     "output_type": "stream",
     "text": [
      "Done dt=2025-10-10/2025-10-10T050000.parquet\n"
     ]
    },
    {
     "name": "stderr",
     "output_type": "stream",
     "text": [
      "\r",
      " 99%|█████████▉| 1868/1887 [00:45<00:00, 64.54it/s]"
     ]
    },
    {
     "name": "stderr",
     "output_type": "stream",
     "text": [
      "\r",
      " 99%|█████████▉| 1869/1887 [01:00<00:00, 25.45it/s]"
     ]
    },
    {
     "name": "stdout",
     "output_type": "stream",
     "text": [
      "Done dt=2025-10-10/2025-10-10T060000.parquet\n"
     ]
    },
    {
     "name": "stderr",
     "output_type": "stream",
     "text": [
      "\r",
      " 99%|█████████▉| 1870/1887 [01:46<00:01, 11.19it/s]"
     ]
    },
    {
     "name": "stdout",
     "output_type": "stream",
     "text": [
      "Done dt=2025-10-10/2025-10-10T070000.parquet\n"
     ]
    },
    {
     "name": "stderr",
     "output_type": "stream",
     "text": [
      "\r",
      " 99%|█████████▉| 1871/1887 [02:36<00:02,  5.95it/s]"
     ]
    },
    {
     "name": "stdout",
     "output_type": "stream",
     "text": [
      "Done dt=2025-10-10/2025-10-10T080000.parquet\n"
     ]
    },
    {
     "name": "stderr",
     "output_type": "stream",
     "text": [
      "\r",
      " 99%|█████████▉| 1872/1887 [03:27<00:04,  3.57it/s]"
     ]
    },
    {
     "name": "stdout",
     "output_type": "stream",
     "text": [
      "Done dt=2025-10-10/2025-10-10T090000.parquet\n"
     ]
    },
    {
     "name": "stderr",
     "output_type": "stream",
     "text": [
      "\r",
      " 99%|█████████▉| 1873/1887 [04:05<00:05,  2.50it/s]"
     ]
    },
    {
     "name": "stdout",
     "output_type": "stream",
     "text": [
      "Done dt=2025-10-10/2025-10-10T100000.parquet\n"
     ]
    },
    {
     "name": "stderr",
     "output_type": "stream",
     "text": [
      "\r",
      " 99%|█████████▉| 1874/1887 [05:10<00:08,  1.45it/s]"
     ]
    },
    {
     "name": "stdout",
     "output_type": "stream",
     "text": [
      "Done dt=2025-10-10/2025-10-10T110000.parquet\n"
     ]
    },
    {
     "name": "stderr",
     "output_type": "stream",
     "text": [
      "\r",
      " 99%|█████████▉| 1875/1887 [05:51<00:11,  1.06it/s]"
     ]
    },
    {
     "name": "stdout",
     "output_type": "stream",
     "text": [
      "Done dt=2025-10-10/2025-10-10T120000.parquet\n"
     ]
    },
    {
     "name": "stderr",
     "output_type": "stream",
     "text": [
      "\r",
      " 99%|█████████▉| 1876/1887 [06:35<00:14,  1.34s/it]"
     ]
    },
    {
     "name": "stdout",
     "output_type": "stream",
     "text": [
      "Done dt=2025-10-10/2025-10-10T130000.parquet\n"
     ]
    },
    {
     "name": "stderr",
     "output_type": "stream",
     "text": [
      "\r",
      " 99%|█████████▉| 1877/1887 [07:26<00:19,  1.97s/it]"
     ]
    },
    {
     "name": "stdout",
     "output_type": "stream",
     "text": [
      "Done dt=2025-10-10/2025-10-10T140000.parquet\n"
     ]
    },
    {
     "name": "stderr",
     "output_type": "stream",
     "text": [
      "\r",
      "100%|█████████▉| 1878/1887 [08:11<00:24,  2.73s/it]"
     ]
    },
    {
     "name": "stdout",
     "output_type": "stream",
     "text": [
      "Done dt=2025-10-10/2025-10-10T150000.parquet\n"
     ]
    },
    {
     "name": "stderr",
     "output_type": "stream",
     "text": [
      "\r",
      "100%|█████████▉| 1879/1887 [08:49<00:28,  3.62s/it]"
     ]
    },
    {
     "name": "stdout",
     "output_type": "stream",
     "text": [
      "Done dt=2025-10-10/2025-10-10T160000.parquet\n"
     ]
    },
    {
     "name": "stderr",
     "output_type": "stream",
     "text": [
      "\r",
      "100%|█████████▉| 1880/1887 [09:27<00:33,  4.79s/it]"
     ]
    },
    {
     "name": "stdout",
     "output_type": "stream",
     "text": [
      "Done dt=2025-10-10/2025-10-10T170000.parquet\n"
     ]
    },
    {
     "name": "stderr",
     "output_type": "stream",
     "text": [
      "\r",
      "100%|█████████▉| 1881/1887 [10:09<00:39,  6.52s/it]"
     ]
    },
    {
     "name": "stdout",
     "output_type": "stream",
     "text": [
      "Done dt=2025-10-10/2025-10-10T180000.parquet\n"
     ]
    },
    {
     "name": "stderr",
     "output_type": "stream",
     "text": [
      "\r",
      "100%|█████████▉| 1882/1887 [10:42<00:41,  8.22s/it]"
     ]
    },
    {
     "name": "stdout",
     "output_type": "stream",
     "text": [
      "Done dt=2025-10-10/2025-10-10T190000.parquet\n"
     ]
    },
    {
     "name": "stderr",
     "output_type": "stream",
     "text": [
      "\r",
      "100%|█████████▉| 1883/1887 [11:12<00:40, 10.00s/it]"
     ]
    },
    {
     "name": "stdout",
     "output_type": "stream",
     "text": [
      "Done dt=2025-10-10/2025-10-10T200000.parquet\n"
     ]
    },
    {
     "name": "stderr",
     "output_type": "stream",
     "text": [
      "\r",
      "100%|█████████▉| 1884/1887 [11:37<00:34, 11.52s/it]"
     ]
    },
    {
     "name": "stdout",
     "output_type": "stream",
     "text": [
      "Done dt=2025-10-10/2025-10-10T210000.parquet\n"
     ]
    },
    {
     "name": "stderr",
     "output_type": "stream",
     "text": [
      "\r",
      "100%|█████████▉| 1885/1887 [12:05<00:27, 13.67s/it]"
     ]
    },
    {
     "name": "stdout",
     "output_type": "stream",
     "text": [
      "Done dt=2025-10-10/2025-10-10T220000.parquet\n"
     ]
    },
    {
     "name": "stderr",
     "output_type": "stream",
     "text": [
      "\r",
      "100%|█████████▉| 1886/1887 [12:37<00:16, 16.58s/it]"
     ]
    },
    {
     "name": "stdout",
     "output_type": "stream",
     "text": [
      "Done dt=2025-10-10/2025-10-10T230000.parquet\n"
     ]
    },
    {
     "name": "stderr",
     "output_type": "stream",
     "text": [
      "\r",
      "100%|██████████| 1887/1887 [13:13<00:00, 20.02s/it]"
     ]
    },
    {
     "name": "stderr",
     "output_type": "stream",
     "text": [
      "\r",
      "100%|██████████| 1887/1887 [13:13<00:00,  2.38it/s]"
     ]
    },
    {
     "name": "stdout",
     "output_type": "stream",
     "text": [
      "Done dt=2025-10-11/2025-10-11T000000.parquet\n"
     ]
    },
    {
     "name": "stderr",
     "output_type": "stream",
     "text": [
      "\n"
     ]
    }
   ],
   "source": [
    "storage_options = {\n",
    "    \"account_name\": account_name,\n",
    "    \"account_key\":  account_key,\n",
    "}\n",
    "\n",
    "for ts, files in tqdm(groups.items()):\n",
    "    if ts not in need_process_ts: continue\n",
    "    dt = ts[:10]\n",
    "    # if dt not in need_process:\n",
    "    #     continue\n",
    "    df = pl.scan_csv(f\"az://adjuststblive/*_{ts}_*.csv.gz\", storage_options = storage_options,glob=True, has_header = True, null_values = [\"\",\"NULL\"], ignore_errors=True).select(pl.all().cast(pl.Utf8))\n",
    "    df.sink_parquet(f\"az://adjuststbuatprocessed/live/processing/dt={dt}/{ts}.parquet\", storage_options = storage_options, compression=\"snappy\")\n",
    "    print(f'Done dt={dt}/{ts}.parquet')\n",
    "        "
   ]
  },
  {
   "cell_type": "code",
   "execution_count": 13,
   "id": "7c7c9e45",
   "metadata": {
    "execution": {
     "iopub.execute_input": "2025-10-11T02:00:03.857711Z",
     "iopub.status.busy": "2025-10-11T02:00:03.857495Z",
     "iopub.status.idle": "2025-10-11T02:00:03.861729Z",
     "shell.execute_reply": "2025-10-11T02:00:03.861115Z"
    },
    "papermill": {
     "duration": 0.011264,
     "end_time": "2025-10-11T02:00:03.862597",
     "exception": false,
     "start_time": "2025-10-11T02:00:03.851333",
     "status": "completed"
    },
    "tags": []
   },
   "outputs": [
    {
     "data": {
      "text/plain": [
       "{'2025-10-10', '2025-10-11'}"
      ]
     },
     "execution_count": 13,
     "metadata": {},
     "output_type": "execute_result"
    }
   ],
   "source": [
    "need_process = set([i.split(\"T\")[0] for i in need_process_ts])\n",
    "need_process"
   ]
  },
  {
   "cell_type": "code",
   "execution_count": 14,
   "id": "b886f6c8",
   "metadata": {
    "execution": {
     "iopub.execute_input": "2025-10-11T02:00:03.874527Z",
     "iopub.status.busy": "2025-10-11T02:00:03.874333Z",
     "iopub.status.idle": "2025-10-11T02:03:40.106671Z",
     "shell.execute_reply": "2025-10-11T02:03:40.092819Z"
    },
    "id": "sBm7rfFUyePJ",
    "papermill": {
     "duration": 216.351995,
     "end_time": "2025-10-11T02:03:40.220377",
     "exception": false,
     "start_time": "2025-10-11T02:00:03.868382",
     "status": "completed"
    },
    "tags": []
   },
   "outputs": [
    {
     "name": "stdout",
     "output_type": "stream",
     "text": [
      "\n",
      " Done 2025-10-11\n",
      "\n"
     ]
    },
    {
     "name": "stdout",
     "output_type": "stream",
     "text": [
      "\n",
      " Done 2025-10-10\n",
      "\n"
     ]
    }
   ],
   "source": [
    "for dt in need_process:\n",
    "  df = pl.scan_parquet(f\"az://adjuststbuatprocessed/live/processing/dt={dt}/*.parquet\", storage_options=storage_options,glob=True).with_columns(pl.lit(dt).alias(\"dt\"))\n",
    "  df.sink_parquet(f\"az://adjuststbuatprocessed/live/output/{dt}.parquet\", storage_options=storage_options, compression=\"snappy\")\n",
    "  print(f'\\n Done {dt}\\n')"
   ]
  }
 ],
 "metadata": {
  "colab": {
   "authorship_tag": "ABX9TyOfzO6uvqUX+Tt89Y73G9E8",
   "include_colab_link": true,
   "provenance": []
  },
  "kernelspec": {
   "display_name": "Python 3",
   "name": "python3"
  },
  "language_info": {
   "codemirror_mode": {
    "name": "ipython",
    "version": 3
   },
   "file_extension": ".py",
   "mimetype": "text/x-python",
   "name": "python",
   "nbconvert_exporter": "python",
   "pygments_lexer": "ipython3",
   "version": "3.11.13"
  },
  "papermill": {
   "default_parameters": {},
   "duration": 1183.678446,
   "end_time": "2025-10-11T02:03:43.583639",
   "environment_variables": {},
   "exception": null,
   "input_path": "notebooks/ADJUST_JOB.ipynb",
   "output_path": "outputs/ADJUST_JOB_2025-10-11.ipynb",
   "parameters": {
    "RUN_DATE": "2025-10-11"
   },
   "start_time": "2025-10-11T01:43:59.905193",
   "version": "2.6.0"
  }
 },
 "nbformat": 4,
 "nbformat_minor": 5
}