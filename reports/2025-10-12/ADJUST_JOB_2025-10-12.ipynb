{
 "cells": [
  {
   "cell_type": "code",
   "execution_count": 1,
   "id": "2d19e56b",
   "metadata": {
    "execution": {
     "iopub.execute_input": "2025-10-12T05:57:19.400364Z",
     "iopub.status.busy": "2025-10-12T05:57:19.400173Z",
     "iopub.status.idle": "2025-10-12T05:57:19.405203Z",
     "shell.execute_reply": "2025-10-12T05:57:19.404755Z"
    },
    "papermill": {
     "duration": 0.009086,
     "end_time": "2025-10-12T05:57:19.406131",
     "exception": false,
     "start_time": "2025-10-12T05:57:19.397045",
     "status": "completed"
    },
    "tags": [
     "injected-parameters"
    ]
   },
   "outputs": [],
   "source": [
    "# Parameters\n",
    "RUN_DATE = \"2025-10-12\"\n"
   ]
  },
  {
   "cell_type": "markdown",
   "id": "64254dfe",
   "metadata": {
    "colab_type": "text",
    "id": "view-in-github",
    "papermill": {
     "duration": 0.001958,
     "end_time": "2025-10-12T05:57:19.410318",
     "exception": false,
     "start_time": "2025-10-12T05:57:19.408360",
     "status": "completed"
    },
    "tags": []
   },
   "source": [
    "<a href=\"https://colab.research.google.com/github/HieuNguyenPhi/ADJ_JOBS/blob/main/notebooks/ADJUST_JOB.ipynb\" target=\"_parent\"><img src=\"https://colab.research.google.com/assets/colab-badge.svg\" alt=\"Open In Colab\"/></a>"
   ]
  },
  {
   "cell_type": "markdown",
   "id": "25ce0a2e",
   "metadata": {
    "papermill": {
     "duration": 0.001878,
     "end_time": "2025-10-12T05:57:19.414103",
     "exception": false,
     "start_time": "2025-10-12T05:57:19.412225",
     "status": "completed"
    },
    "tags": []
   },
   "source": [
    "# UAT"
   ]
  },
  {
   "cell_type": "code",
   "execution_count": 2,
   "id": "0b99af01",
   "metadata": {
    "execution": {
     "iopub.execute_input": "2025-10-12T05:57:19.419478Z",
     "iopub.status.busy": "2025-10-12T05:57:19.419280Z",
     "iopub.status.idle": "2025-10-12T05:57:26.523236Z",
     "shell.execute_reply": "2025-10-12T05:57:26.522668Z"
    },
    "id": "ycUR2r1dq1Nm",
    "papermill": {
     "duration": 7.108101,
     "end_time": "2025-10-12T05:57:26.524108",
     "exception": false,
     "start_time": "2025-10-12T05:57:19.416007",
     "status": "completed"
    },
    "tags": []
   },
   "outputs": [
    {
     "data": {
      "text/plain": [
       "['2025-10-11T140000',\n",
       " '2025-10-11T150000',\n",
       " '2025-10-11T170000',\n",
       " '2025-10-12T000000',\n",
       " '2025-10-12T030000']"
      ]
     },
     "execution_count": 2,
     "metadata": {},
     "output_type": "execute_result"
    }
   ],
   "source": [
    "import os\n",
    "from azure.storage.blob import BlobServiceClient\n",
    "\n",
    "account_name = os.getenv('ACCOUNT_NAME')\n",
    "account_key = os.getenv('ACCOUNT_KEY')\n",
    "# Replace with your Azure Storage account name and SAS token or connection string\n",
    "connect_str = f\"DefaultEndpointsProtocol=https;AccountName={account_name};AccountKey={account_key};EndpointSuffix=core.windows.net\"\n",
    "blob_service_client = BlobServiceClient.from_connection_string(connect_str)\n",
    "container_list = blob_service_client.list_containers()\n",
    "container_name = \"adjuststbuatprocessed\" #os.getenv('CONTAINER_NAME')\n",
    "container_client = blob_service_client.get_container_client(container_name)\n",
    "# already_processed = [file.name.split('/')[1].split('.')[0] for file in container_client.list_blobs() if file.name.split('/')[0] == 'output']\n",
    "# already_processed[-5:]\n",
    "already_processed_ts = sorted([file.name.split('/')[-1].split(\".\")[0] for file in container_client.list_blobs() if file.name.split('/')[0] == 'processing'])\n",
    "already_processed_ts[-5:]"
   ]
  },
  {
   "cell_type": "code",
   "execution_count": 3,
   "id": "3a81d05d",
   "metadata": {
    "execution": {
     "iopub.execute_input": "2025-10-12T05:57:26.529321Z",
     "iopub.status.busy": "2025-10-12T05:57:26.529107Z",
     "iopub.status.idle": "2025-10-12T05:57:35.591503Z",
     "shell.execute_reply": "2025-10-12T05:57:35.590927Z"
    },
    "id": "xyPuVC12s7fn",
    "papermill": {
     "duration": 9.065948,
     "end_time": "2025-10-12T05:57:35.592434",
     "exception": false,
     "start_time": "2025-10-12T05:57:26.526486",
     "status": "completed"
    },
    "tags": []
   },
   "outputs": [
    {
     "data": {
      "text/plain": [
       "['rsh20bkkb4zk_2025-10-12T030000_762c775ae454d23f2c6b6a75623d14c7_2853a0.csv.gz']"
      ]
     },
     "execution_count": 3,
     "metadata": {},
     "output_type": "execute_result"
    }
   ],
   "source": [
    "container_name_uat = \"adjuststbuat\"\n",
    "container_client_uat = blob_service_client.get_container_client(container_name_uat)\n",
    "from collections import defaultdict\n",
    "files = [i.name for i in container_client_uat.list_blobs()]\n",
    "groups = defaultdict(list)\n",
    "for f in files:\n",
    "    dt = f.split('_')[1]\n",
    "    groups[dt].append(f)\n",
    "groups[dt]"
   ]
  },
  {
   "cell_type": "code",
   "execution_count": 4,
   "id": "a64c3b07",
   "metadata": {
    "execution": {
     "iopub.execute_input": "2025-10-12T05:57:35.598057Z",
     "iopub.status.busy": "2025-10-12T05:57:35.597856Z",
     "iopub.status.idle": "2025-10-12T05:57:35.600316Z",
     "shell.execute_reply": "2025-10-12T05:57:35.599882Z"
    },
    "papermill": {
     "duration": 0.006231,
     "end_time": "2025-10-12T05:57:35.601156",
     "exception": false,
     "start_time": "2025-10-12T05:57:35.594925",
     "status": "completed"
    },
    "tags": []
   },
   "outputs": [],
   "source": [
    "# from datetime import date, timedelta, datetime\n",
    "# import pandas as pd\n",
    "# today = date.today().strftime('%Y-%m-%d')\n",
    "# yesterday = (date.today() - timedelta(days = 1) ).strftime('%Y-%m-%d')\n",
    "# check_date = dt.split(\"T\")[0]\n",
    "# if check_date == today:\n",
    "#     need_process = pd.date_range(start=already_processed[-1], end=today).strftime('%Y-%m-%d').to_list()\n",
    "# else:\n",
    "#     need_process = pd.date_range(start=already_processed[-1], end=yesterday).strftime('%Y-%m-%d').to_list()\n",
    "# need_process"
   ]
  },
  {
   "cell_type": "code",
   "execution_count": 5,
   "id": "2ad0ea5b",
   "metadata": {
    "execution": {
     "iopub.execute_input": "2025-10-12T05:57:35.606032Z",
     "iopub.status.busy": "2025-10-12T05:57:35.605880Z",
     "iopub.status.idle": "2025-10-12T05:57:35.861229Z",
     "shell.execute_reply": "2025-10-12T05:57:35.860688Z"
    },
    "papermill": {
     "duration": 0.258842,
     "end_time": "2025-10-12T05:57:35.862180",
     "exception": false,
     "start_time": "2025-10-12T05:57:35.603338",
     "status": "completed"
    },
    "tags": []
   },
   "outputs": [
    {
     "data": {
      "text/plain": [
       "['2025-10-12T000000',\n",
       " '2025-10-12T010000',\n",
       " '2025-10-12T020000',\n",
       " '2025-10-12T030000']"
      ]
     },
     "execution_count": 5,
     "metadata": {},
     "output_type": "execute_result"
    }
   ],
   "source": [
    "from datetime import datetime\n",
    "import pandas as pd\n",
    "B = datetime.strptime(dt, \"%Y-%m-%dT%H0000\")\n",
    "A = datetime.strptime(already_processed_ts[-2], \"%Y-%m-%dT%H0000\")\n",
    "need_process_ts =  pd.date_range(A, B, freq='h').strftime('%Y-%m-%dT%H0000').tolist()\n",
    "need_process_ts"
   ]
  },
  {
   "cell_type": "code",
   "execution_count": 6,
   "id": "590a45cc",
   "metadata": {
    "execution": {
     "iopub.execute_input": "2025-10-12T05:57:35.870274Z",
     "iopub.status.busy": "2025-10-12T05:57:35.870000Z",
     "iopub.status.idle": "2025-10-12T05:57:56.570862Z",
     "shell.execute_reply": "2025-10-12T05:57:56.570250Z"
    },
    "papermill": {
     "duration": 20.707021,
     "end_time": "2025-10-12T05:57:56.571833",
     "exception": false,
     "start_time": "2025-10-12T05:57:35.864812",
     "status": "completed"
    },
    "tags": []
   },
   "outputs": [
    {
     "name": "stderr",
     "output_type": "stream",
     "text": [
      "\r",
      "  0%|          | 0/1912 [00:00<?, ?it/s]"
     ]
    },
    {
     "name": "stderr",
     "output_type": "stream",
     "text": [
      "\r",
      "100%|█████████▉| 1911/1912 [00:11<00:00, 159.52it/s]"
     ]
    },
    {
     "name": "stdout",
     "output_type": "stream",
     "text": [
      "Done dt=2025-10-12/2025-10-12T000000.parquet\n"
     ]
    },
    {
     "name": "stderr",
     "output_type": "stream",
     "text": [
      "\r",
      "100%|██████████| 1912/1912 [00:20<00:00, 92.69it/s] "
     ]
    },
    {
     "name": "stdout",
     "output_type": "stream",
     "text": [
      "Done dt=2025-10-12/2025-10-12T030000.parquet\n"
     ]
    },
    {
     "name": "stderr",
     "output_type": "stream",
     "text": [
      "\n"
     ]
    }
   ],
   "source": [
    "import polars as pl \n",
    "from tqdm import tqdm\n",
    "storage_options = {\n",
    "    \"account_name\": account_name,\n",
    "    \"account_key\":  account_key,\n",
    "}\n",
    "\n",
    "for ts, files in tqdm(groups.items()):\n",
    "    if ts not in need_process_ts:\n",
    "        continue\n",
    "    dt = ts[:10]\n",
    "    # if dt not in need_process:\n",
    "    #     continue\n",
    "    df = pl.scan_csv(f\"az://adjuststbuat/*_{ts}_*.csv.gz\", storage_options = storage_options,glob=True, has_header = True, null_values = [\"\",\"NULL\"], ignore_errors=True).select(pl.all().cast(pl.Utf8))\n",
    "    df.sink_parquet(f\"az://adjuststbuatprocessed/processing/dt={dt}/{ts}.parquet\", storage_options = storage_options, compression=\"snappy\")\n",
    "    print(f'Done dt={dt}/{ts}.parquet')\n",
    "        "
   ]
  },
  {
   "cell_type": "code",
   "execution_count": 7,
   "id": "578af1ab",
   "metadata": {
    "execution": {
     "iopub.execute_input": "2025-10-12T05:57:56.577980Z",
     "iopub.status.busy": "2025-10-12T05:57:56.577806Z",
     "iopub.status.idle": "2025-10-12T05:57:56.581940Z",
     "shell.execute_reply": "2025-10-12T05:57:56.581361Z"
    },
    "papermill": {
     "duration": 0.008206,
     "end_time": "2025-10-12T05:57:56.582825",
     "exception": false,
     "start_time": "2025-10-12T05:57:56.574619",
     "status": "completed"
    },
    "tags": []
   },
   "outputs": [
    {
     "data": {
      "text/plain": [
       "{'2025-10-12'}"
      ]
     },
     "execution_count": 7,
     "metadata": {},
     "output_type": "execute_result"
    }
   ],
   "source": [
    "need_process = set([i.split(\"T\")[0] for i in need_process_ts])\n",
    "need_process"
   ]
  },
  {
   "cell_type": "code",
   "execution_count": 8,
   "id": "27da20ee",
   "metadata": {
    "execution": {
     "iopub.execute_input": "2025-10-12T05:57:56.588579Z",
     "iopub.status.busy": "2025-10-12T05:57:56.588417Z",
     "iopub.status.idle": "2025-10-12T05:57:59.627909Z",
     "shell.execute_reply": "2025-10-12T05:57:59.627396Z"
    },
    "papermill": {
     "duration": 3.043412,
     "end_time": "2025-10-12T05:57:59.628793",
     "exception": false,
     "start_time": "2025-10-12T05:57:56.585381",
     "status": "completed"
    },
    "tags": []
   },
   "outputs": [
    {
     "name": "stdout",
     "output_type": "stream",
     "text": [
      "\n",
      " Done 2025-10-12\n",
      "\n"
     ]
    }
   ],
   "source": [
    "for dt in need_process:\n",
    "  df = pl.scan_parquet(f\"az://adjuststbuatprocessed/processing/dt={dt}/*.parquet\", storage_options=storage_options,glob=True).with_columns(pl.lit(dt).alias(\"dt\"))\n",
    "  df.sink_parquet(f\"az://adjuststbuatprocessed/output/{dt}.parquet\", storage_options=storage_options, compression=\"snappy\")\n",
    "  print(f'\\n Done {dt}\\n')"
   ]
  },
  {
   "cell_type": "markdown",
   "id": "0bf68f86",
   "metadata": {
    "id": "2TvKr29qyJd_",
    "papermill": {
     "duration": 0.002646,
     "end_time": "2025-10-12T05:57:59.634436",
     "exception": false,
     "start_time": "2025-10-12T05:57:59.631790",
     "status": "completed"
    },
    "tags": []
   },
   "source": [
    "# Live"
   ]
  },
  {
   "cell_type": "code",
   "execution_count": 9,
   "id": "bbfce1e1",
   "metadata": {
    "execution": {
     "iopub.execute_input": "2025-10-12T05:57:59.640438Z",
     "iopub.status.busy": "2025-10-12T05:57:59.640271Z",
     "iopub.status.idle": "2025-10-12T05:58:03.939735Z",
     "shell.execute_reply": "2025-10-12T05:58:03.939168Z"
    },
    "id": "EnaFsdZFxpwc",
    "papermill": {
     "duration": 4.303488,
     "end_time": "2025-10-12T05:58:03.940579",
     "exception": false,
     "start_time": "2025-10-12T05:57:59.637091",
     "status": "completed"
    },
    "tags": []
   },
   "outputs": [
    {
     "data": {
      "text/plain": [
       "['2025-10-11T230000',\n",
       " '2025-10-12T000000',\n",
       " '2025-10-12T010000',\n",
       " '2025-10-12T020000',\n",
       " '2025-10-12T030000']"
      ]
     },
     "execution_count": 9,
     "metadata": {},
     "output_type": "execute_result"
    }
   ],
   "source": [
    "# already_processed = [file.name.split('/')[-1].split('.')[0] for file in container_client.list_blobs() if file.name[:12] == 'live/output/']\n",
    "# already_processed[-5:]\n",
    "already_processed_ts = sorted([file.name.split('/')[-1].split(\".\")[0] for file in container_client.list_blobs() if (file.name.split('/')[0] + \"/\" + file.name.split('/')[1]) == 'live/processing'])\n",
    "already_processed_ts[-5:]"
   ]
  },
  {
   "cell_type": "code",
   "execution_count": 10,
   "id": "94b1798f",
   "metadata": {
    "execution": {
     "iopub.execute_input": "2025-10-12T05:58:03.947761Z",
     "iopub.status.busy": "2025-10-12T05:58:03.947539Z",
     "iopub.status.idle": "2025-10-12T05:58:16.446912Z",
     "shell.execute_reply": "2025-10-12T05:58:16.446375Z"
    },
    "id": "I7Er6YEUyOsL",
    "papermill": {
     "duration": 12.504156,
     "end_time": "2025-10-12T05:58:16.447822",
     "exception": false,
     "start_time": "2025-10-12T05:58:03.943666",
     "status": "completed"
    },
    "tags": []
   },
   "outputs": [
    {
     "data": {
      "text/plain": [
       "['65n1fgov4zr4_2025-10-12T040000_762c775ae454d23f2c6b6a75623d14c7_2853a0.csv.gz',\n",
       " '65n1fgov4zr4_2025-10-12T040000_762c775ae454d23f2c6b6a75623d14c7_2853a1.csv.gz',\n",
       " '65n1fgov4zr4_2025-10-12T040000_762c775ae454d23f2c6b6a75623d14c7_be8220.csv.gz',\n",
       " '65n1fgov4zr4_2025-10-12T040000_762c775ae454d23f2c6b6a75623d14c7_be8221.csv.gz',\n",
       " '65n1fgov4zr4_2025-10-12T040000_762c775ae454d23f2c6b6a75623d14c7_c35750.csv.gz',\n",
       " '65n1fgov4zr4_2025-10-12T040000_762c775ae454d23f2c6b6a75623d14c7_c35751.csv.gz']"
      ]
     },
     "execution_count": 10,
     "metadata": {},
     "output_type": "execute_result"
    }
   ],
   "source": [
    "container_name_uat = \"adjuststblive\"\n",
    "container_client_uat = blob_service_client.get_container_client(container_name_uat)\n",
    "from collections import defaultdict\n",
    "files = [i.name for i in container_client_uat.list_blobs()]\n",
    "groups = defaultdict(list)\n",
    "for f in files:\n",
    "    dt = f.split('_')[1]\n",
    "    groups[dt].append(f)\n",
    "groups[dt]"
   ]
  },
  {
   "cell_type": "code",
   "execution_count": 11,
   "id": "e6df276b",
   "metadata": {
    "execution": {
     "iopub.execute_input": "2025-10-12T05:58:16.454764Z",
     "iopub.status.busy": "2025-10-12T05:58:16.454568Z",
     "iopub.status.idle": "2025-10-12T05:58:16.459090Z",
     "shell.execute_reply": "2025-10-12T05:58:16.458661Z"
    },
    "papermill": {
     "duration": 0.008801,
     "end_time": "2025-10-12T05:58:16.459908",
     "exception": false,
     "start_time": "2025-10-12T05:58:16.451107",
     "status": "completed"
    },
    "tags": []
   },
   "outputs": [
    {
     "data": {
      "text/plain": [
       "['2025-10-12T030000', '2025-10-12T040000']"
      ]
     },
     "execution_count": 11,
     "metadata": {},
     "output_type": "execute_result"
    }
   ],
   "source": [
    "# need_process = pd.date_range(start=already_processed[-1], end=today).strftime('%Y-%m-%d').to_list()\n",
    "# need_process\n",
    "\n",
    "B = datetime.strptime(dt, \"%Y-%m-%dT%H0000\")\n",
    "A = datetime.strptime(already_processed_ts[-1], \"%Y-%m-%dT%H0000\")\n",
    "need_process_ts =  pd.date_range(A, B, freq='h').strftime('%Y-%m-%dT%H0000').tolist()\n",
    "need_process_ts"
   ]
  },
  {
   "cell_type": "code",
   "execution_count": 12,
   "id": "ea62e087",
   "metadata": {
    "execution": {
     "iopub.execute_input": "2025-10-12T05:58:16.466306Z",
     "iopub.status.busy": "2025-10-12T05:58:16.466153Z",
     "iopub.status.idle": "2025-10-12T06:00:15.653128Z",
     "shell.execute_reply": "2025-10-12T06:00:15.652650Z"
    },
    "id": "g-W3s2nRyRY7",
    "papermill": {
     "duration": 119.194264,
     "end_time": "2025-10-12T06:00:15.657107",
     "exception": false,
     "start_time": "2025-10-12T05:58:16.462843",
     "status": "completed"
    },
    "tags": []
   },
   "outputs": [
    {
     "name": "stderr",
     "output_type": "stream",
     "text": [
      "\r",
      "  0%|          | 0/1915 [00:00<?, ?it/s]"
     ]
    },
    {
     "name": "stderr",
     "output_type": "stream",
     "text": [
      "\r",
      "100%|█████████▉| 1914/1915 [01:16<00:00, 25.13it/s]"
     ]
    },
    {
     "name": "stdout",
     "output_type": "stream",
     "text": [
      "Done dt=2025-10-12/2025-10-12T030000.parquet\n"
     ]
    },
    {
     "name": "stderr",
     "output_type": "stream",
     "text": [
      "\r",
      "100%|█████████▉| 1914/1915 [01:29<00:00, 25.13it/s]"
     ]
    },
    {
     "name": "stderr",
     "output_type": "stream",
     "text": [
      "\r",
      "100%|██████████| 1915/1915 [01:59<00:00, 13.92it/s]"
     ]
    },
    {
     "name": "stderr",
     "output_type": "stream",
     "text": [
      "\r",
      "100%|██████████| 1915/1915 [01:59<00:00, 16.07it/s]"
     ]
    },
    {
     "name": "stdout",
     "output_type": "stream",
     "text": [
      "Done dt=2025-10-12/2025-10-12T040000.parquet\n"
     ]
    },
    {
     "name": "stderr",
     "output_type": "stream",
     "text": [
      "\n"
     ]
    }
   ],
   "source": [
    "storage_options = {\n",
    "    \"account_name\": account_name,\n",
    "    \"account_key\":  account_key,\n",
    "}\n",
    "\n",
    "for ts, files in tqdm(groups.items()):\n",
    "    if ts not in need_process_ts: continue\n",
    "    dt = ts[:10]\n",
    "    # if dt not in need_process:\n",
    "    #     continue\n",
    "    df = pl.scan_csv(f\"az://adjuststblive/*_{ts}_*.csv.gz\", storage_options = storage_options,glob=True, has_header = True, null_values = [\"\",\"NULL\"], ignore_errors=True).select(pl.all().cast(pl.Utf8))\n",
    "    df.sink_parquet(f\"az://adjuststbuatprocessed/live/processing/dt={dt}/{ts}.parquet\", storage_options = storage_options, compression=\"snappy\")\n",
    "    print(f'Done dt={dt}/{ts}.parquet')\n",
    "        "
   ]
  },
  {
   "cell_type": "code",
   "execution_count": 13,
   "id": "80c73a49",
   "metadata": {
    "execution": {
     "iopub.execute_input": "2025-10-12T06:00:15.664393Z",
     "iopub.status.busy": "2025-10-12T06:00:15.664221Z",
     "iopub.status.idle": "2025-10-12T06:00:15.667879Z",
     "shell.execute_reply": "2025-10-12T06:00:15.667405Z"
    },
    "papermill": {
     "duration": 0.008142,
     "end_time": "2025-10-12T06:00:15.668621",
     "exception": false,
     "start_time": "2025-10-12T06:00:15.660479",
     "status": "completed"
    },
    "tags": []
   },
   "outputs": [
    {
     "data": {
      "text/plain": [
       "{'2025-10-12'}"
      ]
     },
     "execution_count": 13,
     "metadata": {},
     "output_type": "execute_result"
    }
   ],
   "source": [
    "need_process = set([i.split(\"T\")[0] for i in need_process_ts])\n",
    "need_process"
   ]
  },
  {
   "cell_type": "code",
   "execution_count": 14,
   "id": "969ca9f3",
   "metadata": {
    "execution": {
     "iopub.execute_input": "2025-10-12T06:00:15.675800Z",
     "iopub.status.busy": "2025-10-12T06:00:15.675623Z",
     "iopub.status.idle": "2025-10-12T06:02:23.754625Z",
     "shell.execute_reply": "2025-10-12T06:02:23.753113Z"
    },
    "id": "sBm7rfFUyePJ",
    "papermill": {
     "duration": 128.238158,
     "end_time": "2025-10-12T06:02:23.910134",
     "exception": false,
     "start_time": "2025-10-12T06:00:15.671976",
     "status": "completed"
    },
    "tags": []
   },
   "outputs": [
    {
     "name": "stdout",
     "output_type": "stream",
     "text": [
      "\n",
      " Done 2025-10-12\n",
      "\n"
     ]
    }
   ],
   "source": [
    "for dt in need_process:\n",
    "  df = pl.scan_parquet(f\"az://adjuststbuatprocessed/live/processing/dt={dt}/*.parquet\", storage_options=storage_options,glob=True).with_columns(pl.lit(dt).alias(\"dt\"))\n",
    "  df.sink_parquet(f\"az://adjuststbuatprocessed/live/output/{dt}.parquet\", storage_options=storage_options, compression=\"snappy\")\n",
    "  print(f'\\n Done {dt}\\n')"
   ]
  }
 ],
 "metadata": {
  "colab": {
   "authorship_tag": "ABX9TyOfzO6uvqUX+Tt89Y73G9E8",
   "include_colab_link": true,
   "provenance": []
  },
  "kernelspec": {
   "display_name": "Python 3",
   "name": "python3"
  },
  "language_info": {
   "codemirror_mode": {
    "name": "ipython",
    "version": 3
   },
   "file_extension": ".py",
   "mimetype": "text/x-python",
   "name": "python",
   "nbconvert_exporter": "python",
   "pygments_lexer": "ipython3",
   "version": "3.11.13"
  },
  "papermill": {
   "default_parameters": {},
   "duration": 306.737525,
   "end_time": "2025-10-12T06:02:25.010073",
   "environment_variables": {},
   "exception": null,
   "input_path": "notebooks/ADJUST_JOB.ipynb",
   "output_path": "outputs/ADJUST_JOB_2025-10-12.ipynb",
   "parameters": {
    "RUN_DATE": "2025-10-12"
   },
   "start_time": "2025-10-12T05:57:18.272548",
   "version": "2.6.0"
  }
 },
 "nbformat": 4,
 "nbformat_minor": 5
}