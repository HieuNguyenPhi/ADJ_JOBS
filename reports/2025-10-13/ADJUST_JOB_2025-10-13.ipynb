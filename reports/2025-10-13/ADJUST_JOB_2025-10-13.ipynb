{
 "cells": [
  {
   "cell_type": "code",
   "execution_count": 1,
   "id": "73e9bd61",
   "metadata": {
    "execution": {
     "iopub.execute_input": "2025-10-13T08:17:56.773564Z",
     "iopub.status.busy": "2025-10-13T08:17:56.773314Z",
     "iopub.status.idle": "2025-10-13T08:17:56.778289Z",
     "shell.execute_reply": "2025-10-13T08:17:56.777826Z"
    },
    "papermill": {
     "duration": 0.009265,
     "end_time": "2025-10-13T08:17:56.779161",
     "exception": false,
     "start_time": "2025-10-13T08:17:56.769896",
     "status": "completed"
    },
    "tags": [
     "injected-parameters"
    ]
   },
   "outputs": [],
   "source": [
    "# Parameters\n",
    "RUN_DATE = \"2025-10-13\"\n"
   ]
  },
  {
   "cell_type": "markdown",
   "id": "73a8c7a3",
   "metadata": {
    "colab_type": "text",
    "id": "view-in-github",
    "papermill": {
     "duration": 0.001859,
     "end_time": "2025-10-13T08:17:56.783223",
     "exception": false,
     "start_time": "2025-10-13T08:17:56.781364",
     "status": "completed"
    },
    "tags": []
   },
   "source": [
    "<a href=\"https://colab.research.google.com/github/HieuNguyenPhi/ADJ_JOBS/blob/main/notebooks/ADJUST_JOB.ipynb\" target=\"_parent\"><img src=\"https://colab.research.google.com/assets/colab-badge.svg\" alt=\"Open In Colab\"/></a>"
   ]
  },
  {
   "cell_type": "markdown",
   "id": "8b708b67",
   "metadata": {
    "papermill": {
     "duration": 0.001804,
     "end_time": "2025-10-13T08:17:56.786903",
     "exception": false,
     "start_time": "2025-10-13T08:17:56.785099",
     "status": "completed"
    },
    "tags": []
   },
   "source": [
    "# UAT"
   ]
  },
  {
   "cell_type": "code",
   "execution_count": 2,
   "id": "dba1c8c6",
   "metadata": {
    "execution": {
     "iopub.execute_input": "2025-10-13T08:17:56.792203Z",
     "iopub.status.busy": "2025-10-13T08:17:56.791980Z",
     "iopub.status.idle": "2025-10-13T08:18:03.619050Z",
     "shell.execute_reply": "2025-10-13T08:18:03.618551Z"
    },
    "id": "ycUR2r1dq1Nm",
    "papermill": {
     "duration": 6.831163,
     "end_time": "2025-10-13T08:18:03.619936",
     "exception": false,
     "start_time": "2025-10-13T08:17:56.788773",
     "status": "completed"
    },
    "tags": []
   },
   "outputs": [
    {
     "data": {
      "text/plain": [
       "['2025-10-12T150000',\n",
       " '2025-10-12T160000',\n",
       " '2025-10-12T170000',\n",
       " '2025-10-12T180000',\n",
       " '2025-10-13T000000']"
      ]
     },
     "execution_count": 2,
     "metadata": {},
     "output_type": "execute_result"
    }
   ],
   "source": [
    "import os\n",
    "from azure.storage.blob import BlobServiceClient\n",
    "\n",
    "account_name = os.getenv('ACCOUNT_NAME')\n",
    "account_key = os.getenv('ACCOUNT_KEY')\n",
    "# Replace with your Azure Storage account name and SAS token or connection string\n",
    "connect_str = f\"DefaultEndpointsProtocol=https;AccountName={account_name};AccountKey={account_key};EndpointSuffix=core.windows.net\"\n",
    "blob_service_client = BlobServiceClient.from_connection_string(connect_str)\n",
    "container_list = blob_service_client.list_containers()\n",
    "container_name = \"adjuststbuatprocessed\" #os.getenv('CONTAINER_NAME')\n",
    "container_client = blob_service_client.get_container_client(container_name)\n",
    "# already_processed = [file.name.split('/')[1].split('.')[0] for file in container_client.list_blobs() if file.name.split('/')[0] == 'output']\n",
    "# already_processed[-5:]\n",
    "already_processed_ts = sorted([file.name.split('/')[-1].split(\".\")[0] for file in container_client.list_blobs() if file.name.split('/')[0] == 'processing'])\n",
    "already_processed_ts[-5:]"
   ]
  },
  {
   "cell_type": "code",
   "execution_count": 3,
   "id": "505291a1",
   "metadata": {
    "execution": {
     "iopub.execute_input": "2025-10-13T08:18:03.625129Z",
     "iopub.status.busy": "2025-10-13T08:18:03.624871Z",
     "iopub.status.idle": "2025-10-13T08:18:12.091803Z",
     "shell.execute_reply": "2025-10-13T08:18:12.091254Z"
    },
    "id": "xyPuVC12s7fn",
    "papermill": {
     "duration": 8.470528,
     "end_time": "2025-10-13T08:18:12.092828",
     "exception": false,
     "start_time": "2025-10-13T08:18:03.622300",
     "status": "completed"
    },
    "tags": []
   },
   "outputs": [
    {
     "data": {
      "text/plain": [
       "['rsh20bkkb4zk_2025-10-13T070000_762c775ae454d23f2c6b6a75623d14c7_2853a0.csv.gz',\n",
       " 'rsh20bkkb4zk_2025-10-13T070000_762c775ae454d23f2c6b6a75623d14c7_2853a1.csv.gz',\n",
       " 'rsh20bkkb4zk_2025-10-13T070000_762c775ae454d23f2c6b6a75623d14c7_be8220.csv.gz',\n",
       " 'rsh20bkkb4zk_2025-10-13T070000_762c775ae454d23f2c6b6a75623d14c7_be8221.csv.gz',\n",
       " 'rsh20bkkb4zk_2025-10-13T070000_762c775ae454d23f2c6b6a75623d14c7_c35750.csv.gz',\n",
       " 'rsh20bkkb4zk_2025-10-13T070000_762c775ae454d23f2c6b6a75623d14c7_c35751.csv.gz']"
      ]
     },
     "execution_count": 3,
     "metadata": {},
     "output_type": "execute_result"
    }
   ],
   "source": [
    "container_name_uat = \"adjuststbuat\"\n",
    "container_client_uat = blob_service_client.get_container_client(container_name_uat)\n",
    "from collections import defaultdict\n",
    "files = [i.name for i in container_client_uat.list_blobs()]\n",
    "groups = defaultdict(list)\n",
    "for f in files:\n",
    "    dt = f.split('_')[1]\n",
    "    groups[dt].append(f)\n",
    "groups[dt]"
   ]
  },
  {
   "cell_type": "code",
   "execution_count": 4,
   "id": "8846e48c",
   "metadata": {
    "execution": {
     "iopub.execute_input": "2025-10-13T08:18:12.098712Z",
     "iopub.status.busy": "2025-10-13T08:18:12.098509Z",
     "iopub.status.idle": "2025-10-13T08:18:12.101078Z",
     "shell.execute_reply": "2025-10-13T08:18:12.100621Z"
    },
    "papermill": {
     "duration": 0.006558,
     "end_time": "2025-10-13T08:18:12.101907",
     "exception": false,
     "start_time": "2025-10-13T08:18:12.095349",
     "status": "completed"
    },
    "tags": []
   },
   "outputs": [],
   "source": [
    "# from datetime import date, timedelta, datetime\n",
    "# import pandas as pd\n",
    "# today = date.today().strftime('%Y-%m-%d')\n",
    "# yesterday = (date.today() - timedelta(days = 1) ).strftime('%Y-%m-%d')\n",
    "# check_date = dt.split(\"T\")[0]\n",
    "# if check_date == today:\n",
    "#     need_process = pd.date_range(start=already_processed[-1], end=today).strftime('%Y-%m-%d').to_list()\n",
    "# else:\n",
    "#     need_process = pd.date_range(start=already_processed[-1], end=yesterday).strftime('%Y-%m-%d').to_list()\n",
    "# need_process"
   ]
  },
  {
   "cell_type": "code",
   "execution_count": 5,
   "id": "2c969114",
   "metadata": {
    "execution": {
     "iopub.execute_input": "2025-10-13T08:18:12.107351Z",
     "iopub.status.busy": "2025-10-13T08:18:12.107146Z",
     "iopub.status.idle": "2025-10-13T08:18:12.534585Z",
     "shell.execute_reply": "2025-10-13T08:18:12.533942Z"
    },
    "papermill": {
     "duration": 0.431262,
     "end_time": "2025-10-13T08:18:12.535493",
     "exception": false,
     "start_time": "2025-10-13T08:18:12.104231",
     "status": "completed"
    },
    "tags": []
   },
   "outputs": [
    {
     "data": {
      "text/plain": [
       "['2025-10-12T180000',\n",
       " '2025-10-12T190000',\n",
       " '2025-10-12T200000',\n",
       " '2025-10-12T210000',\n",
       " '2025-10-12T220000',\n",
       " '2025-10-12T230000',\n",
       " '2025-10-13T000000',\n",
       " '2025-10-13T010000',\n",
       " '2025-10-13T020000',\n",
       " '2025-10-13T030000',\n",
       " '2025-10-13T040000',\n",
       " '2025-10-13T050000',\n",
       " '2025-10-13T060000',\n",
       " '2025-10-13T070000']"
      ]
     },
     "execution_count": 5,
     "metadata": {},
     "output_type": "execute_result"
    }
   ],
   "source": [
    "from datetime import datetime\n",
    "import pandas as pd\n",
    "B = datetime.strptime(dt, \"%Y-%m-%dT%H0000\")\n",
    "A = datetime.strptime(already_processed_ts[-2], \"%Y-%m-%dT%H0000\")\n",
    "need_process_ts =  pd.date_range(A, B, freq='h').strftime('%Y-%m-%dT%H0000').tolist()\n",
    "need_process_ts"
   ]
  },
  {
   "cell_type": "code",
   "execution_count": 6,
   "id": "455f3241",
   "metadata": {
    "execution": {
     "iopub.execute_input": "2025-10-13T08:18:12.541400Z",
     "iopub.status.busy": "2025-10-13T08:18:12.541149Z",
     "iopub.status.idle": "2025-10-13T08:19:33.602041Z",
     "shell.execute_reply": "2025-10-13T08:19:33.601495Z"
    },
    "papermill": {
     "duration": 81.064867,
     "end_time": "2025-10-13T08:19:33.602846",
     "exception": false,
     "start_time": "2025-10-13T08:18:12.537979",
     "status": "completed"
    },
    "tags": []
   },
   "outputs": [
    {
     "name": "stderr",
     "output_type": "stream",
     "text": [
      "\r",
      "  0%|          | 0/1930 [00:00<?, ?it/s]"
     ]
    },
    {
     "name": "stderr",
     "output_type": "stream",
     "text": [
      "\r",
      "100%|█████████▉| 1922/1930 [00:10<00:00, 188.42it/s]"
     ]
    },
    {
     "name": "stdout",
     "output_type": "stream",
     "text": [
      "Done dt=2025-10-12/2025-10-12T180000.parquet\n"
     ]
    },
    {
     "name": "stdout",
     "output_type": "stream",
     "text": [
      "Done dt=2025-10-13/2025-10-13T000000.parquet\n"
     ]
    },
    {
     "name": "stdout",
     "output_type": "stream",
     "text": [
      "Done dt=2025-10-13/2025-10-13T010000.parquet\n"
     ]
    },
    {
     "name": "stderr",
     "output_type": "stream",
     "text": [
      "\r",
      "100%|█████████▉| 1922/1930 [00:29<00:00, 188.42it/s]"
     ]
    },
    {
     "name": "stderr",
     "output_type": "stream",
     "text": [
      "\r",
      "100%|█████████▉| 1925/1930 [00:36<00:00, 39.93it/s] "
     ]
    },
    {
     "name": "stdout",
     "output_type": "stream",
     "text": [
      "Done dt=2025-10-13/2025-10-13T020000.parquet\n"
     ]
    },
    {
     "name": "stderr",
     "output_type": "stream",
     "text": [
      "\r",
      "100%|█████████▉| 1926/1930 [00:45<00:00, 29.37it/s]"
     ]
    },
    {
     "name": "stdout",
     "output_type": "stream",
     "text": [
      "Done dt=2025-10-13/2025-10-13T030000.parquet\n"
     ]
    },
    {
     "name": "stderr",
     "output_type": "stream",
     "text": [
      "\r",
      "100%|█████████▉| 1927/1930 [00:54<00:00, 20.79it/s]"
     ]
    },
    {
     "name": "stdout",
     "output_type": "stream",
     "text": [
      "Done dt=2025-10-13/2025-10-13T040000.parquet\n"
     ]
    },
    {
     "name": "stderr",
     "output_type": "stream",
     "text": [
      "\r",
      "100%|█████████▉| 1928/1930 [01:03<00:00, 14.85it/s]"
     ]
    },
    {
     "name": "stdout",
     "output_type": "stream",
     "text": [
      "Done dt=2025-10-13/2025-10-13T050000.parquet\n"
     ]
    },
    {
     "name": "stderr",
     "output_type": "stream",
     "text": [
      "\r",
      "100%|█████████▉| 1929/1930 [01:12<00:00, 10.63it/s]"
     ]
    },
    {
     "name": "stdout",
     "output_type": "stream",
     "text": [
      "Done dt=2025-10-13/2025-10-13T060000.parquet\n"
     ]
    },
    {
     "name": "stderr",
     "output_type": "stream",
     "text": [
      "\r",
      "100%|██████████| 1930/1930 [01:20<00:00,  7.66it/s]"
     ]
    },
    {
     "name": "stderr",
     "output_type": "stream",
     "text": [
      "\r",
      "100%|██████████| 1930/1930 [01:20<00:00, 23.84it/s]"
     ]
    },
    {
     "name": "stdout",
     "output_type": "stream",
     "text": [
      "Done dt=2025-10-13/2025-10-13T070000.parquet\n"
     ]
    },
    {
     "name": "stderr",
     "output_type": "stream",
     "text": [
      "\n"
     ]
    }
   ],
   "source": [
    "import polars as pl \n",
    "from tqdm import tqdm\n",
    "storage_options = {\n",
    "    \"account_name\": account_name,\n",
    "    \"account_key\":  account_key,\n",
    "}\n",
    "\n",
    "for ts, files in tqdm(groups.items()):\n",
    "    if ts not in need_process_ts:\n",
    "        continue\n",
    "    dt = ts[:10]\n",
    "    # if dt not in need_process:\n",
    "    #     continue\n",
    "    df = pl.scan_csv(f\"az://adjuststbuat/*_{ts}_*.csv.gz\", storage_options = storage_options,glob=True, has_header = True, null_values = [\"\",\"NULL\"], ignore_errors=True).select(pl.all().cast(pl.Utf8))\n",
    "    df.sink_parquet(f\"az://adjuststbuatprocessed/processing/dt={dt}/{ts}.parquet\", storage_options = storage_options, compression=\"snappy\")\n",
    "    print(f'Done dt={dt}/{ts}.parquet')\n",
    "        "
   ]
  },
  {
   "cell_type": "code",
   "execution_count": 7,
   "id": "49ed4ede",
   "metadata": {
    "execution": {
     "iopub.execute_input": "2025-10-13T08:19:33.609878Z",
     "iopub.status.busy": "2025-10-13T08:19:33.609702Z",
     "iopub.status.idle": "2025-10-13T08:19:33.613640Z",
     "shell.execute_reply": "2025-10-13T08:19:33.613066Z"
    },
    "papermill": {
     "duration": 0.008369,
     "end_time": "2025-10-13T08:19:33.614562",
     "exception": false,
     "start_time": "2025-10-13T08:19:33.606193",
     "status": "completed"
    },
    "tags": []
   },
   "outputs": [
    {
     "data": {
      "text/plain": [
       "{'2025-10-12', '2025-10-13'}"
      ]
     },
     "execution_count": 7,
     "metadata": {},
     "output_type": "execute_result"
    }
   ],
   "source": [
    "need_process = set([i.split(\"T\")[0] for i in need_process_ts])\n",
    "need_process"
   ]
  },
  {
   "cell_type": "code",
   "execution_count": 8,
   "id": "8623fb97",
   "metadata": {
    "execution": {
     "iopub.execute_input": "2025-10-13T08:19:33.621380Z",
     "iopub.status.busy": "2025-10-13T08:19:33.621211Z",
     "iopub.status.idle": "2025-10-13T08:19:41.016457Z",
     "shell.execute_reply": "2025-10-13T08:19:41.015939Z"
    },
    "papermill": {
     "duration": 7.399603,
     "end_time": "2025-10-13T08:19:41.017326",
     "exception": false,
     "start_time": "2025-10-13T08:19:33.617723",
     "status": "completed"
    },
    "tags": []
   },
   "outputs": [
    {
     "name": "stdout",
     "output_type": "stream",
     "text": [
      "\n",
      " Done 2025-10-12\n",
      "\n"
     ]
    },
    {
     "name": "stdout",
     "output_type": "stream",
     "text": [
      "\n",
      " Done 2025-10-13\n",
      "\n"
     ]
    }
   ],
   "source": [
    "for dt in need_process:\n",
    "  df = pl.scan_parquet(f\"az://adjuststbuatprocessed/processing/dt={dt}/*.parquet\", storage_options=storage_options,glob=True).with_columns(pl.lit(dt).alias(\"dt\"))\n",
    "  df.sink_parquet(f\"az://adjuststbuatprocessed/output/{dt}.parquet\", storage_options=storage_options, compression=\"snappy\")\n",
    "  print(f'\\n Done {dt}\\n')"
   ]
  },
  {
   "cell_type": "markdown",
   "id": "38a470cb",
   "metadata": {
    "id": "2TvKr29qyJd_",
    "papermill": {
     "duration": 0.00325,
     "end_time": "2025-10-13T08:19:41.024019",
     "exception": false,
     "start_time": "2025-10-13T08:19:41.020769",
     "status": "completed"
    },
    "tags": []
   },
   "source": [
    "# Live"
   ]
  },
  {
   "cell_type": "code",
   "execution_count": 9,
   "id": "40fd9cce",
   "metadata": {
    "execution": {
     "iopub.execute_input": "2025-10-13T08:19:41.031311Z",
     "iopub.status.busy": "2025-10-13T08:19:41.031046Z",
     "iopub.status.idle": "2025-10-13T08:19:45.258953Z",
     "shell.execute_reply": "2025-10-13T08:19:45.258445Z"
    },
    "id": "EnaFsdZFxpwc",
    "papermill": {
     "duration": 4.232582,
     "end_time": "2025-10-13T08:19:45.259818",
     "exception": false,
     "start_time": "2025-10-13T08:19:41.027236",
     "status": "completed"
    },
    "tags": []
   },
   "outputs": [
    {
     "data": {
      "text/plain": [
       "['2025-10-12T210000',\n",
       " '2025-10-12T220000',\n",
       " '2025-10-12T230000',\n",
       " '2025-10-13T000000',\n",
       " '2025-10-13T010000']"
      ]
     },
     "execution_count": 9,
     "metadata": {},
     "output_type": "execute_result"
    }
   ],
   "source": [
    "# already_processed = [file.name.split('/')[-1].split('.')[0] for file in container_client.list_blobs() if file.name[:12] == 'live/output/']\n",
    "# already_processed[-5:]\n",
    "already_processed_ts = sorted([file.name.split('/')[-1].split(\".\")[0] for file in container_client.list_blobs() if (file.name.split('/')[0] + \"/\" + file.name.split('/')[1]) == 'live/processing'])\n",
    "already_processed_ts[-5:]"
   ]
  },
  {
   "cell_type": "code",
   "execution_count": 10,
   "id": "1a92607e",
   "metadata": {
    "execution": {
     "iopub.execute_input": "2025-10-13T08:19:45.267369Z",
     "iopub.status.busy": "2025-10-13T08:19:45.267173Z",
     "iopub.status.idle": "2025-10-13T08:19:57.388629Z",
     "shell.execute_reply": "2025-10-13T08:19:57.388123Z"
    },
    "id": "I7Er6YEUyOsL",
    "papermill": {
     "duration": 12.126118,
     "end_time": "2025-10-13T08:19:57.389512",
     "exception": false,
     "start_time": "2025-10-13T08:19:45.263394",
     "status": "completed"
    },
    "tags": []
   },
   "outputs": [
    {
     "data": {
      "text/plain": [
       "['65n1fgov4zr4_2025-10-13T060000_762c775ae454d23f2c6b6a75623d14c7_2853a0.csv.gz',\n",
       " '65n1fgov4zr4_2025-10-13T060000_762c775ae454d23f2c6b6a75623d14c7_2853a1.csv.gz',\n",
       " '65n1fgov4zr4_2025-10-13T060000_762c775ae454d23f2c6b6a75623d14c7_be8220.csv.gz',\n",
       " '65n1fgov4zr4_2025-10-13T060000_762c775ae454d23f2c6b6a75623d14c7_be8221.csv.gz',\n",
       " '65n1fgov4zr4_2025-10-13T060000_762c775ae454d23f2c6b6a75623d14c7_c35750.csv.gz',\n",
       " '65n1fgov4zr4_2025-10-13T060000_762c775ae454d23f2c6b6a75623d14c7_c35751.csv.gz']"
      ]
     },
     "execution_count": 10,
     "metadata": {},
     "output_type": "execute_result"
    }
   ],
   "source": [
    "container_name_uat = \"adjuststblive\"\n",
    "container_client_uat = blob_service_client.get_container_client(container_name_uat)\n",
    "from collections import defaultdict\n",
    "files = [i.name for i in container_client_uat.list_blobs()]\n",
    "groups = defaultdict(list)\n",
    "for f in files:\n",
    "    dt = f.split('_')[1]\n",
    "    groups[dt].append(f)\n",
    "groups[dt]"
   ]
  },
  {
   "cell_type": "code",
   "execution_count": 11,
   "id": "2d5f6b7f",
   "metadata": {
    "execution": {
     "iopub.execute_input": "2025-10-13T08:19:57.397328Z",
     "iopub.status.busy": "2025-10-13T08:19:57.397153Z",
     "iopub.status.idle": "2025-10-13T08:19:57.401996Z",
     "shell.execute_reply": "2025-10-13T08:19:57.401435Z"
    },
    "papermill": {
     "duration": 0.009538,
     "end_time": "2025-10-13T08:19:57.402772",
     "exception": false,
     "start_time": "2025-10-13T08:19:57.393234",
     "status": "completed"
    },
    "tags": []
   },
   "outputs": [
    {
     "data": {
      "text/plain": [
       "['2025-10-13T010000',\n",
       " '2025-10-13T020000',\n",
       " '2025-10-13T030000',\n",
       " '2025-10-13T040000',\n",
       " '2025-10-13T050000',\n",
       " '2025-10-13T060000']"
      ]
     },
     "execution_count": 11,
     "metadata": {},
     "output_type": "execute_result"
    }
   ],
   "source": [
    "# need_process = pd.date_range(start=already_processed[-1], end=today).strftime('%Y-%m-%d').to_list()\n",
    "# need_process\n",
    "\n",
    "B = datetime.strptime(dt, \"%Y-%m-%dT%H0000\")\n",
    "A = datetime.strptime(already_processed_ts[-1], \"%Y-%m-%dT%H0000\")\n",
    "need_process_ts =  pd.date_range(A, B, freq='h').strftime('%Y-%m-%dT%H0000').tolist()\n",
    "need_process_ts"
   ]
  },
  {
   "cell_type": "code",
   "execution_count": 12,
   "id": "4b7392c5",
   "metadata": {
    "execution": {
     "iopub.execute_input": "2025-10-13T08:19:57.410271Z",
     "iopub.status.busy": "2025-10-13T08:19:57.410034Z",
     "iopub.status.idle": "2025-10-13T08:26:35.265362Z",
     "shell.execute_reply": "2025-10-13T08:26:35.264771Z"
    },
    "id": "g-W3s2nRyRY7",
    "papermill": {
     "duration": 397.86271,
     "end_time": "2025-10-13T08:26:35.268938",
     "exception": false,
     "start_time": "2025-10-13T08:19:57.406228",
     "status": "completed"
    },
    "tags": []
   },
   "outputs": [
    {
     "name": "stderr",
     "output_type": "stream",
     "text": [
      "\r",
      "  0%|          | 0/1941 [00:00<?, ?it/s]"
     ]
    },
    {
     "name": "stderr",
     "output_type": "stream",
     "text": [
      "\r",
      "100%|█████████▉| 1936/1941 [01:00<00:00, 31.94it/s]"
     ]
    },
    {
     "name": "stdout",
     "output_type": "stream",
     "text": [
      "Done dt=2025-10-13/2025-10-13T010000.parquet\n"
     ]
    },
    {
     "name": "stderr",
     "output_type": "stream",
     "text": [
      "\r",
      "100%|█████████▉| 1936/1941 [01:15<00:00, 31.94it/s]"
     ]
    },
    {
     "name": "stderr",
     "output_type": "stream",
     "text": [
      "\r",
      "100%|█████████▉| 1937/1941 [01:48<00:00, 15.00it/s]"
     ]
    },
    {
     "name": "stdout",
     "output_type": "stream",
     "text": [
      "Done dt=2025-10-13/2025-10-13T020000.parquet\n"
     ]
    },
    {
     "name": "stderr",
     "output_type": "stream",
     "text": [
      "\r",
      "100%|█████████▉| 1938/1941 [02:47<00:00,  7.75it/s]"
     ]
    },
    {
     "name": "stdout",
     "output_type": "stream",
     "text": [
      "Done dt=2025-10-13/2025-10-13T030000.parquet\n"
     ]
    },
    {
     "name": "stderr",
     "output_type": "stream",
     "text": [
      "\r",
      "100%|█████████▉| 1939/1941 [04:01<00:00,  4.18it/s]"
     ]
    },
    {
     "name": "stdout",
     "output_type": "stream",
     "text": [
      "Done dt=2025-10-13/2025-10-13T040000.parquet\n"
     ]
    },
    {
     "name": "stderr",
     "output_type": "stream",
     "text": [
      "\r",
      "100%|█████████▉| 1940/1941 [05:13<00:00,  2.55it/s]"
     ]
    },
    {
     "name": "stdout",
     "output_type": "stream",
     "text": [
      "Done dt=2025-10-13/2025-10-13T050000.parquet\n"
     ]
    },
    {
     "name": "stderr",
     "output_type": "stream",
     "text": [
      "\r",
      "100%|██████████| 1941/1941 [06:37<00:00,  1.54it/s]"
     ]
    },
    {
     "name": "stderr",
     "output_type": "stream",
     "text": [
      "\r",
      "100%|██████████| 1941/1941 [06:37<00:00,  4.88it/s]"
     ]
    },
    {
     "name": "stdout",
     "output_type": "stream",
     "text": [
      "Done dt=2025-10-13/2025-10-13T060000.parquet\n"
     ]
    },
    {
     "name": "stderr",
     "output_type": "stream",
     "text": [
      "\n"
     ]
    }
   ],
   "source": [
    "storage_options = {\n",
    "    \"account_name\": account_name,\n",
    "    \"account_key\":  account_key,\n",
    "}\n",
    "\n",
    "for ts, files in tqdm(groups.items()):\n",
    "    if ts not in need_process_ts: continue\n",
    "    dt = ts[:10]\n",
    "    # if dt not in need_process:\n",
    "    #     continue\n",
    "    df = pl.scan_csv(f\"az://adjuststblive/*_{ts}_*.csv.gz\", storage_options = storage_options,glob=True, has_header = True, null_values = [\"\",\"NULL\"], ignore_errors=True).select(pl.all().cast(pl.Utf8))\n",
    "    df.sink_parquet(f\"az://adjuststbuatprocessed/live/processing/dt={dt}/{ts}.parquet\", storage_options = storage_options, compression=\"snappy\")\n",
    "    print(f'Done dt={dt}/{ts}.parquet')\n",
    "        "
   ]
  },
  {
   "cell_type": "code",
   "execution_count": 13,
   "id": "1cc5b7af",
   "metadata": {
    "execution": {
     "iopub.execute_input": "2025-10-13T08:26:35.277783Z",
     "iopub.status.busy": "2025-10-13T08:26:35.277611Z",
     "iopub.status.idle": "2025-10-13T08:26:35.281626Z",
     "shell.execute_reply": "2025-10-13T08:26:35.281108Z"
    },
    "papermill": {
     "duration": 0.009329,
     "end_time": "2025-10-13T08:26:35.282463",
     "exception": false,
     "start_time": "2025-10-13T08:26:35.273134",
     "status": "completed"
    },
    "tags": []
   },
   "outputs": [
    {
     "data": {
      "text/plain": [
       "{'2025-10-13'}"
      ]
     },
     "execution_count": 13,
     "metadata": {},
     "output_type": "execute_result"
    }
   ],
   "source": [
    "need_process = set([i.split(\"T\")[0] for i in need_process_ts])\n",
    "need_process"
   ]
  },
  {
   "cell_type": "code",
   "execution_count": 14,
   "id": "1a3d63d0",
   "metadata": {
    "execution": {
     "iopub.execute_input": "2025-10-13T08:26:35.291188Z",
     "iopub.status.busy": "2025-10-13T08:26:35.290986Z",
     "iopub.status.idle": "2025-10-13T08:28:23.680522Z",
     "shell.execute_reply": "2025-10-13T08:28:23.678858Z"
    },
    "id": "sBm7rfFUyePJ",
    "papermill": {
     "duration": 108.488542,
     "end_time": "2025-10-13T08:28:23.775089",
     "exception": false,
     "start_time": "2025-10-13T08:26:35.286547",
     "status": "completed"
    },
    "tags": []
   },
   "outputs": [
    {
     "name": "stdout",
     "output_type": "stream",
     "text": [
      "\n",
      " Done 2025-10-13\n",
      "\n"
     ]
    }
   ],
   "source": [
    "for dt in need_process:\n",
    "  df = pl.scan_parquet(f\"az://adjuststbuatprocessed/live/processing/dt={dt}/*.parquet\", storage_options=storage_options,glob=True).with_columns(pl.lit(dt).alias(\"dt\"))\n",
    "  df.sink_parquet(f\"az://adjuststbuatprocessed/live/output/{dt}.parquet\", storage_options=storage_options, compression=\"snappy\")\n",
    "  print(f'\\n Done {dt}\\n')"
   ]
  }
 ],
 "metadata": {
  "colab": {
   "authorship_tag": "ABX9TyOfzO6uvqUX+Tt89Y73G9E8",
   "include_colab_link": true,
   "provenance": []
  },
  "kernelspec": {
   "display_name": "Python 3",
   "name": "python3"
  },
  "language_info": {
   "codemirror_mode": {
    "name": "ipython",
    "version": 3
   },
   "file_extension": ".py",
   "mimetype": "text/x-python",
   "name": "python",
   "nbconvert_exporter": "python",
   "pygments_lexer": "ipython3",
   "version": "3.11.13"
  },
  "papermill": {
   "default_parameters": {},
   "duration": 630.10747,
   "end_time": "2025-10-13T08:28:25.168769",
   "environment_variables": {},
   "exception": null,
   "input_path": "notebooks/ADJUST_JOB.ipynb",
   "output_path": "outputs/ADJUST_JOB_2025-10-13.ipynb",
   "parameters": {
    "RUN_DATE": "2025-10-13"
   },
   "start_time": "2025-10-13T08:17:55.061299",
   "version": "2.6.0"
  }
 },
 "nbformat": 4,
 "nbformat_minor": 5
}