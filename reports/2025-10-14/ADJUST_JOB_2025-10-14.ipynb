{
 "cells": [
  {
   "cell_type": "code",
   "execution_count": 1,
   "id": "8b8d5b10",
   "metadata": {
    "execution": {
     "iopub.execute_input": "2025-10-14T06:08:21.707305Z",
     "iopub.status.busy": "2025-10-14T06:08:21.707084Z",
     "iopub.status.idle": "2025-10-14T06:08:21.712490Z",
     "shell.execute_reply": "2025-10-14T06:08:21.711675Z"
    },
    "papermill": {
     "duration": 0.010866,
     "end_time": "2025-10-14T06:08:21.713100",
     "exception": false,
     "start_time": "2025-10-14T06:08:21.702234",
     "status": "completed"
    },
    "tags": [
     "injected-parameters"
    ]
   },
   "outputs": [],
   "source": [
    "# Parameters\n",
    "RUN_DATE = \"2025-10-14\"\n"
   ]
  },
  {
   "cell_type": "markdown",
   "id": "eb5b8fb4",
   "metadata": {
    "colab_type": "text",
    "id": "view-in-github",
    "papermill": {
     "duration": 0.001909,
     "end_time": "2025-10-14T06:08:21.717405",
     "exception": false,
     "start_time": "2025-10-14T06:08:21.715496",
     "status": "completed"
    },
    "tags": []
   },
   "source": [
    "<a href=\"https://colab.research.google.com/github/HieuNguyenPhi/ADJ_JOBS/blob/main/notebooks/ADJUST_JOB.ipynb\" target=\"_parent\"><img src=\"https://colab.research.google.com/assets/colab-badge.svg\" alt=\"Open In Colab\"/></a>"
   ]
  },
  {
   "cell_type": "markdown",
   "id": "2c3fd4e3",
   "metadata": {
    "papermill": {
     "duration": 0.001925,
     "end_time": "2025-10-14T06:08:21.721448",
     "exception": false,
     "start_time": "2025-10-14T06:08:21.719523",
     "status": "completed"
    },
    "tags": []
   },
   "source": [
    "# UAT"
   ]
  },
  {
   "cell_type": "code",
   "execution_count": 2,
   "id": "2567d75d",
   "metadata": {
    "execution": {
     "iopub.execute_input": "2025-10-14T06:08:21.727254Z",
     "iopub.status.busy": "2025-10-14T06:08:21.727056Z",
     "iopub.status.idle": "2025-10-14T06:08:28.243811Z",
     "shell.execute_reply": "2025-10-14T06:08:28.243040Z"
    },
    "id": "ycUR2r1dq1Nm",
    "papermill": {
     "duration": 6.521449,
     "end_time": "2025-10-14T06:08:28.244809",
     "exception": false,
     "start_time": "2025-10-14T06:08:21.723360",
     "status": "completed"
    },
    "tags": []
   },
   "outputs": [
    {
     "data": {
      "text/plain": [
       "['2025-10-13T220000',\n",
       " '2025-10-13T230000',\n",
       " '2025-10-14T010000',\n",
       " '2025-10-14T020000',\n",
       " '2025-10-14T030000']"
      ]
     },
     "execution_count": 2,
     "metadata": {},
     "output_type": "execute_result"
    }
   ],
   "source": [
    "import os\n",
    "from azure.storage.blob import BlobServiceClient\n",
    "\n",
    "account_name = os.getenv('ACCOUNT_NAME')\n",
    "account_key = os.getenv('ACCOUNT_KEY')\n",
    "# Replace with your Azure Storage account name and SAS token or connection string\n",
    "connect_str = f\"DefaultEndpointsProtocol=https;AccountName={account_name};AccountKey={account_key};EndpointSuffix=core.windows.net\"\n",
    "blob_service_client = BlobServiceClient.from_connection_string(connect_str)\n",
    "container_list = blob_service_client.list_containers()\n",
    "container_name = \"adjuststbuatprocessed\" #os.getenv('CONTAINER_NAME')\n",
    "container_client = blob_service_client.get_container_client(container_name)\n",
    "# already_processed = [file.name.split('/')[1].split('.')[0] for file in container_client.list_blobs() if file.name.split('/')[0] == 'output']\n",
    "# already_processed[-5:]\n",
    "already_processed_ts = sorted([file.name.split('/')[-1].split(\".\")[0] for file in container_client.list_blobs() if file.name.split('/')[0] == 'processing'])\n",
    "already_processed_ts[-5:]"
   ]
  },
  {
   "cell_type": "code",
   "execution_count": 3,
   "id": "10fdb250",
   "metadata": {
    "execution": {
     "iopub.execute_input": "2025-10-14T06:08:28.250519Z",
     "iopub.status.busy": "2025-10-14T06:08:28.250226Z",
     "iopub.status.idle": "2025-10-14T06:08:36.694423Z",
     "shell.execute_reply": "2025-10-14T06:08:36.693460Z"
    },
    "id": "xyPuVC12s7fn",
    "papermill": {
     "duration": 8.447865,
     "end_time": "2025-10-14T06:08:36.695074",
     "exception": false,
     "start_time": "2025-10-14T06:08:28.247209",
     "status": "completed"
    },
    "tags": []
   },
   "outputs": [
    {
     "data": {
      "text/plain": [
       "['rsh20bkkb4zk_2025-10-14T050000_762c775ae454d23f2c6b6a75623d14c7_2853a0.csv.gz',\n",
       " 'rsh20bkkb4zk_2025-10-14T050000_762c775ae454d23f2c6b6a75623d14c7_2853a1.csv.gz',\n",
       " 'rsh20bkkb4zk_2025-10-14T050000_762c775ae454d23f2c6b6a75623d14c7_be8220.csv.gz',\n",
       " 'rsh20bkkb4zk_2025-10-14T050000_762c775ae454d23f2c6b6a75623d14c7_be8221.csv.gz',\n",
       " 'rsh20bkkb4zk_2025-10-14T050000_762c775ae454d23f2c6b6a75623d14c7_c35750.csv.gz',\n",
       " 'rsh20bkkb4zk_2025-10-14T050000_762c775ae454d23f2c6b6a75623d14c7_c35751.csv.gz']"
      ]
     },
     "execution_count": 3,
     "metadata": {},
     "output_type": "execute_result"
    }
   ],
   "source": [
    "container_name_uat = \"adjuststbuat\"\n",
    "container_client_uat = blob_service_client.get_container_client(container_name_uat)\n",
    "from collections import defaultdict\n",
    "files = [i.name for i in container_client_uat.list_blobs()]\n",
    "groups = defaultdict(list)\n",
    "for f in files:\n",
    "    dt = f.split('_')[1]\n",
    "    groups[dt].append(f)\n",
    "groups[dt]"
   ]
  },
  {
   "cell_type": "code",
   "execution_count": 4,
   "id": "eda36411",
   "metadata": {
    "execution": {
     "iopub.execute_input": "2025-10-14T06:08:36.701004Z",
     "iopub.status.busy": "2025-10-14T06:08:36.700774Z",
     "iopub.status.idle": "2025-10-14T06:08:36.703850Z",
     "shell.execute_reply": "2025-10-14T06:08:36.703088Z"
    },
    "papermill": {
     "duration": 0.007049,
     "end_time": "2025-10-14T06:08:36.704725",
     "exception": false,
     "start_time": "2025-10-14T06:08:36.697676",
     "status": "completed"
    },
    "tags": []
   },
   "outputs": [],
   "source": [
    "# from datetime import date, timedelta, datetime\n",
    "# import pandas as pd\n",
    "# today = date.today().strftime('%Y-%m-%d')\n",
    "# yesterday = (date.today() - timedelta(days = 1) ).strftime('%Y-%m-%d')\n",
    "# check_date = dt.split(\"T\")[0]\n",
    "# if check_date == today:\n",
    "#     need_process = pd.date_range(start=already_processed[-1], end=today).strftime('%Y-%m-%d').to_list()\n",
    "# else:\n",
    "#     need_process = pd.date_range(start=already_processed[-1], end=yesterday).strftime('%Y-%m-%d').to_list()\n",
    "# need_process"
   ]
  },
  {
   "cell_type": "code",
   "execution_count": 5,
   "id": "1287307e",
   "metadata": {
    "execution": {
     "iopub.execute_input": "2025-10-14T06:08:36.710193Z",
     "iopub.status.busy": "2025-10-14T06:08:36.710020Z",
     "iopub.status.idle": "2025-10-14T06:08:37.055260Z",
     "shell.execute_reply": "2025-10-14T06:08:37.054298Z"
    },
    "papermill": {
     "duration": 0.348817,
     "end_time": "2025-10-14T06:08:37.055888",
     "exception": false,
     "start_time": "2025-10-14T06:08:36.707071",
     "status": "completed"
    },
    "tags": []
   },
   "outputs": [
    {
     "data": {
      "text/plain": [
       "['2025-10-14T020000',\n",
       " '2025-10-14T030000',\n",
       " '2025-10-14T040000',\n",
       " '2025-10-14T050000']"
      ]
     },
     "execution_count": 5,
     "metadata": {},
     "output_type": "execute_result"
    }
   ],
   "source": [
    "from datetime import datetime\n",
    "import pandas as pd\n",
    "B = datetime.strptime(dt, \"%Y-%m-%dT%H0000\")\n",
    "A = datetime.strptime(already_processed_ts[-2], \"%Y-%m-%dT%H0000\")\n",
    "need_process_ts =  pd.date_range(A, B, freq='h').strftime('%Y-%m-%dT%H0000').tolist()\n",
    "need_process_ts"
   ]
  },
  {
   "cell_type": "code",
   "execution_count": 6,
   "id": "6ab1a112",
   "metadata": {
    "execution": {
     "iopub.execute_input": "2025-10-14T06:08:37.062048Z",
     "iopub.status.busy": "2025-10-14T06:08:37.061738Z",
     "iopub.status.idle": "2025-10-14T06:09:15.827506Z",
     "shell.execute_reply": "2025-10-14T06:09:15.826684Z"
    },
    "papermill": {
     "duration": 38.769519,
     "end_time": "2025-10-14T06:09:15.828085",
     "exception": false,
     "start_time": "2025-10-14T06:08:37.058566",
     "status": "completed"
    },
    "tags": []
   },
   "outputs": [
    {
     "name": "stderr",
     "output_type": "stream",
     "text": [
      "\r",
      "  0%|          | 0/1949 [00:00<?, ?it/s]"
     ]
    },
    {
     "name": "stderr",
     "output_type": "stream",
     "text": [
      "\r",
      "100%|█████████▉| 1946/1949 [00:11<00:00, 172.81it/s]"
     ]
    },
    {
     "name": "stdout",
     "output_type": "stream",
     "text": [
      "Done dt=2025-10-14/2025-10-14T020000.parquet\n"
     ]
    },
    {
     "name": "stdout",
     "output_type": "stream",
     "text": [
      "Done dt=2025-10-14/2025-10-14T030000.parquet\n"
     ]
    },
    {
     "name": "stderr",
     "output_type": "stream",
     "text": [
      "\r",
      "100%|█████████▉| 1946/1949 [00:29<00:00, 172.81it/s]"
     ]
    },
    {
     "name": "stderr",
     "output_type": "stream",
     "text": [
      "\r",
      "100%|█████████▉| 1948/1949 [00:30<00:00, 50.90it/s] "
     ]
    },
    {
     "name": "stdout",
     "output_type": "stream",
     "text": [
      "Done dt=2025-10-14/2025-10-14T040000.parquet\n"
     ]
    },
    {
     "name": "stderr",
     "output_type": "stream",
     "text": [
      "\r",
      "100%|██████████| 1949/1949 [00:38<00:00, 35.15it/s]"
     ]
    },
    {
     "name": "stderr",
     "output_type": "stream",
     "text": [
      "\r",
      "100%|██████████| 1949/1949 [00:38<00:00, 50.47it/s]"
     ]
    },
    {
     "name": "stdout",
     "output_type": "stream",
     "text": [
      "Done dt=2025-10-14/2025-10-14T050000.parquet\n"
     ]
    },
    {
     "name": "stderr",
     "output_type": "stream",
     "text": [
      "\n"
     ]
    }
   ],
   "source": [
    "import polars as pl \n",
    "from tqdm import tqdm\n",
    "storage_options = {\n",
    "    \"account_name\": account_name,\n",
    "    \"account_key\":  account_key,\n",
    "}\n",
    "\n",
    "for ts, files in tqdm(groups.items()):\n",
    "    if ts not in need_process_ts:\n",
    "        continue\n",
    "    dt = ts[:10]\n",
    "    # if dt not in need_process:\n",
    "    #     continue\n",
    "    df = pl.scan_csv(f\"az://adjuststbuat/*_{ts}_*.csv.gz\", storage_options = storage_options,glob=True, has_header = True, null_values = [\"\",\"NULL\"], ignore_errors=True).select(pl.all().cast(pl.Utf8))\n",
    "    df.sink_parquet(f\"az://adjuststbuatprocessed/processing/dt={dt}/{ts}.parquet\", storage_options = storage_options, compression=\"snappy\")\n",
    "    print(f'Done dt={dt}/{ts}.parquet')\n",
    "        "
   ]
  },
  {
   "cell_type": "code",
   "execution_count": 7,
   "id": "6c9680e4",
   "metadata": {
    "execution": {
     "iopub.execute_input": "2025-10-14T06:09:15.835030Z",
     "iopub.status.busy": "2025-10-14T06:09:15.834844Z",
     "iopub.status.idle": "2025-10-14T06:09:15.839066Z",
     "shell.execute_reply": "2025-10-14T06:09:15.838310Z"
    },
    "papermill": {
     "duration": 0.008493,
     "end_time": "2025-10-14T06:09:15.839670",
     "exception": false,
     "start_time": "2025-10-14T06:09:15.831177",
     "status": "completed"
    },
    "tags": []
   },
   "outputs": [
    {
     "data": {
      "text/plain": [
       "{'2025-10-14'}"
      ]
     },
     "execution_count": 7,
     "metadata": {},
     "output_type": "execute_result"
    }
   ],
   "source": [
    "need_process = set([i.split(\"T\")[0] for i in need_process_ts])\n",
    "need_process"
   ]
  },
  {
   "cell_type": "code",
   "execution_count": 8,
   "id": "3c952637",
   "metadata": {
    "execution": {
     "iopub.execute_input": "2025-10-14T06:09:15.846643Z",
     "iopub.status.busy": "2025-10-14T06:09:15.846424Z",
     "iopub.status.idle": "2025-10-14T06:09:19.384175Z",
     "shell.execute_reply": "2025-10-14T06:09:19.383294Z"
    },
    "papermill": {
     "duration": 3.541942,
     "end_time": "2025-10-14T06:09:19.384770",
     "exception": false,
     "start_time": "2025-10-14T06:09:15.842828",
     "status": "completed"
    },
    "tags": []
   },
   "outputs": [
    {
     "name": "stdout",
     "output_type": "stream",
     "text": [
      "\n",
      " Done 2025-10-14\n",
      "\n"
     ]
    }
   ],
   "source": [
    "for dt in need_process:\n",
    "  df = pl.scan_parquet(f\"az://adjuststbuatprocessed/processing/dt={dt}/*.parquet\", storage_options=storage_options,glob=True).with_columns(pl.lit(dt).alias(\"dt\"))\n",
    "  df.sink_parquet(f\"az://adjuststbuatprocessed/output/{dt}.parquet\", storage_options=storage_options, compression=\"snappy\")\n",
    "  print(f'\\n Done {dt}\\n')"
   ]
  },
  {
   "cell_type": "markdown",
   "id": "97d3495e",
   "metadata": {
    "id": "2TvKr29qyJd_",
    "papermill": {
     "duration": 0.002868,
     "end_time": "2025-10-14T06:09:19.390834",
     "exception": false,
     "start_time": "2025-10-14T06:09:19.387966",
     "status": "completed"
    },
    "tags": []
   },
   "source": [
    "# Live"
   ]
  },
  {
   "cell_type": "code",
   "execution_count": 9,
   "id": "2f68bd76",
   "metadata": {
    "execution": {
     "iopub.execute_input": "2025-10-14T06:09:19.397644Z",
     "iopub.status.busy": "2025-10-14T06:09:19.397413Z",
     "iopub.status.idle": "2025-10-14T06:09:23.578915Z",
     "shell.execute_reply": "2025-10-14T06:09:23.578126Z"
    },
    "id": "EnaFsdZFxpwc",
    "papermill": {
     "duration": 4.185877,
     "end_time": "2025-10-14T06:09:23.579565",
     "exception": false,
     "start_time": "2025-10-14T06:09:19.393688",
     "status": "completed"
    },
    "tags": []
   },
   "outputs": [
    {
     "data": {
      "text/plain": [
       "['2025-10-13T230000',\n",
       " '2025-10-14T000000',\n",
       " '2025-10-14T010000',\n",
       " '2025-10-14T020000',\n",
       " '2025-10-14T030000']"
      ]
     },
     "execution_count": 9,
     "metadata": {},
     "output_type": "execute_result"
    }
   ],
   "source": [
    "# already_processed = [file.name.split('/')[-1].split('.')[0] for file in container_client.list_blobs() if file.name[:12] == 'live/output/']\n",
    "# already_processed[-5:]\n",
    "already_processed_ts = sorted([file.name.split('/')[-1].split(\".\")[0] for file in container_client.list_blobs() if (file.name.split('/')[0] + \"/\" + file.name.split('/')[1]) == 'live/processing'])\n",
    "already_processed_ts[-5:]"
   ]
  },
  {
   "cell_type": "code",
   "execution_count": 10,
   "id": "2a41de22",
   "metadata": {
    "execution": {
     "iopub.execute_input": "2025-10-14T06:09:23.587007Z",
     "iopub.status.busy": "2025-10-14T06:09:23.586819Z",
     "iopub.status.idle": "2025-10-14T06:09:35.764682Z",
     "shell.execute_reply": "2025-10-14T06:09:35.763852Z"
    },
    "id": "I7Er6YEUyOsL",
    "papermill": {
     "duration": 12.182362,
     "end_time": "2025-10-14T06:09:35.765280",
     "exception": false,
     "start_time": "2025-10-14T06:09:23.582918",
     "status": "completed"
    },
    "tags": []
   },
   "outputs": [
    {
     "data": {
      "text/plain": [
       "['65n1fgov4zr4_2025-10-14T050000_762c775ae454d23f2c6b6a75623d14c7_2853a0.csv.gz',\n",
       " '65n1fgov4zr4_2025-10-14T050000_762c775ae454d23f2c6b6a75623d14c7_2853a1.csv.gz',\n",
       " '65n1fgov4zr4_2025-10-14T050000_762c775ae454d23f2c6b6a75623d14c7_be8221.csv.gz',\n",
       " '65n1fgov4zr4_2025-10-14T050000_762c775ae454d23f2c6b6a75623d14c7_c35750.csv.gz',\n",
       " '65n1fgov4zr4_2025-10-14T050000_762c775ae454d23f2c6b6a75623d14c7_c35751.csv.gz']"
      ]
     },
     "execution_count": 10,
     "metadata": {},
     "output_type": "execute_result"
    }
   ],
   "source": [
    "container_name_uat = \"adjuststblive\"\n",
    "container_client_uat = blob_service_client.get_container_client(container_name_uat)\n",
    "from collections import defaultdict\n",
    "files = [i.name for i in container_client_uat.list_blobs()]\n",
    "groups = defaultdict(list)\n",
    "for f in files:\n",
    "    dt = f.split('_')[1]\n",
    "    groups[dt].append(f)\n",
    "groups[dt]"
   ]
  },
  {
   "cell_type": "code",
   "execution_count": 11,
   "id": "79a8bd9e",
   "metadata": {
    "execution": {
     "iopub.execute_input": "2025-10-14T06:09:35.772854Z",
     "iopub.status.busy": "2025-10-14T06:09:35.772637Z",
     "iopub.status.idle": "2025-10-14T06:09:35.777792Z",
     "shell.execute_reply": "2025-10-14T06:09:35.776940Z"
    },
    "papermill": {
     "duration": 0.009657,
     "end_time": "2025-10-14T06:09:35.778335",
     "exception": false,
     "start_time": "2025-10-14T06:09:35.768678",
     "status": "completed"
    },
    "tags": []
   },
   "outputs": [
    {
     "data": {
      "text/plain": [
       "['2025-10-14T030000', '2025-10-14T040000', '2025-10-14T050000']"
      ]
     },
     "execution_count": 11,
     "metadata": {},
     "output_type": "execute_result"
    }
   ],
   "source": [
    "# need_process = pd.date_range(start=already_processed[-1], end=today).strftime('%Y-%m-%d').to_list()\n",
    "# need_process\n",
    "\n",
    "B = datetime.strptime(dt, \"%Y-%m-%dT%H0000\")\n",
    "A = datetime.strptime(already_processed_ts[-1], \"%Y-%m-%dT%H0000\")\n",
    "need_process_ts =  pd.date_range(A, B, freq='h').strftime('%Y-%m-%dT%H0000').tolist()\n",
    "need_process_ts"
   ]
  },
  {
   "cell_type": "code",
   "execution_count": 12,
   "id": "931f6a42",
   "metadata": {
    "execution": {
     "iopub.execute_input": "2025-10-14T06:09:35.785732Z",
     "iopub.status.busy": "2025-10-14T06:09:35.785543Z",
     "iopub.status.idle": "2025-10-14T06:10:51.916838Z",
     "shell.execute_reply": "2025-10-14T06:10:51.915982Z"
    },
    "id": "g-W3s2nRyRY7",
    "papermill": {
     "duration": 76.13871,
     "end_time": "2025-10-14T06:10:51.920367",
     "exception": false,
     "start_time": "2025-10-14T06:09:35.781657",
     "status": "completed"
    },
    "tags": []
   },
   "outputs": [
    {
     "name": "stderr",
     "output_type": "stream",
     "text": [
      "\r",
      "  0%|          | 0/1964 [00:00<?, ?it/s]"
     ]
    },
    {
     "name": "stderr",
     "output_type": "stream",
     "text": [
      "\r",
      "100%|█████████▉| 1962/1964 [00:26<00:00, 73.87it/s]"
     ]
    },
    {
     "name": "stdout",
     "output_type": "stream",
     "text": [
      "Done dt=2025-10-14/2025-10-14T030000.parquet\n"
     ]
    },
    {
     "name": "stderr",
     "output_type": "stream",
     "text": [
      "\r",
      "100%|█████████▉| 1962/1964 [00:41<00:00, 73.87it/s]"
     ]
    },
    {
     "name": "stderr",
     "output_type": "stream",
     "text": [
      "\r",
      "100%|█████████▉| 1963/1964 [00:51<00:00, 31.76it/s]"
     ]
    },
    {
     "name": "stdout",
     "output_type": "stream",
     "text": [
      "Done dt=2025-10-14/2025-10-14T040000.parquet\n"
     ]
    },
    {
     "name": "stderr",
     "output_type": "stream",
     "text": [
      "\r",
      "100%|██████████| 1964/1964 [01:16<00:00, 17.46it/s]"
     ]
    },
    {
     "name": "stderr",
     "output_type": "stream",
     "text": [
      "\r",
      "100%|██████████| 1964/1964 [01:16<00:00, 25.80it/s]"
     ]
    },
    {
     "name": "stdout",
     "output_type": "stream",
     "text": [
      "Done dt=2025-10-14/2025-10-14T050000.parquet\n"
     ]
    },
    {
     "name": "stderr",
     "output_type": "stream",
     "text": [
      "\n"
     ]
    }
   ],
   "source": [
    "storage_options = {\n",
    "    \"account_name\": account_name,\n",
    "    \"account_key\":  account_key,\n",
    "}\n",
    "\n",
    "for ts, files in tqdm(groups.items()):\n",
    "    if ts not in need_process_ts: continue\n",
    "    dt = ts[:10]\n",
    "    # if dt not in need_process:\n",
    "    #     continue\n",
    "    df = pl.scan_csv(f\"az://adjuststblive/*_{ts}_*.csv.gz\", storage_options = storage_options,glob=True, has_header = True, null_values = [\"\",\"NULL\"], ignore_errors=True).select(pl.all().cast(pl.Utf8))\n",
    "    df.sink_parquet(f\"az://adjuststbuatprocessed/live/processing/dt={dt}/{ts}.parquet\", storage_options = storage_options, compression=\"snappy\")\n",
    "    print(f'Done dt={dt}/{ts}.parquet')\n",
    "        "
   ]
  },
  {
   "cell_type": "code",
   "execution_count": 13,
   "id": "9946fc6f",
   "metadata": {
    "execution": {
     "iopub.execute_input": "2025-10-14T06:10:51.928699Z",
     "iopub.status.busy": "2025-10-14T06:10:51.928506Z",
     "iopub.status.idle": "2025-10-14T06:10:51.932548Z",
     "shell.execute_reply": "2025-10-14T06:10:51.931861Z"
    },
    "papermill": {
     "duration": 0.009291,
     "end_time": "2025-10-14T06:10:51.933347",
     "exception": false,
     "start_time": "2025-10-14T06:10:51.924056",
     "status": "completed"
    },
    "tags": []
   },
   "outputs": [
    {
     "data": {
      "text/plain": [
       "{'2025-10-14'}"
      ]
     },
     "execution_count": 13,
     "metadata": {},
     "output_type": "execute_result"
    }
   ],
   "source": [
    "need_process = set([i.split(\"T\")[0] for i in need_process_ts])\n",
    "need_process"
   ]
  },
  {
   "cell_type": "code",
   "execution_count": 14,
   "id": "f65cbb24",
   "metadata": {
    "execution": {
     "iopub.execute_input": "2025-10-14T06:10:51.941451Z",
     "iopub.status.busy": "2025-10-14T06:10:51.941277Z",
     "iopub.status.idle": "2025-10-14T06:11:33.927774Z",
     "shell.execute_reply": "2025-10-14T06:11:33.926890Z"
    },
    "id": "sBm7rfFUyePJ",
    "papermill": {
     "duration": 41.994794,
     "end_time": "2025-10-14T06:11:33.931760",
     "exception": false,
     "start_time": "2025-10-14T06:10:51.936966",
     "status": "completed"
    },
    "tags": []
   },
   "outputs": [
    {
     "name": "stdout",
     "output_type": "stream",
     "text": [
      "\n",
      " Done 2025-10-14\n",
      "\n"
     ]
    }
   ],
   "source": [
    "for dt in need_process:\n",
    "  df = pl.scan_parquet(f\"az://adjuststbuatprocessed/live/processing/dt={dt}/*.parquet\", storage_options=storage_options,glob=True).with_columns(pl.lit(dt).alias(\"dt\"))\n",
    "  df.sink_parquet(f\"az://adjuststbuatprocessed/live/output/{dt}.parquet\", storage_options=storage_options, compression=\"snappy\")\n",
    "  print(f'\\n Done {dt}\\n')"
   ]
  }
 ],
 "metadata": {
  "colab": {
   "authorship_tag": "ABX9TyOfzO6uvqUX+Tt89Y73G9E8",
   "include_colab_link": true,
   "provenance": []
  },
  "kernelspec": {
   "display_name": "Python 3",
   "name": "python3"
  },
  "language_info": {
   "codemirror_mode": {
    "name": "ipython",
    "version": 3
   },
   "file_extension": ".py",
   "mimetype": "text/x-python",
   "name": "python",
   "nbconvert_exporter": "python",
   "pygments_lexer": "ipython3",
   "version": "3.11.13"
  },
  "papermill": {
   "default_parameters": {},
   "duration": 194.168865,
   "end_time": "2025-10-14T06:11:34.652723",
   "environment_variables": {},
   "exception": null,
   "input_path": "notebooks/ADJUST_JOB.ipynb",
   "output_path": "outputs/ADJUST_JOB_2025-10-14.ipynb",
   "parameters": {
    "RUN_DATE": "2025-10-14"
   },
   "start_time": "2025-10-14T06:08:20.483858",
   "version": "2.6.0"
  }
 },
 "nbformat": 4,
 "nbformat_minor": 5
}