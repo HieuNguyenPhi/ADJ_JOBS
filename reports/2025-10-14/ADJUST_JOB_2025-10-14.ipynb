{
 "cells": [
  {
   "cell_type": "code",
   "execution_count": 1,
   "id": "f44d0ab2",
   "metadata": {
    "execution": {
     "iopub.execute_input": "2025-10-14T09:15:48.540902Z",
     "iopub.status.busy": "2025-10-14T09:15:48.540643Z",
     "iopub.status.idle": "2025-10-14T09:15:48.546426Z",
     "shell.execute_reply": "2025-10-14T09:15:48.545400Z"
    },
    "papermill": {
     "duration": 0.010304,
     "end_time": "2025-10-14T09:15:48.547036",
     "exception": false,
     "start_time": "2025-10-14T09:15:48.536732",
     "status": "completed"
    },
    "tags": [
     "injected-parameters"
    ]
   },
   "outputs": [],
   "source": [
    "# Parameters\n",
    "RUN_DATE = \"2025-10-14\"\n"
   ]
  },
  {
   "cell_type": "markdown",
   "id": "190afe5a",
   "metadata": {
    "colab_type": "text",
    "id": "view-in-github",
    "papermill": {
     "duration": 0.001837,
     "end_time": "2025-10-14T09:15:48.551322",
     "exception": false,
     "start_time": "2025-10-14T09:15:48.549485",
     "status": "completed"
    },
    "tags": []
   },
   "source": [
    "<a href=\"https://colab.research.google.com/github/HieuNguyenPhi/ADJ_JOBS/blob/main/notebooks/ADJUST_JOB.ipynb\" target=\"_parent\"><img src=\"https://colab.research.google.com/assets/colab-badge.svg\" alt=\"Open In Colab\"/></a>"
   ]
  },
  {
   "cell_type": "markdown",
   "id": "7ff4c27d",
   "metadata": {
    "papermill": {
     "duration": 0.001646,
     "end_time": "2025-10-14T09:15:48.554694",
     "exception": false,
     "start_time": "2025-10-14T09:15:48.553048",
     "status": "completed"
    },
    "tags": []
   },
   "source": [
    "# UAT"
   ]
  },
  {
   "cell_type": "code",
   "execution_count": 2,
   "id": "c47ba6b6",
   "metadata": {
    "execution": {
     "iopub.execute_input": "2025-10-14T09:15:48.560512Z",
     "iopub.status.busy": "2025-10-14T09:15:48.560299Z",
     "iopub.status.idle": "2025-10-14T09:15:54.428750Z",
     "shell.execute_reply": "2025-10-14T09:15:54.427866Z"
    },
    "id": "ycUR2r1dq1Nm",
    "papermill": {
     "duration": 5.87321,
     "end_time": "2025-10-14T09:15:54.429555",
     "exception": false,
     "start_time": "2025-10-14T09:15:48.556345",
     "status": "completed"
    },
    "tags": []
   },
   "outputs": [
    {
     "data": {
      "text/plain": [
       "['2025-10-14T010000',\n",
       " '2025-10-14T020000',\n",
       " '2025-10-14T030000',\n",
       " '2025-10-14T040000',\n",
       " '2025-10-14T050000']"
      ]
     },
     "execution_count": 2,
     "metadata": {},
     "output_type": "execute_result"
    }
   ],
   "source": [
    "import os\n",
    "from azure.storage.blob import BlobServiceClient\n",
    "\n",
    "account_name = os.getenv('ACCOUNT_NAME')\n",
    "account_key = os.getenv('ACCOUNT_KEY')\n",
    "# Replace with your Azure Storage account name and SAS token or connection string\n",
    "connect_str = f\"DefaultEndpointsProtocol=https;AccountName={account_name};AccountKey={account_key};EndpointSuffix=core.windows.net\"\n",
    "blob_service_client = BlobServiceClient.from_connection_string(connect_str)\n",
    "container_list = blob_service_client.list_containers()\n",
    "container_name = \"adjuststbuatprocessed\" #os.getenv('CONTAINER_NAME')\n",
    "container_client = blob_service_client.get_container_client(container_name)\n",
    "# already_processed = [file.name.split('/')[1].split('.')[0] for file in container_client.list_blobs() if file.name.split('/')[0] == 'output']\n",
    "# already_processed[-5:]\n",
    "already_processed_ts = sorted([file.name.split('/')[-1].split(\".\")[0] for file in container_client.list_blobs() if file.name.split('/')[0] == 'processing'])\n",
    "already_processed_ts[-5:]"
   ]
  },
  {
   "cell_type": "code",
   "execution_count": 3,
   "id": "85e67edd",
   "metadata": {
    "execution": {
     "iopub.execute_input": "2025-10-14T09:15:54.435427Z",
     "iopub.status.busy": "2025-10-14T09:15:54.435081Z",
     "iopub.status.idle": "2025-10-14T09:16:02.183906Z",
     "shell.execute_reply": "2025-10-14T09:16:02.183003Z"
    },
    "id": "xyPuVC12s7fn",
    "papermill": {
     "duration": 7.752867,
     "end_time": "2025-10-14T09:16:02.184833",
     "exception": false,
     "start_time": "2025-10-14T09:15:54.431966",
     "status": "completed"
    },
    "tags": []
   },
   "outputs": [
    {
     "data": {
      "text/plain": [
       "['rsh20bkkb4zk_2025-10-14T080000_762c775ae454d23f2c6b6a75623d14c7_2853a0.csv.gz',\n",
       " 'rsh20bkkb4zk_2025-10-14T080000_762c775ae454d23f2c6b6a75623d14c7_2853a1.csv.gz',\n",
       " 'rsh20bkkb4zk_2025-10-14T080000_762c775ae454d23f2c6b6a75623d14c7_be8220.csv.gz',\n",
       " 'rsh20bkkb4zk_2025-10-14T080000_762c775ae454d23f2c6b6a75623d14c7_be8221.csv.gz',\n",
       " 'rsh20bkkb4zk_2025-10-14T080000_762c775ae454d23f2c6b6a75623d14c7_c35750.csv.gz',\n",
       " 'rsh20bkkb4zk_2025-10-14T080000_762c775ae454d23f2c6b6a75623d14c7_c35751.csv.gz']"
      ]
     },
     "execution_count": 3,
     "metadata": {},
     "output_type": "execute_result"
    }
   ],
   "source": [
    "container_name_uat = \"adjuststbuat\"\n",
    "container_client_uat = blob_service_client.get_container_client(container_name_uat)\n",
    "from collections import defaultdict\n",
    "files = [i.name for i in container_client_uat.list_blobs()]\n",
    "groups = defaultdict(list)\n",
    "for f in files:\n",
    "    dt = f.split('_')[1]\n",
    "    groups[dt].append(f)\n",
    "groups[dt]"
   ]
  },
  {
   "cell_type": "code",
   "execution_count": 4,
   "id": "ec078c83",
   "metadata": {
    "execution": {
     "iopub.execute_input": "2025-10-14T09:16:02.191553Z",
     "iopub.status.busy": "2025-10-14T09:16:02.191178Z",
     "iopub.status.idle": "2025-10-14T09:16:02.194617Z",
     "shell.execute_reply": "2025-10-14T09:16:02.193880Z"
    },
    "papermill": {
     "duration": 0.00804,
     "end_time": "2025-10-14T09:16:02.195481",
     "exception": false,
     "start_time": "2025-10-14T09:16:02.187441",
     "status": "completed"
    },
    "tags": []
   },
   "outputs": [],
   "source": [
    "# from datetime import date, timedelta, datetime\n",
    "# import pandas as pd\n",
    "# today = date.today().strftime('%Y-%m-%d')\n",
    "# yesterday = (date.today() - timedelta(days = 1) ).strftime('%Y-%m-%d')\n",
    "# check_date = dt.split(\"T\")[0]\n",
    "# if check_date == today:\n",
    "#     need_process = pd.date_range(start=already_processed[-1], end=today).strftime('%Y-%m-%d').to_list()\n",
    "# else:\n",
    "#     need_process = pd.date_range(start=already_processed[-1], end=yesterday).strftime('%Y-%m-%d').to_list()\n",
    "# need_process"
   ]
  },
  {
   "cell_type": "code",
   "execution_count": 5,
   "id": "7ccf150e",
   "metadata": {
    "execution": {
     "iopub.execute_input": "2025-10-14T09:16:02.201240Z",
     "iopub.status.busy": "2025-10-14T09:16:02.201025Z",
     "iopub.status.idle": "2025-10-14T09:16:02.490327Z",
     "shell.execute_reply": "2025-10-14T09:16:02.489419Z"
    },
    "papermill": {
     "duration": 0.293148,
     "end_time": "2025-10-14T09:16:02.491045",
     "exception": false,
     "start_time": "2025-10-14T09:16:02.197897",
     "status": "completed"
    },
    "tags": []
   },
   "outputs": [
    {
     "data": {
      "text/plain": [
       "['2025-10-14T040000',\n",
       " '2025-10-14T050000',\n",
       " '2025-10-14T060000',\n",
       " '2025-10-14T070000',\n",
       " '2025-10-14T080000']"
      ]
     },
     "execution_count": 5,
     "metadata": {},
     "output_type": "execute_result"
    }
   ],
   "source": [
    "from datetime import datetime\n",
    "import pandas as pd\n",
    "B = datetime.strptime(dt, \"%Y-%m-%dT%H0000\")\n",
    "A = datetime.strptime(already_processed_ts[-2], \"%Y-%m-%dT%H0000\")\n",
    "need_process_ts =  pd.date_range(A, B, freq='h').strftime('%Y-%m-%dT%H0000').tolist()\n",
    "need_process_ts"
   ]
  },
  {
   "cell_type": "code",
   "execution_count": 6,
   "id": "fc0a5c73",
   "metadata": {
    "execution": {
     "iopub.execute_input": "2025-10-14T09:16:02.498561Z",
     "iopub.status.busy": "2025-10-14T09:16:02.497758Z",
     "iopub.status.idle": "2025-10-14T09:16:44.684434Z",
     "shell.execute_reply": "2025-10-14T09:16:44.683406Z"
    },
    "papermill": {
     "duration": 42.191327,
     "end_time": "2025-10-14T09:16:44.685048",
     "exception": false,
     "start_time": "2025-10-14T09:16:02.493721",
     "status": "completed"
    },
    "tags": []
   },
   "outputs": [
    {
     "name": "stderr",
     "output_type": "stream",
     "text": [
      "\r",
      "  0%|          | 0/1952 [00:00<?, ?it/s]"
     ]
    },
    {
     "name": "stderr",
     "output_type": "stream",
     "text": [
      "\r",
      "100%|█████████▉| 1948/1952 [00:09<00:00, 199.33it/s]"
     ]
    },
    {
     "name": "stdout",
     "output_type": "stream",
     "text": [
      "Done dt=2025-10-14/2025-10-14T040000.parquet\n"
     ]
    },
    {
     "name": "stdout",
     "output_type": "stream",
     "text": [
      "Done dt=2025-10-14/2025-10-14T050000.parquet\n"
     ]
    },
    {
     "name": "stderr",
     "output_type": "stream",
     "text": [
      "\r",
      "100%|█████████▉| 1948/1952 [00:19<00:00, 199.33it/s]"
     ]
    },
    {
     "name": "stderr",
     "output_type": "stream",
     "text": [
      "\r",
      "100%|█████████▉| 1950/1952 [00:26<00:00, 58.80it/s] "
     ]
    },
    {
     "name": "stdout",
     "output_type": "stream",
     "text": [
      "Done dt=2025-10-14/2025-10-14T060000.parquet\n"
     ]
    },
    {
     "name": "stderr",
     "output_type": "stream",
     "text": [
      "\r",
      "100%|█████████▉| 1951/1952 [00:34<00:00, 38.84it/s]"
     ]
    },
    {
     "name": "stdout",
     "output_type": "stream",
     "text": [
      "Done dt=2025-10-14/2025-10-14T070000.parquet\n"
     ]
    },
    {
     "name": "stderr",
     "output_type": "stream",
     "text": [
      "\r",
      "100%|██████████| 1952/1952 [00:42<00:00, 46.47it/s]"
     ]
    },
    {
     "name": "stdout",
     "output_type": "stream",
     "text": [
      "Done dt=2025-10-14/2025-10-14T080000.parquet\n"
     ]
    },
    {
     "name": "stderr",
     "output_type": "stream",
     "text": [
      "\n"
     ]
    }
   ],
   "source": [
    "import polars as pl \n",
    "from tqdm import tqdm\n",
    "storage_options = {\n",
    "    \"account_name\": account_name,\n",
    "    \"account_key\":  account_key,\n",
    "}\n",
    "\n",
    "for ts, files in tqdm(groups.items()):\n",
    "    if ts not in need_process_ts:\n",
    "        continue\n",
    "    dt = ts[:10]\n",
    "    # if dt not in need_process:\n",
    "    #     continue\n",
    "    df = pl.scan_csv(f\"az://adjuststbuat/*_{ts}_*.csv.gz\", storage_options = storage_options,glob=True, has_header = True, null_values = [\"\",\"NULL\"], ignore_errors=True).select(pl.all().cast(pl.Utf8))\n",
    "    df.sink_parquet(f\"az://adjuststbuatprocessed/processing/dt={dt}/{ts}.parquet\", storage_options = storage_options, compression=\"snappy\")\n",
    "    print(f'Done dt={dt}/{ts}.parquet')\n",
    "        "
   ]
  },
  {
   "cell_type": "code",
   "execution_count": 7,
   "id": "8d5fa582",
   "metadata": {
    "execution": {
     "iopub.execute_input": "2025-10-14T09:16:44.692484Z",
     "iopub.status.busy": "2025-10-14T09:16:44.692027Z",
     "iopub.status.idle": "2025-10-14T09:16:44.696718Z",
     "shell.execute_reply": "2025-10-14T09:16:44.695950Z"
    },
    "papermill": {
     "duration": 0.009338,
     "end_time": "2025-10-14T09:16:44.697392",
     "exception": false,
     "start_time": "2025-10-14T09:16:44.688054",
     "status": "completed"
    },
    "tags": []
   },
   "outputs": [
    {
     "data": {
      "text/plain": [
       "{'2025-10-14'}"
      ]
     },
     "execution_count": 7,
     "metadata": {},
     "output_type": "execute_result"
    }
   ],
   "source": [
    "need_process = set([i.split(\"T\")[0] for i in need_process_ts])\n",
    "need_process"
   ]
  },
  {
   "cell_type": "code",
   "execution_count": 8,
   "id": "08852ab5",
   "metadata": {
    "execution": {
     "iopub.execute_input": "2025-10-14T09:16:44.704471Z",
     "iopub.status.busy": "2025-10-14T09:16:44.704194Z",
     "iopub.status.idle": "2025-10-14T09:16:48.509952Z",
     "shell.execute_reply": "2025-10-14T09:16:48.508980Z"
    },
    "papermill": {
     "duration": 3.810298,
     "end_time": "2025-10-14T09:16:48.510653",
     "exception": false,
     "start_time": "2025-10-14T09:16:44.700355",
     "status": "completed"
    },
    "tags": []
   },
   "outputs": [
    {
     "name": "stdout",
     "output_type": "stream",
     "text": [
      "\n",
      " Done 2025-10-14\n",
      "\n"
     ]
    }
   ],
   "source": [
    "for dt in need_process:\n",
    "  df = pl.scan_parquet(f\"az://adjuststbuatprocessed/processing/dt={dt}/*.parquet\", storage_options=storage_options,glob=True).with_columns(pl.lit(dt).alias(\"dt\"))\n",
    "  df.sink_parquet(f\"az://adjuststbuatprocessed/output/{dt}.parquet\", storage_options=storage_options, compression=\"snappy\")\n",
    "  print(f'\\n Done {dt}\\n')"
   ]
  },
  {
   "cell_type": "markdown",
   "id": "0f362e63",
   "metadata": {
    "id": "2TvKr29qyJd_",
    "papermill": {
     "duration": 0.003807,
     "end_time": "2025-10-14T09:16:48.517592",
     "exception": false,
     "start_time": "2025-10-14T09:16:48.513785",
     "status": "completed"
    },
    "tags": []
   },
   "source": [
    "# Live"
   ]
  },
  {
   "cell_type": "code",
   "execution_count": 9,
   "id": "20515a3f",
   "metadata": {
    "execution": {
     "iopub.execute_input": "2025-10-14T09:16:48.526807Z",
     "iopub.status.busy": "2025-10-14T09:16:48.526510Z",
     "iopub.status.idle": "2025-10-14T09:16:52.310225Z",
     "shell.execute_reply": "2025-10-14T09:16:52.309403Z"
    },
    "id": "EnaFsdZFxpwc",
    "papermill": {
     "duration": 3.790052,
     "end_time": "2025-10-14T09:16:52.310832",
     "exception": false,
     "start_time": "2025-10-14T09:16:48.520780",
     "status": "completed"
    },
    "tags": []
   },
   "outputs": [
    {
     "data": {
      "text/plain": [
       "['2025-10-14T010000',\n",
       " '2025-10-14T020000',\n",
       " '2025-10-14T030000',\n",
       " '2025-10-14T040000',\n",
       " '2025-10-14T050000']"
      ]
     },
     "execution_count": 9,
     "metadata": {},
     "output_type": "execute_result"
    }
   ],
   "source": [
    "# already_processed = [file.name.split('/')[-1].split('.')[0] for file in container_client.list_blobs() if file.name[:12] == 'live/output/']\n",
    "# already_processed[-5:]\n",
    "already_processed_ts = sorted([file.name.split('/')[-1].split(\".\")[0] for file in container_client.list_blobs() if (file.name.split('/')[0] + \"/\" + file.name.split('/')[1]) == 'live/processing'])\n",
    "already_processed_ts[-5:]"
   ]
  },
  {
   "cell_type": "code",
   "execution_count": 10,
   "id": "14a765e0",
   "metadata": {
    "execution": {
     "iopub.execute_input": "2025-10-14T09:16:52.318123Z",
     "iopub.status.busy": "2025-10-14T09:16:52.317917Z",
     "iopub.status.idle": "2025-10-14T09:17:03.302675Z",
     "shell.execute_reply": "2025-10-14T09:17:03.301881Z"
    },
    "id": "I7Er6YEUyOsL",
    "papermill": {
     "duration": 10.989466,
     "end_time": "2025-10-14T09:17:03.303442",
     "exception": false,
     "start_time": "2025-10-14T09:16:52.313976",
     "status": "completed"
    },
    "tags": []
   },
   "outputs": [
    {
     "data": {
      "text/plain": [
       "['65n1fgov4zr4_2025-10-14T080000_762c775ae454d23f2c6b6a75623d14c7_2853a0.csv.gz',\n",
       " '65n1fgov4zr4_2025-10-14T080000_762c775ae454d23f2c6b6a75623d14c7_2853a1.csv.gz',\n",
       " '65n1fgov4zr4_2025-10-14T080000_762c775ae454d23f2c6b6a75623d14c7_be8221.csv.gz',\n",
       " '65n1fgov4zr4_2025-10-14T080000_762c775ae454d23f2c6b6a75623d14c7_c35750.csv.gz',\n",
       " '65n1fgov4zr4_2025-10-14T080000_762c775ae454d23f2c6b6a75623d14c7_c35751.csv.gz']"
      ]
     },
     "execution_count": 10,
     "metadata": {},
     "output_type": "execute_result"
    }
   ],
   "source": [
    "container_name_uat = \"adjuststblive\"\n",
    "container_client_uat = blob_service_client.get_container_client(container_name_uat)\n",
    "from collections import defaultdict\n",
    "files = [i.name for i in container_client_uat.list_blobs()]\n",
    "groups = defaultdict(list)\n",
    "for f in files:\n",
    "    dt = f.split('_')[1]\n",
    "    groups[dt].append(f)\n",
    "groups[dt]"
   ]
  },
  {
   "cell_type": "code",
   "execution_count": 11,
   "id": "5210dba9",
   "metadata": {
    "execution": {
     "iopub.execute_input": "2025-10-14T09:17:03.311230Z",
     "iopub.status.busy": "2025-10-14T09:17:03.310958Z",
     "iopub.status.idle": "2025-10-14T09:17:03.316537Z",
     "shell.execute_reply": "2025-10-14T09:17:03.315722Z"
    },
    "papermill": {
     "duration": 0.010354,
     "end_time": "2025-10-14T09:17:03.317078",
     "exception": false,
     "start_time": "2025-10-14T09:17:03.306724",
     "status": "completed"
    },
    "tags": []
   },
   "outputs": [
    {
     "data": {
      "text/plain": [
       "['2025-10-14T050000',\n",
       " '2025-10-14T060000',\n",
       " '2025-10-14T070000',\n",
       " '2025-10-14T080000']"
      ]
     },
     "execution_count": 11,
     "metadata": {},
     "output_type": "execute_result"
    }
   ],
   "source": [
    "# need_process = pd.date_range(start=already_processed[-1], end=today).strftime('%Y-%m-%d').to_list()\n",
    "# need_process\n",
    "\n",
    "B = datetime.strptime(dt, \"%Y-%m-%dT%H0000\")\n",
    "A = datetime.strptime(already_processed_ts[-1], \"%Y-%m-%dT%H0000\")\n",
    "need_process_ts =  pd.date_range(A, B, freq='h').strftime('%Y-%m-%dT%H0000').tolist()\n",
    "need_process_ts"
   ]
  },
  {
   "cell_type": "code",
   "execution_count": 12,
   "id": "b3bcb228",
   "metadata": {
    "execution": {
     "iopub.execute_input": "2025-10-14T09:17:03.324906Z",
     "iopub.status.busy": "2025-10-14T09:17:03.324690Z",
     "iopub.status.idle": "2025-10-14T09:18:30.070322Z",
     "shell.execute_reply": "2025-10-14T09:18:30.069494Z"
    },
    "id": "g-W3s2nRyRY7",
    "papermill": {
     "duration": 86.753947,
     "end_time": "2025-10-14T09:18:30.074406",
     "exception": false,
     "start_time": "2025-10-14T09:17:03.320459",
     "status": "completed"
    },
    "tags": []
   },
   "outputs": [
    {
     "name": "stderr",
     "output_type": "stream",
     "text": [
      "\r",
      "  0%|          | 0/1967 [00:00<?, ?it/s]"
     ]
    },
    {
     "name": "stderr",
     "output_type": "stream",
     "text": [
      "\r",
      "100%|█████████▉| 1964/1967 [00:24<00:00, 79.91it/s]"
     ]
    },
    {
     "name": "stdout",
     "output_type": "stream",
     "text": [
      "Done dt=2025-10-14/2025-10-14T050000.parquet\n"
     ]
    },
    {
     "name": "stderr",
     "output_type": "stream",
     "text": [
      "\r",
      "100%|█████████▉| 1964/1967 [00:39<00:00, 79.91it/s]"
     ]
    },
    {
     "name": "stderr",
     "output_type": "stream",
     "text": [
      "\r",
      "100%|█████████▉| 1965/1967 [00:44<00:00, 36.65it/s]"
     ]
    },
    {
     "name": "stdout",
     "output_type": "stream",
     "text": [
      "Done dt=2025-10-14/2025-10-14T060000.parquet\n"
     ]
    },
    {
     "name": "stderr",
     "output_type": "stream",
     "text": [
      "\r",
      "100%|█████████▉| 1966/1967 [01:05<00:00, 20.62it/s]"
     ]
    },
    {
     "name": "stdout",
     "output_type": "stream",
     "text": [
      "Done dt=2025-10-14/2025-10-14T070000.parquet\n"
     ]
    },
    {
     "name": "stderr",
     "output_type": "stream",
     "text": [
      "\r",
      "100%|██████████| 1967/1967 [01:26<00:00, 12.50it/s]"
     ]
    },
    {
     "name": "stderr",
     "output_type": "stream",
     "text": [
      "\r",
      "100%|██████████| 1967/1967 [01:26<00:00, 22.68it/s]"
     ]
    },
    {
     "name": "stdout",
     "output_type": "stream",
     "text": [
      "Done dt=2025-10-14/2025-10-14T080000.parquet\n"
     ]
    },
    {
     "name": "stderr",
     "output_type": "stream",
     "text": [
      "\n"
     ]
    }
   ],
   "source": [
    "storage_options = {\n",
    "    \"account_name\": account_name,\n",
    "    \"account_key\":  account_key,\n",
    "}\n",
    "\n",
    "for ts, files in tqdm(groups.items()):\n",
    "    if ts not in need_process_ts: continue\n",
    "    dt = ts[:10]\n",
    "    # if dt not in need_process:\n",
    "    #     continue\n",
    "    df = pl.scan_csv(f\"az://adjuststblive/*_{ts}_*.csv.gz\", storage_options = storage_options,glob=True, has_header = True, null_values = [\"\",\"NULL\"], ignore_errors=True).select(pl.all().cast(pl.Utf8))\n",
    "    df.sink_parquet(f\"az://adjuststbuatprocessed/live/processing/dt={dt}/{ts}.parquet\", storage_options = storage_options, compression=\"snappy\")\n",
    "    print(f'Done dt={dt}/{ts}.parquet')\n",
    "        "
   ]
  },
  {
   "cell_type": "code",
   "execution_count": 13,
   "id": "e4bb7dea",
   "metadata": {
    "execution": {
     "iopub.execute_input": "2025-10-14T09:18:30.083402Z",
     "iopub.status.busy": "2025-10-14T09:18:30.083093Z",
     "iopub.status.idle": "2025-10-14T09:18:30.087763Z",
     "shell.execute_reply": "2025-10-14T09:18:30.086940Z"
    },
    "papermill": {
     "duration": 0.010202,
     "end_time": "2025-10-14T09:18:30.088342",
     "exception": false,
     "start_time": "2025-10-14T09:18:30.078140",
     "status": "completed"
    },
    "tags": []
   },
   "outputs": [
    {
     "data": {
      "text/plain": [
       "{'2025-10-14'}"
      ]
     },
     "execution_count": 13,
     "metadata": {},
     "output_type": "execute_result"
    }
   ],
   "source": [
    "need_process = set([i.split(\"T\")[0] for i in need_process_ts])\n",
    "need_process"
   ]
  },
  {
   "cell_type": "code",
   "execution_count": 14,
   "id": "4ba5f81d",
   "metadata": {
    "execution": {
     "iopub.execute_input": "2025-10-14T09:18:30.096783Z",
     "iopub.status.busy": "2025-10-14T09:18:30.096558Z",
     "iopub.status.idle": "2025-10-14T09:19:21.283929Z",
     "shell.execute_reply": "2025-10-14T09:19:21.282498Z"
    },
    "id": "sBm7rfFUyePJ",
    "papermill": {
     "duration": 51.204821,
     "end_time": "2025-10-14T09:19:21.296840",
     "exception": false,
     "start_time": "2025-10-14T09:18:30.092019",
     "status": "completed"
    },
    "tags": []
   },
   "outputs": [
    {
     "name": "stdout",
     "output_type": "stream",
     "text": [
      "\n",
      " Done 2025-10-14\n",
      "\n"
     ]
    }
   ],
   "source": [
    "for dt in need_process:\n",
    "  df = pl.scan_parquet(f\"az://adjuststbuatprocessed/live/processing/dt={dt}/*.parquet\", storage_options=storage_options,glob=True).with_columns(pl.lit(dt).alias(\"dt\"))\n",
    "  df.sink_parquet(f\"az://adjuststbuatprocessed/live/output/{dt}.parquet\", storage_options=storage_options, compression=\"snappy\")\n",
    "  print(f'\\n Done {dt}\\n')"
   ]
  }
 ],
 "metadata": {
  "colab": {
   "authorship_tag": "ABX9TyOfzO6uvqUX+Tt89Y73G9E8",
   "include_colab_link": true,
   "provenance": []
  },
  "kernelspec": {
   "display_name": "Python 3",
   "name": "python3"
  },
  "language_info": {
   "codemirror_mode": {
    "name": "ipython",
    "version": 3
   },
   "file_extension": ".py",
   "mimetype": "text/x-python",
   "name": "python",
   "nbconvert_exporter": "python",
   "pygments_lexer": "ipython3",
   "version": "3.11.13"
  },
  "papermill": {
   "default_parameters": {},
   "duration": 216.138967,
   "end_time": "2025-10-14T09:19:23.087884",
   "environment_variables": {},
   "exception": null,
   "input_path": "notebooks/ADJUST_JOB.ipynb",
   "output_path": "outputs/ADJUST_JOB_2025-10-14.ipynb",
   "parameters": {
    "RUN_DATE": "2025-10-14"
   },
   "start_time": "2025-10-14T09:15:46.948917",
   "version": "2.6.0"
  }
 },
 "nbformat": 4,
 "nbformat_minor": 5
}