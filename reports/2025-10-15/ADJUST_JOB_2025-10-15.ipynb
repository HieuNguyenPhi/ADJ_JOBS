{
 "cells": [
  {
   "cell_type": "code",
   "execution_count": 1,
   "id": "22be0f89",
   "metadata": {
    "execution": {
     "iopub.execute_input": "2025-10-15T00:05:43.363008Z",
     "iopub.status.busy": "2025-10-15T00:05:43.362781Z",
     "iopub.status.idle": "2025-10-15T00:05:43.368173Z",
     "shell.execute_reply": "2025-10-15T00:05:43.367467Z"
    },
    "papermill": {
     "duration": 0.009981,
     "end_time": "2025-10-15T00:05:43.368972",
     "exception": false,
     "start_time": "2025-10-15T00:05:43.358991",
     "status": "completed"
    },
    "tags": [
     "injected-parameters"
    ]
   },
   "outputs": [],
   "source": [
    "# Parameters\n",
    "RUN_DATE = \"2025-10-15\"\n"
   ]
  },
  {
   "cell_type": "markdown",
   "id": "45d5e152",
   "metadata": {
    "colab_type": "text",
    "id": "view-in-github",
    "papermill": {
     "duration": 0.002569,
     "end_time": "2025-10-15T00:05:43.373946",
     "exception": false,
     "start_time": "2025-10-15T00:05:43.371377",
     "status": "completed"
    },
    "tags": []
   },
   "source": [
    "<a href=\"https://colab.research.google.com/github/HieuNguyenPhi/ADJ_JOBS/blob/main/notebooks/ADJUST_JOB.ipynb\" target=\"_parent\"><img src=\"https://colab.research.google.com/assets/colab-badge.svg\" alt=\"Open In Colab\"/></a>"
   ]
  },
  {
   "cell_type": "markdown",
   "id": "7121d200",
   "metadata": {
    "papermill": {
     "duration": 0.001829,
     "end_time": "2025-10-15T00:05:43.377706",
     "exception": false,
     "start_time": "2025-10-15T00:05:43.375877",
     "status": "completed"
    },
    "tags": []
   },
   "source": [
    "# UAT"
   ]
  },
  {
   "cell_type": "code",
   "execution_count": 2,
   "id": "cccbea7c",
   "metadata": {
    "execution": {
     "iopub.execute_input": "2025-10-15T00:05:43.384400Z",
     "iopub.status.busy": "2025-10-15T00:05:43.384157Z",
     "iopub.status.idle": "2025-10-15T00:05:49.146628Z",
     "shell.execute_reply": "2025-10-15T00:05:49.145609Z"
    },
    "id": "ycUR2r1dq1Nm",
    "papermill": {
     "duration": 5.767024,
     "end_time": "2025-10-15T00:05:49.147263",
     "exception": false,
     "start_time": "2025-10-15T00:05:43.380239",
     "status": "completed"
    },
    "tags": []
   },
   "outputs": [
    {
     "data": {
      "text/plain": [
       "['2025-10-14T040000',\n",
       " '2025-10-14T050000',\n",
       " '2025-10-14T060000',\n",
       " '2025-10-14T070000',\n",
       " '2025-10-14T080000']"
      ]
     },
     "execution_count": 2,
     "metadata": {},
     "output_type": "execute_result"
    }
   ],
   "source": [
    "import os\n",
    "from azure.storage.blob import BlobServiceClient\n",
    "\n",
    "account_name = os.getenv('ACCOUNT_NAME')\n",
    "account_key = os.getenv('ACCOUNT_KEY')\n",
    "# Replace with your Azure Storage account name and SAS token or connection string\n",
    "connect_str = f\"DefaultEndpointsProtocol=https;AccountName={account_name};AccountKey={account_key};EndpointSuffix=core.windows.net\"\n",
    "blob_service_client = BlobServiceClient.from_connection_string(connect_str)\n",
    "container_list = blob_service_client.list_containers()\n",
    "container_name = \"adjuststbuatprocessed\" #os.getenv('CONTAINER_NAME')\n",
    "container_client = blob_service_client.get_container_client(container_name)\n",
    "# already_processed = [file.name.split('/')[1].split('.')[0] for file in container_client.list_blobs() if file.name.split('/')[0] == 'output']\n",
    "# already_processed[-5:]\n",
    "already_processed_ts = sorted([file.name.split('/')[-1].split(\".\")[0] for file in container_client.list_blobs() if file.name.split('/')[0] == 'processing'])\n",
    "already_processed_ts[-5:]"
   ]
  },
  {
   "cell_type": "code",
   "execution_count": 3,
   "id": "2dc5c906",
   "metadata": {
    "execution": {
     "iopub.execute_input": "2025-10-15T00:05:49.153005Z",
     "iopub.status.busy": "2025-10-15T00:05:49.152725Z",
     "iopub.status.idle": "2025-10-15T00:05:56.563165Z",
     "shell.execute_reply": "2025-10-15T00:05:56.562325Z"
    },
    "id": "xyPuVC12s7fn",
    "papermill": {
     "duration": 7.414108,
     "end_time": "2025-10-15T00:05:56.563832",
     "exception": false,
     "start_time": "2025-10-15T00:05:49.149724",
     "status": "completed"
    },
    "tags": []
   },
   "outputs": [
    {
     "data": {
      "text/plain": [
       "['rsh20bkkb4zk_2025-10-14T230000_762c775ae454d23f2c6b6a75623d14c7_2853a0.csv.gz',\n",
       " 'rsh20bkkb4zk_2025-10-14T230000_762c775ae454d23f2c6b6a75623d14c7_2853a1.csv.gz',\n",
       " 'rsh20bkkb4zk_2025-10-14T230000_762c775ae454d23f2c6b6a75623d14c7_be8221.csv.gz',\n",
       " 'rsh20bkkb4zk_2025-10-14T230000_762c775ae454d23f2c6b6a75623d14c7_c35750.csv.gz',\n",
       " 'rsh20bkkb4zk_2025-10-14T230000_762c775ae454d23f2c6b6a75623d14c7_c35751.csv.gz']"
      ]
     },
     "execution_count": 3,
     "metadata": {},
     "output_type": "execute_result"
    }
   ],
   "source": [
    "container_name_uat = \"adjuststbuat\"\n",
    "container_client_uat = blob_service_client.get_container_client(container_name_uat)\n",
    "from collections import defaultdict\n",
    "files = [i.name for i in container_client_uat.list_blobs()]\n",
    "groups = defaultdict(list)\n",
    "for f in files:\n",
    "    dt = f.split('_')[1]\n",
    "    groups[dt].append(f)\n",
    "groups[dt]"
   ]
  },
  {
   "cell_type": "code",
   "execution_count": 4,
   "id": "0c921304",
   "metadata": {
    "execution": {
     "iopub.execute_input": "2025-10-15T00:05:56.569917Z",
     "iopub.status.busy": "2025-10-15T00:05:56.569699Z",
     "iopub.status.idle": "2025-10-15T00:05:56.573069Z",
     "shell.execute_reply": "2025-10-15T00:05:56.572095Z"
    },
    "papermill": {
     "duration": 0.007338,
     "end_time": "2025-10-15T00:05:56.573660",
     "exception": false,
     "start_time": "2025-10-15T00:05:56.566322",
     "status": "completed"
    },
    "tags": []
   },
   "outputs": [],
   "source": [
    "# from datetime import date, timedelta, datetime\n",
    "# import pandas as pd\n",
    "# today = date.today().strftime('%Y-%m-%d')\n",
    "# yesterday = (date.today() - timedelta(days = 1) ).strftime('%Y-%m-%d')\n",
    "# check_date = dt.split(\"T\")[0]\n",
    "# if check_date == today:\n",
    "#     need_process = pd.date_range(start=already_processed[-1], end=today).strftime('%Y-%m-%d').to_list()\n",
    "# else:\n",
    "#     need_process = pd.date_range(start=already_processed[-1], end=yesterday).strftime('%Y-%m-%d').to_list()\n",
    "# need_process"
   ]
  },
  {
   "cell_type": "code",
   "execution_count": 5,
   "id": "1ed81116",
   "metadata": {
    "execution": {
     "iopub.execute_input": "2025-10-15T00:05:56.579269Z",
     "iopub.status.busy": "2025-10-15T00:05:56.579076Z",
     "iopub.status.idle": "2025-10-15T00:05:56.867362Z",
     "shell.execute_reply": "2025-10-15T00:05:56.866450Z"
    },
    "papermill": {
     "duration": 0.291924,
     "end_time": "2025-10-15T00:05:56.867997",
     "exception": false,
     "start_time": "2025-10-15T00:05:56.576073",
     "status": "completed"
    },
    "tags": []
   },
   "outputs": [
    {
     "data": {
      "text/plain": [
       "['2025-10-14T070000',\n",
       " '2025-10-14T080000',\n",
       " '2025-10-14T090000',\n",
       " '2025-10-14T100000',\n",
       " '2025-10-14T110000',\n",
       " '2025-10-14T120000',\n",
       " '2025-10-14T130000',\n",
       " '2025-10-14T140000',\n",
       " '2025-10-14T150000',\n",
       " '2025-10-14T160000',\n",
       " '2025-10-14T170000',\n",
       " '2025-10-14T180000',\n",
       " '2025-10-14T190000',\n",
       " '2025-10-14T200000',\n",
       " '2025-10-14T210000',\n",
       " '2025-10-14T220000',\n",
       " '2025-10-14T230000']"
      ]
     },
     "execution_count": 5,
     "metadata": {},
     "output_type": "execute_result"
    }
   ],
   "source": [
    "from datetime import datetime\n",
    "import pandas as pd\n",
    "B = datetime.strptime(dt, \"%Y-%m-%dT%H0000\")\n",
    "A = datetime.strptime(already_processed_ts[-2], \"%Y-%m-%dT%H0000\")\n",
    "need_process_ts =  pd.date_range(A, B, freq='h').strftime('%Y-%m-%dT%H0000').tolist()\n",
    "need_process_ts"
   ]
  },
  {
   "cell_type": "code",
   "execution_count": 6,
   "id": "ee898532",
   "metadata": {
    "execution": {
     "iopub.execute_input": "2025-10-15T00:05:56.874213Z",
     "iopub.status.busy": "2025-10-15T00:05:56.873882Z",
     "iopub.status.idle": "2025-10-15T00:07:55.786813Z",
     "shell.execute_reply": "2025-10-15T00:07:55.785798Z"
    },
    "papermill": {
     "duration": 118.916695,
     "end_time": "2025-10-15T00:07:55.787378",
     "exception": false,
     "start_time": "2025-10-15T00:05:56.870683",
     "status": "completed"
    },
    "tags": []
   },
   "outputs": [
    {
     "name": "stderr",
     "output_type": "stream",
     "text": [
      "\r",
      "  0%|          | 0/1967 [00:00<?, ?it/s]"
     ]
    },
    {
     "name": "stderr",
     "output_type": "stream",
     "text": [
      "\r",
      " 99%|█████████▉| 1951/1967 [00:09<00:00, 212.48it/s]"
     ]
    },
    {
     "name": "stdout",
     "output_type": "stream",
     "text": [
      "Done dt=2025-10-14/2025-10-14T070000.parquet\n"
     ]
    },
    {
     "name": "stdout",
     "output_type": "stream",
     "text": [
      "Done dt=2025-10-14/2025-10-14T080000.parquet\n"
     ]
    },
    {
     "name": "stderr",
     "output_type": "stream",
     "text": [
      "\r",
      " 99%|█████████▉| 1951/1967 [00:19<00:00, 212.48it/s]"
     ]
    },
    {
     "name": "stderr",
     "output_type": "stream",
     "text": [
      "\r",
      " 99%|█████████▉| 1953/1967 [00:24<00:00, 64.14it/s] "
     ]
    },
    {
     "name": "stdout",
     "output_type": "stream",
     "text": [
      "Done dt=2025-10-14/2025-10-14T090000.parquet\n"
     ]
    },
    {
     "name": "stderr",
     "output_type": "stream",
     "text": [
      "\r",
      " 99%|█████████▉| 1954/1967 [00:31<00:00, 42.25it/s]"
     ]
    },
    {
     "name": "stdout",
     "output_type": "stream",
     "text": [
      "Done dt=2025-10-14/2025-10-14T100000.parquet\n"
     ]
    },
    {
     "name": "stdout",
     "output_type": "stream",
     "text": [
      "Done dt=2025-10-14/2025-10-14T110000.parquet\n"
     ]
    },
    {
     "name": "stdout",
     "output_type": "stream",
     "text": [
      "Done dt=2025-10-14/2025-10-14T120000.parquet\n"
     ]
    },
    {
     "name": "stderr",
     "output_type": "stream",
     "text": [
      "\r",
      " 99%|█████████▉| 1954/1967 [00:50<00:00, 42.25it/s]"
     ]
    },
    {
     "name": "stderr",
     "output_type": "stream",
     "text": [
      "\r",
      " 99%|█████████▉| 1957/1967 [00:52<00:00, 18.22it/s]"
     ]
    },
    {
     "name": "stdout",
     "output_type": "stream",
     "text": [
      "Done dt=2025-10-14/2025-10-14T130000.parquet\n"
     ]
    },
    {
     "name": "stderr",
     "output_type": "stream",
     "text": [
      "\r",
      "100%|█████████▉| 1958/1967 [00:59<00:00, 14.63it/s]"
     ]
    },
    {
     "name": "stdout",
     "output_type": "stream",
     "text": [
      "Done dt=2025-10-14/2025-10-14T140000.parquet\n"
     ]
    },
    {
     "name": "stdout",
     "output_type": "stream",
     "text": [
      "Done dt=2025-10-14/2025-10-14T150000.parquet\n"
     ]
    },
    {
     "name": "stderr",
     "output_type": "stream",
     "text": [
      "\r",
      "100%|█████████▉| 1958/1967 [01:10<00:00, 14.63it/s]"
     ]
    },
    {
     "name": "stderr",
     "output_type": "stream",
     "text": [
      "\r",
      "100%|█████████▉| 1960/1967 [01:12<00:00,  9.26it/s]"
     ]
    },
    {
     "name": "stdout",
     "output_type": "stream",
     "text": [
      "Done dt=2025-10-14/2025-10-14T160000.parquet\n"
     ]
    },
    {
     "name": "stderr",
     "output_type": "stream",
     "text": [
      "\r",
      "100%|█████████▉| 1961/1967 [01:19<00:00,  7.40it/s]"
     ]
    },
    {
     "name": "stdout",
     "output_type": "stream",
     "text": [
      "Done dt=2025-10-14/2025-10-14T170000.parquet\n"
     ]
    },
    {
     "name": "stdout",
     "output_type": "stream",
     "text": [
      "Done dt=2025-10-14/2025-10-14T180000.parquet\n"
     ]
    },
    {
     "name": "stderr",
     "output_type": "stream",
     "text": [
      "\r",
      "100%|█████████▉| 1961/1967 [01:30<00:00,  7.40it/s]"
     ]
    },
    {
     "name": "stderr",
     "output_type": "stream",
     "text": [
      "\r",
      "100%|█████████▉| 1963/1967 [01:31<00:00,  4.75it/s]"
     ]
    },
    {
     "name": "stdout",
     "output_type": "stream",
     "text": [
      "Done dt=2025-10-14/2025-10-14T190000.parquet\n"
     ]
    },
    {
     "name": "stderr",
     "output_type": "stream",
     "text": [
      "\r",
      "100%|█████████▉| 1964/1967 [01:38<00:00,  3.75it/s]"
     ]
    },
    {
     "name": "stdout",
     "output_type": "stream",
     "text": [
      "Done dt=2025-10-14/2025-10-14T200000.parquet\n"
     ]
    },
    {
     "name": "stdout",
     "output_type": "stream",
     "text": [
      "Done dt=2025-10-14/2025-10-14T210000.parquet\n"
     ]
    },
    {
     "name": "stderr",
     "output_type": "stream",
     "text": [
      "\r",
      "100%|█████████▉| 1964/1967 [01:50<00:00,  3.75it/s]"
     ]
    },
    {
     "name": "stderr",
     "output_type": "stream",
     "text": [
      "\r",
      "100%|█████████▉| 1966/1967 [01:51<00:00,  2.40it/s]"
     ]
    },
    {
     "name": "stdout",
     "output_type": "stream",
     "text": [
      "Done dt=2025-10-14/2025-10-14T220000.parquet\n"
     ]
    },
    {
     "name": "stderr",
     "output_type": "stream",
     "text": [
      "\r",
      "100%|██████████| 1967/1967 [01:58<00:00,  1.90it/s]"
     ]
    },
    {
     "name": "stderr",
     "output_type": "stream",
     "text": [
      "\r",
      "100%|██████████| 1967/1967 [01:58<00:00, 16.56it/s]"
     ]
    },
    {
     "name": "stdout",
     "output_type": "stream",
     "text": [
      "Done dt=2025-10-14/2025-10-14T230000.parquet\n"
     ]
    },
    {
     "name": "stderr",
     "output_type": "stream",
     "text": [
      "\n"
     ]
    }
   ],
   "source": [
    "import polars as pl \n",
    "from tqdm import tqdm\n",
    "storage_options = {\n",
    "    \"account_name\": account_name,\n",
    "    \"account_key\":  account_key,\n",
    "}\n",
    "\n",
    "for ts, files in tqdm(groups.items()):\n",
    "    if ts not in need_process_ts:\n",
    "        continue\n",
    "    dt = ts[:10]\n",
    "    # if dt not in need_process:\n",
    "    #     continue\n",
    "    df = pl.scan_csv(f\"az://adjuststbuat/*_{ts}_*.csv.gz\", storage_options = storage_options,glob=True, has_header = True, null_values = [\"\",\"NULL\"], ignore_errors=True).select(pl.all().cast(pl.Utf8))\n",
    "    df.sink_parquet(f\"az://adjuststbuatprocessed/processing/dt={dt}/{ts}.parquet\", storage_options = storage_options, compression=\"snappy\")\n",
    "    print(f'Done dt={dt}/{ts}.parquet')\n",
    "        "
   ]
  },
  {
   "cell_type": "code",
   "execution_count": 7,
   "id": "aa9e2476",
   "metadata": {
    "execution": {
     "iopub.execute_input": "2025-10-15T00:07:55.796188Z",
     "iopub.status.busy": "2025-10-15T00:07:55.795959Z",
     "iopub.status.idle": "2025-10-15T00:07:55.800464Z",
     "shell.execute_reply": "2025-10-15T00:07:55.799651Z"
    },
    "papermill": {
     "duration": 0.009619,
     "end_time": "2025-10-15T00:07:55.801093",
     "exception": false,
     "start_time": "2025-10-15T00:07:55.791474",
     "status": "completed"
    },
    "tags": []
   },
   "outputs": [
    {
     "data": {
      "text/plain": [
       "{'2025-10-14'}"
      ]
     },
     "execution_count": 7,
     "metadata": {},
     "output_type": "execute_result"
    }
   ],
   "source": [
    "need_process = set([i.split(\"T\")[0] for i in need_process_ts])\n",
    "need_process"
   ]
  },
  {
   "cell_type": "code",
   "execution_count": 8,
   "id": "d6804b23",
   "metadata": {
    "execution": {
     "iopub.execute_input": "2025-10-15T00:07:55.809499Z",
     "iopub.status.busy": "2025-10-15T00:07:55.809228Z",
     "iopub.status.idle": "2025-10-15T00:08:00.322264Z",
     "shell.execute_reply": "2025-10-15T00:08:00.321342Z"
    },
    "papermill": {
     "duration": 4.517959,
     "end_time": "2025-10-15T00:08:00.322864",
     "exception": false,
     "start_time": "2025-10-15T00:07:55.804905",
     "status": "completed"
    },
    "tags": []
   },
   "outputs": [
    {
     "name": "stdout",
     "output_type": "stream",
     "text": [
      "\n",
      " Done 2025-10-14\n",
      "\n"
     ]
    }
   ],
   "source": [
    "for dt in need_process:\n",
    "  df = pl.scan_parquet(f\"az://adjuststbuatprocessed/processing/dt={dt}/*.parquet\", storage_options=storage_options,glob=True).with_columns(pl.lit(dt).alias(\"dt\"))\n",
    "  df.sink_parquet(f\"az://adjuststbuatprocessed/output/{dt}.parquet\", storage_options=storage_options, compression=\"snappy\")\n",
    "  print(f'\\n Done {dt}\\n')"
   ]
  },
  {
   "cell_type": "markdown",
   "id": "0a9add60",
   "metadata": {
    "id": "2TvKr29qyJd_",
    "papermill": {
     "duration": 0.003815,
     "end_time": "2025-10-15T00:08:00.330693",
     "exception": false,
     "start_time": "2025-10-15T00:08:00.326878",
     "status": "completed"
    },
    "tags": []
   },
   "source": [
    "# Live"
   ]
  },
  {
   "cell_type": "code",
   "execution_count": 9,
   "id": "465a8402",
   "metadata": {
    "execution": {
     "iopub.execute_input": "2025-10-15T00:08:00.339485Z",
     "iopub.status.busy": "2025-10-15T00:08:00.339206Z",
     "iopub.status.idle": "2025-10-15T00:08:03.996818Z",
     "shell.execute_reply": "2025-10-15T00:08:03.996009Z"
    },
    "id": "EnaFsdZFxpwc",
    "papermill": {
     "duration": 3.66309,
     "end_time": "2025-10-15T00:08:03.997554",
     "exception": false,
     "start_time": "2025-10-15T00:08:00.334464",
     "status": "completed"
    },
    "tags": []
   },
   "outputs": [
    {
     "data": {
      "text/plain": [
       "['2025-10-14T040000',\n",
       " '2025-10-14T050000',\n",
       " '2025-10-14T060000',\n",
       " '2025-10-14T070000',\n",
       " '2025-10-14T080000']"
      ]
     },
     "execution_count": 9,
     "metadata": {},
     "output_type": "execute_result"
    }
   ],
   "source": [
    "# already_processed = [file.name.split('/')[-1].split('.')[0] for file in container_client.list_blobs() if file.name[:12] == 'live/output/']\n",
    "# already_processed[-5:]\n",
    "already_processed_ts = sorted([file.name.split('/')[-1].split(\".\")[0] for file in container_client.list_blobs() if (file.name.split('/')[0] + \"/\" + file.name.split('/')[1]) == 'live/processing'])\n",
    "already_processed_ts[-5:]"
   ]
  },
  {
   "cell_type": "code",
   "execution_count": 10,
   "id": "2135e2f2",
   "metadata": {
    "execution": {
     "iopub.execute_input": "2025-10-15T00:08:04.006643Z",
     "iopub.status.busy": "2025-10-15T00:08:04.006398Z",
     "iopub.status.idle": "2025-10-15T00:08:14.752365Z",
     "shell.execute_reply": "2025-10-15T00:08:14.751324Z"
    },
    "id": "I7Er6YEUyOsL",
    "papermill": {
     "duration": 10.751388,
     "end_time": "2025-10-15T00:08:14.753127",
     "exception": false,
     "start_time": "2025-10-15T00:08:04.001739",
     "status": "completed"
    },
    "tags": []
   },
   "outputs": [
    {
     "data": {
      "text/plain": [
       "['65n1fgov4zr4_2025-10-14T230000_762c775ae454d23f2c6b6a75623d14c7_2853a0.csv.gz',\n",
       " '65n1fgov4zr4_2025-10-14T230000_762c775ae454d23f2c6b6a75623d14c7_2853a1.csv.gz',\n",
       " '65n1fgov4zr4_2025-10-14T230000_762c775ae454d23f2c6b6a75623d14c7_be8221.csv.gz',\n",
       " '65n1fgov4zr4_2025-10-14T230000_762c775ae454d23f2c6b6a75623d14c7_c35750.csv.gz',\n",
       " '65n1fgov4zr4_2025-10-14T230000_762c775ae454d23f2c6b6a75623d14c7_c35751.csv.gz']"
      ]
     },
     "execution_count": 10,
     "metadata": {},
     "output_type": "execute_result"
    }
   ],
   "source": [
    "container_name_uat = \"adjuststblive\"\n",
    "container_client_uat = blob_service_client.get_container_client(container_name_uat)\n",
    "from collections import defaultdict\n",
    "files = [i.name for i in container_client_uat.list_blobs()]\n",
    "groups = defaultdict(list)\n",
    "for f in files:\n",
    "    dt = f.split('_')[1]\n",
    "    groups[dt].append(f)\n",
    "groups[dt]"
   ]
  },
  {
   "cell_type": "code",
   "execution_count": 11,
   "id": "6f111e9b",
   "metadata": {
    "execution": {
     "iopub.execute_input": "2025-10-15T00:08:14.763591Z",
     "iopub.status.busy": "2025-10-15T00:08:14.763321Z",
     "iopub.status.idle": "2025-10-15T00:08:14.769107Z",
     "shell.execute_reply": "2025-10-15T00:08:14.768326Z"
    },
    "papermill": {
     "duration": 0.011887,
     "end_time": "2025-10-15T00:08:14.769691",
     "exception": false,
     "start_time": "2025-10-15T00:08:14.757804",
     "status": "completed"
    },
    "tags": []
   },
   "outputs": [
    {
     "data": {
      "text/plain": [
       "['2025-10-14T080000',\n",
       " '2025-10-14T090000',\n",
       " '2025-10-14T100000',\n",
       " '2025-10-14T110000',\n",
       " '2025-10-14T120000',\n",
       " '2025-10-14T130000',\n",
       " '2025-10-14T140000',\n",
       " '2025-10-14T150000',\n",
       " '2025-10-14T160000',\n",
       " '2025-10-14T170000',\n",
       " '2025-10-14T180000',\n",
       " '2025-10-14T190000',\n",
       " '2025-10-14T200000',\n",
       " '2025-10-14T210000',\n",
       " '2025-10-14T220000',\n",
       " '2025-10-14T230000']"
      ]
     },
     "execution_count": 11,
     "metadata": {},
     "output_type": "execute_result"
    }
   ],
   "source": [
    "# need_process = pd.date_range(start=already_processed[-1], end=today).strftime('%Y-%m-%d').to_list()\n",
    "# need_process\n",
    "\n",
    "B = datetime.strptime(dt, \"%Y-%m-%dT%H0000\")\n",
    "A = datetime.strptime(already_processed_ts[-1], \"%Y-%m-%dT%H0000\")\n",
    "need_process_ts =  pd.date_range(A, B, freq='h').strftime('%Y-%m-%dT%H0000').tolist()\n",
    "need_process_ts"
   ]
  },
  {
   "cell_type": "code",
   "execution_count": 12,
   "id": "fc645dc3",
   "metadata": {
    "execution": {
     "iopub.execute_input": "2025-10-15T00:08:14.779044Z",
     "iopub.status.busy": "2025-10-15T00:08:14.778848Z",
     "iopub.status.idle": "2025-10-15T00:13:19.749249Z",
     "shell.execute_reply": "2025-10-15T00:13:19.748334Z"
    },
    "id": "g-W3s2nRyRY7",
    "papermill": {
     "duration": 304.975879,
     "end_time": "2025-10-15T00:13:19.749831",
     "exception": false,
     "start_time": "2025-10-15T00:08:14.773952",
     "status": "completed"
    },
    "tags": []
   },
   "outputs": [
    {
     "name": "stderr",
     "output_type": "stream",
     "text": [
      "\r",
      "  0%|          | 0/1982 [00:00<?, ?it/s]"
     ]
    },
    {
     "name": "stderr",
     "output_type": "stream",
     "text": [
      "\r",
      " 99%|█████████▉| 1967/1982 [00:28<00:00, 69.74it/s]"
     ]
    },
    {
     "name": "stdout",
     "output_type": "stream",
     "text": [
      "Done dt=2025-10-14/2025-10-14T080000.parquet\n"
     ]
    },
    {
     "name": "stderr",
     "output_type": "stream",
     "text": [
      "\r",
      " 99%|█████████▉| 1967/1982 [00:42<00:00, 69.74it/s]"
     ]
    },
    {
     "name": "stderr",
     "output_type": "stream",
     "text": [
      "\r",
      " 99%|█████████▉| 1968/1982 [00:48<00:00, 34.47it/s]"
     ]
    },
    {
     "name": "stdout",
     "output_type": "stream",
     "text": [
      "Done dt=2025-10-14/2025-10-14T090000.parquet\n"
     ]
    },
    {
     "name": "stderr",
     "output_type": "stream",
     "text": [
      "\r",
      " 99%|█████████▉| 1969/1982 [01:09<00:00, 19.83it/s]"
     ]
    },
    {
     "name": "stdout",
     "output_type": "stream",
     "text": [
      "Done dt=2025-10-14/2025-10-14T100000.parquet\n"
     ]
    },
    {
     "name": "stderr",
     "output_type": "stream",
     "text": [
      "\r",
      " 99%|█████████▉| 1970/1982 [01:32<00:01, 11.72it/s]"
     ]
    },
    {
     "name": "stdout",
     "output_type": "stream",
     "text": [
      "Done dt=2025-10-14/2025-10-14T110000.parquet\n"
     ]
    },
    {
     "name": "stderr",
     "output_type": "stream",
     "text": [
      "\r",
      " 99%|█████████▉| 1971/1982 [01:54<00:01,  7.64it/s]"
     ]
    },
    {
     "name": "stdout",
     "output_type": "stream",
     "text": [
      "Done dt=2025-10-14/2025-10-14T120000.parquet\n"
     ]
    },
    {
     "name": "stderr",
     "output_type": "stream",
     "text": [
      "\r",
      " 99%|█████████▉| 1972/1982 [02:16<00:01,  5.13it/s]"
     ]
    },
    {
     "name": "stdout",
     "output_type": "stream",
     "text": [
      "Done dt=2025-10-14/2025-10-14T130000.parquet\n"
     ]
    },
    {
     "name": "stderr",
     "output_type": "stream",
     "text": [
      "\r",
      "100%|█████████▉| 1973/1982 [02:34<00:02,  3.66it/s]"
     ]
    },
    {
     "name": "stdout",
     "output_type": "stream",
     "text": [
      "Done dt=2025-10-14/2025-10-14T140000.parquet\n"
     ]
    },
    {
     "name": "stderr",
     "output_type": "stream",
     "text": [
      "\r",
      "100%|█████████▉| 1974/1982 [02:54<00:03,  2.56it/s]"
     ]
    },
    {
     "name": "stdout",
     "output_type": "stream",
     "text": [
      "Done dt=2025-10-14/2025-10-14T150000.parquet\n"
     ]
    },
    {
     "name": "stderr",
     "output_type": "stream",
     "text": [
      "\r",
      "100%|█████████▉| 1975/1982 [03:14<00:03,  1.79it/s]"
     ]
    },
    {
     "name": "stdout",
     "output_type": "stream",
     "text": [
      "Done dt=2025-10-14/2025-10-14T160000.parquet\n"
     ]
    },
    {
     "name": "stderr",
     "output_type": "stream",
     "text": [
      "\r",
      "100%|█████████▉| 1976/1982 [03:30<00:04,  1.34it/s]"
     ]
    },
    {
     "name": "stdout",
     "output_type": "stream",
     "text": [
      "Done dt=2025-10-14/2025-10-14T170000.parquet\n"
     ]
    },
    {
     "name": "stderr",
     "output_type": "stream",
     "text": [
      "\r",
      "100%|█████████▉| 1977/1982 [03:45<00:04,  1.01it/s]"
     ]
    },
    {
     "name": "stdout",
     "output_type": "stream",
     "text": [
      "Done dt=2025-10-14/2025-10-14T180000.parquet\n"
     ]
    },
    {
     "name": "stderr",
     "output_type": "stream",
     "text": [
      "\r",
      "100%|█████████▉| 1978/1982 [03:59<00:05,  1.31s/it]"
     ]
    },
    {
     "name": "stdout",
     "output_type": "stream",
     "text": [
      "Done dt=2025-10-14/2025-10-14T190000.parquet\n"
     ]
    },
    {
     "name": "stderr",
     "output_type": "stream",
     "text": [
      "\r",
      "100%|█████████▉| 1979/1982 [04:14<00:05,  1.75s/it]"
     ]
    },
    {
     "name": "stdout",
     "output_type": "stream",
     "text": [
      "Done dt=2025-10-14/2025-10-14T200000.parquet\n"
     ]
    },
    {
     "name": "stderr",
     "output_type": "stream",
     "text": [
      "\r",
      "100%|█████████▉| 1980/1982 [04:30<00:04,  2.39s/it]"
     ]
    },
    {
     "name": "stdout",
     "output_type": "stream",
     "text": [
      "Done dt=2025-10-14/2025-10-14T210000.parquet\n"
     ]
    },
    {
     "name": "stderr",
     "output_type": "stream",
     "text": [
      "\r",
      "100%|█████████▉| 1981/1982 [04:46<00:03,  3.18s/it]"
     ]
    },
    {
     "name": "stdout",
     "output_type": "stream",
     "text": [
      "Done dt=2025-10-14/2025-10-14T220000.parquet\n"
     ]
    },
    {
     "name": "stderr",
     "output_type": "stream",
     "text": [
      "\r",
      "100%|██████████| 1982/1982 [05:04<00:00,  4.41s/it]"
     ]
    },
    {
     "name": "stderr",
     "output_type": "stream",
     "text": [
      "\r",
      "100%|██████████| 1982/1982 [05:04<00:00,  6.50it/s]"
     ]
    },
    {
     "name": "stdout",
     "output_type": "stream",
     "text": [
      "Done dt=2025-10-14/2025-10-14T230000.parquet\n"
     ]
    },
    {
     "name": "stderr",
     "output_type": "stream",
     "text": [
      "\n"
     ]
    }
   ],
   "source": [
    "storage_options = {\n",
    "    \"account_name\": account_name,\n",
    "    \"account_key\":  account_key,\n",
    "}\n",
    "\n",
    "for ts, files in tqdm(groups.items()):\n",
    "    if ts not in need_process_ts: continue\n",
    "    dt = ts[:10]\n",
    "    # if dt not in need_process:\n",
    "    #     continue\n",
    "    df = pl.scan_csv(f\"az://adjuststblive/*_{ts}_*.csv.gz\", storage_options = storage_options,glob=True, has_header = True, null_values = [\"\",\"NULL\"], ignore_errors=True).select(pl.all().cast(pl.Utf8))\n",
    "    df.sink_parquet(f\"az://adjuststbuatprocessed/live/processing/dt={dt}/{ts}.parquet\", storage_options = storage_options, compression=\"snappy\")\n",
    "    print(f'Done dt={dt}/{ts}.parquet')\n",
    "        "
   ]
  },
  {
   "cell_type": "code",
   "execution_count": 13,
   "id": "c906db42",
   "metadata": {
    "execution": {
     "iopub.execute_input": "2025-10-15T00:13:19.762145Z",
     "iopub.status.busy": "2025-10-15T00:13:19.761886Z",
     "iopub.status.idle": "2025-10-15T00:13:19.766738Z",
     "shell.execute_reply": "2025-10-15T00:13:19.766008Z"
    },
    "papermill": {
     "duration": 0.012173,
     "end_time": "2025-10-15T00:13:19.767611",
     "exception": false,
     "start_time": "2025-10-15T00:13:19.755438",
     "status": "completed"
    },
    "tags": []
   },
   "outputs": [
    {
     "data": {
      "text/plain": [
       "{'2025-10-14'}"
      ]
     },
     "execution_count": 13,
     "metadata": {},
     "output_type": "execute_result"
    }
   ],
   "source": [
    "need_process = set([i.split(\"T\")[0] for i in need_process_ts])\n",
    "need_process"
   ]
  },
  {
   "cell_type": "code",
   "execution_count": 14,
   "id": "bd4d5557",
   "metadata": {
    "execution": {
     "iopub.execute_input": "2025-10-15T00:13:19.780013Z",
     "iopub.status.busy": "2025-10-15T00:13:19.779792Z",
     "iopub.status.idle": "2025-10-15T00:14:32.963172Z",
     "shell.execute_reply": "2025-10-15T00:14:32.962257Z"
    },
    "id": "sBm7rfFUyePJ",
    "papermill": {
     "duration": 73.195577,
     "end_time": "2025-10-15T00:14:32.968946",
     "exception": false,
     "start_time": "2025-10-15T00:13:19.773369",
     "status": "completed"
    },
    "tags": []
   },
   "outputs": [
    {
     "name": "stdout",
     "output_type": "stream",
     "text": [
      "\n",
      " Done 2025-10-14\n",
      "\n"
     ]
    }
   ],
   "source": [
    "for dt in need_process:\n",
    "  df = pl.scan_parquet(f\"az://adjuststbuatprocessed/live/processing/dt={dt}/*.parquet\", storage_options=storage_options,glob=True).with_columns(pl.lit(dt).alias(\"dt\"))\n",
    "  df.sink_parquet(f\"az://adjuststbuatprocessed/live/output/{dt}.parquet\", storage_options=storage_options, compression=\"snappy\")\n",
    "  print(f'\\n Done {dt}\\n')"
   ]
  }
 ],
 "metadata": {
  "colab": {
   "authorship_tag": "ABX9TyOfzO6uvqUX+Tt89Y73G9E8",
   "include_colab_link": true,
   "provenance": []
  },
  "kernelspec": {
   "display_name": "Python 3",
   "name": "python3"
  },
  "language_info": {
   "codemirror_mode": {
    "name": "ipython",
    "version": 3
   },
   "file_extension": ".py",
   "mimetype": "text/x-python",
   "name": "python",
   "nbconvert_exporter": "python",
   "pygments_lexer": "ipython3",
   "version": "3.11.13"
  },
  "papermill": {
   "default_parameters": {},
   "duration": 531.912083,
   "end_time": "2025-10-15T00:14:33.892762",
   "environment_variables": {},
   "exception": null,
   "input_path": "notebooks/ADJUST_JOB.ipynb",
   "output_path": "outputs/ADJUST_JOB_2025-10-15.ipynb",
   "parameters": {
    "RUN_DATE": "2025-10-15"
   },
   "start_time": "2025-10-15T00:05:41.980679",
   "version": "2.6.0"
  }
 },
 "nbformat": 4,
 "nbformat_minor": 5
}