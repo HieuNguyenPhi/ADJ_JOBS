{
 "cells": [
  {
   "cell_type": "code",
   "execution_count": 1,
   "id": "5d0325f5",
   "metadata": {
    "execution": {
     "iopub.execute_input": "2025-10-15T01:51:52.386364Z",
     "iopub.status.busy": "2025-10-15T01:51:52.386093Z",
     "iopub.status.idle": "2025-10-15T01:51:52.391648Z",
     "shell.execute_reply": "2025-10-15T01:51:52.390946Z"
    },
    "papermill": {
     "duration": 0.010442,
     "end_time": "2025-10-15T01:51:52.392599",
     "exception": false,
     "start_time": "2025-10-15T01:51:52.382157",
     "status": "completed"
    },
    "tags": [
     "injected-parameters"
    ]
   },
   "outputs": [],
   "source": [
    "# Parameters\n",
    "RUN_DATE = \"2025-10-15\"\n"
   ]
  },
  {
   "cell_type": "markdown",
   "id": "1cf7e9e6",
   "metadata": {
    "colab_type": "text",
    "id": "view-in-github",
    "papermill": {
     "duration": 0.001995,
     "end_time": "2025-10-15T01:51:52.396867",
     "exception": false,
     "start_time": "2025-10-15T01:51:52.394872",
     "status": "completed"
    },
    "tags": []
   },
   "source": [
    "<a href=\"https://colab.research.google.com/github/HieuNguyenPhi/ADJ_JOBS/blob/main/notebooks/ADJUST_JOB.ipynb\" target=\"_parent\"><img src=\"https://colab.research.google.com/assets/colab-badge.svg\" alt=\"Open In Colab\"/></a>"
   ]
  },
  {
   "cell_type": "markdown",
   "id": "80043934",
   "metadata": {
    "papermill": {
     "duration": 0.002843,
     "end_time": "2025-10-15T01:51:52.401642",
     "exception": false,
     "start_time": "2025-10-15T01:51:52.398799",
     "status": "completed"
    },
    "tags": []
   },
   "source": [
    "# UAT"
   ]
  },
  {
   "cell_type": "code",
   "execution_count": 2,
   "id": "43a65c29",
   "metadata": {
    "execution": {
     "iopub.execute_input": "2025-10-15T01:51:52.406704Z",
     "iopub.status.busy": "2025-10-15T01:51:52.406479Z",
     "iopub.status.idle": "2025-10-15T01:51:58.813969Z",
     "shell.execute_reply": "2025-10-15T01:51:58.813023Z"
    },
    "id": "ycUR2r1dq1Nm",
    "papermill": {
     "duration": 6.411014,
     "end_time": "2025-10-15T01:51:58.814589",
     "exception": false,
     "start_time": "2025-10-15T01:51:52.403575",
     "status": "completed"
    },
    "tags": []
   },
   "outputs": [
    {
     "data": {
      "text/plain": [
       "['2025-10-14T190000',\n",
       " '2025-10-14T200000',\n",
       " '2025-10-14T210000',\n",
       " '2025-10-14T220000',\n",
       " '2025-10-14T230000']"
      ]
     },
     "execution_count": 2,
     "metadata": {},
     "output_type": "execute_result"
    }
   ],
   "source": [
    "import os\n",
    "from azure.storage.blob import BlobServiceClient\n",
    "\n",
    "account_name = os.getenv('ACCOUNT_NAME')\n",
    "account_key = os.getenv('ACCOUNT_KEY')\n",
    "# Replace with your Azure Storage account name and SAS token or connection string\n",
    "connect_str = f\"DefaultEndpointsProtocol=https;AccountName={account_name};AccountKey={account_key};EndpointSuffix=core.windows.net\"\n",
    "blob_service_client = BlobServiceClient.from_connection_string(connect_str)\n",
    "container_list = blob_service_client.list_containers()\n",
    "container_name = \"adjuststbuatprocessed\" #os.getenv('CONTAINER_NAME')\n",
    "container_client = blob_service_client.get_container_client(container_name)\n",
    "# already_processed = [file.name.split('/')[1].split('.')[0] for file in container_client.list_blobs() if file.name.split('/')[0] == 'output']\n",
    "# already_processed[-5:]\n",
    "already_processed_ts = sorted([file.name.split('/')[-1].split(\".\")[0] for file in container_client.list_blobs() if file.name.split('/')[0] == 'processing'])\n",
    "already_processed_ts[-5:]"
   ]
  },
  {
   "cell_type": "code",
   "execution_count": 3,
   "id": "ab010bda",
   "metadata": {
    "execution": {
     "iopub.execute_input": "2025-10-15T01:51:58.820352Z",
     "iopub.status.busy": "2025-10-15T01:51:58.819898Z",
     "iopub.status.idle": "2025-10-15T01:52:07.156842Z",
     "shell.execute_reply": "2025-10-15T01:52:07.155838Z"
    },
    "id": "xyPuVC12s7fn",
    "papermill": {
     "duration": 8.340491,
     "end_time": "2025-10-15T01:52:07.157473",
     "exception": false,
     "start_time": "2025-10-15T01:51:58.816982",
     "status": "completed"
    },
    "tags": []
   },
   "outputs": [
    {
     "data": {
      "text/plain": [
       "['rsh20bkkb4zk_2025-10-15T000000_762c775ae454d23f2c6b6a75623d14c7_2853a0.csv.gz',\n",
       " 'rsh20bkkb4zk_2025-10-15T000000_762c775ae454d23f2c6b6a75623d14c7_2853a1.csv.gz',\n",
       " 'rsh20bkkb4zk_2025-10-15T000000_762c775ae454d23f2c6b6a75623d14c7_c35750.csv.gz',\n",
       " 'rsh20bkkb4zk_2025-10-15T000000_762c775ae454d23f2c6b6a75623d14c7_c35751.csv.gz']"
      ]
     },
     "execution_count": 3,
     "metadata": {},
     "output_type": "execute_result"
    }
   ],
   "source": [
    "container_name_uat = \"adjuststbuat\"\n",
    "container_client_uat = blob_service_client.get_container_client(container_name_uat)\n",
    "from collections import defaultdict\n",
    "files = [i.name for i in container_client_uat.list_blobs()]\n",
    "groups = defaultdict(list)\n",
    "for f in files:\n",
    "    dt = f.split('_')[1]\n",
    "    groups[dt].append(f)\n",
    "groups[dt]"
   ]
  },
  {
   "cell_type": "code",
   "execution_count": 4,
   "id": "52e03146",
   "metadata": {
    "execution": {
     "iopub.execute_input": "2025-10-15T01:52:07.163163Z",
     "iopub.status.busy": "2025-10-15T01:52:07.162986Z",
     "iopub.status.idle": "2025-10-15T01:52:07.165871Z",
     "shell.execute_reply": "2025-10-15T01:52:07.165154Z"
    },
    "papermill": {
     "duration": 0.00645,
     "end_time": "2025-10-15T01:52:07.166492",
     "exception": false,
     "start_time": "2025-10-15T01:52:07.160042",
     "status": "completed"
    },
    "tags": []
   },
   "outputs": [],
   "source": [
    "# from datetime import date, timedelta, datetime\n",
    "# import pandas as pd\n",
    "# today = date.today().strftime('%Y-%m-%d')\n",
    "# yesterday = (date.today() - timedelta(days = 1) ).strftime('%Y-%m-%d')\n",
    "# check_date = dt.split(\"T\")[0]\n",
    "# if check_date == today:\n",
    "#     need_process = pd.date_range(start=already_processed[-1], end=today).strftime('%Y-%m-%d').to_list()\n",
    "# else:\n",
    "#     need_process = pd.date_range(start=already_processed[-1], end=yesterday).strftime('%Y-%m-%d').to_list()\n",
    "# need_process"
   ]
  },
  {
   "cell_type": "code",
   "execution_count": 5,
   "id": "499a6d80",
   "metadata": {
    "execution": {
     "iopub.execute_input": "2025-10-15T01:52:07.171655Z",
     "iopub.status.busy": "2025-10-15T01:52:07.171500Z",
     "iopub.status.idle": "2025-10-15T01:52:07.480770Z",
     "shell.execute_reply": "2025-10-15T01:52:07.479898Z"
    },
    "papermill": {
     "duration": 0.312655,
     "end_time": "2025-10-15T01:52:07.481382",
     "exception": false,
     "start_time": "2025-10-15T01:52:07.168727",
     "status": "completed"
    },
    "tags": []
   },
   "outputs": [
    {
     "data": {
      "text/plain": [
       "['2025-10-14T220000', '2025-10-14T230000', '2025-10-15T000000']"
      ]
     },
     "execution_count": 5,
     "metadata": {},
     "output_type": "execute_result"
    }
   ],
   "source": [
    "from datetime import datetime\n",
    "import pandas as pd\n",
    "B = datetime.strptime(dt, \"%Y-%m-%dT%H0000\")\n",
    "A = datetime.strptime(already_processed_ts[-2], \"%Y-%m-%dT%H0000\")\n",
    "need_process_ts =  pd.date_range(A, B, freq='h').strftime('%Y-%m-%dT%H0000').tolist()\n",
    "need_process_ts"
   ]
  },
  {
   "cell_type": "code",
   "execution_count": 6,
   "id": "4b474855",
   "metadata": {
    "execution": {
     "iopub.execute_input": "2025-10-15T01:52:07.487420Z",
     "iopub.status.busy": "2025-10-15T01:52:07.487112Z",
     "iopub.status.idle": "2025-10-15T01:52:37.033642Z",
     "shell.execute_reply": "2025-10-15T01:52:37.032735Z"
    },
    "papermill": {
     "duration": 29.55033,
     "end_time": "2025-10-15T01:52:37.034299",
     "exception": false,
     "start_time": "2025-10-15T01:52:07.483969",
     "status": "completed"
    },
    "tags": []
   },
   "outputs": [
    {
     "name": "stderr",
     "output_type": "stream",
     "text": [
      "\r",
      "  0%|          | 0/1968 [00:00<?, ?it/s]"
     ]
    },
    {
     "name": "stderr",
     "output_type": "stream",
     "text": [
      "\r",
      "100%|█████████▉| 1966/1968 [00:10<00:00, 182.95it/s]"
     ]
    },
    {
     "name": "stdout",
     "output_type": "stream",
     "text": [
      "Done dt=2025-10-14/2025-10-14T220000.parquet\n"
     ]
    },
    {
     "name": "stdout",
     "output_type": "stream",
     "text": [
      "Done dt=2025-10-14/2025-10-14T230000.parquet\n"
     ]
    },
    {
     "name": "stderr",
     "output_type": "stream",
     "text": [
      "\r",
      "100%|██████████| 1968/1968 [00:29<00:00, 66.89it/s] "
     ]
    },
    {
     "name": "stdout",
     "output_type": "stream",
     "text": [
      "Done dt=2025-10-15/2025-10-15T000000.parquet\n"
     ]
    },
    {
     "name": "stderr",
     "output_type": "stream",
     "text": [
      "\n"
     ]
    }
   ],
   "source": [
    "import polars as pl \n",
    "from tqdm import tqdm\n",
    "storage_options = {\n",
    "    \"account_name\": account_name,\n",
    "    \"account_key\":  account_key,\n",
    "}\n",
    "\n",
    "for ts, files in tqdm(groups.items()):\n",
    "    if ts not in need_process_ts:\n",
    "        continue\n",
    "    dt = ts[:10]\n",
    "    # if dt not in need_process:\n",
    "    #     continue\n",
    "    df = pl.scan_csv(f\"az://adjuststbuat/*_{ts}_*.csv.gz\", storage_options = storage_options,glob=True, has_header = True, null_values = [\"\",\"NULL\"], ignore_errors=True).select(pl.all().cast(pl.Utf8))\n",
    "    df.sink_parquet(f\"az://adjuststbuatprocessed/processing/dt={dt}/{ts}.parquet\", storage_options = storage_options, compression=\"snappy\")\n",
    "    print(f'Done dt={dt}/{ts}.parquet')\n",
    "        "
   ]
  },
  {
   "cell_type": "code",
   "execution_count": 7,
   "id": "5a732603",
   "metadata": {
    "execution": {
     "iopub.execute_input": "2025-10-15T01:52:37.040796Z",
     "iopub.status.busy": "2025-10-15T01:52:37.040626Z",
     "iopub.status.idle": "2025-10-15T01:52:37.044792Z",
     "shell.execute_reply": "2025-10-15T01:52:37.044062Z"
    },
    "papermill": {
     "duration": 0.008164,
     "end_time": "2025-10-15T01:52:37.045445",
     "exception": false,
     "start_time": "2025-10-15T01:52:37.037281",
     "status": "completed"
    },
    "tags": []
   },
   "outputs": [
    {
     "data": {
      "text/plain": [
       "{'2025-10-14', '2025-10-15'}"
      ]
     },
     "execution_count": 7,
     "metadata": {},
     "output_type": "execute_result"
    }
   ],
   "source": [
    "need_process = set([i.split(\"T\")[0] for i in need_process_ts])\n",
    "need_process"
   ]
  },
  {
   "cell_type": "code",
   "execution_count": 8,
   "id": "753d9ac3",
   "metadata": {
    "execution": {
     "iopub.execute_input": "2025-10-15T01:52:37.051715Z",
     "iopub.status.busy": "2025-10-15T01:52:37.051503Z",
     "iopub.status.idle": "2025-10-15T01:52:44.053935Z",
     "shell.execute_reply": "2025-10-15T01:52:44.053036Z"
    },
    "papermill": {
     "duration": 7.006409,
     "end_time": "2025-10-15T01:52:44.054596",
     "exception": false,
     "start_time": "2025-10-15T01:52:37.048187",
     "status": "completed"
    },
    "tags": []
   },
   "outputs": [
    {
     "name": "stdout",
     "output_type": "stream",
     "text": [
      "\n",
      " Done 2025-10-14\n",
      "\n"
     ]
    },
    {
     "name": "stdout",
     "output_type": "stream",
     "text": [
      "\n",
      " Done 2025-10-15\n",
      "\n"
     ]
    }
   ],
   "source": [
    "for dt in need_process:\n",
    "  df = pl.scan_parquet(f\"az://adjuststbuatprocessed/processing/dt={dt}/*.parquet\", storage_options=storage_options,glob=True).with_columns(pl.lit(dt).alias(\"dt\"))\n",
    "  df.sink_parquet(f\"az://adjuststbuatprocessed/output/{dt}.parquet\", storage_options=storage_options, compression=\"snappy\")\n",
    "  print(f'\\n Done {dt}\\n')"
   ]
  },
  {
   "cell_type": "markdown",
   "id": "8eccf1d2",
   "metadata": {
    "id": "2TvKr29qyJd_",
    "papermill": {
     "duration": 0.002787,
     "end_time": "2025-10-15T01:52:44.060495",
     "exception": false,
     "start_time": "2025-10-15T01:52:44.057708",
     "status": "completed"
    },
    "tags": []
   },
   "source": [
    "# Live"
   ]
  },
  {
   "cell_type": "code",
   "execution_count": 9,
   "id": "6d1c8dae",
   "metadata": {
    "execution": {
     "iopub.execute_input": "2025-10-15T01:52:44.067000Z",
     "iopub.status.busy": "2025-10-15T01:52:44.066806Z",
     "iopub.status.idle": "2025-10-15T01:52:48.194036Z",
     "shell.execute_reply": "2025-10-15T01:52:48.193172Z"
    },
    "id": "EnaFsdZFxpwc",
    "papermill": {
     "duration": 4.131468,
     "end_time": "2025-10-15T01:52:48.194744",
     "exception": false,
     "start_time": "2025-10-15T01:52:44.063276",
     "status": "completed"
    },
    "tags": []
   },
   "outputs": [
    {
     "data": {
      "text/plain": [
       "['2025-10-14T190000',\n",
       " '2025-10-14T200000',\n",
       " '2025-10-14T210000',\n",
       " '2025-10-14T220000',\n",
       " '2025-10-14T230000']"
      ]
     },
     "execution_count": 9,
     "metadata": {},
     "output_type": "execute_result"
    }
   ],
   "source": [
    "# already_processed = [file.name.split('/')[-1].split('.')[0] for file in container_client.list_blobs() if file.name[:12] == 'live/output/']\n",
    "# already_processed[-5:]\n",
    "already_processed_ts = sorted([file.name.split('/')[-1].split(\".\")[0] for file in container_client.list_blobs() if (file.name.split('/')[0] + \"/\" + file.name.split('/')[1]) == 'live/processing'])\n",
    "already_processed_ts[-5:]"
   ]
  },
  {
   "cell_type": "code",
   "execution_count": 10,
   "id": "a02e53d0",
   "metadata": {
    "execution": {
     "iopub.execute_input": "2025-10-15T01:52:48.202431Z",
     "iopub.status.busy": "2025-10-15T01:52:48.202237Z",
     "iopub.status.idle": "2025-10-15T01:53:00.290170Z",
     "shell.execute_reply": "2025-10-15T01:53:00.289324Z"
    },
    "id": "I7Er6YEUyOsL",
    "papermill": {
     "duration": 12.092801,
     "end_time": "2025-10-15T01:53:00.290810",
     "exception": false,
     "start_time": "2025-10-15T01:52:48.198009",
     "status": "completed"
    },
    "tags": []
   },
   "outputs": [
    {
     "data": {
      "text/plain": [
       "['65n1fgov4zr4_2025-10-15T000000_762c775ae454d23f2c6b6a75623d14c7_2853a0.csv.gz',\n",
       " '65n1fgov4zr4_2025-10-15T000000_762c775ae454d23f2c6b6a75623d14c7_2853a1.csv.gz',\n",
       " '65n1fgov4zr4_2025-10-15T000000_762c775ae454d23f2c6b6a75623d14c7_be8221.csv.gz',\n",
       " '65n1fgov4zr4_2025-10-15T000000_762c775ae454d23f2c6b6a75623d14c7_c35750.csv.gz',\n",
       " '65n1fgov4zr4_2025-10-15T000000_762c775ae454d23f2c6b6a75623d14c7_c35751.csv.gz']"
      ]
     },
     "execution_count": 10,
     "metadata": {},
     "output_type": "execute_result"
    }
   ],
   "source": [
    "container_name_uat = \"adjuststblive\"\n",
    "container_client_uat = blob_service_client.get_container_client(container_name_uat)\n",
    "from collections import defaultdict\n",
    "files = [i.name for i in container_client_uat.list_blobs()]\n",
    "groups = defaultdict(list)\n",
    "for f in files:\n",
    "    dt = f.split('_')[1]\n",
    "    groups[dt].append(f)\n",
    "groups[dt]"
   ]
  },
  {
   "cell_type": "code",
   "execution_count": 11,
   "id": "5fb363cd",
   "metadata": {
    "execution": {
     "iopub.execute_input": "2025-10-15T01:53:00.298510Z",
     "iopub.status.busy": "2025-10-15T01:53:00.298216Z",
     "iopub.status.idle": "2025-10-15T01:53:00.303702Z",
     "shell.execute_reply": "2025-10-15T01:53:00.302981Z"
    },
    "papermill": {
     "duration": 0.010166,
     "end_time": "2025-10-15T01:53:00.304394",
     "exception": false,
     "start_time": "2025-10-15T01:53:00.294228",
     "status": "completed"
    },
    "tags": []
   },
   "outputs": [
    {
     "data": {
      "text/plain": [
       "['2025-10-14T230000', '2025-10-15T000000']"
      ]
     },
     "execution_count": 11,
     "metadata": {},
     "output_type": "execute_result"
    }
   ],
   "source": [
    "# need_process = pd.date_range(start=already_processed[-1], end=today).strftime('%Y-%m-%d').to_list()\n",
    "# need_process\n",
    "\n",
    "B = datetime.strptime(dt, \"%Y-%m-%dT%H0000\")\n",
    "A = datetime.strptime(already_processed_ts[-1], \"%Y-%m-%dT%H0000\")\n",
    "need_process_ts =  pd.date_range(A, B, freq='h').strftime('%Y-%m-%dT%H0000').tolist()\n",
    "need_process_ts"
   ]
  },
  {
   "cell_type": "code",
   "execution_count": 12,
   "id": "2f238f31",
   "metadata": {
    "execution": {
     "iopub.execute_input": "2025-10-15T01:53:00.311371Z",
     "iopub.status.busy": "2025-10-15T01:53:00.311144Z",
     "iopub.status.idle": "2025-10-15T01:53:47.107100Z",
     "shell.execute_reply": "2025-10-15T01:53:47.106337Z"
    },
    "id": "g-W3s2nRyRY7",
    "papermill": {
     "duration": 46.800369,
     "end_time": "2025-10-15T01:53:47.107799",
     "exception": false,
     "start_time": "2025-10-15T01:53:00.307430",
     "status": "completed"
    },
    "tags": []
   },
   "outputs": [
    {
     "name": "stderr",
     "output_type": "stream",
     "text": [
      "\r",
      "  0%|          | 0/1983 [00:00<?, ?it/s]"
     ]
    },
    {
     "name": "stderr",
     "output_type": "stream",
     "text": [
      "\r",
      "100%|█████████▉| 1982/1983 [00:25<00:00, 78.24it/s]"
     ]
    },
    {
     "name": "stdout",
     "output_type": "stream",
     "text": [
      "Done dt=2025-10-14/2025-10-14T230000.parquet\n"
     ]
    },
    {
     "name": "stderr",
     "output_type": "stream",
     "text": [
      "\r",
      "100%|█████████▉| 1982/1983 [00:37<00:00, 78.24it/s]"
     ]
    },
    {
     "name": "stderr",
     "output_type": "stream",
     "text": [
      "\r",
      "100%|██████████| 1983/1983 [00:46<00:00, 35.43it/s]"
     ]
    },
    {
     "name": "stderr",
     "output_type": "stream",
     "text": [
      "\r",
      "100%|██████████| 1983/1983 [00:46<00:00, 42.38it/s]"
     ]
    },
    {
     "name": "stdout",
     "output_type": "stream",
     "text": [
      "Done dt=2025-10-15/2025-10-15T000000.parquet\n"
     ]
    },
    {
     "name": "stderr",
     "output_type": "stream",
     "text": [
      "\n"
     ]
    }
   ],
   "source": [
    "storage_options = {\n",
    "    \"account_name\": account_name,\n",
    "    \"account_key\":  account_key,\n",
    "}\n",
    "\n",
    "for ts, files in tqdm(groups.items()):\n",
    "    if ts not in need_process_ts: continue\n",
    "    dt = ts[:10]\n",
    "    # if dt not in need_process:\n",
    "    #     continue\n",
    "    df = pl.scan_csv(f\"az://adjuststblive/*_{ts}_*.csv.gz\", storage_options = storage_options,glob=True, has_header = True, null_values = [\"\",\"NULL\"], ignore_errors=True).select(pl.all().cast(pl.Utf8))\n",
    "    df.sink_parquet(f\"az://adjuststbuatprocessed/live/processing/dt={dt}/{ts}.parquet\", storage_options = storage_options, compression=\"snappy\")\n",
    "    print(f'Done dt={dt}/{ts}.parquet')\n",
    "        "
   ]
  },
  {
   "cell_type": "code",
   "execution_count": 13,
   "id": "7c4c6fe9",
   "metadata": {
    "execution": {
     "iopub.execute_input": "2025-10-15T01:53:47.115789Z",
     "iopub.status.busy": "2025-10-15T01:53:47.115618Z",
     "iopub.status.idle": "2025-10-15T01:53:47.119821Z",
     "shell.execute_reply": "2025-10-15T01:53:47.119055Z"
    },
    "papermill": {
     "duration": 0.009004,
     "end_time": "2025-10-15T01:53:47.120491",
     "exception": false,
     "start_time": "2025-10-15T01:53:47.111487",
     "status": "completed"
    },
    "tags": []
   },
   "outputs": [
    {
     "data": {
      "text/plain": [
       "{'2025-10-14', '2025-10-15'}"
      ]
     },
     "execution_count": 13,
     "metadata": {},
     "output_type": "execute_result"
    }
   ],
   "source": [
    "need_process = set([i.split(\"T\")[0] for i in need_process_ts])\n",
    "need_process"
   ]
  },
  {
   "cell_type": "code",
   "execution_count": 14,
   "id": "b83befaf",
   "metadata": {
    "execution": {
     "iopub.execute_input": "2025-10-15T01:53:47.128140Z",
     "iopub.status.busy": "2025-10-15T01:53:47.127946Z",
     "iopub.status.idle": "2025-10-15T01:55:22.009901Z",
     "shell.execute_reply": "2025-10-15T01:55:22.008400Z"
    },
    "id": "sBm7rfFUyePJ",
    "papermill": {
     "duration": 94.886612,
     "end_time": "2025-10-15T01:55:22.010523",
     "exception": false,
     "start_time": "2025-10-15T01:53:47.123911",
     "status": "completed"
    },
    "tags": []
   },
   "outputs": [
    {
     "name": "stdout",
     "output_type": "stream",
     "text": [
      "\n",
      " Done 2025-10-14\n",
      "\n"
     ]
    },
    {
     "name": "stdout",
     "output_type": "stream",
     "text": [
      "\n",
      " Done 2025-10-15\n",
      "\n"
     ]
    }
   ],
   "source": [
    "for dt in need_process:\n",
    "  df = pl.scan_parquet(f\"az://adjuststbuatprocessed/live/processing/dt={dt}/*.parquet\", storage_options=storage_options,glob=True).with_columns(pl.lit(dt).alias(\"dt\"))\n",
    "  df.sink_parquet(f\"az://adjuststbuatprocessed/live/output/{dt}.parquet\", storage_options=storage_options, compression=\"snappy\")\n",
    "  print(f'\\n Done {dt}\\n')"
   ]
  }
 ],
 "metadata": {
  "colab": {
   "authorship_tag": "ABX9TyOfzO6uvqUX+Tt89Y73G9E8",
   "include_colab_link": true,
   "provenance": []
  },
  "kernelspec": {
   "display_name": "Python 3",
   "name": "python3"
  },
  "language_info": {
   "codemirror_mode": {
    "name": "ipython",
    "version": 3
   },
   "file_extension": ".py",
   "mimetype": "text/x-python",
   "name": "python",
   "nbconvert_exporter": "python",
   "pygments_lexer": "ipython3",
   "version": "3.11.13"
  },
  "papermill": {
   "default_parameters": {},
   "duration": 212.042144,
   "end_time": "2025-10-15T01:55:22.941612",
   "environment_variables": {},
   "exception": null,
   "input_path": "notebooks/ADJUST_JOB.ipynb",
   "output_path": "outputs/ADJUST_JOB_2025-10-15.ipynb",
   "parameters": {
    "RUN_DATE": "2025-10-15"
   },
   "start_time": "2025-10-15T01:51:50.899468",
   "version": "2.6.0"
  }
 },
 "nbformat": 4,
 "nbformat_minor": 5
}