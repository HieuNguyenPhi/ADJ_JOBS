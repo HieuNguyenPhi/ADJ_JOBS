{
 "cells": [
  {
   "cell_type": "code",
   "execution_count": 1,
   "id": "c9586387",
   "metadata": {
    "execution": {
     "iopub.execute_input": "2025-10-16T08:22:36.522579Z",
     "iopub.status.busy": "2025-10-16T08:22:36.522360Z",
     "iopub.status.idle": "2025-10-16T08:22:36.527877Z",
     "shell.execute_reply": "2025-10-16T08:22:36.527113Z"
    },
    "papermill": {
     "duration": 0.01008,
     "end_time": "2025-10-16T08:22:36.528506",
     "exception": false,
     "start_time": "2025-10-16T08:22:36.518426",
     "status": "completed"
    },
    "tags": [
     "injected-parameters"
    ]
   },
   "outputs": [],
   "source": [
    "# Parameters\n",
    "RUN_DATE = \"2025-10-16\"\n"
   ]
  },
  {
   "cell_type": "markdown",
   "id": "89507bcc",
   "metadata": {
    "colab_type": "text",
    "id": "view-in-github",
    "papermill": {
     "duration": 0.002024,
     "end_time": "2025-10-16T08:22:36.532981",
     "exception": false,
     "start_time": "2025-10-16T08:22:36.530957",
     "status": "completed"
    },
    "tags": []
   },
   "source": [
    "<a href=\"https://colab.research.google.com/github/HieuNguyenPhi/ADJ_JOBS/blob/main/notebooks/ADJUST_JOB.ipynb\" target=\"_parent\"><img src=\"https://colab.research.google.com/assets/colab-badge.svg\" alt=\"Open In Colab\"/></a>"
   ]
  },
  {
   "cell_type": "markdown",
   "id": "cc74ef72",
   "metadata": {
    "papermill": {
     "duration": 0.00275,
     "end_time": "2025-10-16T08:22:36.537614",
     "exception": false,
     "start_time": "2025-10-16T08:22:36.534864",
     "status": "completed"
    },
    "tags": []
   },
   "source": [
    "# UAT"
   ]
  },
  {
   "cell_type": "code",
   "execution_count": 2,
   "id": "d58268bc",
   "metadata": {
    "execution": {
     "iopub.execute_input": "2025-10-16T08:22:36.542328Z",
     "iopub.status.busy": "2025-10-16T08:22:36.542156Z",
     "iopub.status.idle": "2025-10-16T08:22:43.041239Z",
     "shell.execute_reply": "2025-10-16T08:22:43.040284Z"
    },
    "id": "ycUR2r1dq1Nm",
    "papermill": {
     "duration": 6.50238,
     "end_time": "2025-10-16T08:22:43.041880",
     "exception": false,
     "start_time": "2025-10-16T08:22:36.539500",
     "status": "completed"
    },
    "tags": []
   },
   "outputs": [
    {
     "data": {
      "text/plain": [
       "['2025-10-15T160000',\n",
       " '2025-10-15T170000',\n",
       " '2025-10-15T180000',\n",
       " '2025-10-15T190000',\n",
       " '2025-10-15T230000']"
      ]
     },
     "execution_count": 2,
     "metadata": {},
     "output_type": "execute_result"
    }
   ],
   "source": [
    "import os\n",
    "from azure.storage.blob import BlobServiceClient\n",
    "\n",
    "account_name = os.getenv('ACCOUNT_NAME')\n",
    "account_key = os.getenv('ACCOUNT_KEY')\n",
    "# Replace with your Azure Storage account name and SAS token or connection string\n",
    "connect_str = f\"DefaultEndpointsProtocol=https;AccountName={account_name};AccountKey={account_key};EndpointSuffix=core.windows.net\"\n",
    "blob_service_client = BlobServiceClient.from_connection_string(connect_str)\n",
    "container_list = blob_service_client.list_containers()\n",
    "container_name = \"adjuststbuatprocessed\" #os.getenv('CONTAINER_NAME')\n",
    "container_client = blob_service_client.get_container_client(container_name)\n",
    "# already_processed = [file.name.split('/')[1].split('.')[0] for file in container_client.list_blobs() if file.name.split('/')[0] == 'output']\n",
    "# already_processed[-5:]\n",
    "already_processed_ts = sorted([file.name.split('/')[-1].split(\".\")[0] for file in container_client.list_blobs() if file.name.split('/')[0] == 'processing'])\n",
    "already_processed_ts[-5:]"
   ]
  },
  {
   "cell_type": "code",
   "execution_count": 3,
   "id": "03bdb4c5",
   "metadata": {
    "execution": {
     "iopub.execute_input": "2025-10-16T08:22:43.047796Z",
     "iopub.status.busy": "2025-10-16T08:22:43.047506Z",
     "iopub.status.idle": "2025-10-16T08:22:51.731183Z",
     "shell.execute_reply": "2025-10-16T08:22:51.730406Z"
    },
    "id": "xyPuVC12s7fn",
    "papermill": {
     "duration": 8.687444,
     "end_time": "2025-10-16T08:22:51.731813",
     "exception": false,
     "start_time": "2025-10-16T08:22:43.044369",
     "status": "completed"
    },
    "tags": []
   },
   "outputs": [
    {
     "data": {
      "text/plain": [
       "['rsh20bkkb4zk_2025-10-16T070000_762c775ae454d23f2c6b6a75623d14c7_2853a0.csv.gz',\n",
       " 'rsh20bkkb4zk_2025-10-16T070000_762c775ae454d23f2c6b6a75623d14c7_2853a1.csv.gz',\n",
       " 'rsh20bkkb4zk_2025-10-16T070000_762c775ae454d23f2c6b6a75623d14c7_be8220.csv.gz',\n",
       " 'rsh20bkkb4zk_2025-10-16T070000_762c775ae454d23f2c6b6a75623d14c7_be8221.csv.gz',\n",
       " 'rsh20bkkb4zk_2025-10-16T070000_762c775ae454d23f2c6b6a75623d14c7_c35750.csv.gz',\n",
       " 'rsh20bkkb4zk_2025-10-16T070000_762c775ae454d23f2c6b6a75623d14c7_c35751.csv.gz']"
      ]
     },
     "execution_count": 3,
     "metadata": {},
     "output_type": "execute_result"
    }
   ],
   "source": [
    "container_name_uat = \"adjuststbuat\"\n",
    "container_client_uat = blob_service_client.get_container_client(container_name_uat)\n",
    "from collections import defaultdict\n",
    "files = [i.name for i in container_client_uat.list_blobs()]\n",
    "groups = defaultdict(list)\n",
    "for f in files:\n",
    "    dt = f.split('_')[1]\n",
    "    groups[dt].append(f)\n",
    "groups[dt]"
   ]
  },
  {
   "cell_type": "code",
   "execution_count": 4,
   "id": "afff7e81",
   "metadata": {
    "execution": {
     "iopub.execute_input": "2025-10-16T08:22:51.737608Z",
     "iopub.status.busy": "2025-10-16T08:22:51.737431Z",
     "iopub.status.idle": "2025-10-16T08:22:51.740105Z",
     "shell.execute_reply": "2025-10-16T08:22:51.739425Z"
    },
    "papermill": {
     "duration": 0.006338,
     "end_time": "2025-10-16T08:22:51.740779",
     "exception": false,
     "start_time": "2025-10-16T08:22:51.734441",
     "status": "completed"
    },
    "tags": []
   },
   "outputs": [],
   "source": [
    "# from datetime import date, timedelta, datetime\n",
    "# import pandas as pd\n",
    "# today = date.today().strftime('%Y-%m-%d')\n",
    "# yesterday = (date.today() - timedelta(days = 1) ).strftime('%Y-%m-%d')\n",
    "# check_date = dt.split(\"T\")[0]\n",
    "# if check_date == today:\n",
    "#     need_process = pd.date_range(start=already_processed[-1], end=today).strftime('%Y-%m-%d').to_list()\n",
    "# else:\n",
    "#     need_process = pd.date_range(start=already_processed[-1], end=yesterday).strftime('%Y-%m-%d').to_list()\n",
    "# need_process"
   ]
  },
  {
   "cell_type": "code",
   "execution_count": 5,
   "id": "54272ba0",
   "metadata": {
    "execution": {
     "iopub.execute_input": "2025-10-16T08:22:51.746067Z",
     "iopub.status.busy": "2025-10-16T08:22:51.745870Z",
     "iopub.status.idle": "2025-10-16T08:22:52.069310Z",
     "shell.execute_reply": "2025-10-16T08:22:52.068374Z"
    },
    "papermill": {
     "duration": 0.326944,
     "end_time": "2025-10-16T08:22:52.069966",
     "exception": false,
     "start_time": "2025-10-16T08:22:51.743022",
     "status": "completed"
    },
    "tags": []
   },
   "outputs": [
    {
     "data": {
      "text/plain": [
       "['2025-10-15T190000',\n",
       " '2025-10-15T200000',\n",
       " '2025-10-15T210000',\n",
       " '2025-10-15T220000',\n",
       " '2025-10-15T230000',\n",
       " '2025-10-16T000000',\n",
       " '2025-10-16T010000',\n",
       " '2025-10-16T020000',\n",
       " '2025-10-16T030000',\n",
       " '2025-10-16T040000',\n",
       " '2025-10-16T050000',\n",
       " '2025-10-16T060000',\n",
       " '2025-10-16T070000']"
      ]
     },
     "execution_count": 5,
     "metadata": {},
     "output_type": "execute_result"
    }
   ],
   "source": [
    "from datetime import datetime\n",
    "import pandas as pd\n",
    "B = datetime.strptime(dt, \"%Y-%m-%dT%H0000\")\n",
    "A = datetime.strptime(already_processed_ts[-2], \"%Y-%m-%dT%H0000\")\n",
    "need_process_ts =  pd.date_range(A, B, freq='h').strftime('%Y-%m-%dT%H0000').tolist()\n",
    "need_process_ts"
   ]
  },
  {
   "cell_type": "code",
   "execution_count": 6,
   "id": "3d1bd6e7",
   "metadata": {
    "execution": {
     "iopub.execute_input": "2025-10-16T08:22:52.076028Z",
     "iopub.status.busy": "2025-10-16T08:22:52.075715Z",
     "iopub.status.idle": "2025-10-16T08:24:15.491753Z",
     "shell.execute_reply": "2025-10-16T08:24:15.490985Z"
    },
    "papermill": {
     "duration": 83.419758,
     "end_time": "2025-10-16T08:24:15.492393",
     "exception": false,
     "start_time": "2025-10-16T08:22:52.072635",
     "status": "completed"
    },
    "tags": []
   },
   "outputs": [
    {
     "name": "stderr",
     "output_type": "stream",
     "text": [
      "\r",
      "  0%|          | 0/1995 [00:00<?, ?it/s]"
     ]
    },
    {
     "name": "stderr",
     "output_type": "stream",
     "text": [
      "\r",
      "100%|█████████▉| 1987/1995 [00:11<00:00, 177.60it/s]"
     ]
    },
    {
     "name": "stdout",
     "output_type": "stream",
     "text": [
      "Done dt=2025-10-15/2025-10-15T190000.parquet\n"
     ]
    },
    {
     "name": "stdout",
     "output_type": "stream",
     "text": [
      "Done dt=2025-10-15/2025-10-15T230000.parquet\n"
     ]
    },
    {
     "name": "stdout",
     "output_type": "stream",
     "text": [
      "Done dt=2025-10-16/2025-10-16T010000.parquet\n"
     ]
    },
    {
     "name": "stderr",
     "output_type": "stream",
     "text": [
      "\r",
      "100%|█████████▉| 1987/1995 [00:29<00:00, 177.60it/s]"
     ]
    },
    {
     "name": "stderr",
     "output_type": "stream",
     "text": [
      "\r",
      "100%|█████████▉| 1990/1995 [00:38<00:00, 40.03it/s] "
     ]
    },
    {
     "name": "stdout",
     "output_type": "stream",
     "text": [
      "Done dt=2025-10-16/2025-10-16T020000.parquet\n"
     ]
    },
    {
     "name": "stderr",
     "output_type": "stream",
     "text": [
      "\r",
      "100%|█████████▉| 1991/1995 [00:47<00:00, 29.41it/s]"
     ]
    },
    {
     "name": "stdout",
     "output_type": "stream",
     "text": [
      "Done dt=2025-10-16/2025-10-16T030000.parquet\n"
     ]
    },
    {
     "name": "stderr",
     "output_type": "stream",
     "text": [
      "\r",
      "100%|█████████▉| 1992/1995 [00:55<00:00, 21.38it/s]"
     ]
    },
    {
     "name": "stdout",
     "output_type": "stream",
     "text": [
      "Done dt=2025-10-16/2025-10-16T040000.parquet\n"
     ]
    },
    {
     "name": "stderr",
     "output_type": "stream",
     "text": [
      "\r",
      "100%|█████████▉| 1993/1995 [01:05<00:00, 14.86it/s]"
     ]
    },
    {
     "name": "stdout",
     "output_type": "stream",
     "text": [
      "Done dt=2025-10-16/2025-10-16T050000.parquet\n"
     ]
    },
    {
     "name": "stderr",
     "output_type": "stream",
     "text": [
      "\r",
      "100%|█████████▉| 1994/1995 [01:14<00:00, 10.72it/s]"
     ]
    },
    {
     "name": "stdout",
     "output_type": "stream",
     "text": [
      "Done dt=2025-10-16/2025-10-16T060000.parquet\n"
     ]
    },
    {
     "name": "stderr",
     "output_type": "stream",
     "text": [
      "\r",
      "100%|██████████| 1995/1995 [01:23<00:00,  7.69it/s]"
     ]
    },
    {
     "name": "stderr",
     "output_type": "stream",
     "text": [
      "\r",
      "100%|██████████| 1995/1995 [01:23<00:00, 23.94it/s]"
     ]
    },
    {
     "name": "stdout",
     "output_type": "stream",
     "text": [
      "Done dt=2025-10-16/2025-10-16T070000.parquet\n"
     ]
    },
    {
     "name": "stderr",
     "output_type": "stream",
     "text": [
      "\n"
     ]
    }
   ],
   "source": [
    "import polars as pl \n",
    "from tqdm import tqdm\n",
    "storage_options = {\n",
    "    \"account_name\": account_name,\n",
    "    \"account_key\":  account_key,\n",
    "}\n",
    "\n",
    "for ts, files in tqdm(groups.items()):\n",
    "    if ts not in need_process_ts:\n",
    "        continue\n",
    "    dt = ts[:10]\n",
    "    # if dt not in need_process:\n",
    "    #     continue\n",
    "    df = pl.scan_csv(f\"az://adjuststbuat/*_{ts}_*.csv.gz\", storage_options = storage_options,glob=True, has_header = True, null_values = [\"\",\"NULL\"], ignore_errors=True).select(pl.all().cast(pl.Utf8))\n",
    "    df.sink_parquet(f\"az://adjuststbuatprocessed/processing/dt={dt}/{ts}.parquet\", storage_options = storage_options, compression=\"snappy\")\n",
    "    print(f'Done dt={dt}/{ts}.parquet')\n",
    "        "
   ]
  },
  {
   "cell_type": "code",
   "execution_count": 7,
   "id": "c630ac5d",
   "metadata": {
    "execution": {
     "iopub.execute_input": "2025-10-16T08:24:15.499864Z",
     "iopub.status.busy": "2025-10-16T08:24:15.499679Z",
     "iopub.status.idle": "2025-10-16T08:24:15.503871Z",
     "shell.execute_reply": "2025-10-16T08:24:15.503069Z"
    },
    "papermill": {
     "duration": 0.008638,
     "end_time": "2025-10-16T08:24:15.504424",
     "exception": false,
     "start_time": "2025-10-16T08:24:15.495786",
     "status": "completed"
    },
    "tags": []
   },
   "outputs": [
    {
     "data": {
      "text/plain": [
       "{'2025-10-15', '2025-10-16'}"
      ]
     },
     "execution_count": 7,
     "metadata": {},
     "output_type": "execute_result"
    }
   ],
   "source": [
    "need_process = set([i.split(\"T\")[0] for i in need_process_ts])\n",
    "need_process"
   ]
  },
  {
   "cell_type": "code",
   "execution_count": 8,
   "id": "89d32783",
   "metadata": {
    "execution": {
     "iopub.execute_input": "2025-10-16T08:24:15.511496Z",
     "iopub.status.busy": "2025-10-16T08:24:15.511325Z",
     "iopub.status.idle": "2025-10-16T08:24:24.473081Z",
     "shell.execute_reply": "2025-10-16T08:24:24.472332Z"
    },
    "papermill": {
     "duration": 8.966149,
     "end_time": "2025-10-16T08:24:24.473717",
     "exception": false,
     "start_time": "2025-10-16T08:24:15.507568",
     "status": "completed"
    },
    "tags": []
   },
   "outputs": [
    {
     "name": "stdout",
     "output_type": "stream",
     "text": [
      "\n",
      " Done 2025-10-16\n",
      "\n"
     ]
    },
    {
     "name": "stdout",
     "output_type": "stream",
     "text": [
      "\n",
      " Done 2025-10-15\n",
      "\n"
     ]
    }
   ],
   "source": [
    "for dt in need_process:\n",
    "  df = pl.scan_parquet(f\"az://adjuststbuatprocessed/processing/dt={dt}/*.parquet\", storage_options=storage_options,glob=True).with_columns(pl.lit(dt).alias(\"dt\"))\n",
    "  df.sink_parquet(f\"az://adjuststbuatprocessed/output/{dt}.parquet\", storage_options=storage_options, compression=\"snappy\")\n",
    "  print(f'\\n Done {dt}\\n')"
   ]
  },
  {
   "cell_type": "markdown",
   "id": "cd4852cf",
   "metadata": {
    "id": "2TvKr29qyJd_",
    "papermill": {
     "duration": 0.003325,
     "end_time": "2025-10-16T08:24:24.480553",
     "exception": false,
     "start_time": "2025-10-16T08:24:24.477228",
     "status": "completed"
    },
    "tags": []
   },
   "source": [
    "# Live"
   ]
  },
  {
   "cell_type": "code",
   "execution_count": 9,
   "id": "70fc520e",
   "metadata": {
    "execution": {
     "iopub.execute_input": "2025-10-16T08:24:24.487888Z",
     "iopub.status.busy": "2025-10-16T08:24:24.487699Z",
     "iopub.status.idle": "2025-10-16T08:24:28.841786Z",
     "shell.execute_reply": "2025-10-16T08:24:28.840955Z"
    },
    "id": "EnaFsdZFxpwc",
    "papermill": {
     "duration": 4.358593,
     "end_time": "2025-10-16T08:24:28.842376",
     "exception": false,
     "start_time": "2025-10-16T08:24:24.483783",
     "status": "completed"
    },
    "tags": []
   },
   "outputs": [
    {
     "data": {
      "text/plain": [
       "['2025-10-15T200000',\n",
       " '2025-10-15T210000',\n",
       " '2025-10-15T220000',\n",
       " '2025-10-15T230000',\n",
       " '2025-10-16T000000']"
      ]
     },
     "execution_count": 9,
     "metadata": {},
     "output_type": "execute_result"
    }
   ],
   "source": [
    "# already_processed = [file.name.split('/')[-1].split('.')[0] for file in container_client.list_blobs() if file.name[:12] == 'live/output/']\n",
    "# already_processed[-5:]\n",
    "already_processed_ts = sorted([file.name.split('/')[-1].split(\".\")[0] for file in container_client.list_blobs() if (file.name.split('/')[0] + \"/\" + file.name.split('/')[1]) == 'live/processing'])\n",
    "already_processed_ts[-5:]"
   ]
  },
  {
   "cell_type": "code",
   "execution_count": 10,
   "id": "b8bff646",
   "metadata": {
    "execution": {
     "iopub.execute_input": "2025-10-16T08:24:28.851294Z",
     "iopub.status.busy": "2025-10-16T08:24:28.851062Z",
     "iopub.status.idle": "2025-10-16T08:24:41.044824Z",
     "shell.execute_reply": "2025-10-16T08:24:41.043949Z"
    },
    "id": "I7Er6YEUyOsL",
    "papermill": {
     "duration": 12.19938,
     "end_time": "2025-10-16T08:24:41.045433",
     "exception": false,
     "start_time": "2025-10-16T08:24:28.846053",
     "status": "completed"
    },
    "tags": []
   },
   "outputs": [
    {
     "data": {
      "text/plain": [
       "['65n1fgov4zr4_2025-10-16T070000_762c775ae454d23f2c6b6a75623d14c7_2853a0.csv.gz',\n",
       " '65n1fgov4zr4_2025-10-16T070000_762c775ae454d23f2c6b6a75623d14c7_2853a1.csv.gz',\n",
       " '65n1fgov4zr4_2025-10-16T070000_762c775ae454d23f2c6b6a75623d14c7_be8220.csv.gz',\n",
       " '65n1fgov4zr4_2025-10-16T070000_762c775ae454d23f2c6b6a75623d14c7_be8221.csv.gz',\n",
       " '65n1fgov4zr4_2025-10-16T070000_762c775ae454d23f2c6b6a75623d14c7_c35750.csv.gz',\n",
       " '65n1fgov4zr4_2025-10-16T070000_762c775ae454d23f2c6b6a75623d14c7_c35751.csv.gz']"
      ]
     },
     "execution_count": 10,
     "metadata": {},
     "output_type": "execute_result"
    }
   ],
   "source": [
    "container_name_uat = \"adjuststblive\"\n",
    "container_client_uat = blob_service_client.get_container_client(container_name_uat)\n",
    "from collections import defaultdict\n",
    "files = [i.name for i in container_client_uat.list_blobs()]\n",
    "groups = defaultdict(list)\n",
    "for f in files:\n",
    "    dt = f.split('_')[1]\n",
    "    groups[dt].append(f)\n",
    "groups[dt]"
   ]
  },
  {
   "cell_type": "code",
   "execution_count": 11,
   "id": "ea3e7af0",
   "metadata": {
    "execution": {
     "iopub.execute_input": "2025-10-16T08:24:41.053845Z",
     "iopub.status.busy": "2025-10-16T08:24:41.053621Z",
     "iopub.status.idle": "2025-10-16T08:24:41.059023Z",
     "shell.execute_reply": "2025-10-16T08:24:41.058275Z"
    },
    "papermill": {
     "duration": 0.010494,
     "end_time": "2025-10-16T08:24:41.059673",
     "exception": false,
     "start_time": "2025-10-16T08:24:41.049179",
     "status": "completed"
    },
    "tags": []
   },
   "outputs": [
    {
     "data": {
      "text/plain": [
       "['2025-10-16T000000',\n",
       " '2025-10-16T010000',\n",
       " '2025-10-16T020000',\n",
       " '2025-10-16T030000',\n",
       " '2025-10-16T040000',\n",
       " '2025-10-16T050000',\n",
       " '2025-10-16T060000',\n",
       " '2025-10-16T070000']"
      ]
     },
     "execution_count": 11,
     "metadata": {},
     "output_type": "execute_result"
    }
   ],
   "source": [
    "# need_process = pd.date_range(start=already_processed[-1], end=today).strftime('%Y-%m-%d').to_list()\n",
    "# need_process\n",
    "\n",
    "B = datetime.strptime(dt, \"%Y-%m-%dT%H0000\")\n",
    "A = datetime.strptime(already_processed_ts[-1], \"%Y-%m-%dT%H0000\")\n",
    "need_process_ts =  pd.date_range(A, B, freq='h').strftime('%Y-%m-%dT%H0000').tolist()\n",
    "need_process_ts"
   ]
  },
  {
   "cell_type": "code",
   "execution_count": 12,
   "id": "747be8fe",
   "metadata": {
    "execution": {
     "iopub.execute_input": "2025-10-16T08:24:41.067604Z",
     "iopub.status.busy": "2025-10-16T08:24:41.067422Z",
     "iopub.status.idle": "2025-10-16T08:28:04.187193Z",
     "shell.execute_reply": "2025-10-16T08:28:04.186297Z"
    },
    "id": "g-W3s2nRyRY7",
    "papermill": {
     "duration": 203.124526,
     "end_time": "2025-10-16T08:28:04.187826",
     "exception": false,
     "start_time": "2025-10-16T08:24:41.063300",
     "status": "completed"
    },
    "tags": []
   },
   "outputs": [
    {
     "name": "stderr",
     "output_type": "stream",
     "text": [
      "\r",
      "  0%|          | 0/2014 [00:00<?, ?it/s]"
     ]
    },
    {
     "name": "stderr",
     "output_type": "stream",
     "text": [
      "\r",
      "100%|█████████▉| 2007/2014 [00:26<00:00, 76.96it/s]"
     ]
    },
    {
     "name": "stdout",
     "output_type": "stream",
     "text": [
      "Done dt=2025-10-16/2025-10-16T000000.parquet\n"
     ]
    },
    {
     "name": "stderr",
     "output_type": "stream",
     "text": [
      "\r",
      "100%|█████████▉| 2007/2014 [00:41<00:00, 76.96it/s]"
     ]
    },
    {
     "name": "stderr",
     "output_type": "stream",
     "text": [
      "\r",
      "100%|█████████▉| 2008/2014 [00:48<00:00, 34.27it/s]"
     ]
    },
    {
     "name": "stdout",
     "output_type": "stream",
     "text": [
      "Done dt=2025-10-16/2025-10-16T010000.parquet\n"
     ]
    },
    {
     "name": "stderr",
     "output_type": "stream",
     "text": [
      "\r",
      "100%|█████████▉| 2009/2014 [01:13<00:00, 18.53it/s]"
     ]
    },
    {
     "name": "stdout",
     "output_type": "stream",
     "text": [
      "Done dt=2025-10-16/2025-10-16T020000.parquet\n"
     ]
    },
    {
     "name": "stderr",
     "output_type": "stream",
     "text": [
      "\r",
      "100%|█████████▉| 2010/2014 [01:38<00:00, 11.08it/s]"
     ]
    },
    {
     "name": "stdout",
     "output_type": "stream",
     "text": [
      "Done dt=2025-10-16/2025-10-16T030000.parquet\n"
     ]
    },
    {
     "name": "stderr",
     "output_type": "stream",
     "text": [
      "\r",
      "100%|█████████▉| 2011/2014 [02:05<00:00,  6.81it/s]"
     ]
    },
    {
     "name": "stdout",
     "output_type": "stream",
     "text": [
      "Done dt=2025-10-16/2025-10-16T040000.parquet\n"
     ]
    },
    {
     "name": "stderr",
     "output_type": "stream",
     "text": [
      "\r",
      "100%|█████████▉| 2012/2014 [02:31<00:00,  4.50it/s]"
     ]
    },
    {
     "name": "stdout",
     "output_type": "stream",
     "text": [
      "Done dt=2025-10-16/2025-10-16T050000.parquet\n"
     ]
    },
    {
     "name": "stderr",
     "output_type": "stream",
     "text": [
      "\r",
      "100%|█████████▉| 2013/2014 [02:57<00:00,  3.04it/s]"
     ]
    },
    {
     "name": "stdout",
     "output_type": "stream",
     "text": [
      "Done dt=2025-10-16/2025-10-16T060000.parquet\n"
     ]
    },
    {
     "name": "stderr",
     "output_type": "stream",
     "text": [
      "\r",
      "100%|██████████| 2014/2014 [03:23<00:00,  2.09it/s]"
     ]
    },
    {
     "name": "stderr",
     "output_type": "stream",
     "text": [
      "\r",
      "100%|██████████| 2014/2014 [03:23<00:00,  9.92it/s]"
     ]
    },
    {
     "name": "stdout",
     "output_type": "stream",
     "text": [
      "Done dt=2025-10-16/2025-10-16T070000.parquet\n"
     ]
    },
    {
     "name": "stderr",
     "output_type": "stream",
     "text": [
      "\n"
     ]
    }
   ],
   "source": [
    "storage_options = {\n",
    "    \"account_name\": account_name,\n",
    "    \"account_key\":  account_key,\n",
    "}\n",
    "\n",
    "for ts, files in tqdm(groups.items()):\n",
    "    if ts not in need_process_ts: continue\n",
    "    dt = ts[:10]\n",
    "    # if dt not in need_process:\n",
    "    #     continue\n",
    "    df = pl.scan_csv(f\"az://adjuststblive/*_{ts}_*.csv.gz\", storage_options = storage_options,glob=True, has_header = True, null_values = [\"\",\"NULL\"], ignore_errors=True).select(pl.all().cast(pl.Utf8))\n",
    "    df.sink_parquet(f\"az://adjuststbuatprocessed/live/processing/dt={dt}/{ts}.parquet\", storage_options = storage_options, compression=\"snappy\")\n",
    "    print(f'Done dt={dt}/{ts}.parquet')\n",
    "        "
   ]
  },
  {
   "cell_type": "code",
   "execution_count": 13,
   "id": "59896355",
   "metadata": {
    "execution": {
     "iopub.execute_input": "2025-10-16T08:28:04.197542Z",
     "iopub.status.busy": "2025-10-16T08:28:04.197380Z",
     "iopub.status.idle": "2025-10-16T08:28:04.201344Z",
     "shell.execute_reply": "2025-10-16T08:28:04.200629Z"
    },
    "papermill": {
     "duration": 0.009624,
     "end_time": "2025-10-16T08:28:04.201999",
     "exception": false,
     "start_time": "2025-10-16T08:28:04.192375",
     "status": "completed"
    },
    "tags": []
   },
   "outputs": [
    {
     "data": {
      "text/plain": [
       "{'2025-10-16'}"
      ]
     },
     "execution_count": 13,
     "metadata": {},
     "output_type": "execute_result"
    }
   ],
   "source": [
    "need_process = set([i.split(\"T\")[0] for i in need_process_ts])\n",
    "need_process"
   ]
  },
  {
   "cell_type": "code",
   "execution_count": 14,
   "id": "f5228e9d",
   "metadata": {
    "execution": {
     "iopub.execute_input": "2025-10-16T08:28:04.211180Z",
     "iopub.status.busy": "2025-10-16T08:28:04.211018Z",
     "iopub.status.idle": "2025-10-16T08:28:39.719997Z",
     "shell.execute_reply": "2025-10-16T08:28:39.719064Z"
    },
    "id": "sBm7rfFUyePJ",
    "papermill": {
     "duration": 35.518334,
     "end_time": "2025-10-16T08:28:39.724547",
     "exception": false,
     "start_time": "2025-10-16T08:28:04.206213",
     "status": "completed"
    },
    "tags": []
   },
   "outputs": [
    {
     "name": "stdout",
     "output_type": "stream",
     "text": [
      "\n",
      " Done 2025-10-16\n",
      "\n"
     ]
    }
   ],
   "source": [
    "for dt in need_process:\n",
    "  df = pl.scan_parquet(f\"az://adjuststbuatprocessed/live/processing/dt={dt}/*.parquet\", storage_options=storage_options,glob=True).with_columns(pl.lit(dt).alias(\"dt\"))\n",
    "  df.sink_parquet(f\"az://adjuststbuatprocessed/live/output/{dt}.parquet\", storage_options=storage_options, compression=\"snappy\")\n",
    "  print(f'\\n Done {dt}\\n')"
   ]
  }
 ],
 "metadata": {
  "colab": {
   "authorship_tag": "ABX9TyOfzO6uvqUX+Tt89Y73G9E8",
   "include_colab_link": true,
   "provenance": []
  },
  "kernelspec": {
   "display_name": "Python 3",
   "name": "python3"
  },
  "language_info": {
   "codemirror_mode": {
    "name": "ipython",
    "version": 3
   },
   "file_extension": ".py",
   "mimetype": "text/x-python",
   "name": "python",
   "nbconvert_exporter": "python",
   "pygments_lexer": "ipython3",
   "version": "3.11.13"
  },
  "papermill": {
   "default_parameters": {},
   "duration": 365.249364,
   "end_time": "2025-10-16T08:28:40.547793",
   "environment_variables": {},
   "exception": null,
   "input_path": "notebooks/ADJUST_JOB.ipynb",
   "output_path": "outputs/ADJUST_JOB_2025-10-16.ipynb",
   "parameters": {
    "RUN_DATE": "2025-10-16"
   },
   "start_time": "2025-10-16T08:22:35.298429",
   "version": "2.6.0"
  }
 },
 "nbformat": 4,
 "nbformat_minor": 5
}