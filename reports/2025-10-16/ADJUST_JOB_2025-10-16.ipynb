{
 "cells": [
  {
   "cell_type": "code",
   "execution_count": 1,
   "id": "8f7426ff",
   "metadata": {
    "execution": {
     "iopub.execute_input": "2025-10-16T01:50:35.541586Z",
     "iopub.status.busy": "2025-10-16T01:50:35.541410Z",
     "iopub.status.idle": "2025-10-16T01:50:35.546788Z",
     "shell.execute_reply": "2025-10-16T01:50:35.545937Z"
    },
    "papermill": {
     "duration": 0.009514,
     "end_time": "2025-10-16T01:50:35.547408",
     "exception": false,
     "start_time": "2025-10-16T01:50:35.537894",
     "status": "completed"
    },
    "tags": [
     "injected-parameters"
    ]
   },
   "outputs": [],
   "source": [
    "# Parameters\n",
    "RUN_DATE = \"2025-10-16\"\n"
   ]
  },
  {
   "cell_type": "markdown",
   "id": "9f5c21d4",
   "metadata": {
    "colab_type": "text",
    "id": "view-in-github",
    "papermill": {
     "duration": 0.001926,
     "end_time": "2025-10-16T01:50:35.551534",
     "exception": false,
     "start_time": "2025-10-16T01:50:35.549608",
     "status": "completed"
    },
    "tags": []
   },
   "source": [
    "<a href=\"https://colab.research.google.com/github/HieuNguyenPhi/ADJ_JOBS/blob/main/notebooks/ADJUST_JOB.ipynb\" target=\"_parent\"><img src=\"https://colab.research.google.com/assets/colab-badge.svg\" alt=\"Open In Colab\"/></a>"
   ]
  },
  {
   "cell_type": "markdown",
   "id": "bd5d1a0a",
   "metadata": {
    "papermill": {
     "duration": 0.002761,
     "end_time": "2025-10-16T01:50:35.556230",
     "exception": false,
     "start_time": "2025-10-16T01:50:35.553469",
     "status": "completed"
    },
    "tags": []
   },
   "source": [
    "# UAT"
   ]
  },
  {
   "cell_type": "code",
   "execution_count": 2,
   "id": "7f1a2ca4",
   "metadata": {
    "execution": {
     "iopub.execute_input": "2025-10-16T01:50:35.560961Z",
     "iopub.status.busy": "2025-10-16T01:50:35.560807Z",
     "iopub.status.idle": "2025-10-16T01:50:41.559908Z",
     "shell.execute_reply": "2025-10-16T01:50:41.559050Z"
    },
    "id": "ycUR2r1dq1Nm",
    "papermill": {
     "duration": 6.002342,
     "end_time": "2025-10-16T01:50:41.560522",
     "exception": false,
     "start_time": "2025-10-16T01:50:35.558180",
     "status": "completed"
    },
    "tags": []
   },
   "outputs": [
    {
     "data": {
      "text/plain": [
       "['2025-10-15T160000',\n",
       " '2025-10-15T170000',\n",
       " '2025-10-15T180000',\n",
       " '2025-10-15T190000',\n",
       " '2025-10-15T230000']"
      ]
     },
     "execution_count": 2,
     "metadata": {},
     "output_type": "execute_result"
    }
   ],
   "source": [
    "import os\n",
    "from azure.storage.blob import BlobServiceClient\n",
    "\n",
    "account_name = os.getenv('ACCOUNT_NAME')\n",
    "account_key = os.getenv('ACCOUNT_KEY')\n",
    "# Replace with your Azure Storage account name and SAS token or connection string\n",
    "connect_str = f\"DefaultEndpointsProtocol=https;AccountName={account_name};AccountKey={account_key};EndpointSuffix=core.windows.net\"\n",
    "blob_service_client = BlobServiceClient.from_connection_string(connect_str)\n",
    "container_list = blob_service_client.list_containers()\n",
    "container_name = \"adjuststbuatprocessed\" #os.getenv('CONTAINER_NAME')\n",
    "container_client = blob_service_client.get_container_client(container_name)\n",
    "# already_processed = [file.name.split('/')[1].split('.')[0] for file in container_client.list_blobs() if file.name.split('/')[0] == 'output']\n",
    "# already_processed[-5:]\n",
    "already_processed_ts = sorted([file.name.split('/')[-1].split(\".\")[0] for file in container_client.list_blobs() if file.name.split('/')[0] == 'processing'])\n",
    "already_processed_ts[-5:]"
   ]
  },
  {
   "cell_type": "code",
   "execution_count": 3,
   "id": "cc428970",
   "metadata": {
    "execution": {
     "iopub.execute_input": "2025-10-16T01:50:41.565982Z",
     "iopub.status.busy": "2025-10-16T01:50:41.565740Z",
     "iopub.status.idle": "2025-10-16T01:50:49.333091Z",
     "shell.execute_reply": "2025-10-16T01:50:49.332325Z"
    },
    "id": "xyPuVC12s7fn",
    "papermill": {
     "duration": 7.770906,
     "end_time": "2025-10-16T01:50:49.333806",
     "exception": false,
     "start_time": "2025-10-16T01:50:41.562900",
     "status": "completed"
    },
    "tags": []
   },
   "outputs": [
    {
     "data": {
      "text/plain": [
       "['rsh20bkkb4zk_2025-10-15T230000_762c775ae454d23f2c6b6a75623d14c7_c35750.csv.gz']"
      ]
     },
     "execution_count": 3,
     "metadata": {},
     "output_type": "execute_result"
    }
   ],
   "source": [
    "container_name_uat = \"adjuststbuat\"\n",
    "container_client_uat = blob_service_client.get_container_client(container_name_uat)\n",
    "from collections import defaultdict\n",
    "files = [i.name for i in container_client_uat.list_blobs()]\n",
    "groups = defaultdict(list)\n",
    "for f in files:\n",
    "    dt = f.split('_')[1]\n",
    "    groups[dt].append(f)\n",
    "groups[dt]"
   ]
  },
  {
   "cell_type": "code",
   "execution_count": 4,
   "id": "b0e46838",
   "metadata": {
    "execution": {
     "iopub.execute_input": "2025-10-16T01:50:49.339808Z",
     "iopub.status.busy": "2025-10-16T01:50:49.339447Z",
     "iopub.status.idle": "2025-10-16T01:50:49.342379Z",
     "shell.execute_reply": "2025-10-16T01:50:49.341667Z"
    },
    "papermill": {
     "duration": 0.006694,
     "end_time": "2025-10-16T01:50:49.343091",
     "exception": false,
     "start_time": "2025-10-16T01:50:49.336397",
     "status": "completed"
    },
    "tags": []
   },
   "outputs": [],
   "source": [
    "# from datetime import date, timedelta, datetime\n",
    "# import pandas as pd\n",
    "# today = date.today().strftime('%Y-%m-%d')\n",
    "# yesterday = (date.today() - timedelta(days = 1) ).strftime('%Y-%m-%d')\n",
    "# check_date = dt.split(\"T\")[0]\n",
    "# if check_date == today:\n",
    "#     need_process = pd.date_range(start=already_processed[-1], end=today).strftime('%Y-%m-%d').to_list()\n",
    "# else:\n",
    "#     need_process = pd.date_range(start=already_processed[-1], end=yesterday).strftime('%Y-%m-%d').to_list()\n",
    "# need_process"
   ]
  },
  {
   "cell_type": "code",
   "execution_count": 5,
   "id": "387d9e84",
   "metadata": {
    "execution": {
     "iopub.execute_input": "2025-10-16T01:50:49.348203Z",
     "iopub.status.busy": "2025-10-16T01:50:49.348055Z",
     "iopub.status.idle": "2025-10-16T01:50:49.705538Z",
     "shell.execute_reply": "2025-10-16T01:50:49.704702Z"
    },
    "papermill": {
     "duration": 0.360888,
     "end_time": "2025-10-16T01:50:49.706196",
     "exception": false,
     "start_time": "2025-10-16T01:50:49.345308",
     "status": "completed"
    },
    "tags": []
   },
   "outputs": [
    {
     "data": {
      "text/plain": [
       "['2025-10-15T190000',\n",
       " '2025-10-15T200000',\n",
       " '2025-10-15T210000',\n",
       " '2025-10-15T220000',\n",
       " '2025-10-15T230000']"
      ]
     },
     "execution_count": 5,
     "metadata": {},
     "output_type": "execute_result"
    }
   ],
   "source": [
    "from datetime import datetime\n",
    "import pandas as pd\n",
    "B = datetime.strptime(dt, \"%Y-%m-%dT%H0000\")\n",
    "A = datetime.strptime(already_processed_ts[-2], \"%Y-%m-%dT%H0000\")\n",
    "need_process_ts =  pd.date_range(A, B, freq='h').strftime('%Y-%m-%dT%H0000').tolist()\n",
    "need_process_ts"
   ]
  },
  {
   "cell_type": "code",
   "execution_count": 6,
   "id": "ea72f125",
   "metadata": {
    "execution": {
     "iopub.execute_input": "2025-10-16T01:50:49.712198Z",
     "iopub.status.busy": "2025-10-16T01:50:49.711943Z",
     "iopub.status.idle": "2025-10-16T01:51:06.652796Z",
     "shell.execute_reply": "2025-10-16T01:51:06.651931Z"
    },
    "papermill": {
     "duration": 16.944524,
     "end_time": "2025-10-16T01:51:06.653359",
     "exception": false,
     "start_time": "2025-10-16T01:50:49.708835",
     "status": "completed"
    },
    "tags": []
   },
   "outputs": [
    {
     "name": "stderr",
     "output_type": "stream",
     "text": [
      "\r",
      "  0%|          | 0/1988 [00:00<?, ?it/s]"
     ]
    },
    {
     "name": "stderr",
     "output_type": "stream",
     "text": [
      "\r",
      "100%|█████████▉| 1987/1988 [00:10<00:00, 197.45it/s]"
     ]
    },
    {
     "name": "stdout",
     "output_type": "stream",
     "text": [
      "Done dt=2025-10-15/2025-10-15T190000.parquet\n"
     ]
    },
    {
     "name": "stderr",
     "output_type": "stream",
     "text": [
      "\r",
      "100%|██████████| 1988/1988 [00:16<00:00, 117.84it/s]"
     ]
    },
    {
     "name": "stdout",
     "output_type": "stream",
     "text": [
      "Done dt=2025-10-15/2025-10-15T230000.parquet\n"
     ]
    },
    {
     "name": "stderr",
     "output_type": "stream",
     "text": [
      "\n"
     ]
    }
   ],
   "source": [
    "import polars as pl \n",
    "from tqdm import tqdm\n",
    "storage_options = {\n",
    "    \"account_name\": account_name,\n",
    "    \"account_key\":  account_key,\n",
    "}\n",
    "\n",
    "for ts, files in tqdm(groups.items()):\n",
    "    if ts not in need_process_ts:\n",
    "        continue\n",
    "    dt = ts[:10]\n",
    "    # if dt not in need_process:\n",
    "    #     continue\n",
    "    df = pl.scan_csv(f\"az://adjuststbuat/*_{ts}_*.csv.gz\", storage_options = storage_options,glob=True, has_header = True, null_values = [\"\",\"NULL\"], ignore_errors=True).select(pl.all().cast(pl.Utf8))\n",
    "    df.sink_parquet(f\"az://adjuststbuatprocessed/processing/dt={dt}/{ts}.parquet\", storage_options = storage_options, compression=\"snappy\")\n",
    "    print(f'Done dt={dt}/{ts}.parquet')\n",
    "        "
   ]
  },
  {
   "cell_type": "code",
   "execution_count": 7,
   "id": "c9d47617",
   "metadata": {
    "execution": {
     "iopub.execute_input": "2025-10-16T01:51:06.659733Z",
     "iopub.status.busy": "2025-10-16T01:51:06.659513Z",
     "iopub.status.idle": "2025-10-16T01:51:06.663732Z",
     "shell.execute_reply": "2025-10-16T01:51:06.662920Z"
    },
    "papermill": {
     "duration": 0.008134,
     "end_time": "2025-10-16T01:51:06.664264",
     "exception": false,
     "start_time": "2025-10-16T01:51:06.656130",
     "status": "completed"
    },
    "tags": []
   },
   "outputs": [
    {
     "data": {
      "text/plain": [
       "{'2025-10-15'}"
      ]
     },
     "execution_count": 7,
     "metadata": {},
     "output_type": "execute_result"
    }
   ],
   "source": [
    "need_process = set([i.split(\"T\")[0] for i in need_process_ts])\n",
    "need_process"
   ]
  },
  {
   "cell_type": "code",
   "execution_count": 8,
   "id": "c93e0687",
   "metadata": {
    "execution": {
     "iopub.execute_input": "2025-10-16T01:51:06.670367Z",
     "iopub.status.busy": "2025-10-16T01:51:06.670176Z",
     "iopub.status.idle": "2025-10-16T01:51:11.437500Z",
     "shell.execute_reply": "2025-10-16T01:51:11.436690Z"
    },
    "papermill": {
     "duration": 4.771198,
     "end_time": "2025-10-16T01:51:11.438121",
     "exception": false,
     "start_time": "2025-10-16T01:51:06.666923",
     "status": "completed"
    },
    "tags": []
   },
   "outputs": [
    {
     "name": "stdout",
     "output_type": "stream",
     "text": [
      "\n",
      " Done 2025-10-15\n",
      "\n"
     ]
    }
   ],
   "source": [
    "for dt in need_process:\n",
    "  df = pl.scan_parquet(f\"az://adjuststbuatprocessed/processing/dt={dt}/*.parquet\", storage_options=storage_options,glob=True).with_columns(pl.lit(dt).alias(\"dt\"))\n",
    "  df.sink_parquet(f\"az://adjuststbuatprocessed/output/{dt}.parquet\", storage_options=storage_options, compression=\"snappy\")\n",
    "  print(f'\\n Done {dt}\\n')"
   ]
  },
  {
   "cell_type": "markdown",
   "id": "cfe84bd2",
   "metadata": {
    "id": "2TvKr29qyJd_",
    "papermill": {
     "duration": 0.002627,
     "end_time": "2025-10-16T01:51:11.443695",
     "exception": false,
     "start_time": "2025-10-16T01:51:11.441068",
     "status": "completed"
    },
    "tags": []
   },
   "source": [
    "# Live"
   ]
  },
  {
   "cell_type": "code",
   "execution_count": 9,
   "id": "7c3a305c",
   "metadata": {
    "execution": {
     "iopub.execute_input": "2025-10-16T01:51:11.449889Z",
     "iopub.status.busy": "2025-10-16T01:51:11.449729Z",
     "iopub.status.idle": "2025-10-16T01:51:15.191478Z",
     "shell.execute_reply": "2025-10-16T01:51:15.190651Z"
    },
    "id": "EnaFsdZFxpwc",
    "papermill": {
     "duration": 3.745722,
     "end_time": "2025-10-16T01:51:15.192091",
     "exception": false,
     "start_time": "2025-10-16T01:51:11.446369",
     "status": "completed"
    },
    "tags": []
   },
   "outputs": [
    {
     "data": {
      "text/plain": [
       "['2025-10-15T190000',\n",
       " '2025-10-15T200000',\n",
       " '2025-10-15T210000',\n",
       " '2025-10-15T220000',\n",
       " '2025-10-15T230000']"
      ]
     },
     "execution_count": 9,
     "metadata": {},
     "output_type": "execute_result"
    }
   ],
   "source": [
    "# already_processed = [file.name.split('/')[-1].split('.')[0] for file in container_client.list_blobs() if file.name[:12] == 'live/output/']\n",
    "# already_processed[-5:]\n",
    "already_processed_ts = sorted([file.name.split('/')[-1].split(\".\")[0] for file in container_client.list_blobs() if (file.name.split('/')[0] + \"/\" + file.name.split('/')[1]) == 'live/processing'])\n",
    "already_processed_ts[-5:]"
   ]
  },
  {
   "cell_type": "code",
   "execution_count": 10,
   "id": "4e53cf12",
   "metadata": {
    "execution": {
     "iopub.execute_input": "2025-10-16T01:51:15.198999Z",
     "iopub.status.busy": "2025-10-16T01:51:15.198842Z",
     "iopub.status.idle": "2025-10-16T01:51:26.128810Z",
     "shell.execute_reply": "2025-10-16T01:51:26.127999Z"
    },
    "id": "I7Er6YEUyOsL",
    "papermill": {
     "duration": 10.934205,
     "end_time": "2025-10-16T01:51:26.129395",
     "exception": false,
     "start_time": "2025-10-16T01:51:15.195190",
     "status": "completed"
    },
    "tags": []
   },
   "outputs": [
    {
     "data": {
      "text/plain": [
       "['65n1fgov4zr4_2025-10-16T000000_762c775ae454d23f2c6b6a75623d14c7_2853a0.csv.gz',\n",
       " '65n1fgov4zr4_2025-10-16T000000_762c775ae454d23f2c6b6a75623d14c7_2853a1.csv.gz',\n",
       " '65n1fgov4zr4_2025-10-16T000000_762c775ae454d23f2c6b6a75623d14c7_be8220.csv.gz',\n",
       " '65n1fgov4zr4_2025-10-16T000000_762c775ae454d23f2c6b6a75623d14c7_be8221.csv.gz',\n",
       " '65n1fgov4zr4_2025-10-16T000000_762c775ae454d23f2c6b6a75623d14c7_c35750.csv.gz',\n",
       " '65n1fgov4zr4_2025-10-16T000000_762c775ae454d23f2c6b6a75623d14c7_c35751.csv.gz']"
      ]
     },
     "execution_count": 10,
     "metadata": {},
     "output_type": "execute_result"
    }
   ],
   "source": [
    "container_name_uat = \"adjuststblive\"\n",
    "container_client_uat = blob_service_client.get_container_client(container_name_uat)\n",
    "from collections import defaultdict\n",
    "files = [i.name for i in container_client_uat.list_blobs()]\n",
    "groups = defaultdict(list)\n",
    "for f in files:\n",
    "    dt = f.split('_')[1]\n",
    "    groups[dt].append(f)\n",
    "groups[dt]"
   ]
  },
  {
   "cell_type": "code",
   "execution_count": 11,
   "id": "b4cdfed0",
   "metadata": {
    "execution": {
     "iopub.execute_input": "2025-10-16T01:51:26.136415Z",
     "iopub.status.busy": "2025-10-16T01:51:26.136212Z",
     "iopub.status.idle": "2025-10-16T01:51:26.141035Z",
     "shell.execute_reply": "2025-10-16T01:51:26.140327Z"
    },
    "papermill": {
     "duration": 0.009162,
     "end_time": "2025-10-16T01:51:26.141740",
     "exception": false,
     "start_time": "2025-10-16T01:51:26.132578",
     "status": "completed"
    },
    "tags": []
   },
   "outputs": [
    {
     "data": {
      "text/plain": [
       "['2025-10-15T230000', '2025-10-16T000000']"
      ]
     },
     "execution_count": 11,
     "metadata": {},
     "output_type": "execute_result"
    }
   ],
   "source": [
    "# need_process = pd.date_range(start=already_processed[-1], end=today).strftime('%Y-%m-%d').to_list()\n",
    "# need_process\n",
    "\n",
    "B = datetime.strptime(dt, \"%Y-%m-%dT%H0000\")\n",
    "A = datetime.strptime(already_processed_ts[-1], \"%Y-%m-%dT%H0000\")\n",
    "need_process_ts =  pd.date_range(A, B, freq='h').strftime('%Y-%m-%dT%H0000').tolist()\n",
    "need_process_ts"
   ]
  },
  {
   "cell_type": "code",
   "execution_count": 12,
   "id": "31810f92",
   "metadata": {
    "execution": {
     "iopub.execute_input": "2025-10-16T01:51:26.148271Z",
     "iopub.status.busy": "2025-10-16T01:51:26.148106Z",
     "iopub.status.idle": "2025-10-16T01:52:11.549229Z",
     "shell.execute_reply": "2025-10-16T01:52:11.548362Z"
    },
    "id": "g-W3s2nRyRY7",
    "papermill": {
     "duration": 45.405175,
     "end_time": "2025-10-16T01:52:11.549793",
     "exception": false,
     "start_time": "2025-10-16T01:51:26.144618",
     "status": "completed"
    },
    "tags": []
   },
   "outputs": [
    {
     "name": "stderr",
     "output_type": "stream",
     "text": [
      "\r",
      "  0%|          | 0/2007 [00:00<?, ?it/s]"
     ]
    },
    {
     "name": "stderr",
     "output_type": "stream",
     "text": [
      "\r",
      "100%|█████████▉| 2006/2007 [00:22<00:00, 87.71it/s]"
     ]
    },
    {
     "name": "stdout",
     "output_type": "stream",
     "text": [
      "Done dt=2025-10-15/2025-10-15T230000.parquet\n"
     ]
    },
    {
     "name": "stderr",
     "output_type": "stream",
     "text": [
      "\r",
      "100%|█████████▉| 2006/2007 [00:33<00:00, 87.71it/s]"
     ]
    },
    {
     "name": "stderr",
     "output_type": "stream",
     "text": [
      "\r",
      "100%|██████████| 2007/2007 [00:45<00:00, 36.47it/s]"
     ]
    },
    {
     "name": "stderr",
     "output_type": "stream",
     "text": [
      "\r",
      "100%|██████████| 2007/2007 [00:45<00:00, 44.21it/s]"
     ]
    },
    {
     "name": "stdout",
     "output_type": "stream",
     "text": [
      "Done dt=2025-10-16/2025-10-16T000000.parquet\n"
     ]
    },
    {
     "name": "stderr",
     "output_type": "stream",
     "text": [
      "\n"
     ]
    }
   ],
   "source": [
    "storage_options = {\n",
    "    \"account_name\": account_name,\n",
    "    \"account_key\":  account_key,\n",
    "}\n",
    "\n",
    "for ts, files in tqdm(groups.items()):\n",
    "    if ts not in need_process_ts: continue\n",
    "    dt = ts[:10]\n",
    "    # if dt not in need_process:\n",
    "    #     continue\n",
    "    df = pl.scan_csv(f\"az://adjuststblive/*_{ts}_*.csv.gz\", storage_options = storage_options,glob=True, has_header = True, null_values = [\"\",\"NULL\"], ignore_errors=True).select(pl.all().cast(pl.Utf8))\n",
    "    df.sink_parquet(f\"az://adjuststbuatprocessed/live/processing/dt={dt}/{ts}.parquet\", storage_options = storage_options, compression=\"snappy\")\n",
    "    print(f'Done dt={dt}/{ts}.parquet')\n",
    "        "
   ]
  },
  {
   "cell_type": "code",
   "execution_count": 13,
   "id": "de78b3fe",
   "metadata": {
    "execution": {
     "iopub.execute_input": "2025-10-16T01:52:11.557570Z",
     "iopub.status.busy": "2025-10-16T01:52:11.557383Z",
     "iopub.status.idle": "2025-10-16T01:52:11.561475Z",
     "shell.execute_reply": "2025-10-16T01:52:11.560749Z"
    },
    "papermill": {
     "duration": 0.008748,
     "end_time": "2025-10-16T01:52:11.562014",
     "exception": false,
     "start_time": "2025-10-16T01:52:11.553266",
     "status": "completed"
    },
    "tags": []
   },
   "outputs": [
    {
     "data": {
      "text/plain": [
       "{'2025-10-15', '2025-10-16'}"
      ]
     },
     "execution_count": 13,
     "metadata": {},
     "output_type": "execute_result"
    }
   ],
   "source": [
    "need_process = set([i.split(\"T\")[0] for i in need_process_ts])\n",
    "need_process"
   ]
  },
  {
   "cell_type": "code",
   "execution_count": 14,
   "id": "1be6fba1",
   "metadata": {
    "execution": {
     "iopub.execute_input": "2025-10-16T01:52:11.569569Z",
     "iopub.status.busy": "2025-10-16T01:52:11.569370Z",
     "iopub.status.idle": "2025-10-16T01:53:27.837999Z",
     "shell.execute_reply": "2025-10-16T01:53:27.835620Z"
    },
    "id": "sBm7rfFUyePJ",
    "papermill": {
     "duration": 76.28047,
     "end_time": "2025-10-16T01:53:27.845807",
     "exception": false,
     "start_time": "2025-10-16T01:52:11.565337",
     "status": "completed"
    },
    "tags": []
   },
   "outputs": [
    {
     "name": "stdout",
     "output_type": "stream",
     "text": [
      "\n",
      " Done 2025-10-15\n",
      "\n"
     ]
    },
    {
     "name": "stdout",
     "output_type": "stream",
     "text": [
      "\n",
      " Done 2025-10-16\n",
      "\n"
     ]
    }
   ],
   "source": [
    "for dt in need_process:\n",
    "  df = pl.scan_parquet(f\"az://adjuststbuatprocessed/live/processing/dt={dt}/*.parquet\", storage_options=storage_options,glob=True).with_columns(pl.lit(dt).alias(\"dt\"))\n",
    "  df.sink_parquet(f\"az://adjuststbuatprocessed/live/output/{dt}.parquet\", storage_options=storage_options, compression=\"snappy\")\n",
    "  print(f'\\n Done {dt}\\n')"
   ]
  }
 ],
 "metadata": {
  "colab": {
   "authorship_tag": "ABX9TyOfzO6uvqUX+Tt89Y73G9E8",
   "include_colab_link": true,
   "provenance": []
  },
  "kernelspec": {
   "display_name": "Python 3",
   "name": "python3"
  },
  "language_info": {
   "codemirror_mode": {
    "name": "ipython",
    "version": 3
   },
   "file_extension": ".py",
   "mimetype": "text/x-python",
   "name": "python",
   "nbconvert_exporter": "python",
   "pygments_lexer": "ipython3",
   "version": "3.11.13"
  },
  "papermill": {
   "default_parameters": {},
   "duration": 174.544997,
   "end_time": "2025-10-16T01:53:28.714818",
   "environment_variables": {},
   "exception": null,
   "input_path": "notebooks/ADJUST_JOB.ipynb",
   "output_path": "outputs/ADJUST_JOB_2025-10-16.ipynb",
   "parameters": {
    "RUN_DATE": "2025-10-16"
   },
   "start_time": "2025-10-16T01:50:34.169821",
   "version": "2.6.0"
  }
 },
 "nbformat": 4,
 "nbformat_minor": 5
}