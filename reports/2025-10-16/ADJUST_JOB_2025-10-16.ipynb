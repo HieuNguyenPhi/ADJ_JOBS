{
 "cells": [
  {
   "cell_type": "code",
   "execution_count": 1,
   "id": "6acecea7",
   "metadata": {
    "execution": {
     "iopub.execute_input": "2025-10-16T00:51:04.977342Z",
     "iopub.status.busy": "2025-10-16T00:51:04.976970Z",
     "iopub.status.idle": "2025-10-16T00:51:04.982401Z",
     "shell.execute_reply": "2025-10-16T00:51:04.981699Z"
    },
    "papermill": {
     "duration": 0.010055,
     "end_time": "2025-10-16T00:51:04.983271",
     "exception": false,
     "start_time": "2025-10-16T00:51:04.973216",
     "status": "completed"
    },
    "tags": [
     "injected-parameters"
    ]
   },
   "outputs": [],
   "source": [
    "# Parameters\n",
    "RUN_DATE = \"2025-10-16\"\n"
   ]
  },
  {
   "cell_type": "markdown",
   "id": "a0538d7f",
   "metadata": {
    "colab_type": "text",
    "id": "view-in-github",
    "papermill": {
     "duration": 0.001906,
     "end_time": "2025-10-16T00:51:04.987402",
     "exception": false,
     "start_time": "2025-10-16T00:51:04.985496",
     "status": "completed"
    },
    "tags": []
   },
   "source": [
    "<a href=\"https://colab.research.google.com/github/HieuNguyenPhi/ADJ_JOBS/blob/main/notebooks/ADJUST_JOB.ipynb\" target=\"_parent\"><img src=\"https://colab.research.google.com/assets/colab-badge.svg\" alt=\"Open In Colab\"/></a>"
   ]
  },
  {
   "cell_type": "markdown",
   "id": "fdaf3311",
   "metadata": {
    "papermill": {
     "duration": 0.002843,
     "end_time": "2025-10-16T00:51:04.992162",
     "exception": false,
     "start_time": "2025-10-16T00:51:04.989319",
     "status": "completed"
    },
    "tags": []
   },
   "source": [
    "# UAT"
   ]
  },
  {
   "cell_type": "code",
   "execution_count": 2,
   "id": "16a81f10",
   "metadata": {
    "execution": {
     "iopub.execute_input": "2025-10-16T00:51:04.996981Z",
     "iopub.status.busy": "2025-10-16T00:51:04.996807Z",
     "iopub.status.idle": "2025-10-16T00:51:10.790202Z",
     "shell.execute_reply": "2025-10-16T00:51:10.789387Z"
    },
    "id": "ycUR2r1dq1Nm",
    "papermill": {
     "duration": 5.796631,
     "end_time": "2025-10-16T00:51:10.790794",
     "exception": false,
     "start_time": "2025-10-16T00:51:04.994163",
     "status": "completed"
    },
    "tags": []
   },
   "outputs": [
    {
     "data": {
      "text/plain": [
       "['2025-10-15T020000',\n",
       " '2025-10-15T030000',\n",
       " '2025-10-15T040000',\n",
       " '2025-10-15T050000',\n",
       " '2025-10-15T060000']"
      ]
     },
     "execution_count": 2,
     "metadata": {},
     "output_type": "execute_result"
    }
   ],
   "source": [
    "import os\n",
    "from azure.storage.blob import BlobServiceClient\n",
    "\n",
    "account_name = os.getenv('ACCOUNT_NAME')\n",
    "account_key = os.getenv('ACCOUNT_KEY')\n",
    "# Replace with your Azure Storage account name and SAS token or connection string\n",
    "connect_str = f\"DefaultEndpointsProtocol=https;AccountName={account_name};AccountKey={account_key};EndpointSuffix=core.windows.net\"\n",
    "blob_service_client = BlobServiceClient.from_connection_string(connect_str)\n",
    "container_list = blob_service_client.list_containers()\n",
    "container_name = \"adjuststbuatprocessed\" #os.getenv('CONTAINER_NAME')\n",
    "container_client = blob_service_client.get_container_client(container_name)\n",
    "# already_processed = [file.name.split('/')[1].split('.')[0] for file in container_client.list_blobs() if file.name.split('/')[0] == 'output']\n",
    "# already_processed[-5:]\n",
    "already_processed_ts = sorted([file.name.split('/')[-1].split(\".\")[0] for file in container_client.list_blobs() if file.name.split('/')[0] == 'processing'])\n",
    "already_processed_ts[-5:]"
   ]
  },
  {
   "cell_type": "code",
   "execution_count": 3,
   "id": "1ec5e13d",
   "metadata": {
    "execution": {
     "iopub.execute_input": "2025-10-16T00:51:10.796558Z",
     "iopub.status.busy": "2025-10-16T00:51:10.796246Z",
     "iopub.status.idle": "2025-10-16T00:51:18.378298Z",
     "shell.execute_reply": "2025-10-16T00:51:18.377417Z"
    },
    "id": "xyPuVC12s7fn",
    "papermill": {
     "duration": 7.585733,
     "end_time": "2025-10-16T00:51:18.378970",
     "exception": false,
     "start_time": "2025-10-16T00:51:10.793237",
     "status": "completed"
    },
    "tags": []
   },
   "outputs": [
    {
     "data": {
      "text/plain": [
       "['rsh20bkkb4zk_2025-10-15T230000_762c775ae454d23f2c6b6a75623d14c7_c35750.csv.gz']"
      ]
     },
     "execution_count": 3,
     "metadata": {},
     "output_type": "execute_result"
    }
   ],
   "source": [
    "container_name_uat = \"adjuststbuat\"\n",
    "container_client_uat = blob_service_client.get_container_client(container_name_uat)\n",
    "from collections import defaultdict\n",
    "files = [i.name for i in container_client_uat.list_blobs()]\n",
    "groups = defaultdict(list)\n",
    "for f in files:\n",
    "    dt = f.split('_')[1]\n",
    "    groups[dt].append(f)\n",
    "groups[dt]"
   ]
  },
  {
   "cell_type": "code",
   "execution_count": 4,
   "id": "6a3c2543",
   "metadata": {
    "execution": {
     "iopub.execute_input": "2025-10-16T00:51:18.384962Z",
     "iopub.status.busy": "2025-10-16T00:51:18.384773Z",
     "iopub.status.idle": "2025-10-16T00:51:18.387715Z",
     "shell.execute_reply": "2025-10-16T00:51:18.386937Z"
    },
    "papermill": {
     "duration": 0.006691,
     "end_time": "2025-10-16T00:51:18.388314",
     "exception": false,
     "start_time": "2025-10-16T00:51:18.381623",
     "status": "completed"
    },
    "tags": []
   },
   "outputs": [],
   "source": [
    "# from datetime import date, timedelta, datetime\n",
    "# import pandas as pd\n",
    "# today = date.today().strftime('%Y-%m-%d')\n",
    "# yesterday = (date.today() - timedelta(days = 1) ).strftime('%Y-%m-%d')\n",
    "# check_date = dt.split(\"T\")[0]\n",
    "# if check_date == today:\n",
    "#     need_process = pd.date_range(start=already_processed[-1], end=today).strftime('%Y-%m-%d').to_list()\n",
    "# else:\n",
    "#     need_process = pd.date_range(start=already_processed[-1], end=yesterday).strftime('%Y-%m-%d').to_list()\n",
    "# need_process"
   ]
  },
  {
   "cell_type": "code",
   "execution_count": 5,
   "id": "2854ee98",
   "metadata": {
    "execution": {
     "iopub.execute_input": "2025-10-16T00:51:18.393560Z",
     "iopub.status.busy": "2025-10-16T00:51:18.393399Z",
     "iopub.status.idle": "2025-10-16T00:51:18.693038Z",
     "shell.execute_reply": "2025-10-16T00:51:18.692265Z"
    },
    "papermill": {
     "duration": 0.303126,
     "end_time": "2025-10-16T00:51:18.693696",
     "exception": false,
     "start_time": "2025-10-16T00:51:18.390570",
     "status": "completed"
    },
    "tags": []
   },
   "outputs": [
    {
     "data": {
      "text/plain": [
       "['2025-10-15T050000',\n",
       " '2025-10-15T060000',\n",
       " '2025-10-15T070000',\n",
       " '2025-10-15T080000',\n",
       " '2025-10-15T090000',\n",
       " '2025-10-15T100000',\n",
       " '2025-10-15T110000',\n",
       " '2025-10-15T120000',\n",
       " '2025-10-15T130000',\n",
       " '2025-10-15T140000',\n",
       " '2025-10-15T150000',\n",
       " '2025-10-15T160000',\n",
       " '2025-10-15T170000',\n",
       " '2025-10-15T180000',\n",
       " '2025-10-15T190000',\n",
       " '2025-10-15T200000',\n",
       " '2025-10-15T210000',\n",
       " '2025-10-15T220000',\n",
       " '2025-10-15T230000']"
      ]
     },
     "execution_count": 5,
     "metadata": {},
     "output_type": "execute_result"
    }
   ],
   "source": [
    "from datetime import datetime\n",
    "import pandas as pd\n",
    "B = datetime.strptime(dt, \"%Y-%m-%dT%H0000\")\n",
    "A = datetime.strptime(already_processed_ts[-2], \"%Y-%m-%dT%H0000\")\n",
    "need_process_ts =  pd.date_range(A, B, freq='h').strftime('%Y-%m-%dT%H0000').tolist()\n",
    "need_process_ts"
   ]
  },
  {
   "cell_type": "code",
   "execution_count": 6,
   "id": "d1a6e05e",
   "metadata": {
    "execution": {
     "iopub.execute_input": "2025-10-16T00:51:18.699890Z",
     "iopub.status.busy": "2025-10-16T00:51:18.699611Z",
     "iopub.status.idle": "2025-10-16T00:53:13.616071Z",
     "shell.execute_reply": "2025-10-16T00:53:13.615245Z"
    },
    "papermill": {
     "duration": 114.920204,
     "end_time": "2025-10-16T00:53:13.616643",
     "exception": false,
     "start_time": "2025-10-16T00:51:18.696439",
     "status": "completed"
    },
    "tags": []
   },
   "outputs": [
    {
     "name": "stderr",
     "output_type": "stream",
     "text": [
      "\r",
      "  0%|          | 0/1988 [00:00<?, ?it/s]"
     ]
    },
    {
     "name": "stderr",
     "output_type": "stream",
     "text": [
      "\r",
      " 99%|█████████▉| 1973/1988 [00:09<00:00, 206.93it/s]"
     ]
    },
    {
     "name": "stdout",
     "output_type": "stream",
     "text": [
      "Done dt=2025-10-15/2025-10-15T050000.parquet\n"
     ]
    },
    {
     "name": "stdout",
     "output_type": "stream",
     "text": [
      "Done dt=2025-10-15/2025-10-15T060000.parquet\n"
     ]
    },
    {
     "name": "stderr",
     "output_type": "stream",
     "text": [
      "\r",
      " 99%|█████████▉| 1973/1988 [00:19<00:00, 206.93it/s]"
     ]
    },
    {
     "name": "stderr",
     "output_type": "stream",
     "text": [
      "\r",
      " 99%|█████████▉| 1975/1988 [00:24<00:00, 63.26it/s] "
     ]
    },
    {
     "name": "stdout",
     "output_type": "stream",
     "text": [
      "Done dt=2025-10-15/2025-10-15T070000.parquet\n"
     ]
    },
    {
     "name": "stderr",
     "output_type": "stream",
     "text": [
      "\r",
      " 99%|█████████▉| 1976/1988 [00:32<00:00, 42.88it/s]"
     ]
    },
    {
     "name": "stdout",
     "output_type": "stream",
     "text": [
      "Done dt=2025-10-15/2025-10-15T080000.parquet\n"
     ]
    },
    {
     "name": "stdout",
     "output_type": "stream",
     "text": [
      "Done dt=2025-10-15/2025-10-15T090000.parquet\n"
     ]
    },
    {
     "name": "stdout",
     "output_type": "stream",
     "text": [
      "Done dt=2025-10-15/2025-10-15T100000.parquet\n"
     ]
    },
    {
     "name": "stderr",
     "output_type": "stream",
     "text": [
      "\r",
      " 99%|█████████▉| 1976/1988 [00:50<00:00, 42.88it/s]"
     ]
    },
    {
     "name": "stderr",
     "output_type": "stream",
     "text": [
      "\r",
      "100%|█████████▉| 1979/1988 [00:53<00:00, 18.04it/s]"
     ]
    },
    {
     "name": "stdout",
     "output_type": "stream",
     "text": [
      "Done dt=2025-10-15/2025-10-15T110000.parquet\n"
     ]
    },
    {
     "name": "stderr",
     "output_type": "stream",
     "text": [
      "\r",
      "100%|█████████▉| 1980/1988 [01:01<00:00, 14.26it/s]"
     ]
    },
    {
     "name": "stdout",
     "output_type": "stream",
     "text": [
      "Done dt=2025-10-15/2025-10-15T120000.parquet\n"
     ]
    },
    {
     "name": "stdout",
     "output_type": "stream",
     "text": [
      "Done dt=2025-10-15/2025-10-15T130000.parquet\n"
     ]
    },
    {
     "name": "stdout",
     "output_type": "stream",
     "text": [
      "Done dt=2025-10-15/2025-10-15T140000.parquet\n"
     ]
    },
    {
     "name": "stderr",
     "output_type": "stream",
     "text": [
      "\r",
      "100%|█████████▉| 1980/1988 [01:20<00:00, 14.26it/s]"
     ]
    },
    {
     "name": "stderr",
     "output_type": "stream",
     "text": [
      "\r",
      "100%|█████████▉| 1983/1988 [01:21<00:00,  7.68it/s]"
     ]
    },
    {
     "name": "stdout",
     "output_type": "stream",
     "text": [
      "Done dt=2025-10-15/2025-10-15T150000.parquet\n"
     ]
    },
    {
     "name": "stderr",
     "output_type": "stream",
     "text": [
      "\r",
      "100%|█████████▉| 1984/1988 [01:28<00:00,  6.33it/s]"
     ]
    },
    {
     "name": "stdout",
     "output_type": "stream",
     "text": [
      "Done dt=2025-10-15/2025-10-15T160000.parquet\n"
     ]
    },
    {
     "name": "stdout",
     "output_type": "stream",
     "text": [
      "Done dt=2025-10-15/2025-10-15T170000.parquet\n"
     ]
    },
    {
     "name": "stderr",
     "output_type": "stream",
     "text": [
      "\r",
      "100%|█████████▉| 1984/1988 [01:40<00:00,  6.33it/s]"
     ]
    },
    {
     "name": "stderr",
     "output_type": "stream",
     "text": [
      "\r",
      "100%|█████████▉| 1986/1988 [01:41<00:00,  4.23it/s]"
     ]
    },
    {
     "name": "stdout",
     "output_type": "stream",
     "text": [
      "Done dt=2025-10-15/2025-10-15T180000.parquet\n"
     ]
    },
    {
     "name": "stderr",
     "output_type": "stream",
     "text": [
      "\r",
      "100%|█████████▉| 1987/1988 [01:48<00:00,  3.45it/s]"
     ]
    },
    {
     "name": "stdout",
     "output_type": "stream",
     "text": [
      "Done dt=2025-10-15/2025-10-15T190000.parquet\n"
     ]
    },
    {
     "name": "stderr",
     "output_type": "stream",
     "text": [
      "\r",
      "100%|██████████| 1988/1988 [01:54<00:00, 17.31it/s]"
     ]
    },
    {
     "name": "stdout",
     "output_type": "stream",
     "text": [
      "Done dt=2025-10-15/2025-10-15T230000.parquet\n"
     ]
    },
    {
     "name": "stderr",
     "output_type": "stream",
     "text": [
      "\n"
     ]
    }
   ],
   "source": [
    "import polars as pl \n",
    "from tqdm import tqdm\n",
    "storage_options = {\n",
    "    \"account_name\": account_name,\n",
    "    \"account_key\":  account_key,\n",
    "}\n",
    "\n",
    "for ts, files in tqdm(groups.items()):\n",
    "    if ts not in need_process_ts:\n",
    "        continue\n",
    "    dt = ts[:10]\n",
    "    # if dt not in need_process:\n",
    "    #     continue\n",
    "    df = pl.scan_csv(f\"az://adjuststbuat/*_{ts}_*.csv.gz\", storage_options = storage_options,glob=True, has_header = True, null_values = [\"\",\"NULL\"], ignore_errors=True).select(pl.all().cast(pl.Utf8))\n",
    "    df.sink_parquet(f\"az://adjuststbuatprocessed/processing/dt={dt}/{ts}.parquet\", storage_options = storage_options, compression=\"snappy\")\n",
    "    print(f'Done dt={dt}/{ts}.parquet')\n",
    "        "
   ]
  },
  {
   "cell_type": "code",
   "execution_count": 7,
   "id": "4ddd7631",
   "metadata": {
    "execution": {
     "iopub.execute_input": "2025-10-16T00:53:13.625009Z",
     "iopub.status.busy": "2025-10-16T00:53:13.624725Z",
     "iopub.status.idle": "2025-10-16T00:53:13.628943Z",
     "shell.execute_reply": "2025-10-16T00:53:13.628276Z"
    },
    "papermill": {
     "duration": 0.009242,
     "end_time": "2025-10-16T00:53:13.629723",
     "exception": false,
     "start_time": "2025-10-16T00:53:13.620481",
     "status": "completed"
    },
    "tags": []
   },
   "outputs": [
    {
     "data": {
      "text/plain": [
       "{'2025-10-15'}"
      ]
     },
     "execution_count": 7,
     "metadata": {},
     "output_type": "execute_result"
    }
   ],
   "source": [
    "need_process = set([i.split(\"T\")[0] for i in need_process_ts])\n",
    "need_process"
   ]
  },
  {
   "cell_type": "code",
   "execution_count": 8,
   "id": "fbcda6e9",
   "metadata": {
    "execution": {
     "iopub.execute_input": "2025-10-16T00:53:13.637716Z",
     "iopub.status.busy": "2025-10-16T00:53:13.637545Z",
     "iopub.status.idle": "2025-10-16T00:53:18.399464Z",
     "shell.execute_reply": "2025-10-16T00:53:18.398593Z"
    },
    "papermill": {
     "duration": 4.766745,
     "end_time": "2025-10-16T00:53:18.400127",
     "exception": false,
     "start_time": "2025-10-16T00:53:13.633382",
     "status": "completed"
    },
    "tags": []
   },
   "outputs": [
    {
     "name": "stdout",
     "output_type": "stream",
     "text": [
      "\n",
      " Done 2025-10-15\n",
      "\n"
     ]
    }
   ],
   "source": [
    "for dt in need_process:\n",
    "  df = pl.scan_parquet(f\"az://adjuststbuatprocessed/processing/dt={dt}/*.parquet\", storage_options=storage_options,glob=True).with_columns(pl.lit(dt).alias(\"dt\"))\n",
    "  df.sink_parquet(f\"az://adjuststbuatprocessed/output/{dt}.parquet\", storage_options=storage_options, compression=\"snappy\")\n",
    "  print(f'\\n Done {dt}\\n')"
   ]
  },
  {
   "cell_type": "markdown",
   "id": "e301a648",
   "metadata": {
    "id": "2TvKr29qyJd_",
    "papermill": {
     "duration": 0.003812,
     "end_time": "2025-10-16T00:53:18.408021",
     "exception": false,
     "start_time": "2025-10-16T00:53:18.404209",
     "status": "completed"
    },
    "tags": []
   },
   "source": [
    "# Live"
   ]
  },
  {
   "cell_type": "code",
   "execution_count": 9,
   "id": "e30f02e1",
   "metadata": {
    "execution": {
     "iopub.execute_input": "2025-10-16T00:53:18.416121Z",
     "iopub.status.busy": "2025-10-16T00:53:18.415926Z",
     "iopub.status.idle": "2025-10-16T00:53:22.059490Z",
     "shell.execute_reply": "2025-10-16T00:53:22.058616Z"
    },
    "id": "EnaFsdZFxpwc",
    "papermill": {
     "duration": 3.648491,
     "end_time": "2025-10-16T00:53:22.060150",
     "exception": false,
     "start_time": "2025-10-16T00:53:18.411659",
     "status": "completed"
    },
    "tags": []
   },
   "outputs": [
    {
     "data": {
      "text/plain": [
       "['2025-10-15T040000',\n",
       " '2025-10-15T050000',\n",
       " '2025-10-15T060000',\n",
       " '2025-10-15T070000',\n",
       " '2025-10-15T080000']"
      ]
     },
     "execution_count": 9,
     "metadata": {},
     "output_type": "execute_result"
    }
   ],
   "source": [
    "# already_processed = [file.name.split('/')[-1].split('.')[0] for file in container_client.list_blobs() if file.name[:12] == 'live/output/']\n",
    "# already_processed[-5:]\n",
    "already_processed_ts = sorted([file.name.split('/')[-1].split(\".\")[0] for file in container_client.list_blobs() if (file.name.split('/')[0] + \"/\" + file.name.split('/')[1]) == 'live/processing'])\n",
    "already_processed_ts[-5:]"
   ]
  },
  {
   "cell_type": "code",
   "execution_count": 10,
   "id": "d3407dec",
   "metadata": {
    "execution": {
     "iopub.execute_input": "2025-10-16T00:53:22.069163Z",
     "iopub.status.busy": "2025-10-16T00:53:22.068915Z",
     "iopub.status.idle": "2025-10-16T00:53:32.718822Z",
     "shell.execute_reply": "2025-10-16T00:53:32.717966Z"
    },
    "id": "I7Er6YEUyOsL",
    "papermill": {
     "duration": 10.65505,
     "end_time": "2025-10-16T00:53:32.719444",
     "exception": false,
     "start_time": "2025-10-16T00:53:22.064394",
     "status": "completed"
    },
    "tags": []
   },
   "outputs": [
    {
     "data": {
      "text/plain": [
       "['65n1fgov4zr4_2025-10-15T230000_762c775ae454d23f2c6b6a75623d14c7_2853a0.csv.gz',\n",
       " '65n1fgov4zr4_2025-10-15T230000_762c775ae454d23f2c6b6a75623d14c7_2853a1.csv.gz',\n",
       " '65n1fgov4zr4_2025-10-15T230000_762c775ae454d23f2c6b6a75623d14c7_be8220.csv.gz',\n",
       " '65n1fgov4zr4_2025-10-15T230000_762c775ae454d23f2c6b6a75623d14c7_be8221.csv.gz',\n",
       " '65n1fgov4zr4_2025-10-15T230000_762c775ae454d23f2c6b6a75623d14c7_c35750.csv.gz',\n",
       " '65n1fgov4zr4_2025-10-15T230000_762c775ae454d23f2c6b6a75623d14c7_c35751.csv.gz']"
      ]
     },
     "execution_count": 10,
     "metadata": {},
     "output_type": "execute_result"
    }
   ],
   "source": [
    "container_name_uat = \"adjuststblive\"\n",
    "container_client_uat = blob_service_client.get_container_client(container_name_uat)\n",
    "from collections import defaultdict\n",
    "files = [i.name for i in container_client_uat.list_blobs()]\n",
    "groups = defaultdict(list)\n",
    "for f in files:\n",
    "    dt = f.split('_')[1]\n",
    "    groups[dt].append(f)\n",
    "groups[dt]"
   ]
  },
  {
   "cell_type": "code",
   "execution_count": 11,
   "id": "495950f9",
   "metadata": {
    "execution": {
     "iopub.execute_input": "2025-10-16T00:53:32.728474Z",
     "iopub.status.busy": "2025-10-16T00:53:32.728290Z",
     "iopub.status.idle": "2025-10-16T00:53:32.733361Z",
     "shell.execute_reply": "2025-10-16T00:53:32.732676Z"
    },
    "papermill": {
     "duration": 0.010487,
     "end_time": "2025-10-16T00:53:32.734187",
     "exception": false,
     "start_time": "2025-10-16T00:53:32.723700",
     "status": "completed"
    },
    "tags": []
   },
   "outputs": [
    {
     "data": {
      "text/plain": [
       "['2025-10-15T080000',\n",
       " '2025-10-15T090000',\n",
       " '2025-10-15T100000',\n",
       " '2025-10-15T110000',\n",
       " '2025-10-15T120000',\n",
       " '2025-10-15T130000',\n",
       " '2025-10-15T140000',\n",
       " '2025-10-15T150000',\n",
       " '2025-10-15T160000',\n",
       " '2025-10-15T170000',\n",
       " '2025-10-15T180000',\n",
       " '2025-10-15T190000',\n",
       " '2025-10-15T200000',\n",
       " '2025-10-15T210000',\n",
       " '2025-10-15T220000',\n",
       " '2025-10-15T230000']"
      ]
     },
     "execution_count": 11,
     "metadata": {},
     "output_type": "execute_result"
    }
   ],
   "source": [
    "# need_process = pd.date_range(start=already_processed[-1], end=today).strftime('%Y-%m-%d').to_list()\n",
    "# need_process\n",
    "\n",
    "B = datetime.strptime(dt, \"%Y-%m-%dT%H0000\")\n",
    "A = datetime.strptime(already_processed_ts[-1], \"%Y-%m-%dT%H0000\")\n",
    "need_process_ts =  pd.date_range(A, B, freq='h').strftime('%Y-%m-%dT%H0000').tolist()\n",
    "need_process_ts"
   ]
  },
  {
   "cell_type": "code",
   "execution_count": 12,
   "id": "0ea2b9ea",
   "metadata": {
    "execution": {
     "iopub.execute_input": "2025-10-16T00:53:32.744444Z",
     "iopub.status.busy": "2025-10-16T00:53:32.744232Z",
     "iopub.status.idle": "2025-10-16T00:58:45.206662Z",
     "shell.execute_reply": "2025-10-16T00:58:45.205774Z"
    },
    "id": "g-W3s2nRyRY7",
    "papermill": {
     "duration": 312.467797,
     "end_time": "2025-10-16T00:58:45.207256",
     "exception": false,
     "start_time": "2025-10-16T00:53:32.739459",
     "status": "completed"
    },
    "tags": []
   },
   "outputs": [
    {
     "name": "stderr",
     "output_type": "stream",
     "text": [
      "\r",
      "  0%|          | 0/2006 [00:00<?, ?it/s]"
     ]
    },
    {
     "name": "stderr",
     "output_type": "stream",
     "text": [
      "\r",
      " 99%|█████████▉| 1991/2006 [00:30<00:00, 65.02it/s]"
     ]
    },
    {
     "name": "stdout",
     "output_type": "stream",
     "text": [
      "Done dt=2025-10-15/2025-10-15T080000.parquet\n"
     ]
    },
    {
     "name": "stderr",
     "output_type": "stream",
     "text": [
      "\r",
      " 99%|█████████▉| 1991/2006 [00:46<00:00, 65.02it/s]"
     ]
    },
    {
     "name": "stderr",
     "output_type": "stream",
     "text": [
      "\r",
      " 99%|█████████▉| 1992/2006 [00:53<00:00, 31.15it/s]"
     ]
    },
    {
     "name": "stdout",
     "output_type": "stream",
     "text": [
      "Done dt=2025-10-15/2025-10-15T090000.parquet\n"
     ]
    },
    {
     "name": "stderr",
     "output_type": "stream",
     "text": [
      "\r",
      " 99%|█████████▉| 1993/2006 [01:17<00:00, 17.90it/s]"
     ]
    },
    {
     "name": "stdout",
     "output_type": "stream",
     "text": [
      "Done dt=2025-10-15/2025-10-15T100000.parquet\n"
     ]
    },
    {
     "name": "stderr",
     "output_type": "stream",
     "text": [
      "\r",
      " 99%|█████████▉| 1994/2006 [01:40<00:01, 11.06it/s]"
     ]
    },
    {
     "name": "stdout",
     "output_type": "stream",
     "text": [
      "Done dt=2025-10-15/2025-10-15T110000.parquet\n"
     ]
    },
    {
     "name": "stderr",
     "output_type": "stream",
     "text": [
      "\r",
      " 99%|█████████▉| 1995/2006 [02:05<00:01,  7.12it/s]"
     ]
    },
    {
     "name": "stdout",
     "output_type": "stream",
     "text": [
      "Done dt=2025-10-15/2025-10-15T120000.parquet\n"
     ]
    },
    {
     "name": "stderr",
     "output_type": "stream",
     "text": [
      "\r",
      "100%|█████████▉| 1996/2006 [02:27<00:02,  4.86it/s]"
     ]
    },
    {
     "name": "stdout",
     "output_type": "stream",
     "text": [
      "Done dt=2025-10-15/2025-10-15T130000.parquet\n"
     ]
    },
    {
     "name": "stderr",
     "output_type": "stream",
     "text": [
      "\r",
      "100%|█████████▉| 1997/2006 [02:49<00:02,  3.34it/s]"
     ]
    },
    {
     "name": "stdout",
     "output_type": "stream",
     "text": [
      "Done dt=2025-10-15/2025-10-15T140000.parquet\n"
     ]
    },
    {
     "name": "stderr",
     "output_type": "stream",
     "text": [
      "\r",
      "100%|█████████▉| 1998/2006 [03:09<00:03,  2.39it/s]"
     ]
    },
    {
     "name": "stdout",
     "output_type": "stream",
     "text": [
      "Done dt=2025-10-15/2025-10-15T150000.parquet\n"
     ]
    },
    {
     "name": "stderr",
     "output_type": "stream",
     "text": [
      "\r",
      "100%|█████████▉| 1999/2006 [03:27<00:03,  1.77it/s]"
     ]
    },
    {
     "name": "stdout",
     "output_type": "stream",
     "text": [
      "Done dt=2025-10-15/2025-10-15T160000.parquet\n"
     ]
    },
    {
     "name": "stderr",
     "output_type": "stream",
     "text": [
      "\r",
      "100%|█████████▉| 2000/2006 [03:42<00:04,  1.36it/s]"
     ]
    },
    {
     "name": "stdout",
     "output_type": "stream",
     "text": [
      "Done dt=2025-10-15/2025-10-15T170000.parquet\n"
     ]
    },
    {
     "name": "stderr",
     "output_type": "stream",
     "text": [
      "\r",
      "100%|█████████▉| 2001/2006 [03:56<00:04,  1.04it/s]"
     ]
    },
    {
     "name": "stdout",
     "output_type": "stream",
     "text": [
      "Done dt=2025-10-15/2025-10-15T180000.parquet\n"
     ]
    },
    {
     "name": "stderr",
     "output_type": "stream",
     "text": [
      "\r",
      "100%|█████████▉| 2002/2006 [04:08<00:04,  1.23s/it]"
     ]
    },
    {
     "name": "stdout",
     "output_type": "stream",
     "text": [
      "Done dt=2025-10-15/2025-10-15T190000.parquet\n"
     ]
    },
    {
     "name": "stderr",
     "output_type": "stream",
     "text": [
      "\r",
      "100%|█████████▉| 2003/2006 [04:21<00:04,  1.60s/it]"
     ]
    },
    {
     "name": "stdout",
     "output_type": "stream",
     "text": [
      "Done dt=2025-10-15/2025-10-15T200000.parquet\n"
     ]
    },
    {
     "name": "stderr",
     "output_type": "stream",
     "text": [
      "\r",
      "100%|█████████▉| 2004/2006 [04:36<00:04,  2.18s/it]"
     ]
    },
    {
     "name": "stdout",
     "output_type": "stream",
     "text": [
      "Done dt=2025-10-15/2025-10-15T210000.parquet\n"
     ]
    },
    {
     "name": "stderr",
     "output_type": "stream",
     "text": [
      "\r",
      "100%|█████████▉| 2005/2006 [04:52<00:03,  3.01s/it]"
     ]
    },
    {
     "name": "stdout",
     "output_type": "stream",
     "text": [
      "Done dt=2025-10-15/2025-10-15T220000.parquet\n"
     ]
    },
    {
     "name": "stderr",
     "output_type": "stream",
     "text": [
      "\r",
      "100%|██████████| 2006/2006 [05:12<00:00,  4.36s/it]"
     ]
    },
    {
     "name": "stderr",
     "output_type": "stream",
     "text": [
      "\r",
      "100%|██████████| 2006/2006 [05:12<00:00,  6.42it/s]"
     ]
    },
    {
     "name": "stdout",
     "output_type": "stream",
     "text": [
      "Done dt=2025-10-15/2025-10-15T230000.parquet\n"
     ]
    },
    {
     "name": "stderr",
     "output_type": "stream",
     "text": [
      "\n"
     ]
    }
   ],
   "source": [
    "storage_options = {\n",
    "    \"account_name\": account_name,\n",
    "    \"account_key\":  account_key,\n",
    "}\n",
    "\n",
    "for ts, files in tqdm(groups.items()):\n",
    "    if ts not in need_process_ts: continue\n",
    "    dt = ts[:10]\n",
    "    # if dt not in need_process:\n",
    "    #     continue\n",
    "    df = pl.scan_csv(f\"az://adjuststblive/*_{ts}_*.csv.gz\", storage_options = storage_options,glob=True, has_header = True, null_values = [\"\",\"NULL\"], ignore_errors=True).select(pl.all().cast(pl.Utf8))\n",
    "    df.sink_parquet(f\"az://adjuststbuatprocessed/live/processing/dt={dt}/{ts}.parquet\", storage_options = storage_options, compression=\"snappy\")\n",
    "    print(f'Done dt={dt}/{ts}.parquet')\n",
    "        "
   ]
  },
  {
   "cell_type": "code",
   "execution_count": 13,
   "id": "8f106225",
   "metadata": {
    "execution": {
     "iopub.execute_input": "2025-10-16T00:58:45.219040Z",
     "iopub.status.busy": "2025-10-16T00:58:45.218864Z",
     "iopub.status.idle": "2025-10-16T00:58:45.222950Z",
     "shell.execute_reply": "2025-10-16T00:58:45.222245Z"
    },
    "papermill": {
     "duration": 0.010629,
     "end_time": "2025-10-16T00:58:45.223509",
     "exception": false,
     "start_time": "2025-10-16T00:58:45.212880",
     "status": "completed"
    },
    "tags": []
   },
   "outputs": [
    {
     "data": {
      "text/plain": [
       "{'2025-10-15'}"
      ]
     },
     "execution_count": 13,
     "metadata": {},
     "output_type": "execute_result"
    }
   ],
   "source": [
    "need_process = set([i.split(\"T\")[0] for i in need_process_ts])\n",
    "need_process"
   ]
  },
  {
   "cell_type": "code",
   "execution_count": 14,
   "id": "78390238",
   "metadata": {
    "execution": {
     "iopub.execute_input": "2025-10-16T00:58:45.235037Z",
     "iopub.status.busy": "2025-10-16T00:58:45.234872Z",
     "iopub.status.idle": "2025-10-16T00:59:45.527796Z",
     "shell.execute_reply": "2025-10-16T00:59:45.510524Z"
    },
    "id": "sBm7rfFUyePJ",
    "papermill": {
     "duration": 60.39548,
     "end_time": "2025-10-16T00:59:45.624428",
     "exception": false,
     "start_time": "2025-10-16T00:58:45.228948",
     "status": "completed"
    },
    "tags": []
   },
   "outputs": [
    {
     "name": "stdout",
     "output_type": "stream",
     "text": [
      "\n",
      " Done 2025-10-15\n",
      "\n"
     ]
    }
   ],
   "source": [
    "for dt in need_process:\n",
    "  df = pl.scan_parquet(f\"az://adjuststbuatprocessed/live/processing/dt={dt}/*.parquet\", storage_options=storage_options,glob=True).with_columns(pl.lit(dt).alias(\"dt\"))\n",
    "  df.sink_parquet(f\"az://adjuststbuatprocessed/live/output/{dt}.parquet\", storage_options=storage_options, compression=\"snappy\")\n",
    "  print(f'\\n Done {dt}\\n')"
   ]
  }
 ],
 "metadata": {
  "colab": {
   "authorship_tag": "ABX9TyOfzO6uvqUX+Tt89Y73G9E8",
   "include_colab_link": true,
   "provenance": []
  },
  "kernelspec": {
   "display_name": "Python 3",
   "name": "python3"
  },
  "language_info": {
   "codemirror_mode": {
    "name": "ipython",
    "version": 3
   },
   "file_extension": ".py",
   "mimetype": "text/x-python",
   "name": "python",
   "nbconvert_exporter": "python",
   "pygments_lexer": "ipython3",
   "version": "3.11.13"
  },
  "papermill": {
   "default_parameters": {},
   "duration": 524.925103,
   "end_time": "2025-10-16T00:59:48.553754",
   "environment_variables": {},
   "exception": null,
   "input_path": "notebooks/ADJUST_JOB.ipynb",
   "output_path": "outputs/ADJUST_JOB_2025-10-16.ipynb",
   "parameters": {
    "RUN_DATE": "2025-10-16"
   },
   "start_time": "2025-10-16T00:51:03.628651",
   "version": "2.6.0"
  }
 },
 "nbformat": 4,
 "nbformat_minor": 5
}