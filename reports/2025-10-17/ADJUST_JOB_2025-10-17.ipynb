{
 "cells": [
  {
   "cell_type": "code",
   "execution_count": 1,
   "id": "ab954dd2",
   "metadata": {
    "execution": {
     "iopub.execute_input": "2025-10-17T02:07:11.551480Z",
     "iopub.status.busy": "2025-10-17T02:07:11.551252Z",
     "iopub.status.idle": "2025-10-17T02:07:11.556976Z",
     "shell.execute_reply": "2025-10-17T02:07:11.556114Z"
    },
    "papermill": {
     "duration": 0.010231,
     "end_time": "2025-10-17T02:07:11.557641",
     "exception": false,
     "start_time": "2025-10-17T02:07:11.547410",
     "status": "completed"
    },
    "tags": [
     "injected-parameters"
    ]
   },
   "outputs": [],
   "source": [
    "# Parameters\n",
    "RUN_DATE = \"2025-10-17\"\n"
   ]
  },
  {
   "cell_type": "markdown",
   "id": "0679c2a9",
   "metadata": {
    "colab_type": "text",
    "id": "view-in-github",
    "papermill": {
     "duration": 0.002014,
     "end_time": "2025-10-17T02:07:11.562120",
     "exception": false,
     "start_time": "2025-10-17T02:07:11.560106",
     "status": "completed"
    },
    "tags": []
   },
   "source": [
    "<a href=\"https://colab.research.google.com/github/HieuNguyenPhi/ADJ_JOBS/blob/main/notebooks/ADJUST_JOB.ipynb\" target=\"_parent\"><img src=\"https://colab.research.google.com/assets/colab-badge.svg\" alt=\"Open In Colab\"/></a>"
   ]
  },
  {
   "cell_type": "markdown",
   "id": "9ef40211",
   "metadata": {
    "papermill": {
     "duration": 0.003324,
     "end_time": "2025-10-17T02:07:11.567419",
     "exception": false,
     "start_time": "2025-10-17T02:07:11.564095",
     "status": "completed"
    },
    "tags": []
   },
   "source": [
    "# UAT"
   ]
  },
  {
   "cell_type": "code",
   "execution_count": 2,
   "id": "d3060071",
   "metadata": {
    "execution": {
     "iopub.execute_input": "2025-10-17T02:07:11.572877Z",
     "iopub.status.busy": "2025-10-17T02:07:11.572646Z",
     "iopub.status.idle": "2025-10-17T02:07:17.878760Z",
     "shell.execute_reply": "2025-10-17T02:07:17.877808Z"
    },
    "id": "ycUR2r1dq1Nm",
    "papermill": {
     "duration": 6.309819,
     "end_time": "2025-10-17T02:07:17.879390",
     "exception": false,
     "start_time": "2025-10-17T02:07:11.569571",
     "status": "completed"
    },
    "tags": []
   },
   "outputs": [
    {
     "data": {
      "text/plain": [
       "['2025-10-16T150000',\n",
       " '2025-10-16T160000',\n",
       " '2025-10-16T210000',\n",
       " '2025-10-16T230000',\n",
       " '2025-10-17T000000']"
      ]
     },
     "execution_count": 2,
     "metadata": {},
     "output_type": "execute_result"
    }
   ],
   "source": [
    "import os\n",
    "from azure.storage.blob import BlobServiceClient\n",
    "\n",
    "account_name = os.getenv('ACCOUNT_NAME')\n",
    "account_key = os.getenv('ACCOUNT_KEY')\n",
    "# Replace with your Azure Storage account name and SAS token or connection string\n",
    "connect_str = f\"DefaultEndpointsProtocol=https;AccountName={account_name};AccountKey={account_key};EndpointSuffix=core.windows.net\"\n",
    "blob_service_client = BlobServiceClient.from_connection_string(connect_str)\n",
    "container_list = blob_service_client.list_containers()\n",
    "container_name = \"adjuststbuatprocessed\" #os.getenv('CONTAINER_NAME')\n",
    "container_client = blob_service_client.get_container_client(container_name)\n",
    "# already_processed = [file.name.split('/')[1].split('.')[0] for file in container_client.list_blobs() if file.name.split('/')[0] == 'output']\n",
    "# already_processed[-5:]\n",
    "already_processed_ts = sorted([file.name.split('/')[-1].split(\".\")[0] for file in container_client.list_blobs() if file.name.split('/')[0] == 'processing'])\n",
    "already_processed_ts[-5:]"
   ]
  },
  {
   "cell_type": "code",
   "execution_count": 3,
   "id": "b086a59b",
   "metadata": {
    "execution": {
     "iopub.execute_input": "2025-10-17T02:07:17.886732Z",
     "iopub.status.busy": "2025-10-17T02:07:17.886433Z",
     "iopub.status.idle": "2025-10-17T02:07:26.558882Z",
     "shell.execute_reply": "2025-10-17T02:07:26.557974Z"
    },
    "id": "xyPuVC12s7fn",
    "papermill": {
     "duration": 8.677657,
     "end_time": "2025-10-17T02:07:26.559536",
     "exception": false,
     "start_time": "2025-10-17T02:07:17.881879",
     "status": "completed"
    },
    "tags": []
   },
   "outputs": [
    {
     "data": {
      "text/plain": [
       "['rsh20bkkb4zk_2025-10-17T010000_762c775ae454d23f2c6b6a75623d14c7_2853a0.csv.gz',\n",
       " 'rsh20bkkb4zk_2025-10-17T010000_762c775ae454d23f2c6b6a75623d14c7_2853a1.csv.gz',\n",
       " 'rsh20bkkb4zk_2025-10-17T010000_762c775ae454d23f2c6b6a75623d14c7_be8220.csv.gz',\n",
       " 'rsh20bkkb4zk_2025-10-17T010000_762c775ae454d23f2c6b6a75623d14c7_be8221.csv.gz',\n",
       " 'rsh20bkkb4zk_2025-10-17T010000_762c775ae454d23f2c6b6a75623d14c7_c35750.csv.gz',\n",
       " 'rsh20bkkb4zk_2025-10-17T010000_762c775ae454d23f2c6b6a75623d14c7_c35751.csv.gz']"
      ]
     },
     "execution_count": 3,
     "metadata": {},
     "output_type": "execute_result"
    }
   ],
   "source": [
    "container_name_uat = \"adjuststbuat\"\n",
    "container_client_uat = blob_service_client.get_container_client(container_name_uat)\n",
    "from collections import defaultdict\n",
    "files = [i.name for i in container_client_uat.list_blobs()]\n",
    "groups = defaultdict(list)\n",
    "for f in files:\n",
    "    dt = f.split('_')[1]\n",
    "    groups[dt].append(f)\n",
    "groups[dt]"
   ]
  },
  {
   "cell_type": "code",
   "execution_count": 4,
   "id": "4ded25e0",
   "metadata": {
    "execution": {
     "iopub.execute_input": "2025-10-17T02:07:26.565440Z",
     "iopub.status.busy": "2025-10-17T02:07:26.565250Z",
     "iopub.status.idle": "2025-10-17T02:07:26.568345Z",
     "shell.execute_reply": "2025-10-17T02:07:26.567479Z"
    },
    "papermill": {
     "duration": 0.006741,
     "end_time": "2025-10-17T02:07:26.568956",
     "exception": false,
     "start_time": "2025-10-17T02:07:26.562215",
     "status": "completed"
    },
    "tags": []
   },
   "outputs": [],
   "source": [
    "# from datetime import date, timedelta, datetime\n",
    "# import pandas as pd\n",
    "# today = date.today().strftime('%Y-%m-%d')\n",
    "# yesterday = (date.today() - timedelta(days = 1) ).strftime('%Y-%m-%d')\n",
    "# check_date = dt.split(\"T\")[0]\n",
    "# if check_date == today:\n",
    "#     need_process = pd.date_range(start=already_processed[-1], end=today).strftime('%Y-%m-%d').to_list()\n",
    "# else:\n",
    "#     need_process = pd.date_range(start=already_processed[-1], end=yesterday).strftime('%Y-%m-%d').to_list()\n",
    "# need_process"
   ]
  },
  {
   "cell_type": "code",
   "execution_count": 5,
   "id": "8f017338",
   "metadata": {
    "execution": {
     "iopub.execute_input": "2025-10-17T02:07:26.574365Z",
     "iopub.status.busy": "2025-10-17T02:07:26.574201Z",
     "iopub.status.idle": "2025-10-17T02:07:26.853204Z",
     "shell.execute_reply": "2025-10-17T02:07:26.852165Z"
    },
    "papermill": {
     "duration": 0.282608,
     "end_time": "2025-10-17T02:07:26.853871",
     "exception": false,
     "start_time": "2025-10-17T02:07:26.571263",
     "status": "completed"
    },
    "tags": []
   },
   "outputs": [
    {
     "data": {
      "text/plain": [
       "['2025-10-16T230000', '2025-10-17T000000', '2025-10-17T010000']"
      ]
     },
     "execution_count": 5,
     "metadata": {},
     "output_type": "execute_result"
    }
   ],
   "source": [
    "from datetime import datetime\n",
    "import pandas as pd\n",
    "B = datetime.strptime(dt, \"%Y-%m-%dT%H0000\")\n",
    "A = datetime.strptime(already_processed_ts[-2], \"%Y-%m-%dT%H0000\")\n",
    "need_process_ts =  pd.date_range(A, B, freq='h').strftime('%Y-%m-%dT%H0000').tolist()\n",
    "need_process_ts"
   ]
  },
  {
   "cell_type": "code",
   "execution_count": 6,
   "id": "4320d62d",
   "metadata": {
    "execution": {
     "iopub.execute_input": "2025-10-17T02:07:26.860358Z",
     "iopub.status.busy": "2025-10-17T02:07:26.859978Z",
     "iopub.status.idle": "2025-10-17T02:07:54.858149Z",
     "shell.execute_reply": "2025-10-17T02:07:54.857098Z"
    },
    "papermill": {
     "duration": 28.002347,
     "end_time": "2025-10-17T02:07:54.858938",
     "exception": false,
     "start_time": "2025-10-17T02:07:26.856591",
     "status": "completed"
    },
    "tags": []
   },
   "outputs": [
    {
     "name": "stderr",
     "output_type": "stream",
     "text": [
      "\r",
      "  0%|          | 0/2008 [00:00<?, ?it/s]"
     ]
    },
    {
     "name": "stderr",
     "output_type": "stream",
     "text": [
      "\r",
      "100%|█████████▉| 2006/2008 [00:10<00:00, 192.60it/s]"
     ]
    },
    {
     "name": "stdout",
     "output_type": "stream",
     "text": [
      "Done dt=2025-10-16/2025-10-16T230000.parquet\n"
     ]
    },
    {
     "name": "stdout",
     "output_type": "stream",
     "text": [
      "Done dt=2025-10-17/2025-10-17T000000.parquet\n"
     ]
    },
    {
     "name": "stderr",
     "output_type": "stream",
     "text": [
      "\r",
      "100%|██████████| 2008/2008 [00:27<00:00, 71.94it/s] "
     ]
    },
    {
     "name": "stdout",
     "output_type": "stream",
     "text": [
      "Done dt=2025-10-17/2025-10-17T010000.parquet\n"
     ]
    },
    {
     "name": "stderr",
     "output_type": "stream",
     "text": [
      "\n"
     ]
    }
   ],
   "source": [
    "import polars as pl \n",
    "from tqdm import tqdm\n",
    "storage_options = {\n",
    "    \"account_name\": account_name,\n",
    "    \"account_key\":  account_key,\n",
    "}\n",
    "\n",
    "for ts, files in tqdm(groups.items()):\n",
    "    if ts not in need_process_ts:\n",
    "        continue\n",
    "    dt = ts[:10]\n",
    "    # if dt not in need_process:\n",
    "    #     continue\n",
    "    df = pl.scan_csv(f\"az://adjuststbuat/*_{ts}_*.csv.gz\", storage_options = storage_options,glob=True, has_header = True, null_values = [\"\",\"NULL\"], ignore_errors=True).select(pl.all().cast(pl.Utf8))\n",
    "    df.sink_parquet(f\"az://adjuststbuatprocessed/processing/dt={dt}/{ts}.parquet\", storage_options = storage_options, compression=\"snappy\")\n",
    "    print(f'Done dt={dt}/{ts}.parquet')\n",
    "        "
   ]
  },
  {
   "cell_type": "code",
   "execution_count": 7,
   "id": "34f32e7e",
   "metadata": {
    "execution": {
     "iopub.execute_input": "2025-10-17T02:07:54.865876Z",
     "iopub.status.busy": "2025-10-17T02:07:54.865677Z",
     "iopub.status.idle": "2025-10-17T02:07:54.870132Z",
     "shell.execute_reply": "2025-10-17T02:07:54.869371Z"
    },
    "papermill": {
     "duration": 0.00881,
     "end_time": "2025-10-17T02:07:54.870836",
     "exception": false,
     "start_time": "2025-10-17T02:07:54.862026",
     "status": "completed"
    },
    "tags": []
   },
   "outputs": [
    {
     "data": {
      "text/plain": [
       "{'2025-10-16', '2025-10-17'}"
      ]
     },
     "execution_count": 7,
     "metadata": {},
     "output_type": "execute_result"
    }
   ],
   "source": [
    "need_process = set([i.split(\"T\")[0] for i in need_process_ts])\n",
    "need_process"
   ]
  },
  {
   "cell_type": "code",
   "execution_count": 8,
   "id": "9891e444",
   "metadata": {
    "execution": {
     "iopub.execute_input": "2025-10-17T02:07:54.877128Z",
     "iopub.status.busy": "2025-10-17T02:07:54.876937Z",
     "iopub.status.idle": "2025-10-17T02:08:02.106073Z",
     "shell.execute_reply": "2025-10-17T02:08:02.105194Z"
    },
    "papermill": {
     "duration": 7.233157,
     "end_time": "2025-10-17T02:08:02.106790",
     "exception": false,
     "start_time": "2025-10-17T02:07:54.873633",
     "status": "completed"
    },
    "tags": []
   },
   "outputs": [
    {
     "name": "stdout",
     "output_type": "stream",
     "text": [
      "\n",
      " Done 2025-10-17\n",
      "\n"
     ]
    },
    {
     "name": "stdout",
     "output_type": "stream",
     "text": [
      "\n",
      " Done 2025-10-16\n",
      "\n"
     ]
    }
   ],
   "source": [
    "for dt in need_process:\n",
    "  df = pl.scan_parquet(f\"az://adjuststbuatprocessed/processing/dt={dt}/*.parquet\", storage_options=storage_options,glob=True).with_columns(pl.lit(dt).alias(\"dt\"))\n",
    "  df.sink_parquet(f\"az://adjuststbuatprocessed/output/{dt}.parquet\", storage_options=storage_options, compression=\"snappy\")\n",
    "  print(f'\\n Done {dt}\\n')"
   ]
  },
  {
   "cell_type": "markdown",
   "id": "44b7997c",
   "metadata": {
    "id": "2TvKr29qyJd_",
    "papermill": {
     "duration": 0.002995,
     "end_time": "2025-10-17T02:08:02.112972",
     "exception": false,
     "start_time": "2025-10-17T02:08:02.109977",
     "status": "completed"
    },
    "tags": []
   },
   "source": [
    "# Live"
   ]
  },
  {
   "cell_type": "code",
   "execution_count": 9,
   "id": "3dc625f7",
   "metadata": {
    "execution": {
     "iopub.execute_input": "2025-10-17T02:08:02.119804Z",
     "iopub.status.busy": "2025-10-17T02:08:02.119601Z",
     "iopub.status.idle": "2025-10-17T02:08:06.360616Z",
     "shell.execute_reply": "2025-10-17T02:08:06.359703Z"
    },
    "id": "EnaFsdZFxpwc",
    "papermill": {
     "duration": 4.245411,
     "end_time": "2025-10-17T02:08:06.361307",
     "exception": false,
     "start_time": "2025-10-17T02:08:02.115896",
     "status": "completed"
    },
    "tags": []
   },
   "outputs": [
    {
     "data": {
      "text/plain": [
       "['2025-10-16T200000',\n",
       " '2025-10-16T210000',\n",
       " '2025-10-16T220000',\n",
       " '2025-10-16T230000',\n",
       " '2025-10-17T000000']"
      ]
     },
     "execution_count": 9,
     "metadata": {},
     "output_type": "execute_result"
    }
   ],
   "source": [
    "# already_processed = [file.name.split('/')[-1].split('.')[0] for file in container_client.list_blobs() if file.name[:12] == 'live/output/']\n",
    "# already_processed[-5:]\n",
    "already_processed_ts = sorted([file.name.split('/')[-1].split(\".\")[0] for file in container_client.list_blobs() if (file.name.split('/')[0] + \"/\" + file.name.split('/')[1]) == 'live/processing'])\n",
    "already_processed_ts[-5:]"
   ]
  },
  {
   "cell_type": "code",
   "execution_count": 10,
   "id": "68a5e030",
   "metadata": {
    "execution": {
     "iopub.execute_input": "2025-10-17T02:08:06.368648Z",
     "iopub.status.busy": "2025-10-17T02:08:06.368433Z",
     "iopub.status.idle": "2025-10-17T02:08:18.919741Z",
     "shell.execute_reply": "2025-10-17T02:08:18.918868Z"
    },
    "id": "I7Er6YEUyOsL",
    "papermill": {
     "duration": 12.556019,
     "end_time": "2025-10-17T02:08:18.920631",
     "exception": false,
     "start_time": "2025-10-17T02:08:06.364612",
     "status": "completed"
    },
    "tags": []
   },
   "outputs": [
    {
     "data": {
      "text/plain": [
       "['65n1fgov4zr4_2025-10-17T010000_762c775ae454d23f2c6b6a75623d14c7_2853a0.csv.gz',\n",
       " '65n1fgov4zr4_2025-10-17T010000_762c775ae454d23f2c6b6a75623d14c7_2853a1.csv.gz',\n",
       " '65n1fgov4zr4_2025-10-17T010000_762c775ae454d23f2c6b6a75623d14c7_be8220.csv.gz',\n",
       " '65n1fgov4zr4_2025-10-17T010000_762c775ae454d23f2c6b6a75623d14c7_be8221.csv.gz',\n",
       " '65n1fgov4zr4_2025-10-17T010000_762c775ae454d23f2c6b6a75623d14c7_c35750.csv.gz',\n",
       " '65n1fgov4zr4_2025-10-17T010000_762c775ae454d23f2c6b6a75623d14c7_c35751.csv.gz']"
      ]
     },
     "execution_count": 10,
     "metadata": {},
     "output_type": "execute_result"
    }
   ],
   "source": [
    "container_name_uat = \"adjuststblive\"\n",
    "container_client_uat = blob_service_client.get_container_client(container_name_uat)\n",
    "from collections import defaultdict\n",
    "files = [i.name for i in container_client_uat.list_blobs()]\n",
    "groups = defaultdict(list)\n",
    "for f in files:\n",
    "    dt = f.split('_')[1]\n",
    "    groups[dt].append(f)\n",
    "groups[dt]"
   ]
  },
  {
   "cell_type": "code",
   "execution_count": 11,
   "id": "32e5f258",
   "metadata": {
    "execution": {
     "iopub.execute_input": "2025-10-17T02:08:18.928761Z",
     "iopub.status.busy": "2025-10-17T02:08:18.928532Z",
     "iopub.status.idle": "2025-10-17T02:08:18.934434Z",
     "shell.execute_reply": "2025-10-17T02:08:18.933502Z"
    },
    "papermill": {
     "duration": 0.010921,
     "end_time": "2025-10-17T02:08:18.935150",
     "exception": false,
     "start_time": "2025-10-17T02:08:18.924229",
     "status": "completed"
    },
    "tags": []
   },
   "outputs": [
    {
     "data": {
      "text/plain": [
       "['2025-10-17T000000', '2025-10-17T010000']"
      ]
     },
     "execution_count": 11,
     "metadata": {},
     "output_type": "execute_result"
    }
   ],
   "source": [
    "# need_process = pd.date_range(start=already_processed[-1], end=today).strftime('%Y-%m-%d').to_list()\n",
    "# need_process\n",
    "\n",
    "B = datetime.strptime(dt, \"%Y-%m-%dT%H0000\")\n",
    "A = datetime.strptime(already_processed_ts[-1], \"%Y-%m-%dT%H0000\")\n",
    "need_process_ts =  pd.date_range(A, B, freq='h').strftime('%Y-%m-%dT%H0000').tolist()\n",
    "need_process_ts"
   ]
  },
  {
   "cell_type": "code",
   "execution_count": 12,
   "id": "b497153a",
   "metadata": {
    "execution": {
     "iopub.execute_input": "2025-10-17T02:08:18.942687Z",
     "iopub.status.busy": "2025-10-17T02:08:18.942471Z",
     "iopub.status.idle": "2025-10-17T02:09:11.123305Z",
     "shell.execute_reply": "2025-10-17T02:09:11.122431Z"
    },
    "id": "g-W3s2nRyRY7",
    "papermill": {
     "duration": 52.185734,
     "end_time": "2025-10-17T02:09:11.124205",
     "exception": false,
     "start_time": "2025-10-17T02:08:18.938471",
     "status": "completed"
    },
    "tags": []
   },
   "outputs": [
    {
     "name": "stderr",
     "output_type": "stream",
     "text": [
      "\r",
      "  0%|          | 0/2032 [00:00<?, ?it/s]"
     ]
    },
    {
     "name": "stderr",
     "output_type": "stream",
     "text": [
      "\r",
      "100%|█████████▉| 2031/2032 [00:27<00:00, 74.20it/s]"
     ]
    },
    {
     "name": "stdout",
     "output_type": "stream",
     "text": [
      "Done dt=2025-10-17/2025-10-17T000000.parquet\n"
     ]
    },
    {
     "name": "stderr",
     "output_type": "stream",
     "text": [
      "\r",
      "100%|█████████▉| 2031/2032 [00:37<00:00, 74.20it/s]"
     ]
    },
    {
     "name": "stderr",
     "output_type": "stream",
     "text": [
      "\r",
      "100%|██████████| 2032/2032 [00:52<00:00, 32.36it/s]"
     ]
    },
    {
     "name": "stderr",
     "output_type": "stream",
     "text": [
      "\r",
      "100%|██████████| 2032/2032 [00:52<00:00, 38.95it/s]"
     ]
    },
    {
     "name": "stdout",
     "output_type": "stream",
     "text": [
      "Done dt=2025-10-17/2025-10-17T010000.parquet\n"
     ]
    },
    {
     "name": "stderr",
     "output_type": "stream",
     "text": [
      "\n"
     ]
    }
   ],
   "source": [
    "storage_options = {\n",
    "    \"account_name\": account_name,\n",
    "    \"account_key\":  account_key,\n",
    "}\n",
    "\n",
    "for ts, files in tqdm(groups.items()):\n",
    "    if ts not in need_process_ts: continue\n",
    "    dt = ts[:10]\n",
    "    # if dt not in need_process:\n",
    "    #     continue\n",
    "    df = pl.scan_csv(f\"az://adjuststblive/*_{ts}_*.csv.gz\", storage_options = storage_options,glob=True, has_header = True, null_values = [\"\",\"NULL\"], ignore_errors=True).select(pl.all().cast(pl.Utf8))\n",
    "    df.sink_parquet(f\"az://adjuststbuatprocessed/live/processing/dt={dt}/{ts}.parquet\", storage_options = storage_options, compression=\"snappy\")\n",
    "    print(f'Done dt={dt}/{ts}.parquet')\n",
    "        "
   ]
  },
  {
   "cell_type": "code",
   "execution_count": 13,
   "id": "a91d32ce",
   "metadata": {
    "execution": {
     "iopub.execute_input": "2025-10-17T02:09:11.137510Z",
     "iopub.status.busy": "2025-10-17T02:09:11.137214Z",
     "iopub.status.idle": "2025-10-17T02:09:11.142355Z",
     "shell.execute_reply": "2025-10-17T02:09:11.141571Z"
    },
    "papermill": {
     "duration": 0.015211,
     "end_time": "2025-10-17T02:09:11.143276",
     "exception": false,
     "start_time": "2025-10-17T02:09:11.128065",
     "status": "completed"
    },
    "tags": []
   },
   "outputs": [
    {
     "data": {
      "text/plain": [
       "{'2025-10-17'}"
      ]
     },
     "execution_count": 13,
     "metadata": {},
     "output_type": "execute_result"
    }
   ],
   "source": [
    "need_process = set([i.split(\"T\")[0] for i in need_process_ts])\n",
    "need_process"
   ]
  },
  {
   "cell_type": "code",
   "execution_count": 14,
   "id": "785b7dc7",
   "metadata": {
    "execution": {
     "iopub.execute_input": "2025-10-17T02:09:11.151657Z",
     "iopub.status.busy": "2025-10-17T02:09:11.151452Z",
     "iopub.status.idle": "2025-10-17T02:09:34.070172Z",
     "shell.execute_reply": "2025-10-17T02:09:34.069104Z"
    },
    "id": "sBm7rfFUyePJ",
    "papermill": {
     "duration": 22.923754,
     "end_time": "2025-10-17T02:09:34.070820",
     "exception": false,
     "start_time": "2025-10-17T02:09:11.147066",
     "status": "completed"
    },
    "tags": []
   },
   "outputs": [
    {
     "name": "stdout",
     "output_type": "stream",
     "text": [
      "\n",
      " Done 2025-10-17\n",
      "\n"
     ]
    }
   ],
   "source": [
    "for dt in need_process:\n",
    "  df = pl.scan_parquet(f\"az://adjuststbuatprocessed/live/processing/dt={dt}/*.parquet\", storage_options=storage_options,glob=True).with_columns(pl.lit(dt).alias(\"dt\"))\n",
    "  df.sink_parquet(f\"az://adjuststbuatprocessed/live/output/{dt}.parquet\", storage_options=storage_options, compression=\"snappy\")\n",
    "  print(f'\\n Done {dt}\\n')"
   ]
  }
 ],
 "metadata": {
  "colab": {
   "authorship_tag": "ABX9TyOfzO6uvqUX+Tt89Y73G9E8",
   "include_colab_link": true,
   "provenance": []
  },
  "kernelspec": {
   "display_name": "Python 3",
   "name": "python3"
  },
  "language_info": {
   "codemirror_mode": {
    "name": "ipython",
    "version": 3
   },
   "file_extension": ".py",
   "mimetype": "text/x-python",
   "name": "python",
   "nbconvert_exporter": "python",
   "pygments_lexer": "ipython3",
   "version": "3.11.13"
  },
  "papermill": {
   "default_parameters": {},
   "duration": 144.724792,
   "end_time": "2025-10-17T02:09:34.691537",
   "environment_variables": {},
   "exception": null,
   "input_path": "notebooks/ADJUST_JOB.ipynb",
   "output_path": "outputs/ADJUST_JOB_2025-10-17.ipynb",
   "parameters": {
    "RUN_DATE": "2025-10-17"
   },
   "start_time": "2025-10-17T02:07:09.966745",
   "version": "2.6.0"
  }
 },
 "nbformat": 4,
 "nbformat_minor": 5
}