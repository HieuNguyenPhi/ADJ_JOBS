{
 "cells": [
  {
   "cell_type": "code",
   "execution_count": 1,
   "id": "00df88a5",
   "metadata": {
    "execution": {
     "iopub.execute_input": "2025-10-17T00:48:08.370442Z",
     "iopub.status.busy": "2025-10-17T00:48:08.370250Z",
     "iopub.status.idle": "2025-10-17T00:48:08.375322Z",
     "shell.execute_reply": "2025-10-17T00:48:08.374559Z"
    },
    "papermill": {
     "duration": 0.009449,
     "end_time": "2025-10-17T00:48:08.375959",
     "exception": false,
     "start_time": "2025-10-17T00:48:08.366510",
     "status": "completed"
    },
    "tags": [
     "injected-parameters"
    ]
   },
   "outputs": [],
   "source": [
    "# Parameters\n",
    "RUN_DATE = \"2025-10-17\"\n"
   ]
  },
  {
   "cell_type": "markdown",
   "id": "c6beff1b",
   "metadata": {
    "colab_type": "text",
    "id": "view-in-github",
    "papermill": {
     "duration": 0.001953,
     "end_time": "2025-10-17T00:48:08.380298",
     "exception": false,
     "start_time": "2025-10-17T00:48:08.378345",
     "status": "completed"
    },
    "tags": []
   },
   "source": [
    "<a href=\"https://colab.research.google.com/github/HieuNguyenPhi/ADJ_JOBS/blob/main/notebooks/ADJUST_JOB.ipynb\" target=\"_parent\"><img src=\"https://colab.research.google.com/assets/colab-badge.svg\" alt=\"Open In Colab\"/></a>"
   ]
  },
  {
   "cell_type": "markdown",
   "id": "342697da",
   "metadata": {
    "papermill": {
     "duration": 0.002763,
     "end_time": "2025-10-17T00:48:08.384992",
     "exception": false,
     "start_time": "2025-10-17T00:48:08.382229",
     "status": "completed"
    },
    "tags": []
   },
   "source": [
    "# UAT"
   ]
  },
  {
   "cell_type": "code",
   "execution_count": 2,
   "id": "78d8b1d4",
   "metadata": {
    "execution": {
     "iopub.execute_input": "2025-10-17T00:48:08.389713Z",
     "iopub.status.busy": "2025-10-17T00:48:08.389505Z",
     "iopub.status.idle": "2025-10-17T00:48:14.530518Z",
     "shell.execute_reply": "2025-10-17T00:48:14.529708Z"
    },
    "id": "ycUR2r1dq1Nm",
    "papermill": {
     "duration": 6.144261,
     "end_time": "2025-10-17T00:48:14.531174",
     "exception": false,
     "start_time": "2025-10-17T00:48:08.386913",
     "status": "completed"
    },
    "tags": []
   },
   "outputs": [
    {
     "data": {
      "text/plain": [
       "['2025-10-16T030000',\n",
       " '2025-10-16T040000',\n",
       " '2025-10-16T050000',\n",
       " '2025-10-16T060000',\n",
       " '2025-10-16T070000']"
      ]
     },
     "execution_count": 2,
     "metadata": {},
     "output_type": "execute_result"
    }
   ],
   "source": [
    "import os\n",
    "from azure.storage.blob import BlobServiceClient\n",
    "\n",
    "account_name = os.getenv('ACCOUNT_NAME')\n",
    "account_key = os.getenv('ACCOUNT_KEY')\n",
    "# Replace with your Azure Storage account name and SAS token or connection string\n",
    "connect_str = f\"DefaultEndpointsProtocol=https;AccountName={account_name};AccountKey={account_key};EndpointSuffix=core.windows.net\"\n",
    "blob_service_client = BlobServiceClient.from_connection_string(connect_str)\n",
    "container_list = blob_service_client.list_containers()\n",
    "container_name = \"adjuststbuatprocessed\" #os.getenv('CONTAINER_NAME')\n",
    "container_client = blob_service_client.get_container_client(container_name)\n",
    "# already_processed = [file.name.split('/')[1].split('.')[0] for file in container_client.list_blobs() if file.name.split('/')[0] == 'output']\n",
    "# already_processed[-5:]\n",
    "already_processed_ts = sorted([file.name.split('/')[-1].split(\".\")[0] for file in container_client.list_blobs() if file.name.split('/')[0] == 'processing'])\n",
    "already_processed_ts[-5:]"
   ]
  },
  {
   "cell_type": "code",
   "execution_count": 3,
   "id": "877163ce",
   "metadata": {
    "execution": {
     "iopub.execute_input": "2025-10-17T00:48:14.536736Z",
     "iopub.status.busy": "2025-10-17T00:48:14.536467Z",
     "iopub.status.idle": "2025-10-17T00:48:22.471386Z",
     "shell.execute_reply": "2025-10-17T00:48:22.470416Z"
    },
    "id": "xyPuVC12s7fn",
    "papermill": {
     "duration": 7.938388,
     "end_time": "2025-10-17T00:48:22.471991",
     "exception": false,
     "start_time": "2025-10-17T00:48:14.533603",
     "status": "completed"
    },
    "tags": []
   },
   "outputs": [
    {
     "data": {
      "text/plain": [
       "['rsh20bkkb4zk_2025-10-16T230000_762c775ae454d23f2c6b6a75623d14c7_2853a0.csv.gz',\n",
       " 'rsh20bkkb4zk_2025-10-16T230000_762c775ae454d23f2c6b6a75623d14c7_2853a1.csv.gz']"
      ]
     },
     "execution_count": 3,
     "metadata": {},
     "output_type": "execute_result"
    }
   ],
   "source": [
    "container_name_uat = \"adjuststbuat\"\n",
    "container_client_uat = blob_service_client.get_container_client(container_name_uat)\n",
    "from collections import defaultdict\n",
    "files = [i.name for i in container_client_uat.list_blobs()]\n",
    "groups = defaultdict(list)\n",
    "for f in files:\n",
    "    dt = f.split('_')[1]\n",
    "    groups[dt].append(f)\n",
    "groups[dt]"
   ]
  },
  {
   "cell_type": "code",
   "execution_count": 4,
   "id": "dc640183",
   "metadata": {
    "execution": {
     "iopub.execute_input": "2025-10-17T00:48:22.477879Z",
     "iopub.status.busy": "2025-10-17T00:48:22.477691Z",
     "iopub.status.idle": "2025-10-17T00:48:22.480604Z",
     "shell.execute_reply": "2025-10-17T00:48:22.479772Z"
    },
    "papermill": {
     "duration": 0.006573,
     "end_time": "2025-10-17T00:48:22.481212",
     "exception": false,
     "start_time": "2025-10-17T00:48:22.474639",
     "status": "completed"
    },
    "tags": []
   },
   "outputs": [],
   "source": [
    "# from datetime import date, timedelta, datetime\n",
    "# import pandas as pd\n",
    "# today = date.today().strftime('%Y-%m-%d')\n",
    "# yesterday = (date.today() - timedelta(days = 1) ).strftime('%Y-%m-%d')\n",
    "# check_date = dt.split(\"T\")[0]\n",
    "# if check_date == today:\n",
    "#     need_process = pd.date_range(start=already_processed[-1], end=today).strftime('%Y-%m-%d').to_list()\n",
    "# else:\n",
    "#     need_process = pd.date_range(start=already_processed[-1], end=yesterday).strftime('%Y-%m-%d').to_list()\n",
    "# need_process"
   ]
  },
  {
   "cell_type": "code",
   "execution_count": 5,
   "id": "c098fcb9",
   "metadata": {
    "execution": {
     "iopub.execute_input": "2025-10-17T00:48:22.486493Z",
     "iopub.status.busy": "2025-10-17T00:48:22.486325Z",
     "iopub.status.idle": "2025-10-17T00:48:22.803496Z",
     "shell.execute_reply": "2025-10-17T00:48:22.802559Z"
    },
    "papermill": {
     "duration": 0.320682,
     "end_time": "2025-10-17T00:48:22.804109",
     "exception": false,
     "start_time": "2025-10-17T00:48:22.483427",
     "status": "completed"
    },
    "tags": []
   },
   "outputs": [
    {
     "data": {
      "text/plain": [
       "['2025-10-16T060000',\n",
       " '2025-10-16T070000',\n",
       " '2025-10-16T080000',\n",
       " '2025-10-16T090000',\n",
       " '2025-10-16T100000',\n",
       " '2025-10-16T110000',\n",
       " '2025-10-16T120000',\n",
       " '2025-10-16T130000',\n",
       " '2025-10-16T140000',\n",
       " '2025-10-16T150000',\n",
       " '2025-10-16T160000',\n",
       " '2025-10-16T170000',\n",
       " '2025-10-16T180000',\n",
       " '2025-10-16T190000',\n",
       " '2025-10-16T200000',\n",
       " '2025-10-16T210000',\n",
       " '2025-10-16T220000',\n",
       " '2025-10-16T230000']"
      ]
     },
     "execution_count": 5,
     "metadata": {},
     "output_type": "execute_result"
    }
   ],
   "source": [
    "from datetime import datetime\n",
    "import pandas as pd\n",
    "B = datetime.strptime(dt, \"%Y-%m-%dT%H0000\")\n",
    "A = datetime.strptime(already_processed_ts[-2], \"%Y-%m-%dT%H0000\")\n",
    "need_process_ts =  pd.date_range(A, B, freq='h').strftime('%Y-%m-%dT%H0000').tolist()\n",
    "need_process_ts"
   ]
  },
  {
   "cell_type": "code",
   "execution_count": 6,
   "id": "d38bb952",
   "metadata": {
    "execution": {
     "iopub.execute_input": "2025-10-17T00:48:22.810283Z",
     "iopub.status.busy": "2025-10-17T00:48:22.810023Z",
     "iopub.status.idle": "2025-10-17T00:50:04.942109Z",
     "shell.execute_reply": "2025-10-17T00:50:04.941188Z"
    },
    "papermill": {
     "duration": 102.135875,
     "end_time": "2025-10-17T00:50:04.942697",
     "exception": false,
     "start_time": "2025-10-17T00:48:22.806822",
     "status": "completed"
    },
    "tags": []
   },
   "outputs": [
    {
     "name": "stderr",
     "output_type": "stream",
     "text": [
      "\r",
      "  0%|          | 0/2006 [00:00<?, ?it/s]"
     ]
    },
    {
     "name": "stderr",
     "output_type": "stream",
     "text": [
      "\r",
      " 99%|█████████▉| 1994/2006 [00:09<00:00, 200.45it/s]"
     ]
    },
    {
     "name": "stdout",
     "output_type": "stream",
     "text": [
      "Done dt=2025-10-16/2025-10-16T060000.parquet\n"
     ]
    },
    {
     "name": "stdout",
     "output_type": "stream",
     "text": [
      "Done dt=2025-10-16/2025-10-16T070000.parquet\n"
     ]
    },
    {
     "name": "stderr",
     "output_type": "stream",
     "text": [
      "\r",
      " 99%|█████████▉| 1994/2006 [00:19<00:00, 200.45it/s]"
     ]
    },
    {
     "name": "stderr",
     "output_type": "stream",
     "text": [
      "\r",
      "100%|█████████▉| 1996/2006 [00:26<00:00, 59.77it/s] "
     ]
    },
    {
     "name": "stdout",
     "output_type": "stream",
     "text": [
      "Done dt=2025-10-16/2025-10-16T080000.parquet\n"
     ]
    },
    {
     "name": "stderr",
     "output_type": "stream",
     "text": [
      "\r",
      "100%|█████████▉| 1997/2006 [00:34<00:00, 39.21it/s]"
     ]
    },
    {
     "name": "stdout",
     "output_type": "stream",
     "text": [
      "Done dt=2025-10-16/2025-10-16T090000.parquet\n"
     ]
    },
    {
     "name": "stdout",
     "output_type": "stream",
     "text": [
      "Done dt=2025-10-16/2025-10-16T100000.parquet\n"
     ]
    },
    {
     "name": "stderr",
     "output_type": "stream",
     "text": [
      "\r",
      "100%|█████████▉| 1997/2006 [00:50<00:00, 39.21it/s]"
     ]
    },
    {
     "name": "stderr",
     "output_type": "stream",
     "text": [
      "\r",
      "100%|█████████▉| 1999/2006 [00:50<00:00, 20.54it/s]"
     ]
    },
    {
     "name": "stdout",
     "output_type": "stream",
     "text": [
      "Done dt=2025-10-16/2025-10-16T110000.parquet\n"
     ]
    },
    {
     "name": "stderr",
     "output_type": "stream",
     "text": [
      "\r",
      "100%|█████████▉| 2000/2006 [00:58<00:00, 15.48it/s]"
     ]
    },
    {
     "name": "stdout",
     "output_type": "stream",
     "text": [
      "Done dt=2025-10-16/2025-10-16T120000.parquet\n"
     ]
    },
    {
     "name": "stdout",
     "output_type": "stream",
     "text": [
      "Done dt=2025-10-16/2025-10-16T130000.parquet\n"
     ]
    },
    {
     "name": "stderr",
     "output_type": "stream",
     "text": [
      "\r",
      "100%|█████████▉| 2000/2006 [01:10<00:00, 15.48it/s]"
     ]
    },
    {
     "name": "stderr",
     "output_type": "stream",
     "text": [
      "\r",
      "100%|█████████▉| 2002/2006 [01:14<00:00,  9.12it/s]"
     ]
    },
    {
     "name": "stdout",
     "output_type": "stream",
     "text": [
      "Done dt=2025-10-16/2025-10-16T140000.parquet\n"
     ]
    },
    {
     "name": "stderr",
     "output_type": "stream",
     "text": [
      "\r",
      "100%|█████████▉| 2003/2006 [01:21<00:00,  7.20it/s]"
     ]
    },
    {
     "name": "stdout",
     "output_type": "stream",
     "text": [
      "Done dt=2025-10-16/2025-10-16T150000.parquet\n"
     ]
    },
    {
     "name": "stdout",
     "output_type": "stream",
     "text": [
      "Done dt=2025-10-16/2025-10-16T160000.parquet\n"
     ]
    },
    {
     "name": "stdout",
     "output_type": "stream",
     "text": [
      "Done dt=2025-10-16/2025-10-16T210000.parquet\n"
     ]
    },
    {
     "name": "stderr",
     "output_type": "stream",
     "text": [
      "\r",
      "100%|█████████▉| 2003/2006 [01:40<00:00,  7.20it/s]"
     ]
    },
    {
     "name": "stderr",
     "output_type": "stream",
     "text": [
      "\r",
      "100%|██████████| 2006/2006 [01:42<00:00,  3.86it/s]"
     ]
    },
    {
     "name": "stderr",
     "output_type": "stream",
     "text": [
      "\r",
      "100%|██████████| 2006/2006 [01:42<00:00, 19.66it/s]"
     ]
    },
    {
     "name": "stdout",
     "output_type": "stream",
     "text": [
      "Done dt=2025-10-16/2025-10-16T230000.parquet\n"
     ]
    },
    {
     "name": "stderr",
     "output_type": "stream",
     "text": [
      "\n"
     ]
    }
   ],
   "source": [
    "import polars as pl \n",
    "from tqdm import tqdm\n",
    "storage_options = {\n",
    "    \"account_name\": account_name,\n",
    "    \"account_key\":  account_key,\n",
    "}\n",
    "\n",
    "for ts, files in tqdm(groups.items()):\n",
    "    if ts not in need_process_ts:\n",
    "        continue\n",
    "    dt = ts[:10]\n",
    "    # if dt not in need_process:\n",
    "    #     continue\n",
    "    df = pl.scan_csv(f\"az://adjuststbuat/*_{ts}_*.csv.gz\", storage_options = storage_options,glob=True, has_header = True, null_values = [\"\",\"NULL\"], ignore_errors=True).select(pl.all().cast(pl.Utf8))\n",
    "    df.sink_parquet(f\"az://adjuststbuatprocessed/processing/dt={dt}/{ts}.parquet\", storage_options = storage_options, compression=\"snappy\")\n",
    "    print(f'Done dt={dt}/{ts}.parquet')\n",
    "        "
   ]
  },
  {
   "cell_type": "code",
   "execution_count": 7,
   "id": "ae930276",
   "metadata": {
    "execution": {
     "iopub.execute_input": "2025-10-17T00:50:04.950772Z",
     "iopub.status.busy": "2025-10-17T00:50:04.950589Z",
     "iopub.status.idle": "2025-10-17T00:50:04.954696Z",
     "shell.execute_reply": "2025-10-17T00:50:04.953954Z"
    },
    "papermill": {
     "duration": 0.009052,
     "end_time": "2025-10-17T00:50:04.955326",
     "exception": false,
     "start_time": "2025-10-17T00:50:04.946274",
     "status": "completed"
    },
    "tags": []
   },
   "outputs": [
    {
     "data": {
      "text/plain": [
       "{'2025-10-16'}"
      ]
     },
     "execution_count": 7,
     "metadata": {},
     "output_type": "execute_result"
    }
   ],
   "source": [
    "need_process = set([i.split(\"T\")[0] for i in need_process_ts])\n",
    "need_process"
   ]
  },
  {
   "cell_type": "code",
   "execution_count": 8,
   "id": "1234b196",
   "metadata": {
    "execution": {
     "iopub.execute_input": "2025-10-17T00:50:04.963179Z",
     "iopub.status.busy": "2025-10-17T00:50:04.962889Z",
     "iopub.status.idle": "2025-10-17T00:50:09.480991Z",
     "shell.execute_reply": "2025-10-17T00:50:09.480235Z"
    },
    "papermill": {
     "duration": 4.522894,
     "end_time": "2025-10-17T00:50:09.481683",
     "exception": false,
     "start_time": "2025-10-17T00:50:04.958789",
     "status": "completed"
    },
    "tags": []
   },
   "outputs": [
    {
     "name": "stdout",
     "output_type": "stream",
     "text": [
      "\n",
      " Done 2025-10-16\n",
      "\n"
     ]
    }
   ],
   "source": [
    "for dt in need_process:\n",
    "  df = pl.scan_parquet(f\"az://adjuststbuatprocessed/processing/dt={dt}/*.parquet\", storage_options=storage_options,glob=True).with_columns(pl.lit(dt).alias(\"dt\"))\n",
    "  df.sink_parquet(f\"az://adjuststbuatprocessed/output/{dt}.parquet\", storage_options=storage_options, compression=\"snappy\")\n",
    "  print(f'\\n Done {dt}\\n')"
   ]
  },
  {
   "cell_type": "markdown",
   "id": "261b8e81",
   "metadata": {
    "id": "2TvKr29qyJd_",
    "papermill": {
     "duration": 0.003417,
     "end_time": "2025-10-17T00:50:09.488909",
     "exception": false,
     "start_time": "2025-10-17T00:50:09.485492",
     "status": "completed"
    },
    "tags": []
   },
   "source": [
    "# Live"
   ]
  },
  {
   "cell_type": "code",
   "execution_count": 9,
   "id": "2098613d",
   "metadata": {
    "execution": {
     "iopub.execute_input": "2025-10-17T00:50:09.496744Z",
     "iopub.status.busy": "2025-10-17T00:50:09.496575Z",
     "iopub.status.idle": "2025-10-17T00:50:13.326449Z",
     "shell.execute_reply": "2025-10-17T00:50:13.325643Z"
    },
    "id": "EnaFsdZFxpwc",
    "papermill": {
     "duration": 3.834715,
     "end_time": "2025-10-17T00:50:13.327049",
     "exception": false,
     "start_time": "2025-10-17T00:50:09.492334",
     "status": "completed"
    },
    "tags": []
   },
   "outputs": [
    {
     "data": {
      "text/plain": [
       "['2025-10-16T030000',\n",
       " '2025-10-16T040000',\n",
       " '2025-10-16T050000',\n",
       " '2025-10-16T060000',\n",
       " '2025-10-16T070000']"
      ]
     },
     "execution_count": 9,
     "metadata": {},
     "output_type": "execute_result"
    }
   ],
   "source": [
    "# already_processed = [file.name.split('/')[-1].split('.')[0] for file in container_client.list_blobs() if file.name[:12] == 'live/output/']\n",
    "# already_processed[-5:]\n",
    "already_processed_ts = sorted([file.name.split('/')[-1].split(\".\")[0] for file in container_client.list_blobs() if (file.name.split('/')[0] + \"/\" + file.name.split('/')[1]) == 'live/processing'])\n",
    "already_processed_ts[-5:]"
   ]
  },
  {
   "cell_type": "code",
   "execution_count": 10,
   "id": "d668dfc3",
   "metadata": {
    "execution": {
     "iopub.execute_input": "2025-10-17T00:50:13.335636Z",
     "iopub.status.busy": "2025-10-17T00:50:13.335449Z",
     "iopub.status.idle": "2025-10-17T00:50:24.723707Z",
     "shell.execute_reply": "2025-10-17T00:50:24.722977Z"
    },
    "id": "I7Er6YEUyOsL",
    "papermill": {
     "duration": 11.393612,
     "end_time": "2025-10-17T00:50:24.724596",
     "exception": false,
     "start_time": "2025-10-17T00:50:13.330984",
     "status": "completed"
    },
    "tags": []
   },
   "outputs": [
    {
     "data": {
      "text/plain": [
       "['65n1fgov4zr4_2025-10-16T230000_762c775ae454d23f2c6b6a75623d14c7_2853a0.csv.gz',\n",
       " '65n1fgov4zr4_2025-10-16T230000_762c775ae454d23f2c6b6a75623d14c7_2853a1.csv.gz',\n",
       " '65n1fgov4zr4_2025-10-16T230000_762c775ae454d23f2c6b6a75623d14c7_be8220.csv.gz',\n",
       " '65n1fgov4zr4_2025-10-16T230000_762c775ae454d23f2c6b6a75623d14c7_be8221.csv.gz',\n",
       " '65n1fgov4zr4_2025-10-16T230000_762c775ae454d23f2c6b6a75623d14c7_c35750.csv.gz',\n",
       " '65n1fgov4zr4_2025-10-16T230000_762c775ae454d23f2c6b6a75623d14c7_c35751.csv.gz']"
      ]
     },
     "execution_count": 10,
     "metadata": {},
     "output_type": "execute_result"
    }
   ],
   "source": [
    "container_name_uat = \"adjuststblive\"\n",
    "container_client_uat = blob_service_client.get_container_client(container_name_uat)\n",
    "from collections import defaultdict\n",
    "files = [i.name for i in container_client_uat.list_blobs()]\n",
    "groups = defaultdict(list)\n",
    "for f in files:\n",
    "    dt = f.split('_')[1]\n",
    "    groups[dt].append(f)\n",
    "groups[dt]"
   ]
  },
  {
   "cell_type": "code",
   "execution_count": 11,
   "id": "b5718d01",
   "metadata": {
    "execution": {
     "iopub.execute_input": "2025-10-17T00:50:24.733288Z",
     "iopub.status.busy": "2025-10-17T00:50:24.733029Z",
     "iopub.status.idle": "2025-10-17T00:50:24.738222Z",
     "shell.execute_reply": "2025-10-17T00:50:24.737430Z"
    },
    "papermill": {
     "duration": 0.010133,
     "end_time": "2025-10-17T00:50:24.738783",
     "exception": false,
     "start_time": "2025-10-17T00:50:24.728650",
     "status": "completed"
    },
    "tags": []
   },
   "outputs": [
    {
     "data": {
      "text/plain": [
       "['2025-10-16T070000',\n",
       " '2025-10-16T080000',\n",
       " '2025-10-16T090000',\n",
       " '2025-10-16T100000',\n",
       " '2025-10-16T110000',\n",
       " '2025-10-16T120000',\n",
       " '2025-10-16T130000',\n",
       " '2025-10-16T140000',\n",
       " '2025-10-16T150000',\n",
       " '2025-10-16T160000',\n",
       " '2025-10-16T170000',\n",
       " '2025-10-16T180000',\n",
       " '2025-10-16T190000',\n",
       " '2025-10-16T200000',\n",
       " '2025-10-16T210000',\n",
       " '2025-10-16T220000',\n",
       " '2025-10-16T230000']"
      ]
     },
     "execution_count": 11,
     "metadata": {},
     "output_type": "execute_result"
    }
   ],
   "source": [
    "# need_process = pd.date_range(start=already_processed[-1], end=today).strftime('%Y-%m-%d').to_list()\n",
    "# need_process\n",
    "\n",
    "B = datetime.strptime(dt, \"%Y-%m-%dT%H0000\")\n",
    "A = datetime.strptime(already_processed_ts[-1], \"%Y-%m-%dT%H0000\")\n",
    "need_process_ts =  pd.date_range(A, B, freq='h').strftime('%Y-%m-%dT%H0000').tolist()\n",
    "need_process_ts"
   ]
  },
  {
   "cell_type": "code",
   "execution_count": 12,
   "id": "d0bb97da",
   "metadata": {
    "execution": {
     "iopub.execute_input": "2025-10-17T00:50:24.747183Z",
     "iopub.status.busy": "2025-10-17T00:50:24.747013Z",
     "iopub.status.idle": "2025-10-17T00:56:07.445787Z",
     "shell.execute_reply": "2025-10-17T00:56:07.444894Z"
    },
    "id": "g-W3s2nRyRY7",
    "papermill": {
     "duration": 342.703817,
     "end_time": "2025-10-17T00:56:07.446373",
     "exception": false,
     "start_time": "2025-10-17T00:50:24.742556",
     "status": "completed"
    },
    "tags": []
   },
   "outputs": [
    {
     "name": "stderr",
     "output_type": "stream",
     "text": [
      "\r",
      "  0%|          | 0/2030 [00:00<?, ?it/s]"
     ]
    },
    {
     "name": "stderr",
     "output_type": "stream",
     "text": [
      "\r",
      " 99%|█████████▉| 2014/2030 [00:26<00:00, 75.35it/s]"
     ]
    },
    {
     "name": "stdout",
     "output_type": "stream",
     "text": [
      "Done dt=2025-10-16/2025-10-16T070000.parquet\n"
     ]
    },
    {
     "name": "stderr",
     "output_type": "stream",
     "text": [
      "\r",
      " 99%|█████████▉| 2014/2030 [00:38<00:00, 75.35it/s]"
     ]
    },
    {
     "name": "stderr",
     "output_type": "stream",
     "text": [
      "\r",
      " 99%|█████████▉| 2015/2030 [00:49<00:00, 34.10it/s]"
     ]
    },
    {
     "name": "stdout",
     "output_type": "stream",
     "text": [
      "Done dt=2025-10-16/2025-10-16T080000.parquet\n"
     ]
    },
    {
     "name": "stderr",
     "output_type": "stream",
     "text": [
      "\r",
      " 99%|█████████▉| 2016/2030 [01:13<00:00, 18.79it/s]"
     ]
    },
    {
     "name": "stdout",
     "output_type": "stream",
     "text": [
      "Done dt=2025-10-16/2025-10-16T090000.parquet\n"
     ]
    },
    {
     "name": "stderr",
     "output_type": "stream",
     "text": [
      "\r",
      " 99%|█████████▉| 2017/2030 [01:37<00:01, 11.34it/s]"
     ]
    },
    {
     "name": "stdout",
     "output_type": "stream",
     "text": [
      "Done dt=2025-10-16/2025-10-16T100000.parquet\n"
     ]
    },
    {
     "name": "stderr",
     "output_type": "stream",
     "text": [
      "\r",
      " 99%|█████████▉| 2018/2030 [02:01<00:01,  7.21it/s]"
     ]
    },
    {
     "name": "stdout",
     "output_type": "stream",
     "text": [
      "Done dt=2025-10-16/2025-10-16T110000.parquet\n"
     ]
    },
    {
     "name": "stderr",
     "output_type": "stream",
     "text": [
      "\r",
      " 99%|█████████▉| 2019/2030 [02:26<00:02,  4.75it/s]"
     ]
    },
    {
     "name": "stdout",
     "output_type": "stream",
     "text": [
      "Done dt=2025-10-16/2025-10-16T120000.parquet\n"
     ]
    },
    {
     "name": "stderr",
     "output_type": "stream",
     "text": [
      "\r",
      "100%|█████████▉| 2020/2030 [02:50<00:03,  3.26it/s]"
     ]
    },
    {
     "name": "stdout",
     "output_type": "stream",
     "text": [
      "Done dt=2025-10-16/2025-10-16T130000.parquet\n"
     ]
    },
    {
     "name": "stderr",
     "output_type": "stream",
     "text": [
      "\r",
      "100%|█████████▉| 2021/2030 [03:12<00:03,  2.28it/s]"
     ]
    },
    {
     "name": "stdout",
     "output_type": "stream",
     "text": [
      "Done dt=2025-10-16/2025-10-16T140000.parquet\n"
     ]
    },
    {
     "name": "stderr",
     "output_type": "stream",
     "text": [
      "\r",
      "100%|█████████▉| 2022/2030 [03:32<00:04,  1.66it/s]"
     ]
    },
    {
     "name": "stdout",
     "output_type": "stream",
     "text": [
      "Done dt=2025-10-16/2025-10-16T150000.parquet\n"
     ]
    },
    {
     "name": "stderr",
     "output_type": "stream",
     "text": [
      "\r",
      "100%|█████████▉| 2023/2030 [03:50<00:05,  1.23it/s]"
     ]
    },
    {
     "name": "stdout",
     "output_type": "stream",
     "text": [
      "Done dt=2025-10-16/2025-10-16T160000.parquet\n"
     ]
    },
    {
     "name": "stderr",
     "output_type": "stream",
     "text": [
      "\r",
      "100%|█████████▉| 2024/2030 [04:08<00:06,  1.08s/it]"
     ]
    },
    {
     "name": "stdout",
     "output_type": "stream",
     "text": [
      "Done dt=2025-10-16/2025-10-16T170000.parquet\n"
     ]
    },
    {
     "name": "stderr",
     "output_type": "stream",
     "text": [
      "\r",
      "100%|█████████▉| 2025/2030 [04:22<00:06,  1.40s/it]"
     ]
    },
    {
     "name": "stdout",
     "output_type": "stream",
     "text": [
      "Done dt=2025-10-16/2025-10-16T180000.parquet\n"
     ]
    },
    {
     "name": "stderr",
     "output_type": "stream",
     "text": [
      "\r",
      "100%|█████████▉| 2026/2030 [04:39<00:07,  1.89s/it]"
     ]
    },
    {
     "name": "stdout",
     "output_type": "stream",
     "text": [
      "Done dt=2025-10-16/2025-10-16T190000.parquet\n"
     ]
    },
    {
     "name": "stderr",
     "output_type": "stream",
     "text": [
      "\r",
      "100%|█████████▉| 2027/2030 [04:53<00:07,  2.45s/it]"
     ]
    },
    {
     "name": "stdout",
     "output_type": "stream",
     "text": [
      "Done dt=2025-10-16/2025-10-16T200000.parquet\n"
     ]
    },
    {
     "name": "stderr",
     "output_type": "stream",
     "text": [
      "\r",
      "100%|█████████▉| 2028/2030 [05:08<00:06,  3.16s/it]"
     ]
    },
    {
     "name": "stdout",
     "output_type": "stream",
     "text": [
      "Done dt=2025-10-16/2025-10-16T210000.parquet\n"
     ]
    },
    {
     "name": "stderr",
     "output_type": "stream",
     "text": [
      "\r",
      "100%|█████████▉| 2029/2030 [05:23<00:04,  4.12s/it]"
     ]
    },
    {
     "name": "stdout",
     "output_type": "stream",
     "text": [
      "Done dt=2025-10-16/2025-10-16T220000.parquet\n"
     ]
    },
    {
     "name": "stderr",
     "output_type": "stream",
     "text": [
      "\r",
      "100%|██████████| 2030/2030 [05:42<00:00,  5.58s/it]"
     ]
    },
    {
     "name": "stderr",
     "output_type": "stream",
     "text": [
      "\r",
      "100%|██████████| 2030/2030 [05:42<00:00,  5.92it/s]"
     ]
    },
    {
     "name": "stdout",
     "output_type": "stream",
     "text": [
      "Done dt=2025-10-16/2025-10-16T230000.parquet\n"
     ]
    },
    {
     "name": "stderr",
     "output_type": "stream",
     "text": [
      "\n"
     ]
    }
   ],
   "source": [
    "storage_options = {\n",
    "    \"account_name\": account_name,\n",
    "    \"account_key\":  account_key,\n",
    "}\n",
    "\n",
    "for ts, files in tqdm(groups.items()):\n",
    "    if ts not in need_process_ts: continue\n",
    "    dt = ts[:10]\n",
    "    # if dt not in need_process:\n",
    "    #     continue\n",
    "    df = pl.scan_csv(f\"az://adjuststblive/*_{ts}_*.csv.gz\", storage_options = storage_options,glob=True, has_header = True, null_values = [\"\",\"NULL\"], ignore_errors=True).select(pl.all().cast(pl.Utf8))\n",
    "    df.sink_parquet(f\"az://adjuststbuatprocessed/live/processing/dt={dt}/{ts}.parquet\", storage_options = storage_options, compression=\"snappy\")\n",
    "    print(f'Done dt={dt}/{ts}.parquet')\n",
    "        "
   ]
  },
  {
   "cell_type": "code",
   "execution_count": 13,
   "id": "de5bad74",
   "metadata": {
    "execution": {
     "iopub.execute_input": "2025-10-17T00:56:07.458318Z",
     "iopub.status.busy": "2025-10-17T00:56:07.458114Z",
     "iopub.status.idle": "2025-10-17T00:56:07.462449Z",
     "shell.execute_reply": "2025-10-17T00:56:07.461621Z"
    },
    "papermill": {
     "duration": 0.011139,
     "end_time": "2025-10-17T00:56:07.463033",
     "exception": false,
     "start_time": "2025-10-17T00:56:07.451894",
     "status": "completed"
    },
    "tags": []
   },
   "outputs": [
    {
     "data": {
      "text/plain": [
       "{'2025-10-16'}"
      ]
     },
     "execution_count": 13,
     "metadata": {},
     "output_type": "execute_result"
    }
   ],
   "source": [
    "need_process = set([i.split(\"T\")[0] for i in need_process_ts])\n",
    "need_process"
   ]
  },
  {
   "cell_type": "code",
   "execution_count": 14,
   "id": "83ec5c48",
   "metadata": {
    "execution": {
     "iopub.execute_input": "2025-10-17T00:56:07.474808Z",
     "iopub.status.busy": "2025-10-17T00:56:07.474622Z",
     "iopub.status.idle": "2025-10-17T00:57:14.104167Z",
     "shell.execute_reply": "2025-10-17T00:57:14.103199Z"
    },
    "id": "sBm7rfFUyePJ",
    "papermill": {
     "duration": 66.641187,
     "end_time": "2025-10-17T00:57:14.109599",
     "exception": false,
     "start_time": "2025-10-17T00:56:07.468412",
     "status": "completed"
    },
    "tags": []
   },
   "outputs": [
    {
     "name": "stdout",
     "output_type": "stream",
     "text": [
      "\n",
      " Done 2025-10-16\n",
      "\n"
     ]
    }
   ],
   "source": [
    "for dt in need_process:\n",
    "  df = pl.scan_parquet(f\"az://adjuststbuatprocessed/live/processing/dt={dt}/*.parquet\", storage_options=storage_options,glob=True).with_columns(pl.lit(dt).alias(\"dt\"))\n",
    "  df.sink_parquet(f\"az://adjuststbuatprocessed/live/output/{dt}.parquet\", storage_options=storage_options, compression=\"snappy\")\n",
    "  print(f'\\n Done {dt}\\n')"
   ]
  }
 ],
 "metadata": {
  "colab": {
   "authorship_tag": "ABX9TyOfzO6uvqUX+Tt89Y73G9E8",
   "include_colab_link": true,
   "provenance": []
  },
  "kernelspec": {
   "display_name": "Python 3",
   "name": "python3"
  },
  "language_info": {
   "codemirror_mode": {
    "name": "ipython",
    "version": 3
   },
   "file_extension": ".py",
   "mimetype": "text/x-python",
   "name": "python",
   "nbconvert_exporter": "python",
   "pygments_lexer": "ipython3",
   "version": "3.11.13"
  },
  "papermill": {
   "default_parameters": {},
   "duration": 547.875329,
   "end_time": "2025-10-17T00:57:15.033189",
   "environment_variables": {},
   "exception": null,
   "input_path": "notebooks/ADJUST_JOB.ipynb",
   "output_path": "outputs/ADJUST_JOB_2025-10-17.ipynb",
   "parameters": {
    "RUN_DATE": "2025-10-17"
   },
   "start_time": "2025-10-17T00:48:07.157860",
   "version": "2.6.0"
  }
 },
 "nbformat": 4,
 "nbformat_minor": 5
}