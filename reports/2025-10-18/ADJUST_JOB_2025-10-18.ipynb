{
 "cells": [
  {
   "cell_type": "code",
   "execution_count": 1,
   "id": "5a9a4f15",
   "metadata": {
    "execution": {
     "iopub.execute_input": "2025-10-18T00:21:40.742244Z",
     "iopub.status.busy": "2025-10-18T00:21:40.742027Z",
     "iopub.status.idle": "2025-10-18T00:21:40.747355Z",
     "shell.execute_reply": "2025-10-18T00:21:40.746572Z"
    },
    "papermill": {
     "duration": 0.010139,
     "end_time": "2025-10-18T00:21:40.748062",
     "exception": false,
     "start_time": "2025-10-18T00:21:40.737923",
     "status": "completed"
    },
    "tags": [
     "injected-parameters"
    ]
   },
   "outputs": [],
   "source": [
    "# Parameters\n",
    "RUN_DATE = \"2025-10-18\"\n"
   ]
  },
  {
   "cell_type": "markdown",
   "id": "ed027b37",
   "metadata": {
    "colab_type": "text",
    "id": "view-in-github",
    "papermill": {
     "duration": 0.001906,
     "end_time": "2025-10-18T00:21:40.752246",
     "exception": false,
     "start_time": "2025-10-18T00:21:40.750340",
     "status": "completed"
    },
    "tags": []
   },
   "source": [
    "<a href=\"https://colab.research.google.com/github/HieuNguyenPhi/ADJ_JOBS/blob/main/notebooks/ADJUST_JOB.ipynb\" target=\"_parent\"><img src=\"https://colab.research.google.com/assets/colab-badge.svg\" alt=\"Open In Colab\"/></a>"
   ]
  },
  {
   "cell_type": "markdown",
   "id": "2f4e7062",
   "metadata": {
    "papermill": {
     "duration": 0.002828,
     "end_time": "2025-10-18T00:21:40.757057",
     "exception": false,
     "start_time": "2025-10-18T00:21:40.754229",
     "status": "completed"
    },
    "tags": []
   },
   "source": [
    "# UAT"
   ]
  },
  {
   "cell_type": "code",
   "execution_count": 2,
   "id": "5b50cb0b",
   "metadata": {
    "execution": {
     "iopub.execute_input": "2025-10-18T00:21:40.761889Z",
     "iopub.status.busy": "2025-10-18T00:21:40.761699Z",
     "iopub.status.idle": "2025-10-18T00:21:46.376244Z",
     "shell.execute_reply": "2025-10-18T00:21:46.375400Z"
    },
    "id": "ycUR2r1dq1Nm",
    "papermill": {
     "duration": 5.617948,
     "end_time": "2025-10-18T00:21:46.376877",
     "exception": false,
     "start_time": "2025-10-18T00:21:40.758929",
     "status": "completed"
    },
    "tags": []
   },
   "outputs": [
    {
     "data": {
      "text/plain": [
       "['2025-10-16T160000',\n",
       " '2025-10-16T210000',\n",
       " '2025-10-16T230000',\n",
       " '2025-10-17T000000',\n",
       " '2025-10-17T010000']"
      ]
     },
     "execution_count": 2,
     "metadata": {},
     "output_type": "execute_result"
    }
   ],
   "source": [
    "import os\n",
    "from azure.storage.blob import BlobServiceClient\n",
    "\n",
    "account_name = os.getenv('ACCOUNT_NAME')\n",
    "account_key = os.getenv('ACCOUNT_KEY')\n",
    "# Replace with your Azure Storage account name and SAS token or connection string\n",
    "connect_str = f\"DefaultEndpointsProtocol=https;AccountName={account_name};AccountKey={account_key};EndpointSuffix=core.windows.net\"\n",
    "blob_service_client = BlobServiceClient.from_connection_string(connect_str)\n",
    "container_list = blob_service_client.list_containers()\n",
    "container_name = \"adjuststbuatprocessed\" #os.getenv('CONTAINER_NAME')\n",
    "container_client = blob_service_client.get_container_client(container_name)\n",
    "# already_processed = [file.name.split('/')[1].split('.')[0] for file in container_client.list_blobs() if file.name.split('/')[0] == 'output']\n",
    "# already_processed[-5:]\n",
    "already_processed_ts = sorted([file.name.split('/')[-1].split(\".\")[0] for file in container_client.list_blobs() if file.name.split('/')[0] == 'processing'])\n",
    "already_processed_ts[-5:]"
   ]
  },
  {
   "cell_type": "code",
   "execution_count": 3,
   "id": "f45f8661",
   "metadata": {
    "execution": {
     "iopub.execute_input": "2025-10-18T00:21:46.383245Z",
     "iopub.status.busy": "2025-10-18T00:21:46.382955Z",
     "iopub.status.idle": "2025-10-18T00:21:53.916956Z",
     "shell.execute_reply": "2025-10-18T00:21:53.916194Z"
    },
    "id": "xyPuVC12s7fn",
    "papermill": {
     "duration": 7.538471,
     "end_time": "2025-10-18T00:21:53.917705",
     "exception": false,
     "start_time": "2025-10-18T00:21:46.379234",
     "status": "completed"
    },
    "tags": []
   },
   "outputs": [
    {
     "data": {
      "text/plain": [
       "['rsh20bkkb4zk_2025-10-17T230000_762c775ae454d23f2c6b6a75623d14c7_2853a0.csv.gz',\n",
       " 'rsh20bkkb4zk_2025-10-17T230000_762c775ae454d23f2c6b6a75623d14c7_2853a1.csv.gz']"
      ]
     },
     "execution_count": 3,
     "metadata": {},
     "output_type": "execute_result"
    }
   ],
   "source": [
    "container_name_uat = \"adjuststbuat\"\n",
    "container_client_uat = blob_service_client.get_container_client(container_name_uat)\n",
    "from collections import defaultdict\n",
    "files = [i.name for i in container_client_uat.list_blobs()]\n",
    "groups = defaultdict(list)\n",
    "for f in files:\n",
    "    dt = f.split('_')[1]\n",
    "    groups[dt].append(f)\n",
    "groups[dt]"
   ]
  },
  {
   "cell_type": "code",
   "execution_count": 4,
   "id": "a16a403e",
   "metadata": {
    "execution": {
     "iopub.execute_input": "2025-10-18T00:21:53.923551Z",
     "iopub.status.busy": "2025-10-18T00:21:53.923336Z",
     "iopub.status.idle": "2025-10-18T00:21:53.926157Z",
     "shell.execute_reply": "2025-10-18T00:21:53.925474Z"
    },
    "papermill": {
     "duration": 0.00649,
     "end_time": "2025-10-18T00:21:53.926736",
     "exception": false,
     "start_time": "2025-10-18T00:21:53.920246",
     "status": "completed"
    },
    "tags": []
   },
   "outputs": [],
   "source": [
    "# from datetime import date, timedelta, datetime\n",
    "# import pandas as pd\n",
    "# today = date.today().strftime('%Y-%m-%d')\n",
    "# yesterday = (date.today() - timedelta(days = 1) ).strftime('%Y-%m-%d')\n",
    "# check_date = dt.split(\"T\")[0]\n",
    "# if check_date == today:\n",
    "#     need_process = pd.date_range(start=already_processed[-1], end=today).strftime('%Y-%m-%d').to_list()\n",
    "# else:\n",
    "#     need_process = pd.date_range(start=already_processed[-1], end=yesterday).strftime('%Y-%m-%d').to_list()\n",
    "# need_process"
   ]
  },
  {
   "cell_type": "code",
   "execution_count": 5,
   "id": "ecd56cce",
   "metadata": {
    "execution": {
     "iopub.execute_input": "2025-10-18T00:21:53.931887Z",
     "iopub.status.busy": "2025-10-18T00:21:53.931727Z",
     "iopub.status.idle": "2025-10-18T00:21:54.211639Z",
     "shell.execute_reply": "2025-10-18T00:21:54.210827Z"
    },
    "papermill": {
     "duration": 0.283437,
     "end_time": "2025-10-18T00:21:54.212390",
     "exception": false,
     "start_time": "2025-10-18T00:21:53.928953",
     "status": "completed"
    },
    "tags": []
   },
   "outputs": [
    {
     "data": {
      "text/plain": [
       "['2025-10-17T000000',\n",
       " '2025-10-17T010000',\n",
       " '2025-10-17T020000',\n",
       " '2025-10-17T030000',\n",
       " '2025-10-17T040000',\n",
       " '2025-10-17T050000',\n",
       " '2025-10-17T060000',\n",
       " '2025-10-17T070000',\n",
       " '2025-10-17T080000',\n",
       " '2025-10-17T090000',\n",
       " '2025-10-17T100000',\n",
       " '2025-10-17T110000',\n",
       " '2025-10-17T120000',\n",
       " '2025-10-17T130000',\n",
       " '2025-10-17T140000',\n",
       " '2025-10-17T150000',\n",
       " '2025-10-17T160000',\n",
       " '2025-10-17T170000',\n",
       " '2025-10-17T180000',\n",
       " '2025-10-17T190000',\n",
       " '2025-10-17T200000',\n",
       " '2025-10-17T210000',\n",
       " '2025-10-17T220000',\n",
       " '2025-10-17T230000']"
      ]
     },
     "execution_count": 5,
     "metadata": {},
     "output_type": "execute_result"
    }
   ],
   "source": [
    "from datetime import datetime\n",
    "import pandas as pd\n",
    "B = datetime.strptime(dt, \"%Y-%m-%dT%H0000\")\n",
    "A = datetime.strptime(already_processed_ts[-2], \"%Y-%m-%dT%H0000\")\n",
    "need_process_ts =  pd.date_range(A, B, freq='h').strftime('%Y-%m-%dT%H0000').tolist()\n",
    "need_process_ts"
   ]
  },
  {
   "cell_type": "code",
   "execution_count": 6,
   "id": "7da8187f",
   "metadata": {
    "execution": {
     "iopub.execute_input": "2025-10-18T00:21:54.218471Z",
     "iopub.status.busy": "2025-10-18T00:21:54.218165Z",
     "iopub.status.idle": "2025-10-18T00:24:26.510382Z",
     "shell.execute_reply": "2025-10-18T00:24:26.509658Z"
    },
    "papermill": {
     "duration": 152.296172,
     "end_time": "2025-10-18T00:24:26.511240",
     "exception": false,
     "start_time": "2025-10-18T00:21:54.215068",
     "status": "completed"
    },
    "tags": []
   },
   "outputs": [
    {
     "name": "stderr",
     "output_type": "stream",
     "text": [
      "\r",
      "  0%|          | 0/2027 [00:00<?, ?it/s]"
     ]
    },
    {
     "name": "stderr",
     "output_type": "stream",
     "text": [
      "\r",
      " 99%|█████████▉| 2007/2027 [00:08<00:00, 236.44it/s]"
     ]
    },
    {
     "name": "stdout",
     "output_type": "stream",
     "text": [
      "Done dt=2025-10-17/2025-10-17T000000.parquet\n"
     ]
    },
    {
     "name": "stdout",
     "output_type": "stream",
     "text": [
      "Done dt=2025-10-17/2025-10-17T010000.parquet\n"
     ]
    },
    {
     "name": "stderr",
     "output_type": "stream",
     "text": [
      "\r",
      " 99%|█████████▉| 2007/2027 [00:19<00:00, 236.44it/s]"
     ]
    },
    {
     "name": "stderr",
     "output_type": "stream",
     "text": [
      "\r",
      " 99%|█████████▉| 2009/2027 [00:24<00:00, 64.71it/s] "
     ]
    },
    {
     "name": "stdout",
     "output_type": "stream",
     "text": [
      "Done dt=2025-10-17/2025-10-17T020000.parquet\n"
     ]
    },
    {
     "name": "stderr",
     "output_type": "stream",
     "text": [
      "\r",
      " 99%|█████████▉| 2010/2027 [00:31<00:00, 44.10it/s]"
     ]
    },
    {
     "name": "stdout",
     "output_type": "stream",
     "text": [
      "Done dt=2025-10-17/2025-10-17T030000.parquet\n"
     ]
    },
    {
     "name": "stdout",
     "output_type": "stream",
     "text": [
      "Done dt=2025-10-17/2025-10-17T040000.parquet\n"
     ]
    },
    {
     "name": "stdout",
     "output_type": "stream",
     "text": [
      "Done dt=2025-10-17/2025-10-17T050000.parquet\n"
     ]
    },
    {
     "name": "stderr",
     "output_type": "stream",
     "text": [
      "\r",
      " 99%|█████████▉| 2010/2027 [00:50<00:00, 44.10it/s]"
     ]
    },
    {
     "name": "stderr",
     "output_type": "stream",
     "text": [
      "\r",
      " 99%|█████████▉| 2013/2027 [00:53<00:00, 18.26it/s]"
     ]
    },
    {
     "name": "stdout",
     "output_type": "stream",
     "text": [
      "Done dt=2025-10-17/2025-10-17T060000.parquet\n"
     ]
    },
    {
     "name": "stderr",
     "output_type": "stream",
     "text": [
      "\r",
      " 99%|█████████▉| 2014/2027 [01:00<00:00, 14.41it/s]"
     ]
    },
    {
     "name": "stdout",
     "output_type": "stream",
     "text": [
      "Done dt=2025-10-17/2025-10-17T070000.parquet\n"
     ]
    },
    {
     "name": "stdout",
     "output_type": "stream",
     "text": [
      "Done dt=2025-10-17/2025-10-17T080000.parquet\n"
     ]
    },
    {
     "name": "stdout",
     "output_type": "stream",
     "text": [
      "Done dt=2025-10-17/2025-10-17T090000.parquet\n"
     ]
    },
    {
     "name": "stderr",
     "output_type": "stream",
     "text": [
      "\r",
      " 99%|█████████▉| 2014/2027 [01:20<00:00, 14.41it/s]"
     ]
    },
    {
     "name": "stderr",
     "output_type": "stream",
     "text": [
      "\r",
      "100%|█████████▉| 2017/2027 [01:22<00:01,  7.61it/s]"
     ]
    },
    {
     "name": "stdout",
     "output_type": "stream",
     "text": [
      "Done dt=2025-10-17/2025-10-17T100000.parquet\n"
     ]
    },
    {
     "name": "stderr",
     "output_type": "stream",
     "text": [
      "\r",
      "100%|█████████▉| 2018/2027 [01:29<00:01,  6.23it/s]"
     ]
    },
    {
     "name": "stdout",
     "output_type": "stream",
     "text": [
      "Done dt=2025-10-17/2025-10-17T110000.parquet\n"
     ]
    },
    {
     "name": "stdout",
     "output_type": "stream",
     "text": [
      "Done dt=2025-10-17/2025-10-17T120000.parquet\n"
     ]
    },
    {
     "name": "stderr",
     "output_type": "stream",
     "text": [
      "\r",
      "100%|█████████▉| 2018/2027 [01:40<00:01,  6.23it/s]"
     ]
    },
    {
     "name": "stderr",
     "output_type": "stream",
     "text": [
      "\r",
      "100%|█████████▉| 2020/2027 [01:43<00:01,  4.17it/s]"
     ]
    },
    {
     "name": "stdout",
     "output_type": "stream",
     "text": [
      "Done dt=2025-10-17/2025-10-17T130000.parquet\n"
     ]
    },
    {
     "name": "stderr",
     "output_type": "stream",
     "text": [
      "\r",
      "100%|█████████▉| 2021/2027 [01:50<00:01,  3.42it/s]"
     ]
    },
    {
     "name": "stdout",
     "output_type": "stream",
     "text": [
      "Done dt=2025-10-17/2025-10-17T140000.parquet\n"
     ]
    },
    {
     "name": "stdout",
     "output_type": "stream",
     "text": [
      "Done dt=2025-10-17/2025-10-17T150000.parquet\n"
     ]
    },
    {
     "name": "stdout",
     "output_type": "stream",
     "text": [
      "Done dt=2025-10-17/2025-10-17T160000.parquet\n"
     ]
    },
    {
     "name": "stderr",
     "output_type": "stream",
     "text": [
      "\r",
      "100%|█████████▉| 2021/2027 [02:10<00:01,  3.42it/s]"
     ]
    },
    {
     "name": "stderr",
     "output_type": "stream",
     "text": [
      "\r",
      "100%|█████████▉| 2024/2027 [02:12<00:01,  1.85it/s]"
     ]
    },
    {
     "name": "stdout",
     "output_type": "stream",
     "text": [
      "Done dt=2025-10-17/2025-10-17T170000.parquet\n"
     ]
    },
    {
     "name": "stderr",
     "output_type": "stream",
     "text": [
      "\r",
      "100%|█████████▉| 2025/2027 [02:19<00:01,  1.57it/s]"
     ]
    },
    {
     "name": "stdout",
     "output_type": "stream",
     "text": [
      "Done dt=2025-10-17/2025-10-17T180000.parquet\n"
     ]
    },
    {
     "name": "stdout",
     "output_type": "stream",
     "text": [
      "Done dt=2025-10-17/2025-10-17T190000.parquet\n"
     ]
    },
    {
     "name": "stderr",
     "output_type": "stream",
     "text": [
      "\r",
      "100%|█████████▉| 2025/2027 [02:30<00:01,  1.57it/s]"
     ]
    },
    {
     "name": "stderr",
     "output_type": "stream",
     "text": [
      "\r",
      "100%|██████████| 2027/2027 [02:32<00:00,  1.12it/s]"
     ]
    },
    {
     "name": "stderr",
     "output_type": "stream",
     "text": [
      "\r",
      "100%|██████████| 2027/2027 [02:32<00:00, 13.32it/s]"
     ]
    },
    {
     "name": "stdout",
     "output_type": "stream",
     "text": [
      "Done dt=2025-10-17/2025-10-17T230000.parquet\n"
     ]
    },
    {
     "name": "stderr",
     "output_type": "stream",
     "text": [
      "\n"
     ]
    }
   ],
   "source": [
    "import polars as pl \n",
    "from tqdm import tqdm\n",
    "storage_options = {\n",
    "    \"account_name\": account_name,\n",
    "    \"account_key\":  account_key,\n",
    "}\n",
    "\n",
    "for ts, files in tqdm(groups.items()):\n",
    "    if ts not in need_process_ts:\n",
    "        continue\n",
    "    dt = ts[:10]\n",
    "    # if dt not in need_process:\n",
    "    #     continue\n",
    "    df = pl.scan_csv(f\"az://adjuststbuat/*_{ts}_*.csv.gz\", storage_options = storage_options,glob=True, has_header = True, null_values = [\"\",\"NULL\"], ignore_errors=True).select(pl.all().cast(pl.Utf8))\n",
    "    df.sink_parquet(f\"az://adjuststbuatprocessed/processing/dt={dt}/{ts}.parquet\", storage_options = storage_options, compression=\"snappy\")\n",
    "    print(f'Done dt={dt}/{ts}.parquet')\n",
    "        "
   ]
  },
  {
   "cell_type": "code",
   "execution_count": 7,
   "id": "2768ebc7",
   "metadata": {
    "execution": {
     "iopub.execute_input": "2025-10-18T00:24:26.521628Z",
     "iopub.status.busy": "2025-10-18T00:24:26.521421Z",
     "iopub.status.idle": "2025-10-18T00:24:26.525505Z",
     "shell.execute_reply": "2025-10-18T00:24:26.524812Z"
    },
    "papermill": {
     "duration": 0.01076,
     "end_time": "2025-10-18T00:24:26.526147",
     "exception": false,
     "start_time": "2025-10-18T00:24:26.515387",
     "status": "completed"
    },
    "tags": []
   },
   "outputs": [
    {
     "data": {
      "text/plain": [
       "{'2025-10-17'}"
      ]
     },
     "execution_count": 7,
     "metadata": {},
     "output_type": "execute_result"
    }
   ],
   "source": [
    "need_process = set([i.split(\"T\")[0] for i in need_process_ts])\n",
    "need_process"
   ]
  },
  {
   "cell_type": "code",
   "execution_count": 8,
   "id": "5bb5c91f",
   "metadata": {
    "execution": {
     "iopub.execute_input": "2025-10-18T00:24:26.534872Z",
     "iopub.status.busy": "2025-10-18T00:24:26.534680Z",
     "iopub.status.idle": "2025-10-18T00:24:30.872209Z",
     "shell.execute_reply": "2025-10-18T00:24:30.871478Z"
    },
    "papermill": {
     "duration": 4.342898,
     "end_time": "2025-10-18T00:24:30.872922",
     "exception": false,
     "start_time": "2025-10-18T00:24:26.530024",
     "status": "completed"
    },
    "tags": []
   },
   "outputs": [
    {
     "name": "stdout",
     "output_type": "stream",
     "text": [
      "\n",
      " Done 2025-10-17\n",
      "\n"
     ]
    }
   ],
   "source": [
    "for dt in need_process:\n",
    "  df = pl.scan_parquet(f\"az://adjuststbuatprocessed/processing/dt={dt}/*.parquet\", storage_options=storage_options,glob=True).with_columns(pl.lit(dt).alias(\"dt\"))\n",
    "  df.sink_parquet(f\"az://adjuststbuatprocessed/output/{dt}.parquet\", storage_options=storage_options, compression=\"snappy\")\n",
    "  print(f'\\n Done {dt}\\n')"
   ]
  },
  {
   "cell_type": "markdown",
   "id": "a020c4c3",
   "metadata": {
    "id": "2TvKr29qyJd_",
    "papermill": {
     "duration": 0.004028,
     "end_time": "2025-10-18T00:24:30.881184",
     "exception": false,
     "start_time": "2025-10-18T00:24:30.877156",
     "status": "completed"
    },
    "tags": []
   },
   "source": [
    "# Live"
   ]
  },
  {
   "cell_type": "code",
   "execution_count": 9,
   "id": "d40f6409",
   "metadata": {
    "execution": {
     "iopub.execute_input": "2025-10-18T00:24:30.889861Z",
     "iopub.status.busy": "2025-10-18T00:24:30.889672Z",
     "iopub.status.idle": "2025-10-18T00:24:34.569690Z",
     "shell.execute_reply": "2025-10-18T00:24:34.568816Z"
    },
    "id": "EnaFsdZFxpwc",
    "papermill": {
     "duration": 3.685261,
     "end_time": "2025-10-18T00:24:34.570298",
     "exception": false,
     "start_time": "2025-10-18T00:24:30.885037",
     "status": "completed"
    },
    "tags": []
   },
   "outputs": [
    {
     "data": {
      "text/plain": [
       "['2025-10-16T210000',\n",
       " '2025-10-16T220000',\n",
       " '2025-10-16T230000',\n",
       " '2025-10-17T000000',\n",
       " '2025-10-17T010000']"
      ]
     },
     "execution_count": 9,
     "metadata": {},
     "output_type": "execute_result"
    }
   ],
   "source": [
    "# already_processed = [file.name.split('/')[-1].split('.')[0] for file in container_client.list_blobs() if file.name[:12] == 'live/output/']\n",
    "# already_processed[-5:]\n",
    "already_processed_ts = sorted([file.name.split('/')[-1].split(\".\")[0] for file in container_client.list_blobs() if (file.name.split('/')[0] + \"/\" + file.name.split('/')[1]) == 'live/processing'])\n",
    "already_processed_ts[-5:]"
   ]
  },
  {
   "cell_type": "code",
   "execution_count": 10,
   "id": "65ad2786",
   "metadata": {
    "execution": {
     "iopub.execute_input": "2025-10-18T00:24:34.579767Z",
     "iopub.status.busy": "2025-10-18T00:24:34.579571Z",
     "iopub.status.idle": "2025-10-18T00:24:45.351026Z",
     "shell.execute_reply": "2025-10-18T00:24:45.350243Z"
    },
    "id": "I7Er6YEUyOsL",
    "papermill": {
     "duration": 10.776927,
     "end_time": "2025-10-18T00:24:45.351632",
     "exception": false,
     "start_time": "2025-10-18T00:24:34.574705",
     "status": "completed"
    },
    "tags": []
   },
   "outputs": [
    {
     "data": {
      "text/plain": [
       "['65n1fgov4zr4_2025-10-17T230000_762c775ae454d23f2c6b6a75623d14c7_2853a0.csv.gz',\n",
       " '65n1fgov4zr4_2025-10-17T230000_762c775ae454d23f2c6b6a75623d14c7_2853a1.csv.gz',\n",
       " '65n1fgov4zr4_2025-10-17T230000_762c775ae454d23f2c6b6a75623d14c7_be8220.csv.gz',\n",
       " '65n1fgov4zr4_2025-10-17T230000_762c775ae454d23f2c6b6a75623d14c7_be8221.csv.gz',\n",
       " '65n1fgov4zr4_2025-10-17T230000_762c775ae454d23f2c6b6a75623d14c7_c35750.csv.gz',\n",
       " '65n1fgov4zr4_2025-10-17T230000_762c775ae454d23f2c6b6a75623d14c7_c35751.csv.gz']"
      ]
     },
     "execution_count": 10,
     "metadata": {},
     "output_type": "execute_result"
    }
   ],
   "source": [
    "container_name_uat = \"adjuststblive\"\n",
    "container_client_uat = blob_service_client.get_container_client(container_name_uat)\n",
    "from collections import defaultdict\n",
    "files = [i.name for i in container_client_uat.list_blobs()]\n",
    "groups = defaultdict(list)\n",
    "for f in files:\n",
    "    dt = f.split('_')[1]\n",
    "    groups[dt].append(f)\n",
    "groups[dt]"
   ]
  },
  {
   "cell_type": "code",
   "execution_count": 11,
   "id": "cf68d953",
   "metadata": {
    "execution": {
     "iopub.execute_input": "2025-10-18T00:24:45.361285Z",
     "iopub.status.busy": "2025-10-18T00:24:45.361108Z",
     "iopub.status.idle": "2025-10-18T00:24:45.366333Z",
     "shell.execute_reply": "2025-10-18T00:24:45.365552Z"
    },
    "papermill": {
     "duration": 0.010796,
     "end_time": "2025-10-18T00:24:45.366937",
     "exception": false,
     "start_time": "2025-10-18T00:24:45.356141",
     "status": "completed"
    },
    "tags": []
   },
   "outputs": [
    {
     "data": {
      "text/plain": [
       "['2025-10-17T010000',\n",
       " '2025-10-17T020000',\n",
       " '2025-10-17T030000',\n",
       " '2025-10-17T040000',\n",
       " '2025-10-17T050000',\n",
       " '2025-10-17T060000',\n",
       " '2025-10-17T070000',\n",
       " '2025-10-17T080000',\n",
       " '2025-10-17T090000',\n",
       " '2025-10-17T100000',\n",
       " '2025-10-17T110000',\n",
       " '2025-10-17T120000',\n",
       " '2025-10-17T130000',\n",
       " '2025-10-17T140000',\n",
       " '2025-10-17T150000',\n",
       " '2025-10-17T160000',\n",
       " '2025-10-17T170000',\n",
       " '2025-10-17T180000',\n",
       " '2025-10-17T190000',\n",
       " '2025-10-17T200000',\n",
       " '2025-10-17T210000',\n",
       " '2025-10-17T220000',\n",
       " '2025-10-17T230000']"
      ]
     },
     "execution_count": 11,
     "metadata": {},
     "output_type": "execute_result"
    }
   ],
   "source": [
    "# need_process = pd.date_range(start=already_processed[-1], end=today).strftime('%Y-%m-%d').to_list()\n",
    "# need_process\n",
    "\n",
    "B = datetime.strptime(dt, \"%Y-%m-%dT%H0000\")\n",
    "A = datetime.strptime(already_processed_ts[-1], \"%Y-%m-%dT%H0000\")\n",
    "need_process_ts =  pd.date_range(A, B, freq='h').strftime('%Y-%m-%dT%H0000').tolist()\n",
    "need_process_ts"
   ]
  },
  {
   "cell_type": "code",
   "execution_count": 12,
   "id": "d87caa5e",
   "metadata": {
    "execution": {
     "iopub.execute_input": "2025-10-18T00:24:45.376141Z",
     "iopub.status.busy": "2025-10-18T00:24:45.375981Z",
     "iopub.status.idle": "2025-10-18T00:32:12.308109Z",
     "shell.execute_reply": "2025-10-18T00:32:12.307300Z"
    },
    "id": "g-W3s2nRyRY7",
    "papermill": {
     "duration": 446.942905,
     "end_time": "2025-10-18T00:32:12.314066",
     "exception": false,
     "start_time": "2025-10-18T00:24:45.371161",
     "status": "completed"
    },
    "tags": []
   },
   "outputs": [
    {
     "name": "stderr",
     "output_type": "stream",
     "text": [
      "\r",
      "  0%|          | 0/2054 [00:00<?, ?it/s]"
     ]
    },
    {
     "name": "stderr",
     "output_type": "stream",
     "text": [
      "\r",
      " 99%|█████████▉| 2032/2054 [00:25<00:00, 80.84it/s]"
     ]
    },
    {
     "name": "stdout",
     "output_type": "stream",
     "text": [
      "Done dt=2025-10-17/2025-10-17T010000.parquet\n"
     ]
    },
    {
     "name": "stderr",
     "output_type": "stream",
     "text": [
      "\r",
      " 99%|█████████▉| 2032/2054 [00:38<00:00, 80.84it/s]"
     ]
    },
    {
     "name": "stderr",
     "output_type": "stream",
     "text": [
      "\r",
      " 99%|█████████▉| 2033/2054 [00:48<00:00, 34.60it/s]"
     ]
    },
    {
     "name": "stdout",
     "output_type": "stream",
     "text": [
      "Done dt=2025-10-17/2025-10-17T020000.parquet\n"
     ]
    },
    {
     "name": "stderr",
     "output_type": "stream",
     "text": [
      "\r",
      " 99%|█████████▉| 2034/2054 [01:11<00:01, 19.16it/s]"
     ]
    },
    {
     "name": "stdout",
     "output_type": "stream",
     "text": [
      "Done dt=2025-10-17/2025-10-17T030000.parquet\n"
     ]
    },
    {
     "name": "stderr",
     "output_type": "stream",
     "text": [
      "\r",
      " 99%|█████████▉| 2035/2054 [01:34<00:01, 11.82it/s]"
     ]
    },
    {
     "name": "stdout",
     "output_type": "stream",
     "text": [
      "Done dt=2025-10-17/2025-10-17T040000.parquet\n"
     ]
    },
    {
     "name": "stderr",
     "output_type": "stream",
     "text": [
      "\r",
      " 99%|█████████▉| 2036/2054 [01:56<00:02,  7.74it/s]"
     ]
    },
    {
     "name": "stdout",
     "output_type": "stream",
     "text": [
      "Done dt=2025-10-17/2025-10-17T050000.parquet\n"
     ]
    },
    {
     "name": "stderr",
     "output_type": "stream",
     "text": [
      "\r",
      " 99%|█████████▉| 2037/2054 [02:19<00:03,  5.15it/s]"
     ]
    },
    {
     "name": "stdout",
     "output_type": "stream",
     "text": [
      "Done dt=2025-10-17/2025-10-17T060000.parquet\n"
     ]
    },
    {
     "name": "stderr",
     "output_type": "stream",
     "text": [
      "\r",
      " 99%|█████████▉| 2038/2054 [02:42<00:04,  3.46it/s]"
     ]
    },
    {
     "name": "stdout",
     "output_type": "stream",
     "text": [
      "Done dt=2025-10-17/2025-10-17T070000.parquet\n"
     ]
    },
    {
     "name": "stderr",
     "output_type": "stream",
     "text": [
      "\r",
      " 99%|█████████▉| 2039/2054 [03:04<00:06,  2.40it/s]"
     ]
    },
    {
     "name": "stdout",
     "output_type": "stream",
     "text": [
      "Done dt=2025-10-17/2025-10-17T080000.parquet\n"
     ]
    },
    {
     "name": "stderr",
     "output_type": "stream",
     "text": [
      "\r",
      " 99%|█████████▉| 2040/2054 [03:26<00:08,  1.67it/s]"
     ]
    },
    {
     "name": "stdout",
     "output_type": "stream",
     "text": [
      "Done dt=2025-10-17/2025-10-17T090000.parquet\n"
     ]
    },
    {
     "name": "stderr",
     "output_type": "stream",
     "text": [
      "\r",
      " 99%|█████████▉| 2041/2054 [03:48<00:11,  1.18it/s]"
     ]
    },
    {
     "name": "stdout",
     "output_type": "stream",
     "text": [
      "Done dt=2025-10-17/2025-10-17T100000.parquet\n"
     ]
    },
    {
     "name": "stderr",
     "output_type": "stream",
     "text": [
      "\r",
      " 99%|█████████▉| 2042/2054 [04:10<00:14,  1.20s/it]"
     ]
    },
    {
     "name": "stdout",
     "output_type": "stream",
     "text": [
      "Done dt=2025-10-17/2025-10-17T110000.parquet\n"
     ]
    },
    {
     "name": "stderr",
     "output_type": "stream",
     "text": [
      "\r",
      " 99%|█████████▉| 2043/2054 [04:32<00:18,  1.67s/it]"
     ]
    },
    {
     "name": "stdout",
     "output_type": "stream",
     "text": [
      "Done dt=2025-10-17/2025-10-17T120000.parquet\n"
     ]
    },
    {
     "name": "stderr",
     "output_type": "stream",
     "text": [
      "\r",
      "100%|█████████▉| 2044/2054 [04:55<00:23,  2.36s/it]"
     ]
    },
    {
     "name": "stdout",
     "output_type": "stream",
     "text": [
      "Done dt=2025-10-17/2025-10-17T130000.parquet\n"
     ]
    },
    {
     "name": "stderr",
     "output_type": "stream",
     "text": [
      "\r",
      "100%|█████████▉| 2045/2054 [05:16<00:28,  3.14s/it]"
     ]
    },
    {
     "name": "stdout",
     "output_type": "stream",
     "text": [
      "Done dt=2025-10-17/2025-10-17T140000.parquet\n"
     ]
    },
    {
     "name": "stderr",
     "output_type": "stream",
     "text": [
      "\r",
      "100%|█████████▉| 2046/2054 [05:34<00:32,  4.07s/it]"
     ]
    },
    {
     "name": "stdout",
     "output_type": "stream",
     "text": [
      "Done dt=2025-10-17/2025-10-17T150000.parquet\n"
     ]
    },
    {
     "name": "stderr",
     "output_type": "stream",
     "text": [
      "\r",
      "100%|█████████▉| 2047/2054 [05:51<00:35,  5.07s/it]"
     ]
    },
    {
     "name": "stdout",
     "output_type": "stream",
     "text": [
      "Done dt=2025-10-17/2025-10-17T160000.parquet\n"
     ]
    },
    {
     "name": "stderr",
     "output_type": "stream",
     "text": [
      "\r",
      "100%|█████████▉| 2048/2054 [06:06<00:36,  6.00s/it]"
     ]
    },
    {
     "name": "stdout",
     "output_type": "stream",
     "text": [
      "Done dt=2025-10-17/2025-10-17T170000.parquet\n"
     ]
    },
    {
     "name": "stderr",
     "output_type": "stream",
     "text": [
      "\r",
      "100%|█████████▉| 2049/2054 [06:20<00:34,  6.96s/it]"
     ]
    },
    {
     "name": "stdout",
     "output_type": "stream",
     "text": [
      "Done dt=2025-10-17/2025-10-17T180000.parquet\n"
     ]
    },
    {
     "name": "stderr",
     "output_type": "stream",
     "text": [
      "\r",
      "100%|█████████▉| 2050/2054 [06:33<00:31,  7.88s/it]"
     ]
    },
    {
     "name": "stdout",
     "output_type": "stream",
     "text": [
      "Done dt=2025-10-17/2025-10-17T190000.parquet\n"
     ]
    },
    {
     "name": "stderr",
     "output_type": "stream",
     "text": [
      "\r",
      "100%|█████████▉| 2051/2054 [06:45<00:25,  8.59s/it]"
     ]
    },
    {
     "name": "stdout",
     "output_type": "stream",
     "text": [
      "Done dt=2025-10-17/2025-10-17T200000.parquet\n"
     ]
    },
    {
     "name": "stderr",
     "output_type": "stream",
     "text": [
      "\r",
      "100%|█████████▉| 2052/2054 [06:57<00:18,  9.26s/it]"
     ]
    },
    {
     "name": "stdout",
     "output_type": "stream",
     "text": [
      "Done dt=2025-10-17/2025-10-17T210000.parquet\n"
     ]
    },
    {
     "name": "stderr",
     "output_type": "stream",
     "text": [
      "\r",
      "100%|█████████▉| 2053/2054 [07:10<00:10, 10.30s/it]"
     ]
    },
    {
     "name": "stdout",
     "output_type": "stream",
     "text": [
      "Done dt=2025-10-17/2025-10-17T220000.parquet\n"
     ]
    },
    {
     "name": "stderr",
     "output_type": "stream",
     "text": [
      "\r",
      "100%|██████████| 2054/2054 [07:26<00:00, 11.67s/it]"
     ]
    },
    {
     "name": "stderr",
     "output_type": "stream",
     "text": [
      "\r",
      "100%|██████████| 2054/2054 [07:26<00:00,  4.60it/s]"
     ]
    },
    {
     "name": "stdout",
     "output_type": "stream",
     "text": [
      "Done dt=2025-10-17/2025-10-17T230000.parquet\n"
     ]
    },
    {
     "name": "stderr",
     "output_type": "stream",
     "text": [
      "\n"
     ]
    }
   ],
   "source": [
    "storage_options = {\n",
    "    \"account_name\": account_name,\n",
    "    \"account_key\":  account_key,\n",
    "}\n",
    "\n",
    "for ts, files in tqdm(groups.items()):\n",
    "    if ts not in need_process_ts: continue\n",
    "    dt = ts[:10]\n",
    "    # if dt not in need_process:\n",
    "    #     continue\n",
    "    df = pl.scan_csv(f\"az://adjuststblive/*_{ts}_*.csv.gz\", storage_options = storage_options,glob=True, has_header = True, null_values = [\"\",\"NULL\"], ignore_errors=True).select(pl.all().cast(pl.Utf8))\n",
    "    df.sink_parquet(f\"az://adjuststbuatprocessed/live/processing/dt={dt}/{ts}.parquet\", storage_options = storage_options, compression=\"snappy\")\n",
    "    print(f'Done dt={dt}/{ts}.parquet')\n",
    "        "
   ]
  },
  {
   "cell_type": "code",
   "execution_count": 13,
   "id": "a0ffcb72",
   "metadata": {
    "execution": {
     "iopub.execute_input": "2025-10-18T00:32:12.327069Z",
     "iopub.status.busy": "2025-10-18T00:32:12.326890Z",
     "iopub.status.idle": "2025-10-18T00:32:12.330872Z",
     "shell.execute_reply": "2025-10-18T00:32:12.330102Z"
    },
    "papermill": {
     "duration": 0.011273,
     "end_time": "2025-10-18T00:32:12.331419",
     "exception": false,
     "start_time": "2025-10-18T00:32:12.320146",
     "status": "completed"
    },
    "tags": []
   },
   "outputs": [
    {
     "data": {
      "text/plain": [
       "{'2025-10-17'}"
      ]
     },
     "execution_count": 13,
     "metadata": {},
     "output_type": "execute_result"
    }
   ],
   "source": [
    "need_process = set([i.split(\"T\")[0] for i in need_process_ts])\n",
    "need_process"
   ]
  },
  {
   "cell_type": "code",
   "execution_count": 14,
   "id": "4deb738a",
   "metadata": {
    "execution": {
     "iopub.execute_input": "2025-10-18T00:32:12.344210Z",
     "iopub.status.busy": "2025-10-18T00:32:12.344048Z",
     "iopub.status.idle": "2025-10-18T00:33:13.602652Z",
     "shell.execute_reply": "2025-10-18T00:33:13.601716Z"
    },
    "id": "sBm7rfFUyePJ",
    "papermill": {
     "duration": 61.271694,
     "end_time": "2025-10-18T00:33:13.609160",
     "exception": false,
     "start_time": "2025-10-18T00:32:12.337466",
     "status": "completed"
    },
    "tags": []
   },
   "outputs": [
    {
     "name": "stdout",
     "output_type": "stream",
     "text": [
      "\n",
      " Done 2025-10-17\n",
      "\n"
     ]
    }
   ],
   "source": [
    "for dt in need_process:\n",
    "  df = pl.scan_parquet(f\"az://adjuststbuatprocessed/live/processing/dt={dt}/*.parquet\", storage_options=storage_options,glob=True).with_columns(pl.lit(dt).alias(\"dt\"))\n",
    "  df.sink_parquet(f\"az://adjuststbuatprocessed/live/output/{dt}.parquet\", storage_options=storage_options, compression=\"snappy\")\n",
    "  print(f'\\n Done {dt}\\n')"
   ]
  }
 ],
 "metadata": {
  "colab": {
   "authorship_tag": "ABX9TyOfzO6uvqUX+Tt89Y73G9E8",
   "include_colab_link": true,
   "provenance": []
  },
  "kernelspec": {
   "display_name": "Python 3",
   "name": "python3"
  },
  "language_info": {
   "codemirror_mode": {
    "name": "ipython",
    "version": 3
   },
   "file_extension": ".py",
   "mimetype": "text/x-python",
   "name": "python",
   "nbconvert_exporter": "python",
   "pygments_lexer": "ipython3",
   "version": "3.11.14"
  },
  "papermill": {
   "default_parameters": {},
   "duration": 695.042057,
   "end_time": "2025-10-18T00:33:14.533230",
   "environment_variables": {},
   "exception": null,
   "input_path": "notebooks/ADJUST_JOB.ipynb",
   "output_path": "outputs/ADJUST_JOB_2025-10-18.ipynb",
   "parameters": {
    "RUN_DATE": "2025-10-18"
   },
   "start_time": "2025-10-18T00:21:39.491173",
   "version": "2.6.0"
  }
 },
 "nbformat": 4,
 "nbformat_minor": 5
}