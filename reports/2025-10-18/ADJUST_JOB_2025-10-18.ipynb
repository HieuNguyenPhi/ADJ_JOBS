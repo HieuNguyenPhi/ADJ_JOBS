{
 "cells": [
  {
   "cell_type": "code",
   "execution_count": 1,
   "id": "486dd7f5",
   "metadata": {
    "execution": {
     "iopub.execute_input": "2025-10-18T01:44:42.957728Z",
     "iopub.status.busy": "2025-10-18T01:44:42.957515Z",
     "iopub.status.idle": "2025-10-18T01:44:42.962986Z",
     "shell.execute_reply": "2025-10-18T01:44:42.962181Z"
    },
    "papermill": {
     "duration": 0.010004,
     "end_time": "2025-10-18T01:44:42.963661",
     "exception": false,
     "start_time": "2025-10-18T01:44:42.953657",
     "status": "completed"
    },
    "tags": [
     "injected-parameters"
    ]
   },
   "outputs": [],
   "source": [
    "# Parameters\n",
    "RUN_DATE = \"2025-10-18\"\n"
   ]
  },
  {
   "cell_type": "markdown",
   "id": "6bd900e3",
   "metadata": {
    "colab_type": "text",
    "id": "view-in-github",
    "papermill": {
     "duration": 0.001967,
     "end_time": "2025-10-18T01:44:42.967991",
     "exception": false,
     "start_time": "2025-10-18T01:44:42.966024",
     "status": "completed"
    },
    "tags": []
   },
   "source": [
    "<a href=\"https://colab.research.google.com/github/HieuNguyenPhi/ADJ_JOBS/blob/main/notebooks/ADJUST_JOB.ipynb\" target=\"_parent\"><img src=\"https://colab.research.google.com/assets/colab-badge.svg\" alt=\"Open In Colab\"/></a>"
   ]
  },
  {
   "cell_type": "markdown",
   "id": "74a2d02d",
   "metadata": {
    "papermill": {
     "duration": 0.004621,
     "end_time": "2025-10-18T01:44:42.974710",
     "exception": false,
     "start_time": "2025-10-18T01:44:42.970089",
     "status": "completed"
    },
    "tags": []
   },
   "source": [
    "# UAT"
   ]
  },
  {
   "cell_type": "code",
   "execution_count": 2,
   "id": "0beb814f",
   "metadata": {
    "execution": {
     "iopub.execute_input": "2025-10-18T01:44:42.983249Z",
     "iopub.status.busy": "2025-10-18T01:44:42.982948Z",
     "iopub.status.idle": "2025-10-18T01:44:50.176371Z",
     "shell.execute_reply": "2025-10-18T01:44:50.175499Z"
    },
    "id": "ycUR2r1dq1Nm",
    "papermill": {
     "duration": 7.198762,
     "end_time": "2025-10-18T01:44:50.177059",
     "exception": false,
     "start_time": "2025-10-18T01:44:42.978297",
     "status": "completed"
    },
    "tags": []
   },
   "outputs": [
    {
     "data": {
      "text/plain": [
       "['2025-10-17T160000',\n",
       " '2025-10-17T170000',\n",
       " '2025-10-17T180000',\n",
       " '2025-10-17T190000',\n",
       " '2025-10-17T230000']"
      ]
     },
     "execution_count": 2,
     "metadata": {},
     "output_type": "execute_result"
    }
   ],
   "source": [
    "import os\n",
    "from azure.storage.blob import BlobServiceClient\n",
    "\n",
    "account_name = os.getenv('ACCOUNT_NAME')\n",
    "account_key = os.getenv('ACCOUNT_KEY')\n",
    "# Replace with your Azure Storage account name and SAS token or connection string\n",
    "connect_str = f\"DefaultEndpointsProtocol=https;AccountName={account_name};AccountKey={account_key};EndpointSuffix=core.windows.net\"\n",
    "blob_service_client = BlobServiceClient.from_connection_string(connect_str)\n",
    "container_list = blob_service_client.list_containers()\n",
    "container_name = \"adjuststbuatprocessed\" #os.getenv('CONTAINER_NAME')\n",
    "container_client = blob_service_client.get_container_client(container_name)\n",
    "# already_processed = [file.name.split('/')[1].split('.')[0] for file in container_client.list_blobs() if file.name.split('/')[0] == 'output']\n",
    "# already_processed[-5:]\n",
    "already_processed_ts = sorted([file.name.split('/')[-1].split(\".\")[0] for file in container_client.list_blobs() if file.name.split('/')[0] == 'processing'])\n",
    "already_processed_ts[-5:]"
   ]
  },
  {
   "cell_type": "code",
   "execution_count": 3,
   "id": "3a3a8a56",
   "metadata": {
    "execution": {
     "iopub.execute_input": "2025-10-18T01:44:50.182697Z",
     "iopub.status.busy": "2025-10-18T01:44:50.182427Z",
     "iopub.status.idle": "2025-10-18T01:44:59.356083Z",
     "shell.execute_reply": "2025-10-18T01:44:59.355354Z"
    },
    "id": "xyPuVC12s7fn",
    "papermill": {
     "duration": 9.17726,
     "end_time": "2025-10-18T01:44:59.356735",
     "exception": false,
     "start_time": "2025-10-18T01:44:50.179475",
     "status": "completed"
    },
    "tags": []
   },
   "outputs": [
    {
     "data": {
      "text/plain": [
       "['rsh20bkkb4zk_2025-10-17T230000_762c775ae454d23f2c6b6a75623d14c7_2853a0.csv.gz',\n",
       " 'rsh20bkkb4zk_2025-10-17T230000_762c775ae454d23f2c6b6a75623d14c7_2853a1.csv.gz']"
      ]
     },
     "execution_count": 3,
     "metadata": {},
     "output_type": "execute_result"
    }
   ],
   "source": [
    "container_name_uat = \"adjuststbuat\"\n",
    "container_client_uat = blob_service_client.get_container_client(container_name_uat)\n",
    "from collections import defaultdict\n",
    "files = [i.name for i in container_client_uat.list_blobs()]\n",
    "groups = defaultdict(list)\n",
    "for f in files:\n",
    "    dt = f.split('_')[1]\n",
    "    groups[dt].append(f)\n",
    "groups[dt]"
   ]
  },
  {
   "cell_type": "code",
   "execution_count": 4,
   "id": "8d41334d",
   "metadata": {
    "execution": {
     "iopub.execute_input": "2025-10-18T01:44:59.362551Z",
     "iopub.status.busy": "2025-10-18T01:44:59.362368Z",
     "iopub.status.idle": "2025-10-18T01:44:59.365222Z",
     "shell.execute_reply": "2025-10-18T01:44:59.364366Z"
    },
    "papermill": {
     "duration": 0.006422,
     "end_time": "2025-10-18T01:44:59.365790",
     "exception": false,
     "start_time": "2025-10-18T01:44:59.359368",
     "status": "completed"
    },
    "tags": []
   },
   "outputs": [],
   "source": [
    "# from datetime import date, timedelta, datetime\n",
    "# import pandas as pd\n",
    "# today = date.today().strftime('%Y-%m-%d')\n",
    "# yesterday = (date.today() - timedelta(days = 1) ).strftime('%Y-%m-%d')\n",
    "# check_date = dt.split(\"T\")[0]\n",
    "# if check_date == today:\n",
    "#     need_process = pd.date_range(start=already_processed[-1], end=today).strftime('%Y-%m-%d').to_list()\n",
    "# else:\n",
    "#     need_process = pd.date_range(start=already_processed[-1], end=yesterday).strftime('%Y-%m-%d').to_list()\n",
    "# need_process"
   ]
  },
  {
   "cell_type": "code",
   "execution_count": 5,
   "id": "ba31d879",
   "metadata": {
    "execution": {
     "iopub.execute_input": "2025-10-18T01:44:59.370947Z",
     "iopub.status.busy": "2025-10-18T01:44:59.370790Z",
     "iopub.status.idle": "2025-10-18T01:44:59.687763Z",
     "shell.execute_reply": "2025-10-18T01:44:59.686997Z"
    },
    "papermill": {
     "duration": 0.320491,
     "end_time": "2025-10-18T01:44:59.688490",
     "exception": false,
     "start_time": "2025-10-18T01:44:59.367999",
     "status": "completed"
    },
    "tags": []
   },
   "outputs": [
    {
     "data": {
      "text/plain": [
       "['2025-10-17T190000',\n",
       " '2025-10-17T200000',\n",
       " '2025-10-17T210000',\n",
       " '2025-10-17T220000',\n",
       " '2025-10-17T230000']"
      ]
     },
     "execution_count": 5,
     "metadata": {},
     "output_type": "execute_result"
    }
   ],
   "source": [
    "from datetime import datetime\n",
    "import pandas as pd\n",
    "B = datetime.strptime(dt, \"%Y-%m-%dT%H0000\")\n",
    "A = datetime.strptime(already_processed_ts[-2], \"%Y-%m-%dT%H0000\")\n",
    "need_process_ts =  pd.date_range(A, B, freq='h').strftime('%Y-%m-%dT%H0000').tolist()\n",
    "need_process_ts"
   ]
  },
  {
   "cell_type": "code",
   "execution_count": 6,
   "id": "be7b01c4",
   "metadata": {
    "execution": {
     "iopub.execute_input": "2025-10-18T01:44:59.695816Z",
     "iopub.status.busy": "2025-10-18T01:44:59.695530Z",
     "iopub.status.idle": "2025-10-18T01:45:21.606833Z",
     "shell.execute_reply": "2025-10-18T01:45:21.605938Z"
    },
    "papermill": {
     "duration": 21.916359,
     "end_time": "2025-10-18T01:45:21.607446",
     "exception": false,
     "start_time": "2025-10-18T01:44:59.691087",
     "status": "completed"
    },
    "tags": []
   },
   "outputs": [
    {
     "name": "stderr",
     "output_type": "stream",
     "text": [
      "\r",
      "  0%|          | 0/2027 [00:00<?, ?it/s]"
     ]
    },
    {
     "name": "stderr",
     "output_type": "stream",
     "text": [
      "\r",
      "100%|█████████▉| 2026/2027 [00:11<00:00, 174.35it/s]"
     ]
    },
    {
     "name": "stdout",
     "output_type": "stream",
     "text": [
      "Done dt=2025-10-17/2025-10-17T190000.parquet\n"
     ]
    },
    {
     "name": "stderr",
     "output_type": "stream",
     "text": [
      "\r",
      "100%|██████████| 2027/2027 [00:21<00:00, 92.81it/s] "
     ]
    },
    {
     "name": "stdout",
     "output_type": "stream",
     "text": [
      "Done dt=2025-10-17/2025-10-17T230000.parquet\n"
     ]
    },
    {
     "name": "stderr",
     "output_type": "stream",
     "text": [
      "\n"
     ]
    }
   ],
   "source": [
    "import polars as pl \n",
    "from tqdm import tqdm\n",
    "storage_options = {\n",
    "    \"account_name\": account_name,\n",
    "    \"account_key\":  account_key,\n",
    "}\n",
    "\n",
    "for ts, files in tqdm(groups.items()):\n",
    "    if ts not in need_process_ts:\n",
    "        continue\n",
    "    dt = ts[:10]\n",
    "    # if dt not in need_process:\n",
    "    #     continue\n",
    "    df = pl.scan_csv(f\"az://adjuststbuat/*_{ts}_*.csv.gz\", storage_options = storage_options,glob=True, has_header = True, null_values = [\"\",\"NULL\"], ignore_errors=True).select(pl.all().cast(pl.Utf8))\n",
    "    df.sink_parquet(f\"az://adjuststbuatprocessed/processing/dt={dt}/{ts}.parquet\", storage_options = storage_options, compression=\"snappy\")\n",
    "    print(f'Done dt={dt}/{ts}.parquet')\n",
    "        "
   ]
  },
  {
   "cell_type": "code",
   "execution_count": 7,
   "id": "f85be40f",
   "metadata": {
    "execution": {
     "iopub.execute_input": "2025-10-18T01:45:21.615041Z",
     "iopub.status.busy": "2025-10-18T01:45:21.614833Z",
     "iopub.status.idle": "2025-10-18T01:45:21.619041Z",
     "shell.execute_reply": "2025-10-18T01:45:21.618277Z"
    },
    "papermill": {
     "duration": 0.009302,
     "end_time": "2025-10-18T01:45:21.619598",
     "exception": false,
     "start_time": "2025-10-18T01:45:21.610296",
     "status": "completed"
    },
    "tags": []
   },
   "outputs": [
    {
     "data": {
      "text/plain": [
       "{'2025-10-17'}"
      ]
     },
     "execution_count": 7,
     "metadata": {},
     "output_type": "execute_result"
    }
   ],
   "source": [
    "need_process = set([i.split(\"T\")[0] for i in need_process_ts])\n",
    "need_process"
   ]
  },
  {
   "cell_type": "code",
   "execution_count": 8,
   "id": "057cba36",
   "metadata": {
    "execution": {
     "iopub.execute_input": "2025-10-18T01:45:21.625783Z",
     "iopub.status.busy": "2025-10-18T01:45:21.625614Z",
     "iopub.status.idle": "2025-10-18T01:45:27.709982Z",
     "shell.execute_reply": "2025-10-18T01:45:27.709169Z"
    },
    "papermill": {
     "duration": 6.088266,
     "end_time": "2025-10-18T01:45:27.710576",
     "exception": false,
     "start_time": "2025-10-18T01:45:21.622310",
     "status": "completed"
    },
    "tags": []
   },
   "outputs": [
    {
     "name": "stdout",
     "output_type": "stream",
     "text": [
      "\n",
      " Done 2025-10-17\n",
      "\n"
     ]
    }
   ],
   "source": [
    "for dt in need_process:\n",
    "  df = pl.scan_parquet(f\"az://adjuststbuatprocessed/processing/dt={dt}/*.parquet\", storage_options=storage_options,glob=True).with_columns(pl.lit(dt).alias(\"dt\"))\n",
    "  df.sink_parquet(f\"az://adjuststbuatprocessed/output/{dt}.parquet\", storage_options=storage_options, compression=\"snappy\")\n",
    "  print(f'\\n Done {dt}\\n')"
   ]
  },
  {
   "cell_type": "markdown",
   "id": "3544db61",
   "metadata": {
    "id": "2TvKr29qyJd_",
    "papermill": {
     "duration": 0.002626,
     "end_time": "2025-10-18T01:45:27.716197",
     "exception": false,
     "start_time": "2025-10-18T01:45:27.713571",
     "status": "completed"
    },
    "tags": []
   },
   "source": [
    "# Live"
   ]
  },
  {
   "cell_type": "code",
   "execution_count": 9,
   "id": "8984ce08",
   "metadata": {
    "execution": {
     "iopub.execute_input": "2025-10-18T01:45:27.722655Z",
     "iopub.status.busy": "2025-10-18T01:45:27.722311Z",
     "iopub.status.idle": "2025-10-18T01:45:32.224755Z",
     "shell.execute_reply": "2025-10-18T01:45:32.223833Z"
    },
    "id": "EnaFsdZFxpwc",
    "papermill": {
     "duration": 4.506539,
     "end_time": "2025-10-18T01:45:32.225401",
     "exception": false,
     "start_time": "2025-10-18T01:45:27.718862",
     "status": "completed"
    },
    "tags": []
   },
   "outputs": [
    {
     "data": {
      "text/plain": [
       "['2025-10-17T190000',\n",
       " '2025-10-17T200000',\n",
       " '2025-10-17T210000',\n",
       " '2025-10-17T220000',\n",
       " '2025-10-17T230000']"
      ]
     },
     "execution_count": 9,
     "metadata": {},
     "output_type": "execute_result"
    }
   ],
   "source": [
    "# already_processed = [file.name.split('/')[-1].split('.')[0] for file in container_client.list_blobs() if file.name[:12] == 'live/output/']\n",
    "# already_processed[-5:]\n",
    "already_processed_ts = sorted([file.name.split('/')[-1].split(\".\")[0] for file in container_client.list_blobs() if (file.name.split('/')[0] + \"/\" + file.name.split('/')[1]) == 'live/processing'])\n",
    "already_processed_ts[-5:]"
   ]
  },
  {
   "cell_type": "code",
   "execution_count": 10,
   "id": "b30d5f35",
   "metadata": {
    "execution": {
     "iopub.execute_input": "2025-10-18T01:45:32.232104Z",
     "iopub.status.busy": "2025-10-18T01:45:32.231930Z",
     "iopub.status.idle": "2025-10-18T01:45:45.431639Z",
     "shell.execute_reply": "2025-10-18T01:45:45.430687Z"
    },
    "id": "I7Er6YEUyOsL",
    "papermill": {
     "duration": 13.2038,
     "end_time": "2025-10-18T01:45:45.432255",
     "exception": false,
     "start_time": "2025-10-18T01:45:32.228455",
     "status": "completed"
    },
    "tags": []
   },
   "outputs": [
    {
     "data": {
      "text/plain": [
       "['65n1fgov4zr4_2025-10-18T000000_762c775ae454d23f2c6b6a75623d14c7_2853a0.csv.gz',\n",
       " '65n1fgov4zr4_2025-10-18T000000_762c775ae454d23f2c6b6a75623d14c7_2853a1.csv.gz',\n",
       " '65n1fgov4zr4_2025-10-18T000000_762c775ae454d23f2c6b6a75623d14c7_be8220.csv.gz',\n",
       " '65n1fgov4zr4_2025-10-18T000000_762c775ae454d23f2c6b6a75623d14c7_be8221.csv.gz',\n",
       " '65n1fgov4zr4_2025-10-18T000000_762c775ae454d23f2c6b6a75623d14c7_c35750.csv.gz',\n",
       " '65n1fgov4zr4_2025-10-18T000000_762c775ae454d23f2c6b6a75623d14c7_c35751.csv.gz']"
      ]
     },
     "execution_count": 10,
     "metadata": {},
     "output_type": "execute_result"
    }
   ],
   "source": [
    "container_name_uat = \"adjuststblive\"\n",
    "container_client_uat = blob_service_client.get_container_client(container_name_uat)\n",
    "from collections import defaultdict\n",
    "files = [i.name for i in container_client_uat.list_blobs()]\n",
    "groups = defaultdict(list)\n",
    "for f in files:\n",
    "    dt = f.split('_')[1]\n",
    "    groups[dt].append(f)\n",
    "groups[dt]"
   ]
  },
  {
   "cell_type": "code",
   "execution_count": 11,
   "id": "4dee0b58",
   "metadata": {
    "execution": {
     "iopub.execute_input": "2025-10-18T01:45:45.439498Z",
     "iopub.status.busy": "2025-10-18T01:45:45.439267Z",
     "iopub.status.idle": "2025-10-18T01:45:45.444300Z",
     "shell.execute_reply": "2025-10-18T01:45:45.443541Z"
    },
    "papermill": {
     "duration": 0.009407,
     "end_time": "2025-10-18T01:45:45.444883",
     "exception": false,
     "start_time": "2025-10-18T01:45:45.435476",
     "status": "completed"
    },
    "tags": []
   },
   "outputs": [
    {
     "data": {
      "text/plain": [
       "['2025-10-17T230000', '2025-10-18T000000']"
      ]
     },
     "execution_count": 11,
     "metadata": {},
     "output_type": "execute_result"
    }
   ],
   "source": [
    "# need_process = pd.date_range(start=already_processed[-1], end=today).strftime('%Y-%m-%d').to_list()\n",
    "# need_process\n",
    "\n",
    "B = datetime.strptime(dt, \"%Y-%m-%dT%H0000\")\n",
    "A = datetime.strptime(already_processed_ts[-1], \"%Y-%m-%dT%H0000\")\n",
    "need_process_ts =  pd.date_range(A, B, freq='h').strftime('%Y-%m-%dT%H0000').tolist()\n",
    "need_process_ts"
   ]
  },
  {
   "cell_type": "code",
   "execution_count": 12,
   "id": "556a7a79",
   "metadata": {
    "execution": {
     "iopub.execute_input": "2025-10-18T01:45:45.451554Z",
     "iopub.status.busy": "2025-10-18T01:45:45.451386Z",
     "iopub.status.idle": "2025-10-18T01:46:33.845789Z",
     "shell.execute_reply": "2025-10-18T01:46:33.845030Z"
    },
    "id": "g-W3s2nRyRY7",
    "papermill": {
     "duration": 48.398676,
     "end_time": "2025-10-18T01:46:33.846482",
     "exception": false,
     "start_time": "2025-10-18T01:45:45.447806",
     "status": "completed"
    },
    "tags": []
   },
   "outputs": [
    {
     "name": "stderr",
     "output_type": "stream",
     "text": [
      "\r",
      "  0%|          | 0/2055 [00:00<?, ?it/s]"
     ]
    },
    {
     "name": "stderr",
     "output_type": "stream",
     "text": [
      "\r",
      "100%|█████████▉| 2054/2055 [00:24<00:00, 82.79it/s]"
     ]
    },
    {
     "name": "stdout",
     "output_type": "stream",
     "text": [
      "Done dt=2025-10-17/2025-10-17T230000.parquet\n"
     ]
    },
    {
     "name": "stderr",
     "output_type": "stream",
     "text": [
      "\r",
      "100%|█████████▉| 2054/2055 [00:44<00:00, 82.79it/s]"
     ]
    },
    {
     "name": "stderr",
     "output_type": "stream",
     "text": [
      "\r",
      "100%|██████████| 2055/2055 [00:48<00:00, 35.14it/s]"
     ]
    },
    {
     "name": "stderr",
     "output_type": "stream",
     "text": [
      "\r",
      "100%|██████████| 2055/2055 [00:48<00:00, 42.47it/s]"
     ]
    },
    {
     "name": "stdout",
     "output_type": "stream",
     "text": [
      "Done dt=2025-10-18/2025-10-18T000000.parquet\n"
     ]
    },
    {
     "name": "stderr",
     "output_type": "stream",
     "text": [
      "\n"
     ]
    }
   ],
   "source": [
    "storage_options = {\n",
    "    \"account_name\": account_name,\n",
    "    \"account_key\":  account_key,\n",
    "}\n",
    "\n",
    "for ts, files in tqdm(groups.items()):\n",
    "    if ts not in need_process_ts: continue\n",
    "    dt = ts[:10]\n",
    "    # if dt not in need_process:\n",
    "    #     continue\n",
    "    df = pl.scan_csv(f\"az://adjuststblive/*_{ts}_*.csv.gz\", storage_options = storage_options,glob=True, has_header = True, null_values = [\"\",\"NULL\"], ignore_errors=True).select(pl.all().cast(pl.Utf8))\n",
    "    df.sink_parquet(f\"az://adjuststbuatprocessed/live/processing/dt={dt}/{ts}.parquet\", storage_options = storage_options, compression=\"snappy\")\n",
    "    print(f'Done dt={dt}/{ts}.parquet')\n",
    "        "
   ]
  },
  {
   "cell_type": "code",
   "execution_count": 13,
   "id": "8a577898",
   "metadata": {
    "execution": {
     "iopub.execute_input": "2025-10-18T01:46:33.854396Z",
     "iopub.status.busy": "2025-10-18T01:46:33.854218Z",
     "iopub.status.idle": "2025-10-18T01:46:33.858233Z",
     "shell.execute_reply": "2025-10-18T01:46:33.857530Z"
    },
    "papermill": {
     "duration": 0.008886,
     "end_time": "2025-10-18T01:46:33.858917",
     "exception": false,
     "start_time": "2025-10-18T01:46:33.850031",
     "status": "completed"
    },
    "tags": []
   },
   "outputs": [
    {
     "data": {
      "text/plain": [
       "{'2025-10-17', '2025-10-18'}"
      ]
     },
     "execution_count": 13,
     "metadata": {},
     "output_type": "execute_result"
    }
   ],
   "source": [
    "need_process = set([i.split(\"T\")[0] for i in need_process_ts])\n",
    "need_process"
   ]
  },
  {
   "cell_type": "code",
   "execution_count": 14,
   "id": "5284628e",
   "metadata": {
    "execution": {
     "iopub.execute_input": "2025-10-18T01:46:33.866406Z",
     "iopub.status.busy": "2025-10-18T01:46:33.866240Z",
     "iopub.status.idle": "2025-10-18T01:48:23.747977Z",
     "shell.execute_reply": "2025-10-18T01:48:23.708195Z"
    },
    "id": "sBm7rfFUyePJ",
    "papermill": {
     "duration": 109.897976,
     "end_time": "2025-10-18T01:48:23.760240",
     "exception": false,
     "start_time": "2025-10-18T01:46:33.862264",
     "status": "completed"
    },
    "tags": []
   },
   "outputs": [
    {
     "name": "stdout",
     "output_type": "stream",
     "text": [
      "\n",
      " Done 2025-10-17\n",
      "\n"
     ]
    },
    {
     "name": "stdout",
     "output_type": "stream",
     "text": [
      "\n",
      " Done 2025-10-18\n",
      "\n"
     ]
    }
   ],
   "source": [
    "for dt in need_process:\n",
    "  df = pl.scan_parquet(f\"az://adjuststbuatprocessed/live/processing/dt={dt}/*.parquet\", storage_options=storage_options,glob=True).with_columns(pl.lit(dt).alias(\"dt\"))\n",
    "  df.sink_parquet(f\"az://adjuststbuatprocessed/live/output/{dt}.parquet\", storage_options=storage_options, compression=\"snappy\")\n",
    "  print(f'\\n Done {dt}\\n')"
   ]
  }
 ],
 "metadata": {
  "colab": {
   "authorship_tag": "ABX9TyOfzO6uvqUX+Tt89Y73G9E8",
   "include_colab_link": true,
   "provenance": []
  },
  "kernelspec": {
   "display_name": "Python 3",
   "name": "python3"
  },
  "language_info": {
   "codemirror_mode": {
    "name": "ipython",
    "version": 3
   },
   "file_extension": ".py",
   "mimetype": "text/x-python",
   "name": "python",
   "nbconvert_exporter": "python",
   "pygments_lexer": "ipython3",
   "version": "3.11.14"
  },
  "papermill": {
   "default_parameters": {},
   "duration": 225.687873,
   "end_time": "2025-10-18T01:48:27.327473",
   "environment_variables": {},
   "exception": null,
   "input_path": "notebooks/ADJUST_JOB.ipynb",
   "output_path": "outputs/ADJUST_JOB_2025-10-18.ipynb",
   "parameters": {
    "RUN_DATE": "2025-10-18"
   },
   "start_time": "2025-10-18T01:44:41.639600",
   "version": "2.6.0"
  }
 },
 "nbformat": 4,
 "nbformat_minor": 5
}