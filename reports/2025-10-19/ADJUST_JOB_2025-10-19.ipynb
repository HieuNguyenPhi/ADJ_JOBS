{
 "cells": [
  {
   "cell_type": "code",
   "execution_count": 1,
   "id": "4c775fb8",
   "metadata": {
    "execution": {
     "iopub.execute_input": "2025-10-19T02:02:08.253348Z",
     "iopub.status.busy": "2025-10-19T02:02:08.253126Z",
     "iopub.status.idle": "2025-10-19T02:02:08.258365Z",
     "shell.execute_reply": "2025-10-19T02:02:08.257675Z"
    },
    "papermill": {
     "duration": 0.009685,
     "end_time": "2025-10-19T02:02:08.259263",
     "exception": false,
     "start_time": "2025-10-19T02:02:08.249578",
     "status": "completed"
    },
    "tags": [
     "injected-parameters"
    ]
   },
   "outputs": [],
   "source": [
    "# Parameters\n",
    "RUN_DATE = \"2025-10-19\"\n"
   ]
  },
  {
   "cell_type": "markdown",
   "id": "d5a936aa",
   "metadata": {
    "colab_type": "text",
    "id": "view-in-github",
    "papermill": {
     "duration": 0.001884,
     "end_time": "2025-10-19T02:02:08.263382",
     "exception": false,
     "start_time": "2025-10-19T02:02:08.261498",
     "status": "completed"
    },
    "tags": []
   },
   "source": [
    "<a href=\"https://colab.research.google.com/github/HieuNguyenPhi/ADJ_JOBS/blob/main/notebooks/ADJUST_JOB.ipynb\" target=\"_parent\"><img src=\"https://colab.research.google.com/assets/colab-badge.svg\" alt=\"Open In Colab\"/></a>"
   ]
  },
  {
   "cell_type": "markdown",
   "id": "968bb866",
   "metadata": {
    "papermill": {
     "duration": 0.002698,
     "end_time": "2025-10-19T02:02:08.267963",
     "exception": false,
     "start_time": "2025-10-19T02:02:08.265265",
     "status": "completed"
    },
    "tags": []
   },
   "source": [
    "# UAT"
   ]
  },
  {
   "cell_type": "code",
   "execution_count": 2,
   "id": "c2f5c575",
   "metadata": {
    "execution": {
     "iopub.execute_input": "2025-10-19T02:02:08.272636Z",
     "iopub.status.busy": "2025-10-19T02:02:08.272483Z",
     "iopub.status.idle": "2025-10-19T02:02:13.875553Z",
     "shell.execute_reply": "2025-10-19T02:02:13.874608Z"
    },
    "id": "ycUR2r1dq1Nm",
    "papermill": {
     "duration": 5.606366,
     "end_time": "2025-10-19T02:02:13.876207",
     "exception": false,
     "start_time": "2025-10-19T02:02:08.269841",
     "status": "completed"
    },
    "tags": []
   },
   "outputs": [
    {
     "data": {
      "text/plain": [
       "['2025-10-17T160000',\n",
       " '2025-10-17T170000',\n",
       " '2025-10-17T180000',\n",
       " '2025-10-17T190000',\n",
       " '2025-10-17T230000']"
      ]
     },
     "execution_count": 2,
     "metadata": {},
     "output_type": "execute_result"
    }
   ],
   "source": [
    "import os\n",
    "from azure.storage.blob import BlobServiceClient\n",
    "\n",
    "account_name = os.getenv('ACCOUNT_NAME')\n",
    "account_key = os.getenv('ACCOUNT_KEY')\n",
    "# Replace with your Azure Storage account name and SAS token or connection string\n",
    "connect_str = f\"DefaultEndpointsProtocol=https;AccountName={account_name};AccountKey={account_key};EndpointSuffix=core.windows.net\"\n",
    "blob_service_client = BlobServiceClient.from_connection_string(connect_str)\n",
    "container_list = blob_service_client.list_containers()\n",
    "container_name = \"adjuststbuatprocessed\" #os.getenv('CONTAINER_NAME')\n",
    "container_client = blob_service_client.get_container_client(container_name)\n",
    "# already_processed = [file.name.split('/')[1].split('.')[0] for file in container_client.list_blobs() if file.name.split('/')[0] == 'output']\n",
    "# already_processed[-5:]\n",
    "already_processed_ts = sorted([file.name.split('/')[-1].split(\".\")[0] for file in container_client.list_blobs() if file.name.split('/')[0] == 'processing'])\n",
    "already_processed_ts[-5:]"
   ]
  },
  {
   "cell_type": "code",
   "execution_count": 3,
   "id": "56dcc536",
   "metadata": {
    "execution": {
     "iopub.execute_input": "2025-10-19T02:02:13.881836Z",
     "iopub.status.busy": "2025-10-19T02:02:13.881586Z",
     "iopub.status.idle": "2025-10-19T02:02:21.400845Z",
     "shell.execute_reply": "2025-10-19T02:02:21.400066Z"
    },
    "id": "xyPuVC12s7fn",
    "papermill": {
     "duration": 7.523076,
     "end_time": "2025-10-19T02:02:21.401762",
     "exception": false,
     "start_time": "2025-10-19T02:02:13.878686",
     "status": "completed"
    },
    "tags": []
   },
   "outputs": [
    {
     "data": {
      "text/plain": [
       "['rsh20bkkb4zk_2025-10-19T000000_762c775ae454d23f2c6b6a75623d14c7_be8221.csv.gz']"
      ]
     },
     "execution_count": 3,
     "metadata": {},
     "output_type": "execute_result"
    }
   ],
   "source": [
    "container_name_uat = \"adjuststbuat\"\n",
    "container_client_uat = blob_service_client.get_container_client(container_name_uat)\n",
    "from collections import defaultdict\n",
    "files = [i.name for i in container_client_uat.list_blobs()]\n",
    "groups = defaultdict(list)\n",
    "for f in files:\n",
    "    dt = f.split('_')[1]\n",
    "    groups[dt].append(f)\n",
    "groups[dt]"
   ]
  },
  {
   "cell_type": "code",
   "execution_count": 4,
   "id": "ea3b8b39",
   "metadata": {
    "execution": {
     "iopub.execute_input": "2025-10-19T02:02:21.407842Z",
     "iopub.status.busy": "2025-10-19T02:02:21.407652Z",
     "iopub.status.idle": "2025-10-19T02:02:21.410493Z",
     "shell.execute_reply": "2025-10-19T02:02:21.409786Z"
    },
    "papermill": {
     "duration": 0.006958,
     "end_time": "2025-10-19T02:02:21.411334",
     "exception": false,
     "start_time": "2025-10-19T02:02:21.404376",
     "status": "completed"
    },
    "tags": []
   },
   "outputs": [],
   "source": [
    "# from datetime import date, timedelta, datetime\n",
    "# import pandas as pd\n",
    "# today = date.today().strftime('%Y-%m-%d')\n",
    "# yesterday = (date.today() - timedelta(days = 1) ).strftime('%Y-%m-%d')\n",
    "# check_date = dt.split(\"T\")[0]\n",
    "# if check_date == today:\n",
    "#     need_process = pd.date_range(start=already_processed[-1], end=today).strftime('%Y-%m-%d').to_list()\n",
    "# else:\n",
    "#     need_process = pd.date_range(start=already_processed[-1], end=yesterday).strftime('%Y-%m-%d').to_list()\n",
    "# need_process"
   ]
  },
  {
   "cell_type": "code",
   "execution_count": 5,
   "id": "0a6d8edc",
   "metadata": {
    "execution": {
     "iopub.execute_input": "2025-10-19T02:02:21.416451Z",
     "iopub.status.busy": "2025-10-19T02:02:21.416301Z",
     "iopub.status.idle": "2025-10-19T02:02:21.719359Z",
     "shell.execute_reply": "2025-10-19T02:02:21.718622Z"
    },
    "papermill": {
     "duration": 0.306714,
     "end_time": "2025-10-19T02:02:21.720253",
     "exception": false,
     "start_time": "2025-10-19T02:02:21.413539",
     "status": "completed"
    },
    "tags": []
   },
   "outputs": [
    {
     "data": {
      "text/plain": [
       "['2025-10-17T190000',\n",
       " '2025-10-17T200000',\n",
       " '2025-10-17T210000',\n",
       " '2025-10-17T220000',\n",
       " '2025-10-17T230000',\n",
       " '2025-10-18T000000',\n",
       " '2025-10-18T010000',\n",
       " '2025-10-18T020000',\n",
       " '2025-10-18T030000',\n",
       " '2025-10-18T040000',\n",
       " '2025-10-18T050000',\n",
       " '2025-10-18T060000',\n",
       " '2025-10-18T070000',\n",
       " '2025-10-18T080000',\n",
       " '2025-10-18T090000',\n",
       " '2025-10-18T100000',\n",
       " '2025-10-18T110000',\n",
       " '2025-10-18T120000',\n",
       " '2025-10-18T130000',\n",
       " '2025-10-18T140000',\n",
       " '2025-10-18T150000',\n",
       " '2025-10-18T160000',\n",
       " '2025-10-18T170000',\n",
       " '2025-10-18T180000',\n",
       " '2025-10-18T190000',\n",
       " '2025-10-18T200000',\n",
       " '2025-10-18T210000',\n",
       " '2025-10-18T220000',\n",
       " '2025-10-18T230000',\n",
       " '2025-10-19T000000']"
      ]
     },
     "execution_count": 5,
     "metadata": {},
     "output_type": "execute_result"
    }
   ],
   "source": [
    "from datetime import datetime\n",
    "import pandas as pd\n",
    "B = datetime.strptime(dt, \"%Y-%m-%dT%H0000\")\n",
    "A = datetime.strptime(already_processed_ts[-2], \"%Y-%m-%dT%H0000\")\n",
    "need_process_ts =  pd.date_range(A, B, freq='h').strftime('%Y-%m-%dT%H0000').tolist()\n",
    "need_process_ts"
   ]
  },
  {
   "cell_type": "code",
   "execution_count": 6,
   "id": "43debe95",
   "metadata": {
    "execution": {
     "iopub.execute_input": "2025-10-19T02:02:21.726314Z",
     "iopub.status.busy": "2025-10-19T02:02:21.726023Z",
     "iopub.status.idle": "2025-10-19T02:04:30.834817Z",
     "shell.execute_reply": "2025-10-19T02:04:30.833739Z"
    },
    "papermill": {
     "duration": 129.115664,
     "end_time": "2025-10-19T02:04:30.838562",
     "exception": false,
     "start_time": "2025-10-19T02:02:21.722898",
     "status": "completed"
    },
    "tags": []
   },
   "outputs": [
    {
     "name": "stderr",
     "output_type": "stream",
     "text": [
      "\r",
      "  0%|          | 0/2043 [00:00<?, ?it/s]"
     ]
    },
    {
     "name": "stderr",
     "output_type": "stream",
     "text": [
      "\r",
      " 99%|█████████▉| 2026/2043 [00:08<00:00, 229.47it/s]"
     ]
    },
    {
     "name": "stdout",
     "output_type": "stream",
     "text": [
      "Done dt=2025-10-17/2025-10-17T190000.parquet\n"
     ]
    },
    {
     "name": "stdout",
     "output_type": "stream",
     "text": [
      "Done dt=2025-10-17/2025-10-17T230000.parquet\n"
     ]
    },
    {
     "name": "stderr",
     "output_type": "stream",
     "text": [
      "\r",
      " 99%|█████████▉| 2026/2043 [00:19<00:00, 229.47it/s]"
     ]
    },
    {
     "name": "stderr",
     "output_type": "stream",
     "text": [
      "\r",
      " 99%|█████████▉| 2028/2043 [00:23<00:00, 68.46it/s] "
     ]
    },
    {
     "name": "stdout",
     "output_type": "stream",
     "text": [
      "Done dt=2025-10-18/2025-10-18T010000.parquet\n"
     ]
    },
    {
     "name": "stderr",
     "output_type": "stream",
     "text": [
      "\r",
      " 99%|█████████▉| 2029/2043 [00:29<00:00, 47.10it/s]"
     ]
    },
    {
     "name": "stdout",
     "output_type": "stream",
     "text": [
      "Done dt=2025-10-18/2025-10-18T020000.parquet\n"
     ]
    },
    {
     "name": "stdout",
     "output_type": "stream",
     "text": [
      "Done dt=2025-10-18/2025-10-18T030000.parquet\n"
     ]
    },
    {
     "name": "stderr",
     "output_type": "stream",
     "text": [
      "\r",
      " 99%|█████████▉| 2029/2043 [00:40<00:00, 47.10it/s]"
     ]
    },
    {
     "name": "stderr",
     "output_type": "stream",
     "text": [
      "\r",
      " 99%|█████████▉| 2031/2043 [00:47<00:00, 21.84it/s]"
     ]
    },
    {
     "name": "stdout",
     "output_type": "stream",
     "text": [
      "Done dt=2025-10-18/2025-10-18T040000.parquet\n"
     ]
    },
    {
     "name": "stderr",
     "output_type": "stream",
     "text": [
      "\r",
      " 99%|█████████▉| 2032/2043 [00:53<00:00, 16.91it/s]"
     ]
    },
    {
     "name": "stdout",
     "output_type": "stream",
     "text": [
      "Done dt=2025-10-18/2025-10-18T060000.parquet\n"
     ]
    },
    {
     "name": "stdout",
     "output_type": "stream",
     "text": [
      "Done dt=2025-10-18/2025-10-18T070000.parquet\n"
     ]
    },
    {
     "name": "stdout",
     "output_type": "stream",
     "text": [
      "Done dt=2025-10-18/2025-10-18T080000.parquet\n"
     ]
    },
    {
     "name": "stderr",
     "output_type": "stream",
     "text": [
      "\r",
      " 99%|█████████▉| 2032/2043 [01:10<00:00, 16.91it/s]"
     ]
    },
    {
     "name": "stderr",
     "output_type": "stream",
     "text": [
      "\r",
      "100%|█████████▉| 2035/2043 [01:13<00:00,  8.65it/s]"
     ]
    },
    {
     "name": "stdout",
     "output_type": "stream",
     "text": [
      "Done dt=2025-10-18/2025-10-18T090000.parquet\n"
     ]
    },
    {
     "name": "stderr",
     "output_type": "stream",
     "text": [
      "\r",
      "100%|█████████▉| 2036/2043 [01:20<00:00,  7.03it/s]"
     ]
    },
    {
     "name": "stdout",
     "output_type": "stream",
     "text": [
      "Done dt=2025-10-18/2025-10-18T100000.parquet\n"
     ]
    },
    {
     "name": "stdout",
     "output_type": "stream",
     "text": [
      "Done dt=2025-10-18/2025-10-18T110000.parquet\n"
     ]
    },
    {
     "name": "stdout",
     "output_type": "stream",
     "text": [
      "Done dt=2025-10-18/2025-10-18T120000.parquet\n"
     ]
    },
    {
     "name": "stderr",
     "output_type": "stream",
     "text": [
      "\r",
      "100%|█████████▉| 2036/2043 [01:40<00:00,  7.03it/s]"
     ]
    },
    {
     "name": "stderr",
     "output_type": "stream",
     "text": [
      "\r",
      "100%|█████████▉| 2039/2043 [01:43<00:01,  3.67it/s]"
     ]
    },
    {
     "name": "stdout",
     "output_type": "stream",
     "text": [
      "Done dt=2025-10-18/2025-10-18T130000.parquet\n"
     ]
    },
    {
     "name": "stderr",
     "output_type": "stream",
     "text": [
      "\r",
      "100%|█████████▉| 2040/2043 [01:49<00:00,  3.09it/s]"
     ]
    },
    {
     "name": "stdout",
     "output_type": "stream",
     "text": [
      "Done dt=2025-10-18/2025-10-18T150000.parquet\n"
     ]
    },
    {
     "name": "stdout",
     "output_type": "stream",
     "text": [
      "Done dt=2025-10-18/2025-10-18T160000.parquet\n"
     ]
    },
    {
     "name": "stderr",
     "output_type": "stream",
     "text": [
      "\r",
      "100%|█████████▉| 2040/2043 [02:00<00:00,  3.09it/s]"
     ]
    },
    {
     "name": "stderr",
     "output_type": "stream",
     "text": [
      "\r",
      "100%|█████████▉| 2042/2043 [02:02<00:00,  2.15it/s]"
     ]
    },
    {
     "name": "stdout",
     "output_type": "stream",
     "text": [
      "Done dt=2025-10-18/2025-10-18T220000.parquet\n"
     ]
    },
    {
     "name": "stderr",
     "output_type": "stream",
     "text": [
      "\r",
      "100%|██████████| 2043/2043 [02:09<00:00,  1.78it/s]"
     ]
    },
    {
     "name": "stderr",
     "output_type": "stream",
     "text": [
      "\r",
      "100%|██████████| 2043/2043 [02:09<00:00, 15.83it/s]"
     ]
    },
    {
     "name": "stdout",
     "output_type": "stream",
     "text": [
      "Done dt=2025-10-19/2025-10-19T000000.parquet\n"
     ]
    },
    {
     "name": "stderr",
     "output_type": "stream",
     "text": [
      "\n"
     ]
    }
   ],
   "source": [
    "import polars as pl \n",
    "from tqdm import tqdm\n",
    "storage_options = {\n",
    "    \"account_name\": account_name,\n",
    "    \"account_key\":  account_key,\n",
    "}\n",
    "\n",
    "for ts, files in tqdm(groups.items()):\n",
    "    if ts not in need_process_ts:\n",
    "        continue\n",
    "    dt = ts[:10]\n",
    "    # if dt not in need_process:\n",
    "    #     continue\n",
    "    df = pl.scan_csv(f\"az://adjuststbuat/*_{ts}_*.csv.gz\", storage_options = storage_options,glob=True, has_header = True, null_values = [\"\",\"NULL\"], ignore_errors=True).select(pl.all().cast(pl.Utf8))\n",
    "    df.sink_parquet(f\"az://adjuststbuatprocessed/processing/dt={dt}/{ts}.parquet\", storage_options = storage_options, compression=\"snappy\")\n",
    "    print(f'Done dt={dt}/{ts}.parquet')\n",
    "        "
   ]
  },
  {
   "cell_type": "code",
   "execution_count": 7,
   "id": "4f46ff93",
   "metadata": {
    "execution": {
     "iopub.execute_input": "2025-10-19T02:04:30.846971Z",
     "iopub.status.busy": "2025-10-19T02:04:30.846790Z",
     "iopub.status.idle": "2025-10-19T02:04:30.850974Z",
     "shell.execute_reply": "2025-10-19T02:04:30.850227Z"
    },
    "papermill": {
     "duration": 0.009229,
     "end_time": "2025-10-19T02:04:30.851594",
     "exception": false,
     "start_time": "2025-10-19T02:04:30.842365",
     "status": "completed"
    },
    "tags": []
   },
   "outputs": [
    {
     "data": {
      "text/plain": [
       "{'2025-10-17', '2025-10-18', '2025-10-19'}"
      ]
     },
     "execution_count": 7,
     "metadata": {},
     "output_type": "execute_result"
    }
   ],
   "source": [
    "need_process = set([i.split(\"T\")[0] for i in need_process_ts])\n",
    "need_process"
   ]
  },
  {
   "cell_type": "code",
   "execution_count": 8,
   "id": "87bb8879",
   "metadata": {
    "execution": {
     "iopub.execute_input": "2025-10-19T02:04:30.859784Z",
     "iopub.status.busy": "2025-10-19T02:04:30.859626Z",
     "iopub.status.idle": "2025-10-19T02:04:39.309070Z",
     "shell.execute_reply": "2025-10-19T02:04:39.308262Z"
    },
    "papermill": {
     "duration": 8.454339,
     "end_time": "2025-10-19T02:04:39.309652",
     "exception": false,
     "start_time": "2025-10-19T02:04:30.855313",
     "status": "completed"
    },
    "tags": []
   },
   "outputs": [
    {
     "name": "stdout",
     "output_type": "stream",
     "text": [
      "\n",
      " Done 2025-10-17\n",
      "\n"
     ]
    },
    {
     "name": "stdout",
     "output_type": "stream",
     "text": [
      "\n",
      " Done 2025-10-19\n",
      "\n"
     ]
    },
    {
     "name": "stdout",
     "output_type": "stream",
     "text": [
      "\n",
      " Done 2025-10-18\n",
      "\n"
     ]
    }
   ],
   "source": [
    "for dt in need_process:\n",
    "  df = pl.scan_parquet(f\"az://adjuststbuatprocessed/processing/dt={dt}/*.parquet\", storage_options=storage_options,glob=True).with_columns(pl.lit(dt).alias(\"dt\"))\n",
    "  df.sink_parquet(f\"az://adjuststbuatprocessed/output/{dt}.parquet\", storage_options=storage_options, compression=\"snappy\")\n",
    "  print(f'\\n Done {dt}\\n')"
   ]
  },
  {
   "cell_type": "markdown",
   "id": "7988c808",
   "metadata": {
    "id": "2TvKr29qyJd_",
    "papermill": {
     "duration": 0.004756,
     "end_time": "2025-10-19T02:04:39.318522",
     "exception": false,
     "start_time": "2025-10-19T02:04:39.313766",
     "status": "completed"
    },
    "tags": []
   },
   "source": [
    "# Live"
   ]
  },
  {
   "cell_type": "code",
   "execution_count": 9,
   "id": "001056ef",
   "metadata": {
    "execution": {
     "iopub.execute_input": "2025-10-19T02:04:39.327089Z",
     "iopub.status.busy": "2025-10-19T02:04:39.326870Z",
     "iopub.status.idle": "2025-10-19T02:04:43.014385Z",
     "shell.execute_reply": "2025-10-19T02:04:43.013477Z"
    },
    "id": "EnaFsdZFxpwc",
    "papermill": {
     "duration": 3.692638,
     "end_time": "2025-10-19T02:04:43.014977",
     "exception": false,
     "start_time": "2025-10-19T02:04:39.322339",
     "status": "completed"
    },
    "tags": []
   },
   "outputs": [
    {
     "data": {
      "text/plain": [
       "['2025-10-17T200000',\n",
       " '2025-10-17T210000',\n",
       " '2025-10-17T220000',\n",
       " '2025-10-17T230000',\n",
       " '2025-10-18T000000']"
      ]
     },
     "execution_count": 9,
     "metadata": {},
     "output_type": "execute_result"
    }
   ],
   "source": [
    "# already_processed = [file.name.split('/')[-1].split('.')[0] for file in container_client.list_blobs() if file.name[:12] == 'live/output/']\n",
    "# already_processed[-5:]\n",
    "already_processed_ts = sorted([file.name.split('/')[-1].split(\".\")[0] for file in container_client.list_blobs() if (file.name.split('/')[0] + \"/\" + file.name.split('/')[1]) == 'live/processing'])\n",
    "already_processed_ts[-5:]"
   ]
  },
  {
   "cell_type": "code",
   "execution_count": 10,
   "id": "c8af4c52",
   "metadata": {
    "execution": {
     "iopub.execute_input": "2025-10-19T02:04:43.024265Z",
     "iopub.status.busy": "2025-10-19T02:04:43.024025Z",
     "iopub.status.idle": "2025-10-19T02:04:54.021791Z",
     "shell.execute_reply": "2025-10-19T02:04:54.020893Z"
    },
    "id": "I7Er6YEUyOsL",
    "papermill": {
     "duration": 11.003113,
     "end_time": "2025-10-19T02:04:54.022421",
     "exception": false,
     "start_time": "2025-10-19T02:04:43.019308",
     "status": "completed"
    },
    "tags": []
   },
   "outputs": [
    {
     "data": {
      "text/plain": [
       "['65n1fgov4zr4_2025-10-19T010000_762c775ae454d23f2c6b6a75623d14c7_2853a0.csv.gz',\n",
       " '65n1fgov4zr4_2025-10-19T010000_762c775ae454d23f2c6b6a75623d14c7_2853a1.csv.gz',\n",
       " '65n1fgov4zr4_2025-10-19T010000_762c775ae454d23f2c6b6a75623d14c7_be8220.csv.gz',\n",
       " '65n1fgov4zr4_2025-10-19T010000_762c775ae454d23f2c6b6a75623d14c7_be8221.csv.gz',\n",
       " '65n1fgov4zr4_2025-10-19T010000_762c775ae454d23f2c6b6a75623d14c7_c35750.csv.gz',\n",
       " '65n1fgov4zr4_2025-10-19T010000_762c775ae454d23f2c6b6a75623d14c7_c35751.csv.gz']"
      ]
     },
     "execution_count": 10,
     "metadata": {},
     "output_type": "execute_result"
    }
   ],
   "source": [
    "container_name_uat = \"adjuststblive\"\n",
    "container_client_uat = blob_service_client.get_container_client(container_name_uat)\n",
    "from collections import defaultdict\n",
    "files = [i.name for i in container_client_uat.list_blobs()]\n",
    "groups = defaultdict(list)\n",
    "for f in files:\n",
    "    dt = f.split('_')[1]\n",
    "    groups[dt].append(f)\n",
    "groups[dt]"
   ]
  },
  {
   "cell_type": "code",
   "execution_count": 11,
   "id": "10add854",
   "metadata": {
    "execution": {
     "iopub.execute_input": "2025-10-19T02:04:54.031819Z",
     "iopub.status.busy": "2025-10-19T02:04:54.031642Z",
     "iopub.status.idle": "2025-10-19T02:04:54.036826Z",
     "shell.execute_reply": "2025-10-19T02:04:54.035953Z"
    },
    "papermill": {
     "duration": 0.010602,
     "end_time": "2025-10-19T02:04:54.037413",
     "exception": false,
     "start_time": "2025-10-19T02:04:54.026811",
     "status": "completed"
    },
    "tags": []
   },
   "outputs": [
    {
     "data": {
      "text/plain": [
       "['2025-10-18T000000',\n",
       " '2025-10-18T010000',\n",
       " '2025-10-18T020000',\n",
       " '2025-10-18T030000',\n",
       " '2025-10-18T040000',\n",
       " '2025-10-18T050000',\n",
       " '2025-10-18T060000',\n",
       " '2025-10-18T070000',\n",
       " '2025-10-18T080000',\n",
       " '2025-10-18T090000',\n",
       " '2025-10-18T100000',\n",
       " '2025-10-18T110000',\n",
       " '2025-10-18T120000',\n",
       " '2025-10-18T130000',\n",
       " '2025-10-18T140000',\n",
       " '2025-10-18T150000',\n",
       " '2025-10-18T160000',\n",
       " '2025-10-18T170000',\n",
       " '2025-10-18T180000',\n",
       " '2025-10-18T190000',\n",
       " '2025-10-18T200000',\n",
       " '2025-10-18T210000',\n",
       " '2025-10-18T220000',\n",
       " '2025-10-18T230000',\n",
       " '2025-10-19T000000',\n",
       " '2025-10-19T010000']"
      ]
     },
     "execution_count": 11,
     "metadata": {},
     "output_type": "execute_result"
    }
   ],
   "source": [
    "# need_process = pd.date_range(start=already_processed[-1], end=today).strftime('%Y-%m-%d').to_list()\n",
    "# need_process\n",
    "\n",
    "B = datetime.strptime(dt, \"%Y-%m-%dT%H0000\")\n",
    "A = datetime.strptime(already_processed_ts[-1], \"%Y-%m-%dT%H0000\")\n",
    "need_process_ts =  pd.date_range(A, B, freq='h').strftime('%Y-%m-%dT%H0000').tolist()\n",
    "need_process_ts"
   ]
  },
  {
   "cell_type": "code",
   "execution_count": 12,
   "id": "9f10a8f2",
   "metadata": {
    "execution": {
     "iopub.execute_input": "2025-10-19T02:04:54.046574Z",
     "iopub.status.busy": "2025-10-19T02:04:54.046422Z",
     "iopub.status.idle": "2025-10-19T02:13:28.772989Z",
     "shell.execute_reply": "2025-10-19T02:13:28.772295Z"
    },
    "id": "g-W3s2nRyRY7",
    "papermill": {
     "duration": 514.732184,
     "end_time": "2025-10-19T02:13:28.773803",
     "exception": false,
     "start_time": "2025-10-19T02:04:54.041619",
     "status": "completed"
    },
    "tags": []
   },
   "outputs": [
    {
     "name": "stderr",
     "output_type": "stream",
     "text": [
      "\r",
      "  0%|          | 0/2080 [00:00<?, ?it/s]"
     ]
    },
    {
     "name": "stderr",
     "output_type": "stream",
     "text": [
      "\r",
      " 99%|█████████▉| 2055/2080 [00:25<00:00, 81.49it/s]"
     ]
    },
    {
     "name": "stdout",
     "output_type": "stream",
     "text": [
      "Done dt=2025-10-18/2025-10-18T000000.parquet\n"
     ]
    },
    {
     "name": "stderr",
     "output_type": "stream",
     "text": [
      "\r",
      " 99%|█████████▉| 2055/2080 [00:37<00:00, 81.49it/s]"
     ]
    },
    {
     "name": "stderr",
     "output_type": "stream",
     "text": [
      "\r",
      " 99%|█████████▉| 2056/2080 [00:48<00:00, 35.13it/s]"
     ]
    },
    {
     "name": "stdout",
     "output_type": "stream",
     "text": [
      "Done dt=2025-10-18/2025-10-18T010000.parquet\n"
     ]
    },
    {
     "name": "stderr",
     "output_type": "stream",
     "text": [
      "\r",
      " 99%|█████████▉| 2057/2080 [01:09<00:01, 20.17it/s]"
     ]
    },
    {
     "name": "stdout",
     "output_type": "stream",
     "text": [
      "Done dt=2025-10-18/2025-10-18T020000.parquet\n"
     ]
    },
    {
     "name": "stderr",
     "output_type": "stream",
     "text": [
      "\r",
      " 99%|█████████▉| 2058/2080 [01:34<00:01, 11.95it/s]"
     ]
    },
    {
     "name": "stdout",
     "output_type": "stream",
     "text": [
      "Done dt=2025-10-18/2025-10-18T030000.parquet\n"
     ]
    },
    {
     "name": "stderr",
     "output_type": "stream",
     "text": [
      "\r",
      " 99%|█████████▉| 2059/2080 [01:56<00:02,  7.80it/s]"
     ]
    },
    {
     "name": "stdout",
     "output_type": "stream",
     "text": [
      "Done dt=2025-10-18/2025-10-18T040000.parquet\n"
     ]
    },
    {
     "name": "stderr",
     "output_type": "stream",
     "text": [
      "\r",
      " 99%|█████████▉| 2060/2080 [02:17<00:03,  5.31it/s]"
     ]
    },
    {
     "name": "stdout",
     "output_type": "stream",
     "text": [
      "Done dt=2025-10-18/2025-10-18T050000.parquet\n"
     ]
    },
    {
     "name": "stderr",
     "output_type": "stream",
     "text": [
      "\r",
      " 99%|█████████▉| 2061/2080 [02:37<00:05,  3.69it/s]"
     ]
    },
    {
     "name": "stdout",
     "output_type": "stream",
     "text": [
      "Done dt=2025-10-18/2025-10-18T060000.parquet\n"
     ]
    },
    {
     "name": "stderr",
     "output_type": "stream",
     "text": [
      "\r",
      " 99%|█████████▉| 2062/2080 [02:57<00:06,  2.58it/s]"
     ]
    },
    {
     "name": "stdout",
     "output_type": "stream",
     "text": [
      "Done dt=2025-10-18/2025-10-18T070000.parquet\n"
     ]
    },
    {
     "name": "stderr",
     "output_type": "stream",
     "text": [
      "\r",
      " 99%|█████████▉| 2063/2080 [03:18<00:09,  1.80it/s]"
     ]
    },
    {
     "name": "stdout",
     "output_type": "stream",
     "text": [
      "Done dt=2025-10-18/2025-10-18T080000.parquet\n"
     ]
    },
    {
     "name": "stderr",
     "output_type": "stream",
     "text": [
      "\r",
      " 99%|█████████▉| 2064/2080 [03:40<00:12,  1.25it/s]"
     ]
    },
    {
     "name": "stdout",
     "output_type": "stream",
     "text": [
      "Done dt=2025-10-18/2025-10-18T090000.parquet\n"
     ]
    },
    {
     "name": "stderr",
     "output_type": "stream",
     "text": [
      "\r",
      " 99%|█████████▉| 2065/2080 [04:02<00:17,  1.15s/it]"
     ]
    },
    {
     "name": "stdout",
     "output_type": "stream",
     "text": [
      "Done dt=2025-10-18/2025-10-18T100000.parquet\n"
     ]
    },
    {
     "name": "stderr",
     "output_type": "stream",
     "text": [
      "\r",
      " 99%|█████████▉| 2066/2080 [04:28<00:23,  1.71s/it]"
     ]
    },
    {
     "name": "stdout",
     "output_type": "stream",
     "text": [
      "Done dt=2025-10-18/2025-10-18T110000.parquet\n"
     ]
    },
    {
     "name": "stderr",
     "output_type": "stream",
     "text": [
      "\r",
      " 99%|█████████▉| 2067/2080 [04:51<00:30,  2.38s/it]"
     ]
    },
    {
     "name": "stdout",
     "output_type": "stream",
     "text": [
      "Done dt=2025-10-18/2025-10-18T120000.parquet\n"
     ]
    },
    {
     "name": "stderr",
     "output_type": "stream",
     "text": [
      "\r",
      " 99%|█████████▉| 2068/2080 [05:15<00:39,  3.31s/it]"
     ]
    },
    {
     "name": "stdout",
     "output_type": "stream",
     "text": [
      "Done dt=2025-10-18/2025-10-18T130000.parquet\n"
     ]
    },
    {
     "name": "stderr",
     "output_type": "stream",
     "text": [
      "\r",
      " 99%|█████████▉| 2069/2080 [05:36<00:47,  4.34s/it]"
     ]
    },
    {
     "name": "stdout",
     "output_type": "stream",
     "text": [
      "Done dt=2025-10-18/2025-10-18T140000.parquet\n"
     ]
    },
    {
     "name": "stderr",
     "output_type": "stream",
     "text": [
      "\r",
      "100%|█████████▉| 2070/2080 [05:56<00:55,  5.52s/it]"
     ]
    },
    {
     "name": "stdout",
     "output_type": "stream",
     "text": [
      "Done dt=2025-10-18/2025-10-18T150000.parquet\n"
     ]
    },
    {
     "name": "stderr",
     "output_type": "stream",
     "text": [
      "\r",
      "100%|█████████▉| 2071/2080 [06:14<01:00,  6.74s/it]"
     ]
    },
    {
     "name": "stdout",
     "output_type": "stream",
     "text": [
      "Done dt=2025-10-18/2025-10-18T160000.parquet\n"
     ]
    },
    {
     "name": "stderr",
     "output_type": "stream",
     "text": [
      "\r",
      "100%|█████████▉| 2072/2080 [06:31<01:04,  8.08s/it]"
     ]
    },
    {
     "name": "stdout",
     "output_type": "stream",
     "text": [
      "Done dt=2025-10-18/2025-10-18T170000.parquet\n"
     ]
    },
    {
     "name": "stderr",
     "output_type": "stream",
     "text": [
      "\r",
      "100%|█████████▉| 2073/2080 [06:45<01:02,  8.96s/it]"
     ]
    },
    {
     "name": "stdout",
     "output_type": "stream",
     "text": [
      "Done dt=2025-10-18/2025-10-18T180000.parquet\n"
     ]
    },
    {
     "name": "stderr",
     "output_type": "stream",
     "text": [
      "\r",
      "100%|█████████▉| 2074/2080 [06:58<00:57,  9.65s/it]"
     ]
    },
    {
     "name": "stdout",
     "output_type": "stream",
     "text": [
      "Done dt=2025-10-18/2025-10-18T190000.parquet\n"
     ]
    },
    {
     "name": "stderr",
     "output_type": "stream",
     "text": [
      "\r",
      "100%|█████████▉| 2075/2080 [07:10<00:50, 10.20s/it]"
     ]
    },
    {
     "name": "stdout",
     "output_type": "stream",
     "text": [
      "Done dt=2025-10-18/2025-10-18T200000.parquet\n"
     ]
    },
    {
     "name": "stderr",
     "output_type": "stream",
     "text": [
      "\r",
      "100%|█████████▉| 2076/2080 [07:23<00:42, 10.72s/it]"
     ]
    },
    {
     "name": "stdout",
     "output_type": "stream",
     "text": [
      "Done dt=2025-10-18/2025-10-18T210000.parquet\n"
     ]
    },
    {
     "name": "stderr",
     "output_type": "stream",
     "text": [
      "\r",
      "100%|█████████▉| 2077/2080 [07:36<00:34, 11.35s/it]"
     ]
    },
    {
     "name": "stdout",
     "output_type": "stream",
     "text": [
      "Done dt=2025-10-18/2025-10-18T220000.parquet\n"
     ]
    },
    {
     "name": "stderr",
     "output_type": "stream",
     "text": [
      "\r",
      "100%|█████████▉| 2078/2080 [07:52<00:25, 12.51s/it]"
     ]
    },
    {
     "name": "stdout",
     "output_type": "stream",
     "text": [
      "Done dt=2025-10-18/2025-10-18T230000.parquet\n"
     ]
    },
    {
     "name": "stderr",
     "output_type": "stream",
     "text": [
      "\r",
      "100%|█████████▉| 2079/2080 [08:13<00:14, 14.82s/it]"
     ]
    },
    {
     "name": "stdout",
     "output_type": "stream",
     "text": [
      "Done dt=2025-10-19/2025-10-19T000000.parquet\n"
     ]
    },
    {
     "name": "stderr",
     "output_type": "stream",
     "text": [
      "\r",
      "100%|██████████| 2080/2080 [08:34<00:00, 16.50s/it]"
     ]
    },
    {
     "name": "stderr",
     "output_type": "stream",
     "text": [
      "\r",
      "100%|██████████| 2080/2080 [08:34<00:00,  4.04it/s]"
     ]
    },
    {
     "name": "stdout",
     "output_type": "stream",
     "text": [
      "Done dt=2025-10-19/2025-10-19T010000.parquet\n"
     ]
    },
    {
     "name": "stderr",
     "output_type": "stream",
     "text": [
      "\n"
     ]
    }
   ],
   "source": [
    "storage_options = {\n",
    "    \"account_name\": account_name,\n",
    "    \"account_key\":  account_key,\n",
    "}\n",
    "\n",
    "for ts, files in tqdm(groups.items()):\n",
    "    if ts not in need_process_ts: continue\n",
    "    dt = ts[:10]\n",
    "    # if dt not in need_process:\n",
    "    #     continue\n",
    "    df = pl.scan_csv(f\"az://adjuststblive/*_{ts}_*.csv.gz\", storage_options = storage_options,glob=True, has_header = True, null_values = [\"\",\"NULL\"], ignore_errors=True).select(pl.all().cast(pl.Utf8))\n",
    "    df.sink_parquet(f\"az://adjuststbuatprocessed/live/processing/dt={dt}/{ts}.parquet\", storage_options = storage_options, compression=\"snappy\")\n",
    "    print(f'Done dt={dt}/{ts}.parquet')\n",
    "        "
   ]
  },
  {
   "cell_type": "code",
   "execution_count": 13,
   "id": "eaae937f",
   "metadata": {
    "execution": {
     "iopub.execute_input": "2025-10-19T02:13:28.787410Z",
     "iopub.status.busy": "2025-10-19T02:13:28.787242Z",
     "iopub.status.idle": "2025-10-19T02:13:28.791305Z",
     "shell.execute_reply": "2025-10-19T02:13:28.790619Z"
    },
    "papermill": {
     "duration": 0.011756,
     "end_time": "2025-10-19T02:13:28.792065",
     "exception": false,
     "start_time": "2025-10-19T02:13:28.780309",
     "status": "completed"
    },
    "tags": []
   },
   "outputs": [
    {
     "data": {
      "text/plain": [
       "{'2025-10-18', '2025-10-19'}"
      ]
     },
     "execution_count": 13,
     "metadata": {},
     "output_type": "execute_result"
    }
   ],
   "source": [
    "need_process = set([i.split(\"T\")[0] for i in need_process_ts])\n",
    "need_process"
   ]
  },
  {
   "cell_type": "code",
   "execution_count": 14,
   "id": "0b909e8e",
   "metadata": {
    "execution": {
     "iopub.execute_input": "2025-10-19T02:13:28.805599Z",
     "iopub.status.busy": "2025-10-19T02:13:28.805403Z",
     "iopub.status.idle": "2025-10-19T02:15:02.361961Z",
     "shell.execute_reply": "2025-10-19T02:15:02.361003Z"
    },
    "id": "sBm7rfFUyePJ",
    "papermill": {
     "duration": 93.570248,
     "end_time": "2025-10-19T02:15:02.368688",
     "exception": false,
     "start_time": "2025-10-19T02:13:28.798440",
     "status": "completed"
    },
    "tags": []
   },
   "outputs": [
    {
     "name": "stdout",
     "output_type": "stream",
     "text": [
      "\n",
      " Done 2025-10-19\n",
      "\n"
     ]
    },
    {
     "name": "stdout",
     "output_type": "stream",
     "text": [
      "\n",
      " Done 2025-10-18\n",
      "\n"
     ]
    }
   ],
   "source": [
    "for dt in need_process:\n",
    "  df = pl.scan_parquet(f\"az://adjuststbuatprocessed/live/processing/dt={dt}/*.parquet\", storage_options=storage_options,glob=True).with_columns(pl.lit(dt).alias(\"dt\"))\n",
    "  df.sink_parquet(f\"az://adjuststbuatprocessed/live/output/{dt}.parquet\", storage_options=storage_options, compression=\"snappy\")\n",
    "  print(f'\\n Done {dt}\\n')"
   ]
  }
 ],
 "metadata": {
  "colab": {
   "authorship_tag": "ABX9TyOfzO6uvqUX+Tt89Y73G9E8",
   "include_colab_link": true,
   "provenance": []
  },
  "kernelspec": {
   "display_name": "Python 3",
   "name": "python3"
  },
  "language_info": {
   "codemirror_mode": {
    "name": "ipython",
    "version": 3
   },
   "file_extension": ".py",
   "mimetype": "text/x-python",
   "name": "python",
   "nbconvert_exporter": "python",
   "pygments_lexer": "ipython3",
   "version": "3.11.14"
  },
  "papermill": {
   "default_parameters": {},
   "duration": 776.159913,
   "end_time": "2025-10-19T02:15:03.293853",
   "environment_variables": {},
   "exception": null,
   "input_path": "notebooks/ADJUST_JOB.ipynb",
   "output_path": "outputs/ADJUST_JOB_2025-10-19.ipynb",
   "parameters": {
    "RUN_DATE": "2025-10-19"
   },
   "start_time": "2025-10-19T02:02:07.133940",
   "version": "2.6.0"
  }
 },
 "nbformat": 4,
 "nbformat_minor": 5
}