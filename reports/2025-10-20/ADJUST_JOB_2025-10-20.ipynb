{
 "cells": [
  {
   "cell_type": "code",
   "execution_count": 1,
   "id": "f8ebdcf0",
   "metadata": {
    "execution": {
     "iopub.execute_input": "2025-10-20T01:30:28.318304Z",
     "iopub.status.busy": "2025-10-20T01:30:28.318082Z",
     "iopub.status.idle": "2025-10-20T01:30:28.323561Z",
     "shell.execute_reply": "2025-10-20T01:30:28.322737Z"
    },
    "papermill": {
     "duration": 0.0109,
     "end_time": "2025-10-20T01:30:28.324218",
     "exception": false,
     "start_time": "2025-10-20T01:30:28.313318",
     "status": "completed"
    },
    "tags": [
     "injected-parameters"
    ]
   },
   "outputs": [],
   "source": [
    "# Parameters\n",
    "RUN_DATE = \"2025-10-20\"\n"
   ]
  },
  {
   "cell_type": "markdown",
   "id": "1d136160",
   "metadata": {
    "colab_type": "text",
    "id": "view-in-github",
    "papermill": {
     "duration": 0.001907,
     "end_time": "2025-10-20T01:30:28.328431",
     "exception": false,
     "start_time": "2025-10-20T01:30:28.326524",
     "status": "completed"
    },
    "tags": []
   },
   "source": [
    "<a href=\"https://colab.research.google.com/github/HieuNguyenPhi/ADJ_JOBS/blob/main/notebooks/ADJUST_JOB.ipynb\" target=\"_parent\"><img src=\"https://colab.research.google.com/assets/colab-badge.svg\" alt=\"Open In Colab\"/></a>"
   ]
  },
  {
   "cell_type": "markdown",
   "id": "59716074",
   "metadata": {
    "papermill": {
     "duration": 0.002698,
     "end_time": "2025-10-20T01:30:28.333000",
     "exception": false,
     "start_time": "2025-10-20T01:30:28.330302",
     "status": "completed"
    },
    "tags": []
   },
   "source": [
    "# UAT"
   ]
  },
  {
   "cell_type": "code",
   "execution_count": 2,
   "id": "84dfb062",
   "metadata": {
    "execution": {
     "iopub.execute_input": "2025-10-20T01:30:28.337689Z",
     "iopub.status.busy": "2025-10-20T01:30:28.337525Z",
     "iopub.status.idle": "2025-10-20T01:30:34.988914Z",
     "shell.execute_reply": "2025-10-20T01:30:34.988138Z"
    },
    "id": "ycUR2r1dq1Nm",
    "papermill": {
     "duration": 6.65483,
     "end_time": "2025-10-20T01:30:34.989785",
     "exception": false,
     "start_time": "2025-10-20T01:30:28.334955",
     "status": "completed"
    },
    "tags": []
   },
   "outputs": [
    {
     "data": {
      "text/plain": [
       "['2025-10-18T130000',\n",
       " '2025-10-18T150000',\n",
       " '2025-10-18T160000',\n",
       " '2025-10-18T220000',\n",
       " '2025-10-19T000000']"
      ]
     },
     "execution_count": 2,
     "metadata": {},
     "output_type": "execute_result"
    }
   ],
   "source": [
    "import os\n",
    "from azure.storage.blob import BlobServiceClient\n",
    "\n",
    "account_name = os.getenv('ACCOUNT_NAME')\n",
    "account_key = os.getenv('ACCOUNT_KEY')\n",
    "# Replace with your Azure Storage account name and SAS token or connection string\n",
    "connect_str = f\"DefaultEndpointsProtocol=https;AccountName={account_name};AccountKey={account_key};EndpointSuffix=core.windows.net\"\n",
    "blob_service_client = BlobServiceClient.from_connection_string(connect_str)\n",
    "container_list = blob_service_client.list_containers()\n",
    "container_name = \"adjuststbuatprocessed\" #os.getenv('CONTAINER_NAME')\n",
    "container_client = blob_service_client.get_container_client(container_name)\n",
    "# already_processed = [file.name.split('/')[1].split('.')[0] for file in container_client.list_blobs() if file.name.split('/')[0] == 'output']\n",
    "# already_processed[-5:]\n",
    "already_processed_ts = sorted([file.name.split('/')[-1].split(\".\")[0] for file in container_client.list_blobs() if file.name.split('/')[0] == 'processing'])\n",
    "already_processed_ts[-5:]"
   ]
  },
  {
   "cell_type": "code",
   "execution_count": 3,
   "id": "56d90ce3",
   "metadata": {
    "execution": {
     "iopub.execute_input": "2025-10-20T01:30:34.995300Z",
     "iopub.status.busy": "2025-10-20T01:30:34.995047Z",
     "iopub.status.idle": "2025-10-20T01:30:43.494451Z",
     "shell.execute_reply": "2025-10-20T01:30:43.493651Z"
    },
    "id": "xyPuVC12s7fn",
    "papermill": {
     "duration": 8.503187,
     "end_time": "2025-10-20T01:30:43.495377",
     "exception": false,
     "start_time": "2025-10-20T01:30:34.992190",
     "status": "completed"
    },
    "tags": []
   },
   "outputs": [
    {
     "data": {
      "text/plain": [
       "['rsh20bkkb4zk_2025-10-20T000000_762c775ae454d23f2c6b6a75623d14c7_c35751.csv.gz']"
      ]
     },
     "execution_count": 3,
     "metadata": {},
     "output_type": "execute_result"
    }
   ],
   "source": [
    "container_name_uat = \"adjuststbuat\"\n",
    "container_client_uat = blob_service_client.get_container_client(container_name_uat)\n",
    "from collections import defaultdict\n",
    "files = [i.name for i in container_client_uat.list_blobs()]\n",
    "groups = defaultdict(list)\n",
    "for f in files:\n",
    "    dt = f.split('_')[1]\n",
    "    groups[dt].append(f)\n",
    "groups[dt]"
   ]
  },
  {
   "cell_type": "code",
   "execution_count": 4,
   "id": "ca2641ca",
   "metadata": {
    "execution": {
     "iopub.execute_input": "2025-10-20T01:30:43.501103Z",
     "iopub.status.busy": "2025-10-20T01:30:43.500914Z",
     "iopub.status.idle": "2025-10-20T01:30:43.503775Z",
     "shell.execute_reply": "2025-10-20T01:30:43.503061Z"
    },
    "papermill": {
     "duration": 0.00648,
     "end_time": "2025-10-20T01:30:43.504417",
     "exception": false,
     "start_time": "2025-10-20T01:30:43.497937",
     "status": "completed"
    },
    "tags": []
   },
   "outputs": [],
   "source": [
    "# from datetime import date, timedelta, datetime\n",
    "# import pandas as pd\n",
    "# today = date.today().strftime('%Y-%m-%d')\n",
    "# yesterday = (date.today() - timedelta(days = 1) ).strftime('%Y-%m-%d')\n",
    "# check_date = dt.split(\"T\")[0]\n",
    "# if check_date == today:\n",
    "#     need_process = pd.date_range(start=already_processed[-1], end=today).strftime('%Y-%m-%d').to_list()\n",
    "# else:\n",
    "#     need_process = pd.date_range(start=already_processed[-1], end=yesterday).strftime('%Y-%m-%d').to_list()\n",
    "# need_process"
   ]
  },
  {
   "cell_type": "code",
   "execution_count": 5,
   "id": "77f9b145",
   "metadata": {
    "execution": {
     "iopub.execute_input": "2025-10-20T01:30:43.509516Z",
     "iopub.status.busy": "2025-10-20T01:30:43.509362Z",
     "iopub.status.idle": "2025-10-20T01:30:43.862297Z",
     "shell.execute_reply": "2025-10-20T01:30:43.861497Z"
    },
    "papermill": {
     "duration": 0.356479,
     "end_time": "2025-10-20T01:30:43.863083",
     "exception": false,
     "start_time": "2025-10-20T01:30:43.506604",
     "status": "completed"
    },
    "tags": []
   },
   "outputs": [
    {
     "data": {
      "text/plain": [
       "['2025-10-18T220000',\n",
       " '2025-10-18T230000',\n",
       " '2025-10-19T000000',\n",
       " '2025-10-19T010000',\n",
       " '2025-10-19T020000',\n",
       " '2025-10-19T030000',\n",
       " '2025-10-19T040000',\n",
       " '2025-10-19T050000',\n",
       " '2025-10-19T060000',\n",
       " '2025-10-19T070000',\n",
       " '2025-10-19T080000',\n",
       " '2025-10-19T090000',\n",
       " '2025-10-19T100000',\n",
       " '2025-10-19T110000',\n",
       " '2025-10-19T120000',\n",
       " '2025-10-19T130000',\n",
       " '2025-10-19T140000',\n",
       " '2025-10-19T150000',\n",
       " '2025-10-19T160000',\n",
       " '2025-10-19T170000',\n",
       " '2025-10-19T180000',\n",
       " '2025-10-19T190000',\n",
       " '2025-10-19T200000',\n",
       " '2025-10-19T210000',\n",
       " '2025-10-19T220000',\n",
       " '2025-10-19T230000',\n",
       " '2025-10-20T000000']"
      ]
     },
     "execution_count": 5,
     "metadata": {},
     "output_type": "execute_result"
    }
   ],
   "source": [
    "from datetime import datetime\n",
    "import pandas as pd\n",
    "B = datetime.strptime(dt, \"%Y-%m-%dT%H0000\")\n",
    "A = datetime.strptime(already_processed_ts[-2], \"%Y-%m-%dT%H0000\")\n",
    "need_process_ts =  pd.date_range(A, B, freq='h').strftime('%Y-%m-%dT%H0000').tolist()\n",
    "need_process_ts"
   ]
  },
  {
   "cell_type": "code",
   "execution_count": 6,
   "id": "eb20943e",
   "metadata": {
    "execution": {
     "iopub.execute_input": "2025-10-20T01:30:43.869168Z",
     "iopub.status.busy": "2025-10-20T01:30:43.868897Z",
     "iopub.status.idle": "2025-10-20T01:32:14.238640Z",
     "shell.execute_reply": "2025-10-20T01:32:14.237863Z"
    },
    "papermill": {
     "duration": 90.373693,
     "end_time": "2025-10-20T01:32:14.239398",
     "exception": false,
     "start_time": "2025-10-20T01:30:43.865705",
     "status": "completed"
    },
    "tags": []
   },
   "outputs": [
    {
     "name": "stderr",
     "output_type": "stream",
     "text": [
      "\r",
      "  0%|          | 0/2052 [00:00<?, ?it/s]"
     ]
    },
    {
     "name": "stderr",
     "output_type": "stream",
     "text": [
      "\r",
      "100%|█████████▉| 2042/2052 [00:10<00:00, 191.71it/s]"
     ]
    },
    {
     "name": "stdout",
     "output_type": "stream",
     "text": [
      "Done dt=2025-10-18/2025-10-18T220000.parquet\n"
     ]
    },
    {
     "name": "stdout",
     "output_type": "stream",
     "text": [
      "Done dt=2025-10-19/2025-10-19T000000.parquet\n"
     ]
    },
    {
     "name": "stdout",
     "output_type": "stream",
     "text": [
      "Done dt=2025-10-19/2025-10-19T020000.parquet\n"
     ]
    },
    {
     "name": "stderr",
     "output_type": "stream",
     "text": [
      "\r",
      "100%|█████████▉| 2042/2052 [00:29<00:00, 191.71it/s]"
     ]
    },
    {
     "name": "stderr",
     "output_type": "stream",
     "text": [
      "\r",
      "100%|█████████▉| 2045/2052 [00:36<00:00, 43.65it/s] "
     ]
    },
    {
     "name": "stdout",
     "output_type": "stream",
     "text": [
      "Done dt=2025-10-19/2025-10-19T030000.parquet\n"
     ]
    },
    {
     "name": "stderr",
     "output_type": "stream",
     "text": [
      "\r",
      "100%|█████████▉| 2046/2052 [00:43<00:00, 32.76it/s]"
     ]
    },
    {
     "name": "stdout",
     "output_type": "stream",
     "text": [
      "Done dt=2025-10-19/2025-10-19T050000.parquet\n"
     ]
    },
    {
     "name": "stderr",
     "output_type": "stream",
     "text": [
      "\r",
      "100%|█████████▉| 2047/2052 [00:51<00:00, 24.00it/s]"
     ]
    },
    {
     "name": "stdout",
     "output_type": "stream",
     "text": [
      "Done dt=2025-10-19/2025-10-19T070000.parquet\n"
     ]
    },
    {
     "name": "stderr",
     "output_type": "stream",
     "text": [
      "\r",
      "100%|█████████▉| 2048/2052 [00:59<00:00, 17.35it/s]"
     ]
    },
    {
     "name": "stdout",
     "output_type": "stream",
     "text": [
      "Done dt=2025-10-19/2025-10-19T100000.parquet\n"
     ]
    },
    {
     "name": "stderr",
     "output_type": "stream",
     "text": [
      "\r",
      "100%|█████████▉| 2049/2052 [01:07<00:00, 12.55it/s]"
     ]
    },
    {
     "name": "stdout",
     "output_type": "stream",
     "text": [
      "Done dt=2025-10-19/2025-10-19T140000.parquet\n"
     ]
    },
    {
     "name": "stderr",
     "output_type": "stream",
     "text": [
      "\r",
      "100%|█████████▉| 2050/2052 [01:14<00:00,  8.99it/s]"
     ]
    },
    {
     "name": "stdout",
     "output_type": "stream",
     "text": [
      "Done dt=2025-10-19/2025-10-19T160000.parquet\n"
     ]
    },
    {
     "name": "stderr",
     "output_type": "stream",
     "text": [
      "\r",
      "100%|█████████▉| 2051/2052 [01:22<00:00,  6.43it/s]"
     ]
    },
    {
     "name": "stdout",
     "output_type": "stream",
     "text": [
      "Done dt=2025-10-19/2025-10-19T230000.parquet\n"
     ]
    },
    {
     "name": "stderr",
     "output_type": "stream",
     "text": [
      "\r",
      "100%|██████████| 2052/2052 [01:30<00:00,  4.60it/s]"
     ]
    },
    {
     "name": "stderr",
     "output_type": "stream",
     "text": [
      "\r",
      "100%|██████████| 2052/2052 [01:30<00:00, 22.72it/s]"
     ]
    },
    {
     "name": "stdout",
     "output_type": "stream",
     "text": [
      "Done dt=2025-10-20/2025-10-20T000000.parquet\n"
     ]
    },
    {
     "name": "stderr",
     "output_type": "stream",
     "text": [
      "\n"
     ]
    }
   ],
   "source": [
    "import polars as pl \n",
    "from tqdm import tqdm\n",
    "storage_options = {\n",
    "    \"account_name\": account_name,\n",
    "    \"account_key\":  account_key,\n",
    "}\n",
    "\n",
    "for ts, files in tqdm(groups.items()):\n",
    "    if ts not in need_process_ts:\n",
    "        continue\n",
    "    dt = ts[:10]\n",
    "    # if dt not in need_process:\n",
    "    #     continue\n",
    "    df = pl.scan_csv(f\"az://adjuststbuat/*_{ts}_*.csv.gz\", storage_options = storage_options,glob=True, has_header = True, null_values = [\"\",\"NULL\"], ignore_errors=True).select(pl.all().cast(pl.Utf8))\n",
    "    df.sink_parquet(f\"az://adjuststbuatprocessed/processing/dt={dt}/{ts}.parquet\", storage_options = storage_options, compression=\"snappy\")\n",
    "    print(f'Done dt={dt}/{ts}.parquet')\n",
    "        "
   ]
  },
  {
   "cell_type": "code",
   "execution_count": 7,
   "id": "2e3774ed",
   "metadata": {
    "execution": {
     "iopub.execute_input": "2025-10-20T01:32:14.247429Z",
     "iopub.status.busy": "2025-10-20T01:32:14.247184Z",
     "iopub.status.idle": "2025-10-20T01:32:14.251653Z",
     "shell.execute_reply": "2025-10-20T01:32:14.250837Z"
    },
    "papermill": {
     "duration": 0.009282,
     "end_time": "2025-10-20T01:32:14.252229",
     "exception": false,
     "start_time": "2025-10-20T01:32:14.242947",
     "status": "completed"
    },
    "tags": []
   },
   "outputs": [
    {
     "data": {
      "text/plain": [
       "{'2025-10-18', '2025-10-19', '2025-10-20'}"
      ]
     },
     "execution_count": 7,
     "metadata": {},
     "output_type": "execute_result"
    }
   ],
   "source": [
    "need_process = set([i.split(\"T\")[0] for i in need_process_ts])\n",
    "need_process"
   ]
  },
  {
   "cell_type": "code",
   "execution_count": 8,
   "id": "fd40e24b",
   "metadata": {
    "execution": {
     "iopub.execute_input": "2025-10-20T01:32:14.260000Z",
     "iopub.status.busy": "2025-10-20T01:32:14.259754Z",
     "iopub.status.idle": "2025-10-20T01:32:23.409863Z",
     "shell.execute_reply": "2025-10-20T01:32:23.409004Z"
    },
    "papermill": {
     "duration": 9.155037,
     "end_time": "2025-10-20T01:32:23.410743",
     "exception": false,
     "start_time": "2025-10-20T01:32:14.255706",
     "status": "completed"
    },
    "tags": []
   },
   "outputs": [
    {
     "name": "stdout",
     "output_type": "stream",
     "text": [
      "\n",
      " Done 2025-10-20\n",
      "\n"
     ]
    },
    {
     "name": "stdout",
     "output_type": "stream",
     "text": [
      "\n",
      " Done 2025-10-18\n",
      "\n"
     ]
    },
    {
     "name": "stdout",
     "output_type": "stream",
     "text": [
      "\n",
      " Done 2025-10-19\n",
      "\n"
     ]
    }
   ],
   "source": [
    "for dt in need_process:\n",
    "  df = pl.scan_parquet(f\"az://adjuststbuatprocessed/processing/dt={dt}/*.parquet\", storage_options=storage_options,glob=True).with_columns(pl.lit(dt).alias(\"dt\"))\n",
    "  df.sink_parquet(f\"az://adjuststbuatprocessed/output/{dt}.parquet\", storage_options=storage_options, compression=\"snappy\")\n",
    "  print(f'\\n Done {dt}\\n')"
   ]
  },
  {
   "cell_type": "markdown",
   "id": "171c1516",
   "metadata": {
    "id": "2TvKr29qyJd_",
    "papermill": {
     "duration": 0.00341,
     "end_time": "2025-10-20T01:32:23.417841",
     "exception": false,
     "start_time": "2025-10-20T01:32:23.414431",
     "status": "completed"
    },
    "tags": []
   },
   "source": [
    "# Live"
   ]
  },
  {
   "cell_type": "code",
   "execution_count": 9,
   "id": "f28352da",
   "metadata": {
    "execution": {
     "iopub.execute_input": "2025-10-20T01:32:23.425753Z",
     "iopub.status.busy": "2025-10-20T01:32:23.425332Z",
     "iopub.status.idle": "2025-10-20T01:32:27.610070Z",
     "shell.execute_reply": "2025-10-20T01:32:27.609345Z"
    },
    "id": "EnaFsdZFxpwc",
    "papermill": {
     "duration": 4.189519,
     "end_time": "2025-10-20T01:32:27.610676",
     "exception": false,
     "start_time": "2025-10-20T01:32:23.421157",
     "status": "completed"
    },
    "tags": []
   },
   "outputs": [
    {
     "data": {
      "text/plain": [
       "['2025-10-18T210000',\n",
       " '2025-10-18T220000',\n",
       " '2025-10-18T230000',\n",
       " '2025-10-19T000000',\n",
       " '2025-10-19T010000']"
      ]
     },
     "execution_count": 9,
     "metadata": {},
     "output_type": "execute_result"
    }
   ],
   "source": [
    "# already_processed = [file.name.split('/')[-1].split('.')[0] for file in container_client.list_blobs() if file.name[:12] == 'live/output/']\n",
    "# already_processed[-5:]\n",
    "already_processed_ts = sorted([file.name.split('/')[-1].split(\".\")[0] for file in container_client.list_blobs() if (file.name.split('/')[0] + \"/\" + file.name.split('/')[1]) == 'live/processing'])\n",
    "already_processed_ts[-5:]"
   ]
  },
  {
   "cell_type": "code",
   "execution_count": 10,
   "id": "62b567ae",
   "metadata": {
    "execution": {
     "iopub.execute_input": "2025-10-20T01:32:27.619053Z",
     "iopub.status.busy": "2025-10-20T01:32:27.618877Z",
     "iopub.status.idle": "2025-10-20T01:32:40.188264Z",
     "shell.execute_reply": "2025-10-20T01:32:40.187465Z"
    },
    "id": "I7Er6YEUyOsL",
    "papermill": {
     "duration": 12.574692,
     "end_time": "2025-10-20T01:32:40.189180",
     "exception": false,
     "start_time": "2025-10-20T01:32:27.614488",
     "status": "completed"
    },
    "tags": []
   },
   "outputs": [
    {
     "data": {
      "text/plain": [
       "['65n1fgov4zr4_2025-10-20T000000_762c775ae454d23f2c6b6a75623d14c7_2853a0.csv.gz',\n",
       " '65n1fgov4zr4_2025-10-20T000000_762c775ae454d23f2c6b6a75623d14c7_2853a1.csv.gz',\n",
       " '65n1fgov4zr4_2025-10-20T000000_762c775ae454d23f2c6b6a75623d14c7_be8220.csv.gz',\n",
       " '65n1fgov4zr4_2025-10-20T000000_762c775ae454d23f2c6b6a75623d14c7_be8221.csv.gz',\n",
       " '65n1fgov4zr4_2025-10-20T000000_762c775ae454d23f2c6b6a75623d14c7_c35750.csv.gz',\n",
       " '65n1fgov4zr4_2025-10-20T000000_762c775ae454d23f2c6b6a75623d14c7_c35751.csv.gz']"
      ]
     },
     "execution_count": 10,
     "metadata": {},
     "output_type": "execute_result"
    }
   ],
   "source": [
    "container_name_uat = \"adjuststblive\"\n",
    "container_client_uat = blob_service_client.get_container_client(container_name_uat)\n",
    "from collections import defaultdict\n",
    "files = [i.name for i in container_client_uat.list_blobs()]\n",
    "groups = defaultdict(list)\n",
    "for f in files:\n",
    "    dt = f.split('_')[1]\n",
    "    groups[dt].append(f)\n",
    "groups[dt]"
   ]
  },
  {
   "cell_type": "code",
   "execution_count": 11,
   "id": "76a6c729",
   "metadata": {
    "execution": {
     "iopub.execute_input": "2025-10-20T01:32:40.197686Z",
     "iopub.status.busy": "2025-10-20T01:32:40.197493Z",
     "iopub.status.idle": "2025-10-20T01:32:40.202604Z",
     "shell.execute_reply": "2025-10-20T01:32:40.201955Z"
    },
    "papermill": {
     "duration": 0.010256,
     "end_time": "2025-10-20T01:32:40.203415",
     "exception": false,
     "start_time": "2025-10-20T01:32:40.193159",
     "status": "completed"
    },
    "tags": []
   },
   "outputs": [
    {
     "data": {
      "text/plain": [
       "['2025-10-19T010000',\n",
       " '2025-10-19T020000',\n",
       " '2025-10-19T030000',\n",
       " '2025-10-19T040000',\n",
       " '2025-10-19T050000',\n",
       " '2025-10-19T060000',\n",
       " '2025-10-19T070000',\n",
       " '2025-10-19T080000',\n",
       " '2025-10-19T090000',\n",
       " '2025-10-19T100000',\n",
       " '2025-10-19T110000',\n",
       " '2025-10-19T120000',\n",
       " '2025-10-19T130000',\n",
       " '2025-10-19T140000',\n",
       " '2025-10-19T150000',\n",
       " '2025-10-19T160000',\n",
       " '2025-10-19T170000',\n",
       " '2025-10-19T180000',\n",
       " '2025-10-19T190000',\n",
       " '2025-10-19T200000',\n",
       " '2025-10-19T210000',\n",
       " '2025-10-19T220000',\n",
       " '2025-10-19T230000',\n",
       " '2025-10-20T000000']"
      ]
     },
     "execution_count": 11,
     "metadata": {},
     "output_type": "execute_result"
    }
   ],
   "source": [
    "# need_process = pd.date_range(start=already_processed[-1], end=today).strftime('%Y-%m-%d').to_list()\n",
    "# need_process\n",
    "\n",
    "B = datetime.strptime(dt, \"%Y-%m-%dT%H0000\")\n",
    "A = datetime.strptime(already_processed_ts[-1], \"%Y-%m-%dT%H0000\")\n",
    "need_process_ts =  pd.date_range(A, B, freq='h').strftime('%Y-%m-%dT%H0000').tolist()\n",
    "need_process_ts"
   ]
  },
  {
   "cell_type": "code",
   "execution_count": 12,
   "id": "96d5307d",
   "metadata": {
    "execution": {
     "iopub.execute_input": "2025-10-20T01:32:40.211701Z",
     "iopub.status.busy": "2025-10-20T01:32:40.211511Z",
     "iopub.status.idle": "2025-10-20T01:46:47.054230Z",
     "shell.execute_reply": "2025-10-20T01:46:47.053330Z"
    },
    "id": "g-W3s2nRyRY7",
    "papermill": {
     "duration": 846.853074,
     "end_time": "2025-10-20T01:46:47.060199",
     "exception": false,
     "start_time": "2025-10-20T01:32:40.207125",
     "status": "completed"
    },
    "tags": []
   },
   "outputs": [
    {
     "name": "stderr",
     "output_type": "stream",
     "text": [
      "\r",
      "  0%|          | 0/2103 [00:00<?, ?it/s]"
     ]
    },
    {
     "name": "stderr",
     "output_type": "stream",
     "text": [
      "\r",
      " 99%|█████████▉| 2080/2103 [00:29<00:00, 70.91it/s]"
     ]
    },
    {
     "name": "stdout",
     "output_type": "stream",
     "text": [
      "Done dt=2025-10-19/2025-10-19T010000.parquet\n"
     ]
    },
    {
     "name": "stderr",
     "output_type": "stream",
     "text": [
      "\r",
      " 99%|█████████▉| 2080/2103 [00:43<00:00, 70.91it/s]"
     ]
    },
    {
     "name": "stderr",
     "output_type": "stream",
     "text": [
      "\r",
      " 99%|█████████▉| 2081/2103 [00:54<00:00, 32.04it/s]"
     ]
    },
    {
     "name": "stdout",
     "output_type": "stream",
     "text": [
      "Done dt=2025-10-19/2025-10-19T020000.parquet\n"
     ]
    },
    {
     "name": "stderr",
     "output_type": "stream",
     "text": [
      "\r",
      " 99%|█████████▉| 2082/2103 [01:19<00:01, 17.79it/s]"
     ]
    },
    {
     "name": "stdout",
     "output_type": "stream",
     "text": [
      "Done dt=2025-10-19/2025-10-19T030000.parquet\n"
     ]
    },
    {
     "name": "stderr",
     "output_type": "stream",
     "text": [
      "\r",
      " 99%|█████████▉| 2083/2103 [01:57<00:02,  9.15it/s]"
     ]
    },
    {
     "name": "stdout",
     "output_type": "stream",
     "text": [
      "Done dt=2025-10-19/2025-10-19T040000.parquet\n"
     ]
    },
    {
     "name": "stderr",
     "output_type": "stream",
     "text": [
      "\r",
      " 99%|█████████▉| 2084/2103 [02:48<00:03,  4.77it/s]"
     ]
    },
    {
     "name": "stdout",
     "output_type": "stream",
     "text": [
      "Done dt=2025-10-19/2025-10-19T050000.parquet\n"
     ]
    },
    {
     "name": "stderr",
     "output_type": "stream",
     "text": [
      "\r",
      " 99%|█████████▉| 2085/2103 [03:29<00:05,  3.07it/s]"
     ]
    },
    {
     "name": "stdout",
     "output_type": "stream",
     "text": [
      "Done dt=2025-10-19/2025-10-19T060000.parquet\n"
     ]
    },
    {
     "name": "stderr",
     "output_type": "stream",
     "text": [
      "\r",
      " 99%|█████████▉| 2086/2103 [04:22<00:09,  1.85it/s]"
     ]
    },
    {
     "name": "stdout",
     "output_type": "stream",
     "text": [
      "Done dt=2025-10-19/2025-10-19T070000.parquet\n"
     ]
    },
    {
     "name": "stderr",
     "output_type": "stream",
     "text": [
      "\r",
      " 99%|█████████▉| 2087/2103 [05:10<00:12,  1.24it/s]"
     ]
    },
    {
     "name": "stdout",
     "output_type": "stream",
     "text": [
      "Done dt=2025-10-19/2025-10-19T080000.parquet\n"
     ]
    },
    {
     "name": "stderr",
     "output_type": "stream",
     "text": [
      "\r",
      " 99%|█████████▉| 2088/2103 [05:50<00:16,  1.13s/it]"
     ]
    },
    {
     "name": "stdout",
     "output_type": "stream",
     "text": [
      "Done dt=2025-10-19/2025-10-19T090000.parquet\n"
     ]
    },
    {
     "name": "stderr",
     "output_type": "stream",
     "text": [
      "\r",
      " 99%|█████████▉| 2089/2103 [06:32<00:22,  1.60s/it]"
     ]
    },
    {
     "name": "stdout",
     "output_type": "stream",
     "text": [
      "Done dt=2025-10-19/2025-10-19T100000.parquet\n"
     ]
    },
    {
     "name": "stderr",
     "output_type": "stream",
     "text": [
      "\r",
      " 99%|█████████▉| 2090/2103 [07:08<00:27,  2.15s/it]"
     ]
    },
    {
     "name": "stdout",
     "output_type": "stream",
     "text": [
      "Done dt=2025-10-19/2025-10-19T110000.parquet\n"
     ]
    },
    {
     "name": "stderr",
     "output_type": "stream",
     "text": [
      "\r",
      " 99%|█████████▉| 2091/2103 [07:52<00:37,  3.10s/it]"
     ]
    },
    {
     "name": "stdout",
     "output_type": "stream",
     "text": [
      "Done dt=2025-10-19/2025-10-19T120000.parquet\n"
     ]
    },
    {
     "name": "stderr",
     "output_type": "stream",
     "text": [
      "\r",
      " 99%|█████████▉| 2092/2103 [08:48<00:52,  4.74s/it]"
     ]
    },
    {
     "name": "stdout",
     "output_type": "stream",
     "text": [
      "Done dt=2025-10-19/2025-10-19T130000.parquet\n"
     ]
    },
    {
     "name": "stderr",
     "output_type": "stream",
     "text": [
      "\r",
      "100%|█████████▉| 2093/2103 [09:34<01:04,  6.50s/it]"
     ]
    },
    {
     "name": "stdout",
     "output_type": "stream",
     "text": [
      "Done dt=2025-10-19/2025-10-19T140000.parquet\n"
     ]
    },
    {
     "name": "stderr",
     "output_type": "stream",
     "text": [
      "\r",
      "100%|█████████▉| 2094/2103 [10:16<01:16,  8.55s/it]"
     ]
    },
    {
     "name": "stdout",
     "output_type": "stream",
     "text": [
      "Done dt=2025-10-19/2025-10-19T150000.parquet\n"
     ]
    },
    {
     "name": "stderr",
     "output_type": "stream",
     "text": [
      "\r",
      "100%|█████████▉| 2095/2103 [10:42<01:18,  9.87s/it]"
     ]
    },
    {
     "name": "stdout",
     "output_type": "stream",
     "text": [
      "Done dt=2025-10-19/2025-10-19T160000.parquet\n"
     ]
    },
    {
     "name": "stderr",
     "output_type": "stream",
     "text": [
      "\r",
      "100%|█████████▉| 2096/2103 [11:01<01:15, 10.73s/it]"
     ]
    },
    {
     "name": "stdout",
     "output_type": "stream",
     "text": [
      "Done dt=2025-10-19/2025-10-19T170000.parquet\n"
     ]
    },
    {
     "name": "stderr",
     "output_type": "stream",
     "text": [
      "\r",
      "100%|█████████▉| 2097/2103 [11:19<01:09, 11.59s/it]"
     ]
    },
    {
     "name": "stdout",
     "output_type": "stream",
     "text": [
      "Done dt=2025-10-19/2025-10-19T180000.parquet\n"
     ]
    },
    {
     "name": "stderr",
     "output_type": "stream",
     "text": [
      "\r",
      "100%|█████████▉| 2098/2103 [11:45<01:08, 13.75s/it]"
     ]
    },
    {
     "name": "stdout",
     "output_type": "stream",
     "text": [
      "Done dt=2025-10-19/2025-10-19T190000.parquet\n"
     ]
    },
    {
     "name": "stderr",
     "output_type": "stream",
     "text": [
      "\r",
      "100%|█████████▉| 2099/2103 [12:08<01:01, 15.44s/it]"
     ]
    },
    {
     "name": "stdout",
     "output_type": "stream",
     "text": [
      "Done dt=2025-10-19/2025-10-19T200000.parquet\n"
     ]
    },
    {
     "name": "stderr",
     "output_type": "stream",
     "text": [
      "\r",
      "100%|█████████▉| 2100/2103 [12:28<00:49, 16.44s/it]"
     ]
    },
    {
     "name": "stdout",
     "output_type": "stream",
     "text": [
      "Done dt=2025-10-19/2025-10-19T210000.parquet\n"
     ]
    },
    {
     "name": "stderr",
     "output_type": "stream",
     "text": [
      "\r",
      "100%|█████████▉| 2101/2103 [12:53<00:36, 18.28s/it]"
     ]
    },
    {
     "name": "stdout",
     "output_type": "stream",
     "text": [
      "Done dt=2025-10-19/2025-10-19T220000.parquet\n"
     ]
    },
    {
     "name": "stderr",
     "output_type": "stream",
     "text": [
      "\r",
      "100%|█████████▉| 2102/2103 [13:29<00:22, 22.58s/it]"
     ]
    },
    {
     "name": "stdout",
     "output_type": "stream",
     "text": [
      "Done dt=2025-10-19/2025-10-19T230000.parquet\n"
     ]
    },
    {
     "name": "stderr",
     "output_type": "stream",
     "text": [
      "\r",
      "100%|██████████| 2103/2103 [14:06<00:00, 26.29s/it]"
     ]
    },
    {
     "name": "stderr",
     "output_type": "stream",
     "text": [
      "\r",
      "100%|██████████| 2103/2103 [14:06<00:00,  2.48it/s]"
     ]
    },
    {
     "name": "stdout",
     "output_type": "stream",
     "text": [
      "Done dt=2025-10-20/2025-10-20T000000.parquet\n"
     ]
    },
    {
     "name": "stderr",
     "output_type": "stream",
     "text": [
      "\n"
     ]
    }
   ],
   "source": [
    "storage_options = {\n",
    "    \"account_name\": account_name,\n",
    "    \"account_key\":  account_key,\n",
    "}\n",
    "\n",
    "for ts, files in tqdm(groups.items()):\n",
    "    if ts not in need_process_ts: continue\n",
    "    dt = ts[:10]\n",
    "    # if dt not in need_process:\n",
    "    #     continue\n",
    "    df = pl.scan_csv(f\"az://adjuststblive/*_{ts}_*.csv.gz\", storage_options = storage_options,glob=True, has_header = True, null_values = [\"\",\"NULL\"], ignore_errors=True).select(pl.all().cast(pl.Utf8))\n",
    "    df.sink_parquet(f\"az://adjuststbuatprocessed/live/processing/dt={dt}/{ts}.parquet\", storage_options = storage_options, compression=\"snappy\")\n",
    "    print(f'Done dt={dt}/{ts}.parquet')\n",
    "        "
   ]
  },
  {
   "cell_type": "code",
   "execution_count": 13,
   "id": "6eb426a9",
   "metadata": {
    "execution": {
     "iopub.execute_input": "2025-10-20T01:46:47.072245Z",
     "iopub.status.busy": "2025-10-20T01:46:47.072062Z",
     "iopub.status.idle": "2025-10-20T01:46:47.075918Z",
     "shell.execute_reply": "2025-10-20T01:46:47.075270Z"
    },
    "papermill": {
     "duration": 0.010916,
     "end_time": "2025-10-20T01:46:47.076692",
     "exception": false,
     "start_time": "2025-10-20T01:46:47.065776",
     "status": "completed"
    },
    "tags": []
   },
   "outputs": [
    {
     "data": {
      "text/plain": [
       "{'2025-10-19', '2025-10-20'}"
      ]
     },
     "execution_count": 13,
     "metadata": {},
     "output_type": "execute_result"
    }
   ],
   "source": [
    "need_process = set([i.split(\"T\")[0] for i in need_process_ts])\n",
    "need_process"
   ]
  },
  {
   "cell_type": "code",
   "execution_count": 14,
   "id": "211c935b",
   "metadata": {
    "execution": {
     "iopub.execute_input": "2025-10-20T01:46:47.088647Z",
     "iopub.status.busy": "2025-10-20T01:46:47.088487Z",
     "iopub.status.idle": "2025-10-20T01:48:07.547646Z",
     "shell.execute_reply": "2025-10-20T01:48:07.546710Z"
    },
    "id": "sBm7rfFUyePJ",
    "papermill": {
     "duration": 80.471329,
     "end_time": "2025-10-20T01:48:07.553703",
     "exception": false,
     "start_time": "2025-10-20T01:46:47.082374",
     "status": "completed"
    },
    "tags": []
   },
   "outputs": [
    {
     "name": "stdout",
     "output_type": "stream",
     "text": [
      "\n",
      " Done 2025-10-20\n",
      "\n"
     ]
    },
    {
     "name": "stdout",
     "output_type": "stream",
     "text": [
      "\n",
      " Done 2025-10-19\n",
      "\n"
     ]
    }
   ],
   "source": [
    "for dt in need_process:\n",
    "  df = pl.scan_parquet(f\"az://adjuststbuatprocessed/live/processing/dt={dt}/*.parquet\", storage_options=storage_options,glob=True).with_columns(pl.lit(dt).alias(\"dt\"))\n",
    "  df.sink_parquet(f\"az://adjuststbuatprocessed/live/output/{dt}.parquet\", storage_options=storage_options, compression=\"snappy\")\n",
    "  print(f'\\n Done {dt}\\n')"
   ]
  }
 ],
 "metadata": {
  "colab": {
   "authorship_tag": "ABX9TyOfzO6uvqUX+Tt89Y73G9E8",
   "include_colab_link": true,
   "provenance": []
  },
  "kernelspec": {
   "display_name": "Python 3",
   "name": "python3"
  },
  "language_info": {
   "codemirror_mode": {
    "name": "ipython",
    "version": 3
   },
   "file_extension": ".py",
   "mimetype": "text/x-python",
   "name": "python",
   "nbconvert_exporter": "python",
   "pygments_lexer": "ipython3",
   "version": "3.11.14"
  },
  "papermill": {
   "default_parameters": {},
   "duration": 1061.309445,
   "end_time": "2025-10-20T01:48:08.378199",
   "environment_variables": {},
   "exception": null,
   "input_path": "notebooks/ADJUST_JOB.ipynb",
   "output_path": "outputs/ADJUST_JOB_2025-10-20.ipynb",
   "parameters": {
    "RUN_DATE": "2025-10-20"
   },
   "start_time": "2025-10-20T01:30:27.068754",
   "version": "2.6.0"
  }
 },
 "nbformat": 4,
 "nbformat_minor": 5
}