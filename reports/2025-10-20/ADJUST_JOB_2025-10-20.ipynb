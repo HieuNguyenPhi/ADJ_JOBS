{
 "cells": [
  {
   "cell_type": "code",
   "execution_count": 1,
   "id": "83bf2b20",
   "metadata": {
    "execution": {
     "iopub.execute_input": "2025-10-20T01:58:59.292088Z",
     "iopub.status.busy": "2025-10-20T01:58:59.291857Z",
     "iopub.status.idle": "2025-10-20T01:58:59.297266Z",
     "shell.execute_reply": "2025-10-20T01:58:59.296486Z"
    },
    "papermill": {
     "duration": 0.009614,
     "end_time": "2025-10-20T01:58:59.297957",
     "exception": false,
     "start_time": "2025-10-20T01:58:59.288343",
     "status": "completed"
    },
    "tags": [
     "injected-parameters"
    ]
   },
   "outputs": [],
   "source": [
    "# Parameters\n",
    "RUN_DATE = \"2025-10-20\"\n"
   ]
  },
  {
   "cell_type": "markdown",
   "id": "d2a40711",
   "metadata": {
    "colab_type": "text",
    "id": "view-in-github",
    "papermill": {
     "duration": 0.001864,
     "end_time": "2025-10-20T01:58:59.302056",
     "exception": false,
     "start_time": "2025-10-20T01:58:59.300192",
     "status": "completed"
    },
    "tags": []
   },
   "source": [
    "<a href=\"https://colab.research.google.com/github/HieuNguyenPhi/ADJ_JOBS/blob/main/notebooks/ADJUST_JOB.ipynb\" target=\"_parent\"><img src=\"https://colab.research.google.com/assets/colab-badge.svg\" alt=\"Open In Colab\"/></a>"
   ]
  },
  {
   "cell_type": "markdown",
   "id": "62af53aa",
   "metadata": {
    "papermill": {
     "duration": 0.002771,
     "end_time": "2025-10-20T01:58:59.306755",
     "exception": false,
     "start_time": "2025-10-20T01:58:59.303984",
     "status": "completed"
    },
    "tags": []
   },
   "source": [
    "# UAT"
   ]
  },
  {
   "cell_type": "code",
   "execution_count": 2,
   "id": "27ad81c3",
   "metadata": {
    "execution": {
     "iopub.execute_input": "2025-10-20T01:58:59.311474Z",
     "iopub.status.busy": "2025-10-20T01:58:59.311317Z",
     "iopub.status.idle": "2025-10-20T01:59:05.097973Z",
     "shell.execute_reply": "2025-10-20T01:59:05.097063Z"
    },
    "id": "ycUR2r1dq1Nm",
    "papermill": {
     "duration": 5.789947,
     "end_time": "2025-10-20T01:59:05.098602",
     "exception": false,
     "start_time": "2025-10-20T01:58:59.308655",
     "status": "completed"
    },
    "tags": []
   },
   "outputs": [
    {
     "data": {
      "text/plain": [
       "['2025-10-19T100000',\n",
       " '2025-10-19T140000',\n",
       " '2025-10-19T160000',\n",
       " '2025-10-19T230000',\n",
       " '2025-10-20T000000']"
      ]
     },
     "execution_count": 2,
     "metadata": {},
     "output_type": "execute_result"
    }
   ],
   "source": [
    "import os\n",
    "from azure.storage.blob import BlobServiceClient\n",
    "\n",
    "account_name = os.getenv('ACCOUNT_NAME')\n",
    "account_key = os.getenv('ACCOUNT_KEY')\n",
    "# Replace with your Azure Storage account name and SAS token or connection string\n",
    "connect_str = f\"DefaultEndpointsProtocol=https;AccountName={account_name};AccountKey={account_key};EndpointSuffix=core.windows.net\"\n",
    "blob_service_client = BlobServiceClient.from_connection_string(connect_str)\n",
    "container_list = blob_service_client.list_containers()\n",
    "container_name = \"adjuststbuatprocessed\" #os.getenv('CONTAINER_NAME')\n",
    "container_client = blob_service_client.get_container_client(container_name)\n",
    "# already_processed = [file.name.split('/')[1].split('.')[0] for file in container_client.list_blobs() if file.name.split('/')[0] == 'output']\n",
    "# already_processed[-5:]\n",
    "already_processed_ts = sorted([file.name.split('/')[-1].split(\".\")[0] for file in container_client.list_blobs() if file.name.split('/')[0] == 'processing'])\n",
    "already_processed_ts[-5:]"
   ]
  },
  {
   "cell_type": "code",
   "execution_count": 3,
   "id": "a297a6be",
   "metadata": {
    "execution": {
     "iopub.execute_input": "2025-10-20T01:59:05.104036Z",
     "iopub.status.busy": "2025-10-20T01:59:05.103766Z",
     "iopub.status.idle": "2025-10-20T01:59:12.984016Z",
     "shell.execute_reply": "2025-10-20T01:59:12.983157Z"
    },
    "id": "xyPuVC12s7fn",
    "papermill": {
     "duration": 7.883641,
     "end_time": "2025-10-20T01:59:12.984632",
     "exception": false,
     "start_time": "2025-10-20T01:59:05.100991",
     "status": "completed"
    },
    "tags": []
   },
   "outputs": [
    {
     "data": {
      "text/plain": [
       "['rsh20bkkb4zk_2025-10-20T000000_762c775ae454d23f2c6b6a75623d14c7_c35751.csv.gz']"
      ]
     },
     "execution_count": 3,
     "metadata": {},
     "output_type": "execute_result"
    }
   ],
   "source": [
    "container_name_uat = \"adjuststbuat\"\n",
    "container_client_uat = blob_service_client.get_container_client(container_name_uat)\n",
    "from collections import defaultdict\n",
    "files = [i.name for i in container_client_uat.list_blobs()]\n",
    "groups = defaultdict(list)\n",
    "for f in files:\n",
    "    dt = f.split('_')[1]\n",
    "    groups[dt].append(f)\n",
    "groups[dt]"
   ]
  },
  {
   "cell_type": "code",
   "execution_count": 4,
   "id": "e52ff08e",
   "metadata": {
    "execution": {
     "iopub.execute_input": "2025-10-20T01:59:12.990367Z",
     "iopub.status.busy": "2025-10-20T01:59:12.990199Z",
     "iopub.status.idle": "2025-10-20T01:59:12.992950Z",
     "shell.execute_reply": "2025-10-20T01:59:12.992169Z"
    },
    "papermill": {
     "duration": 0.00631,
     "end_time": "2025-10-20T01:59:12.993499",
     "exception": false,
     "start_time": "2025-10-20T01:59:12.987189",
     "status": "completed"
    },
    "tags": []
   },
   "outputs": [],
   "source": [
    "# from datetime import date, timedelta, datetime\n",
    "# import pandas as pd\n",
    "# today = date.today().strftime('%Y-%m-%d')\n",
    "# yesterday = (date.today() - timedelta(days = 1) ).strftime('%Y-%m-%d')\n",
    "# check_date = dt.split(\"T\")[0]\n",
    "# if check_date == today:\n",
    "#     need_process = pd.date_range(start=already_processed[-1], end=today).strftime('%Y-%m-%d').to_list()\n",
    "# else:\n",
    "#     need_process = pd.date_range(start=already_processed[-1], end=yesterday).strftime('%Y-%m-%d').to_list()\n",
    "# need_process"
   ]
  },
  {
   "cell_type": "code",
   "execution_count": 5,
   "id": "8d8b66c6",
   "metadata": {
    "execution": {
     "iopub.execute_input": "2025-10-20T01:59:12.998622Z",
     "iopub.status.busy": "2025-10-20T01:59:12.998433Z",
     "iopub.status.idle": "2025-10-20T01:59:13.344839Z",
     "shell.execute_reply": "2025-10-20T01:59:13.343916Z"
    },
    "papermill": {
     "duration": 0.349756,
     "end_time": "2025-10-20T01:59:13.345455",
     "exception": false,
     "start_time": "2025-10-20T01:59:12.995699",
     "status": "completed"
    },
    "tags": []
   },
   "outputs": [
    {
     "data": {
      "text/plain": [
       "['2025-10-19T230000', '2025-10-20T000000']"
      ]
     },
     "execution_count": 5,
     "metadata": {},
     "output_type": "execute_result"
    }
   ],
   "source": [
    "from datetime import datetime\n",
    "import pandas as pd\n",
    "B = datetime.strptime(dt, \"%Y-%m-%dT%H0000\")\n",
    "A = datetime.strptime(already_processed_ts[-2], \"%Y-%m-%dT%H0000\")\n",
    "need_process_ts =  pd.date_range(A, B, freq='h').strftime('%Y-%m-%dT%H0000').tolist()\n",
    "need_process_ts"
   ]
  },
  {
   "cell_type": "code",
   "execution_count": 6,
   "id": "899932bf",
   "metadata": {
    "execution": {
     "iopub.execute_input": "2025-10-20T01:59:13.351464Z",
     "iopub.status.busy": "2025-10-20T01:59:13.351210Z",
     "iopub.status.idle": "2025-10-20T01:59:29.584252Z",
     "shell.execute_reply": "2025-10-20T01:59:29.583326Z"
    },
    "papermill": {
     "duration": 16.236752,
     "end_time": "2025-10-20T01:59:29.584840",
     "exception": false,
     "start_time": "2025-10-20T01:59:13.348088",
     "status": "completed"
    },
    "tags": []
   },
   "outputs": [
    {
     "name": "stderr",
     "output_type": "stream",
     "text": [
      "\r",
      "  0%|          | 0/2052 [00:00<?, ?it/s]"
     ]
    },
    {
     "name": "stderr",
     "output_type": "stream",
     "text": [
      "\r",
      "100%|█████████▉| 2051/2052 [00:09<00:00, 225.25it/s]"
     ]
    },
    {
     "name": "stdout",
     "output_type": "stream",
     "text": [
      "Done dt=2025-10-19/2025-10-19T230000.parquet\n"
     ]
    },
    {
     "name": "stderr",
     "output_type": "stream",
     "text": [
      "\r",
      "100%|██████████| 2052/2052 [00:16<00:00, 126.96it/s]"
     ]
    },
    {
     "name": "stdout",
     "output_type": "stream",
     "text": [
      "Done dt=2025-10-20/2025-10-20T000000.parquet\n"
     ]
    },
    {
     "name": "stderr",
     "output_type": "stream",
     "text": [
      "\n"
     ]
    }
   ],
   "source": [
    "import polars as pl \n",
    "from tqdm import tqdm\n",
    "storage_options = {\n",
    "    \"account_name\": account_name,\n",
    "    \"account_key\":  account_key,\n",
    "}\n",
    "\n",
    "for ts, files in tqdm(groups.items()):\n",
    "    if ts not in need_process_ts:\n",
    "        continue\n",
    "    dt = ts[:10]\n",
    "    # if dt not in need_process:\n",
    "    #     continue\n",
    "    df = pl.scan_csv(f\"az://adjuststbuat/*_{ts}_*.csv.gz\", storage_options = storage_options,glob=True, has_header = True, null_values = [\"\",\"NULL\"], ignore_errors=True).select(pl.all().cast(pl.Utf8))\n",
    "    df.sink_parquet(f\"az://adjuststbuatprocessed/processing/dt={dt}/{ts}.parquet\", storage_options = storage_options, compression=\"snappy\")\n",
    "    print(f'Done dt={dt}/{ts}.parquet')\n",
    "        "
   ]
  },
  {
   "cell_type": "code",
   "execution_count": 7,
   "id": "ef80d236",
   "metadata": {
    "execution": {
     "iopub.execute_input": "2025-10-20T01:59:29.591252Z",
     "iopub.status.busy": "2025-10-20T01:59:29.591054Z",
     "iopub.status.idle": "2025-10-20T01:59:29.595179Z",
     "shell.execute_reply": "2025-10-20T01:59:29.594476Z"
    },
    "papermill": {
     "duration": 0.008069,
     "end_time": "2025-10-20T01:59:29.595747",
     "exception": false,
     "start_time": "2025-10-20T01:59:29.587678",
     "status": "completed"
    },
    "tags": []
   },
   "outputs": [
    {
     "data": {
      "text/plain": [
       "{'2025-10-19', '2025-10-20'}"
      ]
     },
     "execution_count": 7,
     "metadata": {},
     "output_type": "execute_result"
    }
   ],
   "source": [
    "need_process = set([i.split(\"T\")[0] for i in need_process_ts])\n",
    "need_process"
   ]
  },
  {
   "cell_type": "code",
   "execution_count": 8,
   "id": "bb79aec0",
   "metadata": {
    "execution": {
     "iopub.execute_input": "2025-10-20T01:59:29.601835Z",
     "iopub.status.busy": "2025-10-20T01:59:29.601674Z",
     "iopub.status.idle": "2025-10-20T01:59:33.797180Z",
     "shell.execute_reply": "2025-10-20T01:59:33.796410Z"
    },
    "papermill": {
     "duration": 4.199612,
     "end_time": "2025-10-20T01:59:33.798062",
     "exception": false,
     "start_time": "2025-10-20T01:59:29.598450",
     "status": "completed"
    },
    "tags": []
   },
   "outputs": [
    {
     "name": "stdout",
     "output_type": "stream",
     "text": [
      "\n",
      " Done 2025-10-20\n",
      "\n"
     ]
    },
    {
     "name": "stdout",
     "output_type": "stream",
     "text": [
      "\n",
      " Done 2025-10-19\n",
      "\n"
     ]
    }
   ],
   "source": [
    "for dt in need_process:\n",
    "  df = pl.scan_parquet(f\"az://adjuststbuatprocessed/processing/dt={dt}/*.parquet\", storage_options=storage_options,glob=True).with_columns(pl.lit(dt).alias(\"dt\"))\n",
    "  df.sink_parquet(f\"az://adjuststbuatprocessed/output/{dt}.parquet\", storage_options=storage_options, compression=\"snappy\")\n",
    "  print(f'\\n Done {dt}\\n')"
   ]
  },
  {
   "cell_type": "markdown",
   "id": "1d97c562",
   "metadata": {
    "id": "2TvKr29qyJd_",
    "papermill": {
     "duration": 0.002621,
     "end_time": "2025-10-20T01:59:33.803656",
     "exception": false,
     "start_time": "2025-10-20T01:59:33.801035",
     "status": "completed"
    },
    "tags": []
   },
   "source": [
    "# Live"
   ]
  },
  {
   "cell_type": "code",
   "execution_count": 9,
   "id": "18808bf9",
   "metadata": {
    "execution": {
     "iopub.execute_input": "2025-10-20T01:59:33.809910Z",
     "iopub.status.busy": "2025-10-20T01:59:33.809715Z",
     "iopub.status.idle": "2025-10-20T01:59:37.737271Z",
     "shell.execute_reply": "2025-10-20T01:59:37.736560Z"
    },
    "id": "EnaFsdZFxpwc",
    "papermill": {
     "duration": 3.931627,
     "end_time": "2025-10-20T01:59:37.737992",
     "exception": false,
     "start_time": "2025-10-20T01:59:33.806365",
     "status": "completed"
    },
    "tags": []
   },
   "outputs": [
    {
     "data": {
      "text/plain": [
       "['2025-10-19T200000',\n",
       " '2025-10-19T210000',\n",
       " '2025-10-19T220000',\n",
       " '2025-10-19T230000',\n",
       " '2025-10-20T000000']"
      ]
     },
     "execution_count": 9,
     "metadata": {},
     "output_type": "execute_result"
    }
   ],
   "source": [
    "# already_processed = [file.name.split('/')[-1].split('.')[0] for file in container_client.list_blobs() if file.name[:12] == 'live/output/']\n",
    "# already_processed[-5:]\n",
    "already_processed_ts = sorted([file.name.split('/')[-1].split(\".\")[0] for file in container_client.list_blobs() if (file.name.split('/')[0] + \"/\" + file.name.split('/')[1]) == 'live/processing'])\n",
    "already_processed_ts[-5:]"
   ]
  },
  {
   "cell_type": "code",
   "execution_count": 10,
   "id": "fd6271d5",
   "metadata": {
    "execution": {
     "iopub.execute_input": "2025-10-20T01:59:37.744974Z",
     "iopub.status.busy": "2025-10-20T01:59:37.744708Z",
     "iopub.status.idle": "2025-10-20T01:59:49.303552Z",
     "shell.execute_reply": "2025-10-20T01:59:49.302766Z"
    },
    "id": "I7Er6YEUyOsL",
    "papermill": {
     "duration": 11.563157,
     "end_time": "2025-10-20T01:59:49.304301",
     "exception": false,
     "start_time": "2025-10-20T01:59:37.741144",
     "status": "completed"
    },
    "tags": []
   },
   "outputs": [
    {
     "data": {
      "text/plain": [
       "['65n1fgov4zr4_2025-10-20T000000_762c775ae454d23f2c6b6a75623d14c7_2853a0.csv.gz',\n",
       " '65n1fgov4zr4_2025-10-20T000000_762c775ae454d23f2c6b6a75623d14c7_2853a1.csv.gz',\n",
       " '65n1fgov4zr4_2025-10-20T000000_762c775ae454d23f2c6b6a75623d14c7_be8220.csv.gz',\n",
       " '65n1fgov4zr4_2025-10-20T000000_762c775ae454d23f2c6b6a75623d14c7_be8221.csv.gz',\n",
       " '65n1fgov4zr4_2025-10-20T000000_762c775ae454d23f2c6b6a75623d14c7_c35750.csv.gz',\n",
       " '65n1fgov4zr4_2025-10-20T000000_762c775ae454d23f2c6b6a75623d14c7_c35751.csv.gz']"
      ]
     },
     "execution_count": 10,
     "metadata": {},
     "output_type": "execute_result"
    }
   ],
   "source": [
    "container_name_uat = \"adjuststblive\"\n",
    "container_client_uat = blob_service_client.get_container_client(container_name_uat)\n",
    "from collections import defaultdict\n",
    "files = [i.name for i in container_client_uat.list_blobs()]\n",
    "groups = defaultdict(list)\n",
    "for f in files:\n",
    "    dt = f.split('_')[1]\n",
    "    groups[dt].append(f)\n",
    "groups[dt]"
   ]
  },
  {
   "cell_type": "code",
   "execution_count": 11,
   "id": "2811284d",
   "metadata": {
    "execution": {
     "iopub.execute_input": "2025-10-20T01:59:49.311621Z",
     "iopub.status.busy": "2025-10-20T01:59:49.311406Z",
     "iopub.status.idle": "2025-10-20T01:59:49.316665Z",
     "shell.execute_reply": "2025-10-20T01:59:49.315805Z"
    },
    "papermill": {
     "duration": 0.009711,
     "end_time": "2025-10-20T01:59:49.317247",
     "exception": false,
     "start_time": "2025-10-20T01:59:49.307536",
     "status": "completed"
    },
    "tags": []
   },
   "outputs": [
    {
     "data": {
      "text/plain": [
       "['2025-10-20T000000']"
      ]
     },
     "execution_count": 11,
     "metadata": {},
     "output_type": "execute_result"
    }
   ],
   "source": [
    "# need_process = pd.date_range(start=already_processed[-1], end=today).strftime('%Y-%m-%d').to_list()\n",
    "# need_process\n",
    "\n",
    "B = datetime.strptime(dt, \"%Y-%m-%dT%H0000\")\n",
    "A = datetime.strptime(already_processed_ts[-1], \"%Y-%m-%dT%H0000\")\n",
    "need_process_ts =  pd.date_range(A, B, freq='h').strftime('%Y-%m-%dT%H0000').tolist()\n",
    "need_process_ts"
   ]
  },
  {
   "cell_type": "code",
   "execution_count": 12,
   "id": "9c3b7f8e",
   "metadata": {
    "execution": {
     "iopub.execute_input": "2025-10-20T01:59:49.324152Z",
     "iopub.status.busy": "2025-10-20T01:59:49.323991Z",
     "iopub.status.idle": "2025-10-20T02:00:14.266492Z",
     "shell.execute_reply": "2025-10-20T02:00:14.265770Z"
    },
    "id": "g-W3s2nRyRY7",
    "papermill": {
     "duration": 24.947128,
     "end_time": "2025-10-20T02:00:14.267376",
     "exception": false,
     "start_time": "2025-10-20T01:59:49.320248",
     "status": "completed"
    },
    "tags": []
   },
   "outputs": [
    {
     "name": "stderr",
     "output_type": "stream",
     "text": [
      "\r",
      "  0%|          | 0/2103 [00:00<?, ?it/s]"
     ]
    },
    {
     "name": "stderr",
     "output_type": "stream",
     "text": [
      "\r",
      "100%|██████████| 2103/2103 [00:24<00:00, 84.34it/s]"
     ]
    },
    {
     "name": "stderr",
     "output_type": "stream",
     "text": [
      "\r",
      "100%|██████████| 2103/2103 [00:24<00:00, 84.33it/s]"
     ]
    },
    {
     "name": "stdout",
     "output_type": "stream",
     "text": [
      "Done dt=2025-10-20/2025-10-20T000000.parquet\n"
     ]
    },
    {
     "name": "stderr",
     "output_type": "stream",
     "text": [
      "\n"
     ]
    }
   ],
   "source": [
    "storage_options = {\n",
    "    \"account_name\": account_name,\n",
    "    \"account_key\":  account_key,\n",
    "}\n",
    "\n",
    "for ts, files in tqdm(groups.items()):\n",
    "    if ts not in need_process_ts: continue\n",
    "    dt = ts[:10]\n",
    "    # if dt not in need_process:\n",
    "    #     continue\n",
    "    df = pl.scan_csv(f\"az://adjuststblive/*_{ts}_*.csv.gz\", storage_options = storage_options,glob=True, has_header = True, null_values = [\"\",\"NULL\"], ignore_errors=True).select(pl.all().cast(pl.Utf8))\n",
    "    df.sink_parquet(f\"az://adjuststbuatprocessed/live/processing/dt={dt}/{ts}.parquet\", storage_options = storage_options, compression=\"snappy\")\n",
    "    print(f'Done dt={dt}/{ts}.parquet')\n",
    "        "
   ]
  },
  {
   "cell_type": "code",
   "execution_count": 13,
   "id": "b60fe22d",
   "metadata": {
    "execution": {
     "iopub.execute_input": "2025-10-20T02:00:14.274946Z",
     "iopub.status.busy": "2025-10-20T02:00:14.274744Z",
     "iopub.status.idle": "2025-10-20T02:00:14.278846Z",
     "shell.execute_reply": "2025-10-20T02:00:14.278116Z"
    },
    "papermill": {
     "duration": 0.008624,
     "end_time": "2025-10-20T02:00:14.279448",
     "exception": false,
     "start_time": "2025-10-20T02:00:14.270824",
     "status": "completed"
    },
    "tags": []
   },
   "outputs": [
    {
     "data": {
      "text/plain": [
       "{'2025-10-20'}"
      ]
     },
     "execution_count": 13,
     "metadata": {},
     "output_type": "execute_result"
    }
   ],
   "source": [
    "need_process = set([i.split(\"T\")[0] for i in need_process_ts])\n",
    "need_process"
   ]
  },
  {
   "cell_type": "code",
   "execution_count": 14,
   "id": "f2d23fe2",
   "metadata": {
    "execution": {
     "iopub.execute_input": "2025-10-20T02:00:14.286822Z",
     "iopub.status.busy": "2025-10-20T02:00:14.286671Z",
     "iopub.status.idle": "2025-10-20T02:00:29.598091Z",
     "shell.execute_reply": "2025-10-20T02:00:29.597191Z"
    },
    "id": "sBm7rfFUyePJ",
    "papermill": {
     "duration": 15.315868,
     "end_time": "2025-10-20T02:00:29.598686",
     "exception": false,
     "start_time": "2025-10-20T02:00:14.282818",
     "status": "completed"
    },
    "tags": []
   },
   "outputs": [
    {
     "name": "stdout",
     "output_type": "stream",
     "text": [
      "\n",
      " Done 2025-10-20\n",
      "\n"
     ]
    }
   ],
   "source": [
    "for dt in need_process:\n",
    "  df = pl.scan_parquet(f\"az://adjuststbuatprocessed/live/processing/dt={dt}/*.parquet\", storage_options=storage_options,glob=True).with_columns(pl.lit(dt).alias(\"dt\"))\n",
    "  df.sink_parquet(f\"az://adjuststbuatprocessed/live/output/{dt}.parquet\", storage_options=storage_options, compression=\"snappy\")\n",
    "  print(f'\\n Done {dt}\\n')"
   ]
  }
 ],
 "metadata": {
  "colab": {
   "authorship_tag": "ABX9TyOfzO6uvqUX+Tt89Y73G9E8",
   "include_colab_link": true,
   "provenance": []
  },
  "kernelspec": {
   "display_name": "Python 3",
   "name": "python3"
  },
  "language_info": {
   "codemirror_mode": {
    "name": "ipython",
    "version": 3
   },
   "file_extension": ".py",
   "mimetype": "text/x-python",
   "name": "python",
   "nbconvert_exporter": "python",
   "pygments_lexer": "ipython3",
   "version": "3.11.14"
  },
  "papermill": {
   "default_parameters": {},
   "duration": 92.267997,
   "end_time": "2025-10-20T02:00:30.017663",
   "environment_variables": {},
   "exception": null,
   "input_path": "notebooks/ADJUST_JOB.ipynb",
   "output_path": "outputs/ADJUST_JOB_2025-10-20.ipynb",
   "parameters": {
    "RUN_DATE": "2025-10-20"
   },
   "start_time": "2025-10-20T01:58:57.749666",
   "version": "2.6.0"
  }
 },
 "nbformat": 4,
 "nbformat_minor": 5
}