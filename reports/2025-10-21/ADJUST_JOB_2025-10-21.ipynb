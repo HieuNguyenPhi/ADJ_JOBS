{
 "cells": [
  {
   "cell_type": "code",
   "execution_count": 1,
   "id": "5fe8ffbb",
   "metadata": {
    "execution": {
     "iopub.execute_input": "2025-10-21T01:52:46.287384Z",
     "iopub.status.busy": "2025-10-21T01:52:46.287169Z",
     "iopub.status.idle": "2025-10-21T01:52:46.292705Z",
     "shell.execute_reply": "2025-10-21T01:52:46.291817Z"
    },
    "papermill": {
     "duration": 0.009931,
     "end_time": "2025-10-21T01:52:46.293318",
     "exception": false,
     "start_time": "2025-10-21T01:52:46.283387",
     "status": "completed"
    },
    "tags": [
     "injected-parameters"
    ]
   },
   "outputs": [],
   "source": [
    "# Parameters\n",
    "RUN_DATE = \"2025-10-21\"\n"
   ]
  },
  {
   "cell_type": "markdown",
   "id": "7c1555a6",
   "metadata": {
    "colab_type": "text",
    "id": "view-in-github",
    "papermill": {
     "duration": 0.001945,
     "end_time": "2025-10-21T01:52:46.297543",
     "exception": false,
     "start_time": "2025-10-21T01:52:46.295598",
     "status": "completed"
    },
    "tags": []
   },
   "source": [
    "<a href=\"https://colab.research.google.com/github/HieuNguyenPhi/ADJ_JOBS/blob/main/notebooks/ADJUST_JOB.ipynb\" target=\"_parent\"><img src=\"https://colab.research.google.com/assets/colab-badge.svg\" alt=\"Open In Colab\"/></a>"
   ]
  },
  {
   "cell_type": "markdown",
   "id": "f459faad",
   "metadata": {
    "papermill": {
     "duration": 0.002805,
     "end_time": "2025-10-21T01:52:46.302290",
     "exception": false,
     "start_time": "2025-10-21T01:52:46.299485",
     "status": "completed"
    },
    "tags": []
   },
   "source": [
    "# UAT"
   ]
  },
  {
   "cell_type": "code",
   "execution_count": 2,
   "id": "46bf3d50",
   "metadata": {
    "execution": {
     "iopub.execute_input": "2025-10-21T01:52:46.307016Z",
     "iopub.status.busy": "2025-10-21T01:52:46.306859Z",
     "iopub.status.idle": "2025-10-21T01:52:53.310918Z",
     "shell.execute_reply": "2025-10-21T01:52:53.309988Z"
    },
    "id": "ycUR2r1dq1Nm",
    "papermill": {
     "duration": 7.007316,
     "end_time": "2025-10-21T01:52:53.311533",
     "exception": false,
     "start_time": "2025-10-21T01:52:46.304217",
     "status": "completed"
    },
    "tags": []
   },
   "outputs": [
    {
     "data": {
      "text/plain": [
       "['2025-10-19T100000',\n",
       " '2025-10-19T140000',\n",
       " '2025-10-19T160000',\n",
       " '2025-10-19T230000',\n",
       " '2025-10-20T000000']"
      ]
     },
     "execution_count": 2,
     "metadata": {},
     "output_type": "execute_result"
    }
   ],
   "source": [
    "import os\n",
    "from azure.storage.blob import BlobServiceClient\n",
    "\n",
    "account_name = os.getenv('ACCOUNT_NAME')\n",
    "account_key = os.getenv('ACCOUNT_KEY')\n",
    "# Replace with your Azure Storage account name and SAS token or connection string\n",
    "connect_str = f\"DefaultEndpointsProtocol=https;AccountName={account_name};AccountKey={account_key};EndpointSuffix=core.windows.net\"\n",
    "blob_service_client = BlobServiceClient.from_connection_string(connect_str)\n",
    "container_list = blob_service_client.list_containers()\n",
    "container_name = \"adjuststbuatprocessed\" #os.getenv('CONTAINER_NAME')\n",
    "container_client = blob_service_client.get_container_client(container_name)\n",
    "# already_processed = [file.name.split('/')[1].split('.')[0] for file in container_client.list_blobs() if file.name.split('/')[0] == 'output']\n",
    "# already_processed[-5:]\n",
    "already_processed_ts = sorted([file.name.split('/')[-1].split(\".\")[0] for file in container_client.list_blobs() if file.name.split('/')[0] == 'processing'])\n",
    "already_processed_ts[-5:]"
   ]
  },
  {
   "cell_type": "code",
   "execution_count": 3,
   "id": "a96c18a5",
   "metadata": {
    "execution": {
     "iopub.execute_input": "2025-10-21T01:52:53.317227Z",
     "iopub.status.busy": "2025-10-21T01:52:53.316969Z",
     "iopub.status.idle": "2025-10-21T01:53:02.899467Z",
     "shell.execute_reply": "2025-10-21T01:53:02.898625Z"
    },
    "id": "xyPuVC12s7fn",
    "papermill": {
     "duration": 9.586181,
     "end_time": "2025-10-21T01:53:02.900129",
     "exception": false,
     "start_time": "2025-10-21T01:52:53.313948",
     "status": "completed"
    },
    "tags": []
   },
   "outputs": [
    {
     "data": {
      "text/plain": [
       "['rsh20bkkb4zk_2025-10-21T000000_762c775ae454d23f2c6b6a75623d14c7_2853a0.csv.gz',\n",
       " 'rsh20bkkb4zk_2025-10-21T000000_762c775ae454d23f2c6b6a75623d14c7_be8220.csv.gz',\n",
       " 'rsh20bkkb4zk_2025-10-21T000000_762c775ae454d23f2c6b6a75623d14c7_be8221.csv.gz',\n",
       " 'rsh20bkkb4zk_2025-10-21T000000_762c775ae454d23f2c6b6a75623d14c7_c35750.csv.gz',\n",
       " 'rsh20bkkb4zk_2025-10-21T000000_762c775ae454d23f2c6b6a75623d14c7_c35751.csv.gz']"
      ]
     },
     "execution_count": 3,
     "metadata": {},
     "output_type": "execute_result"
    }
   ],
   "source": [
    "container_name_uat = \"adjuststbuat\"\n",
    "container_client_uat = blob_service_client.get_container_client(container_name_uat)\n",
    "from collections import defaultdict\n",
    "files = [i.name for i in container_client_uat.list_blobs()]\n",
    "groups = defaultdict(list)\n",
    "for f in files:\n",
    "    dt = f.split('_')[1]\n",
    "    groups[dt].append(f)\n",
    "groups[dt]"
   ]
  },
  {
   "cell_type": "code",
   "execution_count": 4,
   "id": "cd5daf3e",
   "metadata": {
    "execution": {
     "iopub.execute_input": "2025-10-21T01:53:02.906020Z",
     "iopub.status.busy": "2025-10-21T01:53:02.905832Z",
     "iopub.status.idle": "2025-10-21T01:53:02.908555Z",
     "shell.execute_reply": "2025-10-21T01:53:02.907822Z"
    },
    "papermill": {
     "duration": 0.006434,
     "end_time": "2025-10-21T01:53:02.909185",
     "exception": false,
     "start_time": "2025-10-21T01:53:02.902751",
     "status": "completed"
    },
    "tags": []
   },
   "outputs": [],
   "source": [
    "# from datetime import date, timedelta, datetime\n",
    "# import pandas as pd\n",
    "# today = date.today().strftime('%Y-%m-%d')\n",
    "# yesterday = (date.today() - timedelta(days = 1) ).strftime('%Y-%m-%d')\n",
    "# check_date = dt.split(\"T\")[0]\n",
    "# if check_date == today:\n",
    "#     need_process = pd.date_range(start=already_processed[-1], end=today).strftime('%Y-%m-%d').to_list()\n",
    "# else:\n",
    "#     need_process = pd.date_range(start=already_processed[-1], end=yesterday).strftime('%Y-%m-%d').to_list()\n",
    "# need_process"
   ]
  },
  {
   "cell_type": "code",
   "execution_count": 5,
   "id": "4ba78a45",
   "metadata": {
    "execution": {
     "iopub.execute_input": "2025-10-21T01:53:02.914399Z",
     "iopub.status.busy": "2025-10-21T01:53:02.914235Z",
     "iopub.status.idle": "2025-10-21T01:53:03.236400Z",
     "shell.execute_reply": "2025-10-21T01:53:03.235602Z"
    },
    "papermill": {
     "duration": 0.325624,
     "end_time": "2025-10-21T01:53:03.237039",
     "exception": false,
     "start_time": "2025-10-21T01:53:02.911415",
     "status": "completed"
    },
    "tags": []
   },
   "outputs": [
    {
     "data": {
      "text/plain": [
       "['2025-10-19T230000',\n",
       " '2025-10-20T000000',\n",
       " '2025-10-20T010000',\n",
       " '2025-10-20T020000',\n",
       " '2025-10-20T030000',\n",
       " '2025-10-20T040000',\n",
       " '2025-10-20T050000',\n",
       " '2025-10-20T060000',\n",
       " '2025-10-20T070000',\n",
       " '2025-10-20T080000',\n",
       " '2025-10-20T090000',\n",
       " '2025-10-20T100000',\n",
       " '2025-10-20T110000',\n",
       " '2025-10-20T120000',\n",
       " '2025-10-20T130000',\n",
       " '2025-10-20T140000',\n",
       " '2025-10-20T150000',\n",
       " '2025-10-20T160000',\n",
       " '2025-10-20T170000',\n",
       " '2025-10-20T180000',\n",
       " '2025-10-20T190000',\n",
       " '2025-10-20T200000',\n",
       " '2025-10-20T210000',\n",
       " '2025-10-20T220000',\n",
       " '2025-10-20T230000',\n",
       " '2025-10-21T000000']"
      ]
     },
     "execution_count": 5,
     "metadata": {},
     "output_type": "execute_result"
    }
   ],
   "source": [
    "from datetime import datetime\n",
    "import pandas as pd\n",
    "B = datetime.strptime(dt, \"%Y-%m-%dT%H0000\")\n",
    "A = datetime.strptime(already_processed_ts[-2], \"%Y-%m-%dT%H0000\")\n",
    "need_process_ts =  pd.date_range(A, B, freq='h').strftime('%Y-%m-%dT%H0000').tolist()\n",
    "need_process_ts"
   ]
  },
  {
   "cell_type": "code",
   "execution_count": 6,
   "id": "b5a51d82",
   "metadata": {
    "execution": {
     "iopub.execute_input": "2025-10-21T01:53:03.243060Z",
     "iopub.status.busy": "2025-10-21T01:53:03.242763Z",
     "iopub.status.idle": "2025-10-21T01:56:40.469896Z",
     "shell.execute_reply": "2025-10-21T01:56:40.469081Z"
    },
    "papermill": {
     "duration": 217.230778,
     "end_time": "2025-10-21T01:56:40.470465",
     "exception": false,
     "start_time": "2025-10-21T01:53:03.239687",
     "status": "completed"
    },
    "tags": []
   },
   "outputs": [
    {
     "name": "stderr",
     "output_type": "stream",
     "text": [
      "\r",
      "  0%|          | 0/2073 [00:00<?, ?it/s]"
     ]
    },
    {
     "name": "stderr",
     "output_type": "stream",
     "text": [
      "\r",
      " 99%|█████████▉| 2051/2073 [00:11<00:00, 184.65it/s]"
     ]
    },
    {
     "name": "stdout",
     "output_type": "stream",
     "text": [
      "Done dt=2025-10-19/2025-10-19T230000.parquet\n"
     ]
    },
    {
     "name": "stdout",
     "output_type": "stream",
     "text": [
      "Done dt=2025-10-20/2025-10-20T000000.parquet\n"
     ]
    },
    {
     "name": "stdout",
     "output_type": "stream",
     "text": [
      "Done dt=2025-10-20/2025-10-20T010000.parquet\n"
     ]
    },
    {
     "name": "stderr",
     "output_type": "stream",
     "text": [
      "\r",
      " 99%|█████████▉| 2051/2073 [00:29<00:00, 184.65it/s]"
     ]
    },
    {
     "name": "stderr",
     "output_type": "stream",
     "text": [
      "\r",
      " 99%|█████████▉| 2054/2073 [00:39<00:00, 39.42it/s] "
     ]
    },
    {
     "name": "stdout",
     "output_type": "stream",
     "text": [
      "Done dt=2025-10-20/2025-10-20T020000.parquet\n"
     ]
    },
    {
     "name": "stderr",
     "output_type": "stream",
     "text": [
      "\r",
      " 99%|█████████▉| 2055/2073 [00:49<00:00, 28.86it/s]"
     ]
    },
    {
     "name": "stdout",
     "output_type": "stream",
     "text": [
      "Done dt=2025-10-20/2025-10-20T030000.parquet\n"
     ]
    },
    {
     "name": "stderr",
     "output_type": "stream",
     "text": [
      "\r",
      " 99%|█████████▉| 2056/2073 [00:58<00:00, 20.91it/s]"
     ]
    },
    {
     "name": "stdout",
     "output_type": "stream",
     "text": [
      "Done dt=2025-10-20/2025-10-20T040000.parquet\n"
     ]
    },
    {
     "name": "stderr",
     "output_type": "stream",
     "text": [
      "\r",
      " 99%|█████████▉| 2057/2073 [01:07<00:01, 15.44it/s]"
     ]
    },
    {
     "name": "stdout",
     "output_type": "stream",
     "text": [
      "Done dt=2025-10-20/2025-10-20T050000.parquet\n"
     ]
    },
    {
     "name": "stderr",
     "output_type": "stream",
     "text": [
      "\r",
      " 99%|█████████▉| 2058/2073 [01:18<00:01, 10.37it/s]"
     ]
    },
    {
     "name": "stdout",
     "output_type": "stream",
     "text": [
      "Done dt=2025-10-20/2025-10-20T060000.parquet\n"
     ]
    },
    {
     "name": "stderr",
     "output_type": "stream",
     "text": [
      "\r",
      " 99%|█████████▉| 2059/2073 [01:27<00:01,  7.42it/s]"
     ]
    },
    {
     "name": "stdout",
     "output_type": "stream",
     "text": [
      "Done dt=2025-10-20/2025-10-20T070000.parquet\n"
     ]
    },
    {
     "name": "stderr",
     "output_type": "stream",
     "text": [
      "\r",
      " 99%|█████████▉| 2060/2073 [01:37<00:02,  5.14it/s]"
     ]
    },
    {
     "name": "stdout",
     "output_type": "stream",
     "text": [
      "Done dt=2025-10-20/2025-10-20T080000.parquet\n"
     ]
    },
    {
     "name": "stderr",
     "output_type": "stream",
     "text": [
      "\r",
      " 99%|█████████▉| 2061/2073 [01:47<00:03,  3.69it/s]"
     ]
    },
    {
     "name": "stdout",
     "output_type": "stream",
     "text": [
      "Done dt=2025-10-20/2025-10-20T090000.parquet\n"
     ]
    },
    {
     "name": "stderr",
     "output_type": "stream",
     "text": [
      "\r",
      " 99%|█████████▉| 2062/2073 [01:56<00:04,  2.66it/s]"
     ]
    },
    {
     "name": "stdout",
     "output_type": "stream",
     "text": [
      "Done dt=2025-10-20/2025-10-20T100000.parquet\n"
     ]
    },
    {
     "name": "stderr",
     "output_type": "stream",
     "text": [
      "\r",
      "100%|█████████▉| 2063/2073 [02:06<00:05,  1.92it/s]"
     ]
    },
    {
     "name": "stdout",
     "output_type": "stream",
     "text": [
      "Done dt=2025-10-20/2025-10-20T110000.parquet\n"
     ]
    },
    {
     "name": "stderr",
     "output_type": "stream",
     "text": [
      "\r",
      "100%|█████████▉| 2064/2073 [02:15<00:06,  1.38it/s]"
     ]
    },
    {
     "name": "stdout",
     "output_type": "stream",
     "text": [
      "Done dt=2025-10-20/2025-10-20T120000.parquet\n"
     ]
    },
    {
     "name": "stderr",
     "output_type": "stream",
     "text": [
      "\r",
      "100%|█████████▉| 2065/2073 [02:24<00:07,  1.00it/s]"
     ]
    },
    {
     "name": "stdout",
     "output_type": "stream",
     "text": [
      "Done dt=2025-10-20/2025-10-20T130000.parquet\n"
     ]
    },
    {
     "name": "stderr",
     "output_type": "stream",
     "text": [
      "\r",
      "100%|█████████▉| 2066/2073 [02:34<00:09,  1.36s/it]"
     ]
    },
    {
     "name": "stdout",
     "output_type": "stream",
     "text": [
      "Done dt=2025-10-20/2025-10-20T140000.parquet\n"
     ]
    },
    {
     "name": "stderr",
     "output_type": "stream",
     "text": [
      "\r",
      "100%|█████████▉| 2067/2073 [02:42<00:10,  1.78s/it]"
     ]
    },
    {
     "name": "stdout",
     "output_type": "stream",
     "text": [
      "Done dt=2025-10-20/2025-10-20T150000.parquet\n"
     ]
    },
    {
     "name": "stderr",
     "output_type": "stream",
     "text": [
      "\r",
      "100%|█████████▉| 2068/2073 [02:52<00:11,  2.38s/it]"
     ]
    },
    {
     "name": "stdout",
     "output_type": "stream",
     "text": [
      "Done dt=2025-10-20/2025-10-20T160000.parquet\n"
     ]
    },
    {
     "name": "stderr",
     "output_type": "stream",
     "text": [
      "\r",
      "100%|█████████▉| 2069/2073 [03:01<00:11,  3.00s/it]"
     ]
    },
    {
     "name": "stdout",
     "output_type": "stream",
     "text": [
      "Done dt=2025-10-20/2025-10-20T170000.parquet\n"
     ]
    },
    {
     "name": "stderr",
     "output_type": "stream",
     "text": [
      "\r",
      "100%|█████████▉| 2070/2073 [03:10<00:11,  3.73s/it]"
     ]
    },
    {
     "name": "stdout",
     "output_type": "stream",
     "text": [
      "Done dt=2025-10-20/2025-10-20T180000.parquet\n"
     ]
    },
    {
     "name": "stderr",
     "output_type": "stream",
     "text": [
      "\r",
      "100%|█████████▉| 2071/2073 [03:18<00:08,  4.50s/it]"
     ]
    },
    {
     "name": "stdout",
     "output_type": "stream",
     "text": [
      "Done dt=2025-10-20/2025-10-20T190000.parquet\n"
     ]
    },
    {
     "name": "stderr",
     "output_type": "stream",
     "text": [
      "\r",
      "100%|█████████▉| 2072/2073 [03:27<00:05,  5.24s/it]"
     ]
    },
    {
     "name": "stdout",
     "output_type": "stream",
     "text": [
      "Done dt=2025-10-20/2025-10-20T220000.parquet\n"
     ]
    },
    {
     "name": "stderr",
     "output_type": "stream",
     "text": [
      "\r",
      "100%|██████████| 2073/2073 [03:37<00:00,  6.11s/it]"
     ]
    },
    {
     "name": "stderr",
     "output_type": "stream",
     "text": [
      "\r",
      "100%|██████████| 2073/2073 [03:37<00:00,  9.55it/s]"
     ]
    },
    {
     "name": "stdout",
     "output_type": "stream",
     "text": [
      "Done dt=2025-10-21/2025-10-21T000000.parquet\n"
     ]
    },
    {
     "name": "stderr",
     "output_type": "stream",
     "text": [
      "\n"
     ]
    }
   ],
   "source": [
    "import polars as pl \n",
    "from tqdm import tqdm\n",
    "storage_options = {\n",
    "    \"account_name\": account_name,\n",
    "    \"account_key\":  account_key,\n",
    "}\n",
    "\n",
    "for ts, files in tqdm(groups.items()):\n",
    "    if ts not in need_process_ts:\n",
    "        continue\n",
    "    dt = ts[:10]\n",
    "    # if dt not in need_process:\n",
    "    #     continue\n",
    "    df = pl.scan_csv(f\"az://adjuststbuat/*_{ts}_*.csv.gz\", storage_options = storage_options,glob=True, has_header = True, null_values = [\"\",\"NULL\"], ignore_errors=True).select(pl.all().cast(pl.Utf8))\n",
    "    df.sink_parquet(f\"az://adjuststbuatprocessed/processing/dt={dt}/{ts}.parquet\", storage_options = storage_options, compression=\"snappy\")\n",
    "    print(f'Done dt={dt}/{ts}.parquet')\n",
    "        "
   ]
  },
  {
   "cell_type": "code",
   "execution_count": 7,
   "id": "57d8afaa",
   "metadata": {
    "execution": {
     "iopub.execute_input": "2025-10-21T01:56:40.479966Z",
     "iopub.status.busy": "2025-10-21T01:56:40.479774Z",
     "iopub.status.idle": "2025-10-21T01:56:40.483883Z",
     "shell.execute_reply": "2025-10-21T01:56:40.483129Z"
    },
    "papermill": {
     "duration": 0.009578,
     "end_time": "2025-10-21T01:56:40.484416",
     "exception": false,
     "start_time": "2025-10-21T01:56:40.474838",
     "status": "completed"
    },
    "tags": []
   },
   "outputs": [
    {
     "data": {
      "text/plain": [
       "{'2025-10-19', '2025-10-20', '2025-10-21'}"
      ]
     },
     "execution_count": 7,
     "metadata": {},
     "output_type": "execute_result"
    }
   ],
   "source": [
    "need_process = set([i.split(\"T\")[0] for i in need_process_ts])\n",
    "need_process"
   ]
  },
  {
   "cell_type": "code",
   "execution_count": 8,
   "id": "5b6ebea8",
   "metadata": {
    "execution": {
     "iopub.execute_input": "2025-10-21T01:56:40.493432Z",
     "iopub.status.busy": "2025-10-21T01:56:40.493269Z",
     "iopub.status.idle": "2025-10-21T01:56:51.122903Z",
     "shell.execute_reply": "2025-10-21T01:56:51.122082Z"
    },
    "papermill": {
     "duration": 10.634966,
     "end_time": "2025-10-21T01:56:51.123515",
     "exception": false,
     "start_time": "2025-10-21T01:56:40.488549",
     "status": "completed"
    },
    "tags": []
   },
   "outputs": [
    {
     "name": "stdout",
     "output_type": "stream",
     "text": [
      "\n",
      " Done 2025-10-20\n",
      "\n"
     ]
    },
    {
     "name": "stdout",
     "output_type": "stream",
     "text": [
      "\n",
      " Done 2025-10-21\n",
      "\n"
     ]
    },
    {
     "name": "stdout",
     "output_type": "stream",
     "text": [
      "\n",
      " Done 2025-10-19\n",
      "\n"
     ]
    }
   ],
   "source": [
    "for dt in need_process:\n",
    "  df = pl.scan_parquet(f\"az://adjuststbuatprocessed/processing/dt={dt}/*.parquet\", storage_options=storage_options,glob=True).with_columns(pl.lit(dt).alias(\"dt\"))\n",
    "  df.sink_parquet(f\"az://adjuststbuatprocessed/output/{dt}.parquet\", storage_options=storage_options, compression=\"snappy\")\n",
    "  print(f'\\n Done {dt}\\n')"
   ]
  },
  {
   "cell_type": "markdown",
   "id": "c2aa8460",
   "metadata": {
    "id": "2TvKr29qyJd_",
    "papermill": {
     "duration": 0.004413,
     "end_time": "2025-10-21T01:56:51.132489",
     "exception": false,
     "start_time": "2025-10-21T01:56:51.128076",
     "status": "completed"
    },
    "tags": []
   },
   "source": [
    "# Live"
   ]
  },
  {
   "cell_type": "code",
   "execution_count": 9,
   "id": "902573b3",
   "metadata": {
    "execution": {
     "iopub.execute_input": "2025-10-21T01:56:51.141863Z",
     "iopub.status.busy": "2025-10-21T01:56:51.141660Z",
     "iopub.status.idle": "2025-10-21T01:56:57.688335Z",
     "shell.execute_reply": "2025-10-21T01:56:57.687572Z"
    },
    "id": "EnaFsdZFxpwc",
    "papermill": {
     "duration": 6.552361,
     "end_time": "2025-10-21T01:56:57.689034",
     "exception": false,
     "start_time": "2025-10-21T01:56:51.136673",
     "status": "completed"
    },
    "tags": []
   },
   "outputs": [
    {
     "data": {
      "text/plain": [
       "['2025-10-19T200000',\n",
       " '2025-10-19T210000',\n",
       " '2025-10-19T220000',\n",
       " '2025-10-19T230000',\n",
       " '2025-10-20T000000']"
      ]
     },
     "execution_count": 9,
     "metadata": {},
     "output_type": "execute_result"
    }
   ],
   "source": [
    "# already_processed = [file.name.split('/')[-1].split('.')[0] for file in container_client.list_blobs() if file.name[:12] == 'live/output/']\n",
    "# already_processed[-5:]\n",
    "already_processed_ts = sorted([file.name.split('/')[-1].split(\".\")[0] for file in container_client.list_blobs() if (file.name.split('/')[0] + \"/\" + file.name.split('/')[1]) == 'live/processing'])\n",
    "already_processed_ts[-5:]"
   ]
  },
  {
   "cell_type": "code",
   "execution_count": 10,
   "id": "96b49801",
   "metadata": {
    "execution": {
     "iopub.execute_input": "2025-10-21T01:56:57.699173Z",
     "iopub.status.busy": "2025-10-21T01:56:57.698965Z",
     "iopub.status.idle": "2025-10-21T01:57:11.206091Z",
     "shell.execute_reply": "2025-10-21T01:57:11.205276Z"
    },
    "id": "I7Er6YEUyOsL",
    "papermill": {
     "duration": 13.513343,
     "end_time": "2025-10-21T01:57:11.207032",
     "exception": false,
     "start_time": "2025-10-21T01:56:57.693689",
     "status": "completed"
    },
    "tags": []
   },
   "outputs": [
    {
     "data": {
      "text/plain": [
       "['65n1fgov4zr4_2025-10-21T000000_762c775ae454d23f2c6b6a75623d14c7_2853a0.csv.gz',\n",
       " '65n1fgov4zr4_2025-10-21T000000_762c775ae454d23f2c6b6a75623d14c7_2853a1.csv.gz',\n",
       " '65n1fgov4zr4_2025-10-21T000000_762c775ae454d23f2c6b6a75623d14c7_be8220.csv.gz',\n",
       " '65n1fgov4zr4_2025-10-21T000000_762c775ae454d23f2c6b6a75623d14c7_be8221.csv.gz',\n",
       " '65n1fgov4zr4_2025-10-21T000000_762c775ae454d23f2c6b6a75623d14c7_c35750.csv.gz',\n",
       " '65n1fgov4zr4_2025-10-21T000000_762c775ae454d23f2c6b6a75623d14c7_c35751.csv.gz']"
      ]
     },
     "execution_count": 10,
     "metadata": {},
     "output_type": "execute_result"
    }
   ],
   "source": [
    "container_name_uat = \"adjuststblive\"\n",
    "container_client_uat = blob_service_client.get_container_client(container_name_uat)\n",
    "from collections import defaultdict\n",
    "files = [i.name for i in container_client_uat.list_blobs()]\n",
    "groups = defaultdict(list)\n",
    "for f in files:\n",
    "    dt = f.split('_')[1]\n",
    "    groups[dt].append(f)\n",
    "groups[dt]"
   ]
  },
  {
   "cell_type": "code",
   "execution_count": 11,
   "id": "11a7a5e6",
   "metadata": {
    "execution": {
     "iopub.execute_input": "2025-10-21T01:57:11.217606Z",
     "iopub.status.busy": "2025-10-21T01:57:11.217391Z",
     "iopub.status.idle": "2025-10-21T01:57:11.222881Z",
     "shell.execute_reply": "2025-10-21T01:57:11.222152Z"
    },
    "papermill": {
     "duration": 0.011646,
     "end_time": "2025-10-21T01:57:11.223563",
     "exception": false,
     "start_time": "2025-10-21T01:57:11.211917",
     "status": "completed"
    },
    "tags": []
   },
   "outputs": [
    {
     "data": {
      "text/plain": [
       "['2025-10-20T000000',\n",
       " '2025-10-20T010000',\n",
       " '2025-10-20T020000',\n",
       " '2025-10-20T030000',\n",
       " '2025-10-20T040000',\n",
       " '2025-10-20T050000',\n",
       " '2025-10-20T060000',\n",
       " '2025-10-20T070000',\n",
       " '2025-10-20T080000',\n",
       " '2025-10-20T090000',\n",
       " '2025-10-20T100000',\n",
       " '2025-10-20T110000',\n",
       " '2025-10-20T120000',\n",
       " '2025-10-20T130000',\n",
       " '2025-10-20T140000',\n",
       " '2025-10-20T150000',\n",
       " '2025-10-20T160000',\n",
       " '2025-10-20T170000',\n",
       " '2025-10-20T180000',\n",
       " '2025-10-20T190000',\n",
       " '2025-10-20T200000',\n",
       " '2025-10-20T210000',\n",
       " '2025-10-20T220000',\n",
       " '2025-10-20T230000',\n",
       " '2025-10-21T000000']"
      ]
     },
     "execution_count": 11,
     "metadata": {},
     "output_type": "execute_result"
    }
   ],
   "source": [
    "# need_process = pd.date_range(start=already_processed[-1], end=today).strftime('%Y-%m-%d').to_list()\n",
    "# need_process\n",
    "\n",
    "B = datetime.strptime(dt, \"%Y-%m-%dT%H0000\")\n",
    "A = datetime.strptime(already_processed_ts[-1], \"%Y-%m-%dT%H0000\")\n",
    "need_process_ts =  pd.date_range(A, B, freq='h').strftime('%Y-%m-%dT%H0000').tolist()\n",
    "need_process_ts"
   ]
  },
  {
   "cell_type": "code",
   "execution_count": 12,
   "id": "45ae8c54",
   "metadata": {
    "execution": {
     "iopub.execute_input": "2025-10-21T01:57:11.233935Z",
     "iopub.status.busy": "2025-10-21T01:57:11.233689Z",
     "iopub.status.idle": "2025-10-21T02:08:44.949353Z",
     "shell.execute_reply": "2025-10-21T02:08:44.948503Z"
    },
    "id": "g-W3s2nRyRY7",
    "papermill": {
     "duration": 693.727573,
     "end_time": "2025-10-21T02:08:44.955842",
     "exception": false,
     "start_time": "2025-10-21T01:57:11.228269",
     "status": "completed"
    },
    "tags": []
   },
   "outputs": [
    {
     "name": "stderr",
     "output_type": "stream",
     "text": [
      "\r",
      "  0%|          | 0/2127 [00:00<?, ?it/s]"
     ]
    },
    {
     "name": "stderr",
     "output_type": "stream",
     "text": [
      "\r",
      " 99%|█████████▉| 2103/2127 [00:33<00:00, 62.89it/s]"
     ]
    },
    {
     "name": "stdout",
     "output_type": "stream",
     "text": [
      "Done dt=2025-10-20/2025-10-20T000000.parquet\n"
     ]
    },
    {
     "name": "stderr",
     "output_type": "stream",
     "text": [
      "\r",
      " 99%|█████████▉| 2103/2127 [00:52<00:00, 62.89it/s]"
     ]
    },
    {
     "name": "stderr",
     "output_type": "stream",
     "text": [
      "\r",
      " 99%|█████████▉| 2104/2127 [01:00<00:00, 28.92it/s]"
     ]
    },
    {
     "name": "stdout",
     "output_type": "stream",
     "text": [
      "Done dt=2025-10-20/2025-10-20T010000.parquet\n"
     ]
    },
    {
     "name": "stderr",
     "output_type": "stream",
     "text": [
      "\r",
      " 99%|█████████▉| 2105/2127 [01:27<00:01, 16.49it/s]"
     ]
    },
    {
     "name": "stdout",
     "output_type": "stream",
     "text": [
      "Done dt=2025-10-20/2025-10-20T020000.parquet\n"
     ]
    },
    {
     "name": "stderr",
     "output_type": "stream",
     "text": [
      "\r",
      " 99%|█████████▉| 2106/2127 [01:58<00:02,  9.76it/s]"
     ]
    },
    {
     "name": "stdout",
     "output_type": "stream",
     "text": [
      "Done dt=2025-10-20/2025-10-20T030000.parquet\n"
     ]
    },
    {
     "name": "stderr",
     "output_type": "stream",
     "text": [
      "\r",
      " 99%|█████████▉| 2107/2127 [02:26<00:03,  6.34it/s]"
     ]
    },
    {
     "name": "stdout",
     "output_type": "stream",
     "text": [
      "Done dt=2025-10-20/2025-10-20T040000.parquet\n"
     ]
    },
    {
     "name": "stderr",
     "output_type": "stream",
     "text": [
      "\r",
      " 99%|█████████▉| 2108/2127 [02:54<00:04,  4.22it/s]"
     ]
    },
    {
     "name": "stdout",
     "output_type": "stream",
     "text": [
      "Done dt=2025-10-20/2025-10-20T050000.parquet\n"
     ]
    },
    {
     "name": "stderr",
     "output_type": "stream",
     "text": [
      "\r",
      " 99%|█████████▉| 2109/2127 [03:22<00:06,  2.89it/s]"
     ]
    },
    {
     "name": "stdout",
     "output_type": "stream",
     "text": [
      "Done dt=2025-10-20/2025-10-20T060000.parquet\n"
     ]
    },
    {
     "name": "stderr",
     "output_type": "stream",
     "text": [
      "\r",
      " 99%|█████████▉| 2110/2127 [03:55<00:09,  1.88it/s]"
     ]
    },
    {
     "name": "stdout",
     "output_type": "stream",
     "text": [
      "Done dt=2025-10-20/2025-10-20T070000.parquet\n"
     ]
    },
    {
     "name": "stderr",
     "output_type": "stream",
     "text": [
      "\r",
      " 99%|█████████▉| 2111/2127 [04:25<00:12,  1.30it/s]"
     ]
    },
    {
     "name": "stdout",
     "output_type": "stream",
     "text": [
      "Done dt=2025-10-20/2025-10-20T080000.parquet\n"
     ]
    },
    {
     "name": "stderr",
     "output_type": "stream",
     "text": [
      "\r",
      " 99%|█████████▉| 2112/2127 [04:57<00:16,  1.12s/it]"
     ]
    },
    {
     "name": "stdout",
     "output_type": "stream",
     "text": [
      "Done dt=2025-10-20/2025-10-20T090000.parquet\n"
     ]
    },
    {
     "name": "stderr",
     "output_type": "stream",
     "text": [
      "\r",
      " 99%|█████████▉| 2113/2127 [05:34<00:23,  1.69s/it]"
     ]
    },
    {
     "name": "stdout",
     "output_type": "stream",
     "text": [
      "Done dt=2025-10-20/2025-10-20T100000.parquet\n"
     ]
    },
    {
     "name": "stderr",
     "output_type": "stream",
     "text": [
      "\r",
      " 99%|█████████▉| 2114/2127 [06:07<00:31,  2.40s/it]"
     ]
    },
    {
     "name": "stdout",
     "output_type": "stream",
     "text": [
      "Done dt=2025-10-20/2025-10-20T110000.parquet\n"
     ]
    },
    {
     "name": "stderr",
     "output_type": "stream",
     "text": [
      "\r",
      " 99%|█████████▉| 2115/2127 [06:40<00:40,  3.34s/it]"
     ]
    },
    {
     "name": "stdout",
     "output_type": "stream",
     "text": [
      "Done dt=2025-10-20/2025-10-20T120000.parquet\n"
     ]
    },
    {
     "name": "stderr",
     "output_type": "stream",
     "text": [
      "\r",
      " 99%|█████████▉| 2116/2127 [07:26<00:56,  5.16s/it]"
     ]
    },
    {
     "name": "stdout",
     "output_type": "stream",
     "text": [
      "Done dt=2025-10-20/2025-10-20T130000.parquet\n"
     ]
    },
    {
     "name": "stderr",
     "output_type": "stream",
     "text": [
      "\r",
      "100%|█████████▉| 2117/2127 [07:58<01:06,  6.68s/it]"
     ]
    },
    {
     "name": "stdout",
     "output_type": "stream",
     "text": [
      "Done dt=2025-10-20/2025-10-20T140000.parquet\n"
     ]
    },
    {
     "name": "stderr",
     "output_type": "stream",
     "text": [
      "\r",
      "100%|█████████▉| 2118/2127 [08:28<01:16,  8.45s/it]"
     ]
    },
    {
     "name": "stdout",
     "output_type": "stream",
     "text": [
      "Done dt=2025-10-20/2025-10-20T150000.parquet\n"
     ]
    },
    {
     "name": "stderr",
     "output_type": "stream",
     "text": [
      "\r",
      "100%|█████████▉| 2119/2127 [08:52<01:19,  9.89s/it]"
     ]
    },
    {
     "name": "stdout",
     "output_type": "stream",
     "text": [
      "Done dt=2025-10-20/2025-10-20T160000.parquet\n"
     ]
    },
    {
     "name": "stderr",
     "output_type": "stream",
     "text": [
      "\r",
      "100%|█████████▉| 2120/2127 [09:11<01:17, 11.08s/it]"
     ]
    },
    {
     "name": "stdout",
     "output_type": "stream",
     "text": [
      "Done dt=2025-10-20/2025-10-20T170000.parquet\n"
     ]
    },
    {
     "name": "stderr",
     "output_type": "stream",
     "text": [
      "\r",
      "100%|█████████▉| 2121/2127 [09:28<01:11, 11.93s/it]"
     ]
    },
    {
     "name": "stdout",
     "output_type": "stream",
     "text": [
      "Done dt=2025-10-20/2025-10-20T180000.parquet\n"
     ]
    },
    {
     "name": "stderr",
     "output_type": "stream",
     "text": [
      "\r",
      "100%|█████████▉| 2122/2127 [09:44<01:03, 12.66s/it]"
     ]
    },
    {
     "name": "stdout",
     "output_type": "stream",
     "text": [
      "Done dt=2025-10-20/2025-10-20T190000.parquet\n"
     ]
    },
    {
     "name": "stderr",
     "output_type": "stream",
     "text": [
      "\r",
      "100%|█████████▉| 2123/2127 [10:00<00:53, 13.26s/it]"
     ]
    },
    {
     "name": "stdout",
     "output_type": "stream",
     "text": [
      "Done dt=2025-10-20/2025-10-20T200000.parquet\n"
     ]
    },
    {
     "name": "stderr",
     "output_type": "stream",
     "text": [
      "\r",
      "100%|█████████▉| 2124/2127 [10:16<00:41, 13.95s/it]"
     ]
    },
    {
     "name": "stdout",
     "output_type": "stream",
     "text": [
      "Done dt=2025-10-20/2025-10-20T210000.parquet\n"
     ]
    },
    {
     "name": "stderr",
     "output_type": "stream",
     "text": [
      "\r",
      "100%|█████████▉| 2125/2127 [10:38<00:31, 15.69s/it]"
     ]
    },
    {
     "name": "stdout",
     "output_type": "stream",
     "text": [
      "Done dt=2025-10-20/2025-10-20T220000.parquet\n"
     ]
    },
    {
     "name": "stderr",
     "output_type": "stream",
     "text": [
      "\r",
      "100%|█████████▉| 2126/2127 [11:03<00:18, 18.23s/it]"
     ]
    },
    {
     "name": "stdout",
     "output_type": "stream",
     "text": [
      "Done dt=2025-10-20/2025-10-20T230000.parquet\n"
     ]
    },
    {
     "name": "stderr",
     "output_type": "stream",
     "text": [
      "\r",
      "100%|██████████| 2127/2127 [11:33<00:00, 21.39s/it]"
     ]
    },
    {
     "name": "stderr",
     "output_type": "stream",
     "text": [
      "\r",
      "100%|██████████| 2127/2127 [11:33<00:00,  3.07it/s]"
     ]
    },
    {
     "name": "stdout",
     "output_type": "stream",
     "text": [
      "Done dt=2025-10-21/2025-10-21T000000.parquet\n"
     ]
    },
    {
     "name": "stderr",
     "output_type": "stream",
     "text": [
      "\n"
     ]
    }
   ],
   "source": [
    "storage_options = {\n",
    "    \"account_name\": account_name,\n",
    "    \"account_key\":  account_key,\n",
    "}\n",
    "\n",
    "for ts, files in tqdm(groups.items()):\n",
    "    if ts not in need_process_ts: continue\n",
    "    dt = ts[:10]\n",
    "    # if dt not in need_process:\n",
    "    #     continue\n",
    "    df = pl.scan_csv(f\"az://adjuststblive/*_{ts}_*.csv.gz\", storage_options = storage_options,glob=True, has_header = True, null_values = [\"\",\"NULL\"], ignore_errors=True).select(pl.all().cast(pl.Utf8))\n",
    "    df.sink_parquet(f\"az://adjuststbuatprocessed/live/processing/dt={dt}/{ts}.parquet\", storage_options = storage_options, compression=\"snappy\")\n",
    "    print(f'Done dt={dt}/{ts}.parquet')\n",
    "        "
   ]
  },
  {
   "cell_type": "code",
   "execution_count": 13,
   "id": "3e7ba68c",
   "metadata": {
    "execution": {
     "iopub.execute_input": "2025-10-21T02:08:44.969925Z",
     "iopub.status.busy": "2025-10-21T02:08:44.969732Z",
     "iopub.status.idle": "2025-10-21T02:08:44.973771Z",
     "shell.execute_reply": "2025-10-21T02:08:44.973114Z"
    },
    "papermill": {
     "duration": 0.011947,
     "end_time": "2025-10-21T02:08:44.974456",
     "exception": false,
     "start_time": "2025-10-21T02:08:44.962509",
     "status": "completed"
    },
    "tags": []
   },
   "outputs": [
    {
     "data": {
      "text/plain": [
       "{'2025-10-20', '2025-10-21'}"
      ]
     },
     "execution_count": 13,
     "metadata": {},
     "output_type": "execute_result"
    }
   ],
   "source": [
    "need_process = set([i.split(\"T\")[0] for i in need_process_ts])\n",
    "need_process"
   ]
  },
  {
   "cell_type": "code",
   "execution_count": 14,
   "id": "94939fca",
   "metadata": {
    "execution": {
     "iopub.execute_input": "2025-10-21T02:08:44.988447Z",
     "iopub.status.busy": "2025-10-21T02:08:44.988290Z",
     "iopub.status.idle": "2025-10-21T02:10:48.658120Z",
     "shell.execute_reply": "2025-10-21T02:10:48.657234Z"
    },
    "id": "sBm7rfFUyePJ",
    "papermill": {
     "duration": 123.677621,
     "end_time": "2025-10-21T02:10:48.658733",
     "exception": false,
     "start_time": "2025-10-21T02:08:44.981112",
     "status": "completed"
    },
    "tags": []
   },
   "outputs": [
    {
     "name": "stdout",
     "output_type": "stream",
     "text": [
      "\n",
      " Done 2025-10-20\n",
      "\n"
     ]
    },
    {
     "name": "stdout",
     "output_type": "stream",
     "text": [
      "\n",
      " Done 2025-10-21\n",
      "\n"
     ]
    }
   ],
   "source": [
    "for dt in need_process:\n",
    "  df = pl.scan_parquet(f\"az://adjuststbuatprocessed/live/processing/dt={dt}/*.parquet\", storage_options=storage_options,glob=True).with_columns(pl.lit(dt).alias(\"dt\"))\n",
    "  df.sink_parquet(f\"az://adjuststbuatprocessed/live/output/{dt}.parquet\", storage_options=storage_options, compression=\"snappy\")\n",
    "  print(f'\\n Done {dt}\\n')"
   ]
  }
 ],
 "metadata": {
  "colab": {
   "authorship_tag": "ABX9TyOfzO6uvqUX+Tt89Y73G9E8",
   "include_colab_link": true,
   "provenance": []
  },
  "kernelspec": {
   "display_name": "Python 3",
   "name": "python3"
  },
  "language_info": {
   "codemirror_mode": {
    "name": "ipython",
    "version": 3
   },
   "file_extension": ".py",
   "mimetype": "text/x-python",
   "name": "python",
   "nbconvert_exporter": "python",
   "pygments_lexer": "ipython3",
   "version": "3.11.13"
  },
  "papermill": {
   "default_parameters": {},
   "duration": 1084.713786,
   "end_time": "2025-10-21T02:10:49.583189",
   "environment_variables": {},
   "exception": null,
   "input_path": "notebooks/ADJUST_JOB.ipynb",
   "output_path": "outputs/ADJUST_JOB_2025-10-21.ipynb",
   "parameters": {
    "RUN_DATE": "2025-10-21"
   },
   "start_time": "2025-10-21T01:52:44.869403",
   "version": "2.6.0"
  }
 },
 "nbformat": 4,
 "nbformat_minor": 5
}