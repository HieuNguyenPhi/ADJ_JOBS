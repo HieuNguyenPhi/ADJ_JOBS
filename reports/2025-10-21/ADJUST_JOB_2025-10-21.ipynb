{
 "cells": [
  {
   "cell_type": "code",
   "execution_count": 1,
   "id": "3b87d98a",
   "metadata": {
    "execution": {
     "iopub.execute_input": "2025-10-21T08:09:42.697968Z",
     "iopub.status.busy": "2025-10-21T08:09:42.697757Z",
     "iopub.status.idle": "2025-10-21T08:09:42.703205Z",
     "shell.execute_reply": "2025-10-21T08:09:42.702400Z"
    },
    "papermill": {
     "duration": 0.00992,
     "end_time": "2025-10-21T08:09:42.703863",
     "exception": false,
     "start_time": "2025-10-21T08:09:42.693943",
     "status": "completed"
    },
    "tags": [
     "injected-parameters"
    ]
   },
   "outputs": [],
   "source": [
    "# Parameters\n",
    "RUN_DATE = \"2025-10-21\"\n"
   ]
  },
  {
   "cell_type": "markdown",
   "id": "5c958b07",
   "metadata": {
    "colab_type": "text",
    "id": "view-in-github",
    "papermill": {
     "duration": 0.00194,
     "end_time": "2025-10-21T08:09:42.708014",
     "exception": false,
     "start_time": "2025-10-21T08:09:42.706074",
     "status": "completed"
    },
    "tags": []
   },
   "source": [
    "<a href=\"https://colab.research.google.com/github/HieuNguyenPhi/ADJ_JOBS/blob/main/notebooks/ADJUST_JOB.ipynb\" target=\"_parent\"><img src=\"https://colab.research.google.com/assets/colab-badge.svg\" alt=\"Open In Colab\"/></a>"
   ]
  },
  {
   "cell_type": "markdown",
   "id": "025b1b8e",
   "metadata": {
    "papermill": {
     "duration": 0.002746,
     "end_time": "2025-10-21T08:09:42.712684",
     "exception": false,
     "start_time": "2025-10-21T08:09:42.709938",
     "status": "completed"
    },
    "tags": []
   },
   "source": [
    "# UAT"
   ]
  },
  {
   "cell_type": "code",
   "execution_count": 2,
   "id": "c341d810",
   "metadata": {
    "execution": {
     "iopub.execute_input": "2025-10-21T08:09:42.717430Z",
     "iopub.status.busy": "2025-10-21T08:09:42.717262Z",
     "iopub.status.idle": "2025-10-21T08:09:49.964567Z",
     "shell.execute_reply": "2025-10-21T08:09:49.963693Z"
    },
    "id": "ycUR2r1dq1Nm",
    "papermill": {
     "duration": 7.250561,
     "end_time": "2025-10-21T08:09:49.965182",
     "exception": false,
     "start_time": "2025-10-21T08:09:42.714621",
     "status": "completed"
    },
    "tags": []
   },
   "outputs": [
    {
     "data": {
      "text/plain": [
       "['2025-10-20T170000',\n",
       " '2025-10-20T180000',\n",
       " '2025-10-20T190000',\n",
       " '2025-10-20T220000',\n",
       " '2025-10-21T000000']"
      ]
     },
     "execution_count": 2,
     "metadata": {},
     "output_type": "execute_result"
    }
   ],
   "source": [
    "import os\n",
    "from azure.storage.blob import BlobServiceClient\n",
    "\n",
    "account_name = os.getenv('ACCOUNT_NAME')\n",
    "account_key = os.getenv('ACCOUNT_KEY')\n",
    "# Replace with your Azure Storage account name and SAS token or connection string\n",
    "connect_str = f\"DefaultEndpointsProtocol=https;AccountName={account_name};AccountKey={account_key};EndpointSuffix=core.windows.net\"\n",
    "blob_service_client = BlobServiceClient.from_connection_string(connect_str)\n",
    "container_list = blob_service_client.list_containers()\n",
    "container_name = \"adjuststbuatprocessed\" #os.getenv('CONTAINER_NAME')\n",
    "container_client = blob_service_client.get_container_client(container_name)\n",
    "# already_processed = [file.name.split('/')[1].split('.')[0] for file in container_client.list_blobs() if file.name.split('/')[0] == 'output']\n",
    "# already_processed[-5:]\n",
    "already_processed_ts = sorted([file.name.split('/')[-1].split(\".\")[0] for file in container_client.list_blobs() if file.name.split('/')[0] == 'processing'])\n",
    "already_processed_ts[-5:]"
   ]
  },
  {
   "cell_type": "code",
   "execution_count": 3,
   "id": "978ebe3b",
   "metadata": {
    "execution": {
     "iopub.execute_input": "2025-10-21T08:09:49.970958Z",
     "iopub.status.busy": "2025-10-21T08:09:49.970659Z",
     "iopub.status.idle": "2025-10-21T08:09:59.605422Z",
     "shell.execute_reply": "2025-10-21T08:09:59.604662Z"
    },
    "id": "xyPuVC12s7fn",
    "papermill": {
     "duration": 9.638474,
     "end_time": "2025-10-21T08:09:59.606124",
     "exception": false,
     "start_time": "2025-10-21T08:09:49.967650",
     "status": "completed"
    },
    "tags": []
   },
   "outputs": [
    {
     "data": {
      "text/plain": [
       "['rsh20bkkb4zk_2025-10-21T070000_762c775ae454d23f2c6b6a75623d14c7_2853a0.csv.gz',\n",
       " 'rsh20bkkb4zk_2025-10-21T070000_762c775ae454d23f2c6b6a75623d14c7_2853a1.csv.gz',\n",
       " 'rsh20bkkb4zk_2025-10-21T070000_762c775ae454d23f2c6b6a75623d14c7_be8220.csv.gz',\n",
       " 'rsh20bkkb4zk_2025-10-21T070000_762c775ae454d23f2c6b6a75623d14c7_be8221.csv.gz',\n",
       " 'rsh20bkkb4zk_2025-10-21T070000_762c775ae454d23f2c6b6a75623d14c7_c35750.csv.gz',\n",
       " 'rsh20bkkb4zk_2025-10-21T070000_762c775ae454d23f2c6b6a75623d14c7_c35751.csv.gz']"
      ]
     },
     "execution_count": 3,
     "metadata": {},
     "output_type": "execute_result"
    }
   ],
   "source": [
    "container_name_uat = \"adjuststbuat\"\n",
    "container_client_uat = blob_service_client.get_container_client(container_name_uat)\n",
    "from collections import defaultdict\n",
    "files = [i.name for i in container_client_uat.list_blobs()]\n",
    "groups = defaultdict(list)\n",
    "for f in files:\n",
    "    dt = f.split('_')[1]\n",
    "    groups[dt].append(f)\n",
    "groups[dt]"
   ]
  },
  {
   "cell_type": "code",
   "execution_count": 4,
   "id": "5b9f4226",
   "metadata": {
    "execution": {
     "iopub.execute_input": "2025-10-21T08:09:59.611937Z",
     "iopub.status.busy": "2025-10-21T08:09:59.611760Z",
     "iopub.status.idle": "2025-10-21T08:09:59.614491Z",
     "shell.execute_reply": "2025-10-21T08:09:59.613817Z"
    },
    "papermill": {
     "duration": 0.006445,
     "end_time": "2025-10-21T08:09:59.615153",
     "exception": false,
     "start_time": "2025-10-21T08:09:59.608708",
     "status": "completed"
    },
    "tags": []
   },
   "outputs": [],
   "source": [
    "# from datetime import date, timedelta, datetime\n",
    "# import pandas as pd\n",
    "# today = date.today().strftime('%Y-%m-%d')\n",
    "# yesterday = (date.today() - timedelta(days = 1) ).strftime('%Y-%m-%d')\n",
    "# check_date = dt.split(\"T\")[0]\n",
    "# if check_date == today:\n",
    "#     need_process = pd.date_range(start=already_processed[-1], end=today).strftime('%Y-%m-%d').to_list()\n",
    "# else:\n",
    "#     need_process = pd.date_range(start=already_processed[-1], end=yesterday).strftime('%Y-%m-%d').to_list()\n",
    "# need_process"
   ]
  },
  {
   "cell_type": "code",
   "execution_count": 5,
   "id": "a81f3dcd",
   "metadata": {
    "execution": {
     "iopub.execute_input": "2025-10-21T08:09:59.620387Z",
     "iopub.status.busy": "2025-10-21T08:09:59.620204Z",
     "iopub.status.idle": "2025-10-21T08:09:59.919847Z",
     "shell.execute_reply": "2025-10-21T08:09:59.919076Z"
    },
    "papermill": {
     "duration": 0.303169,
     "end_time": "2025-10-21T08:09:59.920563",
     "exception": false,
     "start_time": "2025-10-21T08:09:59.617394",
     "status": "completed"
    },
    "tags": []
   },
   "outputs": [
    {
     "data": {
      "text/plain": [
       "['2025-10-20T220000',\n",
       " '2025-10-20T230000',\n",
       " '2025-10-21T000000',\n",
       " '2025-10-21T010000',\n",
       " '2025-10-21T020000',\n",
       " '2025-10-21T030000',\n",
       " '2025-10-21T040000',\n",
       " '2025-10-21T050000',\n",
       " '2025-10-21T060000',\n",
       " '2025-10-21T070000']"
      ]
     },
     "execution_count": 5,
     "metadata": {},
     "output_type": "execute_result"
    }
   ],
   "source": [
    "from datetime import datetime\n",
    "import pandas as pd\n",
    "B = datetime.strptime(dt, \"%Y-%m-%dT%H0000\")\n",
    "A = datetime.strptime(already_processed_ts[-2], \"%Y-%m-%dT%H0000\")\n",
    "need_process_ts =  pd.date_range(A, B, freq='h').strftime('%Y-%m-%dT%H0000').tolist()\n",
    "need_process_ts"
   ]
  },
  {
   "cell_type": "code",
   "execution_count": 6,
   "id": "76671b99",
   "metadata": {
    "execution": {
     "iopub.execute_input": "2025-10-21T08:09:59.926676Z",
     "iopub.status.busy": "2025-10-21T08:09:59.926407Z",
     "iopub.status.idle": "2025-10-21T08:11:30.563102Z",
     "shell.execute_reply": "2025-10-21T08:11:30.562061Z"
    },
    "papermill": {
     "duration": 90.640448,
     "end_time": "2025-10-21T08:11:30.563651",
     "exception": false,
     "start_time": "2025-10-21T08:09:59.923203",
     "status": "completed"
    },
    "tags": []
   },
   "outputs": [
    {
     "name": "stderr",
     "output_type": "stream",
     "text": [
      "\r",
      "  0%|          | 0/2080 [00:00<?, ?it/s]"
     ]
    },
    {
     "name": "stderr",
     "output_type": "stream",
     "text": [
      "\r",
      "100%|█████████▉| 2072/2080 [00:10<00:00, 189.86it/s]"
     ]
    },
    {
     "name": "stdout",
     "output_type": "stream",
     "text": [
      "Done dt=2025-10-20/2025-10-20T220000.parquet\n"
     ]
    },
    {
     "name": "stdout",
     "output_type": "stream",
     "text": [
      "Done dt=2025-10-21/2025-10-21T000000.parquet\n"
     ]
    },
    {
     "name": "stderr",
     "output_type": "stream",
     "text": [
      "\r",
      "100%|█████████▉| 2072/2080 [00:29<00:00, 189.86it/s]"
     ]
    },
    {
     "name": "stderr",
     "output_type": "stream",
     "text": [
      "\r",
      "100%|█████████▉| 2074/2080 [00:31<00:00, 51.67it/s] "
     ]
    },
    {
     "name": "stdout",
     "output_type": "stream",
     "text": [
      "Done dt=2025-10-21/2025-10-21T010000.parquet\n"
     ]
    },
    {
     "name": "stderr",
     "output_type": "stream",
     "text": [
      "\r",
      "100%|█████████▉| 2075/2080 [00:40<00:00, 34.88it/s]"
     ]
    },
    {
     "name": "stdout",
     "output_type": "stream",
     "text": [
      "Done dt=2025-10-21/2025-10-21T020000.parquet\n"
     ]
    },
    {
     "name": "stderr",
     "output_type": "stream",
     "text": [
      "\r",
      "100%|█████████▉| 2076/2080 [00:51<00:00, 23.01it/s]"
     ]
    },
    {
     "name": "stdout",
     "output_type": "stream",
     "text": [
      "Done dt=2025-10-21/2025-10-21T030000.parquet\n"
     ]
    },
    {
     "name": "stderr",
     "output_type": "stream",
     "text": [
      "\r",
      "100%|█████████▉| 2077/2080 [01:00<00:00, 16.10it/s]"
     ]
    },
    {
     "name": "stdout",
     "output_type": "stream",
     "text": [
      "Done dt=2025-10-21/2025-10-21T040000.parquet\n"
     ]
    },
    {
     "name": "stderr",
     "output_type": "stream",
     "text": [
      "\r",
      "100%|█████████▉| 2078/2080 [01:10<00:00, 11.24it/s]"
     ]
    },
    {
     "name": "stdout",
     "output_type": "stream",
     "text": [
      "Done dt=2025-10-21/2025-10-21T050000.parquet\n"
     ]
    },
    {
     "name": "stderr",
     "output_type": "stream",
     "text": [
      "\r",
      "100%|█████████▉| 2079/2080 [01:21<00:00,  7.57it/s]"
     ]
    },
    {
     "name": "stdout",
     "output_type": "stream",
     "text": [
      "Done dt=2025-10-21/2025-10-21T060000.parquet\n"
     ]
    },
    {
     "name": "stderr",
     "output_type": "stream",
     "text": [
      "\r",
      "100%|██████████| 2080/2080 [01:30<00:00,  5.39it/s]"
     ]
    },
    {
     "name": "stderr",
     "output_type": "stream",
     "text": [
      "\r",
      "100%|██████████| 2080/2080 [01:30<00:00, 22.98it/s]"
     ]
    },
    {
     "name": "stdout",
     "output_type": "stream",
     "text": [
      "Done dt=2025-10-21/2025-10-21T070000.parquet\n"
     ]
    },
    {
     "name": "stderr",
     "output_type": "stream",
     "text": [
      "\n"
     ]
    }
   ],
   "source": [
    "import polars as pl \n",
    "from tqdm import tqdm\n",
    "storage_options = {\n",
    "    \"account_name\": account_name,\n",
    "    \"account_key\":  account_key,\n",
    "}\n",
    "\n",
    "for ts, files in tqdm(groups.items()):\n",
    "    if ts not in need_process_ts:\n",
    "        continue\n",
    "    dt = ts[:10]\n",
    "    # if dt not in need_process:\n",
    "    #     continue\n",
    "    df = pl.scan_csv(f\"az://adjuststbuat/*_{ts}_*.csv.gz\", storage_options = storage_options,glob=True, has_header = True, null_values = [\"\",\"NULL\"], ignore_errors=True).select(pl.all().cast(pl.Utf8))\n",
    "    df.sink_parquet(f\"az://adjuststbuatprocessed/processing/dt={dt}/{ts}.parquet\", storage_options = storage_options, compression=\"snappy\")\n",
    "    print(f'Done dt={dt}/{ts}.parquet')\n",
    "        "
   ]
  },
  {
   "cell_type": "code",
   "execution_count": 7,
   "id": "aac04022",
   "metadata": {
    "execution": {
     "iopub.execute_input": "2025-10-21T08:11:30.571246Z",
     "iopub.status.busy": "2025-10-21T08:11:30.571043Z",
     "iopub.status.idle": "2025-10-21T08:11:30.575014Z",
     "shell.execute_reply": "2025-10-21T08:11:30.574389Z"
    },
    "papermill": {
     "duration": 0.008813,
     "end_time": "2025-10-21T08:11:30.575889",
     "exception": false,
     "start_time": "2025-10-21T08:11:30.567076",
     "status": "completed"
    },
    "tags": []
   },
   "outputs": [
    {
     "data": {
      "text/plain": [
       "{'2025-10-20', '2025-10-21'}"
      ]
     },
     "execution_count": 7,
     "metadata": {},
     "output_type": "execute_result"
    }
   ],
   "source": [
    "need_process = set([i.split(\"T\")[0] for i in need_process_ts])\n",
    "need_process"
   ]
  },
  {
   "cell_type": "code",
   "execution_count": 8,
   "id": "fb32d98d",
   "metadata": {
    "execution": {
     "iopub.execute_input": "2025-10-21T08:11:30.583143Z",
     "iopub.status.busy": "2025-10-21T08:11:30.582974Z",
     "iopub.status.idle": "2025-10-21T08:11:39.596093Z",
     "shell.execute_reply": "2025-10-21T08:11:39.595303Z"
    },
    "papermill": {
     "duration": 9.017518,
     "end_time": "2025-10-21T08:11:39.596683",
     "exception": false,
     "start_time": "2025-10-21T08:11:30.579165",
     "status": "completed"
    },
    "tags": []
   },
   "outputs": [
    {
     "name": "stdout",
     "output_type": "stream",
     "text": [
      "\n",
      " Done 2025-10-20\n",
      "\n"
     ]
    },
    {
     "name": "stdout",
     "output_type": "stream",
     "text": [
      "\n",
      " Done 2025-10-21\n",
      "\n"
     ]
    }
   ],
   "source": [
    "for dt in need_process:\n",
    "  df = pl.scan_parquet(f\"az://adjuststbuatprocessed/processing/dt={dt}/*.parquet\", storage_options=storage_options,glob=True).with_columns(pl.lit(dt).alias(\"dt\"))\n",
    "  df.sink_parquet(f\"az://adjuststbuatprocessed/output/{dt}.parquet\", storage_options=storage_options, compression=\"snappy\")\n",
    "  print(f'\\n Done {dt}\\n')"
   ]
  },
  {
   "cell_type": "markdown",
   "id": "59e1796d",
   "metadata": {
    "id": "2TvKr29qyJd_",
    "papermill": {
     "duration": 0.003326,
     "end_time": "2025-10-21T08:11:39.603555",
     "exception": false,
     "start_time": "2025-10-21T08:11:39.600229",
     "status": "completed"
    },
    "tags": []
   },
   "source": [
    "# Live"
   ]
  },
  {
   "cell_type": "code",
   "execution_count": 9,
   "id": "9eb6e73e",
   "metadata": {
    "execution": {
     "iopub.execute_input": "2025-10-21T08:11:39.610884Z",
     "iopub.status.busy": "2025-10-21T08:11:39.610685Z",
     "iopub.status.idle": "2025-10-21T08:11:44.450767Z",
     "shell.execute_reply": "2025-10-21T08:11:44.449914Z"
    },
    "id": "EnaFsdZFxpwc",
    "papermill": {
     "duration": 4.844635,
     "end_time": "2025-10-21T08:11:44.451408",
     "exception": false,
     "start_time": "2025-10-21T08:11:39.606773",
     "status": "completed"
    },
    "tags": []
   },
   "outputs": [
    {
     "data": {
      "text/plain": [
       "['2025-10-20T200000',\n",
       " '2025-10-20T210000',\n",
       " '2025-10-20T220000',\n",
       " '2025-10-20T230000',\n",
       " '2025-10-21T000000']"
      ]
     },
     "execution_count": 9,
     "metadata": {},
     "output_type": "execute_result"
    }
   ],
   "source": [
    "# already_processed = [file.name.split('/')[-1].split('.')[0] for file in container_client.list_blobs() if file.name[:12] == 'live/output/']\n",
    "# already_processed[-5:]\n",
    "already_processed_ts = sorted([file.name.split('/')[-1].split(\".\")[0] for file in container_client.list_blobs() if (file.name.split('/')[0] + \"/\" + file.name.split('/')[1]) == 'live/processing'])\n",
    "already_processed_ts[-5:]"
   ]
  },
  {
   "cell_type": "code",
   "execution_count": 10,
   "id": "f79f761b",
   "metadata": {
    "execution": {
     "iopub.execute_input": "2025-10-21T08:11:44.459372Z",
     "iopub.status.busy": "2025-10-21T08:11:44.459164Z",
     "iopub.status.idle": "2025-10-21T08:11:58.527478Z",
     "shell.execute_reply": "2025-10-21T08:11:58.526763Z"
    },
    "id": "I7Er6YEUyOsL",
    "papermill": {
     "duration": 14.073137,
     "end_time": "2025-10-21T08:11:58.528153",
     "exception": false,
     "start_time": "2025-10-21T08:11:44.455016",
     "status": "completed"
    },
    "tags": []
   },
   "outputs": [
    {
     "data": {
      "text/plain": [
       "['65n1fgov4zr4_2025-10-21T070000_762c775ae454d23f2c6b6a75623d14c7_2853a0.csv.gz',\n",
       " '65n1fgov4zr4_2025-10-21T070000_762c775ae454d23f2c6b6a75623d14c7_2853a1.csv.gz',\n",
       " '65n1fgov4zr4_2025-10-21T070000_762c775ae454d23f2c6b6a75623d14c7_be8220.csv.gz',\n",
       " '65n1fgov4zr4_2025-10-21T070000_762c775ae454d23f2c6b6a75623d14c7_be8221.csv.gz',\n",
       " '65n1fgov4zr4_2025-10-21T070000_762c775ae454d23f2c6b6a75623d14c7_c35750.csv.gz',\n",
       " '65n1fgov4zr4_2025-10-21T070000_762c775ae454d23f2c6b6a75623d14c7_c35751.csv.gz']"
      ]
     },
     "execution_count": 10,
     "metadata": {},
     "output_type": "execute_result"
    }
   ],
   "source": [
    "container_name_uat = \"adjuststblive\"\n",
    "container_client_uat = blob_service_client.get_container_client(container_name_uat)\n",
    "from collections import defaultdict\n",
    "files = [i.name for i in container_client_uat.list_blobs()]\n",
    "groups = defaultdict(list)\n",
    "for f in files:\n",
    "    dt = f.split('_')[1]\n",
    "    groups[dt].append(f)\n",
    "groups[dt]"
   ]
  },
  {
   "cell_type": "code",
   "execution_count": 11,
   "id": "c9e6b318",
   "metadata": {
    "execution": {
     "iopub.execute_input": "2025-10-21T08:11:58.536926Z",
     "iopub.status.busy": "2025-10-21T08:11:58.536748Z",
     "iopub.status.idle": "2025-10-21T08:11:58.541727Z",
     "shell.execute_reply": "2025-10-21T08:11:58.541010Z"
    },
    "papermill": {
     "duration": 0.010476,
     "end_time": "2025-10-21T08:11:58.542361",
     "exception": false,
     "start_time": "2025-10-21T08:11:58.531885",
     "status": "completed"
    },
    "tags": []
   },
   "outputs": [
    {
     "data": {
      "text/plain": [
       "['2025-10-21T000000',\n",
       " '2025-10-21T010000',\n",
       " '2025-10-21T020000',\n",
       " '2025-10-21T030000',\n",
       " '2025-10-21T040000',\n",
       " '2025-10-21T050000',\n",
       " '2025-10-21T060000',\n",
       " '2025-10-21T070000']"
      ]
     },
     "execution_count": 11,
     "metadata": {},
     "output_type": "execute_result"
    }
   ],
   "source": [
    "# need_process = pd.date_range(start=already_processed[-1], end=today).strftime('%Y-%m-%d').to_list()\n",
    "# need_process\n",
    "\n",
    "B = datetime.strptime(dt, \"%Y-%m-%dT%H0000\")\n",
    "A = datetime.strptime(already_processed_ts[-1], \"%Y-%m-%dT%H0000\")\n",
    "need_process_ts =  pd.date_range(A, B, freq='h').strftime('%Y-%m-%dT%H0000').tolist()\n",
    "need_process_ts"
   ]
  },
  {
   "cell_type": "code",
   "execution_count": 12,
   "id": "d046e75e",
   "metadata": {
    "execution": {
     "iopub.execute_input": "2025-10-21T08:11:58.550242Z",
     "iopub.status.busy": "2025-10-21T08:11:58.550007Z",
     "iopub.status.idle": "2025-10-21T08:15:46.682035Z",
     "shell.execute_reply": "2025-10-21T08:15:46.681233Z"
    },
    "id": "g-W3s2nRyRY7",
    "papermill": {
     "duration": 228.136799,
     "end_time": "2025-10-21T08:15:46.682649",
     "exception": false,
     "start_time": "2025-10-21T08:11:58.545850",
     "status": "completed"
    },
    "tags": []
   },
   "outputs": [
    {
     "name": "stderr",
     "output_type": "stream",
     "text": [
      "\r",
      "  0%|          | 0/2134 [00:00<?, ?it/s]"
     ]
    },
    {
     "name": "stderr",
     "output_type": "stream",
     "text": [
      "\r",
      "100%|█████████▉| 2127/2134 [00:31<00:00, 66.86it/s]"
     ]
    },
    {
     "name": "stdout",
     "output_type": "stream",
     "text": [
      "Done dt=2025-10-21/2025-10-21T000000.parquet\n"
     ]
    },
    {
     "name": "stderr",
     "output_type": "stream",
     "text": [
      "\r",
      "100%|█████████▉| 2127/2134 [00:51<00:00, 66.86it/s]"
     ]
    },
    {
     "name": "stderr",
     "output_type": "stream",
     "text": [
      "\r",
      "100%|█████████▉| 2128/2134 [00:59<00:00, 30.04it/s]"
     ]
    },
    {
     "name": "stdout",
     "output_type": "stream",
     "text": [
      "Done dt=2025-10-21/2025-10-21T010000.parquet\n"
     ]
    },
    {
     "name": "stderr",
     "output_type": "stream",
     "text": [
      "\r",
      "100%|█████████▉| 2129/2134 [01:26<00:00, 16.81it/s]"
     ]
    },
    {
     "name": "stdout",
     "output_type": "stream",
     "text": [
      "Done dt=2025-10-21/2025-10-21T020000.parquet\n"
     ]
    },
    {
     "name": "stderr",
     "output_type": "stream",
     "text": [
      "\r",
      "100%|█████████▉| 2130/2134 [01:54<00:00, 10.29it/s]"
     ]
    },
    {
     "name": "stdout",
     "output_type": "stream",
     "text": [
      "Done dt=2025-10-21/2025-10-21T030000.parquet\n"
     ]
    },
    {
     "name": "stderr",
     "output_type": "stream",
     "text": [
      "\r",
      "100%|█████████▉| 2131/2134 [02:23<00:00,  6.50it/s]"
     ]
    },
    {
     "name": "stdout",
     "output_type": "stream",
     "text": [
      "Done dt=2025-10-21/2025-10-21T040000.parquet\n"
     ]
    },
    {
     "name": "stderr",
     "output_type": "stream",
     "text": [
      "\r",
      "100%|█████████▉| 2132/2134 [02:51<00:00,  4.31it/s]"
     ]
    },
    {
     "name": "stdout",
     "output_type": "stream",
     "text": [
      "Done dt=2025-10-21/2025-10-21T050000.parquet\n"
     ]
    },
    {
     "name": "stderr",
     "output_type": "stream",
     "text": [
      "\r",
      "100%|█████████▉| 2133/2134 [03:20<00:00,  2.91it/s]"
     ]
    },
    {
     "name": "stdout",
     "output_type": "stream",
     "text": [
      "Done dt=2025-10-21/2025-10-21T060000.parquet\n"
     ]
    },
    {
     "name": "stderr",
     "output_type": "stream",
     "text": [
      "\r",
      "100%|██████████| 2134/2134 [03:48<00:00,  2.01it/s]"
     ]
    },
    {
     "name": "stderr",
     "output_type": "stream",
     "text": [
      "\r",
      "100%|██████████| 2134/2134 [03:48<00:00,  9.35it/s]"
     ]
    },
    {
     "name": "stdout",
     "output_type": "stream",
     "text": [
      "Done dt=2025-10-21/2025-10-21T070000.parquet\n"
     ]
    },
    {
     "name": "stderr",
     "output_type": "stream",
     "text": [
      "\n"
     ]
    }
   ],
   "source": [
    "storage_options = {\n",
    "    \"account_name\": account_name,\n",
    "    \"account_key\":  account_key,\n",
    "}\n",
    "\n",
    "for ts, files in tqdm(groups.items()):\n",
    "    if ts not in need_process_ts: continue\n",
    "    dt = ts[:10]\n",
    "    # if dt not in need_process:\n",
    "    #     continue\n",
    "    df = pl.scan_csv(f\"az://adjuststblive/*_{ts}_*.csv.gz\", storage_options = storage_options,glob=True, has_header = True, null_values = [\"\",\"NULL\"], ignore_errors=True).select(pl.all().cast(pl.Utf8))\n",
    "    df.sink_parquet(f\"az://adjuststbuatprocessed/live/processing/dt={dt}/{ts}.parquet\", storage_options = storage_options, compression=\"snappy\")\n",
    "    print(f'Done dt={dt}/{ts}.parquet')\n",
    "        "
   ]
  },
  {
   "cell_type": "code",
   "execution_count": 13,
   "id": "e3701a27",
   "metadata": {
    "execution": {
     "iopub.execute_input": "2025-10-21T08:15:46.692439Z",
     "iopub.status.busy": "2025-10-21T08:15:46.692281Z",
     "iopub.status.idle": "2025-10-21T08:15:46.696489Z",
     "shell.execute_reply": "2025-10-21T08:15:46.695703Z"
    },
    "papermill": {
     "duration": 0.009774,
     "end_time": "2025-10-21T08:15:46.697010",
     "exception": false,
     "start_time": "2025-10-21T08:15:46.687236",
     "status": "completed"
    },
    "tags": []
   },
   "outputs": [
    {
     "data": {
      "text/plain": [
       "{'2025-10-21'}"
      ]
     },
     "execution_count": 13,
     "metadata": {},
     "output_type": "execute_result"
    }
   ],
   "source": [
    "need_process = set([i.split(\"T\")[0] for i in need_process_ts])\n",
    "need_process"
   ]
  },
  {
   "cell_type": "code",
   "execution_count": 14,
   "id": "43897eff",
   "metadata": {
    "execution": {
     "iopub.execute_input": "2025-10-21T08:15:46.706383Z",
     "iopub.status.busy": "2025-10-21T08:15:46.706194Z",
     "iopub.status.idle": "2025-10-21T08:16:46.047432Z",
     "shell.execute_reply": "2025-10-21T08:16:46.025325Z"
    },
    "id": "sBm7rfFUyePJ",
    "papermill": {
     "duration": 59.453809,
     "end_time": "2025-10-21T08:16:46.155105",
     "exception": false,
     "start_time": "2025-10-21T08:15:46.701296",
     "status": "completed"
    },
    "tags": []
   },
   "outputs": [
    {
     "name": "stdout",
     "output_type": "stream",
     "text": [
      "\n",
      " Done 2025-10-21\n",
      "\n"
     ]
    }
   ],
   "source": [
    "for dt in need_process:\n",
    "  df = pl.scan_parquet(f\"az://adjuststbuatprocessed/live/processing/dt={dt}/*.parquet\", storage_options=storage_options,glob=True).with_columns(pl.lit(dt).alias(\"dt\"))\n",
    "  df.sink_parquet(f\"az://adjuststbuatprocessed/live/output/{dt}.parquet\", storage_options=storage_options, compression=\"snappy\")\n",
    "  print(f'\\n Done {dt}\\n')"
   ]
  }
 ],
 "metadata": {
  "colab": {
   "authorship_tag": "ABX9TyOfzO6uvqUX+Tt89Y73G9E8",
   "include_colab_link": true,
   "provenance": []
  },
  "kernelspec": {
   "display_name": "Python 3",
   "name": "python3"
  },
  "language_info": {
   "codemirror_mode": {
    "name": "ipython",
    "version": 3
   },
   "file_extension": ".py",
   "mimetype": "text/x-python",
   "name": "python",
   "nbconvert_exporter": "python",
   "pygments_lexer": "ipython3",
   "version": "3.11.13"
  },
  "papermill": {
   "default_parameters": {},
   "duration": 427.560644,
   "end_time": "2025-10-21T08:16:49.164189",
   "environment_variables": {},
   "exception": null,
   "input_path": "notebooks/ADJUST_JOB.ipynb",
   "output_path": "outputs/ADJUST_JOB_2025-10-21.ipynb",
   "parameters": {
    "RUN_DATE": "2025-10-21"
   },
   "start_time": "2025-10-21T08:09:41.603545",
   "version": "2.6.0"
  }
 },
 "nbformat": 4,
 "nbformat_minor": 5
}