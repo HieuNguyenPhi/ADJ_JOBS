{
 "cells": [
  {
   "cell_type": "code",
   "execution_count": 1,
   "id": "5c24d53f",
   "metadata": {
    "execution": {
     "iopub.execute_input": "2025-10-22T03:37:33.800925Z",
     "iopub.status.busy": "2025-10-22T03:37:33.800718Z",
     "iopub.status.idle": "2025-10-22T03:37:33.806038Z",
     "shell.execute_reply": "2025-10-22T03:37:33.805258Z"
    },
    "papermill": {
     "duration": 0.00979,
     "end_time": "2025-10-22T03:37:33.806641",
     "exception": false,
     "start_time": "2025-10-22T03:37:33.796851",
     "status": "completed"
    },
    "tags": [
     "injected-parameters"
    ]
   },
   "outputs": [],
   "source": [
    "# Parameters\n",
    "RUN_DATE = \"2025-10-22\"\n"
   ]
  },
  {
   "cell_type": "markdown",
   "id": "4e4609cf",
   "metadata": {
    "colab_type": "text",
    "id": "view-in-github",
    "papermill": {
     "duration": 0.001934,
     "end_time": "2025-10-22T03:37:33.810792",
     "exception": false,
     "start_time": "2025-10-22T03:37:33.808858",
     "status": "completed"
    },
    "tags": []
   },
   "source": [
    "<a href=\"https://colab.research.google.com/github/HieuNguyenPhi/ADJ_JOBS/blob/main/notebooks/ADJUST_JOB.ipynb\" target=\"_parent\"><img src=\"https://colab.research.google.com/assets/colab-badge.svg\" alt=\"Open In Colab\"/></a>"
   ]
  },
  {
   "cell_type": "markdown",
   "id": "32cfe332",
   "metadata": {
    "papermill": {
     "duration": 0.002773,
     "end_time": "2025-10-22T03:37:33.815477",
     "exception": false,
     "start_time": "2025-10-22T03:37:33.812704",
     "status": "completed"
    },
    "tags": []
   },
   "source": [
    "# UAT"
   ]
  },
  {
   "cell_type": "code",
   "execution_count": 2,
   "id": "480000bd",
   "metadata": {
    "execution": {
     "iopub.execute_input": "2025-10-22T03:37:33.820260Z",
     "iopub.status.busy": "2025-10-22T03:37:33.820095Z",
     "iopub.status.idle": "2025-10-22T03:37:41.101731Z",
     "shell.execute_reply": "2025-10-22T03:37:41.100919Z"
    },
    "id": "ycUR2r1dq1Nm",
    "papermill": {
     "duration": 7.284949,
     "end_time": "2025-10-22T03:37:41.102358",
     "exception": false,
     "start_time": "2025-10-22T03:37:33.817409",
     "status": "completed"
    },
    "tags": []
   },
   "outputs": [
    {
     "data": {
      "text/plain": [
       "['2025-10-21T200000',\n",
       " '2025-10-21T210000',\n",
       " '2025-10-21T220000',\n",
       " '2025-10-21T230000',\n",
       " '2025-10-22T000000']"
      ]
     },
     "execution_count": 2,
     "metadata": {},
     "output_type": "execute_result"
    }
   ],
   "source": [
    "import os\n",
    "from azure.storage.blob import BlobServiceClient\n",
    "\n",
    "account_name = os.getenv('ACCOUNT_NAME')\n",
    "account_key = os.getenv('ACCOUNT_KEY')\n",
    "# Replace with your Azure Storage account name and SAS token or connection string\n",
    "connect_str = f\"DefaultEndpointsProtocol=https;AccountName={account_name};AccountKey={account_key};EndpointSuffix=core.windows.net\"\n",
    "blob_service_client = BlobServiceClient.from_connection_string(connect_str)\n",
    "container_list = blob_service_client.list_containers()\n",
    "container_name = \"adjuststbuatprocessed\" #os.getenv('CONTAINER_NAME')\n",
    "container_client = blob_service_client.get_container_client(container_name)\n",
    "# already_processed = [file.name.split('/')[1].split('.')[0] for file in container_client.list_blobs() if file.name.split('/')[0] == 'output']\n",
    "# already_processed[-5:]\n",
    "already_processed_ts = sorted([file.name.split('/')[-1].split(\".\")[0] for file in container_client.list_blobs() if file.name.split('/')[0] == 'processing'])\n",
    "already_processed_ts[-5:]"
   ]
  },
  {
   "cell_type": "code",
   "execution_count": 3,
   "id": "5167dd15",
   "metadata": {
    "execution": {
     "iopub.execute_input": "2025-10-22T03:37:41.107945Z",
     "iopub.status.busy": "2025-10-22T03:37:41.107704Z",
     "iopub.status.idle": "2025-10-22T03:37:50.736058Z",
     "shell.execute_reply": "2025-10-22T03:37:50.735160Z"
    },
    "id": "xyPuVC12s7fn",
    "papermill": {
     "duration": 9.631843,
     "end_time": "2025-10-22T03:37:50.736636",
     "exception": false,
     "start_time": "2025-10-22T03:37:41.104793",
     "status": "completed"
    },
    "tags": []
   },
   "outputs": [
    {
     "data": {
      "text/plain": [
       "['rsh20bkkb4zk_2025-10-22T020000_762c775ae454d23f2c6b6a75623d14c7_2853a0.csv.gz',\n",
       " 'rsh20bkkb4zk_2025-10-22T020000_762c775ae454d23f2c6b6a75623d14c7_2853a1.csv.gz',\n",
       " 'rsh20bkkb4zk_2025-10-22T020000_762c775ae454d23f2c6b6a75623d14c7_be8220.csv.gz',\n",
       " 'rsh20bkkb4zk_2025-10-22T020000_762c775ae454d23f2c6b6a75623d14c7_be8221.csv.gz',\n",
       " 'rsh20bkkb4zk_2025-10-22T020000_762c775ae454d23f2c6b6a75623d14c7_c35750.csv.gz',\n",
       " 'rsh20bkkb4zk_2025-10-22T020000_762c775ae454d23f2c6b6a75623d14c7_c35751.csv.gz']"
      ]
     },
     "execution_count": 3,
     "metadata": {},
     "output_type": "execute_result"
    }
   ],
   "source": [
    "container_name_uat = \"adjuststbuat\"\n",
    "container_client_uat = blob_service_client.get_container_client(container_name_uat)\n",
    "from collections import defaultdict\n",
    "files = [i.name for i in container_client_uat.list_blobs()]\n",
    "groups = defaultdict(list)\n",
    "for f in files:\n",
    "    dt = f.split('_')[1]\n",
    "    groups[dt].append(f)\n",
    "groups[dt]"
   ]
  },
  {
   "cell_type": "code",
   "execution_count": 4,
   "id": "92373cea",
   "metadata": {
    "execution": {
     "iopub.execute_input": "2025-10-22T03:37:50.742410Z",
     "iopub.status.busy": "2025-10-22T03:37:50.742243Z",
     "iopub.status.idle": "2025-10-22T03:37:50.745181Z",
     "shell.execute_reply": "2025-10-22T03:37:50.744363Z"
    },
    "papermill": {
     "duration": 0.006496,
     "end_time": "2025-10-22T03:37:50.745723",
     "exception": false,
     "start_time": "2025-10-22T03:37:50.739227",
     "status": "completed"
    },
    "tags": []
   },
   "outputs": [],
   "source": [
    "# from datetime import date, timedelta, datetime\n",
    "# import pandas as pd\n",
    "# today = date.today().strftime('%Y-%m-%d')\n",
    "# yesterday = (date.today() - timedelta(days = 1) ).strftime('%Y-%m-%d')\n",
    "# check_date = dt.split(\"T\")[0]\n",
    "# if check_date == today:\n",
    "#     need_process = pd.date_range(start=already_processed[-1], end=today).strftime('%Y-%m-%d').to_list()\n",
    "# else:\n",
    "#     need_process = pd.date_range(start=already_processed[-1], end=yesterday).strftime('%Y-%m-%d').to_list()\n",
    "# need_process"
   ]
  },
  {
   "cell_type": "code",
   "execution_count": 5,
   "id": "2ac7aa62",
   "metadata": {
    "execution": {
     "iopub.execute_input": "2025-10-22T03:37:50.750868Z",
     "iopub.status.busy": "2025-10-22T03:37:50.750717Z",
     "iopub.status.idle": "2025-10-22T03:37:51.101886Z",
     "shell.execute_reply": "2025-10-22T03:37:51.101040Z"
    },
    "papermill": {
     "duration": 0.354613,
     "end_time": "2025-10-22T03:37:51.102545",
     "exception": false,
     "start_time": "2025-10-22T03:37:50.747932",
     "status": "completed"
    },
    "tags": []
   },
   "outputs": [
    {
     "data": {
      "text/plain": [
       "['2025-10-21T230000',\n",
       " '2025-10-22T000000',\n",
       " '2025-10-22T010000',\n",
       " '2025-10-22T020000']"
      ]
     },
     "execution_count": 5,
     "metadata": {},
     "output_type": "execute_result"
    }
   ],
   "source": [
    "from datetime import datetime\n",
    "import pandas as pd\n",
    "B = datetime.strptime(dt, \"%Y-%m-%dT%H0000\")\n",
    "A = datetime.strptime(already_processed_ts[-2], \"%Y-%m-%dT%H0000\")\n",
    "need_process_ts =  pd.date_range(A, B, freq='h').strftime('%Y-%m-%dT%H0000').tolist()\n",
    "need_process_ts"
   ]
  },
  {
   "cell_type": "code",
   "execution_count": 6,
   "id": "fa41f34f",
   "metadata": {
    "execution": {
     "iopub.execute_input": "2025-10-22T03:37:51.109615Z",
     "iopub.status.busy": "2025-10-22T03:37:51.109362Z",
     "iopub.status.idle": "2025-10-22T03:38:33.034815Z",
     "shell.execute_reply": "2025-10-22T03:38:33.034031Z"
    },
    "papermill": {
     "duration": 41.930206,
     "end_time": "2025-10-22T03:38:33.035442",
     "exception": false,
     "start_time": "2025-10-22T03:37:51.105236",
     "status": "completed"
    },
    "tags": []
   },
   "outputs": [
    {
     "name": "stderr",
     "output_type": "stream",
     "text": [
      "\r",
      "  0%|          | 0/2099 [00:00<?, ?it/s]"
     ]
    },
    {
     "name": "stderr",
     "output_type": "stream",
     "text": [
      "\r",
      "100%|█████████▉| 2096/2099 [00:12<00:00, 172.23it/s]"
     ]
    },
    {
     "name": "stdout",
     "output_type": "stream",
     "text": [
      "Done dt=2025-10-21/2025-10-21T230000.parquet\n"
     ]
    },
    {
     "name": "stdout",
     "output_type": "stream",
     "text": [
      "Done dt=2025-10-22/2025-10-22T000000.parquet\n"
     ]
    },
    {
     "name": "stderr",
     "output_type": "stream",
     "text": [
      "\r",
      "100%|█████████▉| 2096/2099 [00:29<00:00, 172.23it/s]"
     ]
    },
    {
     "name": "stderr",
     "output_type": "stream",
     "text": [
      "\r",
      "100%|█████████▉| 2098/2099 [00:32<00:00, 51.58it/s] "
     ]
    },
    {
     "name": "stdout",
     "output_type": "stream",
     "text": [
      "Done dt=2025-10-22/2025-10-22T010000.parquet\n"
     ]
    },
    {
     "name": "stderr",
     "output_type": "stream",
     "text": [
      "\r",
      "100%|██████████| 2099/2099 [00:41<00:00, 34.75it/s]"
     ]
    },
    {
     "name": "stderr",
     "output_type": "stream",
     "text": [
      "\r",
      "100%|██████████| 2099/2099 [00:41<00:00, 50.19it/s]"
     ]
    },
    {
     "name": "stdout",
     "output_type": "stream",
     "text": [
      "Done dt=2025-10-22/2025-10-22T020000.parquet\n"
     ]
    },
    {
     "name": "stderr",
     "output_type": "stream",
     "text": [
      "\n"
     ]
    }
   ],
   "source": [
    "import polars as pl \n",
    "from tqdm import tqdm\n",
    "storage_options = {\n",
    "    \"account_name\": account_name,\n",
    "    \"account_key\":  account_key,\n",
    "}\n",
    "\n",
    "for ts, files in tqdm(groups.items()):\n",
    "    if ts not in need_process_ts:\n",
    "        continue\n",
    "    dt = ts[:10]\n",
    "    # if dt not in need_process:\n",
    "    #     continue\n",
    "    df = pl.scan_csv(f\"az://adjuststbuat/*_{ts}_*.csv.gz\", storage_options = storage_options,glob=True, has_header = True, null_values = [\"\",\"NULL\"], ignore_errors=True).select(pl.all().cast(pl.Utf8))\n",
    "    df.sink_parquet(f\"az://adjuststbuatprocessed/processing/dt={dt}/{ts}.parquet\", storage_options = storage_options, compression=\"snappy\")\n",
    "    print(f'Done dt={dt}/{ts}.parquet')\n",
    "        "
   ]
  },
  {
   "cell_type": "code",
   "execution_count": 7,
   "id": "fe40e7ca",
   "metadata": {
    "execution": {
     "iopub.execute_input": "2025-10-22T03:38:33.042302Z",
     "iopub.status.busy": "2025-10-22T03:38:33.042099Z",
     "iopub.status.idle": "2025-10-22T03:38:33.046433Z",
     "shell.execute_reply": "2025-10-22T03:38:33.045642Z"
    },
    "papermill": {
     "duration": 0.008495,
     "end_time": "2025-10-22T03:38:33.046984",
     "exception": false,
     "start_time": "2025-10-22T03:38:33.038489",
     "status": "completed"
    },
    "tags": []
   },
   "outputs": [
    {
     "data": {
      "text/plain": [
       "{'2025-10-21', '2025-10-22'}"
      ]
     },
     "execution_count": 7,
     "metadata": {},
     "output_type": "execute_result"
    }
   ],
   "source": [
    "need_process = set([i.split(\"T\")[0] for i in need_process_ts])\n",
    "need_process"
   ]
  },
  {
   "cell_type": "code",
   "execution_count": 8,
   "id": "742a6df2",
   "metadata": {
    "execution": {
     "iopub.execute_input": "2025-10-22T03:38:33.053442Z",
     "iopub.status.busy": "2025-10-22T03:38:33.053270Z",
     "iopub.status.idle": "2025-10-22T03:38:42.547121Z",
     "shell.execute_reply": "2025-10-22T03:38:42.546379Z"
    },
    "papermill": {
     "duration": 9.497994,
     "end_time": "2025-10-22T03:38:42.547792",
     "exception": false,
     "start_time": "2025-10-22T03:38:33.049798",
     "status": "completed"
    },
    "tags": []
   },
   "outputs": [
    {
     "name": "stdout",
     "output_type": "stream",
     "text": [
      "\n",
      " Done 2025-10-22\n",
      "\n"
     ]
    },
    {
     "name": "stdout",
     "output_type": "stream",
     "text": [
      "\n",
      " Done 2025-10-21\n",
      "\n"
     ]
    }
   ],
   "source": [
    "for dt in need_process:\n",
    "  df = pl.scan_parquet(f\"az://adjuststbuatprocessed/processing/dt={dt}/*.parquet\", storage_options=storage_options,glob=True).with_columns(pl.lit(dt).alias(\"dt\"))\n",
    "  df.sink_parquet(f\"az://adjuststbuatprocessed/output/{dt}.parquet\", storage_options=storage_options, compression=\"snappy\")\n",
    "  print(f'\\n Done {dt}\\n')"
   ]
  },
  {
   "cell_type": "markdown",
   "id": "2016ab55",
   "metadata": {
    "id": "2TvKr29qyJd_",
    "papermill": {
     "duration": 0.003171,
     "end_time": "2025-10-22T03:38:42.554129",
     "exception": false,
     "start_time": "2025-10-22T03:38:42.550958",
     "status": "completed"
    },
    "tags": []
   },
   "source": [
    "# Live"
   ]
  },
  {
   "cell_type": "code",
   "execution_count": 9,
   "id": "6fa473a2",
   "metadata": {
    "execution": {
     "iopub.execute_input": "2025-10-22T03:38:42.560723Z",
     "iopub.status.busy": "2025-10-22T03:38:42.560538Z",
     "iopub.status.idle": "2025-10-22T03:38:47.298848Z",
     "shell.execute_reply": "2025-10-22T03:38:47.298024Z"
    },
    "id": "EnaFsdZFxpwc",
    "papermill": {
     "duration": 4.742476,
     "end_time": "2025-10-22T03:38:47.299460",
     "exception": false,
     "start_time": "2025-10-22T03:38:42.556984",
     "status": "completed"
    },
    "tags": []
   },
   "outputs": [
    {
     "data": {
      "text/plain": [
       "['2025-10-21T200000',\n",
       " '2025-10-21T210000',\n",
       " '2025-10-21T220000',\n",
       " '2025-10-21T230000',\n",
       " '2025-10-22T000000']"
      ]
     },
     "execution_count": 9,
     "metadata": {},
     "output_type": "execute_result"
    }
   ],
   "source": [
    "# already_processed = [file.name.split('/')[-1].split('.')[0] for file in container_client.list_blobs() if file.name[:12] == 'live/output/']\n",
    "# already_processed[-5:]\n",
    "already_processed_ts = sorted([file.name.split('/')[-1].split(\".\")[0] for file in container_client.list_blobs() if (file.name.split('/')[0] + \"/\" + file.name.split('/')[1]) == 'live/processing'])\n",
    "already_processed_ts[-5:]"
   ]
  },
  {
   "cell_type": "code",
   "execution_count": 10,
   "id": "73221f3f",
   "metadata": {
    "execution": {
     "iopub.execute_input": "2025-10-22T03:38:47.306934Z",
     "iopub.status.busy": "2025-10-22T03:38:47.306724Z",
     "iopub.status.idle": "2025-10-22T03:39:01.260131Z",
     "shell.execute_reply": "2025-10-22T03:39:01.259368Z"
    },
    "id": "I7Er6YEUyOsL",
    "papermill": {
     "duration": 13.957995,
     "end_time": "2025-10-22T03:39:01.260861",
     "exception": false,
     "start_time": "2025-10-22T03:38:47.302866",
     "status": "completed"
    },
    "tags": []
   },
   "outputs": [
    {
     "data": {
      "text/plain": [
       "['65n1fgov4zr4_2025-10-22T020000_762c775ae454d23f2c6b6a75623d14c7_2853a0.csv.gz',\n",
       " '65n1fgov4zr4_2025-10-22T020000_762c775ae454d23f2c6b6a75623d14c7_2853a1.csv.gz',\n",
       " '65n1fgov4zr4_2025-10-22T020000_762c775ae454d23f2c6b6a75623d14c7_be8220.csv.gz',\n",
       " '65n1fgov4zr4_2025-10-22T020000_762c775ae454d23f2c6b6a75623d14c7_be8221.csv.gz',\n",
       " '65n1fgov4zr4_2025-10-22T020000_762c775ae454d23f2c6b6a75623d14c7_c35750.csv.gz',\n",
       " '65n1fgov4zr4_2025-10-22T020000_762c775ae454d23f2c6b6a75623d14c7_c35751.csv.gz']"
      ]
     },
     "execution_count": 10,
     "metadata": {},
     "output_type": "execute_result"
    }
   ],
   "source": [
    "container_name_uat = \"adjuststblive\"\n",
    "container_client_uat = blob_service_client.get_container_client(container_name_uat)\n",
    "from collections import defaultdict\n",
    "files = [i.name for i in container_client_uat.list_blobs()]\n",
    "groups = defaultdict(list)\n",
    "for f in files:\n",
    "    dt = f.split('_')[1]\n",
    "    groups[dt].append(f)\n",
    "groups[dt]"
   ]
  },
  {
   "cell_type": "code",
   "execution_count": 11,
   "id": "f8bf5eff",
   "metadata": {
    "execution": {
     "iopub.execute_input": "2025-10-22T03:39:01.268396Z",
     "iopub.status.busy": "2025-10-22T03:39:01.268211Z",
     "iopub.status.idle": "2025-10-22T03:39:01.273194Z",
     "shell.execute_reply": "2025-10-22T03:39:01.272425Z"
    },
    "papermill": {
     "duration": 0.009565,
     "end_time": "2025-10-22T03:39:01.273771",
     "exception": false,
     "start_time": "2025-10-22T03:39:01.264206",
     "status": "completed"
    },
    "tags": []
   },
   "outputs": [
    {
     "data": {
      "text/plain": [
       "['2025-10-22T000000', '2025-10-22T010000', '2025-10-22T020000']"
      ]
     },
     "execution_count": 11,
     "metadata": {},
     "output_type": "execute_result"
    }
   ],
   "source": [
    "# need_process = pd.date_range(start=already_processed[-1], end=today).strftime('%Y-%m-%d').to_list()\n",
    "# need_process\n",
    "\n",
    "B = datetime.strptime(dt, \"%Y-%m-%dT%H0000\")\n",
    "A = datetime.strptime(already_processed_ts[-1], \"%Y-%m-%dT%H0000\")\n",
    "need_process_ts =  pd.date_range(A, B, freq='h').strftime('%Y-%m-%dT%H0000').tolist()\n",
    "need_process_ts"
   ]
  },
  {
   "cell_type": "code",
   "execution_count": 12,
   "id": "91132482",
   "metadata": {
    "execution": {
     "iopub.execute_input": "2025-10-22T03:39:01.280874Z",
     "iopub.status.busy": "2025-10-22T03:39:01.280709Z",
     "iopub.status.idle": "2025-10-22T03:40:26.925774Z",
     "shell.execute_reply": "2025-10-22T03:40:26.924907Z"
    },
    "id": "g-W3s2nRyRY7",
    "papermill": {
     "duration": 85.65271,
     "end_time": "2025-10-22T03:40:26.929647",
     "exception": false,
     "start_time": "2025-10-22T03:39:01.276937",
     "status": "completed"
    },
    "tags": []
   },
   "outputs": [
    {
     "name": "stderr",
     "output_type": "stream",
     "text": [
      "\r",
      "  0%|          | 0/2153 [00:00<?, ?it/s]"
     ]
    },
    {
     "name": "stderr",
     "output_type": "stream",
     "text": [
      "\r",
      "100%|█████████▉| 2151/2153 [00:31<00:00, 69.30it/s]"
     ]
    },
    {
     "name": "stdout",
     "output_type": "stream",
     "text": [
      "Done dt=2025-10-22/2025-10-22T000000.parquet\n"
     ]
    },
    {
     "name": "stderr",
     "output_type": "stream",
     "text": [
      "\r",
      "100%|█████████▉| 2151/2153 [00:49<00:00, 69.30it/s]"
     ]
    },
    {
     "name": "stderr",
     "output_type": "stream",
     "text": [
      "\r",
      "100%|█████████▉| 2152/2153 [00:57<00:00, 31.43it/s]"
     ]
    },
    {
     "name": "stdout",
     "output_type": "stream",
     "text": [
      "Done dt=2025-10-22/2025-10-22T010000.parquet\n"
     ]
    },
    {
     "name": "stderr",
     "output_type": "stream",
     "text": [
      "\r",
      "100%|██████████| 2153/2153 [01:25<00:00, 17.04it/s]"
     ]
    },
    {
     "name": "stderr",
     "output_type": "stream",
     "text": [
      "\r",
      "100%|██████████| 2153/2153 [01:25<00:00, 25.14it/s]"
     ]
    },
    {
     "name": "stdout",
     "output_type": "stream",
     "text": [
      "Done dt=2025-10-22/2025-10-22T020000.parquet\n"
     ]
    },
    {
     "name": "stderr",
     "output_type": "stream",
     "text": [
      "\n"
     ]
    }
   ],
   "source": [
    "storage_options = {\n",
    "    \"account_name\": account_name,\n",
    "    \"account_key\":  account_key,\n",
    "}\n",
    "\n",
    "for ts, files in tqdm(groups.items()):\n",
    "    if ts not in need_process_ts: continue\n",
    "    dt = ts[:10]\n",
    "    # if dt not in need_process:\n",
    "    #     continue\n",
    "    df = pl.scan_csv(f\"az://adjuststblive/*_{ts}_*.csv.gz\", storage_options = storage_options,glob=True, has_header = True, null_values = [\"\",\"NULL\"], ignore_errors=True).select(pl.all().cast(pl.Utf8))\n",
    "    df.sink_parquet(f\"az://adjuststbuatprocessed/live/processing/dt={dt}/{ts}.parquet\", storage_options = storage_options, compression=\"snappy\")\n",
    "    print(f'Done dt={dt}/{ts}.parquet')\n",
    "        "
   ]
  },
  {
   "cell_type": "code",
   "execution_count": 13,
   "id": "169b4341",
   "metadata": {
    "execution": {
     "iopub.execute_input": "2025-10-22T03:40:26.937729Z",
     "iopub.status.busy": "2025-10-22T03:40:26.937568Z",
     "iopub.status.idle": "2025-10-22T03:40:26.941616Z",
     "shell.execute_reply": "2025-10-22T03:40:26.940778Z"
    },
    "papermill": {
     "duration": 0.008857,
     "end_time": "2025-10-22T03:40:26.942164",
     "exception": false,
     "start_time": "2025-10-22T03:40:26.933307",
     "status": "completed"
    },
    "tags": []
   },
   "outputs": [
    {
     "data": {
      "text/plain": [
       "{'2025-10-22'}"
      ]
     },
     "execution_count": 13,
     "metadata": {},
     "output_type": "execute_result"
    }
   ],
   "source": [
    "need_process = set([i.split(\"T\")[0] for i in need_process_ts])\n",
    "need_process"
   ]
  },
  {
   "cell_type": "code",
   "execution_count": 14,
   "id": "344c06d7",
   "metadata": {
    "execution": {
     "iopub.execute_input": "2025-10-22T03:40:26.950234Z",
     "iopub.status.busy": "2025-10-22T03:40:26.950079Z",
     "iopub.status.idle": "2025-10-22T03:40:58.888941Z",
     "shell.execute_reply": "2025-10-22T03:40:58.888018Z"
    },
    "id": "sBm7rfFUyePJ",
    "papermill": {
     "duration": 31.947032,
     "end_time": "2025-10-22T03:40:58.892827",
     "exception": false,
     "start_time": "2025-10-22T03:40:26.945795",
     "status": "completed"
    },
    "tags": []
   },
   "outputs": [
    {
     "name": "stdout",
     "output_type": "stream",
     "text": [
      "\n",
      " Done 2025-10-22\n",
      "\n"
     ]
    }
   ],
   "source": [
    "for dt in need_process:\n",
    "  df = pl.scan_parquet(f\"az://adjuststbuatprocessed/live/processing/dt={dt}/*.parquet\", storage_options=storage_options,glob=True).with_columns(pl.lit(dt).alias(\"dt\"))\n",
    "  df.sink_parquet(f\"az://adjuststbuatprocessed/live/output/{dt}.parquet\", storage_options=storage_options, compression=\"snappy\")\n",
    "  print(f'\\n Done {dt}\\n')"
   ]
  }
 ],
 "metadata": {
  "colab": {
   "authorship_tag": "ABX9TyOfzO6uvqUX+Tt89Y73G9E8",
   "include_colab_link": true,
   "provenance": []
  },
  "kernelspec": {
   "display_name": "Python 3",
   "name": "python3"
  },
  "language_info": {
   "codemirror_mode": {
    "name": "ipython",
    "version": 3
   },
   "file_extension": ".py",
   "mimetype": "text/x-python",
   "name": "python",
   "nbconvert_exporter": "python",
   "pygments_lexer": "ipython3",
   "version": "3.11.13"
  },
  "papermill": {
   "default_parameters": {},
   "duration": 207.365087,
   "end_time": "2025-10-22T03:40:59.412630",
   "environment_variables": {},
   "exception": null,
   "input_path": "notebooks/ADJUST_JOB.ipynb",
   "output_path": "outputs/ADJUST_JOB_2025-10-22.ipynb",
   "parameters": {
    "RUN_DATE": "2025-10-22"
   },
   "start_time": "2025-10-22T03:37:32.047543",
   "version": "2.6.0"
  }
 },
 "nbformat": 4,
 "nbformat_minor": 5
}