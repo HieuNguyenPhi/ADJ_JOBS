{
 "cells": [
  {
   "cell_type": "code",
   "execution_count": 1,
   "id": "6e12ed6e",
   "metadata": {
    "execution": {
     "iopub.execute_input": "2025-10-22T01:56:04.411532Z",
     "iopub.status.busy": "2025-10-22T01:56:04.411312Z",
     "iopub.status.idle": "2025-10-22T01:56:04.416750Z",
     "shell.execute_reply": "2025-10-22T01:56:04.416039Z"
    },
    "papermill": {
     "duration": 0.010033,
     "end_time": "2025-10-22T01:56:04.417592",
     "exception": false,
     "start_time": "2025-10-22T01:56:04.407559",
     "status": "completed"
    },
    "tags": [
     "injected-parameters"
    ]
   },
   "outputs": [],
   "source": [
    "# Parameters\n",
    "RUN_DATE = \"2025-10-22\"\n"
   ]
  },
  {
   "cell_type": "markdown",
   "id": "52005d15",
   "metadata": {
    "colab_type": "text",
    "id": "view-in-github",
    "papermill": {
     "duration": 0.001926,
     "end_time": "2025-10-22T01:56:04.421787",
     "exception": false,
     "start_time": "2025-10-22T01:56:04.419861",
     "status": "completed"
    },
    "tags": []
   },
   "source": [
    "<a href=\"https://colab.research.google.com/github/HieuNguyenPhi/ADJ_JOBS/blob/main/notebooks/ADJUST_JOB.ipynb\" target=\"_parent\"><img src=\"https://colab.research.google.com/assets/colab-badge.svg\" alt=\"Open In Colab\"/></a>"
   ]
  },
  {
   "cell_type": "markdown",
   "id": "bfcdfb9c",
   "metadata": {
    "papermill": {
     "duration": 0.002785,
     "end_time": "2025-10-22T01:56:04.426505",
     "exception": false,
     "start_time": "2025-10-22T01:56:04.423720",
     "status": "completed"
    },
    "tags": []
   },
   "source": [
    "# UAT"
   ]
  },
  {
   "cell_type": "code",
   "execution_count": 2,
   "id": "2959cc6b",
   "metadata": {
    "execution": {
     "iopub.execute_input": "2025-10-22T01:56:04.431548Z",
     "iopub.status.busy": "2025-10-22T01:56:04.431222Z",
     "iopub.status.idle": "2025-10-22T01:56:10.492788Z",
     "shell.execute_reply": "2025-10-22T01:56:10.491880Z"
    },
    "id": "ycUR2r1dq1Nm",
    "papermill": {
     "duration": 6.064927,
     "end_time": "2025-10-22T01:56:10.493432",
     "exception": false,
     "start_time": "2025-10-22T01:56:04.428505",
     "status": "completed"
    },
    "tags": []
   },
   "outputs": [
    {
     "data": {
      "text/plain": [
       "['2025-10-21T030000',\n",
       " '2025-10-21T040000',\n",
       " '2025-10-21T050000',\n",
       " '2025-10-21T060000',\n",
       " '2025-10-21T070000']"
      ]
     },
     "execution_count": 2,
     "metadata": {},
     "output_type": "execute_result"
    }
   ],
   "source": [
    "import os\n",
    "from azure.storage.blob import BlobServiceClient\n",
    "\n",
    "account_name = os.getenv('ACCOUNT_NAME')\n",
    "account_key = os.getenv('ACCOUNT_KEY')\n",
    "# Replace with your Azure Storage account name and SAS token or connection string\n",
    "connect_str = f\"DefaultEndpointsProtocol=https;AccountName={account_name};AccountKey={account_key};EndpointSuffix=core.windows.net\"\n",
    "blob_service_client = BlobServiceClient.from_connection_string(connect_str)\n",
    "container_list = blob_service_client.list_containers()\n",
    "container_name = \"adjuststbuatprocessed\" #os.getenv('CONTAINER_NAME')\n",
    "container_client = blob_service_client.get_container_client(container_name)\n",
    "# already_processed = [file.name.split('/')[1].split('.')[0] for file in container_client.list_blobs() if file.name.split('/')[0] == 'output']\n",
    "# already_processed[-5:]\n",
    "already_processed_ts = sorted([file.name.split('/')[-1].split(\".\")[0] for file in container_client.list_blobs() if file.name.split('/')[0] == 'processing'])\n",
    "already_processed_ts[-5:]"
   ]
  },
  {
   "cell_type": "code",
   "execution_count": 3,
   "id": "60e7733e",
   "metadata": {
    "execution": {
     "iopub.execute_input": "2025-10-22T01:56:10.499052Z",
     "iopub.status.busy": "2025-10-22T01:56:10.498814Z",
     "iopub.status.idle": "2025-10-22T01:56:18.671816Z",
     "shell.execute_reply": "2025-10-22T01:56:18.670967Z"
    },
    "id": "xyPuVC12s7fn",
    "papermill": {
     "duration": 8.176891,
     "end_time": "2025-10-22T01:56:18.672798",
     "exception": false,
     "start_time": "2025-10-22T01:56:10.495907",
     "status": "completed"
    },
    "tags": []
   },
   "outputs": [
    {
     "data": {
      "text/plain": [
       "['rsh20bkkb4zk_2025-10-22T000000_762c775ae454d23f2c6b6a75623d14c7_2853a0.csv.gz',\n",
       " 'rsh20bkkb4zk_2025-10-22T000000_762c775ae454d23f2c6b6a75623d14c7_be8220.csv.gz',\n",
       " 'rsh20bkkb4zk_2025-10-22T000000_762c775ae454d23f2c6b6a75623d14c7_c35750.csv.gz',\n",
       " 'rsh20bkkb4zk_2025-10-22T000000_762c775ae454d23f2c6b6a75623d14c7_c35751.csv.gz']"
      ]
     },
     "execution_count": 3,
     "metadata": {},
     "output_type": "execute_result"
    }
   ],
   "source": [
    "container_name_uat = \"adjuststbuat\"\n",
    "container_client_uat = blob_service_client.get_container_client(container_name_uat)\n",
    "from collections import defaultdict\n",
    "files = [i.name for i in container_client_uat.list_blobs()]\n",
    "groups = defaultdict(list)\n",
    "for f in files:\n",
    "    dt = f.split('_')[1]\n",
    "    groups[dt].append(f)\n",
    "groups[dt]"
   ]
  },
  {
   "cell_type": "code",
   "execution_count": 4,
   "id": "4cbdb400",
   "metadata": {
    "execution": {
     "iopub.execute_input": "2025-10-22T01:56:18.678664Z",
     "iopub.status.busy": "2025-10-22T01:56:18.678457Z",
     "iopub.status.idle": "2025-10-22T01:56:18.681425Z",
     "shell.execute_reply": "2025-10-22T01:56:18.680458Z"
    },
    "papermill": {
     "duration": 0.006583,
     "end_time": "2025-10-22T01:56:18.681997",
     "exception": false,
     "start_time": "2025-10-22T01:56:18.675414",
     "status": "completed"
    },
    "tags": []
   },
   "outputs": [],
   "source": [
    "# from datetime import date, timedelta, datetime\n",
    "# import pandas as pd\n",
    "# today = date.today().strftime('%Y-%m-%d')\n",
    "# yesterday = (date.today() - timedelta(days = 1) ).strftime('%Y-%m-%d')\n",
    "# check_date = dt.split(\"T\")[0]\n",
    "# if check_date == today:\n",
    "#     need_process = pd.date_range(start=already_processed[-1], end=today).strftime('%Y-%m-%d').to_list()\n",
    "# else:\n",
    "#     need_process = pd.date_range(start=already_processed[-1], end=yesterday).strftime('%Y-%m-%d').to_list()\n",
    "# need_process"
   ]
  },
  {
   "cell_type": "code",
   "execution_count": 5,
   "id": "17b97269",
   "metadata": {
    "execution": {
     "iopub.execute_input": "2025-10-22T01:56:18.687300Z",
     "iopub.status.busy": "2025-10-22T01:56:18.687102Z",
     "iopub.status.idle": "2025-10-22T01:56:18.940575Z",
     "shell.execute_reply": "2025-10-22T01:56:18.939762Z"
    },
    "papermill": {
     "duration": 0.256966,
     "end_time": "2025-10-22T01:56:18.941198",
     "exception": false,
     "start_time": "2025-10-22T01:56:18.684232",
     "status": "completed"
    },
    "tags": []
   },
   "outputs": [
    {
     "data": {
      "text/plain": [
       "['2025-10-21T060000',\n",
       " '2025-10-21T070000',\n",
       " '2025-10-21T080000',\n",
       " '2025-10-21T090000',\n",
       " '2025-10-21T100000',\n",
       " '2025-10-21T110000',\n",
       " '2025-10-21T120000',\n",
       " '2025-10-21T130000',\n",
       " '2025-10-21T140000',\n",
       " '2025-10-21T150000',\n",
       " '2025-10-21T160000',\n",
       " '2025-10-21T170000',\n",
       " '2025-10-21T180000',\n",
       " '2025-10-21T190000',\n",
       " '2025-10-21T200000',\n",
       " '2025-10-21T210000',\n",
       " '2025-10-21T220000',\n",
       " '2025-10-21T230000',\n",
       " '2025-10-22T000000']"
      ]
     },
     "execution_count": 5,
     "metadata": {},
     "output_type": "execute_result"
    }
   ],
   "source": [
    "from datetime import datetime\n",
    "import pandas as pd\n",
    "B = datetime.strptime(dt, \"%Y-%m-%dT%H0000\")\n",
    "A = datetime.strptime(already_processed_ts[-2], \"%Y-%m-%dT%H0000\")\n",
    "need_process_ts =  pd.date_range(A, B, freq='h').strftime('%Y-%m-%dT%H0000').tolist()\n",
    "need_process_ts"
   ]
  },
  {
   "cell_type": "code",
   "execution_count": 6,
   "id": "c6ae2634",
   "metadata": {
    "execution": {
     "iopub.execute_input": "2025-10-22T01:56:18.947558Z",
     "iopub.status.busy": "2025-10-22T01:56:18.947226Z",
     "iopub.status.idle": "2025-10-22T01:58:46.041831Z",
     "shell.execute_reply": "2025-10-22T01:58:46.040954Z"
    },
    "papermill": {
     "duration": 147.098568,
     "end_time": "2025-10-22T01:58:46.042499",
     "exception": false,
     "start_time": "2025-10-22T01:56:18.943931",
     "status": "completed"
    },
    "tags": []
   },
   "outputs": [
    {
     "name": "stderr",
     "output_type": "stream",
     "text": [
      "\r",
      "  0%|          | 0/2097 [00:00<?, ?it/s]"
     ]
    },
    {
     "name": "stderr",
     "output_type": "stream",
     "text": [
      "\r",
      " 99%|█████████▉| 2079/2097 [00:10<00:00, 202.07it/s]"
     ]
    },
    {
     "name": "stdout",
     "output_type": "stream",
     "text": [
      "Done dt=2025-10-21/2025-10-21T060000.parquet\n"
     ]
    },
    {
     "name": "stdout",
     "output_type": "stream",
     "text": [
      "Done dt=2025-10-21/2025-10-21T070000.parquet\n"
     ]
    },
    {
     "name": "stdout",
     "output_type": "stream",
     "text": [
      "Done dt=2025-10-21/2025-10-21T080000.parquet\n"
     ]
    },
    {
     "name": "stderr",
     "output_type": "stream",
     "text": [
      "\r",
      " 99%|█████████▉| 2079/2097 [00:29<00:00, 202.07it/s]"
     ]
    },
    {
     "name": "stderr",
     "output_type": "stream",
     "text": [
      "\r",
      " 99%|█████████▉| 2082/2097 [00:34<00:00, 46.76it/s] "
     ]
    },
    {
     "name": "stdout",
     "output_type": "stream",
     "text": [
      "Done dt=2025-10-21/2025-10-21T090000.parquet\n"
     ]
    },
    {
     "name": "stderr",
     "output_type": "stream",
     "text": [
      "\r",
      " 99%|█████████▉| 2083/2097 [00:42<00:00, 33.64it/s]"
     ]
    },
    {
     "name": "stdout",
     "output_type": "stream",
     "text": [
      "Done dt=2025-10-21/2025-10-21T100000.parquet\n"
     ]
    },
    {
     "name": "stderr",
     "output_type": "stream",
     "text": [
      "\r",
      " 99%|█████████▉| 2084/2097 [00:50<00:00, 24.66it/s]"
     ]
    },
    {
     "name": "stdout",
     "output_type": "stream",
     "text": [
      "Done dt=2025-10-21/2025-10-21T110000.parquet\n"
     ]
    },
    {
     "name": "stderr",
     "output_type": "stream",
     "text": [
      "\r",
      " 99%|█████████▉| 2085/2097 [00:58<00:00, 17.88it/s]"
     ]
    },
    {
     "name": "stdout",
     "output_type": "stream",
     "text": [
      "Done dt=2025-10-21/2025-10-21T120000.parquet\n"
     ]
    },
    {
     "name": "stderr",
     "output_type": "stream",
     "text": [
      "\r",
      " 99%|█████████▉| 2086/2097 [01:05<00:00, 13.12it/s]"
     ]
    },
    {
     "name": "stdout",
     "output_type": "stream",
     "text": [
      "Done dt=2025-10-21/2025-10-21T130000.parquet\n"
     ]
    },
    {
     "name": "stderr",
     "output_type": "stream",
     "text": [
      "\r",
      "100%|█████████▉| 2087/2097 [01:13<00:01,  9.26it/s]"
     ]
    },
    {
     "name": "stdout",
     "output_type": "stream",
     "text": [
      "Done dt=2025-10-21/2025-10-21T140000.parquet\n"
     ]
    },
    {
     "name": "stderr",
     "output_type": "stream",
     "text": [
      "\r",
      "100%|█████████▉| 2088/2097 [01:21<00:01,  6.57it/s]"
     ]
    },
    {
     "name": "stdout",
     "output_type": "stream",
     "text": [
      "Done dt=2025-10-21/2025-10-21T150000.parquet\n"
     ]
    },
    {
     "name": "stderr",
     "output_type": "stream",
     "text": [
      "\r",
      "100%|█████████▉| 2089/2097 [01:28<00:01,  4.78it/s]"
     ]
    },
    {
     "name": "stdout",
     "output_type": "stream",
     "text": [
      "Done dt=2025-10-21/2025-10-21T160000.parquet\n"
     ]
    },
    {
     "name": "stderr",
     "output_type": "stream",
     "text": [
      "\r",
      "100%|█████████▉| 2090/2097 [01:35<00:02,  3.44it/s]"
     ]
    },
    {
     "name": "stdout",
     "output_type": "stream",
     "text": [
      "Done dt=2025-10-21/2025-10-21T170000.parquet\n"
     ]
    },
    {
     "name": "stderr",
     "output_type": "stream",
     "text": [
      "\r",
      "100%|█████████▉| 2091/2097 [01:43<00:02,  2.43it/s]"
     ]
    },
    {
     "name": "stdout",
     "output_type": "stream",
     "text": [
      "Done dt=2025-10-21/2025-10-21T180000.parquet\n"
     ]
    },
    {
     "name": "stderr",
     "output_type": "stream",
     "text": [
      "\r",
      "100%|█████████▉| 2092/2097 [01:50<00:02,  1.77it/s]"
     ]
    },
    {
     "name": "stdout",
     "output_type": "stream",
     "text": [
      "Done dt=2025-10-21/2025-10-21T190000.parquet\n"
     ]
    },
    {
     "name": "stderr",
     "output_type": "stream",
     "text": [
      "\r",
      "100%|█████████▉| 2093/2097 [01:58<00:03,  1.29it/s]"
     ]
    },
    {
     "name": "stdout",
     "output_type": "stream",
     "text": [
      "Done dt=2025-10-21/2025-10-21T200000.parquet\n"
     ]
    },
    {
     "name": "stderr",
     "output_type": "stream",
     "text": [
      "\r",
      "100%|█████████▉| 2094/2097 [02:05<00:03,  1.05s/it]"
     ]
    },
    {
     "name": "stdout",
     "output_type": "stream",
     "text": [
      "Done dt=2025-10-21/2025-10-21T210000.parquet\n"
     ]
    },
    {
     "name": "stderr",
     "output_type": "stream",
     "text": [
      "\r",
      "100%|█████████▉| 2095/2097 [02:12<00:02,  1.40s/it]"
     ]
    },
    {
     "name": "stdout",
     "output_type": "stream",
     "text": [
      "Done dt=2025-10-21/2025-10-21T220000.parquet\n"
     ]
    },
    {
     "name": "stderr",
     "output_type": "stream",
     "text": [
      "\r",
      "100%|█████████▉| 2096/2097 [02:19<00:01,  1.84s/it]"
     ]
    },
    {
     "name": "stdout",
     "output_type": "stream",
     "text": [
      "Done dt=2025-10-21/2025-10-21T230000.parquet\n"
     ]
    },
    {
     "name": "stderr",
     "output_type": "stream",
     "text": [
      "\r",
      "100%|██████████| 2097/2097 [02:26<00:00,  2.37s/it]"
     ]
    },
    {
     "name": "stderr",
     "output_type": "stream",
     "text": [
      "\r",
      "100%|██████████| 2097/2097 [02:26<00:00, 14.27it/s]"
     ]
    },
    {
     "name": "stdout",
     "output_type": "stream",
     "text": [
      "Done dt=2025-10-22/2025-10-22T000000.parquet\n"
     ]
    },
    {
     "name": "stderr",
     "output_type": "stream",
     "text": [
      "\n"
     ]
    }
   ],
   "source": [
    "import polars as pl \n",
    "from tqdm import tqdm\n",
    "storage_options = {\n",
    "    \"account_name\": account_name,\n",
    "    \"account_key\":  account_key,\n",
    "}\n",
    "\n",
    "for ts, files in tqdm(groups.items()):\n",
    "    if ts not in need_process_ts:\n",
    "        continue\n",
    "    dt = ts[:10]\n",
    "    # if dt not in need_process:\n",
    "    #     continue\n",
    "    df = pl.scan_csv(f\"az://adjuststbuat/*_{ts}_*.csv.gz\", storage_options = storage_options,glob=True, has_header = True, null_values = [\"\",\"NULL\"], ignore_errors=True).select(pl.all().cast(pl.Utf8))\n",
    "    df.sink_parquet(f\"az://adjuststbuatprocessed/processing/dt={dt}/{ts}.parquet\", storage_options = storage_options, compression=\"snappy\")\n",
    "    print(f'Done dt={dt}/{ts}.parquet')\n",
    "        "
   ]
  },
  {
   "cell_type": "code",
   "execution_count": 7,
   "id": "c97032ac",
   "metadata": {
    "execution": {
     "iopub.execute_input": "2025-10-22T01:58:46.051440Z",
     "iopub.status.busy": "2025-10-22T01:58:46.051239Z",
     "iopub.status.idle": "2025-10-22T01:58:46.055529Z",
     "shell.execute_reply": "2025-10-22T01:58:46.054857Z"
    },
    "papermill": {
     "duration": 0.009532,
     "end_time": "2025-10-22T01:58:46.056234",
     "exception": false,
     "start_time": "2025-10-22T01:58:46.046702",
     "status": "completed"
    },
    "tags": []
   },
   "outputs": [
    {
     "data": {
      "text/plain": [
       "{'2025-10-21', '2025-10-22'}"
      ]
     },
     "execution_count": 7,
     "metadata": {},
     "output_type": "execute_result"
    }
   ],
   "source": [
    "need_process = set([i.split(\"T\")[0] for i in need_process_ts])\n",
    "need_process"
   ]
  },
  {
   "cell_type": "code",
   "execution_count": 8,
   "id": "c939589f",
   "metadata": {
    "execution": {
     "iopub.execute_input": "2025-10-22T01:58:46.064795Z",
     "iopub.status.busy": "2025-10-22T01:58:46.064612Z",
     "iopub.status.idle": "2025-10-22T01:58:52.054266Z",
     "shell.execute_reply": "2025-10-22T01:58:52.053544Z"
    },
    "papermill": {
     "duration": 5.995002,
     "end_time": "2025-10-22T01:58:52.055143",
     "exception": false,
     "start_time": "2025-10-22T01:58:46.060141",
     "status": "completed"
    },
    "tags": []
   },
   "outputs": [
    {
     "name": "stdout",
     "output_type": "stream",
     "text": [
      "\n",
      " Done 2025-10-21\n",
      "\n"
     ]
    },
    {
     "name": "stdout",
     "output_type": "stream",
     "text": [
      "\n",
      " Done 2025-10-22\n",
      "\n"
     ]
    }
   ],
   "source": [
    "for dt in need_process:\n",
    "  df = pl.scan_parquet(f\"az://adjuststbuatprocessed/processing/dt={dt}/*.parquet\", storage_options=storage_options,glob=True).with_columns(pl.lit(dt).alias(\"dt\"))\n",
    "  df.sink_parquet(f\"az://adjuststbuatprocessed/output/{dt}.parquet\", storage_options=storage_options, compression=\"snappy\")\n",
    "  print(f'\\n Done {dt}\\n')"
   ]
  },
  {
   "cell_type": "markdown",
   "id": "0bb80002",
   "metadata": {
    "id": "2TvKr29qyJd_",
    "papermill": {
     "duration": 0.003916,
     "end_time": "2025-10-22T01:58:52.063333",
     "exception": false,
     "start_time": "2025-10-22T01:58:52.059417",
     "status": "completed"
    },
    "tags": []
   },
   "source": [
    "# Live"
   ]
  },
  {
   "cell_type": "code",
   "execution_count": 9,
   "id": "2a398c94",
   "metadata": {
    "execution": {
     "iopub.execute_input": "2025-10-22T01:58:52.072332Z",
     "iopub.status.busy": "2025-10-22T01:58:52.072037Z",
     "iopub.status.idle": "2025-10-22T01:58:56.113524Z",
     "shell.execute_reply": "2025-10-22T01:58:56.112796Z"
    },
    "id": "EnaFsdZFxpwc",
    "papermill": {
     "duration": 4.046973,
     "end_time": "2025-10-22T01:58:56.114182",
     "exception": false,
     "start_time": "2025-10-22T01:58:52.067209",
     "status": "completed"
    },
    "tags": []
   },
   "outputs": [
    {
     "data": {
      "text/plain": [
       "['2025-10-21T030000',\n",
       " '2025-10-21T040000',\n",
       " '2025-10-21T050000',\n",
       " '2025-10-21T060000',\n",
       " '2025-10-21T070000']"
      ]
     },
     "execution_count": 9,
     "metadata": {},
     "output_type": "execute_result"
    }
   ],
   "source": [
    "# already_processed = [file.name.split('/')[-1].split('.')[0] for file in container_client.list_blobs() if file.name[:12] == 'live/output/']\n",
    "# already_processed[-5:]\n",
    "already_processed_ts = sorted([file.name.split('/')[-1].split(\".\")[0] for file in container_client.list_blobs() if (file.name.split('/')[0] + \"/\" + file.name.split('/')[1]) == 'live/processing'])\n",
    "already_processed_ts[-5:]"
   ]
  },
  {
   "cell_type": "code",
   "execution_count": 10,
   "id": "8baad68c",
   "metadata": {
    "execution": {
     "iopub.execute_input": "2025-10-22T01:58:56.123585Z",
     "iopub.status.busy": "2025-10-22T01:58:56.123417Z",
     "iopub.status.idle": "2025-10-22T01:59:07.984294Z",
     "shell.execute_reply": "2025-10-22T01:59:07.983544Z"
    },
    "id": "I7Er6YEUyOsL",
    "papermill": {
     "duration": 11.866433,
     "end_time": "2025-10-22T01:59:07.985006",
     "exception": false,
     "start_time": "2025-10-22T01:58:56.118573",
     "status": "completed"
    },
    "tags": []
   },
   "outputs": [
    {
     "data": {
      "text/plain": [
       "['65n1fgov4zr4_2025-10-22T000000_762c775ae454d23f2c6b6a75623d14c7_2853a0.csv.gz',\n",
       " '65n1fgov4zr4_2025-10-22T000000_762c775ae454d23f2c6b6a75623d14c7_2853a1.csv.gz',\n",
       " '65n1fgov4zr4_2025-10-22T000000_762c775ae454d23f2c6b6a75623d14c7_be8220.csv.gz',\n",
       " '65n1fgov4zr4_2025-10-22T000000_762c775ae454d23f2c6b6a75623d14c7_be8221.csv.gz',\n",
       " '65n1fgov4zr4_2025-10-22T000000_762c775ae454d23f2c6b6a75623d14c7_c35750.csv.gz',\n",
       " '65n1fgov4zr4_2025-10-22T000000_762c775ae454d23f2c6b6a75623d14c7_c35751.csv.gz']"
      ]
     },
     "execution_count": 10,
     "metadata": {},
     "output_type": "execute_result"
    }
   ],
   "source": [
    "container_name_uat = \"adjuststblive\"\n",
    "container_client_uat = blob_service_client.get_container_client(container_name_uat)\n",
    "from collections import defaultdict\n",
    "files = [i.name for i in container_client_uat.list_blobs()]\n",
    "groups = defaultdict(list)\n",
    "for f in files:\n",
    "    dt = f.split('_')[1]\n",
    "    groups[dt].append(f)\n",
    "groups[dt]"
   ]
  },
  {
   "cell_type": "code",
   "execution_count": 11,
   "id": "5a1c7230",
   "metadata": {
    "execution": {
     "iopub.execute_input": "2025-10-22T01:59:07.995126Z",
     "iopub.status.busy": "2025-10-22T01:59:07.994907Z",
     "iopub.status.idle": "2025-10-22T01:59:07.999870Z",
     "shell.execute_reply": "2025-10-22T01:59:07.999260Z"
    },
    "papermill": {
     "duration": 0.011136,
     "end_time": "2025-10-22T01:59:08.000695",
     "exception": false,
     "start_time": "2025-10-22T01:59:07.989559",
     "status": "completed"
    },
    "tags": []
   },
   "outputs": [
    {
     "data": {
      "text/plain": [
       "['2025-10-21T070000',\n",
       " '2025-10-21T080000',\n",
       " '2025-10-21T090000',\n",
       " '2025-10-21T100000',\n",
       " '2025-10-21T110000',\n",
       " '2025-10-21T120000',\n",
       " '2025-10-21T130000',\n",
       " '2025-10-21T140000',\n",
       " '2025-10-21T150000',\n",
       " '2025-10-21T160000',\n",
       " '2025-10-21T170000',\n",
       " '2025-10-21T180000',\n",
       " '2025-10-21T190000',\n",
       " '2025-10-21T200000',\n",
       " '2025-10-21T210000',\n",
       " '2025-10-21T220000',\n",
       " '2025-10-21T230000',\n",
       " '2025-10-22T000000']"
      ]
     },
     "execution_count": 11,
     "metadata": {},
     "output_type": "execute_result"
    }
   ],
   "source": [
    "# need_process = pd.date_range(start=already_processed[-1], end=today).strftime('%Y-%m-%d').to_list()\n",
    "# need_process\n",
    "\n",
    "B = datetime.strptime(dt, \"%Y-%m-%dT%H0000\")\n",
    "A = datetime.strptime(already_processed_ts[-1], \"%Y-%m-%dT%H0000\")\n",
    "need_process_ts =  pd.date_range(A, B, freq='h').strftime('%Y-%m-%dT%H0000').tolist()\n",
    "need_process_ts"
   ]
  },
  {
   "cell_type": "code",
   "execution_count": 12,
   "id": "5d64f6b7",
   "metadata": {
    "execution": {
     "iopub.execute_input": "2025-10-22T01:59:08.010181Z",
     "iopub.status.busy": "2025-10-22T01:59:08.010002Z",
     "iopub.status.idle": "2025-10-22T02:12:51.255350Z",
     "shell.execute_reply": "2025-10-22T02:12:51.254510Z"
    },
    "id": "g-W3s2nRyRY7",
    "papermill": {
     "duration": 823.256423,
     "end_time": "2025-10-22T02:12:51.261500",
     "exception": false,
     "start_time": "2025-10-22T01:59:08.005077",
     "status": "completed"
    },
    "tags": []
   },
   "outputs": [
    {
     "name": "stderr",
     "output_type": "stream",
     "text": [
      "\r",
      "  0%|          | 0/2151 [00:00<?, ?it/s]"
     ]
    },
    {
     "name": "stderr",
     "output_type": "stream",
     "text": [
      "\r",
      " 99%|█████████▉| 2134/2151 [01:22<00:00, 25.81it/s]"
     ]
    },
    {
     "name": "stdout",
     "output_type": "stream",
     "text": [
      "Done dt=2025-10-21/2025-10-21T070000.parquet\n"
     ]
    },
    {
     "name": "stderr",
     "output_type": "stream",
     "text": [
      "\r",
      " 99%|█████████▉| 2134/2151 [01:41<00:00, 25.81it/s]"
     ]
    },
    {
     "name": "stderr",
     "output_type": "stream",
     "text": [
      "\r",
      " 99%|█████████▉| 2135/2151 [02:02<00:01, 15.35it/s]"
     ]
    },
    {
     "name": "stdout",
     "output_type": "stream",
     "text": [
      "Done dt=2025-10-21/2025-10-21T080000.parquet\n"
     ]
    },
    {
     "name": "stderr",
     "output_type": "stream",
     "text": [
      "\r",
      " 99%|█████████▉| 2136/2151 [03:00<00:01,  8.29it/s]"
     ]
    },
    {
     "name": "stdout",
     "output_type": "stream",
     "text": [
      "Done dt=2025-10-21/2025-10-21T090000.parquet\n"
     ]
    },
    {
     "name": "stderr",
     "output_type": "stream",
     "text": [
      "\r",
      " 99%|█████████▉| 2137/2151 [03:49<00:02,  5.32it/s]"
     ]
    },
    {
     "name": "stdout",
     "output_type": "stream",
     "text": [
      "Done dt=2025-10-21/2025-10-21T100000.parquet\n"
     ]
    },
    {
     "name": "stderr",
     "output_type": "stream",
     "text": [
      "\r",
      " 99%|█████████▉| 2138/2151 [04:57<00:04,  3.14it/s]"
     ]
    },
    {
     "name": "stdout",
     "output_type": "stream",
     "text": [
      "Done dt=2025-10-21/2025-10-21T110000.parquet\n"
     ]
    },
    {
     "name": "stderr",
     "output_type": "stream",
     "text": [
      "\r",
      " 99%|█████████▉| 2139/2151 [06:18<00:06,  1.84it/s]"
     ]
    },
    {
     "name": "stdout",
     "output_type": "stream",
     "text": [
      "Done dt=2025-10-21/2025-10-21T120000.parquet\n"
     ]
    },
    {
     "name": "stderr",
     "output_type": "stream",
     "text": [
      "\r",
      " 99%|█████████▉| 2140/2151 [07:00<00:07,  1.42it/s]"
     ]
    },
    {
     "name": "stdout",
     "output_type": "stream",
     "text": [
      "Done dt=2025-10-21/2025-10-21T130000.parquet\n"
     ]
    },
    {
     "name": "stderr",
     "output_type": "stream",
     "text": [
      "\r",
      "100%|█████████▉| 2141/2151 [08:13<00:11,  1.11s/it]"
     ]
    },
    {
     "name": "stdout",
     "output_type": "stream",
     "text": [
      "Done dt=2025-10-21/2025-10-21T140000.parquet\n"
     ]
    },
    {
     "name": "stderr",
     "output_type": "stream",
     "text": [
      "\r",
      "100%|█████████▉| 2142/2151 [09:30<00:15,  1.71s/it]"
     ]
    },
    {
     "name": "stdout",
     "output_type": "stream",
     "text": [
      "Done dt=2025-10-21/2025-10-21T150000.parquet\n"
     ]
    },
    {
     "name": "stderr",
     "output_type": "stream",
     "text": [
      "\r",
      "100%|█████████▉| 2143/2151 [10:15<00:17,  2.20s/it]"
     ]
    },
    {
     "name": "stdout",
     "output_type": "stream",
     "text": [
      "Done dt=2025-10-21/2025-10-21T160000.parquet\n"
     ]
    },
    {
     "name": "stderr",
     "output_type": "stream",
     "text": [
      "\r",
      "100%|█████████▉| 2144/2151 [10:37<00:17,  2.51s/it]"
     ]
    },
    {
     "name": "stdout",
     "output_type": "stream",
     "text": [
      "Done dt=2025-10-21/2025-10-21T170000.parquet\n"
     ]
    },
    {
     "name": "stderr",
     "output_type": "stream",
     "text": [
      "\r",
      "100%|█████████▉| 2145/2151 [10:56<00:17,  2.86s/it]"
     ]
    },
    {
     "name": "stdout",
     "output_type": "stream",
     "text": [
      "Done dt=2025-10-21/2025-10-21T180000.parquet\n"
     ]
    },
    {
     "name": "stderr",
     "output_type": "stream",
     "text": [
      "\r",
      "100%|█████████▉| 2146/2151 [11:15<00:16,  3.37s/it]"
     ]
    },
    {
     "name": "stdout",
     "output_type": "stream",
     "text": [
      "Done dt=2025-10-21/2025-10-21T190000.parquet\n"
     ]
    },
    {
     "name": "stderr",
     "output_type": "stream",
     "text": [
      "\r",
      "100%|█████████▉| 2147/2151 [11:30<00:15,  3.85s/it]"
     ]
    },
    {
     "name": "stdout",
     "output_type": "stream",
     "text": [
      "Done dt=2025-10-21/2025-10-21T200000.parquet\n"
     ]
    },
    {
     "name": "stderr",
     "output_type": "stream",
     "text": [
      "\r",
      "100%|█████████▉| 2148/2151 [11:46<00:13,  4.51s/it]"
     ]
    },
    {
     "name": "stdout",
     "output_type": "stream",
     "text": [
      "Done dt=2025-10-21/2025-10-21T210000.parquet\n"
     ]
    },
    {
     "name": "stderr",
     "output_type": "stream",
     "text": [
      "\r",
      "100%|█████████▉| 2149/2151 [12:13<00:12,  6.22s/it]"
     ]
    },
    {
     "name": "stdout",
     "output_type": "stream",
     "text": [
      "Done dt=2025-10-21/2025-10-21T220000.parquet\n"
     ]
    },
    {
     "name": "stderr",
     "output_type": "stream",
     "text": [
      "\r",
      "100%|█████████▉| 2150/2151 [12:46<00:08,  8.78s/it]"
     ]
    },
    {
     "name": "stdout",
     "output_type": "stream",
     "text": [
      "Done dt=2025-10-21/2025-10-21T230000.parquet\n"
     ]
    },
    {
     "name": "stderr",
     "output_type": "stream",
     "text": [
      "\r",
      "100%|██████████| 2151/2151 [13:43<00:00, 14.55s/it]"
     ]
    },
    {
     "name": "stderr",
     "output_type": "stream",
     "text": [
      "\r",
      "100%|██████████| 2151/2151 [13:43<00:00,  2.61it/s]"
     ]
    },
    {
     "name": "stdout",
     "output_type": "stream",
     "text": [
      "Done dt=2025-10-22/2025-10-22T000000.parquet\n"
     ]
    },
    {
     "name": "stderr",
     "output_type": "stream",
     "text": [
      "\n"
     ]
    }
   ],
   "source": [
    "storage_options = {\n",
    "    \"account_name\": account_name,\n",
    "    \"account_key\":  account_key,\n",
    "}\n",
    "\n",
    "for ts, files in tqdm(groups.items()):\n",
    "    if ts not in need_process_ts: continue\n",
    "    dt = ts[:10]\n",
    "    # if dt not in need_process:\n",
    "    #     continue\n",
    "    df = pl.scan_csv(f\"az://adjuststblive/*_{ts}_*.csv.gz\", storage_options = storage_options,glob=True, has_header = True, null_values = [\"\",\"NULL\"], ignore_errors=True).select(pl.all().cast(pl.Utf8))\n",
    "    df.sink_parquet(f\"az://adjuststbuatprocessed/live/processing/dt={dt}/{ts}.parquet\", storage_options = storage_options, compression=\"snappy\")\n",
    "    print(f'Done dt={dt}/{ts}.parquet')\n",
    "        "
   ]
  },
  {
   "cell_type": "code",
   "execution_count": 13,
   "id": "a58cd03e",
   "metadata": {
    "execution": {
     "iopub.execute_input": "2025-10-22T02:12:51.274030Z",
     "iopub.status.busy": "2025-10-22T02:12:51.273860Z",
     "iopub.status.idle": "2025-10-22T02:12:51.278008Z",
     "shell.execute_reply": "2025-10-22T02:12:51.277263Z"
    },
    "papermill": {
     "duration": 0.011308,
     "end_time": "2025-10-22T02:12:51.278599",
     "exception": false,
     "start_time": "2025-10-22T02:12:51.267291",
     "status": "completed"
    },
    "tags": []
   },
   "outputs": [
    {
     "data": {
      "text/plain": [
       "{'2025-10-21', '2025-10-22'}"
      ]
     },
     "execution_count": 13,
     "metadata": {},
     "output_type": "execute_result"
    }
   ],
   "source": [
    "need_process = set([i.split(\"T\")[0] for i in need_process_ts])\n",
    "need_process"
   ]
  },
  {
   "cell_type": "code",
   "execution_count": 14,
   "id": "ff4cb97f",
   "metadata": {
    "execution": {
     "iopub.execute_input": "2025-10-22T02:12:51.291101Z",
     "iopub.status.busy": "2025-10-22T02:12:51.290940Z",
     "iopub.status.idle": "2025-10-22T02:14:37.700346Z",
     "shell.execute_reply": "2025-10-22T02:14:37.699439Z"
    },
    "id": "sBm7rfFUyePJ",
    "papermill": {
     "duration": 106.416449,
     "end_time": "2025-10-22T02:14:37.700918",
     "exception": false,
     "start_time": "2025-10-22T02:12:51.284469",
     "status": "completed"
    },
    "tags": []
   },
   "outputs": [
    {
     "name": "stdout",
     "output_type": "stream",
     "text": [
      "\n",
      " Done 2025-10-21\n",
      "\n"
     ]
    },
    {
     "name": "stdout",
     "output_type": "stream",
     "text": [
      "\n",
      " Done 2025-10-22\n",
      "\n"
     ]
    }
   ],
   "source": [
    "for dt in need_process:\n",
    "  df = pl.scan_parquet(f\"az://adjuststbuatprocessed/live/processing/dt={dt}/*.parquet\", storage_options=storage_options,glob=True).with_columns(pl.lit(dt).alias(\"dt\"))\n",
    "  df.sink_parquet(f\"az://adjuststbuatprocessed/live/output/{dt}.parquet\", storage_options=storage_options, compression=\"snappy\")\n",
    "  print(f'\\n Done {dt}\\n')"
   ]
  }
 ],
 "metadata": {
  "colab": {
   "authorship_tag": "ABX9TyOfzO6uvqUX+Tt89Y73G9E8",
   "include_colab_link": true,
   "provenance": []
  },
  "kernelspec": {
   "display_name": "Python 3",
   "name": "python3"
  },
  "language_info": {
   "codemirror_mode": {
    "name": "ipython",
    "version": 3
   },
   "file_extension": ".py",
   "mimetype": "text/x-python",
   "name": "python",
   "nbconvert_exporter": "python",
   "pygments_lexer": "ipython3",
   "version": "3.11.13"
  },
  "papermill": {
   "default_parameters": {},
   "duration": 1115.558852,
   "end_time": "2025-10-22T02:14:38.423650",
   "environment_variables": {},
   "exception": null,
   "input_path": "notebooks/ADJUST_JOB.ipynb",
   "output_path": "outputs/ADJUST_JOB_2025-10-22.ipynb",
   "parameters": {
    "RUN_DATE": "2025-10-22"
   },
   "start_time": "2025-10-22T01:56:02.864798",
   "version": "2.6.0"
  }
 },
 "nbformat": 4,
 "nbformat_minor": 5
}