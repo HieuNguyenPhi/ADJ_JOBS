{
 "cells": [
  {
   "cell_type": "code",
   "execution_count": 1,
   "id": "f5b1811b",
   "metadata": {
    "execution": {
     "iopub.execute_input": "2025-10-23T07:09:38.821543Z",
     "iopub.status.busy": "2025-10-23T07:09:38.821319Z",
     "iopub.status.idle": "2025-10-23T07:09:38.826624Z",
     "shell.execute_reply": "2025-10-23T07:09:38.825895Z"
    },
    "papermill": {
     "duration": 0.009368,
     "end_time": "2025-10-23T07:09:38.827219",
     "exception": false,
     "start_time": "2025-10-23T07:09:38.817851",
     "status": "completed"
    },
    "tags": [
     "injected-parameters"
    ]
   },
   "outputs": [],
   "source": [
    "# Parameters\n",
    "RUN_DATE = \"2025-10-23\"\n"
   ]
  },
  {
   "cell_type": "markdown",
   "id": "7e0b4f23",
   "metadata": {
    "colab_type": "text",
    "id": "view-in-github",
    "papermill": {
     "duration": 0.001875,
     "end_time": "2025-10-23T07:09:38.831306",
     "exception": false,
     "start_time": "2025-10-23T07:09:38.829431",
     "status": "completed"
    },
    "tags": []
   },
   "source": [
    "<a href=\"https://colab.research.google.com/github/HieuNguyenPhi/ADJ_JOBS/blob/main/notebooks/ADJUST_JOB.ipynb\" target=\"_parent\"><img src=\"https://colab.research.google.com/assets/colab-badge.svg\" alt=\"Open In Colab\"/></a>"
   ]
  },
  {
   "cell_type": "markdown",
   "id": "bdba3077",
   "metadata": {
    "papermill": {
     "duration": 0.002773,
     "end_time": "2025-10-23T07:09:38.835961",
     "exception": false,
     "start_time": "2025-10-23T07:09:38.833188",
     "status": "completed"
    },
    "tags": []
   },
   "source": [
    "# UAT"
   ]
  },
  {
   "cell_type": "code",
   "execution_count": 2,
   "id": "fadfcd3f",
   "metadata": {
    "execution": {
     "iopub.execute_input": "2025-10-23T07:09:38.840669Z",
     "iopub.status.busy": "2025-10-23T07:09:38.840513Z",
     "iopub.status.idle": "2025-10-23T07:09:45.377896Z",
     "shell.execute_reply": "2025-10-23T07:09:45.377120Z"
    },
    "id": "ycUR2r1dq1Nm",
    "papermill": {
     "duration": 6.540703,
     "end_time": "2025-10-23T07:09:45.378553",
     "exception": false,
     "start_time": "2025-10-23T07:09:38.837850",
     "status": "completed"
    },
    "tags": []
   },
   "outputs": [
    {
     "data": {
      "text/plain": [
       "['2025-10-22T200000',\n",
       " '2025-10-22T210000',\n",
       " '2025-10-22T220000',\n",
       " '2025-10-22T230000',\n",
       " '2025-10-23T000000']"
      ]
     },
     "execution_count": 2,
     "metadata": {},
     "output_type": "execute_result"
    }
   ],
   "source": [
    "import os\n",
    "from azure.storage.blob import BlobServiceClient\n",
    "\n",
    "account_name = os.getenv('ACCOUNT_NAME')\n",
    "account_key = os.getenv('ACCOUNT_KEY')\n",
    "# Replace with your Azure Storage account name and SAS token or connection string\n",
    "connect_str = f\"DefaultEndpointsProtocol=https;AccountName={account_name};AccountKey={account_key};EndpointSuffix=core.windows.net\"\n",
    "blob_service_client = BlobServiceClient.from_connection_string(connect_str)\n",
    "container_list = blob_service_client.list_containers()\n",
    "container_name = \"adjuststbuatprocessed\" #os.getenv('CONTAINER_NAME')\n",
    "container_client = blob_service_client.get_container_client(container_name)\n",
    "# already_processed = [file.name.split('/')[1].split('.')[0] for file in container_client.list_blobs() if file.name.split('/')[0] == 'output']\n",
    "# already_processed[-5:]\n",
    "already_processed_ts = sorted([file.name.split('/')[-1].split(\".\")[0] for file in container_client.list_blobs() if file.name.split('/')[0] == 'processing'])\n",
    "already_processed_ts[-5:]"
   ]
  },
  {
   "cell_type": "code",
   "execution_count": 3,
   "id": "c112d503",
   "metadata": {
    "execution": {
     "iopub.execute_input": "2025-10-23T07:09:45.384176Z",
     "iopub.status.busy": "2025-10-23T07:09:45.383920Z",
     "iopub.status.idle": "2025-10-23T07:09:54.643393Z",
     "shell.execute_reply": "2025-10-23T07:09:54.642488Z"
    },
    "id": "xyPuVC12s7fn",
    "papermill": {
     "duration": 9.263035,
     "end_time": "2025-10-23T07:09:54.643997",
     "exception": false,
     "start_time": "2025-10-23T07:09:45.380962",
     "status": "completed"
    },
    "tags": []
   },
   "outputs": [
    {
     "data": {
      "text/plain": [
       "['rsh20bkkb4zk_2025-10-23T060000_762c775ae454d23f2c6b6a75623d14c7_2853a0.csv.gz',\n",
       " 'rsh20bkkb4zk_2025-10-23T060000_762c775ae454d23f2c6b6a75623d14c7_2853a1.csv.gz',\n",
       " 'rsh20bkkb4zk_2025-10-23T060000_762c775ae454d23f2c6b6a75623d14c7_be8220.csv.gz',\n",
       " 'rsh20bkkb4zk_2025-10-23T060000_762c775ae454d23f2c6b6a75623d14c7_be8221.csv.gz',\n",
       " 'rsh20bkkb4zk_2025-10-23T060000_762c775ae454d23f2c6b6a75623d14c7_c35750.csv.gz',\n",
       " 'rsh20bkkb4zk_2025-10-23T060000_762c775ae454d23f2c6b6a75623d14c7_c35751.csv.gz']"
      ]
     },
     "execution_count": 3,
     "metadata": {},
     "output_type": "execute_result"
    }
   ],
   "source": [
    "container_name_uat = \"adjuststbuat\"\n",
    "container_client_uat = blob_service_client.get_container_client(container_name_uat)\n",
    "from collections import defaultdict\n",
    "files = [i.name for i in container_client_uat.list_blobs()]\n",
    "groups = defaultdict(list)\n",
    "for f in files:\n",
    "    dt = f.split('_')[1]\n",
    "    groups[dt].append(f)\n",
    "groups[dt]"
   ]
  },
  {
   "cell_type": "code",
   "execution_count": 4,
   "id": "aece276c",
   "metadata": {
    "execution": {
     "iopub.execute_input": "2025-10-23T07:09:54.649917Z",
     "iopub.status.busy": "2025-10-23T07:09:54.649691Z",
     "iopub.status.idle": "2025-10-23T07:09:54.652572Z",
     "shell.execute_reply": "2025-10-23T07:09:54.651860Z"
    },
    "papermill": {
     "duration": 0.00662,
     "end_time": "2025-10-23T07:09:54.653237",
     "exception": false,
     "start_time": "2025-10-23T07:09:54.646617",
     "status": "completed"
    },
    "tags": []
   },
   "outputs": [],
   "source": [
    "# from datetime import date, timedelta, datetime\n",
    "# import pandas as pd\n",
    "# today = date.today().strftime('%Y-%m-%d')\n",
    "# yesterday = (date.today() - timedelta(days = 1) ).strftime('%Y-%m-%d')\n",
    "# check_date = dt.split(\"T\")[0]\n",
    "# if check_date == today:\n",
    "#     need_process = pd.date_range(start=already_processed[-1], end=today).strftime('%Y-%m-%d').to_list()\n",
    "# else:\n",
    "#     need_process = pd.date_range(start=already_processed[-1], end=yesterday).strftime('%Y-%m-%d').to_list()\n",
    "# need_process"
   ]
  },
  {
   "cell_type": "code",
   "execution_count": 5,
   "id": "820fd9b0",
   "metadata": {
    "execution": {
     "iopub.execute_input": "2025-10-23T07:09:54.658357Z",
     "iopub.status.busy": "2025-10-23T07:09:54.658198Z",
     "iopub.status.idle": "2025-10-23T07:09:54.910450Z",
     "shell.execute_reply": "2025-10-23T07:09:54.909616Z"
    },
    "papermill": {
     "duration": 0.255632,
     "end_time": "2025-10-23T07:09:54.911031",
     "exception": false,
     "start_time": "2025-10-23T07:09:54.655399",
     "status": "completed"
    },
    "tags": []
   },
   "outputs": [
    {
     "data": {
      "text/plain": [
       "['2025-10-22T230000',\n",
       " '2025-10-23T000000',\n",
       " '2025-10-23T010000',\n",
       " '2025-10-23T020000',\n",
       " '2025-10-23T030000',\n",
       " '2025-10-23T040000',\n",
       " '2025-10-23T050000',\n",
       " '2025-10-23T060000']"
      ]
     },
     "execution_count": 5,
     "metadata": {},
     "output_type": "execute_result"
    }
   ],
   "source": [
    "from datetime import datetime\n",
    "import pandas as pd\n",
    "B = datetime.strptime(dt, \"%Y-%m-%dT%H0000\")\n",
    "A = datetime.strptime(already_processed_ts[-2], \"%Y-%m-%dT%H0000\")\n",
    "need_process_ts =  pd.date_range(A, B, freq='h').strftime('%Y-%m-%dT%H0000').tolist()\n",
    "need_process_ts"
   ]
  },
  {
   "cell_type": "code",
   "execution_count": 6,
   "id": "d76d17de",
   "metadata": {
    "execution": {
     "iopub.execute_input": "2025-10-23T07:09:54.916898Z",
     "iopub.status.busy": "2025-10-23T07:09:54.916619Z",
     "iopub.status.idle": "2025-10-23T07:11:13.305107Z",
     "shell.execute_reply": "2025-10-23T07:11:13.304278Z"
    },
    "papermill": {
     "duration": 78.392153,
     "end_time": "2025-10-23T07:11:13.305784",
     "exception": false,
     "start_time": "2025-10-23T07:09:54.913631",
     "status": "completed"
    },
    "tags": []
   },
   "outputs": [
    {
     "name": "stderr",
     "output_type": "stream",
     "text": [
      "\r",
      "  0%|          | 0/2127 [00:00<?, ?it/s]"
     ]
    },
    {
     "name": "stderr",
     "output_type": "stream",
     "text": [
      "\r",
      "100%|█████████▉| 2120/2127 [00:11<00:00, 183.56it/s]"
     ]
    },
    {
     "name": "stdout",
     "output_type": "stream",
     "text": [
      "Done dt=2025-10-22/2025-10-22T230000.parquet\n"
     ]
    },
    {
     "name": "stdout",
     "output_type": "stream",
     "text": [
      "Done dt=2025-10-23/2025-10-23T000000.parquet\n"
     ]
    },
    {
     "name": "stderr",
     "output_type": "stream",
     "text": [
      "\r",
      "100%|█████████▉| 2120/2127 [00:29<00:00, 183.56it/s]"
     ]
    },
    {
     "name": "stderr",
     "output_type": "stream",
     "text": [
      "\r",
      "100%|█████████▉| 2122/2127 [00:31<00:00, 53.68it/s] "
     ]
    },
    {
     "name": "stdout",
     "output_type": "stream",
     "text": [
      "Done dt=2025-10-23/2025-10-23T010000.parquet\n"
     ]
    },
    {
     "name": "stderr",
     "output_type": "stream",
     "text": [
      "\r",
      "100%|█████████▉| 2123/2127 [00:40<00:00, 36.43it/s]"
     ]
    },
    {
     "name": "stdout",
     "output_type": "stream",
     "text": [
      "Done dt=2025-10-23/2025-10-23T020000.parquet\n"
     ]
    },
    {
     "name": "stderr",
     "output_type": "stream",
     "text": [
      "\r",
      "100%|█████████▉| 2124/2127 [00:50<00:00, 24.39it/s]"
     ]
    },
    {
     "name": "stdout",
     "output_type": "stream",
     "text": [
      "Done dt=2025-10-23/2025-10-23T030000.parquet\n"
     ]
    },
    {
     "name": "stderr",
     "output_type": "stream",
     "text": [
      "\r",
      "100%|█████████▉| 2125/2127 [01:00<00:00, 16.62it/s]"
     ]
    },
    {
     "name": "stdout",
     "output_type": "stream",
     "text": [
      "Done dt=2025-10-23/2025-10-23T040000.parquet\n"
     ]
    },
    {
     "name": "stderr",
     "output_type": "stream",
     "text": [
      "\r",
      "100%|█████████▉| 2126/2127 [01:09<00:00, 11.74it/s]"
     ]
    },
    {
     "name": "stdout",
     "output_type": "stream",
     "text": [
      "Done dt=2025-10-23/2025-10-23T050000.parquet\n"
     ]
    },
    {
     "name": "stderr",
     "output_type": "stream",
     "text": [
      "\r",
      "100%|██████████| 2127/2127 [01:18<00:00,  8.27it/s]"
     ]
    },
    {
     "name": "stderr",
     "output_type": "stream",
     "text": [
      "\r",
      "100%|██████████| 2127/2127 [01:18<00:00, 27.18it/s]"
     ]
    },
    {
     "name": "stdout",
     "output_type": "stream",
     "text": [
      "Done dt=2025-10-23/2025-10-23T060000.parquet\n"
     ]
    },
    {
     "name": "stderr",
     "output_type": "stream",
     "text": [
      "\n"
     ]
    }
   ],
   "source": [
    "import polars as pl \n",
    "from tqdm import tqdm\n",
    "storage_options = {\n",
    "    \"account_name\": account_name,\n",
    "    \"account_key\":  account_key,\n",
    "}\n",
    "\n",
    "for ts, files in tqdm(groups.items()):\n",
    "    if ts not in need_process_ts:\n",
    "        continue\n",
    "    dt = ts[:10]\n",
    "    # if dt not in need_process:\n",
    "    #     continue\n",
    "    df = pl.scan_csv(f\"az://adjuststbuat/*_{ts}_*.csv.gz\", storage_options = storage_options,glob=True, has_header = True, null_values = [\"\",\"NULL\"], ignore_errors=True).select(pl.all().cast(pl.Utf8))\n",
    "    df.sink_parquet(f\"az://adjuststbuatprocessed/processing/dt={dt}/{ts}.parquet\", storage_options = storage_options, compression=\"snappy\")\n",
    "    print(f'Done dt={dt}/{ts}.parquet')\n",
    "        "
   ]
  },
  {
   "cell_type": "code",
   "execution_count": 7,
   "id": "ed5b53dd",
   "metadata": {
    "execution": {
     "iopub.execute_input": "2025-10-23T07:11:13.313135Z",
     "iopub.status.busy": "2025-10-23T07:11:13.312949Z",
     "iopub.status.idle": "2025-10-23T07:11:13.317166Z",
     "shell.execute_reply": "2025-10-23T07:11:13.316387Z"
    },
    "papermill": {
     "duration": 0.008588,
     "end_time": "2025-10-23T07:11:13.317705",
     "exception": false,
     "start_time": "2025-10-23T07:11:13.309117",
     "status": "completed"
    },
    "tags": []
   },
   "outputs": [
    {
     "data": {
      "text/plain": [
       "{'2025-10-22', '2025-10-23'}"
      ]
     },
     "execution_count": 7,
     "metadata": {},
     "output_type": "execute_result"
    }
   ],
   "source": [
    "need_process = set([i.split(\"T\")[0] for i in need_process_ts])\n",
    "need_process"
   ]
  },
  {
   "cell_type": "code",
   "execution_count": 8,
   "id": "4a9ddde6",
   "metadata": {
    "execution": {
     "iopub.execute_input": "2025-10-23T07:11:13.324712Z",
     "iopub.status.busy": "2025-10-23T07:11:13.324551Z",
     "iopub.status.idle": "2025-10-23T07:11:22.546860Z",
     "shell.execute_reply": "2025-10-23T07:11:22.546056Z"
    },
    "papermill": {
     "duration": 9.226716,
     "end_time": "2025-10-23T07:11:22.547490",
     "exception": false,
     "start_time": "2025-10-23T07:11:13.320774",
     "status": "completed"
    },
    "tags": []
   },
   "outputs": [
    {
     "name": "stdout",
     "output_type": "stream",
     "text": [
      "\n",
      " Done 2025-10-23\n",
      "\n"
     ]
    },
    {
     "name": "stdout",
     "output_type": "stream",
     "text": [
      "\n",
      " Done 2025-10-22\n",
      "\n"
     ]
    }
   ],
   "source": [
    "for dt in need_process:\n",
    "  df = pl.scan_parquet(f\"az://adjuststbuatprocessed/processing/dt={dt}/*.parquet\", storage_options=storage_options,glob=True).with_columns(pl.lit(dt).alias(\"dt\"))\n",
    "  df.sink_parquet(f\"az://adjuststbuatprocessed/output/{dt}.parquet\", storage_options=storage_options, compression=\"snappy\")\n",
    "  print(f'\\n Done {dt}\\n')"
   ]
  },
  {
   "cell_type": "markdown",
   "id": "0a7b30e0",
   "metadata": {
    "id": "2TvKr29qyJd_",
    "papermill": {
     "duration": 0.003144,
     "end_time": "2025-10-23T07:11:22.554070",
     "exception": false,
     "start_time": "2025-10-23T07:11:22.550926",
     "status": "completed"
    },
    "tags": []
   },
   "source": [
    "# Live"
   ]
  },
  {
   "cell_type": "code",
   "execution_count": 9,
   "id": "171484f8",
   "metadata": {
    "execution": {
     "iopub.execute_input": "2025-10-23T07:11:22.561079Z",
     "iopub.status.busy": "2025-10-23T07:11:22.560908Z",
     "iopub.status.idle": "2025-10-23T07:11:27.002076Z",
     "shell.execute_reply": "2025-10-23T07:11:27.001322Z"
    },
    "id": "EnaFsdZFxpwc",
    "papermill": {
     "duration": 4.445662,
     "end_time": "2025-10-23T07:11:27.002809",
     "exception": false,
     "start_time": "2025-10-23T07:11:22.557147",
     "status": "completed"
    },
    "tags": []
   },
   "outputs": [
    {
     "data": {
      "text/plain": [
       "['2025-10-22T200000',\n",
       " '2025-10-22T210000',\n",
       " '2025-10-22T220000',\n",
       " '2025-10-22T230000',\n",
       " '2025-10-23T000000']"
      ]
     },
     "execution_count": 9,
     "metadata": {},
     "output_type": "execute_result"
    }
   ],
   "source": [
    "# already_processed = [file.name.split('/')[-1].split('.')[0] for file in container_client.list_blobs() if file.name[:12] == 'live/output/']\n",
    "# already_processed[-5:]\n",
    "already_processed_ts = sorted([file.name.split('/')[-1].split(\".\")[0] for file in container_client.list_blobs() if (file.name.split('/')[0] + \"/\" + file.name.split('/')[1]) == 'live/processing'])\n",
    "already_processed_ts[-5:]"
   ]
  },
  {
   "cell_type": "code",
   "execution_count": 10,
   "id": "7707723c",
   "metadata": {
    "execution": {
     "iopub.execute_input": "2025-10-23T07:11:27.010871Z",
     "iopub.status.busy": "2025-10-23T07:11:27.010586Z",
     "iopub.status.idle": "2025-10-23T07:11:40.410615Z",
     "shell.execute_reply": "2025-10-23T07:11:40.409710Z"
    },
    "id": "I7Er6YEUyOsL",
    "papermill": {
     "duration": 13.404722,
     "end_time": "2025-10-23T07:11:40.411229",
     "exception": false,
     "start_time": "2025-10-23T07:11:27.006507",
     "status": "completed"
    },
    "tags": []
   },
   "outputs": [
    {
     "data": {
      "text/plain": [
       "['65n1fgov4zr4_2025-10-23T060000_762c775ae454d23f2c6b6a75623d14c7_2853a0.csv.gz',\n",
       " '65n1fgov4zr4_2025-10-23T060000_762c775ae454d23f2c6b6a75623d14c7_2853a1.csv.gz',\n",
       " '65n1fgov4zr4_2025-10-23T060000_762c775ae454d23f2c6b6a75623d14c7_be8220.csv.gz',\n",
       " '65n1fgov4zr4_2025-10-23T060000_762c775ae454d23f2c6b6a75623d14c7_be8221.csv.gz',\n",
       " '65n1fgov4zr4_2025-10-23T060000_762c775ae454d23f2c6b6a75623d14c7_c35750.csv.gz',\n",
       " '65n1fgov4zr4_2025-10-23T060000_762c775ae454d23f2c6b6a75623d14c7_c35751.csv.gz']"
      ]
     },
     "execution_count": 10,
     "metadata": {},
     "output_type": "execute_result"
    }
   ],
   "source": [
    "container_name_uat = \"adjuststblive\"\n",
    "container_client_uat = blob_service_client.get_container_client(container_name_uat)\n",
    "from collections import defaultdict\n",
    "files = [i.name for i in container_client_uat.list_blobs()]\n",
    "groups = defaultdict(list)\n",
    "for f in files:\n",
    "    dt = f.split('_')[1]\n",
    "    groups[dt].append(f)\n",
    "groups[dt]"
   ]
  },
  {
   "cell_type": "code",
   "execution_count": 11,
   "id": "cd71aab1",
   "metadata": {
    "execution": {
     "iopub.execute_input": "2025-10-23T07:11:40.419246Z",
     "iopub.status.busy": "2025-10-23T07:11:40.419081Z",
     "iopub.status.idle": "2025-10-23T07:11:40.423862Z",
     "shell.execute_reply": "2025-10-23T07:11:40.423191Z"
    },
    "papermill": {
     "duration": 0.009726,
     "end_time": "2025-10-23T07:11:40.424689",
     "exception": false,
     "start_time": "2025-10-23T07:11:40.414963",
     "status": "completed"
    },
    "tags": []
   },
   "outputs": [
    {
     "data": {
      "text/plain": [
       "['2025-10-23T000000',\n",
       " '2025-10-23T010000',\n",
       " '2025-10-23T020000',\n",
       " '2025-10-23T030000',\n",
       " '2025-10-23T040000',\n",
       " '2025-10-23T050000',\n",
       " '2025-10-23T060000']"
      ]
     },
     "execution_count": 11,
     "metadata": {},
     "output_type": "execute_result"
    }
   ],
   "source": [
    "# need_process = pd.date_range(start=already_processed[-1], end=today).strftime('%Y-%m-%d').to_list()\n",
    "# need_process\n",
    "\n",
    "B = datetime.strptime(dt, \"%Y-%m-%dT%H0000\")\n",
    "A = datetime.strptime(already_processed_ts[-1], \"%Y-%m-%dT%H0000\")\n",
    "need_process_ts =  pd.date_range(A, B, freq='h').strftime('%Y-%m-%dT%H0000').tolist()\n",
    "need_process_ts"
   ]
  },
  {
   "cell_type": "code",
   "execution_count": 12,
   "id": "c5e1e778",
   "metadata": {
    "execution": {
     "iopub.execute_input": "2025-10-23T07:11:40.432289Z",
     "iopub.status.busy": "2025-10-23T07:11:40.432107Z",
     "iopub.status.idle": "2025-10-23T07:14:34.019321Z",
     "shell.execute_reply": "2025-10-23T07:14:34.018401Z"
    },
    "id": "g-W3s2nRyRY7",
    "papermill": {
     "duration": 173.595703,
     "end_time": "2025-10-23T07:14:34.023770",
     "exception": false,
     "start_time": "2025-10-23T07:11:40.428067",
     "status": "completed"
    },
    "tags": []
   },
   "outputs": [
    {
     "name": "stderr",
     "output_type": "stream",
     "text": [
      "\r",
      "  0%|          | 0/2181 [00:00<?, ?it/s]"
     ]
    },
    {
     "name": "stderr",
     "output_type": "stream",
     "text": [
      "\r",
      "100%|█████████▉| 2175/2181 [00:28<00:00, 76.96it/s]"
     ]
    },
    {
     "name": "stdout",
     "output_type": "stream",
     "text": [
      "Done dt=2025-10-23/2025-10-23T000000.parquet\n"
     ]
    },
    {
     "name": "stderr",
     "output_type": "stream",
     "text": [
      "\r",
      "100%|█████████▉| 2175/2181 [00:44<00:00, 76.96it/s]"
     ]
    },
    {
     "name": "stderr",
     "output_type": "stream",
     "text": [
      "\r",
      "100%|█████████▉| 2176/2181 [00:52<00:00, 34.87it/s]"
     ]
    },
    {
     "name": "stdout",
     "output_type": "stream",
     "text": [
      "Done dt=2025-10-23/2025-10-23T010000.parquet\n"
     ]
    },
    {
     "name": "stderr",
     "output_type": "stream",
     "text": [
      "\r",
      "100%|█████████▉| 2177/2181 [01:15<00:00, 19.80it/s]"
     ]
    },
    {
     "name": "stdout",
     "output_type": "stream",
     "text": [
      "Done dt=2025-10-23/2025-10-23T020000.parquet\n"
     ]
    },
    {
     "name": "stderr",
     "output_type": "stream",
     "text": [
      "\r",
      "100%|█████████▉| 2178/2181 [01:39<00:00, 12.11it/s]"
     ]
    },
    {
     "name": "stdout",
     "output_type": "stream",
     "text": [
      "Done dt=2025-10-23/2025-10-23T030000.parquet\n"
     ]
    },
    {
     "name": "stderr",
     "output_type": "stream",
     "text": [
      "\r",
      "100%|█████████▉| 2179/2181 [02:03<00:00,  7.77it/s]"
     ]
    },
    {
     "name": "stdout",
     "output_type": "stream",
     "text": [
      "Done dt=2025-10-23/2025-10-23T040000.parquet\n"
     ]
    },
    {
     "name": "stderr",
     "output_type": "stream",
     "text": [
      "\r",
      "100%|█████████▉| 2180/2181 [02:29<00:00,  5.07it/s]"
     ]
    },
    {
     "name": "stdout",
     "output_type": "stream",
     "text": [
      "Done dt=2025-10-23/2025-10-23T050000.parquet\n"
     ]
    },
    {
     "name": "stderr",
     "output_type": "stream",
     "text": [
      "\r",
      "100%|██████████| 2181/2181 [02:53<00:00,  3.44it/s]"
     ]
    },
    {
     "name": "stderr",
     "output_type": "stream",
     "text": [
      "\r",
      "100%|██████████| 2181/2181 [02:53<00:00, 12.56it/s]"
     ]
    },
    {
     "name": "stdout",
     "output_type": "stream",
     "text": [
      "Done dt=2025-10-23/2025-10-23T060000.parquet\n"
     ]
    },
    {
     "name": "stderr",
     "output_type": "stream",
     "text": [
      "\n"
     ]
    }
   ],
   "source": [
    "storage_options = {\n",
    "    \"account_name\": account_name,\n",
    "    \"account_key\":  account_key,\n",
    "}\n",
    "\n",
    "for ts, files in tqdm(groups.items()):\n",
    "    if ts not in need_process_ts: continue\n",
    "    dt = ts[:10]\n",
    "    # if dt not in need_process:\n",
    "    #     continue\n",
    "    df = pl.scan_csv(f\"az://adjuststblive/*_{ts}_*.csv.gz\", storage_options = storage_options,glob=True, has_header = True, null_values = [\"\",\"NULL\"], ignore_errors=True).select(pl.all().cast(pl.Utf8))\n",
    "    df.sink_parquet(f\"az://adjuststbuatprocessed/live/processing/dt={dt}/{ts}.parquet\", storage_options = storage_options, compression=\"snappy\")\n",
    "    print(f'Done dt={dt}/{ts}.parquet')\n",
    "        "
   ]
  },
  {
   "cell_type": "code",
   "execution_count": 13,
   "id": "e75aa52d",
   "metadata": {
    "execution": {
     "iopub.execute_input": "2025-10-23T07:14:34.033178Z",
     "iopub.status.busy": "2025-10-23T07:14:34.032981Z",
     "iopub.status.idle": "2025-10-23T07:14:34.037449Z",
     "shell.execute_reply": "2025-10-23T07:14:34.036665Z"
    },
    "papermill": {
     "duration": 0.010006,
     "end_time": "2025-10-23T07:14:34.038016",
     "exception": false,
     "start_time": "2025-10-23T07:14:34.028010",
     "status": "completed"
    },
    "tags": []
   },
   "outputs": [
    {
     "data": {
      "text/plain": [
       "{'2025-10-23'}"
      ]
     },
     "execution_count": 13,
     "metadata": {},
     "output_type": "execute_result"
    }
   ],
   "source": [
    "need_process = set([i.split(\"T\")[0] for i in need_process_ts])\n",
    "need_process"
   ]
  },
  {
   "cell_type": "code",
   "execution_count": 14,
   "id": "5082e944",
   "metadata": {
    "execution": {
     "iopub.execute_input": "2025-10-23T07:14:34.047193Z",
     "iopub.status.busy": "2025-10-23T07:14:34.046998Z",
     "iopub.status.idle": "2025-10-23T07:15:03.188300Z",
     "shell.execute_reply": "2025-10-23T07:15:03.187578Z"
    },
    "id": "sBm7rfFUyePJ",
    "papermill": {
     "duration": 29.146696,
     "end_time": "2025-10-23T07:15:03.188927",
     "exception": false,
     "start_time": "2025-10-23T07:14:34.042231",
     "status": "completed"
    },
    "tags": []
   },
   "outputs": [
    {
     "name": "stdout",
     "output_type": "stream",
     "text": [
      "\n",
      " Done 2025-10-23\n",
      "\n"
     ]
    }
   ],
   "source": [
    "for dt in need_process:\n",
    "  df = pl.scan_parquet(f\"az://adjuststbuatprocessed/live/processing/dt={dt}/*.parquet\", storage_options=storage_options,glob=True).with_columns(pl.lit(dt).alias(\"dt\"))\n",
    "  df.sink_parquet(f\"az://adjuststbuatprocessed/live/output/{dt}.parquet\", storage_options=storage_options, compression=\"snappy\")\n",
    "  print(f'\\n Done {dt}\\n')"
   ]
  }
 ],
 "metadata": {
  "colab": {
   "authorship_tag": "ABX9TyOfzO6uvqUX+Tt89Y73G9E8",
   "include_colab_link": true,
   "provenance": []
  },
  "kernelspec": {
   "display_name": "Python 3",
   "name": "python3"
  },
  "language_info": {
   "codemirror_mode": {
    "name": "ipython",
    "version": 3
   },
   "file_extension": ".py",
   "mimetype": "text/x-python",
   "name": "python",
   "nbconvert_exporter": "python",
   "pygments_lexer": "ipython3",
   "version": "3.11.13"
  },
  "papermill": {
   "default_parameters": {},
   "duration": 326.498456,
   "end_time": "2025-10-23T07:15:03.809525",
   "environment_variables": {},
   "exception": null,
   "input_path": "notebooks/ADJUST_JOB.ipynb",
   "output_path": "outputs/ADJUST_JOB_2025-10-23.ipynb",
   "parameters": {
    "RUN_DATE": "2025-10-23"
   },
   "start_time": "2025-10-23T07:09:37.311069",
   "version": "2.6.0"
  }
 },
 "nbformat": 4,
 "nbformat_minor": 5
}