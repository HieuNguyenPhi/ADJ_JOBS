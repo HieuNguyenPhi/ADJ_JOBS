{
 "cells": [
  {
   "cell_type": "code",
   "execution_count": 1,
   "id": "6bf1c578",
   "metadata": {
    "execution": {
     "iopub.execute_input": "2025-10-23T01:51:19.132704Z",
     "iopub.status.busy": "2025-10-23T01:51:19.132446Z",
     "iopub.status.idle": "2025-10-23T01:51:19.137751Z",
     "shell.execute_reply": "2025-10-23T01:51:19.137130Z"
    },
    "papermill": {
     "duration": 0.009779,
     "end_time": "2025-10-23T01:51:19.138525",
     "exception": false,
     "start_time": "2025-10-23T01:51:19.128746",
     "status": "completed"
    },
    "tags": [
     "injected-parameters"
    ]
   },
   "outputs": [],
   "source": [
    "# Parameters\n",
    "RUN_DATE = \"2025-10-23\"\n"
   ]
  },
  {
   "cell_type": "markdown",
   "id": "365d66dc",
   "metadata": {
    "colab_type": "text",
    "id": "view-in-github",
    "papermill": {
     "duration": 0.001937,
     "end_time": "2025-10-23T01:51:19.142688",
     "exception": false,
     "start_time": "2025-10-23T01:51:19.140751",
     "status": "completed"
    },
    "tags": []
   },
   "source": [
    "<a href=\"https://colab.research.google.com/github/HieuNguyenPhi/ADJ_JOBS/blob/main/notebooks/ADJUST_JOB.ipynb\" target=\"_parent\"><img src=\"https://colab.research.google.com/assets/colab-badge.svg\" alt=\"Open In Colab\"/></a>"
   ]
  },
  {
   "cell_type": "markdown",
   "id": "9564a3df",
   "metadata": {
    "papermill": {
     "duration": 0.002756,
     "end_time": "2025-10-23T01:51:19.147370",
     "exception": false,
     "start_time": "2025-10-23T01:51:19.144614",
     "status": "completed"
    },
    "tags": []
   },
   "source": [
    "# UAT"
   ]
  },
  {
   "cell_type": "code",
   "execution_count": 2,
   "id": "9857bade",
   "metadata": {
    "execution": {
     "iopub.execute_input": "2025-10-23T01:51:19.152194Z",
     "iopub.status.busy": "2025-10-23T01:51:19.152022Z",
     "iopub.status.idle": "2025-10-23T01:51:26.479153Z",
     "shell.execute_reply": "2025-10-23T01:51:26.478293Z"
    },
    "id": "ycUR2r1dq1Nm",
    "papermill": {
     "duration": 7.330599,
     "end_time": "2025-10-23T01:51:26.479904",
     "exception": false,
     "start_time": "2025-10-23T01:51:19.149305",
     "status": "completed"
    },
    "tags": []
   },
   "outputs": [
    {
     "data": {
      "text/plain": [
       "['2025-10-21T220000',\n",
       " '2025-10-21T230000',\n",
       " '2025-10-22T000000',\n",
       " '2025-10-22T010000',\n",
       " '2025-10-22T020000']"
      ]
     },
     "execution_count": 2,
     "metadata": {},
     "output_type": "execute_result"
    }
   ],
   "source": [
    "import os\n",
    "from azure.storage.blob import BlobServiceClient\n",
    "\n",
    "account_name = os.getenv('ACCOUNT_NAME')\n",
    "account_key = os.getenv('ACCOUNT_KEY')\n",
    "# Replace with your Azure Storage account name and SAS token or connection string\n",
    "connect_str = f\"DefaultEndpointsProtocol=https;AccountName={account_name};AccountKey={account_key};EndpointSuffix=core.windows.net\"\n",
    "blob_service_client = BlobServiceClient.from_connection_string(connect_str)\n",
    "container_list = blob_service_client.list_containers()\n",
    "container_name = \"adjuststbuatprocessed\" #os.getenv('CONTAINER_NAME')\n",
    "container_client = blob_service_client.get_container_client(container_name)\n",
    "# already_processed = [file.name.split('/')[1].split('.')[0] for file in container_client.list_blobs() if file.name.split('/')[0] == 'output']\n",
    "# already_processed[-5:]\n",
    "already_processed_ts = sorted([file.name.split('/')[-1].split(\".\")[0] for file in container_client.list_blobs() if file.name.split('/')[0] == 'processing'])\n",
    "already_processed_ts[-5:]"
   ]
  },
  {
   "cell_type": "code",
   "execution_count": 3,
   "id": "18c3d0dd",
   "metadata": {
    "execution": {
     "iopub.execute_input": "2025-10-23T01:51:26.485652Z",
     "iopub.status.busy": "2025-10-23T01:51:26.485358Z",
     "iopub.status.idle": "2025-10-23T01:51:36.275511Z",
     "shell.execute_reply": "2025-10-23T01:51:36.274653Z"
    },
    "id": "xyPuVC12s7fn",
    "papermill": {
     "duration": 9.793849,
     "end_time": "2025-10-23T01:51:36.276176",
     "exception": false,
     "start_time": "2025-10-23T01:51:26.482327",
     "status": "completed"
    },
    "tags": []
   },
   "outputs": [
    {
     "data": {
      "text/plain": [
       "['rsh20bkkb4zk_2025-10-23T000000_762c775ae454d23f2c6b6a75623d14c7_2853a0.csv.gz',\n",
       " 'rsh20bkkb4zk_2025-10-23T000000_762c775ae454d23f2c6b6a75623d14c7_2853a1.csv.gz',\n",
       " 'rsh20bkkb4zk_2025-10-23T000000_762c775ae454d23f2c6b6a75623d14c7_be8220.csv.gz',\n",
       " 'rsh20bkkb4zk_2025-10-23T000000_762c775ae454d23f2c6b6a75623d14c7_be8221.csv.gz',\n",
       " 'rsh20bkkb4zk_2025-10-23T000000_762c775ae454d23f2c6b6a75623d14c7_c35750.csv.gz',\n",
       " 'rsh20bkkb4zk_2025-10-23T000000_762c775ae454d23f2c6b6a75623d14c7_c35751.csv.gz']"
      ]
     },
     "execution_count": 3,
     "metadata": {},
     "output_type": "execute_result"
    }
   ],
   "source": [
    "container_name_uat = \"adjuststbuat\"\n",
    "container_client_uat = blob_service_client.get_container_client(container_name_uat)\n",
    "from collections import defaultdict\n",
    "files = [i.name for i in container_client_uat.list_blobs()]\n",
    "groups = defaultdict(list)\n",
    "for f in files:\n",
    "    dt = f.split('_')[1]\n",
    "    groups[dt].append(f)\n",
    "groups[dt]"
   ]
  },
  {
   "cell_type": "code",
   "execution_count": 4,
   "id": "e3a0064d",
   "metadata": {
    "execution": {
     "iopub.execute_input": "2025-10-23T01:51:36.282954Z",
     "iopub.status.busy": "2025-10-23T01:51:36.282776Z",
     "iopub.status.idle": "2025-10-23T01:51:36.285682Z",
     "shell.execute_reply": "2025-10-23T01:51:36.284972Z"
    },
    "papermill": {
     "duration": 0.007562,
     "end_time": "2025-10-23T01:51:36.286358",
     "exception": false,
     "start_time": "2025-10-23T01:51:36.278796",
     "status": "completed"
    },
    "tags": []
   },
   "outputs": [],
   "source": [
    "# from datetime import date, timedelta, datetime\n",
    "# import pandas as pd\n",
    "# today = date.today().strftime('%Y-%m-%d')\n",
    "# yesterday = (date.today() - timedelta(days = 1) ).strftime('%Y-%m-%d')\n",
    "# check_date = dt.split(\"T\")[0]\n",
    "# if check_date == today:\n",
    "#     need_process = pd.date_range(start=already_processed[-1], end=today).strftime('%Y-%m-%d').to_list()\n",
    "# else:\n",
    "#     need_process = pd.date_range(start=already_processed[-1], end=yesterday).strftime('%Y-%m-%d').to_list()\n",
    "# need_process"
   ]
  },
  {
   "cell_type": "code",
   "execution_count": 5,
   "id": "f406eb39",
   "metadata": {
    "execution": {
     "iopub.execute_input": "2025-10-23T01:51:36.291480Z",
     "iopub.status.busy": "2025-10-23T01:51:36.291295Z",
     "iopub.status.idle": "2025-10-23T01:51:36.523867Z",
     "shell.execute_reply": "2025-10-23T01:51:36.523008Z"
    },
    "papermill": {
     "duration": 0.235928,
     "end_time": "2025-10-23T01:51:36.524521",
     "exception": false,
     "start_time": "2025-10-23T01:51:36.288593",
     "status": "completed"
    },
    "tags": []
   },
   "outputs": [
    {
     "data": {
      "text/plain": [
       "['2025-10-22T010000',\n",
       " '2025-10-22T020000',\n",
       " '2025-10-22T030000',\n",
       " '2025-10-22T040000',\n",
       " '2025-10-22T050000',\n",
       " '2025-10-22T060000',\n",
       " '2025-10-22T070000',\n",
       " '2025-10-22T080000',\n",
       " '2025-10-22T090000',\n",
       " '2025-10-22T100000',\n",
       " '2025-10-22T110000',\n",
       " '2025-10-22T120000',\n",
       " '2025-10-22T130000',\n",
       " '2025-10-22T140000',\n",
       " '2025-10-22T150000',\n",
       " '2025-10-22T160000',\n",
       " '2025-10-22T170000',\n",
       " '2025-10-22T180000',\n",
       " '2025-10-22T190000',\n",
       " '2025-10-22T200000',\n",
       " '2025-10-22T210000',\n",
       " '2025-10-22T220000',\n",
       " '2025-10-22T230000',\n",
       " '2025-10-23T000000']"
      ]
     },
     "execution_count": 5,
     "metadata": {},
     "output_type": "execute_result"
    }
   ],
   "source": [
    "from datetime import datetime\n",
    "import pandas as pd\n",
    "B = datetime.strptime(dt, \"%Y-%m-%dT%H0000\")\n",
    "A = datetime.strptime(already_processed_ts[-2], \"%Y-%m-%dT%H0000\")\n",
    "need_process_ts =  pd.date_range(A, B, freq='h').strftime('%Y-%m-%dT%H0000').tolist()\n",
    "need_process_ts"
   ]
  },
  {
   "cell_type": "code",
   "execution_count": 6,
   "id": "4bfd59f0",
   "metadata": {
    "execution": {
     "iopub.execute_input": "2025-10-23T01:51:36.530604Z",
     "iopub.status.busy": "2025-10-23T01:51:36.530301Z",
     "iopub.status.idle": "2025-10-23T01:55:32.280180Z",
     "shell.execute_reply": "2025-10-23T01:55:32.279362Z"
    },
    "papermill": {
     "duration": 235.753646,
     "end_time": "2025-10-23T01:55:32.280805",
     "exception": false,
     "start_time": "2025-10-23T01:51:36.527159",
     "status": "completed"
    },
    "tags": []
   },
   "outputs": [
    {
     "name": "stderr",
     "output_type": "stream",
     "text": [
      "\r",
      "  0%|          | 0/2121 [00:00<?, ?it/s]"
     ]
    },
    {
     "name": "stderr",
     "output_type": "stream",
     "text": [
      "\r",
      " 99%|█████████▉| 2098/2121 [00:12<00:00, 167.49it/s]"
     ]
    },
    {
     "name": "stdout",
     "output_type": "stream",
     "text": [
      "Done dt=2025-10-22/2025-10-22T010000.parquet\n"
     ]
    },
    {
     "name": "stdout",
     "output_type": "stream",
     "text": [
      "Done dt=2025-10-22/2025-10-22T020000.parquet\n"
     ]
    },
    {
     "name": "stderr",
     "output_type": "stream",
     "text": [
      "\r",
      " 99%|█████████▉| 2098/2121 [00:29<00:00, 167.49it/s]"
     ]
    },
    {
     "name": "stderr",
     "output_type": "stream",
     "text": [
      "\r",
      " 99%|█████████▉| 2100/2121 [00:34<00:00, 48.37it/s] "
     ]
    },
    {
     "name": "stdout",
     "output_type": "stream",
     "text": [
      "Done dt=2025-10-22/2025-10-22T030000.parquet\n"
     ]
    },
    {
     "name": "stderr",
     "output_type": "stream",
     "text": [
      "\r",
      " 99%|█████████▉| 2101/2121 [00:43<00:00, 33.25it/s]"
     ]
    },
    {
     "name": "stdout",
     "output_type": "stream",
     "text": [
      "Done dt=2025-10-22/2025-10-22T040000.parquet\n"
     ]
    },
    {
     "name": "stderr",
     "output_type": "stream",
     "text": [
      "\r",
      " 99%|█████████▉| 2102/2121 [00:53<00:00, 23.06it/s]"
     ]
    },
    {
     "name": "stdout",
     "output_type": "stream",
     "text": [
      "Done dt=2025-10-22/2025-10-22T050000.parquet\n"
     ]
    },
    {
     "name": "stderr",
     "output_type": "stream",
     "text": [
      "\r",
      " 99%|█████████▉| 2103/2121 [01:04<00:01, 15.59it/s]"
     ]
    },
    {
     "name": "stdout",
     "output_type": "stream",
     "text": [
      "Done dt=2025-10-22/2025-10-22T060000.parquet\n"
     ]
    },
    {
     "name": "stderr",
     "output_type": "stream",
     "text": [
      "\r",
      " 99%|█████████▉| 2104/2121 [01:13<00:01, 10.97it/s]"
     ]
    },
    {
     "name": "stdout",
     "output_type": "stream",
     "text": [
      "Done dt=2025-10-22/2025-10-22T070000.parquet\n"
     ]
    },
    {
     "name": "stderr",
     "output_type": "stream",
     "text": [
      "\r",
      " 99%|█████████▉| 2105/2121 [01:23<00:02,  7.72it/s]"
     ]
    },
    {
     "name": "stdout",
     "output_type": "stream",
     "text": [
      "Done dt=2025-10-22/2025-10-22T080000.parquet\n"
     ]
    },
    {
     "name": "stderr",
     "output_type": "stream",
     "text": [
      "\r",
      " 99%|█████████▉| 2106/2121 [01:33<00:02,  5.44it/s]"
     ]
    },
    {
     "name": "stdout",
     "output_type": "stream",
     "text": [
      "Done dt=2025-10-22/2025-10-22T090000.parquet\n"
     ]
    },
    {
     "name": "stderr",
     "output_type": "stream",
     "text": [
      "\r",
      " 99%|█████████▉| 2107/2121 [01:42<00:03,  3.84it/s]"
     ]
    },
    {
     "name": "stdout",
     "output_type": "stream",
     "text": [
      "Done dt=2025-10-22/2025-10-22T100000.parquet\n"
     ]
    },
    {
     "name": "stderr",
     "output_type": "stream",
     "text": [
      "\r",
      " 99%|█████████▉| 2108/2121 [01:52<00:04,  2.72it/s]"
     ]
    },
    {
     "name": "stdout",
     "output_type": "stream",
     "text": [
      "Done dt=2025-10-22/2025-10-22T110000.parquet\n"
     ]
    },
    {
     "name": "stderr",
     "output_type": "stream",
     "text": [
      "\r",
      " 99%|█████████▉| 2109/2121 [02:02<00:06,  1.93it/s]"
     ]
    },
    {
     "name": "stdout",
     "output_type": "stream",
     "text": [
      "Done dt=2025-10-22/2025-10-22T120000.parquet\n"
     ]
    },
    {
     "name": "stderr",
     "output_type": "stream",
     "text": [
      "\r",
      " 99%|█████████▉| 2110/2121 [02:11<00:07,  1.38it/s]"
     ]
    },
    {
     "name": "stdout",
     "output_type": "stream",
     "text": [
      "Done dt=2025-10-22/2025-10-22T130000.parquet\n"
     ]
    },
    {
     "name": "stderr",
     "output_type": "stream",
     "text": [
      "\r",
      "100%|█████████▉| 2111/2121 [02:20<00:09,  1.02it/s]"
     ]
    },
    {
     "name": "stdout",
     "output_type": "stream",
     "text": [
      "Done dt=2025-10-22/2025-10-22T140000.parquet\n"
     ]
    },
    {
     "name": "stderr",
     "output_type": "stream",
     "text": [
      "\r",
      "100%|█████████▉| 2112/2121 [02:30<00:12,  1.35s/it]"
     ]
    },
    {
     "name": "stdout",
     "output_type": "stream",
     "text": [
      "Done dt=2025-10-22/2025-10-22T150000.parquet\n"
     ]
    },
    {
     "name": "stderr",
     "output_type": "stream",
     "text": [
      "\r",
      "100%|█████████▉| 2113/2121 [02:40<00:14,  1.83s/it]"
     ]
    },
    {
     "name": "stdout",
     "output_type": "stream",
     "text": [
      "Done dt=2025-10-22/2025-10-22T160000.parquet\n"
     ]
    },
    {
     "name": "stderr",
     "output_type": "stream",
     "text": [
      "\r",
      "100%|█████████▉| 2114/2121 [02:50<00:16,  2.42s/it]"
     ]
    },
    {
     "name": "stdout",
     "output_type": "stream",
     "text": [
      "Done dt=2025-10-22/2025-10-22T170000.parquet\n"
     ]
    },
    {
     "name": "stderr",
     "output_type": "stream",
     "text": [
      "\r",
      "100%|█████████▉| 2115/2121 [02:59<00:18,  3.13s/it]"
     ]
    },
    {
     "name": "stdout",
     "output_type": "stream",
     "text": [
      "Done dt=2025-10-22/2025-10-22T180000.parquet\n"
     ]
    },
    {
     "name": "stderr",
     "output_type": "stream",
     "text": [
      "\r",
      "100%|█████████▉| 2116/2121 [03:08<00:19,  3.85s/it]"
     ]
    },
    {
     "name": "stdout",
     "output_type": "stream",
     "text": [
      "Done dt=2025-10-22/2025-10-22T190000.parquet\n"
     ]
    },
    {
     "name": "stderr",
     "output_type": "stream",
     "text": [
      "\r",
      "100%|█████████▉| 2117/2121 [03:18<00:18,  4.65s/it]"
     ]
    },
    {
     "name": "stdout",
     "output_type": "stream",
     "text": [
      "Done dt=2025-10-22/2025-10-22T200000.parquet\n"
     ]
    },
    {
     "name": "stderr",
     "output_type": "stream",
     "text": [
      "\r",
      "100%|█████████▉| 2118/2121 [03:27<00:16,  5.41s/it]"
     ]
    },
    {
     "name": "stdout",
     "output_type": "stream",
     "text": [
      "Done dt=2025-10-22/2025-10-22T210000.parquet\n"
     ]
    },
    {
     "name": "stderr",
     "output_type": "stream",
     "text": [
      "\r",
      "100%|█████████▉| 2119/2121 [03:36<00:12,  6.14s/it]"
     ]
    },
    {
     "name": "stdout",
     "output_type": "stream",
     "text": [
      "Done dt=2025-10-22/2025-10-22T220000.parquet\n"
     ]
    },
    {
     "name": "stderr",
     "output_type": "stream",
     "text": [
      "\r",
      "100%|█████████▉| 2120/2121 [03:45<00:06,  6.94s/it]"
     ]
    },
    {
     "name": "stdout",
     "output_type": "stream",
     "text": [
      "Done dt=2025-10-22/2025-10-22T230000.parquet\n"
     ]
    },
    {
     "name": "stderr",
     "output_type": "stream",
     "text": [
      "\r",
      "100%|██████████| 2121/2121 [03:55<00:00,  7.60s/it]"
     ]
    },
    {
     "name": "stderr",
     "output_type": "stream",
     "text": [
      "\r",
      "100%|██████████| 2121/2121 [03:55<00:00,  9.00it/s]"
     ]
    },
    {
     "name": "stdout",
     "output_type": "stream",
     "text": [
      "Done dt=2025-10-23/2025-10-23T000000.parquet\n"
     ]
    },
    {
     "name": "stderr",
     "output_type": "stream",
     "text": [
      "\n"
     ]
    }
   ],
   "source": [
    "import polars as pl \n",
    "from tqdm import tqdm\n",
    "storage_options = {\n",
    "    \"account_name\": account_name,\n",
    "    \"account_key\":  account_key,\n",
    "}\n",
    "\n",
    "for ts, files in tqdm(groups.items()):\n",
    "    if ts not in need_process_ts:\n",
    "        continue\n",
    "    dt = ts[:10]\n",
    "    # if dt not in need_process:\n",
    "    #     continue\n",
    "    df = pl.scan_csv(f\"az://adjuststbuat/*_{ts}_*.csv.gz\", storage_options = storage_options,glob=True, has_header = True, null_values = [\"\",\"NULL\"], ignore_errors=True).select(pl.all().cast(pl.Utf8))\n",
    "    df.sink_parquet(f\"az://adjuststbuatprocessed/processing/dt={dt}/{ts}.parquet\", storage_options = storage_options, compression=\"snappy\")\n",
    "    print(f'Done dt={dt}/{ts}.parquet')\n",
    "        "
   ]
  },
  {
   "cell_type": "code",
   "execution_count": 7,
   "id": "af545e16",
   "metadata": {
    "execution": {
     "iopub.execute_input": "2025-10-23T01:55:32.290319Z",
     "iopub.status.busy": "2025-10-23T01:55:32.290157Z",
     "iopub.status.idle": "2025-10-23T01:55:32.294523Z",
     "shell.execute_reply": "2025-10-23T01:55:32.293755Z"
    },
    "papermill": {
     "duration": 0.009915,
     "end_time": "2025-10-23T01:55:32.295164",
     "exception": false,
     "start_time": "2025-10-23T01:55:32.285249",
     "status": "completed"
    },
    "tags": []
   },
   "outputs": [
    {
     "data": {
      "text/plain": [
       "{'2025-10-22', '2025-10-23'}"
      ]
     },
     "execution_count": 7,
     "metadata": {},
     "output_type": "execute_result"
    }
   ],
   "source": [
    "need_process = set([i.split(\"T\")[0] for i in need_process_ts])\n",
    "need_process"
   ]
  },
  {
   "cell_type": "code",
   "execution_count": 8,
   "id": "399e4bbe",
   "metadata": {
    "execution": {
     "iopub.execute_input": "2025-10-23T01:55:32.304325Z",
     "iopub.status.busy": "2025-10-23T01:55:32.304156Z",
     "iopub.status.idle": "2025-10-23T01:55:40.845941Z",
     "shell.execute_reply": "2025-10-23T01:55:40.845215Z"
    },
    "papermill": {
     "duration": 8.547304,
     "end_time": "2025-10-23T01:55:40.846655",
     "exception": false,
     "start_time": "2025-10-23T01:55:32.299351",
     "status": "completed"
    },
    "tags": []
   },
   "outputs": [
    {
     "name": "stdout",
     "output_type": "stream",
     "text": [
      "\n",
      " Done 2025-10-23\n",
      "\n"
     ]
    },
    {
     "name": "stdout",
     "output_type": "stream",
     "text": [
      "\n",
      " Done 2025-10-22\n",
      "\n"
     ]
    }
   ],
   "source": [
    "for dt in need_process:\n",
    "  df = pl.scan_parquet(f\"az://adjuststbuatprocessed/processing/dt={dt}/*.parquet\", storage_options=storage_options,glob=True).with_columns(pl.lit(dt).alias(\"dt\"))\n",
    "  df.sink_parquet(f\"az://adjuststbuatprocessed/output/{dt}.parquet\", storage_options=storage_options, compression=\"snappy\")\n",
    "  print(f'\\n Done {dt}\\n')"
   ]
  },
  {
   "cell_type": "markdown",
   "id": "acf4411a",
   "metadata": {
    "id": "2TvKr29qyJd_",
    "papermill": {
     "duration": 0.005446,
     "end_time": "2025-10-23T01:55:40.856688",
     "exception": false,
     "start_time": "2025-10-23T01:55:40.851242",
     "status": "completed"
    },
    "tags": []
   },
   "source": [
    "# Live"
   ]
  },
  {
   "cell_type": "code",
   "execution_count": 9,
   "id": "adb42da9",
   "metadata": {
    "execution": {
     "iopub.execute_input": "2025-10-23T01:55:40.866114Z",
     "iopub.status.busy": "2025-10-23T01:55:40.865938Z",
     "iopub.status.idle": "2025-10-23T01:55:47.625712Z",
     "shell.execute_reply": "2025-10-23T01:55:47.624880Z"
    },
    "id": "EnaFsdZFxpwc",
    "papermill": {
     "duration": 6.765287,
     "end_time": "2025-10-23T01:55:47.626274",
     "exception": false,
     "start_time": "2025-10-23T01:55:40.860987",
     "status": "completed"
    },
    "tags": []
   },
   "outputs": [
    {
     "data": {
      "text/plain": [
       "['2025-10-21T220000',\n",
       " '2025-10-21T230000',\n",
       " '2025-10-22T000000',\n",
       " '2025-10-22T010000',\n",
       " '2025-10-22T020000']"
      ]
     },
     "execution_count": 9,
     "metadata": {},
     "output_type": "execute_result"
    }
   ],
   "source": [
    "# already_processed = [file.name.split('/')[-1].split('.')[0] for file in container_client.list_blobs() if file.name[:12] == 'live/output/']\n",
    "# already_processed[-5:]\n",
    "already_processed_ts = sorted([file.name.split('/')[-1].split(\".\")[0] for file in container_client.list_blobs() if (file.name.split('/')[0] + \"/\" + file.name.split('/')[1]) == 'live/processing'])\n",
    "already_processed_ts[-5:]"
   ]
  },
  {
   "cell_type": "code",
   "execution_count": 10,
   "id": "3c4b8b70",
   "metadata": {
    "execution": {
     "iopub.execute_input": "2025-10-23T01:55:47.637178Z",
     "iopub.status.busy": "2025-10-23T01:55:47.637002Z",
     "iopub.status.idle": "2025-10-23T01:56:01.655995Z",
     "shell.execute_reply": "2025-10-23T01:56:01.655150Z"
    },
    "id": "I7Er6YEUyOsL",
    "papermill": {
     "duration": 14.025561,
     "end_time": "2025-10-23T01:56:01.656574",
     "exception": false,
     "start_time": "2025-10-23T01:55:47.631013",
     "status": "completed"
    },
    "tags": []
   },
   "outputs": [
    {
     "data": {
      "text/plain": [
       "['65n1fgov4zr4_2025-10-23T000000_762c775ae454d23f2c6b6a75623d14c7_2853a0.csv.gz',\n",
       " '65n1fgov4zr4_2025-10-23T000000_762c775ae454d23f2c6b6a75623d14c7_2853a1.csv.gz',\n",
       " '65n1fgov4zr4_2025-10-23T000000_762c775ae454d23f2c6b6a75623d14c7_be8220.csv.gz',\n",
       " '65n1fgov4zr4_2025-10-23T000000_762c775ae454d23f2c6b6a75623d14c7_be8221.csv.gz',\n",
       " '65n1fgov4zr4_2025-10-23T000000_762c775ae454d23f2c6b6a75623d14c7_c35750.csv.gz',\n",
       " '65n1fgov4zr4_2025-10-23T000000_762c775ae454d23f2c6b6a75623d14c7_c35751.csv.gz']"
      ]
     },
     "execution_count": 10,
     "metadata": {},
     "output_type": "execute_result"
    }
   ],
   "source": [
    "container_name_uat = \"adjuststblive\"\n",
    "container_client_uat = blob_service_client.get_container_client(container_name_uat)\n",
    "from collections import defaultdict\n",
    "files = [i.name for i in container_client_uat.list_blobs()]\n",
    "groups = defaultdict(list)\n",
    "for f in files:\n",
    "    dt = f.split('_')[1]\n",
    "    groups[dt].append(f)\n",
    "groups[dt]"
   ]
  },
  {
   "cell_type": "code",
   "execution_count": 11,
   "id": "3c55efec",
   "metadata": {
    "execution": {
     "iopub.execute_input": "2025-10-23T01:56:01.667211Z",
     "iopub.status.busy": "2025-10-23T01:56:01.667037Z",
     "iopub.status.idle": "2025-10-23T01:56:01.672121Z",
     "shell.execute_reply": "2025-10-23T01:56:01.671448Z"
    },
    "papermill": {
     "duration": 0.010986,
     "end_time": "2025-10-23T01:56:01.672790",
     "exception": false,
     "start_time": "2025-10-23T01:56:01.661804",
     "status": "completed"
    },
    "tags": []
   },
   "outputs": [
    {
     "data": {
      "text/plain": [
       "['2025-10-22T020000',\n",
       " '2025-10-22T030000',\n",
       " '2025-10-22T040000',\n",
       " '2025-10-22T050000',\n",
       " '2025-10-22T060000',\n",
       " '2025-10-22T070000',\n",
       " '2025-10-22T080000',\n",
       " '2025-10-22T090000',\n",
       " '2025-10-22T100000',\n",
       " '2025-10-22T110000',\n",
       " '2025-10-22T120000',\n",
       " '2025-10-22T130000',\n",
       " '2025-10-22T140000',\n",
       " '2025-10-22T150000',\n",
       " '2025-10-22T160000',\n",
       " '2025-10-22T170000',\n",
       " '2025-10-22T180000',\n",
       " '2025-10-22T190000',\n",
       " '2025-10-22T200000',\n",
       " '2025-10-22T210000',\n",
       " '2025-10-22T220000',\n",
       " '2025-10-22T230000',\n",
       " '2025-10-23T000000']"
      ]
     },
     "execution_count": 11,
     "metadata": {},
     "output_type": "execute_result"
    }
   ],
   "source": [
    "# need_process = pd.date_range(start=already_processed[-1], end=today).strftime('%Y-%m-%d').to_list()\n",
    "# need_process\n",
    "\n",
    "B = datetime.strptime(dt, \"%Y-%m-%dT%H0000\")\n",
    "A = datetime.strptime(already_processed_ts[-1], \"%Y-%m-%dT%H0000\")\n",
    "need_process_ts =  pd.date_range(A, B, freq='h').strftime('%Y-%m-%dT%H0000').tolist()\n",
    "need_process_ts"
   ]
  },
  {
   "cell_type": "code",
   "execution_count": 12,
   "id": "82640283",
   "metadata": {
    "execution": {
     "iopub.execute_input": "2025-10-23T01:56:01.682676Z",
     "iopub.status.busy": "2025-10-23T01:56:01.682522Z",
     "iopub.status.idle": "2025-10-23T02:08:10.195488Z",
     "shell.execute_reply": "2025-10-23T02:08:10.194708Z"
    },
    "id": "g-W3s2nRyRY7",
    "papermill": {
     "duration": 728.518703,
     "end_time": "2025-10-23T02:08:10.196049",
     "exception": false,
     "start_time": "2025-10-23T01:56:01.677346",
     "status": "completed"
    },
    "tags": []
   },
   "outputs": [
    {
     "name": "stderr",
     "output_type": "stream",
     "text": [
      "\r",
      "  0%|          | 0/2175 [00:00<?, ?it/s]"
     ]
    },
    {
     "name": "stderr",
     "output_type": "stream",
     "text": [
      "\r",
      " 99%|█████████▉| 2153/2175 [00:32<00:00, 66.19it/s]"
     ]
    },
    {
     "name": "stdout",
     "output_type": "stream",
     "text": [
      "Done dt=2025-10-22/2025-10-22T020000.parquet\n"
     ]
    },
    {
     "name": "stderr",
     "output_type": "stream",
     "text": [
      "\r",
      " 99%|█████████▉| 2153/2175 [00:44<00:00, 66.19it/s]"
     ]
    },
    {
     "name": "stderr",
     "output_type": "stream",
     "text": [
      "\r",
      " 99%|█████████▉| 2154/2175 [00:59<00:00, 30.03it/s]"
     ]
    },
    {
     "name": "stdout",
     "output_type": "stream",
     "text": [
      "Done dt=2025-10-22/2025-10-22T030000.parquet\n"
     ]
    },
    {
     "name": "stderr",
     "output_type": "stream",
     "text": [
      "\r",
      " 99%|█████████▉| 2155/2175 [01:28<00:01, 16.51it/s]"
     ]
    },
    {
     "name": "stdout",
     "output_type": "stream",
     "text": [
      "Done dt=2025-10-22/2025-10-22T040000.parquet\n"
     ]
    },
    {
     "name": "stderr",
     "output_type": "stream",
     "text": [
      "\r",
      " 99%|█████████▉| 2156/2175 [02:15<00:02,  8.06it/s]"
     ]
    },
    {
     "name": "stdout",
     "output_type": "stream",
     "text": [
      "Done dt=2025-10-22/2025-10-22T050000.parquet\n"
     ]
    },
    {
     "name": "stderr",
     "output_type": "stream",
     "text": [
      "\r",
      " 99%|█████████▉| 2157/2175 [02:59<00:03,  4.80it/s]"
     ]
    },
    {
     "name": "stdout",
     "output_type": "stream",
     "text": [
      "Done dt=2025-10-22/2025-10-22T060000.parquet\n"
     ]
    },
    {
     "name": "stderr",
     "output_type": "stream",
     "text": [
      "\r",
      " 99%|█████████▉| 2158/2175 [03:33<00:05,  3.33it/s]"
     ]
    },
    {
     "name": "stdout",
     "output_type": "stream",
     "text": [
      "Done dt=2025-10-22/2025-10-22T070000.parquet\n"
     ]
    },
    {
     "name": "stderr",
     "output_type": "stream",
     "text": [
      "\r",
      " 99%|█████████▉| 2159/2175 [04:02<00:06,  2.43it/s]"
     ]
    },
    {
     "name": "stdout",
     "output_type": "stream",
     "text": [
      "Done dt=2025-10-22/2025-10-22T080000.parquet\n"
     ]
    },
    {
     "name": "stderr",
     "output_type": "stream",
     "text": [
      "\r",
      " 99%|█████████▉| 2160/2175 [04:33<00:08,  1.72it/s]"
     ]
    },
    {
     "name": "stdout",
     "output_type": "stream",
     "text": [
      "Done dt=2025-10-22/2025-10-22T090000.parquet\n"
     ]
    },
    {
     "name": "stderr",
     "output_type": "stream",
     "text": [
      "\r",
      " 99%|█████████▉| 2161/2175 [05:06<00:11,  1.20it/s]"
     ]
    },
    {
     "name": "stdout",
     "output_type": "stream",
     "text": [
      "Done dt=2025-10-22/2025-10-22T100000.parquet\n"
     ]
    },
    {
     "name": "stderr",
     "output_type": "stream",
     "text": [
      "\r",
      " 99%|█████████▉| 2162/2175 [05:51<00:17,  1.33s/it]"
     ]
    },
    {
     "name": "stdout",
     "output_type": "stream",
     "text": [
      "Done dt=2025-10-22/2025-10-22T110000.parquet\n"
     ]
    },
    {
     "name": "stderr",
     "output_type": "stream",
     "text": [
      "\r",
      " 99%|█████████▉| 2163/2175 [06:34<00:23,  1.98s/it]"
     ]
    },
    {
     "name": "stdout",
     "output_type": "stream",
     "text": [
      "Done dt=2025-10-22/2025-10-22T120000.parquet\n"
     ]
    },
    {
     "name": "stderr",
     "output_type": "stream",
     "text": [
      "\r",
      " 99%|█████████▉| 2164/2175 [07:45<00:38,  3.48s/it]"
     ]
    },
    {
     "name": "stdout",
     "output_type": "stream",
     "text": [
      "Done dt=2025-10-22/2025-10-22T130000.parquet\n"
     ]
    },
    {
     "name": "stderr",
     "output_type": "stream",
     "text": [
      "\r",
      "100%|█████████▉| 2165/2175 [08:22<00:44,  4.50s/it]"
     ]
    },
    {
     "name": "stdout",
     "output_type": "stream",
     "text": [
      "Done dt=2025-10-22/2025-10-22T140000.parquet\n"
     ]
    },
    {
     "name": "stderr",
     "output_type": "stream",
     "text": [
      "\r",
      "100%|█████████▉| 2166/2175 [09:07<00:55,  6.19s/it]"
     ]
    },
    {
     "name": "stdout",
     "output_type": "stream",
     "text": [
      "Done dt=2025-10-22/2025-10-22T150000.parquet\n"
     ]
    },
    {
     "name": "stderr",
     "output_type": "stream",
     "text": [
      "\r",
      "100%|█████████▉| 2167/2175 [09:34<00:58,  7.33s/it]"
     ]
    },
    {
     "name": "stdout",
     "output_type": "stream",
     "text": [
      "Done dt=2025-10-22/2025-10-22T160000.parquet\n"
     ]
    },
    {
     "name": "stderr",
     "output_type": "stream",
     "text": [
      "\r",
      "100%|█████████▉| 2168/2175 [09:56<00:58,  8.41s/it]"
     ]
    },
    {
     "name": "stdout",
     "output_type": "stream",
     "text": [
      "Done dt=2025-10-22/2025-10-22T170000.parquet\n"
     ]
    },
    {
     "name": "stderr",
     "output_type": "stream",
     "text": [
      "\r",
      "100%|█████████▉| 2169/2175 [10:16<00:57,  9.57s/it]"
     ]
    },
    {
     "name": "stdout",
     "output_type": "stream",
     "text": [
      "Done dt=2025-10-22/2025-10-22T180000.parquet\n"
     ]
    },
    {
     "name": "stderr",
     "output_type": "stream",
     "text": [
      "\r",
      "100%|█████████▉| 2170/2175 [10:33<00:52, 10.44s/it]"
     ]
    },
    {
     "name": "stdout",
     "output_type": "stream",
     "text": [
      "Done dt=2025-10-22/2025-10-22T190000.parquet\n"
     ]
    },
    {
     "name": "stderr",
     "output_type": "stream",
     "text": [
      "\r",
      "100%|█████████▉| 2171/2175 [10:48<00:44, 11.13s/it]"
     ]
    },
    {
     "name": "stdout",
     "output_type": "stream",
     "text": [
      "Done dt=2025-10-22/2025-10-22T200000.parquet\n"
     ]
    },
    {
     "name": "stderr",
     "output_type": "stream",
     "text": [
      "\r",
      "100%|█████████▉| 2172/2175 [11:03<00:35, 11.82s/it]"
     ]
    },
    {
     "name": "stdout",
     "output_type": "stream",
     "text": [
      "Done dt=2025-10-22/2025-10-22T210000.parquet\n"
     ]
    },
    {
     "name": "stderr",
     "output_type": "stream",
     "text": [
      "\r",
      "100%|█████████▉| 2173/2175 [11:22<00:26, 13.24s/it]"
     ]
    },
    {
     "name": "stdout",
     "output_type": "stream",
     "text": [
      "Done dt=2025-10-22/2025-10-22T220000.parquet\n"
     ]
    },
    {
     "name": "stderr",
     "output_type": "stream",
     "text": [
      "\r",
      "100%|█████████▉| 2174/2175 [11:45<00:15, 15.20s/it]"
     ]
    },
    {
     "name": "stdout",
     "output_type": "stream",
     "text": [
      "Done dt=2025-10-22/2025-10-22T230000.parquet\n"
     ]
    },
    {
     "name": "stderr",
     "output_type": "stream",
     "text": [
      "\r",
      "100%|██████████| 2175/2175 [12:08<00:00, 17.18s/it]"
     ]
    },
    {
     "name": "stderr",
     "output_type": "stream",
     "text": [
      "\r",
      "100%|██████████| 2175/2175 [12:08<00:00,  2.99it/s]"
     ]
    },
    {
     "name": "stdout",
     "output_type": "stream",
     "text": [
      "Done dt=2025-10-23/2025-10-23T000000.parquet\n"
     ]
    },
    {
     "name": "stderr",
     "output_type": "stream",
     "text": [
      "\n"
     ]
    }
   ],
   "source": [
    "storage_options = {\n",
    "    \"account_name\": account_name,\n",
    "    \"account_key\":  account_key,\n",
    "}\n",
    "\n",
    "for ts, files in tqdm(groups.items()):\n",
    "    if ts not in need_process_ts: continue\n",
    "    dt = ts[:10]\n",
    "    # if dt not in need_process:\n",
    "    #     continue\n",
    "    df = pl.scan_csv(f\"az://adjuststblive/*_{ts}_*.csv.gz\", storage_options = storage_options,glob=True, has_header = True, null_values = [\"\",\"NULL\"], ignore_errors=True).select(pl.all().cast(pl.Utf8))\n",
    "    df.sink_parquet(f\"az://adjuststbuatprocessed/live/processing/dt={dt}/{ts}.parquet\", storage_options = storage_options, compression=\"snappy\")\n",
    "    print(f'Done dt={dt}/{ts}.parquet')\n",
    "        "
   ]
  },
  {
   "cell_type": "code",
   "execution_count": 13,
   "id": "484ba72b",
   "metadata": {
    "execution": {
     "iopub.execute_input": "2025-10-23T02:08:10.210253Z",
     "iopub.status.busy": "2025-10-23T02:08:10.210074Z",
     "iopub.status.idle": "2025-10-23T02:08:10.214245Z",
     "shell.execute_reply": "2025-10-23T02:08:10.213581Z"
    },
    "papermill": {
     "duration": 0.012115,
     "end_time": "2025-10-23T02:08:10.214902",
     "exception": false,
     "start_time": "2025-10-23T02:08:10.202787",
     "status": "completed"
    },
    "tags": []
   },
   "outputs": [
    {
     "data": {
      "text/plain": [
       "{'2025-10-22', '2025-10-23'}"
      ]
     },
     "execution_count": 13,
     "metadata": {},
     "output_type": "execute_result"
    }
   ],
   "source": [
    "need_process = set([i.split(\"T\")[0] for i in need_process_ts])\n",
    "need_process"
   ]
  },
  {
   "cell_type": "code",
   "execution_count": 14,
   "id": "37cb5ab2",
   "metadata": {
    "execution": {
     "iopub.execute_input": "2025-10-23T02:08:10.228898Z",
     "iopub.status.busy": "2025-10-23T02:08:10.228716Z",
     "iopub.status.idle": "2025-10-23T02:10:15.744557Z",
     "shell.execute_reply": "2025-10-23T02:10:15.743630Z"
    },
    "id": "sBm7rfFUyePJ",
    "papermill": {
     "duration": 125.529847,
     "end_time": "2025-10-23T02:10:15.751233",
     "exception": false,
     "start_time": "2025-10-23T02:08:10.221386",
     "status": "completed"
    },
    "tags": []
   },
   "outputs": [
    {
     "name": "stdout",
     "output_type": "stream",
     "text": [
      "\n",
      " Done 2025-10-23\n",
      "\n"
     ]
    },
    {
     "name": "stdout",
     "output_type": "stream",
     "text": [
      "\n",
      " Done 2025-10-22\n",
      "\n"
     ]
    }
   ],
   "source": [
    "for dt in need_process:\n",
    "  df = pl.scan_parquet(f\"az://adjuststbuatprocessed/live/processing/dt={dt}/*.parquet\", storage_options=storage_options,glob=True).with_columns(pl.lit(dt).alias(\"dt\"))\n",
    "  df.sink_parquet(f\"az://adjuststbuatprocessed/live/output/{dt}.parquet\", storage_options=storage_options, compression=\"snappy\")\n",
    "  print(f'\\n Done {dt}\\n')"
   ]
  }
 ],
 "metadata": {
  "colab": {
   "authorship_tag": "ABX9TyOfzO6uvqUX+Tt89Y73G9E8",
   "include_colab_link": true,
   "provenance": []
  },
  "kernelspec": {
   "display_name": "Python 3",
   "name": "python3"
  },
  "language_info": {
   "codemirror_mode": {
    "name": "ipython",
    "version": 3
   },
   "file_extension": ".py",
   "mimetype": "text/x-python",
   "name": "python",
   "nbconvert_exporter": "python",
   "pygments_lexer": "ipython3",
   "version": "3.11.13"
  },
  "papermill": {
   "default_parameters": {},
   "duration": 1138.902959,
   "end_time": "2025-10-23T02:10:16.474628",
   "environment_variables": {},
   "exception": null,
   "input_path": "notebooks/ADJUST_JOB.ipynb",
   "output_path": "outputs/ADJUST_JOB_2025-10-23.ipynb",
   "parameters": {
    "RUN_DATE": "2025-10-23"
   },
   "start_time": "2025-10-23T01:51:17.571669",
   "version": "2.6.0"
  }
 },
 "nbformat": 4,
 "nbformat_minor": 5
}