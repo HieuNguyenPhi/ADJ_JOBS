{
 "cells": [
  {
   "cell_type": "code",
   "execution_count": 1,
   "id": "c4e7a185",
   "metadata": {
    "execution": {
     "iopub.execute_input": "2025-10-24T01:47:24.219569Z",
     "iopub.status.busy": "2025-10-24T01:47:24.219299Z",
     "iopub.status.idle": "2025-10-24T01:47:24.224676Z",
     "shell.execute_reply": "2025-10-24T01:47:24.223988Z"
    },
    "papermill": {
     "duration": 0.010171,
     "end_time": "2025-10-24T01:47:24.225556",
     "exception": false,
     "start_time": "2025-10-24T01:47:24.215385",
     "status": "completed"
    },
    "tags": [
     "injected-parameters"
    ]
   },
   "outputs": [],
   "source": [
    "# Parameters\n",
    "RUN_DATE = \"2025-10-24\"\n"
   ]
  },
  {
   "cell_type": "markdown",
   "id": "b47656b4",
   "metadata": {
    "colab_type": "text",
    "id": "view-in-github",
    "papermill": {
     "duration": 0.001955,
     "end_time": "2025-10-24T01:47:24.229876",
     "exception": false,
     "start_time": "2025-10-24T01:47:24.227921",
     "status": "completed"
    },
    "tags": []
   },
   "source": [
    "<a href=\"https://colab.research.google.com/github/HieuNguyenPhi/ADJ_JOBS/blob/main/notebooks/ADJUST_JOB.ipynb\" target=\"_parent\"><img src=\"https://colab.research.google.com/assets/colab-badge.svg\" alt=\"Open In Colab\"/></a>"
   ]
  },
  {
   "cell_type": "markdown",
   "id": "3b7e02f4",
   "metadata": {
    "papermill": {
     "duration": 0.00286,
     "end_time": "2025-10-24T01:47:24.234674",
     "exception": false,
     "start_time": "2025-10-24T01:47:24.231814",
     "status": "completed"
    },
    "tags": []
   },
   "source": [
    "# UAT"
   ]
  },
  {
   "cell_type": "code",
   "execution_count": 2,
   "id": "39b67913",
   "metadata": {
    "execution": {
     "iopub.execute_input": "2025-10-24T01:47:24.239535Z",
     "iopub.status.busy": "2025-10-24T01:47:24.239350Z",
     "iopub.status.idle": "2025-10-24T01:47:31.376176Z",
     "shell.execute_reply": "2025-10-24T01:47:31.375293Z"
    },
    "id": "ycUR2r1dq1Nm",
    "papermill": {
     "duration": 7.140266,
     "end_time": "2025-10-24T01:47:31.376843",
     "exception": false,
     "start_time": "2025-10-24T01:47:24.236577",
     "status": "completed"
    },
    "tags": []
   },
   "outputs": [
    {
     "data": {
      "text/plain": [
       "['2025-10-23T190000',\n",
       " '2025-10-23T200000',\n",
       " '2025-10-23T210000',\n",
       " '2025-10-23T220000',\n",
       " '2025-10-23T230000']"
      ]
     },
     "execution_count": 2,
     "metadata": {},
     "output_type": "execute_result"
    }
   ],
   "source": [
    "import os\n",
    "from azure.storage.blob import BlobServiceClient\n",
    "\n",
    "account_name = os.getenv('ACCOUNT_NAME')\n",
    "account_key = os.getenv('ACCOUNT_KEY')\n",
    "# Replace with your Azure Storage account name and SAS token or connection string\n",
    "connect_str = f\"DefaultEndpointsProtocol=https;AccountName={account_name};AccountKey={account_key};EndpointSuffix=core.windows.net\"\n",
    "blob_service_client = BlobServiceClient.from_connection_string(connect_str)\n",
    "container_list = blob_service_client.list_containers()\n",
    "container_name = \"adjuststbuatprocessed\" #os.getenv('CONTAINER_NAME')\n",
    "container_client = blob_service_client.get_container_client(container_name)\n",
    "# already_processed = [file.name.split('/')[1].split('.')[0] for file in container_client.list_blobs() if file.name.split('/')[0] == 'output']\n",
    "# already_processed[-5:]\n",
    "already_processed_ts = sorted([file.name.split('/')[-1].split(\".\")[0] for file in container_client.list_blobs() if file.name.split('/')[0] == 'processing'])\n",
    "already_processed_ts[-5:]"
   ]
  },
  {
   "cell_type": "code",
   "execution_count": 3,
   "id": "82757a9e",
   "metadata": {
    "execution": {
     "iopub.execute_input": "2025-10-24T01:47:31.382695Z",
     "iopub.status.busy": "2025-10-24T01:47:31.382329Z",
     "iopub.status.idle": "2025-10-24T01:47:41.356629Z",
     "shell.execute_reply": "2025-10-24T01:47:41.355573Z"
    },
    "id": "xyPuVC12s7fn",
    "papermill": {
     "duration": 9.977945,
     "end_time": "2025-10-24T01:47:41.357220",
     "exception": false,
     "start_time": "2025-10-24T01:47:31.379275",
     "status": "completed"
    },
    "tags": []
   },
   "outputs": [
    {
     "data": {
      "text/plain": [
       "['rsh20bkkb4zk_2025-10-24T000000_762c775ae454d23f2c6b6a75623d14c7_2853a0.csv.gz',\n",
       " 'rsh20bkkb4zk_2025-10-24T000000_762c775ae454d23f2c6b6a75623d14c7_2853a1.csv.gz',\n",
       " 'rsh20bkkb4zk_2025-10-24T000000_762c775ae454d23f2c6b6a75623d14c7_c35750.csv.gz',\n",
       " 'rsh20bkkb4zk_2025-10-24T000000_762c775ae454d23f2c6b6a75623d14c7_c35751.csv.gz']"
      ]
     },
     "execution_count": 3,
     "metadata": {},
     "output_type": "execute_result"
    }
   ],
   "source": [
    "container_name_uat = \"adjuststbuat\"\n",
    "container_client_uat = blob_service_client.get_container_client(container_name_uat)\n",
    "from collections import defaultdict\n",
    "files = [i.name for i in container_client_uat.list_blobs()]\n",
    "groups = defaultdict(list)\n",
    "for f in files:\n",
    "    dt = f.split('_')[1]\n",
    "    groups[dt].append(f)\n",
    "groups[dt]"
   ]
  },
  {
   "cell_type": "code",
   "execution_count": 4,
   "id": "c597dd4f",
   "metadata": {
    "execution": {
     "iopub.execute_input": "2025-10-24T01:47:41.363531Z",
     "iopub.status.busy": "2025-10-24T01:47:41.363344Z",
     "iopub.status.idle": "2025-10-24T01:47:41.366362Z",
     "shell.execute_reply": "2025-10-24T01:47:41.365550Z"
    },
    "papermill": {
     "duration": 0.007107,
     "end_time": "2025-10-24T01:47:41.366979",
     "exception": false,
     "start_time": "2025-10-24T01:47:41.359872",
     "status": "completed"
    },
    "tags": []
   },
   "outputs": [],
   "source": [
    "# from datetime import date, timedelta, datetime\n",
    "# import pandas as pd\n",
    "# today = date.today().strftime('%Y-%m-%d')\n",
    "# yesterday = (date.today() - timedelta(days = 1) ).strftime('%Y-%m-%d')\n",
    "# check_date = dt.split(\"T\")[0]\n",
    "# if check_date == today:\n",
    "#     need_process = pd.date_range(start=already_processed[-1], end=today).strftime('%Y-%m-%d').to_list()\n",
    "# else:\n",
    "#     need_process = pd.date_range(start=already_processed[-1], end=yesterday).strftime('%Y-%m-%d').to_list()\n",
    "# need_process"
   ]
  },
  {
   "cell_type": "code",
   "execution_count": 5,
   "id": "ea5ea168",
   "metadata": {
    "execution": {
     "iopub.execute_input": "2025-10-24T01:47:41.372209Z",
     "iopub.status.busy": "2025-10-24T01:47:41.372049Z",
     "iopub.status.idle": "2025-10-24T01:47:41.638528Z",
     "shell.execute_reply": "2025-10-24T01:47:41.637769Z"
    },
    "papermill": {
     "duration": 0.270064,
     "end_time": "2025-10-24T01:47:41.639297",
     "exception": false,
     "start_time": "2025-10-24T01:47:41.369233",
     "status": "completed"
    },
    "tags": []
   },
   "outputs": [
    {
     "data": {
      "text/plain": [
       "['2025-10-23T220000', '2025-10-23T230000', '2025-10-24T000000']"
      ]
     },
     "execution_count": 5,
     "metadata": {},
     "output_type": "execute_result"
    }
   ],
   "source": [
    "from datetime import datetime\n",
    "import pandas as pd\n",
    "B = datetime.strptime(dt, \"%Y-%m-%dT%H0000\")\n",
    "A = datetime.strptime(already_processed_ts[-2], \"%Y-%m-%dT%H0000\")\n",
    "need_process_ts =  pd.date_range(A, B, freq='h').strftime('%Y-%m-%dT%H0000').tolist()\n",
    "need_process_ts"
   ]
  },
  {
   "cell_type": "code",
   "execution_count": 6,
   "id": "996b8a83",
   "metadata": {
    "execution": {
     "iopub.execute_input": "2025-10-24T01:47:41.645753Z",
     "iopub.status.busy": "2025-10-24T01:47:41.645370Z",
     "iopub.status.idle": "2025-10-24T01:48:14.313814Z",
     "shell.execute_reply": "2025-10-24T01:48:14.312996Z"
    },
    "papermill": {
     "duration": 32.6724,
     "end_time": "2025-10-24T01:48:14.314466",
     "exception": false,
     "start_time": "2025-10-24T01:47:41.642066",
     "status": "completed"
    },
    "tags": []
   },
   "outputs": [
    {
     "name": "stderr",
     "output_type": "stream",
     "text": [
      "\r",
      "  0%|          | 0/2144 [00:00<?, ?it/s]"
     ]
    },
    {
     "name": "stderr",
     "output_type": "stream",
     "text": [
      "\r",
      "100%|█████████▉| 2142/2144 [00:12<00:00, 177.32it/s]"
     ]
    },
    {
     "name": "stdout",
     "output_type": "stream",
     "text": [
      "Done dt=2025-10-23/2025-10-23T220000.parquet\n"
     ]
    },
    {
     "name": "stdout",
     "output_type": "stream",
     "text": [
      "Done dt=2025-10-23/2025-10-23T230000.parquet\n"
     ]
    },
    {
     "name": "stderr",
     "output_type": "stream",
     "text": [
      "\r",
      "100%|█████████▉| 2142/2144 [00:29<00:00, 177.32it/s]"
     ]
    },
    {
     "name": "stderr",
     "output_type": "stream",
     "text": [
      "\r",
      "100%|██████████| 2144/2144 [00:32<00:00, 51.98it/s] "
     ]
    },
    {
     "name": "stderr",
     "output_type": "stream",
     "text": [
      "\r",
      "100%|██████████| 2144/2144 [00:32<00:00, 65.95it/s]"
     ]
    },
    {
     "name": "stdout",
     "output_type": "stream",
     "text": [
      "Done dt=2025-10-24/2025-10-24T000000.parquet\n"
     ]
    },
    {
     "name": "stderr",
     "output_type": "stream",
     "text": [
      "\n"
     ]
    }
   ],
   "source": [
    "import polars as pl \n",
    "from tqdm import tqdm\n",
    "storage_options = {\n",
    "    \"account_name\": account_name,\n",
    "    \"account_key\":  account_key,\n",
    "}\n",
    "\n",
    "for ts, files in tqdm(groups.items()):\n",
    "    if ts not in need_process_ts:\n",
    "        continue\n",
    "    dt = ts[:10]\n",
    "    # if dt not in need_process:\n",
    "    #     continue\n",
    "    df = pl.scan_csv(f\"az://adjuststbuat/*_{ts}_*.csv.gz\", storage_options = storage_options,glob=True, has_header = True, null_values = [\"\",\"NULL\"], ignore_errors=True).select(pl.all().cast(pl.Utf8))\n",
    "    df.sink_parquet(f\"az://adjuststbuatprocessed/processing/dt={dt}/{ts}.parquet\", storage_options = storage_options, compression=\"snappy\")\n",
    "    print(f'Done dt={dt}/{ts}.parquet')\n",
    "        "
   ]
  },
  {
   "cell_type": "code",
   "execution_count": 7,
   "id": "5feb6fa4",
   "metadata": {
    "execution": {
     "iopub.execute_input": "2025-10-24T01:48:14.321879Z",
     "iopub.status.busy": "2025-10-24T01:48:14.321679Z",
     "iopub.status.idle": "2025-10-24T01:48:14.326168Z",
     "shell.execute_reply": "2025-10-24T01:48:14.325322Z"
    },
    "papermill": {
     "duration": 0.009287,
     "end_time": "2025-10-24T01:48:14.326755",
     "exception": false,
     "start_time": "2025-10-24T01:48:14.317468",
     "status": "completed"
    },
    "tags": []
   },
   "outputs": [
    {
     "data": {
      "text/plain": [
       "{'2025-10-23', '2025-10-24'}"
      ]
     },
     "execution_count": 7,
     "metadata": {},
     "output_type": "execute_result"
    }
   ],
   "source": [
    "need_process = set([i.split(\"T\")[0] for i in need_process_ts])\n",
    "need_process"
   ]
  },
  {
   "cell_type": "code",
   "execution_count": 8,
   "id": "62b4cfc0",
   "metadata": {
    "execution": {
     "iopub.execute_input": "2025-10-24T01:48:14.333372Z",
     "iopub.status.busy": "2025-10-24T01:48:14.332970Z",
     "iopub.status.idle": "2025-10-24T01:48:22.206430Z",
     "shell.execute_reply": "2025-10-24T01:48:22.205586Z"
    },
    "papermill": {
     "duration": 7.877594,
     "end_time": "2025-10-24T01:48:22.207110",
     "exception": false,
     "start_time": "2025-10-24T01:48:14.329516",
     "status": "completed"
    },
    "tags": []
   },
   "outputs": [
    {
     "name": "stdout",
     "output_type": "stream",
     "text": [
      "\n",
      " Done 2025-10-24\n",
      "\n"
     ]
    },
    {
     "name": "stdout",
     "output_type": "stream",
     "text": [
      "\n",
      " Done 2025-10-23\n",
      "\n"
     ]
    }
   ],
   "source": [
    "for dt in need_process:\n",
    "  df = pl.scan_parquet(f\"az://adjuststbuatprocessed/processing/dt={dt}/*.parquet\", storage_options=storage_options,glob=True).with_columns(pl.lit(dt).alias(\"dt\"))\n",
    "  df.sink_parquet(f\"az://adjuststbuatprocessed/output/{dt}.parquet\", storage_options=storage_options, compression=\"snappy\")\n",
    "  print(f'\\n Done {dt}\\n')"
   ]
  },
  {
   "cell_type": "markdown",
   "id": "b6e409e8",
   "metadata": {
    "id": "2TvKr29qyJd_",
    "papermill": {
     "duration": 0.002951,
     "end_time": "2025-10-24T01:48:22.213316",
     "exception": false,
     "start_time": "2025-10-24T01:48:22.210365",
     "status": "completed"
    },
    "tags": []
   },
   "source": [
    "# Live"
   ]
  },
  {
   "cell_type": "code",
   "execution_count": 9,
   "id": "ff3e7538",
   "metadata": {
    "execution": {
     "iopub.execute_input": "2025-10-24T01:48:22.220103Z",
     "iopub.status.busy": "2025-10-24T01:48:22.219891Z",
     "iopub.status.idle": "2025-10-24T01:48:27.031560Z",
     "shell.execute_reply": "2025-10-24T01:48:27.030807Z"
    },
    "id": "EnaFsdZFxpwc",
    "papermill": {
     "duration": 4.816102,
     "end_time": "2025-10-24T01:48:27.032288",
     "exception": false,
     "start_time": "2025-10-24T01:48:22.216186",
     "status": "completed"
    },
    "tags": []
   },
   "outputs": [
    {
     "data": {
      "text/plain": [
       "['2025-10-23T190000',\n",
       " '2025-10-23T200000',\n",
       " '2025-10-23T210000',\n",
       " '2025-10-23T220000',\n",
       " '2025-10-23T230000']"
      ]
     },
     "execution_count": 9,
     "metadata": {},
     "output_type": "execute_result"
    }
   ],
   "source": [
    "# already_processed = [file.name.split('/')[-1].split('.')[0] for file in container_client.list_blobs() if file.name[:12] == 'live/output/']\n",
    "# already_processed[-5:]\n",
    "already_processed_ts = sorted([file.name.split('/')[-1].split(\".\")[0] for file in container_client.list_blobs() if (file.name.split('/')[0] + \"/\" + file.name.split('/')[1]) == 'live/processing'])\n",
    "already_processed_ts[-5:]"
   ]
  },
  {
   "cell_type": "code",
   "execution_count": 10,
   "id": "61f7aa14",
   "metadata": {
    "execution": {
     "iopub.execute_input": "2025-10-24T01:48:27.039499Z",
     "iopub.status.busy": "2025-10-24T01:48:27.039323Z",
     "iopub.status.idle": "2025-10-24T01:48:41.402867Z",
     "shell.execute_reply": "2025-10-24T01:48:41.402020Z"
    },
    "id": "I7Er6YEUyOsL",
    "papermill": {
     "duration": 14.368065,
     "end_time": "2025-10-24T01:48:41.403580",
     "exception": false,
     "start_time": "2025-10-24T01:48:27.035515",
     "status": "completed"
    },
    "tags": []
   },
   "outputs": [
    {
     "data": {
      "text/plain": [
       "['65n1fgov4zr4_2025-10-24T000000_762c775ae454d23f2c6b6a75623d14c7_2853a0.csv.gz',\n",
       " '65n1fgov4zr4_2025-10-24T000000_762c775ae454d23f2c6b6a75623d14c7_2853a1.csv.gz',\n",
       " '65n1fgov4zr4_2025-10-24T000000_762c775ae454d23f2c6b6a75623d14c7_be8220.csv.gz',\n",
       " '65n1fgov4zr4_2025-10-24T000000_762c775ae454d23f2c6b6a75623d14c7_be8221.csv.gz',\n",
       " '65n1fgov4zr4_2025-10-24T000000_762c775ae454d23f2c6b6a75623d14c7_c35750.csv.gz',\n",
       " '65n1fgov4zr4_2025-10-24T000000_762c775ae454d23f2c6b6a75623d14c7_c35751.csv.gz']"
      ]
     },
     "execution_count": 10,
     "metadata": {},
     "output_type": "execute_result"
    }
   ],
   "source": [
    "container_name_uat = \"adjuststblive\"\n",
    "container_client_uat = blob_service_client.get_container_client(container_name_uat)\n",
    "from collections import defaultdict\n",
    "files = [i.name for i in container_client_uat.list_blobs()]\n",
    "groups = defaultdict(list)\n",
    "for f in files:\n",
    "    dt = f.split('_')[1]\n",
    "    groups[dt].append(f)\n",
    "groups[dt]"
   ]
  },
  {
   "cell_type": "code",
   "execution_count": 11,
   "id": "420a222a",
   "metadata": {
    "execution": {
     "iopub.execute_input": "2025-10-24T01:48:41.410925Z",
     "iopub.status.busy": "2025-10-24T01:48:41.410746Z",
     "iopub.status.idle": "2025-10-24T01:48:41.415455Z",
     "shell.execute_reply": "2025-10-24T01:48:41.414875Z"
    },
    "papermill": {
     "duration": 0.009354,
     "end_time": "2025-10-24T01:48:41.416316",
     "exception": false,
     "start_time": "2025-10-24T01:48:41.406962",
     "status": "completed"
    },
    "tags": []
   },
   "outputs": [
    {
     "data": {
      "text/plain": [
       "['2025-10-23T230000', '2025-10-24T000000']"
      ]
     },
     "execution_count": 11,
     "metadata": {},
     "output_type": "execute_result"
    }
   ],
   "source": [
    "# need_process = pd.date_range(start=already_processed[-1], end=today).strftime('%Y-%m-%d').to_list()\n",
    "# need_process\n",
    "\n",
    "B = datetime.strptime(dt, \"%Y-%m-%dT%H0000\")\n",
    "A = datetime.strptime(already_processed_ts[-1], \"%Y-%m-%dT%H0000\")\n",
    "need_process_ts =  pd.date_range(A, B, freq='h').strftime('%Y-%m-%dT%H0000').tolist()\n",
    "need_process_ts"
   ]
  },
  {
   "cell_type": "code",
   "execution_count": 12,
   "id": "aaa67098",
   "metadata": {
    "execution": {
     "iopub.execute_input": "2025-10-24T01:48:41.423288Z",
     "iopub.status.busy": "2025-10-24T01:48:41.423110Z",
     "iopub.status.idle": "2025-10-24T01:49:28.701361Z",
     "shell.execute_reply": "2025-10-24T01:49:28.700630Z"
    },
    "id": "g-W3s2nRyRY7",
    "papermill": {
     "duration": 47.282575,
     "end_time": "2025-10-24T01:49:28.701970",
     "exception": false,
     "start_time": "2025-10-24T01:48:41.419395",
     "status": "completed"
    },
    "tags": []
   },
   "outputs": [
    {
     "name": "stderr",
     "output_type": "stream",
     "text": [
      "\r",
      "  0%|          | 0/2199 [00:00<?, ?it/s]"
     ]
    },
    {
     "name": "stderr",
     "output_type": "stream",
     "text": [
      "\r",
      "100%|█████████▉| 2198/2199 [00:24<00:00, 91.44it/s]"
     ]
    },
    {
     "name": "stdout",
     "output_type": "stream",
     "text": [
      "Done dt=2025-10-23/2025-10-23T230000.parquet\n"
     ]
    },
    {
     "name": "stderr",
     "output_type": "stream",
     "text": [
      "\r",
      "100%|█████████▉| 2198/2199 [00:40<00:00, 91.44it/s]"
     ]
    },
    {
     "name": "stderr",
     "output_type": "stream",
     "text": [
      "\r",
      "100%|██████████| 2199/2199 [00:47<00:00, 38.43it/s]"
     ]
    },
    {
     "name": "stderr",
     "output_type": "stream",
     "text": [
      "\r",
      "100%|██████████| 2199/2199 [00:47<00:00, 46.52it/s]"
     ]
    },
    {
     "name": "stdout",
     "output_type": "stream",
     "text": [
      "Done dt=2025-10-24/2025-10-24T000000.parquet\n"
     ]
    },
    {
     "name": "stderr",
     "output_type": "stream",
     "text": [
      "\n"
     ]
    }
   ],
   "source": [
    "storage_options = {\n",
    "    \"account_name\": account_name,\n",
    "    \"account_key\":  account_key,\n",
    "}\n",
    "\n",
    "for ts, files in tqdm(groups.items()):\n",
    "    if ts not in need_process_ts: continue\n",
    "    dt = ts[:10]\n",
    "    # if dt not in need_process:\n",
    "    #     continue\n",
    "    df = pl.scan_csv(f\"az://adjuststblive/*_{ts}_*.csv.gz\", storage_options = storage_options,glob=True, has_header = True, null_values = [\"\",\"NULL\"], ignore_errors=True).select(pl.all().cast(pl.Utf8))\n",
    "    df.sink_parquet(f\"az://adjuststbuatprocessed/live/processing/dt={dt}/{ts}.parquet\", storage_options = storage_options, compression=\"snappy\")\n",
    "    print(f'Done dt={dt}/{ts}.parquet')\n",
    "        "
   ]
  },
  {
   "cell_type": "code",
   "execution_count": 13,
   "id": "44a7b7f9",
   "metadata": {
    "execution": {
     "iopub.execute_input": "2025-10-24T01:49:28.710312Z",
     "iopub.status.busy": "2025-10-24T01:49:28.710117Z",
     "iopub.status.idle": "2025-10-24T01:49:28.714382Z",
     "shell.execute_reply": "2025-10-24T01:49:28.713625Z"
    },
    "papermill": {
     "duration": 0.009261,
     "end_time": "2025-10-24T01:49:28.714931",
     "exception": false,
     "start_time": "2025-10-24T01:49:28.705670",
     "status": "completed"
    },
    "tags": []
   },
   "outputs": [
    {
     "data": {
      "text/plain": [
       "{'2025-10-23', '2025-10-24'}"
      ]
     },
     "execution_count": 13,
     "metadata": {},
     "output_type": "execute_result"
    }
   ],
   "source": [
    "need_process = set([i.split(\"T\")[0] for i in need_process_ts])\n",
    "need_process"
   ]
  },
  {
   "cell_type": "code",
   "execution_count": 14,
   "id": "ba62dd0b",
   "metadata": {
    "execution": {
     "iopub.execute_input": "2025-10-24T01:49:28.722743Z",
     "iopub.status.busy": "2025-10-24T01:49:28.722545Z",
     "iopub.status.idle": "2025-10-24T01:50:36.777680Z",
     "shell.execute_reply": "2025-10-24T01:50:36.776829Z"
    },
    "id": "sBm7rfFUyePJ",
    "papermill": {
     "duration": 68.063131,
     "end_time": "2025-10-24T01:50:36.781563",
     "exception": false,
     "start_time": "2025-10-24T01:49:28.718432",
     "status": "completed"
    },
    "tags": []
   },
   "outputs": [
    {
     "name": "stdout",
     "output_type": "stream",
     "text": [
      "\n",
      " Done 2025-10-24\n",
      "\n"
     ]
    },
    {
     "name": "stdout",
     "output_type": "stream",
     "text": [
      "\n",
      " Done 2025-10-23\n",
      "\n"
     ]
    }
   ],
   "source": [
    "for dt in need_process:\n",
    "  df = pl.scan_parquet(f\"az://adjuststbuatprocessed/live/processing/dt={dt}/*.parquet\", storage_options=storage_options,glob=True).with_columns(pl.lit(dt).alias(\"dt\"))\n",
    "  df.sink_parquet(f\"az://adjuststbuatprocessed/live/output/{dt}.parquet\", storage_options=storage_options, compression=\"snappy\")\n",
    "  print(f'\\n Done {dt}\\n')"
   ]
  }
 ],
 "metadata": {
  "colab": {
   "authorship_tag": "ABX9TyOfzO6uvqUX+Tt89Y73G9E8",
   "include_colab_link": true,
   "provenance": []
  },
  "kernelspec": {
   "display_name": "Python 3",
   "name": "python3"
  },
  "language_info": {
   "codemirror_mode": {
    "name": "ipython",
    "version": 3
   },
   "file_extension": ".py",
   "mimetype": "text/x-python",
   "name": "python",
   "nbconvert_exporter": "python",
   "pygments_lexer": "ipython3",
   "version": "3.11.13"
  },
  "papermill": {
   "default_parameters": {},
   "duration": 194.535017,
   "end_time": "2025-10-24T01:50:37.401984",
   "environment_variables": {},
   "exception": null,
   "input_path": "notebooks/ADJUST_JOB.ipynb",
   "output_path": "outputs/ADJUST_JOB_2025-10-24.ipynb",
   "parameters": {
    "RUN_DATE": "2025-10-24"
   },
   "start_time": "2025-10-24T01:47:22.866967",
   "version": "2.6.0"
  }
 },
 "nbformat": 4,
 "nbformat_minor": 5
}