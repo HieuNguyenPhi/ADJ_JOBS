{
 "cells": [
  {
   "cell_type": "code",
   "execution_count": 1,
   "id": "b85af4c0",
   "metadata": {
    "execution": {
     "iopub.execute_input": "2025-10-24T00:48:03.480413Z",
     "iopub.status.busy": "2025-10-24T00:48:03.480246Z",
     "iopub.status.idle": "2025-10-24T00:48:03.485391Z",
     "shell.execute_reply": "2025-10-24T00:48:03.484699Z"
    },
    "papermill": {
     "duration": 0.009445,
     "end_time": "2025-10-24T00:48:03.486181",
     "exception": false,
     "start_time": "2025-10-24T00:48:03.476736",
     "status": "completed"
    },
    "tags": [
     "injected-parameters"
    ]
   },
   "outputs": [],
   "source": [
    "# Parameters\n",
    "RUN_DATE = \"2025-10-24\"\n"
   ]
  },
  {
   "cell_type": "markdown",
   "id": "7e97ad94",
   "metadata": {
    "colab_type": "text",
    "id": "view-in-github",
    "papermill": {
     "duration": 0.001895,
     "end_time": "2025-10-24T00:48:03.490299",
     "exception": false,
     "start_time": "2025-10-24T00:48:03.488404",
     "status": "completed"
    },
    "tags": []
   },
   "source": [
    "<a href=\"https://colab.research.google.com/github/HieuNguyenPhi/ADJ_JOBS/blob/main/notebooks/ADJUST_JOB.ipynb\" target=\"_parent\"><img src=\"https://colab.research.google.com/assets/colab-badge.svg\" alt=\"Open In Colab\"/></a>"
   ]
  },
  {
   "cell_type": "markdown",
   "id": "aa17e4f6",
   "metadata": {
    "papermill": {
     "duration": 0.002728,
     "end_time": "2025-10-24T00:48:03.494936",
     "exception": false,
     "start_time": "2025-10-24T00:48:03.492208",
     "status": "completed"
    },
    "tags": []
   },
   "source": [
    "# UAT"
   ]
  },
  {
   "cell_type": "code",
   "execution_count": 2,
   "id": "8eebdebb",
   "metadata": {
    "execution": {
     "iopub.execute_input": "2025-10-24T00:48:03.499744Z",
     "iopub.status.busy": "2025-10-24T00:48:03.499573Z",
     "iopub.status.idle": "2025-10-24T00:48:10.753023Z",
     "shell.execute_reply": "2025-10-24T00:48:10.752236Z"
    },
    "id": "ycUR2r1dq1Nm",
    "papermill": {
     "duration": 7.256806,
     "end_time": "2025-10-24T00:48:10.753678",
     "exception": false,
     "start_time": "2025-10-24T00:48:03.496872",
     "status": "completed"
    },
    "tags": []
   },
   "outputs": [
    {
     "data": {
      "text/plain": [
       "['2025-10-23T020000',\n",
       " '2025-10-23T030000',\n",
       " '2025-10-23T040000',\n",
       " '2025-10-23T050000',\n",
       " '2025-10-23T060000']"
      ]
     },
     "execution_count": 2,
     "metadata": {},
     "output_type": "execute_result"
    }
   ],
   "source": [
    "import os\n",
    "from azure.storage.blob import BlobServiceClient\n",
    "\n",
    "account_name = os.getenv('ACCOUNT_NAME')\n",
    "account_key = os.getenv('ACCOUNT_KEY')\n",
    "# Replace with your Azure Storage account name and SAS token or connection string\n",
    "connect_str = f\"DefaultEndpointsProtocol=https;AccountName={account_name};AccountKey={account_key};EndpointSuffix=core.windows.net\"\n",
    "blob_service_client = BlobServiceClient.from_connection_string(connect_str)\n",
    "container_list = blob_service_client.list_containers()\n",
    "container_name = \"adjuststbuatprocessed\" #os.getenv('CONTAINER_NAME')\n",
    "container_client = blob_service_client.get_container_client(container_name)\n",
    "# already_processed = [file.name.split('/')[1].split('.')[0] for file in container_client.list_blobs() if file.name.split('/')[0] == 'output']\n",
    "# already_processed[-5:]\n",
    "already_processed_ts = sorted([file.name.split('/')[-1].split(\".\")[0] for file in container_client.list_blobs() if file.name.split('/')[0] == 'processing'])\n",
    "already_processed_ts[-5:]"
   ]
  },
  {
   "cell_type": "code",
   "execution_count": 3,
   "id": "bd778477",
   "metadata": {
    "execution": {
     "iopub.execute_input": "2025-10-24T00:48:10.759159Z",
     "iopub.status.busy": "2025-10-24T00:48:10.758902Z",
     "iopub.status.idle": "2025-10-24T00:48:20.659538Z",
     "shell.execute_reply": "2025-10-24T00:48:20.658700Z"
    },
    "id": "xyPuVC12s7fn",
    "papermill": {
     "duration": 9.904005,
     "end_time": "2025-10-24T00:48:20.660143",
     "exception": false,
     "start_time": "2025-10-24T00:48:10.756138",
     "status": "completed"
    },
    "tags": []
   },
   "outputs": [
    {
     "data": {
      "text/plain": [
       "['rsh20bkkb4zk_2025-10-23T230000_762c775ae454d23f2c6b6a75623d14c7_2853a0.csv.gz',\n",
       " 'rsh20bkkb4zk_2025-10-23T230000_762c775ae454d23f2c6b6a75623d14c7_2853a1.csv.gz',\n",
       " 'rsh20bkkb4zk_2025-10-23T230000_762c775ae454d23f2c6b6a75623d14c7_c35750.csv.gz',\n",
       " 'rsh20bkkb4zk_2025-10-23T230000_762c775ae454d23f2c6b6a75623d14c7_c35751.csv.gz']"
      ]
     },
     "execution_count": 3,
     "metadata": {},
     "output_type": "execute_result"
    }
   ],
   "source": [
    "container_name_uat = \"adjuststbuat\"\n",
    "container_client_uat = blob_service_client.get_container_client(container_name_uat)\n",
    "from collections import defaultdict\n",
    "files = [i.name for i in container_client_uat.list_blobs()]\n",
    "groups = defaultdict(list)\n",
    "for f in files:\n",
    "    dt = f.split('_')[1]\n",
    "    groups[dt].append(f)\n",
    "groups[dt]"
   ]
  },
  {
   "cell_type": "code",
   "execution_count": 4,
   "id": "f51e2c3b",
   "metadata": {
    "execution": {
     "iopub.execute_input": "2025-10-24T00:48:20.665736Z",
     "iopub.status.busy": "2025-10-24T00:48:20.665569Z",
     "iopub.status.idle": "2025-10-24T00:48:20.668219Z",
     "shell.execute_reply": "2025-10-24T00:48:20.667394Z"
    },
    "papermill": {
     "duration": 0.006069,
     "end_time": "2025-10-24T00:48:20.668775",
     "exception": false,
     "start_time": "2025-10-24T00:48:20.662706",
     "status": "completed"
    },
    "tags": []
   },
   "outputs": [],
   "source": [
    "# from datetime import date, timedelta, datetime\n",
    "# import pandas as pd\n",
    "# today = date.today().strftime('%Y-%m-%d')\n",
    "# yesterday = (date.today() - timedelta(days = 1) ).strftime('%Y-%m-%d')\n",
    "# check_date = dt.split(\"T\")[0]\n",
    "# if check_date == today:\n",
    "#     need_process = pd.date_range(start=already_processed[-1], end=today).strftime('%Y-%m-%d').to_list()\n",
    "# else:\n",
    "#     need_process = pd.date_range(start=already_processed[-1], end=yesterday).strftime('%Y-%m-%d').to_list()\n",
    "# need_process"
   ]
  },
  {
   "cell_type": "code",
   "execution_count": 5,
   "id": "2296eda9",
   "metadata": {
    "execution": {
     "iopub.execute_input": "2025-10-24T00:48:20.673953Z",
     "iopub.status.busy": "2025-10-24T00:48:20.673794Z",
     "iopub.status.idle": "2025-10-24T00:48:20.912324Z",
     "shell.execute_reply": "2025-10-24T00:48:20.911528Z"
    },
    "papermill": {
     "duration": 0.24201,
     "end_time": "2025-10-24T00:48:20.913012",
     "exception": false,
     "start_time": "2025-10-24T00:48:20.671002",
     "status": "completed"
    },
    "tags": []
   },
   "outputs": [
    {
     "data": {
      "text/plain": [
       "['2025-10-23T050000',\n",
       " '2025-10-23T060000',\n",
       " '2025-10-23T070000',\n",
       " '2025-10-23T080000',\n",
       " '2025-10-23T090000',\n",
       " '2025-10-23T100000',\n",
       " '2025-10-23T110000',\n",
       " '2025-10-23T120000',\n",
       " '2025-10-23T130000',\n",
       " '2025-10-23T140000',\n",
       " '2025-10-23T150000',\n",
       " '2025-10-23T160000',\n",
       " '2025-10-23T170000',\n",
       " '2025-10-23T180000',\n",
       " '2025-10-23T190000',\n",
       " '2025-10-23T200000',\n",
       " '2025-10-23T210000',\n",
       " '2025-10-23T220000',\n",
       " '2025-10-23T230000']"
      ]
     },
     "execution_count": 5,
     "metadata": {},
     "output_type": "execute_result"
    }
   ],
   "source": [
    "from datetime import datetime\n",
    "import pandas as pd\n",
    "B = datetime.strptime(dt, \"%Y-%m-%dT%H0000\")\n",
    "A = datetime.strptime(already_processed_ts[-2], \"%Y-%m-%dT%H0000\")\n",
    "need_process_ts =  pd.date_range(A, B, freq='h').strftime('%Y-%m-%dT%H0000').tolist()\n",
    "need_process_ts"
   ]
  },
  {
   "cell_type": "code",
   "execution_count": 6,
   "id": "6e2c1338",
   "metadata": {
    "execution": {
     "iopub.execute_input": "2025-10-24T00:48:20.919392Z",
     "iopub.status.busy": "2025-10-24T00:48:20.919016Z",
     "iopub.status.idle": "2025-10-24T00:51:19.428578Z",
     "shell.execute_reply": "2025-10-24T00:51:19.427606Z"
    },
    "papermill": {
     "duration": 178.517118,
     "end_time": "2025-10-24T00:51:19.432730",
     "exception": false,
     "start_time": "2025-10-24T00:48:20.915612",
     "status": "completed"
    },
    "tags": []
   },
   "outputs": [
    {
     "name": "stderr",
     "output_type": "stream",
     "text": [
      "\r",
      "  0%|          | 0/2143 [00:00<?, ?it/s]"
     ]
    },
    {
     "name": "stderr",
     "output_type": "stream",
     "text": [
      "\r",
      " 99%|█████████▉| 2126/2143 [00:12<00:00, 165.07it/s]"
     ]
    },
    {
     "name": "stdout",
     "output_type": "stream",
     "text": [
      "Done dt=2025-10-23/2025-10-23T050000.parquet\n"
     ]
    },
    {
     "name": "stdout",
     "output_type": "stream",
     "text": [
      "Done dt=2025-10-23/2025-10-23T060000.parquet\n"
     ]
    },
    {
     "name": "stderr",
     "output_type": "stream",
     "text": [
      "\r",
      " 99%|█████████▉| 2126/2143 [00:29<00:00, 165.07it/s]"
     ]
    },
    {
     "name": "stderr",
     "output_type": "stream",
     "text": [
      "\r",
      " 99%|█████████▉| 2128/2143 [00:33<00:00, 49.69it/s] "
     ]
    },
    {
     "name": "stdout",
     "output_type": "stream",
     "text": [
      "Done dt=2025-10-23/2025-10-23T070000.parquet\n"
     ]
    },
    {
     "name": "stderr",
     "output_type": "stream",
     "text": [
      "\r",
      " 99%|█████████▉| 2129/2143 [00:44<00:00, 32.82it/s]"
     ]
    },
    {
     "name": "stdout",
     "output_type": "stream",
     "text": [
      "Done dt=2025-10-23/2025-10-23T080000.parquet\n"
     ]
    },
    {
     "name": "stderr",
     "output_type": "stream",
     "text": [
      "\r",
      " 99%|█████████▉| 2130/2143 [00:54<00:00, 22.71it/s]"
     ]
    },
    {
     "name": "stdout",
     "output_type": "stream",
     "text": [
      "Done dt=2025-10-23/2025-10-23T090000.parquet\n"
     ]
    },
    {
     "name": "stderr",
     "output_type": "stream",
     "text": [
      "\r",
      " 99%|█████████▉| 2131/2143 [01:04<00:00, 15.81it/s]"
     ]
    },
    {
     "name": "stdout",
     "output_type": "stream",
     "text": [
      "Done dt=2025-10-23/2025-10-23T100000.parquet\n"
     ]
    },
    {
     "name": "stderr",
     "output_type": "stream",
     "text": [
      "\r",
      " 99%|█████████▉| 2132/2143 [01:13<00:00, 11.29it/s]"
     ]
    },
    {
     "name": "stdout",
     "output_type": "stream",
     "text": [
      "Done dt=2025-10-23/2025-10-23T110000.parquet\n"
     ]
    },
    {
     "name": "stderr",
     "output_type": "stream",
     "text": [
      "\r",
      "100%|█████████▉| 2133/2143 [01:23<00:01,  8.01it/s]"
     ]
    },
    {
     "name": "stdout",
     "output_type": "stream",
     "text": [
      "Done dt=2025-10-23/2025-10-23T120000.parquet\n"
     ]
    },
    {
     "name": "stderr",
     "output_type": "stream",
     "text": [
      "\r",
      "100%|█████████▉| 2134/2143 [01:32<00:01,  5.69it/s]"
     ]
    },
    {
     "name": "stdout",
     "output_type": "stream",
     "text": [
      "Done dt=2025-10-23/2025-10-23T130000.parquet\n"
     ]
    },
    {
     "name": "stderr",
     "output_type": "stream",
     "text": [
      "\r",
      "100%|█████████▉| 2135/2143 [01:42<00:02,  3.95it/s]"
     ]
    },
    {
     "name": "stdout",
     "output_type": "stream",
     "text": [
      "Done dt=2025-10-23/2025-10-23T150000.parquet\n"
     ]
    },
    {
     "name": "stderr",
     "output_type": "stream",
     "text": [
      "\r",
      "100%|█████████▉| 2136/2143 [01:52<00:02,  2.76it/s]"
     ]
    },
    {
     "name": "stdout",
     "output_type": "stream",
     "text": [
      "Done dt=2025-10-23/2025-10-23T160000.parquet\n"
     ]
    },
    {
     "name": "stderr",
     "output_type": "stream",
     "text": [
      "\r",
      "100%|█████████▉| 2137/2143 [02:02<00:03,  1.91it/s]"
     ]
    },
    {
     "name": "stdout",
     "output_type": "stream",
     "text": [
      "Done dt=2025-10-23/2025-10-23T170000.parquet\n"
     ]
    },
    {
     "name": "stderr",
     "output_type": "stream",
     "text": [
      "\r",
      "100%|█████████▉| 2138/2143 [02:11<00:03,  1.40it/s]"
     ]
    },
    {
     "name": "stdout",
     "output_type": "stream",
     "text": [
      "Done dt=2025-10-23/2025-10-23T180000.parquet\n"
     ]
    },
    {
     "name": "stderr",
     "output_type": "stream",
     "text": [
      "\r",
      "100%|█████████▉| 2139/2143 [02:21<00:03,  1.03it/s]"
     ]
    },
    {
     "name": "stdout",
     "output_type": "stream",
     "text": [
      "Done dt=2025-10-23/2025-10-23T190000.parquet\n"
     ]
    },
    {
     "name": "stderr",
     "output_type": "stream",
     "text": [
      "\r",
      "100%|█████████▉| 2140/2143 [02:30<00:04,  1.34s/it]"
     ]
    },
    {
     "name": "stdout",
     "output_type": "stream",
     "text": [
      "Done dt=2025-10-23/2025-10-23T200000.parquet\n"
     ]
    },
    {
     "name": "stderr",
     "output_type": "stream",
     "text": [
      "\r",
      "100%|█████████▉| 2141/2143 [02:39<00:03,  1.78s/it]"
     ]
    },
    {
     "name": "stdout",
     "output_type": "stream",
     "text": [
      "Done dt=2025-10-23/2025-10-23T210000.parquet\n"
     ]
    },
    {
     "name": "stderr",
     "output_type": "stream",
     "text": [
      "\r",
      "100%|█████████▉| 2142/2143 [02:49<00:02,  2.34s/it]"
     ]
    },
    {
     "name": "stdout",
     "output_type": "stream",
     "text": [
      "Done dt=2025-10-23/2025-10-23T220000.parquet\n"
     ]
    },
    {
     "name": "stderr",
     "output_type": "stream",
     "text": [
      "\r",
      "100%|██████████| 2143/2143 [02:58<00:00,  3.00s/it]"
     ]
    },
    {
     "name": "stderr",
     "output_type": "stream",
     "text": [
      "\r",
      "100%|██████████| 2143/2143 [02:58<00:00, 12.01it/s]"
     ]
    },
    {
     "name": "stdout",
     "output_type": "stream",
     "text": [
      "Done dt=2025-10-23/2025-10-23T230000.parquet\n"
     ]
    },
    {
     "name": "stderr",
     "output_type": "stream",
     "text": [
      "\n"
     ]
    }
   ],
   "source": [
    "import polars as pl \n",
    "from tqdm import tqdm\n",
    "storage_options = {\n",
    "    \"account_name\": account_name,\n",
    "    \"account_key\":  account_key,\n",
    "}\n",
    "\n",
    "for ts, files in tqdm(groups.items()):\n",
    "    if ts not in need_process_ts:\n",
    "        continue\n",
    "    dt = ts[:10]\n",
    "    # if dt not in need_process:\n",
    "    #     continue\n",
    "    df = pl.scan_csv(f\"az://adjuststbuat/*_{ts}_*.csv.gz\", storage_options = storage_options,glob=True, has_header = True, null_values = [\"\",\"NULL\"], ignore_errors=True).select(pl.all().cast(pl.Utf8))\n",
    "    df.sink_parquet(f\"az://adjuststbuatprocessed/processing/dt={dt}/{ts}.parquet\", storage_options = storage_options, compression=\"snappy\")\n",
    "    print(f'Done dt={dt}/{ts}.parquet')\n",
    "        "
   ]
  },
  {
   "cell_type": "code",
   "execution_count": 7,
   "id": "c36d2ed5",
   "metadata": {
    "execution": {
     "iopub.execute_input": "2025-10-24T00:51:19.441236Z",
     "iopub.status.busy": "2025-10-24T00:51:19.441052Z",
     "iopub.status.idle": "2025-10-24T00:51:19.445275Z",
     "shell.execute_reply": "2025-10-24T00:51:19.444433Z"
    },
    "papermill": {
     "duration": 0.009219,
     "end_time": "2025-10-24T00:51:19.445807",
     "exception": false,
     "start_time": "2025-10-24T00:51:19.436588",
     "status": "completed"
    },
    "tags": []
   },
   "outputs": [
    {
     "data": {
      "text/plain": [
       "{'2025-10-23'}"
      ]
     },
     "execution_count": 7,
     "metadata": {},
     "output_type": "execute_result"
    }
   ],
   "source": [
    "need_process = set([i.split(\"T\")[0] for i in need_process_ts])\n",
    "need_process"
   ]
  },
  {
   "cell_type": "code",
   "execution_count": 8,
   "id": "bbc4a925",
   "metadata": {
    "execution": {
     "iopub.execute_input": "2025-10-24T00:51:19.454357Z",
     "iopub.status.busy": "2025-10-24T00:51:19.454154Z",
     "iopub.status.idle": "2025-10-24T00:51:25.709465Z",
     "shell.execute_reply": "2025-10-24T00:51:25.708729Z"
    },
    "papermill": {
     "duration": 6.260573,
     "end_time": "2025-10-24T00:51:25.710201",
     "exception": false,
     "start_time": "2025-10-24T00:51:19.449628",
     "status": "completed"
    },
    "tags": []
   },
   "outputs": [
    {
     "name": "stdout",
     "output_type": "stream",
     "text": [
      "\n",
      " Done 2025-10-23\n",
      "\n"
     ]
    }
   ],
   "source": [
    "for dt in need_process:\n",
    "  df = pl.scan_parquet(f\"az://adjuststbuatprocessed/processing/dt={dt}/*.parquet\", storage_options=storage_options,glob=True).with_columns(pl.lit(dt).alias(\"dt\"))\n",
    "  df.sink_parquet(f\"az://adjuststbuatprocessed/output/{dt}.parquet\", storage_options=storage_options, compression=\"snappy\")\n",
    "  print(f'\\n Done {dt}\\n')"
   ]
  },
  {
   "cell_type": "markdown",
   "id": "1ad413b2",
   "metadata": {
    "id": "2TvKr29qyJd_",
    "papermill": {
     "duration": 0.003903,
     "end_time": "2025-10-24T00:51:25.718193",
     "exception": false,
     "start_time": "2025-10-24T00:51:25.714290",
     "status": "completed"
    },
    "tags": []
   },
   "source": [
    "# Live"
   ]
  },
  {
   "cell_type": "code",
   "execution_count": 9,
   "id": "9f8faa5a",
   "metadata": {
    "execution": {
     "iopub.execute_input": "2025-10-24T00:51:25.726701Z",
     "iopub.status.busy": "2025-10-24T00:51:25.726535Z",
     "iopub.status.idle": "2025-10-24T00:51:32.343332Z",
     "shell.execute_reply": "2025-10-24T00:51:32.342522Z"
    },
    "id": "EnaFsdZFxpwc",
    "papermill": {
     "duration": 6.621884,
     "end_time": "2025-10-24T00:51:32.343911",
     "exception": false,
     "start_time": "2025-10-24T00:51:25.722027",
     "status": "completed"
    },
    "tags": []
   },
   "outputs": [
    {
     "data": {
      "text/plain": [
       "['2025-10-23T020000',\n",
       " '2025-10-23T030000',\n",
       " '2025-10-23T040000',\n",
       " '2025-10-23T050000',\n",
       " '2025-10-23T060000']"
      ]
     },
     "execution_count": 9,
     "metadata": {},
     "output_type": "execute_result"
    }
   ],
   "source": [
    "# already_processed = [file.name.split('/')[-1].split('.')[0] for file in container_client.list_blobs() if file.name[:12] == 'live/output/']\n",
    "# already_processed[-5:]\n",
    "already_processed_ts = sorted([file.name.split('/')[-1].split(\".\")[0] for file in container_client.list_blobs() if (file.name.split('/')[0] + \"/\" + file.name.split('/')[1]) == 'live/processing'])\n",
    "already_processed_ts[-5:]"
   ]
  },
  {
   "cell_type": "code",
   "execution_count": 10,
   "id": "5f44c2a7",
   "metadata": {
    "execution": {
     "iopub.execute_input": "2025-10-24T00:51:32.353506Z",
     "iopub.status.busy": "2025-10-24T00:51:32.353246Z",
     "iopub.status.idle": "2025-10-24T00:51:46.528837Z",
     "shell.execute_reply": "2025-10-24T00:51:46.528078Z"
    },
    "id": "I7Er6YEUyOsL",
    "papermill": {
     "duration": 14.181259,
     "end_time": "2025-10-24T00:51:46.529482",
     "exception": false,
     "start_time": "2025-10-24T00:51:32.348223",
     "status": "completed"
    },
    "tags": []
   },
   "outputs": [
    {
     "data": {
      "text/plain": [
       "['65n1fgov4zr4_2025-10-23T230000_762c775ae454d23f2c6b6a75623d14c7_2853a0.csv.gz',\n",
       " '65n1fgov4zr4_2025-10-23T230000_762c775ae454d23f2c6b6a75623d14c7_2853a1.csv.gz',\n",
       " '65n1fgov4zr4_2025-10-23T230000_762c775ae454d23f2c6b6a75623d14c7_be8220.csv.gz',\n",
       " '65n1fgov4zr4_2025-10-23T230000_762c775ae454d23f2c6b6a75623d14c7_be8221.csv.gz',\n",
       " '65n1fgov4zr4_2025-10-23T230000_762c775ae454d23f2c6b6a75623d14c7_c35750.csv.gz',\n",
       " '65n1fgov4zr4_2025-10-23T230000_762c775ae454d23f2c6b6a75623d14c7_c35751.csv.gz']"
      ]
     },
     "execution_count": 10,
     "metadata": {},
     "output_type": "execute_result"
    }
   ],
   "source": [
    "container_name_uat = \"adjuststblive\"\n",
    "container_client_uat = blob_service_client.get_container_client(container_name_uat)\n",
    "from collections import defaultdict\n",
    "files = [i.name for i in container_client_uat.list_blobs()]\n",
    "groups = defaultdict(list)\n",
    "for f in files:\n",
    "    dt = f.split('_')[1]\n",
    "    groups[dt].append(f)\n",
    "groups[dt]"
   ]
  },
  {
   "cell_type": "code",
   "execution_count": 11,
   "id": "47eab8a5",
   "metadata": {
    "execution": {
     "iopub.execute_input": "2025-10-24T00:51:46.538898Z",
     "iopub.status.busy": "2025-10-24T00:51:46.538728Z",
     "iopub.status.idle": "2025-10-24T00:51:46.543793Z",
     "shell.execute_reply": "2025-10-24T00:51:46.543022Z"
    },
    "papermill": {
     "duration": 0.010488,
     "end_time": "2025-10-24T00:51:46.544354",
     "exception": false,
     "start_time": "2025-10-24T00:51:46.533866",
     "status": "completed"
    },
    "tags": []
   },
   "outputs": [
    {
     "data": {
      "text/plain": [
       "['2025-10-23T060000',\n",
       " '2025-10-23T070000',\n",
       " '2025-10-23T080000',\n",
       " '2025-10-23T090000',\n",
       " '2025-10-23T100000',\n",
       " '2025-10-23T110000',\n",
       " '2025-10-23T120000',\n",
       " '2025-10-23T130000',\n",
       " '2025-10-23T140000',\n",
       " '2025-10-23T150000',\n",
       " '2025-10-23T160000',\n",
       " '2025-10-23T170000',\n",
       " '2025-10-23T180000',\n",
       " '2025-10-23T190000',\n",
       " '2025-10-23T200000',\n",
       " '2025-10-23T210000',\n",
       " '2025-10-23T220000',\n",
       " '2025-10-23T230000']"
      ]
     },
     "execution_count": 11,
     "metadata": {},
     "output_type": "execute_result"
    }
   ],
   "source": [
    "# need_process = pd.date_range(start=already_processed[-1], end=today).strftime('%Y-%m-%d').to_list()\n",
    "# need_process\n",
    "\n",
    "B = datetime.strptime(dt, \"%Y-%m-%dT%H0000\")\n",
    "A = datetime.strptime(already_processed_ts[-1], \"%Y-%m-%dT%H0000\")\n",
    "need_process_ts =  pd.date_range(A, B, freq='h').strftime('%Y-%m-%dT%H0000').tolist()\n",
    "need_process_ts"
   ]
  },
  {
   "cell_type": "code",
   "execution_count": 12,
   "id": "50cb0410",
   "metadata": {
    "execution": {
     "iopub.execute_input": "2025-10-24T00:51:46.553421Z",
     "iopub.status.busy": "2025-10-24T00:51:46.553260Z",
     "iopub.status.idle": "2025-10-24T00:58:27.833200Z",
     "shell.execute_reply": "2025-10-24T00:58:27.832414Z"
    },
    "id": "g-W3s2nRyRY7",
    "papermill": {
     "duration": 401.285309,
     "end_time": "2025-10-24T00:58:27.833791",
     "exception": false,
     "start_time": "2025-10-24T00:51:46.548482",
     "status": "completed"
    },
    "tags": []
   },
   "outputs": [
    {
     "name": "stderr",
     "output_type": "stream",
     "text": [
      "\r",
      "  0%|          | 0/2198 [00:00<?, ?it/s]"
     ]
    },
    {
     "name": "stderr",
     "output_type": "stream",
     "text": [
      "\r",
      " 99%|█████████▉| 2181/2198 [00:28<00:00, 75.72it/s]"
     ]
    },
    {
     "name": "stdout",
     "output_type": "stream",
     "text": [
      "Done dt=2025-10-23/2025-10-23T060000.parquet\n"
     ]
    },
    {
     "name": "stderr",
     "output_type": "stream",
     "text": [
      "\r",
      " 99%|█████████▉| 2181/2198 [00:44<00:00, 75.72it/s]"
     ]
    },
    {
     "name": "stderr",
     "output_type": "stream",
     "text": [
      "\r",
      " 99%|█████████▉| 2182/2198 [00:58<00:00, 30.74it/s]"
     ]
    },
    {
     "name": "stdout",
     "output_type": "stream",
     "text": [
      "Done dt=2025-10-23/2025-10-23T070000.parquet\n"
     ]
    },
    {
     "name": "stderr",
     "output_type": "stream",
     "text": [
      "\r",
      " 99%|█████████▉| 2183/2198 [01:23<00:00, 17.81it/s]"
     ]
    },
    {
     "name": "stdout",
     "output_type": "stream",
     "text": [
      "Done dt=2025-10-23/2025-10-23T080000.parquet\n"
     ]
    },
    {
     "name": "stderr",
     "output_type": "stream",
     "text": [
      "\r",
      " 99%|█████████▉| 2184/2198 [01:51<00:01, 10.79it/s]"
     ]
    },
    {
     "name": "stdout",
     "output_type": "stream",
     "text": [
      "Done dt=2025-10-23/2025-10-23T090000.parquet\n"
     ]
    },
    {
     "name": "stderr",
     "output_type": "stream",
     "text": [
      "\r",
      " 99%|█████████▉| 2185/2198 [02:17<00:01,  7.02it/s]"
     ]
    },
    {
     "name": "stdout",
     "output_type": "stream",
     "text": [
      "Done dt=2025-10-23/2025-10-23T100000.parquet\n"
     ]
    },
    {
     "name": "stderr",
     "output_type": "stream",
     "text": [
      "\r",
      " 99%|█████████▉| 2186/2198 [02:44<00:02,  4.62it/s]"
     ]
    },
    {
     "name": "stdout",
     "output_type": "stream",
     "text": [
      "Done dt=2025-10-23/2025-10-23T110000.parquet\n"
     ]
    },
    {
     "name": "stderr",
     "output_type": "stream",
     "text": [
      "\r",
      " 99%|█████████▉| 2187/2198 [03:10<00:03,  3.20it/s]"
     ]
    },
    {
     "name": "stdout",
     "output_type": "stream",
     "text": [
      "Done dt=2025-10-23/2025-10-23T120000.parquet\n"
     ]
    },
    {
     "name": "stderr",
     "output_type": "stream",
     "text": [
      "\r",
      "100%|█████████▉| 2188/2198 [03:36<00:04,  2.19it/s]"
     ]
    },
    {
     "name": "stdout",
     "output_type": "stream",
     "text": [
      "Done dt=2025-10-23/2025-10-23T130000.parquet\n"
     ]
    },
    {
     "name": "stderr",
     "output_type": "stream",
     "text": [
      "\r",
      "100%|█████████▉| 2189/2198 [04:00<00:05,  1.57it/s]"
     ]
    },
    {
     "name": "stdout",
     "output_type": "stream",
     "text": [
      "Done dt=2025-10-23/2025-10-23T140000.parquet\n"
     ]
    },
    {
     "name": "stderr",
     "output_type": "stream",
     "text": [
      "\r",
      "100%|█████████▉| 2190/2198 [04:24<00:07,  1.12it/s]"
     ]
    },
    {
     "name": "stdout",
     "output_type": "stream",
     "text": [
      "Done dt=2025-10-23/2025-10-23T150000.parquet\n"
     ]
    },
    {
     "name": "stderr",
     "output_type": "stream",
     "text": [
      "\r",
      "100%|█████████▉| 2191/2198 [04:42<00:08,  1.16s/it]"
     ]
    },
    {
     "name": "stdout",
     "output_type": "stream",
     "text": [
      "Done dt=2025-10-23/2025-10-23T160000.parquet\n"
     ]
    },
    {
     "name": "stderr",
     "output_type": "stream",
     "text": [
      "\r",
      "100%|█████████▉| 2192/2198 [04:59<00:08,  1.49s/it]"
     ]
    },
    {
     "name": "stdout",
     "output_type": "stream",
     "text": [
      "Done dt=2025-10-23/2025-10-23T170000.parquet\n"
     ]
    },
    {
     "name": "stderr",
     "output_type": "stream",
     "text": [
      "\r",
      "100%|█████████▉| 2193/2198 [05:16<00:09,  1.98s/it]"
     ]
    },
    {
     "name": "stdout",
     "output_type": "stream",
     "text": [
      "Done dt=2025-10-23/2025-10-23T180000.parquet\n"
     ]
    },
    {
     "name": "stderr",
     "output_type": "stream",
     "text": [
      "\r",
      "100%|█████████▉| 2194/2198 [05:32<00:10,  2.53s/it]"
     ]
    },
    {
     "name": "stdout",
     "output_type": "stream",
     "text": [
      "Done dt=2025-10-23/2025-10-23T190000.parquet\n"
     ]
    },
    {
     "name": "stderr",
     "output_type": "stream",
     "text": [
      "\r",
      "100%|█████████▉| 2195/2198 [05:47<00:09,  3.22s/it]"
     ]
    },
    {
     "name": "stdout",
     "output_type": "stream",
     "text": [
      "Done dt=2025-10-23/2025-10-23T200000.parquet\n"
     ]
    },
    {
     "name": "stderr",
     "output_type": "stream",
     "text": [
      "\r",
      "100%|█████████▉| 2196/2198 [06:02<00:08,  4.10s/it]"
     ]
    },
    {
     "name": "stdout",
     "output_type": "stream",
     "text": [
      "Done dt=2025-10-23/2025-10-23T210000.parquet\n"
     ]
    },
    {
     "name": "stderr",
     "output_type": "stream",
     "text": [
      "\r",
      "100%|█████████▉| 2197/2198 [06:18<00:05,  5.23s/it]"
     ]
    },
    {
     "name": "stdout",
     "output_type": "stream",
     "text": [
      "Done dt=2025-10-23/2025-10-23T220000.parquet\n"
     ]
    },
    {
     "name": "stderr",
     "output_type": "stream",
     "text": [
      "\r",
      "100%|██████████| 2198/2198 [06:41<00:00,  7.30s/it]"
     ]
    },
    {
     "name": "stderr",
     "output_type": "stream",
     "text": [
      "\r",
      "100%|██████████| 2198/2198 [06:41<00:00,  5.48it/s]"
     ]
    },
    {
     "name": "stdout",
     "output_type": "stream",
     "text": [
      "Done dt=2025-10-23/2025-10-23T230000.parquet\n"
     ]
    },
    {
     "name": "stderr",
     "output_type": "stream",
     "text": [
      "\n"
     ]
    }
   ],
   "source": [
    "storage_options = {\n",
    "    \"account_name\": account_name,\n",
    "    \"account_key\":  account_key,\n",
    "}\n",
    "\n",
    "for ts, files in tqdm(groups.items()):\n",
    "    if ts not in need_process_ts: continue\n",
    "    dt = ts[:10]\n",
    "    # if dt not in need_process:\n",
    "    #     continue\n",
    "    df = pl.scan_csv(f\"az://adjuststblive/*_{ts}_*.csv.gz\", storage_options = storage_options,glob=True, has_header = True, null_values = [\"\",\"NULL\"], ignore_errors=True).select(pl.all().cast(pl.Utf8))\n",
    "    df.sink_parquet(f\"az://adjuststbuatprocessed/live/processing/dt={dt}/{ts}.parquet\", storage_options = storage_options, compression=\"snappy\")\n",
    "    print(f'Done dt={dt}/{ts}.parquet')\n",
    "        "
   ]
  },
  {
   "cell_type": "code",
   "execution_count": 13,
   "id": "bae5c967",
   "metadata": {
    "execution": {
     "iopub.execute_input": "2025-10-24T00:58:27.846470Z",
     "iopub.status.busy": "2025-10-24T00:58:27.846269Z",
     "iopub.status.idle": "2025-10-24T00:58:27.850545Z",
     "shell.execute_reply": "2025-10-24T00:58:27.849745Z"
    },
    "papermill": {
     "duration": 0.011257,
     "end_time": "2025-10-24T00:58:27.851112",
     "exception": false,
     "start_time": "2025-10-24T00:58:27.839855",
     "status": "completed"
    },
    "tags": []
   },
   "outputs": [
    {
     "data": {
      "text/plain": [
       "{'2025-10-23'}"
      ]
     },
     "execution_count": 13,
     "metadata": {},
     "output_type": "execute_result"
    }
   ],
   "source": [
    "need_process = set([i.split(\"T\")[0] for i in need_process_ts])\n",
    "need_process"
   ]
  },
  {
   "cell_type": "code",
   "execution_count": 14,
   "id": "92bbeb44",
   "metadata": {
    "execution": {
     "iopub.execute_input": "2025-10-24T00:58:27.863284Z",
     "iopub.status.busy": "2025-10-24T00:58:27.863087Z",
     "iopub.status.idle": "2025-10-24T00:59:16.523915Z",
     "shell.execute_reply": "2025-10-24T00:59:16.522875Z"
    },
    "id": "sBm7rfFUyePJ",
    "papermill": {
     "duration": 48.672862,
     "end_time": "2025-10-24T00:59:16.529637",
     "exception": false,
     "start_time": "2025-10-24T00:58:27.856775",
     "status": "completed"
    },
    "tags": []
   },
   "outputs": [
    {
     "name": "stdout",
     "output_type": "stream",
     "text": [
      "\n",
      " Done 2025-10-23\n",
      "\n"
     ]
    }
   ],
   "source": [
    "for dt in need_process:\n",
    "  df = pl.scan_parquet(f\"az://adjuststbuatprocessed/live/processing/dt={dt}/*.parquet\", storage_options=storage_options,glob=True).with_columns(pl.lit(dt).alias(\"dt\"))\n",
    "  df.sink_parquet(f\"az://adjuststbuatprocessed/live/output/{dt}.parquet\", storage_options=storage_options, compression=\"snappy\")\n",
    "  print(f'\\n Done {dt}\\n')"
   ]
  }
 ],
 "metadata": {
  "colab": {
   "authorship_tag": "ABX9TyOfzO6uvqUX+Tt89Y73G9E8",
   "include_colab_link": true,
   "provenance": []
  },
  "kernelspec": {
   "display_name": "Python 3",
   "name": "python3"
  },
  "language_info": {
   "codemirror_mode": {
    "name": "ipython",
    "version": 3
   },
   "file_extension": ".py",
   "mimetype": "text/x-python",
   "name": "python",
   "nbconvert_exporter": "python",
   "pygments_lexer": "ipython3",
   "version": "3.11.13"
  },
  "papermill": {
   "default_parameters": {},
   "duration": 675.212268,
   "end_time": "2025-10-24T00:59:17.152365",
   "environment_variables": {},
   "exception": null,
   "input_path": "notebooks/ADJUST_JOB.ipynb",
   "output_path": "outputs/ADJUST_JOB_2025-10-24.ipynb",
   "parameters": {
    "RUN_DATE": "2025-10-24"
   },
   "start_time": "2025-10-24T00:48:01.940097",
   "version": "2.6.0"
  }
 },
 "nbformat": 4,
 "nbformat_minor": 5
}