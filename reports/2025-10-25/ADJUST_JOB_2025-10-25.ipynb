{
 "cells": [
  {
   "cell_type": "code",
   "execution_count": 1,
   "id": "b7f5409f",
   "metadata": {
    "execution": {
     "iopub.execute_input": "2025-10-25T01:49:14.036245Z",
     "iopub.status.busy": "2025-10-25T01:49:14.036054Z",
     "iopub.status.idle": "2025-10-25T01:49:14.041368Z",
     "shell.execute_reply": "2025-10-25T01:49:14.040531Z"
    },
    "papermill": {
     "duration": 0.009639,
     "end_time": "2025-10-25T01:49:14.041990",
     "exception": false,
     "start_time": "2025-10-25T01:49:14.032351",
     "status": "completed"
    },
    "tags": [
     "injected-parameters"
    ]
   },
   "outputs": [],
   "source": [
    "# Parameters\n",
    "RUN_DATE = \"2025-10-25\"\n"
   ]
  },
  {
   "cell_type": "markdown",
   "id": "57ea41d4",
   "metadata": {
    "colab_type": "text",
    "id": "view-in-github",
    "papermill": {
     "duration": 0.001945,
     "end_time": "2025-10-25T01:49:14.046161",
     "exception": false,
     "start_time": "2025-10-25T01:49:14.044216",
     "status": "completed"
    },
    "tags": []
   },
   "source": [
    "<a href=\"https://colab.research.google.com/github/HieuNguyenPhi/ADJ_JOBS/blob/main/notebooks/ADJUST_JOB.ipynb\" target=\"_parent\"><img src=\"https://colab.research.google.com/assets/colab-badge.svg\" alt=\"Open In Colab\"/></a>"
   ]
  },
  {
   "cell_type": "markdown",
   "id": "f4909866",
   "metadata": {
    "papermill": {
     "duration": 0.002901,
     "end_time": "2025-10-25T01:49:14.051011",
     "exception": false,
     "start_time": "2025-10-25T01:49:14.048110",
     "status": "completed"
    },
    "tags": []
   },
   "source": [
    "# UAT"
   ]
  },
  {
   "cell_type": "code",
   "execution_count": 2,
   "id": "b3a0ed04",
   "metadata": {
    "execution": {
     "iopub.execute_input": "2025-10-25T01:49:14.055787Z",
     "iopub.status.busy": "2025-10-25T01:49:14.055627Z",
     "iopub.status.idle": "2025-10-25T01:49:20.275141Z",
     "shell.execute_reply": "2025-10-25T01:49:20.274111Z"
    },
    "id": "ycUR2r1dq1Nm",
    "papermill": {
     "duration": 6.222904,
     "end_time": "2025-10-25T01:49:20.275851",
     "exception": false,
     "start_time": "2025-10-25T01:49:14.052947",
     "status": "completed"
    },
    "tags": []
   },
   "outputs": [
    {
     "data": {
      "text/plain": [
       "['2025-10-23T200000',\n",
       " '2025-10-23T210000',\n",
       " '2025-10-23T220000',\n",
       " '2025-10-23T230000',\n",
       " '2025-10-24T000000']"
      ]
     },
     "execution_count": 2,
     "metadata": {},
     "output_type": "execute_result"
    }
   ],
   "source": [
    "import os\n",
    "from azure.storage.blob import BlobServiceClient\n",
    "\n",
    "account_name = os.getenv('ACCOUNT_NAME')\n",
    "account_key = os.getenv('ACCOUNT_KEY')\n",
    "# Replace with your Azure Storage account name and SAS token or connection string\n",
    "connect_str = f\"DefaultEndpointsProtocol=https;AccountName={account_name};AccountKey={account_key};EndpointSuffix=core.windows.net\"\n",
    "blob_service_client = BlobServiceClient.from_connection_string(connect_str)\n",
    "container_list = blob_service_client.list_containers()\n",
    "container_name = \"adjuststbuatprocessed\" #os.getenv('CONTAINER_NAME')\n",
    "container_client = blob_service_client.get_container_client(container_name)\n",
    "# already_processed = [file.name.split('/')[1].split('.')[0] for file in container_client.list_blobs() if file.name.split('/')[0] == 'output']\n",
    "# already_processed[-5:]\n",
    "already_processed_ts = sorted([file.name.split('/')[-1].split(\".\")[0] for file in container_client.list_blobs() if file.name.split('/')[0] == 'processing'])\n",
    "already_processed_ts[-5:]"
   ]
  },
  {
   "cell_type": "code",
   "execution_count": 3,
   "id": "6da37b74",
   "metadata": {
    "execution": {
     "iopub.execute_input": "2025-10-25T01:49:20.281592Z",
     "iopub.status.busy": "2025-10-25T01:49:20.281309Z",
     "iopub.status.idle": "2025-10-25T01:49:28.828730Z",
     "shell.execute_reply": "2025-10-25T01:49:28.827823Z"
    },
    "id": "xyPuVC12s7fn",
    "papermill": {
     "duration": 8.551086,
     "end_time": "2025-10-25T01:49:28.829368",
     "exception": false,
     "start_time": "2025-10-25T01:49:20.278282",
     "status": "completed"
    },
    "tags": []
   },
   "outputs": [
    {
     "data": {
      "text/plain": [
       "['rsh20bkkb4zk_2025-10-24T230000_762c775ae454d23f2c6b6a75623d14c7_be8220.csv.gz']"
      ]
     },
     "execution_count": 3,
     "metadata": {},
     "output_type": "execute_result"
    }
   ],
   "source": [
    "container_name_uat = \"adjuststbuat\"\n",
    "container_client_uat = blob_service_client.get_container_client(container_name_uat)\n",
    "from collections import defaultdict\n",
    "files = [i.name for i in container_client_uat.list_blobs()]\n",
    "groups = defaultdict(list)\n",
    "for f in files:\n",
    "    dt = f.split('_')[1]\n",
    "    groups[dt].append(f)\n",
    "groups[dt]"
   ]
  },
  {
   "cell_type": "code",
   "execution_count": 4,
   "id": "85888fe7",
   "metadata": {
    "execution": {
     "iopub.execute_input": "2025-10-25T01:49:28.835470Z",
     "iopub.status.busy": "2025-10-25T01:49:28.835239Z",
     "iopub.status.idle": "2025-10-25T01:49:28.838392Z",
     "shell.execute_reply": "2025-10-25T01:49:28.837559Z"
    },
    "papermill": {
     "duration": 0.006964,
     "end_time": "2025-10-25T01:49:28.838955",
     "exception": false,
     "start_time": "2025-10-25T01:49:28.831991",
     "status": "completed"
    },
    "tags": []
   },
   "outputs": [],
   "source": [
    "# from datetime import date, timedelta, datetime\n",
    "# import pandas as pd\n",
    "# today = date.today().strftime('%Y-%m-%d')\n",
    "# yesterday = (date.today() - timedelta(days = 1) ).strftime('%Y-%m-%d')\n",
    "# check_date = dt.split(\"T\")[0]\n",
    "# if check_date == today:\n",
    "#     need_process = pd.date_range(start=already_processed[-1], end=today).strftime('%Y-%m-%d').to_list()\n",
    "# else:\n",
    "#     need_process = pd.date_range(start=already_processed[-1], end=yesterday).strftime('%Y-%m-%d').to_list()\n",
    "# need_process"
   ]
  },
  {
   "cell_type": "code",
   "execution_count": 5,
   "id": "20532dbd",
   "metadata": {
    "execution": {
     "iopub.execute_input": "2025-10-25T01:49:28.844164Z",
     "iopub.status.busy": "2025-10-25T01:49:28.844007Z",
     "iopub.status.idle": "2025-10-25T01:49:29.085712Z",
     "shell.execute_reply": "2025-10-25T01:49:29.084865Z"
    },
    "papermill": {
     "duration": 0.245156,
     "end_time": "2025-10-25T01:49:29.086354",
     "exception": false,
     "start_time": "2025-10-25T01:49:28.841198",
     "status": "completed"
    },
    "tags": []
   },
   "outputs": [
    {
     "data": {
      "text/plain": [
       "['2025-10-23T230000',\n",
       " '2025-10-24T000000',\n",
       " '2025-10-24T010000',\n",
       " '2025-10-24T020000',\n",
       " '2025-10-24T030000',\n",
       " '2025-10-24T040000',\n",
       " '2025-10-24T050000',\n",
       " '2025-10-24T060000',\n",
       " '2025-10-24T070000',\n",
       " '2025-10-24T080000',\n",
       " '2025-10-24T090000',\n",
       " '2025-10-24T100000',\n",
       " '2025-10-24T110000',\n",
       " '2025-10-24T120000',\n",
       " '2025-10-24T130000',\n",
       " '2025-10-24T140000',\n",
       " '2025-10-24T150000',\n",
       " '2025-10-24T160000',\n",
       " '2025-10-24T170000',\n",
       " '2025-10-24T180000',\n",
       " '2025-10-24T190000',\n",
       " '2025-10-24T200000',\n",
       " '2025-10-24T210000',\n",
       " '2025-10-24T220000',\n",
       " '2025-10-24T230000']"
      ]
     },
     "execution_count": 5,
     "metadata": {},
     "output_type": "execute_result"
    }
   ],
   "source": [
    "from datetime import datetime\n",
    "import pandas as pd\n",
    "B = datetime.strptime(dt, \"%Y-%m-%dT%H0000\")\n",
    "A = datetime.strptime(already_processed_ts[-2], \"%Y-%m-%dT%H0000\")\n",
    "need_process_ts =  pd.date_range(A, B, freq='h').strftime('%Y-%m-%dT%H0000').tolist()\n",
    "need_process_ts"
   ]
  },
  {
   "cell_type": "code",
   "execution_count": 6,
   "id": "835ac23c",
   "metadata": {
    "execution": {
     "iopub.execute_input": "2025-10-25T01:49:29.092677Z",
     "iopub.status.busy": "2025-10-25T01:49:29.092394Z",
     "iopub.status.idle": "2025-10-25T01:51:48.003677Z",
     "shell.execute_reply": "2025-10-25T01:51:48.002651Z"
    },
    "papermill": {
     "duration": 138.915239,
     "end_time": "2025-10-25T01:51:48.004340",
     "exception": false,
     "start_time": "2025-10-25T01:49:29.089101",
     "status": "completed"
    },
    "tags": []
   },
   "outputs": [
    {
     "name": "stderr",
     "output_type": "stream",
     "text": [
      "\r",
      "  0%|          | 0/2159 [00:00<?, ?it/s]"
     ]
    },
    {
     "name": "stderr",
     "output_type": "stream",
     "text": [
      "\r",
      " 99%|█████████▉| 2143/2159 [00:09<00:00, 216.90it/s]"
     ]
    },
    {
     "name": "stdout",
     "output_type": "stream",
     "text": [
      "Done dt=2025-10-23/2025-10-23T230000.parquet\n"
     ]
    },
    {
     "name": "stdout",
     "output_type": "stream",
     "text": [
      "Done dt=2025-10-24/2025-10-24T000000.parquet\n"
     ]
    },
    {
     "name": "stderr",
     "output_type": "stream",
     "text": [
      "\r",
      " 99%|█████████▉| 2143/2159 [00:19<00:00, 216.90it/s]"
     ]
    },
    {
     "name": "stderr",
     "output_type": "stream",
     "text": [
      "\r",
      " 99%|█████████▉| 2145/2159 [00:26<00:00, 63.02it/s] "
     ]
    },
    {
     "name": "stdout",
     "output_type": "stream",
     "text": [
      "Done dt=2025-10-24/2025-10-24T010000.parquet\n"
     ]
    },
    {
     "name": "stderr",
     "output_type": "stream",
     "text": [
      "\r",
      " 99%|█████████▉| 2146/2159 [00:35<00:00, 40.98it/s]"
     ]
    },
    {
     "name": "stdout",
     "output_type": "stream",
     "text": [
      "Done dt=2025-10-24/2025-10-24T020000.parquet\n"
     ]
    },
    {
     "name": "stdout",
     "output_type": "stream",
     "text": [
      "Done dt=2025-10-24/2025-10-24T030000.parquet\n"
     ]
    },
    {
     "name": "stderr",
     "output_type": "stream",
     "text": [
      "\r",
      " 99%|█████████▉| 2146/2159 [00:50<00:00, 40.98it/s]"
     ]
    },
    {
     "name": "stderr",
     "output_type": "stream",
     "text": [
      "\r",
      " 99%|█████████▉| 2148/2159 [00:51<00:00, 21.67it/s]"
     ]
    },
    {
     "name": "stdout",
     "output_type": "stream",
     "text": [
      "Done dt=2025-10-24/2025-10-24T040000.parquet\n"
     ]
    },
    {
     "name": "stderr",
     "output_type": "stream",
     "text": [
      "\r",
      "100%|█████████▉| 2149/2159 [00:59<00:00, 16.52it/s]"
     ]
    },
    {
     "name": "stdout",
     "output_type": "stream",
     "text": [
      "Done dt=2025-10-24/2025-10-24T050000.parquet\n"
     ]
    },
    {
     "name": "stdout",
     "output_type": "stream",
     "text": [
      "Done dt=2025-10-24/2025-10-24T060000.parquet\n"
     ]
    },
    {
     "name": "stderr",
     "output_type": "stream",
     "text": [
      "\r",
      "100%|█████████▉| 2149/2159 [01:10<00:00, 16.52it/s]"
     ]
    },
    {
     "name": "stderr",
     "output_type": "stream",
     "text": [
      "\r",
      "100%|█████████▉| 2151/2159 [01:16<00:00,  9.29it/s]"
     ]
    },
    {
     "name": "stdout",
     "output_type": "stream",
     "text": [
      "Done dt=2025-10-24/2025-10-24T070000.parquet\n"
     ]
    },
    {
     "name": "stderr",
     "output_type": "stream",
     "text": [
      "\r",
      "100%|█████████▉| 2152/2159 [01:24<00:00,  7.21it/s]"
     ]
    },
    {
     "name": "stdout",
     "output_type": "stream",
     "text": [
      "Done dt=2025-10-24/2025-10-24T080000.parquet\n"
     ]
    },
    {
     "name": "stdout",
     "output_type": "stream",
     "text": [
      "Done dt=2025-10-24/2025-10-24T090000.parquet\n"
     ]
    },
    {
     "name": "stderr",
     "output_type": "stream",
     "text": [
      "\r",
      "100%|█████████▉| 2152/2159 [01:40<00:00,  7.21it/s]"
     ]
    },
    {
     "name": "stderr",
     "output_type": "stream",
     "text": [
      "\r",
      "100%|█████████▉| 2154/2159 [01:40<00:01,  4.42it/s]"
     ]
    },
    {
     "name": "stdout",
     "output_type": "stream",
     "text": [
      "Done dt=2025-10-24/2025-10-24T100000.parquet\n"
     ]
    },
    {
     "name": "stderr",
     "output_type": "stream",
     "text": [
      "\r",
      "100%|█████████▉| 2155/2159 [01:48<00:01,  3.48it/s]"
     ]
    },
    {
     "name": "stdout",
     "output_type": "stream",
     "text": [
      "Done dt=2025-10-24/2025-10-24T110000.parquet\n"
     ]
    },
    {
     "name": "stdout",
     "output_type": "stream",
     "text": [
      "Done dt=2025-10-24/2025-10-24T120000.parquet\n"
     ]
    },
    {
     "name": "stderr",
     "output_type": "stream",
     "text": [
      "\r",
      "100%|█████████▉| 2155/2159 [02:00<00:01,  3.48it/s]"
     ]
    },
    {
     "name": "stderr",
     "output_type": "stream",
     "text": [
      "\r",
      "100%|█████████▉| 2157/2159 [02:03<00:00,  2.26it/s]"
     ]
    },
    {
     "name": "stdout",
     "output_type": "stream",
     "text": [
      "Done dt=2025-10-24/2025-10-24T130000.parquet\n"
     ]
    },
    {
     "name": "stderr",
     "output_type": "stream",
     "text": [
      "\r",
      "100%|█████████▉| 2158/2159 [02:11<00:00,  1.81it/s]"
     ]
    },
    {
     "name": "stdout",
     "output_type": "stream",
     "text": [
      "Done dt=2025-10-24/2025-10-24T140000.parquet\n"
     ]
    },
    {
     "name": "stderr",
     "output_type": "stream",
     "text": [
      "\r",
      "100%|██████████| 2159/2159 [02:18<00:00, 15.56it/s]"
     ]
    },
    {
     "name": "stdout",
     "output_type": "stream",
     "text": [
      "Done dt=2025-10-24/2025-10-24T230000.parquet\n"
     ]
    },
    {
     "name": "stderr",
     "output_type": "stream",
     "text": [
      "\n"
     ]
    }
   ],
   "source": [
    "import polars as pl \n",
    "from tqdm import tqdm\n",
    "storage_options = {\n",
    "    \"account_name\": account_name,\n",
    "    \"account_key\":  account_key,\n",
    "}\n",
    "\n",
    "for ts, files in tqdm(groups.items()):\n",
    "    if ts not in need_process_ts:\n",
    "        continue\n",
    "    dt = ts[:10]\n",
    "    # if dt not in need_process:\n",
    "    #     continue\n",
    "    df = pl.scan_csv(f\"az://adjuststbuat/*_{ts}_*.csv.gz\", storage_options = storage_options,glob=True, has_header = True, null_values = [\"\",\"NULL\"], ignore_errors=True).select(pl.all().cast(pl.Utf8))\n",
    "    df.sink_parquet(f\"az://adjuststbuatprocessed/processing/dt={dt}/{ts}.parquet\", storage_options = storage_options, compression=\"snappy\")\n",
    "    print(f'Done dt={dt}/{ts}.parquet')\n",
    "        "
   ]
  },
  {
   "cell_type": "code",
   "execution_count": 7,
   "id": "f79adfcd",
   "metadata": {
    "execution": {
     "iopub.execute_input": "2025-10-25T01:51:48.012920Z",
     "iopub.status.busy": "2025-10-25T01:51:48.012716Z",
     "iopub.status.idle": "2025-10-25T01:51:48.016800Z",
     "shell.execute_reply": "2025-10-25T01:51:48.016123Z"
    },
    "papermill": {
     "duration": 0.009121,
     "end_time": "2025-10-25T01:51:48.017471",
     "exception": false,
     "start_time": "2025-10-25T01:51:48.008350",
     "status": "completed"
    },
    "tags": []
   },
   "outputs": [
    {
     "data": {
      "text/plain": [
       "{'2025-10-23', '2025-10-24'}"
      ]
     },
     "execution_count": 7,
     "metadata": {},
     "output_type": "execute_result"
    }
   ],
   "source": [
    "need_process = set([i.split(\"T\")[0] for i in need_process_ts])\n",
    "need_process"
   ]
  },
  {
   "cell_type": "code",
   "execution_count": 8,
   "id": "a046002d",
   "metadata": {
    "execution": {
     "iopub.execute_input": "2025-10-25T01:51:48.025628Z",
     "iopub.status.busy": "2025-10-25T01:51:48.025471Z",
     "iopub.status.idle": "2025-10-25T01:51:56.853420Z",
     "shell.execute_reply": "2025-10-25T01:51:56.852492Z"
    },
    "papermill": {
     "duration": 8.832846,
     "end_time": "2025-10-25T01:51:56.854004",
     "exception": false,
     "start_time": "2025-10-25T01:51:48.021158",
     "status": "completed"
    },
    "tags": []
   },
   "outputs": [
    {
     "name": "stdout",
     "output_type": "stream",
     "text": [
      "\n",
      " Done 2025-10-24\n",
      "\n"
     ]
    },
    {
     "name": "stdout",
     "output_type": "stream",
     "text": [
      "\n",
      " Done 2025-10-23\n",
      "\n"
     ]
    }
   ],
   "source": [
    "for dt in need_process:\n",
    "  df = pl.scan_parquet(f\"az://adjuststbuatprocessed/processing/dt={dt}/*.parquet\", storage_options=storage_options,glob=True).with_columns(pl.lit(dt).alias(\"dt\"))\n",
    "  df.sink_parquet(f\"az://adjuststbuatprocessed/output/{dt}.parquet\", storage_options=storage_options, compression=\"snappy\")\n",
    "  print(f'\\n Done {dt}\\n')"
   ]
  },
  {
   "cell_type": "markdown",
   "id": "04ba7a88",
   "metadata": {
    "id": "2TvKr29qyJd_",
    "papermill": {
     "duration": 0.005453,
     "end_time": "2025-10-25T01:51:56.863568",
     "exception": false,
     "start_time": "2025-10-25T01:51:56.858115",
     "status": "completed"
    },
    "tags": []
   },
   "source": [
    "# Live"
   ]
  },
  {
   "cell_type": "code",
   "execution_count": 9,
   "id": "337f655c",
   "metadata": {
    "execution": {
     "iopub.execute_input": "2025-10-25T01:51:56.872165Z",
     "iopub.status.busy": "2025-10-25T01:51:56.871984Z",
     "iopub.status.idle": "2025-10-25T01:52:01.077670Z",
     "shell.execute_reply": "2025-10-25T01:52:01.076941Z"
    },
    "id": "EnaFsdZFxpwc",
    "papermill": {
     "duration": 4.211072,
     "end_time": "2025-10-25T01:52:01.078408",
     "exception": false,
     "start_time": "2025-10-25T01:51:56.867336",
     "status": "completed"
    },
    "tags": []
   },
   "outputs": [
    {
     "data": {
      "text/plain": [
       "['2025-10-23T200000',\n",
       " '2025-10-23T210000',\n",
       " '2025-10-23T220000',\n",
       " '2025-10-23T230000',\n",
       " '2025-10-24T000000']"
      ]
     },
     "execution_count": 9,
     "metadata": {},
     "output_type": "execute_result"
    }
   ],
   "source": [
    "# already_processed = [file.name.split('/')[-1].split('.')[0] for file in container_client.list_blobs() if file.name[:12] == 'live/output/']\n",
    "# already_processed[-5:]\n",
    "already_processed_ts = sorted([file.name.split('/')[-1].split(\".\")[0] for file in container_client.list_blobs() if (file.name.split('/')[0] + \"/\" + file.name.split('/')[1]) == 'live/processing'])\n",
    "already_processed_ts[-5:]"
   ]
  },
  {
   "cell_type": "code",
   "execution_count": 10,
   "id": "b25ad28b",
   "metadata": {
    "execution": {
     "iopub.execute_input": "2025-10-25T01:52:01.087534Z",
     "iopub.status.busy": "2025-10-25T01:52:01.087335Z",
     "iopub.status.idle": "2025-10-25T01:52:13.373930Z",
     "shell.execute_reply": "2025-10-25T01:52:13.373103Z"
    },
    "id": "I7Er6YEUyOsL",
    "papermill": {
     "duration": 12.291937,
     "end_time": "2025-10-25T01:52:13.374542",
     "exception": false,
     "start_time": "2025-10-25T01:52:01.082605",
     "status": "completed"
    },
    "tags": []
   },
   "outputs": [
    {
     "data": {
      "text/plain": [
       "['65n1fgov4zr4_2025-10-25T000000_762c775ae454d23f2c6b6a75623d14c7_2853a0.csv.gz',\n",
       " '65n1fgov4zr4_2025-10-25T000000_762c775ae454d23f2c6b6a75623d14c7_2853a1.csv.gz',\n",
       " '65n1fgov4zr4_2025-10-25T000000_762c775ae454d23f2c6b6a75623d14c7_be8220.csv.gz',\n",
       " '65n1fgov4zr4_2025-10-25T000000_762c775ae454d23f2c6b6a75623d14c7_be8221.csv.gz',\n",
       " '65n1fgov4zr4_2025-10-25T000000_762c775ae454d23f2c6b6a75623d14c7_c35750.csv.gz',\n",
       " '65n1fgov4zr4_2025-10-25T000000_762c775ae454d23f2c6b6a75623d14c7_c35751.csv.gz']"
      ]
     },
     "execution_count": 10,
     "metadata": {},
     "output_type": "execute_result"
    }
   ],
   "source": [
    "container_name_uat = \"adjuststblive\"\n",
    "container_client_uat = blob_service_client.get_container_client(container_name_uat)\n",
    "from collections import defaultdict\n",
    "files = [i.name for i in container_client_uat.list_blobs()]\n",
    "groups = defaultdict(list)\n",
    "for f in files:\n",
    "    dt = f.split('_')[1]\n",
    "    groups[dt].append(f)\n",
    "groups[dt]"
   ]
  },
  {
   "cell_type": "code",
   "execution_count": 11,
   "id": "56e2da06",
   "metadata": {
    "execution": {
     "iopub.execute_input": "2025-10-25T01:52:13.384118Z",
     "iopub.status.busy": "2025-10-25T01:52:13.383810Z",
     "iopub.status.idle": "2025-10-25T01:52:13.389237Z",
     "shell.execute_reply": "2025-10-25T01:52:13.388389Z"
    },
    "papermill": {
     "duration": 0.010983,
     "end_time": "2025-10-25T01:52:13.389942",
     "exception": false,
     "start_time": "2025-10-25T01:52:13.378959",
     "status": "completed"
    },
    "tags": []
   },
   "outputs": [
    {
     "data": {
      "text/plain": [
       "['2025-10-24T000000',\n",
       " '2025-10-24T010000',\n",
       " '2025-10-24T020000',\n",
       " '2025-10-24T030000',\n",
       " '2025-10-24T040000',\n",
       " '2025-10-24T050000',\n",
       " '2025-10-24T060000',\n",
       " '2025-10-24T070000',\n",
       " '2025-10-24T080000',\n",
       " '2025-10-24T090000',\n",
       " '2025-10-24T100000',\n",
       " '2025-10-24T110000',\n",
       " '2025-10-24T120000',\n",
       " '2025-10-24T130000',\n",
       " '2025-10-24T140000',\n",
       " '2025-10-24T150000',\n",
       " '2025-10-24T160000',\n",
       " '2025-10-24T170000',\n",
       " '2025-10-24T180000',\n",
       " '2025-10-24T190000',\n",
       " '2025-10-24T200000',\n",
       " '2025-10-24T210000',\n",
       " '2025-10-24T220000',\n",
       " '2025-10-24T230000',\n",
       " '2025-10-25T000000']"
      ]
     },
     "execution_count": 11,
     "metadata": {},
     "output_type": "execute_result"
    }
   ],
   "source": [
    "# need_process = pd.date_range(start=already_processed[-1], end=today).strftime('%Y-%m-%d').to_list()\n",
    "# need_process\n",
    "\n",
    "B = datetime.strptime(dt, \"%Y-%m-%dT%H0000\")\n",
    "A = datetime.strptime(already_processed_ts[-1], \"%Y-%m-%dT%H0000\")\n",
    "need_process_ts =  pd.date_range(A, B, freq='h').strftime('%Y-%m-%dT%H0000').tolist()\n",
    "need_process_ts"
   ]
  },
  {
   "cell_type": "code",
   "execution_count": 12,
   "id": "dad17726",
   "metadata": {
    "execution": {
     "iopub.execute_input": "2025-10-25T01:52:13.403218Z",
     "iopub.status.busy": "2025-10-25T01:52:13.403051Z",
     "iopub.status.idle": "2025-10-25T02:00:13.323698Z",
     "shell.execute_reply": "2025-10-25T02:00:13.322784Z"
    },
    "id": "g-W3s2nRyRY7",
    "papermill": {
     "duration": 479.931486,
     "end_time": "2025-10-25T02:00:13.329469",
     "exception": false,
     "start_time": "2025-10-25T01:52:13.397983",
     "status": "completed"
    },
    "tags": []
   },
   "outputs": [
    {
     "name": "stderr",
     "output_type": "stream",
     "text": [
      "\r",
      "  0%|          | 0/2223 [00:00<?, ?it/s]"
     ]
    },
    {
     "name": "stderr",
     "output_type": "stream",
     "text": [
      "\r",
      " 99%|█████████▉| 2199/2223 [00:23<00:00, 93.70it/s]"
     ]
    },
    {
     "name": "stdout",
     "output_type": "stream",
     "text": [
      "Done dt=2025-10-24/2025-10-24T000000.parquet\n"
     ]
    },
    {
     "name": "stderr",
     "output_type": "stream",
     "text": [
      "\r",
      " 99%|█████████▉| 2199/2223 [00:35<00:00, 93.70it/s]"
     ]
    },
    {
     "name": "stderr",
     "output_type": "stream",
     "text": [
      "\r",
      " 99%|█████████▉| 2200/2223 [00:43<00:00, 42.33it/s]"
     ]
    },
    {
     "name": "stdout",
     "output_type": "stream",
     "text": [
      "Done dt=2025-10-24/2025-10-24T010000.parquet\n"
     ]
    },
    {
     "name": "stderr",
     "output_type": "stream",
     "text": [
      "\r",
      " 99%|█████████▉| 2201/2223 [01:04<00:00, 23.17it/s]"
     ]
    },
    {
     "name": "stdout",
     "output_type": "stream",
     "text": [
      "Done dt=2025-10-24/2025-10-24T020000.parquet\n"
     ]
    },
    {
     "name": "stderr",
     "output_type": "stream",
     "text": [
      "\r",
      " 99%|█████████▉| 2202/2223 [01:26<00:01, 13.80it/s]"
     ]
    },
    {
     "name": "stdout",
     "output_type": "stream",
     "text": [
      "Done dt=2025-10-24/2025-10-24T030000.parquet\n"
     ]
    },
    {
     "name": "stderr",
     "output_type": "stream",
     "text": [
      "\r",
      " 99%|█████████▉| 2203/2223 [01:50<00:02,  8.48it/s]"
     ]
    },
    {
     "name": "stdout",
     "output_type": "stream",
     "text": [
      "Done dt=2025-10-24/2025-10-24T040000.parquet\n"
     ]
    },
    {
     "name": "stderr",
     "output_type": "stream",
     "text": [
      "\r",
      " 99%|█████████▉| 2204/2223 [02:16<00:03,  5.38it/s]"
     ]
    },
    {
     "name": "stdout",
     "output_type": "stream",
     "text": [
      "Done dt=2025-10-24/2025-10-24T050000.parquet\n"
     ]
    },
    {
     "name": "stderr",
     "output_type": "stream",
     "text": [
      "\r",
      " 99%|█████████▉| 2205/2223 [02:40<00:05,  3.59it/s]"
     ]
    },
    {
     "name": "stdout",
     "output_type": "stream",
     "text": [
      "Done dt=2025-10-24/2025-10-24T060000.parquet\n"
     ]
    },
    {
     "name": "stderr",
     "output_type": "stream",
     "text": [
      "\r",
      " 99%|█████████▉| 2206/2223 [03:02<00:06,  2.52it/s]"
     ]
    },
    {
     "name": "stdout",
     "output_type": "stream",
     "text": [
      "Done dt=2025-10-24/2025-10-24T070000.parquet\n"
     ]
    },
    {
     "name": "stderr",
     "output_type": "stream",
     "text": [
      "\r",
      " 99%|█████████▉| 2207/2223 [03:24<00:08,  1.79it/s]"
     ]
    },
    {
     "name": "stdout",
     "output_type": "stream",
     "text": [
      "Done dt=2025-10-24/2025-10-24T080000.parquet\n"
     ]
    },
    {
     "name": "stderr",
     "output_type": "stream",
     "text": [
      "\r",
      " 99%|█████████▉| 2208/2223 [03:46<00:11,  1.26it/s]"
     ]
    },
    {
     "name": "stdout",
     "output_type": "stream",
     "text": [
      "Done dt=2025-10-24/2025-10-24T090000.parquet\n"
     ]
    },
    {
     "name": "stderr",
     "output_type": "stream",
     "text": [
      "\r",
      " 99%|█████████▉| 2209/2223 [04:09<00:15,  1.13s/it]"
     ]
    },
    {
     "name": "stdout",
     "output_type": "stream",
     "text": [
      "Done dt=2025-10-24/2025-10-24T100000.parquet\n"
     ]
    },
    {
     "name": "stderr",
     "output_type": "stream",
     "text": [
      "\r",
      " 99%|█████████▉| 2210/2223 [04:31<00:20,  1.59s/it]"
     ]
    },
    {
     "name": "stdout",
     "output_type": "stream",
     "text": [
      "Done dt=2025-10-24/2025-10-24T110000.parquet\n"
     ]
    },
    {
     "name": "stderr",
     "output_type": "stream",
     "text": [
      "\r",
      " 99%|█████████▉| 2211/2223 [04:53<00:26,  2.17s/it]"
     ]
    },
    {
     "name": "stdout",
     "output_type": "stream",
     "text": [
      "Done dt=2025-10-24/2025-10-24T120000.parquet\n"
     ]
    },
    {
     "name": "stderr",
     "output_type": "stream",
     "text": [
      "\r",
      "100%|█████████▉| 2212/2223 [05:14<00:32,  2.94s/it]"
     ]
    },
    {
     "name": "stdout",
     "output_type": "stream",
     "text": [
      "Done dt=2025-10-24/2025-10-24T130000.parquet\n"
     ]
    },
    {
     "name": "stderr",
     "output_type": "stream",
     "text": [
      "\r",
      "100%|█████████▉| 2213/2223 [05:33<00:38,  3.84s/it]"
     ]
    },
    {
     "name": "stdout",
     "output_type": "stream",
     "text": [
      "Done dt=2025-10-24/2025-10-24T140000.parquet\n"
     ]
    },
    {
     "name": "stderr",
     "output_type": "stream",
     "text": [
      "\r",
      "100%|█████████▉| 2214/2223 [05:50<00:43,  4.81s/it]"
     ]
    },
    {
     "name": "stdout",
     "output_type": "stream",
     "text": [
      "Done dt=2025-10-24/2025-10-24T150000.parquet\n"
     ]
    },
    {
     "name": "stderr",
     "output_type": "stream",
     "text": [
      "\r",
      "100%|█████████▉| 2215/2223 [06:05<00:46,  5.79s/it]"
     ]
    },
    {
     "name": "stdout",
     "output_type": "stream",
     "text": [
      "Done dt=2025-10-24/2025-10-24T160000.parquet\n"
     ]
    },
    {
     "name": "stderr",
     "output_type": "stream",
     "text": [
      "\r",
      "100%|█████████▉| 2216/2223 [06:19<00:47,  6.76s/it]"
     ]
    },
    {
     "name": "stdout",
     "output_type": "stream",
     "text": [
      "Done dt=2025-10-24/2025-10-24T170000.parquet\n"
     ]
    },
    {
     "name": "stderr",
     "output_type": "stream",
     "text": [
      "\r",
      "100%|█████████▉| 2217/2223 [06:33<00:46,  7.70s/it]"
     ]
    },
    {
     "name": "stdout",
     "output_type": "stream",
     "text": [
      "Done dt=2025-10-24/2025-10-24T180000.parquet\n"
     ]
    },
    {
     "name": "stderr",
     "output_type": "stream",
     "text": [
      "\r",
      "100%|█████████▉| 2218/2223 [06:45<00:42,  8.59s/it]"
     ]
    },
    {
     "name": "stdout",
     "output_type": "stream",
     "text": [
      "Done dt=2025-10-24/2025-10-24T190000.parquet\n"
     ]
    },
    {
     "name": "stderr",
     "output_type": "stream",
     "text": [
      "\r",
      "100%|█████████▉| 2219/2223 [06:58<00:37,  9.35s/it]"
     ]
    },
    {
     "name": "stdout",
     "output_type": "stream",
     "text": [
      "Done dt=2025-10-24/2025-10-24T200000.parquet\n"
     ]
    },
    {
     "name": "stderr",
     "output_type": "stream",
     "text": [
      "\r",
      "100%|█████████▉| 2220/2223 [07:10<00:30, 10.03s/it]"
     ]
    },
    {
     "name": "stdout",
     "output_type": "stream",
     "text": [
      "Done dt=2025-10-24/2025-10-24T210000.parquet\n"
     ]
    },
    {
     "name": "stderr",
     "output_type": "stream",
     "text": [
      "\r",
      "100%|█████████▉| 2221/2223 [07:24<00:21, 10.77s/it]"
     ]
    },
    {
     "name": "stdout",
     "output_type": "stream",
     "text": [
      "Done dt=2025-10-24/2025-10-24T220000.parquet\n"
     ]
    },
    {
     "name": "stderr",
     "output_type": "stream",
     "text": [
      "\r",
      "100%|█████████▉| 2222/2223 [07:40<00:12, 12.11s/it]"
     ]
    },
    {
     "name": "stdout",
     "output_type": "stream",
     "text": [
      "Done dt=2025-10-24/2025-10-24T230000.parquet\n"
     ]
    },
    {
     "name": "stderr",
     "output_type": "stream",
     "text": [
      "\r",
      "100%|██████████| 2223/2223 [07:59<00:00, 14.17s/it]"
     ]
    },
    {
     "name": "stderr",
     "output_type": "stream",
     "text": [
      "\r",
      "100%|██████████| 2223/2223 [07:59<00:00,  4.63it/s]"
     ]
    },
    {
     "name": "stdout",
     "output_type": "stream",
     "text": [
      "Done dt=2025-10-25/2025-10-25T000000.parquet\n"
     ]
    },
    {
     "name": "stderr",
     "output_type": "stream",
     "text": [
      "\n"
     ]
    }
   ],
   "source": [
    "storage_options = {\n",
    "    \"account_name\": account_name,\n",
    "    \"account_key\":  account_key,\n",
    "}\n",
    "\n",
    "for ts, files in tqdm(groups.items()):\n",
    "    if ts not in need_process_ts: continue\n",
    "    dt = ts[:10]\n",
    "    # if dt not in need_process:\n",
    "    #     continue\n",
    "    df = pl.scan_csv(f\"az://adjuststblive/*_{ts}_*.csv.gz\", storage_options = storage_options,glob=True, has_header = True, null_values = [\"\",\"NULL\"], ignore_errors=True).select(pl.all().cast(pl.Utf8))\n",
    "    df.sink_parquet(f\"az://adjuststbuatprocessed/live/processing/dt={dt}/{ts}.parquet\", storage_options = storage_options, compression=\"snappy\")\n",
    "    print(f'Done dt={dt}/{ts}.parquet')\n",
    "        "
   ]
  },
  {
   "cell_type": "code",
   "execution_count": 13,
   "id": "41dab106",
   "metadata": {
    "execution": {
     "iopub.execute_input": "2025-10-25T02:00:13.342764Z",
     "iopub.status.busy": "2025-10-25T02:00:13.342496Z",
     "iopub.status.idle": "2025-10-25T02:00:13.346652Z",
     "shell.execute_reply": "2025-10-25T02:00:13.345866Z"
    },
    "papermill": {
     "duration": 0.011613,
     "end_time": "2025-10-25T02:00:13.347243",
     "exception": false,
     "start_time": "2025-10-25T02:00:13.335630",
     "status": "completed"
    },
    "tags": []
   },
   "outputs": [
    {
     "data": {
      "text/plain": [
       "{'2025-10-24', '2025-10-25'}"
      ]
     },
     "execution_count": 13,
     "metadata": {},
     "output_type": "execute_result"
    }
   ],
   "source": [
    "need_process = set([i.split(\"T\")[0] for i in need_process_ts])\n",
    "need_process"
   ]
  },
  {
   "cell_type": "code",
   "execution_count": 14,
   "id": "cc708245",
   "metadata": {
    "execution": {
     "iopub.execute_input": "2025-10-25T02:00:13.360183Z",
     "iopub.status.busy": "2025-10-25T02:00:13.360031Z",
     "iopub.status.idle": "2025-10-25T02:02:22.877222Z",
     "shell.execute_reply": "2025-10-25T02:02:22.876279Z"
    },
    "id": "sBm7rfFUyePJ",
    "papermill": {
     "duration": 129.530115,
     "end_time": "2025-10-25T02:02:22.883425",
     "exception": false,
     "start_time": "2025-10-25T02:00:13.353310",
     "status": "completed"
    },
    "tags": []
   },
   "outputs": [
    {
     "name": "stdout",
     "output_type": "stream",
     "text": [
      "\n",
      " Done 2025-10-24\n",
      "\n"
     ]
    },
    {
     "name": "stdout",
     "output_type": "stream",
     "text": [
      "\n",
      " Done 2025-10-25\n",
      "\n"
     ]
    }
   ],
   "source": [
    "for dt in need_process:\n",
    "  df = pl.scan_parquet(f\"az://adjuststbuatprocessed/live/processing/dt={dt}/*.parquet\", storage_options=storage_options,glob=True).with_columns(pl.lit(dt).alias(\"dt\"))\n",
    "  df.sink_parquet(f\"az://adjuststbuatprocessed/live/output/{dt}.parquet\", storage_options=storage_options, compression=\"snappy\")\n",
    "  print(f'\\n Done {dt}\\n')"
   ]
  }
 ],
 "metadata": {
  "colab": {
   "authorship_tag": "ABX9TyOfzO6uvqUX+Tt89Y73G9E8",
   "include_colab_link": true,
   "provenance": []
  },
  "kernelspec": {
   "display_name": "Python 3",
   "name": "python3"
  },
  "language_info": {
   "codemirror_mode": {
    "name": "ipython",
    "version": 3
   },
   "file_extension": ".py",
   "mimetype": "text/x-python",
   "name": "python",
   "nbconvert_exporter": "python",
   "pygments_lexer": "ipython3",
   "version": "3.11.13"
  },
  "papermill": {
   "default_parameters": {},
   "duration": 790.730514,
   "end_time": "2025-10-25T02:02:23.706977",
   "environment_variables": {},
   "exception": null,
   "input_path": "notebooks/ADJUST_JOB.ipynb",
   "output_path": "outputs/ADJUST_JOB_2025-10-25.ipynb",
   "parameters": {
    "RUN_DATE": "2025-10-25"
   },
   "start_time": "2025-10-25T01:49:12.976463",
   "version": "2.6.0"
  }
 },
 "nbformat": 4,
 "nbformat_minor": 5
}