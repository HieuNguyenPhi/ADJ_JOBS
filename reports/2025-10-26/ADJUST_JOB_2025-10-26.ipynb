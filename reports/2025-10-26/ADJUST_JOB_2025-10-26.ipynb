{
 "cells": [
  {
   "cell_type": "code",
   "execution_count": 1,
   "id": "342476a2",
   "metadata": {
    "execution": {
     "iopub.execute_input": "2025-10-26T01:57:58.807763Z",
     "iopub.status.busy": "2025-10-26T01:57:58.807529Z",
     "iopub.status.idle": "2025-10-26T01:57:58.812869Z",
     "shell.execute_reply": "2025-10-26T01:57:58.812095Z"
    },
    "papermill": {
     "duration": 0.009739,
     "end_time": "2025-10-26T01:57:58.813526",
     "exception": false,
     "start_time": "2025-10-26T01:57:58.803787",
     "status": "completed"
    },
    "tags": [
     "injected-parameters"
    ]
   },
   "outputs": [],
   "source": [
    "# Parameters\n",
    "RUN_DATE = \"2025-10-26\"\n"
   ]
  },
  {
   "cell_type": "markdown",
   "id": "dd4ab9ea",
   "metadata": {
    "colab_type": "text",
    "id": "view-in-github",
    "papermill": {
     "duration": 0.001907,
     "end_time": "2025-10-26T01:57:58.817678",
     "exception": false,
     "start_time": "2025-10-26T01:57:58.815771",
     "status": "completed"
    },
    "tags": []
   },
   "source": [
    "<a href=\"https://colab.research.google.com/github/HieuNguyenPhi/ADJ_JOBS/blob/main/notebooks/ADJUST_JOB.ipynb\" target=\"_parent\"><img src=\"https://colab.research.google.com/assets/colab-badge.svg\" alt=\"Open In Colab\"/></a>"
   ]
  },
  {
   "cell_type": "markdown",
   "id": "d372e24d",
   "metadata": {
    "papermill": {
     "duration": 0.002742,
     "end_time": "2025-10-26T01:57:58.822504",
     "exception": false,
     "start_time": "2025-10-26T01:57:58.819762",
     "status": "completed"
    },
    "tags": []
   },
   "source": [
    "# UAT"
   ]
  },
  {
   "cell_type": "code",
   "execution_count": 2,
   "id": "ca88e948",
   "metadata": {
    "execution": {
     "iopub.execute_input": "2025-10-26T01:57:58.827158Z",
     "iopub.status.busy": "2025-10-26T01:57:58.826969Z",
     "iopub.status.idle": "2025-10-26T01:58:05.057190Z",
     "shell.execute_reply": "2025-10-26T01:58:05.056350Z"
    },
    "id": "ycUR2r1dq1Nm",
    "papermill": {
     "duration": 6.233357,
     "end_time": "2025-10-26T01:58:05.057765",
     "exception": false,
     "start_time": "2025-10-26T01:57:58.824408",
     "status": "completed"
    },
    "tags": []
   },
   "outputs": [
    {
     "data": {
      "text/plain": [
       "['2025-10-24T110000',\n",
       " '2025-10-24T120000',\n",
       " '2025-10-24T130000',\n",
       " '2025-10-24T140000',\n",
       " '2025-10-24T230000']"
      ]
     },
     "execution_count": 2,
     "metadata": {},
     "output_type": "execute_result"
    }
   ],
   "source": [
    "import os\n",
    "from azure.storage.blob import BlobServiceClient\n",
    "\n",
    "account_name = os.getenv('ACCOUNT_NAME')\n",
    "account_key = os.getenv('ACCOUNT_KEY')\n",
    "# Replace with your Azure Storage account name and SAS token or connection string\n",
    "connect_str = f\"DefaultEndpointsProtocol=https;AccountName={account_name};AccountKey={account_key};EndpointSuffix=core.windows.net\"\n",
    "blob_service_client = BlobServiceClient.from_connection_string(connect_str)\n",
    "container_list = blob_service_client.list_containers()\n",
    "container_name = \"adjuststbuatprocessed\" #os.getenv('CONTAINER_NAME')\n",
    "container_client = blob_service_client.get_container_client(container_name)\n",
    "# already_processed = [file.name.split('/')[1].split('.')[0] for file in container_client.list_blobs() if file.name.split('/')[0] == 'output']\n",
    "# already_processed[-5:]\n",
    "already_processed_ts = sorted([file.name.split('/')[-1].split(\".\")[0] for file in container_client.list_blobs() if file.name.split('/')[0] == 'processing'])\n",
    "already_processed_ts[-5:]"
   ]
  },
  {
   "cell_type": "code",
   "execution_count": 3,
   "id": "73e9afe8",
   "metadata": {
    "execution": {
     "iopub.execute_input": "2025-10-26T01:58:05.063404Z",
     "iopub.status.busy": "2025-10-26T01:58:05.063103Z",
     "iopub.status.idle": "2025-10-26T01:58:13.573796Z",
     "shell.execute_reply": "2025-10-26T01:58:13.572754Z"
    },
    "id": "xyPuVC12s7fn",
    "papermill": {
     "duration": 8.514252,
     "end_time": "2025-10-26T01:58:13.574414",
     "exception": false,
     "start_time": "2025-10-26T01:58:05.060162",
     "status": "completed"
    },
    "tags": []
   },
   "outputs": [
    {
     "data": {
      "text/plain": [
       "['rsh20bkkb4zk_2025-10-25T230000_762c775ae454d23f2c6b6a75623d14c7_be8221.csv.gz']"
      ]
     },
     "execution_count": 3,
     "metadata": {},
     "output_type": "execute_result"
    }
   ],
   "source": [
    "container_name_uat = \"adjuststbuat\"\n",
    "container_client_uat = blob_service_client.get_container_client(container_name_uat)\n",
    "from collections import defaultdict\n",
    "files = [i.name for i in container_client_uat.list_blobs()]\n",
    "groups = defaultdict(list)\n",
    "for f in files:\n",
    "    dt = f.split('_')[1]\n",
    "    groups[dt].append(f)\n",
    "groups[dt]"
   ]
  },
  {
   "cell_type": "code",
   "execution_count": 4,
   "id": "08f08eec",
   "metadata": {
    "execution": {
     "iopub.execute_input": "2025-10-26T01:58:13.580272Z",
     "iopub.status.busy": "2025-10-26T01:58:13.580056Z",
     "iopub.status.idle": "2025-10-26T01:58:13.582953Z",
     "shell.execute_reply": "2025-10-26T01:58:13.582256Z"
    },
    "papermill": {
     "duration": 0.006551,
     "end_time": "2025-10-26T01:58:13.583542",
     "exception": false,
     "start_time": "2025-10-26T01:58:13.576991",
     "status": "completed"
    },
    "tags": []
   },
   "outputs": [],
   "source": [
    "# from datetime import date, timedelta, datetime\n",
    "# import pandas as pd\n",
    "# today = date.today().strftime('%Y-%m-%d')\n",
    "# yesterday = (date.today() - timedelta(days = 1) ).strftime('%Y-%m-%d')\n",
    "# check_date = dt.split(\"T\")[0]\n",
    "# if check_date == today:\n",
    "#     need_process = pd.date_range(start=already_processed[-1], end=today).strftime('%Y-%m-%d').to_list()\n",
    "# else:\n",
    "#     need_process = pd.date_range(start=already_processed[-1], end=yesterday).strftime('%Y-%m-%d').to_list()\n",
    "# need_process"
   ]
  },
  {
   "cell_type": "code",
   "execution_count": 5,
   "id": "1e75a2fb",
   "metadata": {
    "execution": {
     "iopub.execute_input": "2025-10-26T01:58:13.588636Z",
     "iopub.status.busy": "2025-10-26T01:58:13.588482Z",
     "iopub.status.idle": "2025-10-26T01:58:13.911443Z",
     "shell.execute_reply": "2025-10-26T01:58:13.910643Z"
    },
    "papermill": {
     "duration": 0.326314,
     "end_time": "2025-10-26T01:58:13.912055",
     "exception": false,
     "start_time": "2025-10-26T01:58:13.585741",
     "status": "completed"
    },
    "tags": []
   },
   "outputs": [
    {
     "data": {
      "text/plain": [
       "['2025-10-24T140000',\n",
       " '2025-10-24T150000',\n",
       " '2025-10-24T160000',\n",
       " '2025-10-24T170000',\n",
       " '2025-10-24T180000',\n",
       " '2025-10-24T190000',\n",
       " '2025-10-24T200000',\n",
       " '2025-10-24T210000',\n",
       " '2025-10-24T220000',\n",
       " '2025-10-24T230000',\n",
       " '2025-10-25T000000',\n",
       " '2025-10-25T010000',\n",
       " '2025-10-25T020000',\n",
       " '2025-10-25T030000',\n",
       " '2025-10-25T040000',\n",
       " '2025-10-25T050000',\n",
       " '2025-10-25T060000',\n",
       " '2025-10-25T070000',\n",
       " '2025-10-25T080000',\n",
       " '2025-10-25T090000',\n",
       " '2025-10-25T100000',\n",
       " '2025-10-25T110000',\n",
       " '2025-10-25T120000',\n",
       " '2025-10-25T130000',\n",
       " '2025-10-25T140000',\n",
       " '2025-10-25T150000',\n",
       " '2025-10-25T160000',\n",
       " '2025-10-25T170000',\n",
       " '2025-10-25T180000',\n",
       " '2025-10-25T190000',\n",
       " '2025-10-25T200000',\n",
       " '2025-10-25T210000',\n",
       " '2025-10-25T220000',\n",
       " '2025-10-25T230000']"
      ]
     },
     "execution_count": 5,
     "metadata": {},
     "output_type": "execute_result"
    }
   ],
   "source": [
    "from datetime import datetime\n",
    "import pandas as pd\n",
    "B = datetime.strptime(dt, \"%Y-%m-%dT%H0000\")\n",
    "A = datetime.strptime(already_processed_ts[-2], \"%Y-%m-%dT%H0000\")\n",
    "need_process_ts =  pd.date_range(A, B, freq='h').strftime('%Y-%m-%dT%H0000').tolist()\n",
    "need_process_ts"
   ]
  },
  {
   "cell_type": "code",
   "execution_count": 6,
   "id": "d94dccad",
   "metadata": {
    "execution": {
     "iopub.execute_input": "2025-10-26T01:58:13.918297Z",
     "iopub.status.busy": "2025-10-26T01:58:13.917962Z",
     "iopub.status.idle": "2025-10-26T02:00:45.582864Z",
     "shell.execute_reply": "2025-10-26T02:00:45.582124Z"
    },
    "papermill": {
     "duration": 151.668915,
     "end_time": "2025-10-26T02:00:45.583634",
     "exception": false,
     "start_time": "2025-10-26T01:58:13.914719",
     "status": "completed"
    },
    "tags": []
   },
   "outputs": [
    {
     "name": "stderr",
     "output_type": "stream",
     "text": [
      "\r",
      "  0%|          | 0/2176 [00:00<?, ?it/s]"
     ]
    },
    {
     "name": "stderr",
     "output_type": "stream",
     "text": [
      "\r",
      " 99%|█████████▉| 2158/2176 [00:09<00:00, 221.87it/s]"
     ]
    },
    {
     "name": "stdout",
     "output_type": "stream",
     "text": [
      "Done dt=2025-10-24/2025-10-24T140000.parquet\n"
     ]
    },
    {
     "name": "stdout",
     "output_type": "stream",
     "text": [
      "Done dt=2025-10-24/2025-10-24T230000.parquet\n"
     ]
    },
    {
     "name": "stderr",
     "output_type": "stream",
     "text": [
      "\r",
      " 99%|█████████▉| 2158/2176 [00:19<00:00, 221.87it/s]"
     ]
    },
    {
     "name": "stderr",
     "output_type": "stream",
     "text": [
      "\r",
      " 99%|█████████▉| 2160/2176 [00:24<00:00, 69.96it/s] "
     ]
    },
    {
     "name": "stdout",
     "output_type": "stream",
     "text": [
      "Done dt=2025-10-25/2025-10-25T010000.parquet\n"
     ]
    },
    {
     "name": "stderr",
     "output_type": "stream",
     "text": [
      "\r",
      " 99%|█████████▉| 2161/2176 [00:33<00:00, 44.57it/s]"
     ]
    },
    {
     "name": "stdout",
     "output_type": "stream",
     "text": [
      "Done dt=2025-10-25/2025-10-25T020000.parquet\n"
     ]
    },
    {
     "name": "stdout",
     "output_type": "stream",
     "text": [
      "Done dt=2025-10-25/2025-10-25T030000.parquet\n"
     ]
    },
    {
     "name": "stdout",
     "output_type": "stream",
     "text": [
      "Done dt=2025-10-25/2025-10-25T040000.parquet\n"
     ]
    },
    {
     "name": "stderr",
     "output_type": "stream",
     "text": [
      "\r",
      " 99%|█████████▉| 2161/2176 [00:50<00:00, 44.57it/s]"
     ]
    },
    {
     "name": "stderr",
     "output_type": "stream",
     "text": [
      "\r",
      " 99%|█████████▉| 2164/2176 [00:58<00:00, 17.63it/s]"
     ]
    },
    {
     "name": "stdout",
     "output_type": "stream",
     "text": [
      "Done dt=2025-10-25/2025-10-25T050000.parquet\n"
     ]
    },
    {
     "name": "stderr",
     "output_type": "stream",
     "text": [
      "\r",
      " 99%|█████████▉| 2165/2176 [01:06<00:00, 13.89it/s]"
     ]
    },
    {
     "name": "stdout",
     "output_type": "stream",
     "text": [
      "Done dt=2025-10-25/2025-10-25T060000.parquet\n"
     ]
    },
    {
     "name": "stdout",
     "output_type": "stream",
     "text": [
      "Done dt=2025-10-25/2025-10-25T070000.parquet\n"
     ]
    },
    {
     "name": "stderr",
     "output_type": "stream",
     "text": [
      "\r",
      " 99%|█████████▉| 2165/2176 [01:20<00:00, 13.89it/s]"
     ]
    },
    {
     "name": "stderr",
     "output_type": "stream",
     "text": [
      "\r",
      "100%|█████████▉| 2167/2176 [01:22<00:01,  8.66it/s]"
     ]
    },
    {
     "name": "stdout",
     "output_type": "stream",
     "text": [
      "Done dt=2025-10-25/2025-10-25T080000.parquet\n"
     ]
    },
    {
     "name": "stderr",
     "output_type": "stream",
     "text": [
      "\r",
      "100%|█████████▉| 2168/2176 [01:30<00:01,  6.85it/s]"
     ]
    },
    {
     "name": "stdout",
     "output_type": "stream",
     "text": [
      "Done dt=2025-10-25/2025-10-25T090000.parquet\n"
     ]
    },
    {
     "name": "stdout",
     "output_type": "stream",
     "text": [
      "Done dt=2025-10-25/2025-10-25T100000.parquet\n"
     ]
    },
    {
     "name": "stdout",
     "output_type": "stream",
     "text": [
      "Done dt=2025-10-25/2025-10-25T110000.parquet\n"
     ]
    },
    {
     "name": "stderr",
     "output_type": "stream",
     "text": [
      "\r",
      "100%|█████████▉| 2168/2176 [01:50<00:01,  6.85it/s]"
     ]
    },
    {
     "name": "stderr",
     "output_type": "stream",
     "text": [
      "\r",
      "100%|█████████▉| 2171/2176 [01:54<00:01,  3.69it/s]"
     ]
    },
    {
     "name": "stdout",
     "output_type": "stream",
     "text": [
      "Done dt=2025-10-25/2025-10-25T120000.parquet\n"
     ]
    },
    {
     "name": "stderr",
     "output_type": "stream",
     "text": [
      "\r",
      "100%|█████████▉| 2172/2176 [02:01<00:01,  3.06it/s]"
     ]
    },
    {
     "name": "stdout",
     "output_type": "stream",
     "text": [
      "Done dt=2025-10-25/2025-10-25T130000.parquet\n"
     ]
    },
    {
     "name": "stdout",
     "output_type": "stream",
     "text": [
      "Done dt=2025-10-25/2025-10-25T150000.parquet\n"
     ]
    },
    {
     "name": "stderr",
     "output_type": "stream",
     "text": [
      "\r",
      "100%|█████████▉| 2174/2176 [02:16<00:00,  2.08it/s]"
     ]
    },
    {
     "name": "stdout",
     "output_type": "stream",
     "text": [
      "Done dt=2025-10-25/2025-10-25T160000.parquet\n"
     ]
    },
    {
     "name": "stderr",
     "output_type": "stream",
     "text": [
      "\r",
      "100%|█████████▉| 2175/2176 [02:24<00:00,  1.71it/s]"
     ]
    },
    {
     "name": "stdout",
     "output_type": "stream",
     "text": [
      "Done dt=2025-10-25/2025-10-25T170000.parquet\n"
     ]
    },
    {
     "name": "stderr",
     "output_type": "stream",
     "text": [
      "\r",
      "100%|██████████| 2176/2176 [02:31<00:00, 14.35it/s]"
     ]
    },
    {
     "name": "stdout",
     "output_type": "stream",
     "text": [
      "Done dt=2025-10-25/2025-10-25T230000.parquet\n"
     ]
    },
    {
     "name": "stderr",
     "output_type": "stream",
     "text": [
      "\n"
     ]
    }
   ],
   "source": [
    "import polars as pl \n",
    "from tqdm import tqdm\n",
    "storage_options = {\n",
    "    \"account_name\": account_name,\n",
    "    \"account_key\":  account_key,\n",
    "}\n",
    "\n",
    "for ts, files in tqdm(groups.items()):\n",
    "    if ts not in need_process_ts:\n",
    "        continue\n",
    "    dt = ts[:10]\n",
    "    # if dt not in need_process:\n",
    "    #     continue\n",
    "    df = pl.scan_csv(f\"az://adjuststbuat/*_{ts}_*.csv.gz\", storage_options = storage_options,glob=True, has_header = True, null_values = [\"\",\"NULL\"], ignore_errors=True).select(pl.all().cast(pl.Utf8))\n",
    "    df.sink_parquet(f\"az://adjuststbuatprocessed/processing/dt={dt}/{ts}.parquet\", storage_options = storage_options, compression=\"snappy\")\n",
    "    print(f'Done dt={dt}/{ts}.parquet')\n",
    "        "
   ]
  },
  {
   "cell_type": "code",
   "execution_count": 7,
   "id": "462c6e89",
   "metadata": {
    "execution": {
     "iopub.execute_input": "2025-10-26T02:00:45.592672Z",
     "iopub.status.busy": "2025-10-26T02:00:45.592450Z",
     "iopub.status.idle": "2025-10-26T02:00:45.596806Z",
     "shell.execute_reply": "2025-10-26T02:00:45.595981Z"
    },
    "papermill": {
     "duration": 0.009666,
     "end_time": "2025-10-26T02:00:45.597334",
     "exception": false,
     "start_time": "2025-10-26T02:00:45.587668",
     "status": "completed"
    },
    "tags": []
   },
   "outputs": [
    {
     "data": {
      "text/plain": [
       "{'2025-10-24', '2025-10-25'}"
      ]
     },
     "execution_count": 7,
     "metadata": {},
     "output_type": "execute_result"
    }
   ],
   "source": [
    "need_process = set([i.split(\"T\")[0] for i in need_process_ts])\n",
    "need_process"
   ]
  },
  {
   "cell_type": "code",
   "execution_count": 8,
   "id": "df40fc76",
   "metadata": {
    "execution": {
     "iopub.execute_input": "2025-10-26T02:00:45.605673Z",
     "iopub.status.busy": "2025-10-26T02:00:45.605506Z",
     "iopub.status.idle": "2025-10-26T02:00:53.445346Z",
     "shell.execute_reply": "2025-10-26T02:00:53.444487Z"
    },
    "papermill": {
     "duration": 7.844776,
     "end_time": "2025-10-26T02:00:53.445898",
     "exception": false,
     "start_time": "2025-10-26T02:00:45.601122",
     "status": "completed"
    },
    "tags": []
   },
   "outputs": [
    {
     "name": "stdout",
     "output_type": "stream",
     "text": [
      "\n",
      " Done 2025-10-24\n",
      "\n"
     ]
    },
    {
     "name": "stdout",
     "output_type": "stream",
     "text": [
      "\n",
      " Done 2025-10-25\n",
      "\n"
     ]
    }
   ],
   "source": [
    "for dt in need_process:\n",
    "  df = pl.scan_parquet(f\"az://adjuststbuatprocessed/processing/dt={dt}/*.parquet\", storage_options=storage_options,glob=True).with_columns(pl.lit(dt).alias(\"dt\"))\n",
    "  df.sink_parquet(f\"az://adjuststbuatprocessed/output/{dt}.parquet\", storage_options=storage_options, compression=\"snappy\")\n",
    "  print(f'\\n Done {dt}\\n')"
   ]
  },
  {
   "cell_type": "markdown",
   "id": "9f6ddef1",
   "metadata": {
    "id": "2TvKr29qyJd_",
    "papermill": {
     "duration": 0.003833,
     "end_time": "2025-10-26T02:00:53.453903",
     "exception": false,
     "start_time": "2025-10-26T02:00:53.450070",
     "status": "completed"
    },
    "tags": []
   },
   "source": [
    "# Live"
   ]
  },
  {
   "cell_type": "code",
   "execution_count": 9,
   "id": "b6d4dc9c",
   "metadata": {
    "execution": {
     "iopub.execute_input": "2025-10-26T02:00:53.462558Z",
     "iopub.status.busy": "2025-10-26T02:00:53.462392Z",
     "iopub.status.idle": "2025-10-26T02:00:57.620185Z",
     "shell.execute_reply": "2025-10-26T02:00:57.619361Z"
    },
    "id": "EnaFsdZFxpwc",
    "papermill": {
     "duration": 4.163071,
     "end_time": "2025-10-26T02:00:57.620807",
     "exception": false,
     "start_time": "2025-10-26T02:00:53.457736",
     "status": "completed"
    },
    "tags": []
   },
   "outputs": [
    {
     "data": {
      "text/plain": [
       "['2025-10-24T200000',\n",
       " '2025-10-24T210000',\n",
       " '2025-10-24T220000',\n",
       " '2025-10-24T230000',\n",
       " '2025-10-25T000000']"
      ]
     },
     "execution_count": 9,
     "metadata": {},
     "output_type": "execute_result"
    }
   ],
   "source": [
    "# already_processed = [file.name.split('/')[-1].split('.')[0] for file in container_client.list_blobs() if file.name[:12] == 'live/output/']\n",
    "# already_processed[-5:]\n",
    "already_processed_ts = sorted([file.name.split('/')[-1].split(\".\")[0] for file in container_client.list_blobs() if (file.name.split('/')[0] + \"/\" + file.name.split('/')[1]) == 'live/processing'])\n",
    "already_processed_ts[-5:]"
   ]
  },
  {
   "cell_type": "code",
   "execution_count": 10,
   "id": "09716024",
   "metadata": {
    "execution": {
     "iopub.execute_input": "2025-10-26T02:00:57.629913Z",
     "iopub.status.busy": "2025-10-26T02:00:57.629741Z",
     "iopub.status.idle": "2025-10-26T02:01:10.118699Z",
     "shell.execute_reply": "2025-10-26T02:01:10.117906Z"
    },
    "id": "I7Er6YEUyOsL",
    "papermill": {
     "duration": 12.494353,
     "end_time": "2025-10-26T02:01:10.119432",
     "exception": false,
     "start_time": "2025-10-26T02:00:57.625079",
     "status": "completed"
    },
    "tags": []
   },
   "outputs": [
    {
     "data": {
      "text/plain": [
       "['65n1fgov4zr4_2025-10-26T000000_762c775ae454d23f2c6b6a75623d14c7_2853a0.csv.gz',\n",
       " '65n1fgov4zr4_2025-10-26T000000_762c775ae454d23f2c6b6a75623d14c7_2853a1.csv.gz',\n",
       " '65n1fgov4zr4_2025-10-26T000000_762c775ae454d23f2c6b6a75623d14c7_be8220.csv.gz',\n",
       " '65n1fgov4zr4_2025-10-26T000000_762c775ae454d23f2c6b6a75623d14c7_be8221.csv.gz',\n",
       " '65n1fgov4zr4_2025-10-26T000000_762c775ae454d23f2c6b6a75623d14c7_c35750.csv.gz',\n",
       " '65n1fgov4zr4_2025-10-26T000000_762c775ae454d23f2c6b6a75623d14c7_c35751.csv.gz']"
      ]
     },
     "execution_count": 10,
     "metadata": {},
     "output_type": "execute_result"
    }
   ],
   "source": [
    "container_name_uat = \"adjuststblive\"\n",
    "container_client_uat = blob_service_client.get_container_client(container_name_uat)\n",
    "from collections import defaultdict\n",
    "files = [i.name for i in container_client_uat.list_blobs()]\n",
    "groups = defaultdict(list)\n",
    "for f in files:\n",
    "    dt = f.split('_')[1]\n",
    "    groups[dt].append(f)\n",
    "groups[dt]"
   ]
  },
  {
   "cell_type": "code",
   "execution_count": 11,
   "id": "7207a978",
   "metadata": {
    "execution": {
     "iopub.execute_input": "2025-10-26T02:01:10.128870Z",
     "iopub.status.busy": "2025-10-26T02:01:10.128686Z",
     "iopub.status.idle": "2025-10-26T02:01:10.133968Z",
     "shell.execute_reply": "2025-10-26T02:01:10.133195Z"
    },
    "papermill": {
     "duration": 0.010656,
     "end_time": "2025-10-26T02:01:10.134513",
     "exception": false,
     "start_time": "2025-10-26T02:01:10.123857",
     "status": "completed"
    },
    "tags": []
   },
   "outputs": [
    {
     "data": {
      "text/plain": [
       "['2025-10-25T000000',\n",
       " '2025-10-25T010000',\n",
       " '2025-10-25T020000',\n",
       " '2025-10-25T030000',\n",
       " '2025-10-25T040000',\n",
       " '2025-10-25T050000',\n",
       " '2025-10-25T060000',\n",
       " '2025-10-25T070000',\n",
       " '2025-10-25T080000',\n",
       " '2025-10-25T090000',\n",
       " '2025-10-25T100000',\n",
       " '2025-10-25T110000',\n",
       " '2025-10-25T120000',\n",
       " '2025-10-25T130000',\n",
       " '2025-10-25T140000',\n",
       " '2025-10-25T150000',\n",
       " '2025-10-25T160000',\n",
       " '2025-10-25T170000',\n",
       " '2025-10-25T180000',\n",
       " '2025-10-25T190000',\n",
       " '2025-10-25T200000',\n",
       " '2025-10-25T210000',\n",
       " '2025-10-25T220000',\n",
       " '2025-10-25T230000',\n",
       " '2025-10-26T000000']"
      ]
     },
     "execution_count": 11,
     "metadata": {},
     "output_type": "execute_result"
    }
   ],
   "source": [
    "# need_process = pd.date_range(start=already_processed[-1], end=today).strftime('%Y-%m-%d').to_list()\n",
    "# need_process\n",
    "\n",
    "B = datetime.strptime(dt, \"%Y-%m-%dT%H0000\")\n",
    "A = datetime.strptime(already_processed_ts[-1], \"%Y-%m-%dT%H0000\")\n",
    "need_process_ts =  pd.date_range(A, B, freq='h').strftime('%Y-%m-%dT%H0000').tolist()\n",
    "need_process_ts"
   ]
  },
  {
   "cell_type": "code",
   "execution_count": 12,
   "id": "b55c2c87",
   "metadata": {
    "execution": {
     "iopub.execute_input": "2025-10-26T02:01:10.143863Z",
     "iopub.status.busy": "2025-10-26T02:01:10.143663Z",
     "iopub.status.idle": "2025-10-26T02:09:06.790466Z",
     "shell.execute_reply": "2025-10-26T02:09:06.789615Z"
    },
    "id": "g-W3s2nRyRY7",
    "papermill": {
     "duration": 476.65815,
     "end_time": "2025-10-26T02:09:06.796892",
     "exception": false,
     "start_time": "2025-10-26T02:01:10.138742",
     "status": "completed"
    },
    "tags": []
   },
   "outputs": [
    {
     "name": "stderr",
     "output_type": "stream",
     "text": [
      "\r",
      "  0%|          | 0/2247 [00:00<?, ?it/s]"
     ]
    },
    {
     "name": "stderr",
     "output_type": "stream",
     "text": [
      "\r",
      " 99%|█████████▉| 2223/2247 [00:23<00:00, 95.78it/s]"
     ]
    },
    {
     "name": "stdout",
     "output_type": "stream",
     "text": [
      "Done dt=2025-10-25/2025-10-25T000000.parquet\n"
     ]
    },
    {
     "name": "stderr",
     "output_type": "stream",
     "text": [
      "\r",
      " 99%|█████████▉| 2223/2247 [00:33<00:00, 95.78it/s]"
     ]
    },
    {
     "name": "stderr",
     "output_type": "stream",
     "text": [
      "\r",
      " 99%|█████████▉| 2224/2247 [00:43<00:00, 42.28it/s]"
     ]
    },
    {
     "name": "stdout",
     "output_type": "stream",
     "text": [
      "Done dt=2025-10-25/2025-10-25T010000.parquet\n"
     ]
    },
    {
     "name": "stderr",
     "output_type": "stream",
     "text": [
      "\r",
      " 99%|█████████▉| 2225/2247 [01:05<00:00, 23.08it/s]"
     ]
    },
    {
     "name": "stdout",
     "output_type": "stream",
     "text": [
      "Done dt=2025-10-25/2025-10-25T020000.parquet\n"
     ]
    },
    {
     "name": "stderr",
     "output_type": "stream",
     "text": [
      "\r",
      " 99%|█████████▉| 2226/2247 [01:25<00:01, 14.27it/s]"
     ]
    },
    {
     "name": "stdout",
     "output_type": "stream",
     "text": [
      "Done dt=2025-10-25/2025-10-25T030000.parquet\n"
     ]
    },
    {
     "name": "stderr",
     "output_type": "stream",
     "text": [
      "\r",
      " 99%|█████████▉| 2227/2247 [01:46<00:02,  9.21it/s]"
     ]
    },
    {
     "name": "stdout",
     "output_type": "stream",
     "text": [
      "Done dt=2025-10-25/2025-10-25T040000.parquet\n"
     ]
    },
    {
     "name": "stderr",
     "output_type": "stream",
     "text": [
      "\r",
      " 99%|█████████▉| 2228/2247 [02:07<00:03,  6.11it/s]"
     ]
    },
    {
     "name": "stdout",
     "output_type": "stream",
     "text": [
      "Done dt=2025-10-25/2025-10-25T050000.parquet\n"
     ]
    },
    {
     "name": "stderr",
     "output_type": "stream",
     "text": [
      "\r",
      " 99%|█████████▉| 2229/2247 [02:28<00:04,  4.13it/s]"
     ]
    },
    {
     "name": "stdout",
     "output_type": "stream",
     "text": [
      "Done dt=2025-10-25/2025-10-25T060000.parquet\n"
     ]
    },
    {
     "name": "stderr",
     "output_type": "stream",
     "text": [
      "\r",
      " 99%|█████████▉| 2230/2247 [02:48<00:05,  2.84it/s]"
     ]
    },
    {
     "name": "stdout",
     "output_type": "stream",
     "text": [
      "Done dt=2025-10-25/2025-10-25T070000.parquet\n"
     ]
    },
    {
     "name": "stderr",
     "output_type": "stream",
     "text": [
      "\r",
      " 99%|█████████▉| 2231/2247 [03:10<00:08,  1.96it/s]"
     ]
    },
    {
     "name": "stdout",
     "output_type": "stream",
     "text": [
      "Done dt=2025-10-25/2025-10-25T080000.parquet\n"
     ]
    },
    {
     "name": "stderr",
     "output_type": "stream",
     "text": [
      "\r",
      " 99%|█████████▉| 2232/2247 [03:34<00:11,  1.31it/s]"
     ]
    },
    {
     "name": "stdout",
     "output_type": "stream",
     "text": [
      "Done dt=2025-10-25/2025-10-25T090000.parquet\n"
     ]
    },
    {
     "name": "stderr",
     "output_type": "stream",
     "text": [
      "\r",
      " 99%|█████████▉| 2233/2247 [03:56<00:15,  1.09s/it]"
     ]
    },
    {
     "name": "stdout",
     "output_type": "stream",
     "text": [
      "Done dt=2025-10-25/2025-10-25T100000.parquet\n"
     ]
    },
    {
     "name": "stderr",
     "output_type": "stream",
     "text": [
      "\r",
      " 99%|█████████▉| 2234/2247 [04:18<00:20,  1.54s/it]"
     ]
    },
    {
     "name": "stdout",
     "output_type": "stream",
     "text": [
      "Done dt=2025-10-25/2025-10-25T110000.parquet\n"
     ]
    },
    {
     "name": "stderr",
     "output_type": "stream",
     "text": [
      "\r",
      " 99%|█████████▉| 2235/2247 [04:39<00:25,  2.11s/it]"
     ]
    },
    {
     "name": "stdout",
     "output_type": "stream",
     "text": [
      "Done dt=2025-10-25/2025-10-25T120000.parquet\n"
     ]
    },
    {
     "name": "stderr",
     "output_type": "stream",
     "text": [
      "\r",
      "100%|█████████▉| 2236/2247 [05:00<00:31,  2.88s/it]"
     ]
    },
    {
     "name": "stdout",
     "output_type": "stream",
     "text": [
      "Done dt=2025-10-25/2025-10-25T130000.parquet\n"
     ]
    },
    {
     "name": "stderr",
     "output_type": "stream",
     "text": [
      "\r",
      "100%|█████████▉| 2237/2247 [05:21<00:38,  3.82s/it]"
     ]
    },
    {
     "name": "stdout",
     "output_type": "stream",
     "text": [
      "Done dt=2025-10-25/2025-10-25T140000.parquet\n"
     ]
    },
    {
     "name": "stderr",
     "output_type": "stream",
     "text": [
      "\r",
      "100%|█████████▉| 2238/2247 [05:38<00:43,  4.82s/it]"
     ]
    },
    {
     "name": "stdout",
     "output_type": "stream",
     "text": [
      "Done dt=2025-10-25/2025-10-25T150000.parquet\n"
     ]
    },
    {
     "name": "stderr",
     "output_type": "stream",
     "text": [
      "\r",
      "100%|█████████▉| 2239/2247 [05:56<00:48,  6.02s/it]"
     ]
    },
    {
     "name": "stdout",
     "output_type": "stream",
     "text": [
      "Done dt=2025-10-25/2025-10-25T160000.parquet\n"
     ]
    },
    {
     "name": "stderr",
     "output_type": "stream",
     "text": [
      "\r",
      "100%|█████████▉| 2240/2247 [06:12<00:50,  7.14s/it]"
     ]
    },
    {
     "name": "stdout",
     "output_type": "stream",
     "text": [
      "Done dt=2025-10-25/2025-10-25T170000.parquet\n"
     ]
    },
    {
     "name": "stderr",
     "output_type": "stream",
     "text": [
      "\r",
      "100%|█████████▉| 2241/2247 [06:25<00:48,  8.04s/it]"
     ]
    },
    {
     "name": "stdout",
     "output_type": "stream",
     "text": [
      "Done dt=2025-10-25/2025-10-25T180000.parquet\n"
     ]
    },
    {
     "name": "stderr",
     "output_type": "stream",
     "text": [
      "\r",
      "100%|█████████▉| 2242/2247 [06:38<00:44,  8.90s/it]"
     ]
    },
    {
     "name": "stdout",
     "output_type": "stream",
     "text": [
      "Done dt=2025-10-25/2025-10-25T190000.parquet\n"
     ]
    },
    {
     "name": "stderr",
     "output_type": "stream",
     "text": [
      "\r",
      "100%|█████████▉| 2243/2247 [06:50<00:38,  9.61s/it]"
     ]
    },
    {
     "name": "stdout",
     "output_type": "stream",
     "text": [
      "Done dt=2025-10-25/2025-10-25T200000.parquet\n"
     ]
    },
    {
     "name": "stderr",
     "output_type": "stream",
     "text": [
      "\r",
      "100%|█████████▉| 2244/2247 [07:04<00:31, 10.43s/it]"
     ]
    },
    {
     "name": "stdout",
     "output_type": "stream",
     "text": [
      "Done dt=2025-10-25/2025-10-25T210000.parquet\n"
     ]
    },
    {
     "name": "stderr",
     "output_type": "stream",
     "text": [
      "\r",
      "100%|█████████▉| 2245/2247 [07:18<00:22, 11.20s/it]"
     ]
    },
    {
     "name": "stdout",
     "output_type": "stream",
     "text": [
      "Done dt=2025-10-25/2025-10-25T220000.parquet\n"
     ]
    },
    {
     "name": "stderr",
     "output_type": "stream",
     "text": [
      "\r",
      "100%|█████████▉| 2246/2247 [07:34<00:12, 12.61s/it]"
     ]
    },
    {
     "name": "stdout",
     "output_type": "stream",
     "text": [
      "Done dt=2025-10-25/2025-10-25T230000.parquet\n"
     ]
    },
    {
     "name": "stderr",
     "output_type": "stream",
     "text": [
      "\r",
      "100%|██████████| 2247/2247 [07:56<00:00, 15.07s/it]"
     ]
    },
    {
     "name": "stderr",
     "output_type": "stream",
     "text": [
      "\r",
      "100%|██████████| 2247/2247 [07:56<00:00,  4.71it/s]"
     ]
    },
    {
     "name": "stdout",
     "output_type": "stream",
     "text": [
      "Done dt=2025-10-26/2025-10-26T000000.parquet\n"
     ]
    },
    {
     "name": "stderr",
     "output_type": "stream",
     "text": [
      "\n"
     ]
    }
   ],
   "source": [
    "storage_options = {\n",
    "    \"account_name\": account_name,\n",
    "    \"account_key\":  account_key,\n",
    "}\n",
    "\n",
    "for ts, files in tqdm(groups.items()):\n",
    "    if ts not in need_process_ts: continue\n",
    "    dt = ts[:10]\n",
    "    # if dt not in need_process:\n",
    "    #     continue\n",
    "    df = pl.scan_csv(f\"az://adjuststblive/*_{ts}_*.csv.gz\", storage_options = storage_options,glob=True, has_header = True, null_values = [\"\",\"NULL\"], ignore_errors=True).select(pl.all().cast(pl.Utf8))\n",
    "    df.sink_parquet(f\"az://adjuststbuatprocessed/live/processing/dt={dt}/{ts}.parquet\", storage_options = storage_options, compression=\"snappy\")\n",
    "    print(f'Done dt={dt}/{ts}.parquet')\n",
    "        "
   ]
  },
  {
   "cell_type": "code",
   "execution_count": 13,
   "id": "644658cb",
   "metadata": {
    "execution": {
     "iopub.execute_input": "2025-10-26T02:09:06.810350Z",
     "iopub.status.busy": "2025-10-26T02:09:06.810038Z",
     "iopub.status.idle": "2025-10-26T02:09:06.814109Z",
     "shell.execute_reply": "2025-10-26T02:09:06.813369Z"
    },
    "papermill": {
     "duration": 0.011588,
     "end_time": "2025-10-26T02:09:06.814784",
     "exception": false,
     "start_time": "2025-10-26T02:09:06.803196",
     "status": "completed"
    },
    "tags": []
   },
   "outputs": [
    {
     "data": {
      "text/plain": [
       "{'2025-10-25', '2025-10-26'}"
      ]
     },
     "execution_count": 13,
     "metadata": {},
     "output_type": "execute_result"
    }
   ],
   "source": [
    "need_process = set([i.split(\"T\")[0] for i in need_process_ts])\n",
    "need_process"
   ]
  },
  {
   "cell_type": "code",
   "execution_count": 14,
   "id": "81cedf55",
   "metadata": {
    "execution": {
     "iopub.execute_input": "2025-10-26T02:09:06.827861Z",
     "iopub.status.busy": "2025-10-26T02:09:06.827707Z",
     "iopub.status.idle": "2025-10-26T02:10:15.886456Z",
     "shell.execute_reply": "2025-10-26T02:10:15.885610Z"
    },
    "id": "sBm7rfFUyePJ",
    "papermill": {
     "duration": 69.072058,
     "end_time": "2025-10-26T02:10:15.892950",
     "exception": false,
     "start_time": "2025-10-26T02:09:06.820892",
     "status": "completed"
    },
    "tags": []
   },
   "outputs": [
    {
     "name": "stdout",
     "output_type": "stream",
     "text": [
      "\n",
      " Done 2025-10-26\n",
      "\n"
     ]
    },
    {
     "name": "stdout",
     "output_type": "stream",
     "text": [
      "\n",
      " Done 2025-10-25\n",
      "\n"
     ]
    }
   ],
   "source": [
    "for dt in need_process:\n",
    "  df = pl.scan_parquet(f\"az://adjuststbuatprocessed/live/processing/dt={dt}/*.parquet\", storage_options=storage_options,glob=True).with_columns(pl.lit(dt).alias(\"dt\"))\n",
    "  df.sink_parquet(f\"az://adjuststbuatprocessed/live/output/{dt}.parquet\", storage_options=storage_options, compression=\"snappy\")\n",
    "  print(f'\\n Done {dt}\\n')"
   ]
  }
 ],
 "metadata": {
  "colab": {
   "authorship_tag": "ABX9TyOfzO6uvqUX+Tt89Y73G9E8",
   "include_colab_link": true,
   "provenance": []
  },
  "kernelspec": {
   "display_name": "Python 3",
   "name": "python3"
  },
  "language_info": {
   "codemirror_mode": {
    "name": "ipython",
    "version": 3
   },
   "file_extension": ".py",
   "mimetype": "text/x-python",
   "name": "python",
   "nbconvert_exporter": "python",
   "pygments_lexer": "ipython3",
   "version": "3.11.13"
  },
  "papermill": {
   "default_parameters": {},
   "duration": 739.121781,
   "end_time": "2025-10-26T02:10:16.716066",
   "environment_variables": {},
   "exception": null,
   "input_path": "notebooks/ADJUST_JOB.ipynb",
   "output_path": "outputs/ADJUST_JOB_2025-10-26.ipynb",
   "parameters": {
    "RUN_DATE": "2025-10-26"
   },
   "start_time": "2025-10-26T01:57:57.594285",
   "version": "2.6.0"
  }
 },
 "nbformat": 4,
 "nbformat_minor": 5
}