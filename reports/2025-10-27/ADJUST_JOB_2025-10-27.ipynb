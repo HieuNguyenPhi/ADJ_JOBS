{
 "cells": [
  {
   "cell_type": "code",
   "execution_count": 1,
   "id": "d9701873",
   "metadata": {
    "execution": {
     "iopub.execute_input": "2025-10-27T02:02:27.788995Z",
     "iopub.status.busy": "2025-10-27T02:02:27.788769Z",
     "iopub.status.idle": "2025-10-27T02:02:27.794301Z",
     "shell.execute_reply": "2025-10-27T02:02:27.793459Z"
    },
    "papermill": {
     "duration": 0.010165,
     "end_time": "2025-10-27T02:02:27.794991",
     "exception": false,
     "start_time": "2025-10-27T02:02:27.784826",
     "status": "completed"
    },
    "tags": [
     "injected-parameters"
    ]
   },
   "outputs": [],
   "source": [
    "# Parameters\n",
    "RUN_DATE = \"2025-10-27\"\n"
   ]
  },
  {
   "cell_type": "markdown",
   "id": "655b10c0",
   "metadata": {
    "colab_type": "text",
    "id": "view-in-github",
    "papermill": {
     "duration": 0.002207,
     "end_time": "2025-10-27T02:02:27.799436",
     "exception": false,
     "start_time": "2025-10-27T02:02:27.797229",
     "status": "completed"
    },
    "tags": []
   },
   "source": [
    "<a href=\"https://colab.research.google.com/github/HieuNguyenPhi/ADJ_JOBS/blob/main/notebooks/ADJUST_JOB.ipynb\" target=\"_parent\"><img src=\"https://colab.research.google.com/assets/colab-badge.svg\" alt=\"Open In Colab\"/></a>"
   ]
  },
  {
   "cell_type": "markdown",
   "id": "fd9df99c",
   "metadata": {
    "papermill": {
     "duration": 0.002765,
     "end_time": "2025-10-27T02:02:27.804085",
     "exception": false,
     "start_time": "2025-10-27T02:02:27.801320",
     "status": "completed"
    },
    "tags": []
   },
   "source": [
    "# UAT"
   ]
  },
  {
   "cell_type": "code",
   "execution_count": 2,
   "id": "2efbe47d",
   "metadata": {
    "execution": {
     "iopub.execute_input": "2025-10-27T02:02:27.808925Z",
     "iopub.status.busy": "2025-10-27T02:02:27.808763Z",
     "iopub.status.idle": "2025-10-27T02:02:34.160564Z",
     "shell.execute_reply": "2025-10-27T02:02:34.159630Z"
    },
    "id": "ycUR2r1dq1Nm",
    "papermill": {
     "duration": 6.355282,
     "end_time": "2025-10-27T02:02:34.161318",
     "exception": false,
     "start_time": "2025-10-27T02:02:27.806036",
     "status": "completed"
    },
    "tags": []
   },
   "outputs": [
    {
     "data": {
      "text/plain": [
       "['2025-10-25T130000',\n",
       " '2025-10-25T150000',\n",
       " '2025-10-25T160000',\n",
       " '2025-10-25T170000',\n",
       " '2025-10-25T230000']"
      ]
     },
     "execution_count": 2,
     "metadata": {},
     "output_type": "execute_result"
    }
   ],
   "source": [
    "import os\n",
    "from azure.storage.blob import BlobServiceClient\n",
    "\n",
    "account_name = os.getenv('ACCOUNT_NAME')\n",
    "account_key = os.getenv('ACCOUNT_KEY')\n",
    "# Replace with your Azure Storage account name and SAS token or connection string\n",
    "connect_str = f\"DefaultEndpointsProtocol=https;AccountName={account_name};AccountKey={account_key};EndpointSuffix=core.windows.net\"\n",
    "blob_service_client = BlobServiceClient.from_connection_string(connect_str)\n",
    "container_list = blob_service_client.list_containers()\n",
    "container_name = \"adjuststbuatprocessed\" #os.getenv('CONTAINER_NAME')\n",
    "container_client = blob_service_client.get_container_client(container_name)\n",
    "# already_processed = [file.name.split('/')[1].split('.')[0] for file in container_client.list_blobs() if file.name.split('/')[0] == 'output']\n",
    "# already_processed[-5:]\n",
    "already_processed_ts = sorted([file.name.split('/')[-1].split(\".\")[0] for file in container_client.list_blobs() if file.name.split('/')[0] == 'processing'])\n",
    "already_processed_ts[-5:]"
   ]
  },
  {
   "cell_type": "code",
   "execution_count": 3,
   "id": "66da09ea",
   "metadata": {
    "execution": {
     "iopub.execute_input": "2025-10-27T02:02:34.166981Z",
     "iopub.status.busy": "2025-10-27T02:02:34.166722Z",
     "iopub.status.idle": "2025-10-27T02:02:43.036845Z",
     "shell.execute_reply": "2025-10-27T02:02:43.035950Z"
    },
    "id": "xyPuVC12s7fn",
    "papermill": {
     "duration": 8.873754,
     "end_time": "2025-10-27T02:02:43.037476",
     "exception": false,
     "start_time": "2025-10-27T02:02:34.163722",
     "status": "completed"
    },
    "tags": []
   },
   "outputs": [
    {
     "data": {
      "text/plain": [
       "['rsh20bkkb4zk_2025-10-27T010000_762c775ae454d23f2c6b6a75623d14c7_2853a0.csv.gz',\n",
       " 'rsh20bkkb4zk_2025-10-27T010000_762c775ae454d23f2c6b6a75623d14c7_2853a1.csv.gz',\n",
       " 'rsh20bkkb4zk_2025-10-27T010000_762c775ae454d23f2c6b6a75623d14c7_be8220.csv.gz',\n",
       " 'rsh20bkkb4zk_2025-10-27T010000_762c775ae454d23f2c6b6a75623d14c7_be8221.csv.gz',\n",
       " 'rsh20bkkb4zk_2025-10-27T010000_762c775ae454d23f2c6b6a75623d14c7_c35750.csv.gz',\n",
       " 'rsh20bkkb4zk_2025-10-27T010000_762c775ae454d23f2c6b6a75623d14c7_c35751.csv.gz']"
      ]
     },
     "execution_count": 3,
     "metadata": {},
     "output_type": "execute_result"
    }
   ],
   "source": [
    "container_name_uat = \"adjuststbuat\"\n",
    "container_client_uat = blob_service_client.get_container_client(container_name_uat)\n",
    "from collections import defaultdict\n",
    "files = [i.name for i in container_client_uat.list_blobs()]\n",
    "groups = defaultdict(list)\n",
    "for f in files:\n",
    "    dt = f.split('_')[1]\n",
    "    groups[dt].append(f)\n",
    "groups[dt]"
   ]
  },
  {
   "cell_type": "code",
   "execution_count": 4,
   "id": "50a51e54",
   "metadata": {
    "execution": {
     "iopub.execute_input": "2025-10-27T02:02:43.044194Z",
     "iopub.status.busy": "2025-10-27T02:02:43.044006Z",
     "iopub.status.idle": "2025-10-27T02:02:43.046996Z",
     "shell.execute_reply": "2025-10-27T02:02:43.046165Z"
    },
    "papermill": {
     "duration": 0.007487,
     "end_time": "2025-10-27T02:02:43.047568",
     "exception": false,
     "start_time": "2025-10-27T02:02:43.040081",
     "status": "completed"
    },
    "tags": []
   },
   "outputs": [],
   "source": [
    "# from datetime import date, timedelta, datetime\n",
    "# import pandas as pd\n",
    "# today = date.today().strftime('%Y-%m-%d')\n",
    "# yesterday = (date.today() - timedelta(days = 1) ).strftime('%Y-%m-%d')\n",
    "# check_date = dt.split(\"T\")[0]\n",
    "# if check_date == today:\n",
    "#     need_process = pd.date_range(start=already_processed[-1], end=today).strftime('%Y-%m-%d').to_list()\n",
    "# else:\n",
    "#     need_process = pd.date_range(start=already_processed[-1], end=yesterday).strftime('%Y-%m-%d').to_list()\n",
    "# need_process"
   ]
  },
  {
   "cell_type": "code",
   "execution_count": 5,
   "id": "65693a4d",
   "metadata": {
    "execution": {
     "iopub.execute_input": "2025-10-27T02:02:43.052839Z",
     "iopub.status.busy": "2025-10-27T02:02:43.052670Z",
     "iopub.status.idle": "2025-10-27T02:02:43.345886Z",
     "shell.execute_reply": "2025-10-27T02:02:43.345018Z"
    },
    "papermill": {
     "duration": 0.296706,
     "end_time": "2025-10-27T02:02:43.346511",
     "exception": false,
     "start_time": "2025-10-27T02:02:43.049805",
     "status": "completed"
    },
    "tags": []
   },
   "outputs": [
    {
     "data": {
      "text/plain": [
       "['2025-10-25T170000',\n",
       " '2025-10-25T180000',\n",
       " '2025-10-25T190000',\n",
       " '2025-10-25T200000',\n",
       " '2025-10-25T210000',\n",
       " '2025-10-25T220000',\n",
       " '2025-10-25T230000',\n",
       " '2025-10-26T000000',\n",
       " '2025-10-26T010000',\n",
       " '2025-10-26T020000',\n",
       " '2025-10-26T030000',\n",
       " '2025-10-26T040000',\n",
       " '2025-10-26T050000',\n",
       " '2025-10-26T060000',\n",
       " '2025-10-26T070000',\n",
       " '2025-10-26T080000',\n",
       " '2025-10-26T090000',\n",
       " '2025-10-26T100000',\n",
       " '2025-10-26T110000',\n",
       " '2025-10-26T120000',\n",
       " '2025-10-26T130000',\n",
       " '2025-10-26T140000',\n",
       " '2025-10-26T150000',\n",
       " '2025-10-26T160000',\n",
       " '2025-10-26T170000',\n",
       " '2025-10-26T180000',\n",
       " '2025-10-26T190000',\n",
       " '2025-10-26T200000',\n",
       " '2025-10-26T210000',\n",
       " '2025-10-26T220000',\n",
       " '2025-10-26T230000',\n",
       " '2025-10-27T000000',\n",
       " '2025-10-27T010000']"
      ]
     },
     "execution_count": 5,
     "metadata": {},
     "output_type": "execute_result"
    }
   ],
   "source": [
    "from datetime import datetime\n",
    "import pandas as pd\n",
    "B = datetime.strptime(dt, \"%Y-%m-%dT%H0000\")\n",
    "A = datetime.strptime(already_processed_ts[-2], \"%Y-%m-%dT%H0000\")\n",
    "need_process_ts =  pd.date_range(A, B, freq='h').strftime('%Y-%m-%dT%H0000').tolist()\n",
    "need_process_ts"
   ]
  },
  {
   "cell_type": "code",
   "execution_count": 6,
   "id": "fb0445ef",
   "metadata": {
    "execution": {
     "iopub.execute_input": "2025-10-27T02:02:43.352748Z",
     "iopub.status.busy": "2025-10-27T02:02:43.352442Z",
     "iopub.status.idle": "2025-10-27T02:05:35.120017Z",
     "shell.execute_reply": "2025-10-27T02:05:35.119233Z"
    },
    "papermill": {
     "duration": 171.771509,
     "end_time": "2025-10-27T02:05:35.120709",
     "exception": false,
     "start_time": "2025-10-27T02:02:43.349200",
     "status": "completed"
    },
    "tags": []
   },
   "outputs": [
    {
     "name": "stderr",
     "output_type": "stream",
     "text": [
      "\r",
      "  0%|          | 0/2195 [00:00<?, ?it/s]"
     ]
    },
    {
     "name": "stderr",
     "output_type": "stream",
     "text": [
      "\r",
      " 99%|█████████▉| 2175/2195 [00:09<00:00, 219.51it/s]"
     ]
    },
    {
     "name": "stdout",
     "output_type": "stream",
     "text": [
      "Done dt=2025-10-25/2025-10-25T170000.parquet\n"
     ]
    },
    {
     "name": "stdout",
     "output_type": "stream",
     "text": [
      "Done dt=2025-10-25/2025-10-25T230000.parquet\n"
     ]
    },
    {
     "name": "stderr",
     "output_type": "stream",
     "text": [
      "\r",
      " 99%|█████████▉| 2175/2195 [00:19<00:00, 219.51it/s]"
     ]
    },
    {
     "name": "stderr",
     "output_type": "stream",
     "text": [
      "\r",
      " 99%|█████████▉| 2177/2195 [00:26<00:00, 65.98it/s] "
     ]
    },
    {
     "name": "stdout",
     "output_type": "stream",
     "text": [
      "Done dt=2025-10-26/2025-10-26T010000.parquet\n"
     ]
    },
    {
     "name": "stderr",
     "output_type": "stream",
     "text": [
      "\r",
      " 99%|█████████▉| 2178/2195 [00:33<00:00, 44.76it/s]"
     ]
    },
    {
     "name": "stdout",
     "output_type": "stream",
     "text": [
      "Done dt=2025-10-26/2025-10-26T020000.parquet\n"
     ]
    },
    {
     "name": "stdout",
     "output_type": "stream",
     "text": [
      "Done dt=2025-10-26/2025-10-26T030000.parquet\n"
     ]
    },
    {
     "name": "stderr",
     "output_type": "stream",
     "text": [
      "\r",
      " 99%|█████████▉| 2178/2195 [00:50<00:00, 44.76it/s]"
     ]
    },
    {
     "name": "stderr",
     "output_type": "stream",
     "text": [
      "\r",
      " 99%|█████████▉| 2180/2195 [00:50<00:00, 22.48it/s]"
     ]
    },
    {
     "name": "stdout",
     "output_type": "stream",
     "text": [
      "Done dt=2025-10-26/2025-10-26T040000.parquet\n"
     ]
    },
    {
     "name": "stderr",
     "output_type": "stream",
     "text": [
      "\r",
      " 99%|█████████▉| 2181/2195 [00:58<00:00, 16.56it/s]"
     ]
    },
    {
     "name": "stdout",
     "output_type": "stream",
     "text": [
      "Done dt=2025-10-26/2025-10-26T050000.parquet\n"
     ]
    },
    {
     "name": "stdout",
     "output_type": "stream",
     "text": [
      "Done dt=2025-10-26/2025-10-26T060000.parquet\n"
     ]
    },
    {
     "name": "stderr",
     "output_type": "stream",
     "text": [
      "\r",
      " 99%|█████████▉| 2181/2195 [01:10<00:00, 16.56it/s]"
     ]
    },
    {
     "name": "stderr",
     "output_type": "stream",
     "text": [
      "\r",
      " 99%|█████████▉| 2183/2195 [01:15<00:01,  9.52it/s]"
     ]
    },
    {
     "name": "stdout",
     "output_type": "stream",
     "text": [
      "Done dt=2025-10-26/2025-10-26T070000.parquet\n"
     ]
    },
    {
     "name": "stderr",
     "output_type": "stream",
     "text": [
      "\r",
      " 99%|█████████▉| 2184/2195 [01:23<00:01,  7.43it/s]"
     ]
    },
    {
     "name": "stdout",
     "output_type": "stream",
     "text": [
      "Done dt=2025-10-26/2025-10-26T080000.parquet\n"
     ]
    },
    {
     "name": "stdout",
     "output_type": "stream",
     "text": [
      "Done dt=2025-10-26/2025-10-26T090000.parquet\n"
     ]
    },
    {
     "name": "stdout",
     "output_type": "stream",
     "text": [
      "Done dt=2025-10-26/2025-10-26T100000.parquet\n"
     ]
    },
    {
     "name": "stderr",
     "output_type": "stream",
     "text": [
      "\r",
      " 99%|█████████▉| 2184/2195 [01:40<00:01,  7.43it/s]"
     ]
    },
    {
     "name": "stderr",
     "output_type": "stream",
     "text": [
      "\r",
      "100%|█████████▉| 2187/2195 [01:47<00:02,  3.79it/s]"
     ]
    },
    {
     "name": "stdout",
     "output_type": "stream",
     "text": [
      "Done dt=2025-10-26/2025-10-26T110000.parquet\n"
     ]
    },
    {
     "name": "stderr",
     "output_type": "stream",
     "text": [
      "\r",
      "100%|█████████▉| 2188/2195 [01:55<00:02,  3.08it/s]"
     ]
    },
    {
     "name": "stdout",
     "output_type": "stream",
     "text": [
      "Done dt=2025-10-26/2025-10-26T120000.parquet\n"
     ]
    },
    {
     "name": "stdout",
     "output_type": "stream",
     "text": [
      "Done dt=2025-10-26/2025-10-26T130000.parquet\n"
     ]
    },
    {
     "name": "stderr",
     "output_type": "stream",
     "text": [
      "\r",
      "100%|█████████▉| 2188/2195 [02:10<00:02,  3.08it/s]"
     ]
    },
    {
     "name": "stderr",
     "output_type": "stream",
     "text": [
      "\r",
      "100%|█████████▉| 2190/2195 [02:12<00:02,  2.01it/s]"
     ]
    },
    {
     "name": "stdout",
     "output_type": "stream",
     "text": [
      "Done dt=2025-10-26/2025-10-26T140000.parquet\n"
     ]
    },
    {
     "name": "stderr",
     "output_type": "stream",
     "text": [
      "\r",
      "100%|█████████▉| 2191/2195 [02:20<00:02,  1.65it/s]"
     ]
    },
    {
     "name": "stdout",
     "output_type": "stream",
     "text": [
      "Done dt=2025-10-26/2025-10-26T150000.parquet\n"
     ]
    },
    {
     "name": "stdout",
     "output_type": "stream",
     "text": [
      "Done dt=2025-10-26/2025-10-26T160000.parquet\n"
     ]
    },
    {
     "name": "stderr",
     "output_type": "stream",
     "text": [
      "\r",
      "100%|█████████▉| 2193/2195 [02:35<00:01,  1.11it/s]"
     ]
    },
    {
     "name": "stdout",
     "output_type": "stream",
     "text": [
      "Done dt=2025-10-26/2025-10-26T170000.parquet\n"
     ]
    },
    {
     "name": "stderr",
     "output_type": "stream",
     "text": [
      "\r",
      "100%|█████████▉| 2194/2195 [02:43<00:01,  1.09s/it]"
     ]
    },
    {
     "name": "stdout",
     "output_type": "stream",
     "text": [
      "Done dt=2025-10-26/2025-10-26T210000.parquet\n"
     ]
    },
    {
     "name": "stderr",
     "output_type": "stream",
     "text": [
      "\r",
      "100%|██████████| 2195/2195 [02:51<00:00,  1.38s/it]"
     ]
    },
    {
     "name": "stderr",
     "output_type": "stream",
     "text": [
      "\r",
      "100%|██████████| 2195/2195 [02:51<00:00, 12.78it/s]"
     ]
    },
    {
     "name": "stdout",
     "output_type": "stream",
     "text": [
      "Done dt=2025-10-27/2025-10-27T010000.parquet\n"
     ]
    },
    {
     "name": "stderr",
     "output_type": "stream",
     "text": [
      "\n"
     ]
    }
   ],
   "source": [
    "import polars as pl \n",
    "from tqdm import tqdm\n",
    "storage_options = {\n",
    "    \"account_name\": account_name,\n",
    "    \"account_key\":  account_key,\n",
    "}\n",
    "\n",
    "for ts, files in tqdm(groups.items()):\n",
    "    if ts not in need_process_ts:\n",
    "        continue\n",
    "    dt = ts[:10]\n",
    "    # if dt not in need_process:\n",
    "    #     continue\n",
    "    df = pl.scan_csv(f\"az://adjuststbuat/*_{ts}_*.csv.gz\", storage_options = storage_options,glob=True, has_header = True, null_values = [\"\",\"NULL\"], ignore_errors=True).select(pl.all().cast(pl.Utf8))\n",
    "    df.sink_parquet(f\"az://adjuststbuatprocessed/processing/dt={dt}/{ts}.parquet\", storage_options = storage_options, compression=\"snappy\")\n",
    "    print(f'Done dt={dt}/{ts}.parquet')\n",
    "        "
   ]
  },
  {
   "cell_type": "code",
   "execution_count": 7,
   "id": "9413e663",
   "metadata": {
    "execution": {
     "iopub.execute_input": "2025-10-27T02:05:35.129699Z",
     "iopub.status.busy": "2025-10-27T02:05:35.129511Z",
     "iopub.status.idle": "2025-10-27T02:05:35.133745Z",
     "shell.execute_reply": "2025-10-27T02:05:35.133019Z"
    },
    "papermill": {
     "duration": 0.009533,
     "end_time": "2025-10-27T02:05:35.134397",
     "exception": false,
     "start_time": "2025-10-27T02:05:35.124864",
     "status": "completed"
    },
    "tags": []
   },
   "outputs": [
    {
     "data": {
      "text/plain": [
       "{'2025-10-25', '2025-10-26', '2025-10-27'}"
      ]
     },
     "execution_count": 7,
     "metadata": {},
     "output_type": "execute_result"
    }
   ],
   "source": [
    "need_process = set([i.split(\"T\")[0] for i in need_process_ts])\n",
    "need_process"
   ]
  },
  {
   "cell_type": "code",
   "execution_count": 8,
   "id": "393dbdfc",
   "metadata": {
    "execution": {
     "iopub.execute_input": "2025-10-27T02:05:35.143081Z",
     "iopub.status.busy": "2025-10-27T02:05:35.142918Z",
     "iopub.status.idle": "2025-10-27T02:05:43.544696Z",
     "shell.execute_reply": "2025-10-27T02:05:43.543822Z"
    },
    "papermill": {
     "duration": 8.406956,
     "end_time": "2025-10-27T02:05:43.545286",
     "exception": false,
     "start_time": "2025-10-27T02:05:35.138330",
     "status": "completed"
    },
    "tags": []
   },
   "outputs": [
    {
     "name": "stdout",
     "output_type": "stream",
     "text": [
      "\n",
      " Done 2025-10-25\n",
      "\n"
     ]
    },
    {
     "name": "stdout",
     "output_type": "stream",
     "text": [
      "\n",
      " Done 2025-10-26\n",
      "\n"
     ]
    },
    {
     "name": "stdout",
     "output_type": "stream",
     "text": [
      "\n",
      " Done 2025-10-27\n",
      "\n"
     ]
    }
   ],
   "source": [
    "for dt in need_process:\n",
    "  df = pl.scan_parquet(f\"az://adjuststbuatprocessed/processing/dt={dt}/*.parquet\", storage_options=storage_options,glob=True).with_columns(pl.lit(dt).alias(\"dt\"))\n",
    "  df.sink_parquet(f\"az://adjuststbuatprocessed/output/{dt}.parquet\", storage_options=storage_options, compression=\"snappy\")\n",
    "  print(f'\\n Done {dt}\\n')"
   ]
  },
  {
   "cell_type": "markdown",
   "id": "18ad5c76",
   "metadata": {
    "id": "2TvKr29qyJd_",
    "papermill": {
     "duration": 0.004086,
     "end_time": "2025-10-27T02:05:43.553766",
     "exception": false,
     "start_time": "2025-10-27T02:05:43.549680",
     "status": "completed"
    },
    "tags": []
   },
   "source": [
    "# Live"
   ]
  },
  {
   "cell_type": "code",
   "execution_count": 9,
   "id": "59f3873b",
   "metadata": {
    "execution": {
     "iopub.execute_input": "2025-10-27T02:05:43.562952Z",
     "iopub.status.busy": "2025-10-27T02:05:43.562748Z",
     "iopub.status.idle": "2025-10-27T02:05:47.771650Z",
     "shell.execute_reply": "2025-10-27T02:05:47.770731Z"
    },
    "id": "EnaFsdZFxpwc",
    "papermill": {
     "duration": 4.214347,
     "end_time": "2025-10-27T02:05:47.772231",
     "exception": false,
     "start_time": "2025-10-27T02:05:43.557884",
     "status": "completed"
    },
    "tags": []
   },
   "outputs": [
    {
     "data": {
      "text/plain": [
       "['2025-10-25T200000',\n",
       " '2025-10-25T210000',\n",
       " '2025-10-25T220000',\n",
       " '2025-10-25T230000',\n",
       " '2025-10-26T000000']"
      ]
     },
     "execution_count": 9,
     "metadata": {},
     "output_type": "execute_result"
    }
   ],
   "source": [
    "# already_processed = [file.name.split('/')[-1].split('.')[0] for file in container_client.list_blobs() if file.name[:12] == 'live/output/']\n",
    "# already_processed[-5:]\n",
    "already_processed_ts = sorted([file.name.split('/')[-1].split(\".\")[0] for file in container_client.list_blobs() if (file.name.split('/')[0] + \"/\" + file.name.split('/')[1]) == 'live/processing'])\n",
    "already_processed_ts[-5:]"
   ]
  },
  {
   "cell_type": "code",
   "execution_count": 10,
   "id": "00083f47",
   "metadata": {
    "execution": {
     "iopub.execute_input": "2025-10-27T02:05:47.781929Z",
     "iopub.status.busy": "2025-10-27T02:05:47.781716Z",
     "iopub.status.idle": "2025-10-27T02:06:00.468376Z",
     "shell.execute_reply": "2025-10-27T02:06:00.467504Z"
    },
    "id": "I7Er6YEUyOsL",
    "papermill": {
     "duration": 12.692191,
     "end_time": "2025-10-27T02:06:00.468954",
     "exception": false,
     "start_time": "2025-10-27T02:05:47.776763",
     "status": "completed"
    },
    "tags": []
   },
   "outputs": [
    {
     "data": {
      "text/plain": [
       "['65n1fgov4zr4_2025-10-27T010000_762c775ae454d23f2c6b6a75623d14c7_2853a0.csv.gz',\n",
       " '65n1fgov4zr4_2025-10-27T010000_762c775ae454d23f2c6b6a75623d14c7_2853a1.csv.gz',\n",
       " '65n1fgov4zr4_2025-10-27T010000_762c775ae454d23f2c6b6a75623d14c7_be8220.csv.gz',\n",
       " '65n1fgov4zr4_2025-10-27T010000_762c775ae454d23f2c6b6a75623d14c7_be8221.csv.gz',\n",
       " '65n1fgov4zr4_2025-10-27T010000_762c775ae454d23f2c6b6a75623d14c7_c35750.csv.gz',\n",
       " '65n1fgov4zr4_2025-10-27T010000_762c775ae454d23f2c6b6a75623d14c7_c35751.csv.gz']"
      ]
     },
     "execution_count": 10,
     "metadata": {},
     "output_type": "execute_result"
    }
   ],
   "source": [
    "container_name_uat = \"adjuststblive\"\n",
    "container_client_uat = blob_service_client.get_container_client(container_name_uat)\n",
    "from collections import defaultdict\n",
    "files = [i.name for i in container_client_uat.list_blobs()]\n",
    "groups = defaultdict(list)\n",
    "for f in files:\n",
    "    dt = f.split('_')[1]\n",
    "    groups[dt].append(f)\n",
    "groups[dt]"
   ]
  },
  {
   "cell_type": "code",
   "execution_count": 11,
   "id": "29020014",
   "metadata": {
    "execution": {
     "iopub.execute_input": "2025-10-27T02:06:00.478961Z",
     "iopub.status.busy": "2025-10-27T02:06:00.478794Z",
     "iopub.status.idle": "2025-10-27T02:06:00.484037Z",
     "shell.execute_reply": "2025-10-27T02:06:00.483238Z"
    },
    "papermill": {
     "duration": 0.010923,
     "end_time": "2025-10-27T02:06:00.484590",
     "exception": false,
     "start_time": "2025-10-27T02:06:00.473667",
     "status": "completed"
    },
    "tags": []
   },
   "outputs": [
    {
     "data": {
      "text/plain": [
       "['2025-10-26T000000',\n",
       " '2025-10-26T010000',\n",
       " '2025-10-26T020000',\n",
       " '2025-10-26T030000',\n",
       " '2025-10-26T040000',\n",
       " '2025-10-26T050000',\n",
       " '2025-10-26T060000',\n",
       " '2025-10-26T070000',\n",
       " '2025-10-26T080000',\n",
       " '2025-10-26T090000',\n",
       " '2025-10-26T100000',\n",
       " '2025-10-26T110000',\n",
       " '2025-10-26T120000',\n",
       " '2025-10-26T130000',\n",
       " '2025-10-26T140000',\n",
       " '2025-10-26T150000',\n",
       " '2025-10-26T160000',\n",
       " '2025-10-26T170000',\n",
       " '2025-10-26T180000',\n",
       " '2025-10-26T190000',\n",
       " '2025-10-26T200000',\n",
       " '2025-10-26T210000',\n",
       " '2025-10-26T220000',\n",
       " '2025-10-26T230000',\n",
       " '2025-10-27T000000',\n",
       " '2025-10-27T010000']"
      ]
     },
     "execution_count": 11,
     "metadata": {},
     "output_type": "execute_result"
    }
   ],
   "source": [
    "# need_process = pd.date_range(start=already_processed[-1], end=today).strftime('%Y-%m-%d').to_list()\n",
    "# need_process\n",
    "\n",
    "B = datetime.strptime(dt, \"%Y-%m-%dT%H0000\")\n",
    "A = datetime.strptime(already_processed_ts[-1], \"%Y-%m-%dT%H0000\")\n",
    "need_process_ts =  pd.date_range(A, B, freq='h').strftime('%Y-%m-%dT%H0000').tolist()\n",
    "need_process_ts"
   ]
  },
  {
   "cell_type": "code",
   "execution_count": 12,
   "id": "9d8bf464",
   "metadata": {
    "execution": {
     "iopub.execute_input": "2025-10-27T02:06:00.494110Z",
     "iopub.status.busy": "2025-10-27T02:06:00.493953Z",
     "iopub.status.idle": "2025-10-27T02:14:08.394621Z",
     "shell.execute_reply": "2025-10-27T02:14:08.393709Z"
    },
    "id": "g-W3s2nRyRY7",
    "papermill": {
     "duration": 487.912185,
     "end_time": "2025-10-27T02:14:08.401112",
     "exception": false,
     "start_time": "2025-10-27T02:06:00.488927",
     "status": "completed"
    },
    "tags": []
   },
   "outputs": [
    {
     "name": "stderr",
     "output_type": "stream",
     "text": [
      "\r",
      "  0%|          | 0/2272 [00:00<?, ?it/s]"
     ]
    },
    {
     "name": "stderr",
     "output_type": "stream",
     "text": [
      "\r",
      " 99%|█████████▉| 2247/2272 [00:23<00:00, 96.29it/s]"
     ]
    },
    {
     "name": "stdout",
     "output_type": "stream",
     "text": [
      "Done dt=2025-10-26/2025-10-26T000000.parquet\n"
     ]
    },
    {
     "name": "stderr",
     "output_type": "stream",
     "text": [
      "\r",
      " 99%|█████████▉| 2247/2272 [00:42<00:00, 96.29it/s]"
     ]
    },
    {
     "name": "stderr",
     "output_type": "stream",
     "text": [
      "\r",
      " 99%|█████████▉| 2248/2272 [00:44<00:00, 42.47it/s]"
     ]
    },
    {
     "name": "stdout",
     "output_type": "stream",
     "text": [
      "Done dt=2025-10-26/2025-10-26T010000.parquet\n"
     ]
    },
    {
     "name": "stderr",
     "output_type": "stream",
     "text": [
      "\r",
      " 99%|█████████▉| 2249/2272 [01:05<00:00, 23.26it/s]"
     ]
    },
    {
     "name": "stdout",
     "output_type": "stream",
     "text": [
      "Done dt=2025-10-26/2025-10-26T020000.parquet\n"
     ]
    },
    {
     "name": "stderr",
     "output_type": "stream",
     "text": [
      "\r",
      " 99%|█████████▉| 2250/2272 [01:26<00:01, 14.28it/s]"
     ]
    },
    {
     "name": "stdout",
     "output_type": "stream",
     "text": [
      "Done dt=2025-10-26/2025-10-26T030000.parquet\n"
     ]
    },
    {
     "name": "stderr",
     "output_type": "stream",
     "text": [
      "\r",
      " 99%|█████████▉| 2251/2272 [01:47<00:02,  9.24it/s]"
     ]
    },
    {
     "name": "stdout",
     "output_type": "stream",
     "text": [
      "Done dt=2025-10-26/2025-10-26T040000.parquet\n"
     ]
    },
    {
     "name": "stderr",
     "output_type": "stream",
     "text": [
      "\r",
      " 99%|█████████▉| 2252/2272 [02:07<00:03,  6.19it/s]"
     ]
    },
    {
     "name": "stdout",
     "output_type": "stream",
     "text": [
      "Done dt=2025-10-26/2025-10-26T050000.parquet\n"
     ]
    },
    {
     "name": "stderr",
     "output_type": "stream",
     "text": [
      "\r",
      " 99%|█████████▉| 2253/2272 [02:27<00:04,  4.25it/s]"
     ]
    },
    {
     "name": "stdout",
     "output_type": "stream",
     "text": [
      "Done dt=2025-10-26/2025-10-26T060000.parquet\n"
     ]
    },
    {
     "name": "stderr",
     "output_type": "stream",
     "text": [
      "\r",
      " 99%|█████████▉| 2254/2272 [02:47<00:06,  2.92it/s]"
     ]
    },
    {
     "name": "stdout",
     "output_type": "stream",
     "text": [
      "Done dt=2025-10-26/2025-10-26T070000.parquet\n"
     ]
    },
    {
     "name": "stderr",
     "output_type": "stream",
     "text": [
      "\r",
      " 99%|█████████▉| 2255/2272 [03:08<00:08,  2.01it/s]"
     ]
    },
    {
     "name": "stdout",
     "output_type": "stream",
     "text": [
      "Done dt=2025-10-26/2025-10-26T080000.parquet\n"
     ]
    },
    {
     "name": "stderr",
     "output_type": "stream",
     "text": [
      "\r",
      " 99%|█████████▉| 2256/2272 [03:30<00:11,  1.39it/s]"
     ]
    },
    {
     "name": "stdout",
     "output_type": "stream",
     "text": [
      "Done dt=2025-10-26/2025-10-26T090000.parquet\n"
     ]
    },
    {
     "name": "stderr",
     "output_type": "stream",
     "text": [
      "\r",
      " 99%|█████████▉| 2257/2272 [03:51<00:15,  1.03s/it]"
     ]
    },
    {
     "name": "stdout",
     "output_type": "stream",
     "text": [
      "Done dt=2025-10-26/2025-10-26T100000.parquet\n"
     ]
    },
    {
     "name": "stderr",
     "output_type": "stream",
     "text": [
      "\r",
      " 99%|█████████▉| 2258/2272 [04:13<00:20,  1.46s/it]"
     ]
    },
    {
     "name": "stdout",
     "output_type": "stream",
     "text": [
      "Done dt=2025-10-26/2025-10-26T110000.parquet\n"
     ]
    },
    {
     "name": "stderr",
     "output_type": "stream",
     "text": [
      "\r",
      " 99%|█████████▉| 2259/2272 [04:34<00:26,  2.04s/it]"
     ]
    },
    {
     "name": "stdout",
     "output_type": "stream",
     "text": [
      "Done dt=2025-10-26/2025-10-26T120000.parquet\n"
     ]
    },
    {
     "name": "stderr",
     "output_type": "stream",
     "text": [
      "\r",
      " 99%|█████████▉| 2260/2272 [04:56<00:33,  2.83s/it]"
     ]
    },
    {
     "name": "stdout",
     "output_type": "stream",
     "text": [
      "Done dt=2025-10-26/2025-10-26T130000.parquet\n"
     ]
    },
    {
     "name": "stderr",
     "output_type": "stream",
     "text": [
      "\r",
      "100%|█████████▉| 2261/2272 [05:16<00:41,  3.78s/it]"
     ]
    },
    {
     "name": "stdout",
     "output_type": "stream",
     "text": [
      "Done dt=2025-10-26/2025-10-26T140000.parquet\n"
     ]
    },
    {
     "name": "stderr",
     "output_type": "stream",
     "text": [
      "\r",
      "100%|█████████▉| 2262/2272 [05:35<00:48,  4.82s/it]"
     ]
    },
    {
     "name": "stdout",
     "output_type": "stream",
     "text": [
      "Done dt=2025-10-26/2025-10-26T150000.parquet\n"
     ]
    },
    {
     "name": "stderr",
     "output_type": "stream",
     "text": [
      "\r",
      "100%|█████████▉| 2263/2272 [05:51<00:52,  5.85s/it]"
     ]
    },
    {
     "name": "stdout",
     "output_type": "stream",
     "text": [
      "Done dt=2025-10-26/2025-10-26T160000.parquet\n"
     ]
    },
    {
     "name": "stderr",
     "output_type": "stream",
     "text": [
      "\r",
      "100%|█████████▉| 2264/2272 [06:05<00:54,  6.82s/it]"
     ]
    },
    {
     "name": "stdout",
     "output_type": "stream",
     "text": [
      "Done dt=2025-10-26/2025-10-26T170000.parquet\n"
     ]
    },
    {
     "name": "stderr",
     "output_type": "stream",
     "text": [
      "\r",
      "100%|█████████▉| 2265/2272 [06:18<00:54,  7.76s/it]"
     ]
    },
    {
     "name": "stdout",
     "output_type": "stream",
     "text": [
      "Done dt=2025-10-26/2025-10-26T180000.parquet\n"
     ]
    },
    {
     "name": "stderr",
     "output_type": "stream",
     "text": [
      "\r",
      "100%|█████████▉| 2266/2272 [06:31<00:51,  8.61s/it]"
     ]
    },
    {
     "name": "stdout",
     "output_type": "stream",
     "text": [
      "Done dt=2025-10-26/2025-10-26T190000.parquet\n"
     ]
    },
    {
     "name": "stderr",
     "output_type": "stream",
     "text": [
      "\r",
      "100%|█████████▉| 2267/2272 [06:44<00:47,  9.40s/it]"
     ]
    },
    {
     "name": "stdout",
     "output_type": "stream",
     "text": [
      "Done dt=2025-10-26/2025-10-26T200000.parquet\n"
     ]
    },
    {
     "name": "stderr",
     "output_type": "stream",
     "text": [
      "\r",
      "100%|█████████▉| 2268/2272 [06:57<00:40, 10.19s/it]"
     ]
    },
    {
     "name": "stdout",
     "output_type": "stream",
     "text": [
      "Done dt=2025-10-26/2025-10-26T210000.parquet\n"
     ]
    },
    {
     "name": "stderr",
     "output_type": "stream",
     "text": [
      "\r",
      "100%|█████████▉| 2269/2272 [07:10<00:32, 10.96s/it]"
     ]
    },
    {
     "name": "stdout",
     "output_type": "stream",
     "text": [
      "Done dt=2025-10-26/2025-10-26T220000.parquet\n"
     ]
    },
    {
     "name": "stderr",
     "output_type": "stream",
     "text": [
      "\r",
      "100%|█████████▉| 2270/2272 [07:26<00:24, 12.29s/it]"
     ]
    },
    {
     "name": "stdout",
     "output_type": "stream",
     "text": [
      "Done dt=2025-10-26/2025-10-26T230000.parquet\n"
     ]
    },
    {
     "name": "stderr",
     "output_type": "stream",
     "text": [
      "\r",
      "100%|█████████▉| 2271/2272 [07:46<00:14, 14.33s/it]"
     ]
    },
    {
     "name": "stdout",
     "output_type": "stream",
     "text": [
      "Done dt=2025-10-27/2025-10-27T000000.parquet\n"
     ]
    },
    {
     "name": "stderr",
     "output_type": "stream",
     "text": [
      "\r",
      "100%|██████████| 2272/2272 [08:07<00:00, 16.23s/it]"
     ]
    },
    {
     "name": "stderr",
     "output_type": "stream",
     "text": [
      "\r",
      "100%|██████████| 2272/2272 [08:07<00:00,  4.66it/s]"
     ]
    },
    {
     "name": "stdout",
     "output_type": "stream",
     "text": [
      "Done dt=2025-10-27/2025-10-27T010000.parquet\n"
     ]
    },
    {
     "name": "stderr",
     "output_type": "stream",
     "text": [
      "\n"
     ]
    }
   ],
   "source": [
    "storage_options = {\n",
    "    \"account_name\": account_name,\n",
    "    \"account_key\":  account_key,\n",
    "}\n",
    "\n",
    "for ts, files in tqdm(groups.items()):\n",
    "    if ts not in need_process_ts: continue\n",
    "    dt = ts[:10]\n",
    "    # if dt not in need_process:\n",
    "    #     continue\n",
    "    df = pl.scan_csv(f\"az://adjuststblive/*_{ts}_*.csv.gz\", storage_options = storage_options,glob=True, has_header = True, null_values = [\"\",\"NULL\"], ignore_errors=True).select(pl.all().cast(pl.Utf8))\n",
    "    df.sink_parquet(f\"az://adjuststbuatprocessed/live/processing/dt={dt}/{ts}.parquet\", storage_options = storage_options, compression=\"snappy\")\n",
    "    print(f'Done dt={dt}/{ts}.parquet')\n",
    "        "
   ]
  },
  {
   "cell_type": "code",
   "execution_count": 13,
   "id": "e12b68d1",
   "metadata": {
    "execution": {
     "iopub.execute_input": "2025-10-27T02:14:08.415106Z",
     "iopub.status.busy": "2025-10-27T02:14:08.414932Z",
     "iopub.status.idle": "2025-10-27T02:14:08.418993Z",
     "shell.execute_reply": "2025-10-27T02:14:08.418227Z"
    },
    "papermill": {
     "duration": 0.011994,
     "end_time": "2025-10-27T02:14:08.419622",
     "exception": false,
     "start_time": "2025-10-27T02:14:08.407628",
     "status": "completed"
    },
    "tags": []
   },
   "outputs": [
    {
     "data": {
      "text/plain": [
       "{'2025-10-26', '2025-10-27'}"
      ]
     },
     "execution_count": 13,
     "metadata": {},
     "output_type": "execute_result"
    }
   ],
   "source": [
    "need_process = set([i.split(\"T\")[0] for i in need_process_ts])\n",
    "need_process"
   ]
  },
  {
   "cell_type": "code",
   "execution_count": 14,
   "id": "0c89f1b8",
   "metadata": {
    "execution": {
     "iopub.execute_input": "2025-10-27T02:14:08.433641Z",
     "iopub.status.busy": "2025-10-27T02:14:08.433377Z",
     "iopub.status.idle": "2025-10-27T02:15:04.076718Z",
     "shell.execute_reply": "2025-10-27T02:15:04.075974Z"
    },
    "id": "sBm7rfFUyePJ",
    "papermill": {
     "duration": 55.651402,
     "end_time": "2025-10-27T02:15:04.077589",
     "exception": false,
     "start_time": "2025-10-27T02:14:08.426187",
     "status": "completed"
    },
    "tags": []
   },
   "outputs": [
    {
     "name": "stdout",
     "output_type": "stream",
     "text": [
      "\n",
      " Done 2025-10-26\n",
      "\n"
     ]
    },
    {
     "name": "stdout",
     "output_type": "stream",
     "text": [
      "\n",
      " Done 2025-10-27\n",
      "\n"
     ]
    }
   ],
   "source": [
    "for dt in need_process:\n",
    "  df = pl.scan_parquet(f\"az://adjuststbuatprocessed/live/processing/dt={dt}/*.parquet\", storage_options=storage_options,glob=True).with_columns(pl.lit(dt).alias(\"dt\"))\n",
    "  df.sink_parquet(f\"az://adjuststbuatprocessed/live/output/{dt}.parquet\", storage_options=storage_options, compression=\"snappy\")\n",
    "  print(f'\\n Done {dt}\\n')"
   ]
  }
 ],
 "metadata": {
  "colab": {
   "authorship_tag": "ABX9TyOfzO6uvqUX+Tt89Y73G9E8",
   "include_colab_link": true,
   "provenance": []
  },
  "kernelspec": {
   "display_name": "Python 3",
   "name": "python3"
  },
  "language_info": {
   "codemirror_mode": {
    "name": "ipython",
    "version": 3
   },
   "file_extension": ".py",
   "mimetype": "text/x-python",
   "name": "python",
   "nbconvert_exporter": "python",
   "pygments_lexer": "ipython3",
   "version": "3.11.13"
  },
  "papermill": {
   "default_parameters": {},
   "duration": 758.239846,
   "end_time": "2025-10-27T02:15:04.801409",
   "environment_variables": {},
   "exception": null,
   "input_path": "notebooks/ADJUST_JOB.ipynb",
   "output_path": "outputs/ADJUST_JOB_2025-10-27.ipynb",
   "parameters": {
    "RUN_DATE": "2025-10-27"
   },
   "start_time": "2025-10-27T02:02:26.561563",
   "version": "2.6.0"
  }
 },
 "nbformat": 4,
 "nbformat_minor": 5
}