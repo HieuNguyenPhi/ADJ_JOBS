{
 "cells": [
  {
   "cell_type": "code",
   "execution_count": 1,
   "id": "ed417018",
   "metadata": {
    "execution": {
     "iopub.execute_input": "2025-10-28T01:51:47.630577Z",
     "iopub.status.busy": "2025-10-28T01:51:47.630324Z",
     "iopub.status.idle": "2025-10-28T01:51:47.635873Z",
     "shell.execute_reply": "2025-10-28T01:51:47.634906Z"
    },
    "papermill": {
     "duration": 0.009927,
     "end_time": "2025-10-28T01:51:47.636529",
     "exception": false,
     "start_time": "2025-10-28T01:51:47.626602",
     "status": "completed"
    },
    "tags": [
     "injected-parameters"
    ]
   },
   "outputs": [],
   "source": [
    "# Parameters\n",
    "RUN_DATE = \"2025-10-28\"\n"
   ]
  },
  {
   "cell_type": "markdown",
   "id": "a66fd232",
   "metadata": {
    "colab_type": "text",
    "id": "view-in-github",
    "papermill": {
     "duration": 0.001921,
     "end_time": "2025-10-28T01:51:47.640707",
     "exception": false,
     "start_time": "2025-10-28T01:51:47.638786",
     "status": "completed"
    },
    "tags": []
   },
   "source": [
    "<a href=\"https://colab.research.google.com/github/HieuNguyenPhi/ADJ_JOBS/blob/main/notebooks/ADJUST_JOB.ipynb\" target=\"_parent\"><img src=\"https://colab.research.google.com/assets/colab-badge.svg\" alt=\"Open In Colab\"/></a>"
   ]
  },
  {
   "cell_type": "markdown",
   "id": "00247061",
   "metadata": {
    "papermill": {
     "duration": 0.002866,
     "end_time": "2025-10-28T01:51:47.645677",
     "exception": false,
     "start_time": "2025-10-28T01:51:47.642811",
     "status": "completed"
    },
    "tags": []
   },
   "source": [
    "# UAT"
   ]
  },
  {
   "cell_type": "code",
   "execution_count": 2,
   "id": "ddab32bb",
   "metadata": {
    "execution": {
     "iopub.execute_input": "2025-10-28T01:51:47.650567Z",
     "iopub.status.busy": "2025-10-28T01:51:47.650388Z",
     "iopub.status.idle": "2025-10-28T01:51:53.773016Z",
     "shell.execute_reply": "2025-10-28T01:51:53.772159Z"
    },
    "id": "ycUR2r1dq1Nm",
    "papermill": {
     "duration": 6.126042,
     "end_time": "2025-10-28T01:51:53.773705",
     "exception": false,
     "start_time": "2025-10-28T01:51:47.647663",
     "status": "completed"
    },
    "tags": []
   },
   "outputs": [
    {
     "data": {
      "text/plain": [
       "['2025-10-26T150000',\n",
       " '2025-10-26T160000',\n",
       " '2025-10-26T170000',\n",
       " '2025-10-26T210000',\n",
       " '2025-10-27T010000']"
      ]
     },
     "execution_count": 2,
     "metadata": {},
     "output_type": "execute_result"
    }
   ],
   "source": [
    "import os\n",
    "from azure.storage.blob import BlobServiceClient\n",
    "\n",
    "account_name = os.getenv('ACCOUNT_NAME')\n",
    "account_key = os.getenv('ACCOUNT_KEY')\n",
    "# Replace with your Azure Storage account name and SAS token or connection string\n",
    "connect_str = f\"DefaultEndpointsProtocol=https;AccountName={account_name};AccountKey={account_key};EndpointSuffix=core.windows.net\"\n",
    "blob_service_client = BlobServiceClient.from_connection_string(connect_str)\n",
    "container_list = blob_service_client.list_containers()\n",
    "container_name = \"adjuststbuatprocessed\" #os.getenv('CONTAINER_NAME')\n",
    "container_client = blob_service_client.get_container_client(container_name)\n",
    "# already_processed = [file.name.split('/')[1].split('.')[0] for file in container_client.list_blobs() if file.name.split('/')[0] == 'output']\n",
    "# already_processed[-5:]\n",
    "already_processed_ts = sorted([file.name.split('/')[-1].split(\".\")[0] for file in container_client.list_blobs() if file.name.split('/')[0] == 'processing'])\n",
    "already_processed_ts[-5:]"
   ]
  },
  {
   "cell_type": "code",
   "execution_count": 3,
   "id": "f653c670",
   "metadata": {
    "execution": {
     "iopub.execute_input": "2025-10-28T01:51:53.779518Z",
     "iopub.status.busy": "2025-10-28T01:51:53.779222Z",
     "iopub.status.idle": "2025-10-28T01:52:02.688564Z",
     "shell.execute_reply": "2025-10-28T01:52:02.687541Z"
    },
    "id": "xyPuVC12s7fn",
    "papermill": {
     "duration": 8.913012,
     "end_time": "2025-10-28T01:52:02.689148",
     "exception": false,
     "start_time": "2025-10-28T01:51:53.776136",
     "status": "completed"
    },
    "tags": []
   },
   "outputs": [
    {
     "data": {
      "text/plain": [
       "['rsh20bkkb4zk_2025-10-28T000000_762c775ae454d23f2c6b6a75623d14c7_be8220.csv.gz',\n",
       " 'rsh20bkkb4zk_2025-10-28T000000_762c775ae454d23f2c6b6a75623d14c7_be8221.csv.gz']"
      ]
     },
     "execution_count": 3,
     "metadata": {},
     "output_type": "execute_result"
    }
   ],
   "source": [
    "container_name_uat = \"adjuststbuat\"\n",
    "container_client_uat = blob_service_client.get_container_client(container_name_uat)\n",
    "from collections import defaultdict\n",
    "files = [i.name for i in container_client_uat.list_blobs()]\n",
    "groups = defaultdict(list)\n",
    "for f in files:\n",
    "    dt = f.split('_')[1]\n",
    "    groups[dt].append(f)\n",
    "groups[dt]"
   ]
  },
  {
   "cell_type": "code",
   "execution_count": 4,
   "id": "b9ec388e",
   "metadata": {
    "execution": {
     "iopub.execute_input": "2025-10-28T01:52:02.695573Z",
     "iopub.status.busy": "2025-10-28T01:52:02.695386Z",
     "iopub.status.idle": "2025-10-28T01:52:02.698322Z",
     "shell.execute_reply": "2025-10-28T01:52:02.697586Z"
    },
    "papermill": {
     "duration": 0.007179,
     "end_time": "2025-10-28T01:52:02.698944",
     "exception": false,
     "start_time": "2025-10-28T01:52:02.691765",
     "status": "completed"
    },
    "tags": []
   },
   "outputs": [],
   "source": [
    "# from datetime import date, timedelta, datetime\n",
    "# import pandas as pd\n",
    "# today = date.today().strftime('%Y-%m-%d')\n",
    "# yesterday = (date.today() - timedelta(days = 1) ).strftime('%Y-%m-%d')\n",
    "# check_date = dt.split(\"T\")[0]\n",
    "# if check_date == today:\n",
    "#     need_process = pd.date_range(start=already_processed[-1], end=today).strftime('%Y-%m-%d').to_list()\n",
    "# else:\n",
    "#     need_process = pd.date_range(start=already_processed[-1], end=yesterday).strftime('%Y-%m-%d').to_list()\n",
    "# need_process"
   ]
  },
  {
   "cell_type": "code",
   "execution_count": 5,
   "id": "3c3e96eb",
   "metadata": {
    "execution": {
     "iopub.execute_input": "2025-10-28T01:52:02.704306Z",
     "iopub.status.busy": "2025-10-28T01:52:02.704137Z",
     "iopub.status.idle": "2025-10-28T01:52:02.965722Z",
     "shell.execute_reply": "2025-10-28T01:52:02.964833Z"
    },
    "papermill": {
     "duration": 0.265095,
     "end_time": "2025-10-28T01:52:02.966342",
     "exception": false,
     "start_time": "2025-10-28T01:52:02.701247",
     "status": "completed"
    },
    "tags": []
   },
   "outputs": [
    {
     "data": {
      "text/plain": [
       "['2025-10-26T210000',\n",
       " '2025-10-26T220000',\n",
       " '2025-10-26T230000',\n",
       " '2025-10-27T000000',\n",
       " '2025-10-27T010000',\n",
       " '2025-10-27T020000',\n",
       " '2025-10-27T030000',\n",
       " '2025-10-27T040000',\n",
       " '2025-10-27T050000',\n",
       " '2025-10-27T060000',\n",
       " '2025-10-27T070000',\n",
       " '2025-10-27T080000',\n",
       " '2025-10-27T090000',\n",
       " '2025-10-27T100000',\n",
       " '2025-10-27T110000',\n",
       " '2025-10-27T120000',\n",
       " '2025-10-27T130000',\n",
       " '2025-10-27T140000',\n",
       " '2025-10-27T150000',\n",
       " '2025-10-27T160000',\n",
       " '2025-10-27T170000',\n",
       " '2025-10-27T180000',\n",
       " '2025-10-27T190000',\n",
       " '2025-10-27T200000',\n",
       " '2025-10-27T210000',\n",
       " '2025-10-27T220000',\n",
       " '2025-10-27T230000',\n",
       " '2025-10-28T000000']"
      ]
     },
     "execution_count": 5,
     "metadata": {},
     "output_type": "execute_result"
    }
   ],
   "source": [
    "from datetime import datetime\n",
    "import pandas as pd\n",
    "B = datetime.strptime(dt, \"%Y-%m-%dT%H0000\")\n",
    "A = datetime.strptime(already_processed_ts[-2], \"%Y-%m-%dT%H0000\")\n",
    "need_process_ts =  pd.date_range(A, B, freq='h').strftime('%Y-%m-%dT%H0000').tolist()\n",
    "need_process_ts"
   ]
  },
  {
   "cell_type": "code",
   "execution_count": 6,
   "id": "cd2902a1",
   "metadata": {
    "execution": {
     "iopub.execute_input": "2025-10-28T01:52:02.972602Z",
     "iopub.status.busy": "2025-10-28T01:52:02.972261Z",
     "iopub.status.idle": "2025-10-28T01:55:32.608761Z",
     "shell.execute_reply": "2025-10-28T01:55:32.607785Z"
    },
    "papermill": {
     "duration": 209.640337,
     "end_time": "2025-10-28T01:55:32.609390",
     "exception": false,
     "start_time": "2025-10-28T01:52:02.969053",
     "status": "completed"
    },
    "tags": []
   },
   "outputs": [
    {
     "name": "stderr",
     "output_type": "stream",
     "text": [
      "\r",
      "  0%|          | 0/2218 [00:00<?, ?it/s]"
     ]
    },
    {
     "name": "stderr",
     "output_type": "stream",
     "text": [
      "\r",
      " 99%|█████████▉| 2194/2218 [00:10<00:00, 214.25it/s]"
     ]
    },
    {
     "name": "stdout",
     "output_type": "stream",
     "text": [
      "Done dt=2025-10-26/2025-10-26T210000.parquet\n"
     ]
    },
    {
     "name": "stdout",
     "output_type": "stream",
     "text": [
      "Done dt=2025-10-27/2025-10-27T010000.parquet\n"
     ]
    },
    {
     "name": "stdout",
     "output_type": "stream",
     "text": [
      "Done dt=2025-10-27/2025-10-27T020000.parquet\n"
     ]
    },
    {
     "name": "stderr",
     "output_type": "stream",
     "text": [
      "\r",
      " 99%|█████████▉| 2194/2218 [00:29<00:00, 214.25it/s]"
     ]
    },
    {
     "name": "stderr",
     "output_type": "stream",
     "text": [
      "\r",
      " 99%|█████████▉| 2197/2218 [00:36<00:00, 45.88it/s] "
     ]
    },
    {
     "name": "stdout",
     "output_type": "stream",
     "text": [
      "Done dt=2025-10-27/2025-10-27T030000.parquet\n"
     ]
    },
    {
     "name": "stderr",
     "output_type": "stream",
     "text": [
      "\r",
      " 99%|█████████▉| 2198/2218 [00:45<00:00, 32.81it/s]"
     ]
    },
    {
     "name": "stdout",
     "output_type": "stream",
     "text": [
      "Done dt=2025-10-27/2025-10-27T040000.parquet\n"
     ]
    },
    {
     "name": "stderr",
     "output_type": "stream",
     "text": [
      "\r",
      " 99%|█████████▉| 2199/2218 [00:53<00:00, 24.46it/s]"
     ]
    },
    {
     "name": "stdout",
     "output_type": "stream",
     "text": [
      "Done dt=2025-10-27/2025-10-27T050000.parquet\n"
     ]
    },
    {
     "name": "stderr",
     "output_type": "stream",
     "text": [
      "\r",
      " 99%|█████████▉| 2200/2218 [01:02<00:01, 17.56it/s]"
     ]
    },
    {
     "name": "stdout",
     "output_type": "stream",
     "text": [
      "Done dt=2025-10-27/2025-10-27T060000.parquet\n"
     ]
    },
    {
     "name": "stderr",
     "output_type": "stream",
     "text": [
      "\r",
      " 99%|█████████▉| 2201/2218 [01:11<00:01, 12.52it/s]"
     ]
    },
    {
     "name": "stdout",
     "output_type": "stream",
     "text": [
      "Done dt=2025-10-27/2025-10-27T070000.parquet\n"
     ]
    },
    {
     "name": "stderr",
     "output_type": "stream",
     "text": [
      "\r",
      " 99%|█████████▉| 2202/2218 [01:19<00:01,  8.95it/s]"
     ]
    },
    {
     "name": "stdout",
     "output_type": "stream",
     "text": [
      "Done dt=2025-10-27/2025-10-27T080000.parquet\n"
     ]
    },
    {
     "name": "stderr",
     "output_type": "stream",
     "text": [
      "\r",
      " 99%|█████████▉| 2203/2218 [01:27<00:02,  6.42it/s]"
     ]
    },
    {
     "name": "stdout",
     "output_type": "stream",
     "text": [
      "Done dt=2025-10-27/2025-10-27T090000.parquet\n"
     ]
    },
    {
     "name": "stderr",
     "output_type": "stream",
     "text": [
      "\r",
      " 99%|█████████▉| 2204/2218 [01:36<00:03,  4.42it/s]"
     ]
    },
    {
     "name": "stdout",
     "output_type": "stream",
     "text": [
      "Done dt=2025-10-27/2025-10-27T100000.parquet\n"
     ]
    },
    {
     "name": "stderr",
     "output_type": "stream",
     "text": [
      "\r",
      " 99%|█████████▉| 2205/2218 [01:45<00:04,  3.19it/s]"
     ]
    },
    {
     "name": "stdout",
     "output_type": "stream",
     "text": [
      "Done dt=2025-10-27/2025-10-27T110000.parquet\n"
     ]
    },
    {
     "name": "stderr",
     "output_type": "stream",
     "text": [
      "\r",
      " 99%|█████████▉| 2206/2218 [01:53<00:05,  2.30it/s]"
     ]
    },
    {
     "name": "stdout",
     "output_type": "stream",
     "text": [
      "Done dt=2025-10-27/2025-10-27T120000.parquet\n"
     ]
    },
    {
     "name": "stderr",
     "output_type": "stream",
     "text": [
      "\r",
      "100%|█████████▉| 2207/2218 [02:01<00:06,  1.66it/s]"
     ]
    },
    {
     "name": "stdout",
     "output_type": "stream",
     "text": [
      "Done dt=2025-10-27/2025-10-27T130000.parquet\n"
     ]
    },
    {
     "name": "stderr",
     "output_type": "stream",
     "text": [
      "\r",
      "100%|█████████▉| 2208/2218 [02:09<00:08,  1.21it/s]"
     ]
    },
    {
     "name": "stdout",
     "output_type": "stream",
     "text": [
      "Done dt=2025-10-27/2025-10-27T140000.parquet\n"
     ]
    },
    {
     "name": "stderr",
     "output_type": "stream",
     "text": [
      "\r",
      "100%|█████████▉| 2209/2218 [02:18<00:10,  1.13s/it]"
     ]
    },
    {
     "name": "stdout",
     "output_type": "stream",
     "text": [
      "Done dt=2025-10-27/2025-10-27T150000.parquet\n"
     ]
    },
    {
     "name": "stderr",
     "output_type": "stream",
     "text": [
      "\r",
      "100%|█████████▉| 2210/2218 [02:26<00:12,  1.52s/it]"
     ]
    },
    {
     "name": "stdout",
     "output_type": "stream",
     "text": [
      "Done dt=2025-10-27/2025-10-27T160000.parquet\n"
     ]
    },
    {
     "name": "stderr",
     "output_type": "stream",
     "text": [
      "\r",
      "100%|█████████▉| 2211/2218 [02:34<00:14,  2.01s/it]"
     ]
    },
    {
     "name": "stdout",
     "output_type": "stream",
     "text": [
      "Done dt=2025-10-27/2025-10-27T170000.parquet\n"
     ]
    },
    {
     "name": "stderr",
     "output_type": "stream",
     "text": [
      "\r",
      "100%|█████████▉| 2212/2218 [02:42<00:15,  2.55s/it]"
     ]
    },
    {
     "name": "stdout",
     "output_type": "stream",
     "text": [
      "Done dt=2025-10-27/2025-10-27T180000.parquet\n"
     ]
    },
    {
     "name": "stderr",
     "output_type": "stream",
     "text": [
      "\r",
      "100%|█████████▉| 2213/2218 [02:50<00:15,  3.20s/it]"
     ]
    },
    {
     "name": "stdout",
     "output_type": "stream",
     "text": [
      "Done dt=2025-10-27/2025-10-27T190000.parquet\n"
     ]
    },
    {
     "name": "stderr",
     "output_type": "stream",
     "text": [
      "\r",
      "100%|█████████▉| 2214/2218 [02:58<00:15,  3.88s/it]"
     ]
    },
    {
     "name": "stdout",
     "output_type": "stream",
     "text": [
      "Done dt=2025-10-27/2025-10-27T200000.parquet\n"
     ]
    },
    {
     "name": "stderr",
     "output_type": "stream",
     "text": [
      "\r",
      "100%|█████████▉| 2215/2218 [03:06<00:13,  4.58s/it]"
     ]
    },
    {
     "name": "stdout",
     "output_type": "stream",
     "text": [
      "Done dt=2025-10-27/2025-10-27T210000.parquet\n"
     ]
    },
    {
     "name": "stderr",
     "output_type": "stream",
     "text": [
      "\r",
      "100%|█████████▉| 2216/2218 [03:14<00:10,  5.29s/it]"
     ]
    },
    {
     "name": "stdout",
     "output_type": "stream",
     "text": [
      "Done dt=2025-10-27/2025-10-27T220000.parquet\n"
     ]
    },
    {
     "name": "stderr",
     "output_type": "stream",
     "text": [
      "\r",
      "100%|█████████▉| 2217/2218 [03:21<00:05,  5.77s/it]"
     ]
    },
    {
     "name": "stdout",
     "output_type": "stream",
     "text": [
      "Done dt=2025-10-27/2025-10-27T230000.parquet\n"
     ]
    },
    {
     "name": "stderr",
     "output_type": "stream",
     "text": [
      "\r",
      "100%|██████████| 2218/2218 [03:29<00:00,  6.23s/it]"
     ]
    },
    {
     "name": "stderr",
     "output_type": "stream",
     "text": [
      "\r",
      "100%|██████████| 2218/2218 [03:29<00:00, 10.58it/s]"
     ]
    },
    {
     "name": "stdout",
     "output_type": "stream",
     "text": [
      "Done dt=2025-10-28/2025-10-28T000000.parquet\n"
     ]
    },
    {
     "name": "stderr",
     "output_type": "stream",
     "text": [
      "\n"
     ]
    }
   ],
   "source": [
    "import polars as pl \n",
    "from tqdm import tqdm\n",
    "storage_options = {\n",
    "    \"account_name\": account_name,\n",
    "    \"account_key\":  account_key,\n",
    "}\n",
    "\n",
    "for ts, files in tqdm(groups.items()):\n",
    "    if ts not in need_process_ts:\n",
    "        continue\n",
    "    dt = ts[:10]\n",
    "    # if dt not in need_process:\n",
    "    #     continue\n",
    "    df = pl.scan_csv(f\"az://adjuststbuat/*_{ts}_*.csv.gz\", storage_options = storage_options,glob=True, has_header = True, null_values = [\"\",\"NULL\"], ignore_errors=True).select(pl.all().cast(pl.Utf8))\n",
    "    df.sink_parquet(f\"az://adjuststbuatprocessed/processing/dt={dt}/{ts}.parquet\", storage_options = storage_options, compression=\"snappy\")\n",
    "    print(f'Done dt={dt}/{ts}.parquet')\n",
    "        "
   ]
  },
  {
   "cell_type": "code",
   "execution_count": 7,
   "id": "47a3319d",
   "metadata": {
    "execution": {
     "iopub.execute_input": "2025-10-28T01:55:32.619043Z",
     "iopub.status.busy": "2025-10-28T01:55:32.618864Z",
     "iopub.status.idle": "2025-10-28T01:55:32.623188Z",
     "shell.execute_reply": "2025-10-28T01:55:32.622425Z"
    },
    "papermill": {
     "duration": 0.009928,
     "end_time": "2025-10-28T01:55:32.623834",
     "exception": false,
     "start_time": "2025-10-28T01:55:32.613906",
     "status": "completed"
    },
    "tags": []
   },
   "outputs": [
    {
     "data": {
      "text/plain": [
       "{'2025-10-26', '2025-10-27', '2025-10-28'}"
      ]
     },
     "execution_count": 7,
     "metadata": {},
     "output_type": "execute_result"
    }
   ],
   "source": [
    "need_process = set([i.split(\"T\")[0] for i in need_process_ts])\n",
    "need_process"
   ]
  },
  {
   "cell_type": "code",
   "execution_count": 8,
   "id": "3a095c54",
   "metadata": {
    "execution": {
     "iopub.execute_input": "2025-10-28T01:55:32.633229Z",
     "iopub.status.busy": "2025-10-28T01:55:32.633070Z",
     "iopub.status.idle": "2025-10-28T01:55:42.496853Z",
     "shell.execute_reply": "2025-10-28T01:55:42.495961Z"
    },
    "papermill": {
     "duration": 9.869351,
     "end_time": "2025-10-28T01:55:42.497505",
     "exception": false,
     "start_time": "2025-10-28T01:55:32.628154",
     "status": "completed"
    },
    "tags": []
   },
   "outputs": [
    {
     "name": "stdout",
     "output_type": "stream",
     "text": [
      "\n",
      " Done 2025-10-27\n",
      "\n"
     ]
    },
    {
     "name": "stdout",
     "output_type": "stream",
     "text": [
      "\n",
      " Done 2025-10-28\n",
      "\n"
     ]
    },
    {
     "name": "stdout",
     "output_type": "stream",
     "text": [
      "\n",
      " Done 2025-10-26\n",
      "\n"
     ]
    }
   ],
   "source": [
    "for dt in need_process:\n",
    "  df = pl.scan_parquet(f\"az://adjuststbuatprocessed/processing/dt={dt}/*.parquet\", storage_options=storage_options,glob=True).with_columns(pl.lit(dt).alias(\"dt\"))\n",
    "  df.sink_parquet(f\"az://adjuststbuatprocessed/output/{dt}.parquet\", storage_options=storage_options, compression=\"snappy\")\n",
    "  print(f'\\n Done {dt}\\n')"
   ]
  },
  {
   "cell_type": "markdown",
   "id": "f1c30169",
   "metadata": {
    "id": "2TvKr29qyJd_",
    "papermill": {
     "duration": 0.006163,
     "end_time": "2025-10-28T01:55:42.508427",
     "exception": false,
     "start_time": "2025-10-28T01:55:42.502264",
     "status": "completed"
    },
    "tags": []
   },
   "source": [
    "# Live"
   ]
  },
  {
   "cell_type": "code",
   "execution_count": 9,
   "id": "7ce7061d",
   "metadata": {
    "execution": {
     "iopub.execute_input": "2025-10-28T01:55:42.518442Z",
     "iopub.status.busy": "2025-10-28T01:55:42.518218Z",
     "iopub.status.idle": "2025-10-28T01:55:48.565121Z",
     "shell.execute_reply": "2025-10-28T01:55:48.564196Z"
    },
    "id": "EnaFsdZFxpwc",
    "papermill": {
     "duration": 6.052879,
     "end_time": "2025-10-28T01:55:48.565745",
     "exception": false,
     "start_time": "2025-10-28T01:55:42.512866",
     "status": "completed"
    },
    "tags": []
   },
   "outputs": [
    {
     "data": {
      "text/plain": [
       "['2025-10-26T210000',\n",
       " '2025-10-26T220000',\n",
       " '2025-10-26T230000',\n",
       " '2025-10-27T000000',\n",
       " '2025-10-27T010000']"
      ]
     },
     "execution_count": 9,
     "metadata": {},
     "output_type": "execute_result"
    }
   ],
   "source": [
    "# already_processed = [file.name.split('/')[-1].split('.')[0] for file in container_client.list_blobs() if file.name[:12] == 'live/output/']\n",
    "# already_processed[-5:]\n",
    "already_processed_ts = sorted([file.name.split('/')[-1].split(\".\")[0] for file in container_client.list_blobs() if (file.name.split('/')[0] + \"/\" + file.name.split('/')[1]) == 'live/processing'])\n",
    "already_processed_ts[-5:]"
   ]
  },
  {
   "cell_type": "code",
   "execution_count": 10,
   "id": "e5717065",
   "metadata": {
    "execution": {
     "iopub.execute_input": "2025-10-28T01:55:48.576464Z",
     "iopub.status.busy": "2025-10-28T01:55:48.576129Z",
     "iopub.status.idle": "2025-10-28T01:56:01.421433Z",
     "shell.execute_reply": "2025-10-28T01:56:01.420532Z"
    },
    "id": "I7Er6YEUyOsL",
    "papermill": {
     "duration": 12.851475,
     "end_time": "2025-10-28T01:56:01.422086",
     "exception": false,
     "start_time": "2025-10-28T01:55:48.570611",
     "status": "completed"
    },
    "tags": []
   },
   "outputs": [
    {
     "data": {
      "text/plain": [
       "['65n1fgov4zr4_2025-10-28T000000_762c775ae454d23f2c6b6a75623d14c7_2853a0.csv.gz',\n",
       " '65n1fgov4zr4_2025-10-28T000000_762c775ae454d23f2c6b6a75623d14c7_2853a1.csv.gz',\n",
       " '65n1fgov4zr4_2025-10-28T000000_762c775ae454d23f2c6b6a75623d14c7_be8220.csv.gz',\n",
       " '65n1fgov4zr4_2025-10-28T000000_762c775ae454d23f2c6b6a75623d14c7_be8221.csv.gz',\n",
       " '65n1fgov4zr4_2025-10-28T000000_762c775ae454d23f2c6b6a75623d14c7_c35750.csv.gz',\n",
       " '65n1fgov4zr4_2025-10-28T000000_762c775ae454d23f2c6b6a75623d14c7_c35751.csv.gz']"
      ]
     },
     "execution_count": 10,
     "metadata": {},
     "output_type": "execute_result"
    }
   ],
   "source": [
    "container_name_uat = \"adjuststblive\"\n",
    "container_client_uat = blob_service_client.get_container_client(container_name_uat)\n",
    "from collections import defaultdict\n",
    "files = [i.name for i in container_client_uat.list_blobs()]\n",
    "groups = defaultdict(list)\n",
    "for f in files:\n",
    "    dt = f.split('_')[1]\n",
    "    groups[dt].append(f)\n",
    "groups[dt]"
   ]
  },
  {
   "cell_type": "code",
   "execution_count": 11,
   "id": "73bcce2a",
   "metadata": {
    "execution": {
     "iopub.execute_input": "2025-10-28T01:56:01.432876Z",
     "iopub.status.busy": "2025-10-28T01:56:01.432691Z",
     "iopub.status.idle": "2025-10-28T01:56:01.437859Z",
     "shell.execute_reply": "2025-10-28T01:56:01.437182Z"
    },
    "papermill": {
     "duration": 0.011561,
     "end_time": "2025-10-28T01:56:01.438669",
     "exception": false,
     "start_time": "2025-10-28T01:56:01.427108",
     "status": "completed"
    },
    "tags": []
   },
   "outputs": [
    {
     "data": {
      "text/plain": [
       "['2025-10-27T010000',\n",
       " '2025-10-27T020000',\n",
       " '2025-10-27T030000',\n",
       " '2025-10-27T040000',\n",
       " '2025-10-27T050000',\n",
       " '2025-10-27T060000',\n",
       " '2025-10-27T070000',\n",
       " '2025-10-27T080000',\n",
       " '2025-10-27T090000',\n",
       " '2025-10-27T100000',\n",
       " '2025-10-27T110000',\n",
       " '2025-10-27T120000',\n",
       " '2025-10-27T130000',\n",
       " '2025-10-27T140000',\n",
       " '2025-10-27T150000',\n",
       " '2025-10-27T160000',\n",
       " '2025-10-27T170000',\n",
       " '2025-10-27T180000',\n",
       " '2025-10-27T190000',\n",
       " '2025-10-27T200000',\n",
       " '2025-10-27T210000',\n",
       " '2025-10-27T220000',\n",
       " '2025-10-27T230000',\n",
       " '2025-10-28T000000']"
      ]
     },
     "execution_count": 11,
     "metadata": {},
     "output_type": "execute_result"
    }
   ],
   "source": [
    "# need_process = pd.date_range(start=already_processed[-1], end=today).strftime('%Y-%m-%d').to_list()\n",
    "# need_process\n",
    "\n",
    "B = datetime.strptime(dt, \"%Y-%m-%dT%H0000\")\n",
    "A = datetime.strptime(already_processed_ts[-1], \"%Y-%m-%dT%H0000\")\n",
    "need_process_ts =  pd.date_range(A, B, freq='h').strftime('%Y-%m-%dT%H0000').tolist()\n",
    "need_process_ts"
   ]
  },
  {
   "cell_type": "code",
   "execution_count": 12,
   "id": "8418cfd8",
   "metadata": {
    "execution": {
     "iopub.execute_input": "2025-10-28T01:56:01.449174Z",
     "iopub.status.busy": "2025-10-28T01:56:01.449000Z",
     "iopub.status.idle": "2025-10-28T02:04:30.565907Z",
     "shell.execute_reply": "2025-10-28T02:04:30.564970Z"
    },
    "id": "g-W3s2nRyRY7",
    "papermill": {
     "duration": 509.123047,
     "end_time": "2025-10-28T02:04:30.566512",
     "exception": false,
     "start_time": "2025-10-28T01:56:01.443465",
     "status": "completed"
    },
    "tags": []
   },
   "outputs": [
    {
     "name": "stderr",
     "output_type": "stream",
     "text": [
      "\r",
      "  0%|          | 0/2295 [00:00<?, ?it/s]"
     ]
    },
    {
     "name": "stderr",
     "output_type": "stream",
     "text": [
      "\r",
      " 99%|█████████▉| 2272/2295 [00:24<00:00, 91.13it/s]"
     ]
    },
    {
     "name": "stdout",
     "output_type": "stream",
     "text": [
      "Done dt=2025-10-27/2025-10-27T010000.parquet\n"
     ]
    },
    {
     "name": "stderr",
     "output_type": "stream",
     "text": [
      "\r",
      " 99%|█████████▉| 2272/2295 [00:41<00:00, 91.13it/s]"
     ]
    },
    {
     "name": "stderr",
     "output_type": "stream",
     "text": [
      "\r",
      " 99%|█████████▉| 2273/2295 [00:53<00:00, 34.49it/s]"
     ]
    },
    {
     "name": "stdout",
     "output_type": "stream",
     "text": [
      "Done dt=2025-10-27/2025-10-27T020000.parquet\n"
     ]
    },
    {
     "name": "stderr",
     "output_type": "stream",
     "text": [
      "\r",
      " 99%|█████████▉| 2274/2295 [01:21<00:01, 18.65it/s]"
     ]
    },
    {
     "name": "stdout",
     "output_type": "stream",
     "text": [
      "Done dt=2025-10-27/2025-10-27T030000.parquet\n"
     ]
    },
    {
     "name": "stderr",
     "output_type": "stream",
     "text": [
      "\r",
      " 99%|█████████▉| 2275/2295 [01:49<00:01, 11.05it/s]"
     ]
    },
    {
     "name": "stdout",
     "output_type": "stream",
     "text": [
      "Done dt=2025-10-27/2025-10-27T040000.parquet\n"
     ]
    },
    {
     "name": "stderr",
     "output_type": "stream",
     "text": [
      "\r",
      " 99%|█████████▉| 2276/2295 [02:20<00:02,  6.86it/s]"
     ]
    },
    {
     "name": "stdout",
     "output_type": "stream",
     "text": [
      "Done dt=2025-10-27/2025-10-27T050000.parquet\n"
     ]
    },
    {
     "name": "stderr",
     "output_type": "stream",
     "text": [
      "\r",
      " 99%|█████████▉| 2277/2295 [02:47<00:03,  4.64it/s]"
     ]
    },
    {
     "name": "stdout",
     "output_type": "stream",
     "text": [
      "Done dt=2025-10-27/2025-10-27T060000.parquet\n"
     ]
    },
    {
     "name": "stderr",
     "output_type": "stream",
     "text": [
      "\r",
      " 99%|█████████▉| 2278/2295 [03:15<00:05,  3.14it/s]"
     ]
    },
    {
     "name": "stdout",
     "output_type": "stream",
     "text": [
      "Done dt=2025-10-27/2025-10-27T070000.parquet\n"
     ]
    },
    {
     "name": "stderr",
     "output_type": "stream",
     "text": [
      "\r",
      " 99%|█████████▉| 2279/2295 [03:37<00:06,  2.30it/s]"
     ]
    },
    {
     "name": "stdout",
     "output_type": "stream",
     "text": [
      "Done dt=2025-10-27/2025-10-27T080000.parquet\n"
     ]
    },
    {
     "name": "stderr",
     "output_type": "stream",
     "text": [
      "\r",
      " 99%|█████████▉| 2280/2295 [03:59<00:08,  1.68it/s]"
     ]
    },
    {
     "name": "stdout",
     "output_type": "stream",
     "text": [
      "Done dt=2025-10-27/2025-10-27T090000.parquet\n"
     ]
    },
    {
     "name": "stderr",
     "output_type": "stream",
     "text": [
      "\r",
      " 99%|█████████▉| 2281/2295 [04:22<00:11,  1.21it/s]"
     ]
    },
    {
     "name": "stdout",
     "output_type": "stream",
     "text": [
      "Done dt=2025-10-27/2025-10-27T100000.parquet\n"
     ]
    },
    {
     "name": "stderr",
     "output_type": "stream",
     "text": [
      "\r",
      " 99%|█████████▉| 2282/2295 [04:46<00:15,  1.17s/it]"
     ]
    },
    {
     "name": "stdout",
     "output_type": "stream",
     "text": [
      "Done dt=2025-10-27/2025-10-27T110000.parquet\n"
     ]
    },
    {
     "name": "stderr",
     "output_type": "stream",
     "text": [
      "\r",
      " 99%|█████████▉| 2283/2295 [05:11<00:19,  1.66s/it]"
     ]
    },
    {
     "name": "stdout",
     "output_type": "stream",
     "text": [
      "Done dt=2025-10-27/2025-10-27T120000.parquet\n"
     ]
    },
    {
     "name": "stderr",
     "output_type": "stream",
     "text": [
      "\r",
      "100%|█████████▉| 2284/2295 [05:34<00:25,  2.28s/it]"
     ]
    },
    {
     "name": "stdout",
     "output_type": "stream",
     "text": [
      "Done dt=2025-10-27/2025-10-27T130000.parquet\n"
     ]
    },
    {
     "name": "stderr",
     "output_type": "stream",
     "text": [
      "\r",
      "100%|█████████▉| 2285/2295 [05:56<00:30,  3.07s/it]"
     ]
    },
    {
     "name": "stdout",
     "output_type": "stream",
     "text": [
      "Done dt=2025-10-27/2025-10-27T140000.parquet\n"
     ]
    },
    {
     "name": "stderr",
     "output_type": "stream",
     "text": [
      "\r",
      "100%|█████████▉| 2286/2295 [06:14<00:34,  3.84s/it]"
     ]
    },
    {
     "name": "stdout",
     "output_type": "stream",
     "text": [
      "Done dt=2025-10-27/2025-10-27T150000.parquet\n"
     ]
    },
    {
     "name": "stderr",
     "output_type": "stream",
     "text": [
      "\r",
      "100%|█████████▉| 2287/2295 [06:28<00:36,  4.60s/it]"
     ]
    },
    {
     "name": "stdout",
     "output_type": "stream",
     "text": [
      "Done dt=2025-10-27/2025-10-27T160000.parquet\n"
     ]
    },
    {
     "name": "stderr",
     "output_type": "stream",
     "text": [
      "\r",
      "100%|█████████▉| 2288/2295 [06:42<00:38,  5.46s/it]"
     ]
    },
    {
     "name": "stdout",
     "output_type": "stream",
     "text": [
      "Done dt=2025-10-27/2025-10-27T170000.parquet\n"
     ]
    },
    {
     "name": "stderr",
     "output_type": "stream",
     "text": [
      "\r",
      "100%|█████████▉| 2289/2295 [06:55<00:38,  6.36s/it]"
     ]
    },
    {
     "name": "stdout",
     "output_type": "stream",
     "text": [
      "Done dt=2025-10-27/2025-10-27T180000.parquet\n"
     ]
    },
    {
     "name": "stderr",
     "output_type": "stream",
     "text": [
      "\r",
      "100%|█████████▉| 2290/2295 [07:08<00:36,  7.30s/it]"
     ]
    },
    {
     "name": "stdout",
     "output_type": "stream",
     "text": [
      "Done dt=2025-10-27/2025-10-27T190000.parquet\n"
     ]
    },
    {
     "name": "stderr",
     "output_type": "stream",
     "text": [
      "\r",
      "100%|█████████▉| 2291/2295 [07:21<00:32,  8.23s/it]"
     ]
    },
    {
     "name": "stdout",
     "output_type": "stream",
     "text": [
      "Done dt=2025-10-27/2025-10-27T200000.parquet\n"
     ]
    },
    {
     "name": "stderr",
     "output_type": "stream",
     "text": [
      "\r",
      "100%|█████████▉| 2292/2295 [07:34<00:27,  9.16s/it]"
     ]
    },
    {
     "name": "stdout",
     "output_type": "stream",
     "text": [
      "Done dt=2025-10-27/2025-10-27T210000.parquet\n"
     ]
    },
    {
     "name": "stderr",
     "output_type": "stream",
     "text": [
      "\r",
      "100%|█████████▉| 2293/2295 [07:48<00:20, 10.21s/it]"
     ]
    },
    {
     "name": "stdout",
     "output_type": "stream",
     "text": [
      "Done dt=2025-10-27/2025-10-27T220000.parquet\n"
     ]
    },
    {
     "name": "stderr",
     "output_type": "stream",
     "text": [
      "\r",
      "100%|█████████▉| 2294/2295 [08:07<00:12, 12.14s/it]"
     ]
    },
    {
     "name": "stdout",
     "output_type": "stream",
     "text": [
      "Done dt=2025-10-27/2025-10-27T230000.parquet\n"
     ]
    },
    {
     "name": "stderr",
     "output_type": "stream",
     "text": [
      "\r",
      "100%|██████████| 2295/2295 [08:29<00:00, 14.65s/it]"
     ]
    },
    {
     "name": "stderr",
     "output_type": "stream",
     "text": [
      "\r",
      "100%|██████████| 2295/2295 [08:29<00:00,  4.51it/s]"
     ]
    },
    {
     "name": "stdout",
     "output_type": "stream",
     "text": [
      "Done dt=2025-10-28/2025-10-28T000000.parquet\n"
     ]
    },
    {
     "name": "stderr",
     "output_type": "stream",
     "text": [
      "\n"
     ]
    }
   ],
   "source": [
    "storage_options = {\n",
    "    \"account_name\": account_name,\n",
    "    \"account_key\":  account_key,\n",
    "}\n",
    "\n",
    "for ts, files in tqdm(groups.items()):\n",
    "    if ts not in need_process_ts: continue\n",
    "    dt = ts[:10]\n",
    "    # if dt not in need_process:\n",
    "    #     continue\n",
    "    df = pl.scan_csv(f\"az://adjuststblive/*_{ts}_*.csv.gz\", storage_options = storage_options,glob=True, has_header = True, null_values = [\"\",\"NULL\"], ignore_errors=True).select(pl.all().cast(pl.Utf8))\n",
    "    df.sink_parquet(f\"az://adjuststbuatprocessed/live/processing/dt={dt}/{ts}.parquet\", storage_options = storage_options, compression=\"snappy\")\n",
    "    print(f'Done dt={dt}/{ts}.parquet')\n",
    "        "
   ]
  },
  {
   "cell_type": "code",
   "execution_count": 13,
   "id": "59fe2642",
   "metadata": {
    "execution": {
     "iopub.execute_input": "2025-10-28T02:04:30.581353Z",
     "iopub.status.busy": "2025-10-28T02:04:30.581147Z",
     "iopub.status.idle": "2025-10-28T02:04:30.585833Z",
     "shell.execute_reply": "2025-10-28T02:04:30.584969Z"
    },
    "papermill": {
     "duration": 0.013051,
     "end_time": "2025-10-28T02:04:30.586444",
     "exception": false,
     "start_time": "2025-10-28T02:04:30.573393",
     "status": "completed"
    },
    "tags": []
   },
   "outputs": [
    {
     "data": {
      "text/plain": [
       "{'2025-10-27', '2025-10-28'}"
      ]
     },
     "execution_count": 13,
     "metadata": {},
     "output_type": "execute_result"
    }
   ],
   "source": [
    "need_process = set([i.split(\"T\")[0] for i in need_process_ts])\n",
    "need_process"
   ]
  },
  {
   "cell_type": "code",
   "execution_count": 14,
   "id": "2328dfe5",
   "metadata": {
    "execution": {
     "iopub.execute_input": "2025-10-28T02:04:30.601083Z",
     "iopub.status.busy": "2025-10-28T02:04:30.600882Z",
     "iopub.status.idle": "2025-10-28T02:05:30.138245Z",
     "shell.execute_reply": "2025-10-28T02:05:30.137357Z"
    },
    "id": "sBm7rfFUyePJ",
    "papermill": {
     "duration": 59.545582,
     "end_time": "2025-10-28T02:05:30.138918",
     "exception": false,
     "start_time": "2025-10-28T02:04:30.593336",
     "status": "completed"
    },
    "tags": []
   },
   "outputs": [
    {
     "name": "stdout",
     "output_type": "stream",
     "text": [
      "\n",
      " Done 2025-10-27\n",
      "\n"
     ]
    },
    {
     "name": "stdout",
     "output_type": "stream",
     "text": [
      "\n",
      " Done 2025-10-28\n",
      "\n"
     ]
    }
   ],
   "source": [
    "for dt in need_process:\n",
    "  df = pl.scan_parquet(f\"az://adjuststbuatprocessed/live/processing/dt={dt}/*.parquet\", storage_options=storage_options,glob=True).with_columns(pl.lit(dt).alias(\"dt\"))\n",
    "  df.sink_parquet(f\"az://adjuststbuatprocessed/live/output/{dt}.parquet\", storage_options=storage_options, compression=\"snappy\")\n",
    "  print(f'\\n Done {dt}\\n')"
   ]
  }
 ],
 "metadata": {
  "colab": {
   "authorship_tag": "ABX9TyOfzO6uvqUX+Tt89Y73G9E8",
   "include_colab_link": true,
   "provenance": []
  },
  "kernelspec": {
   "display_name": "Python 3",
   "name": "python3"
  },
  "language_info": {
   "codemirror_mode": {
    "name": "ipython",
    "version": 3
   },
   "file_extension": ".py",
   "mimetype": "text/x-python",
   "name": "python",
   "nbconvert_exporter": "python",
   "pygments_lexer": "ipython3",
   "version": "3.11.13"
  },
  "papermill": {
   "default_parameters": {},
   "duration": 824.646595,
   "end_time": "2025-10-28T02:05:31.064499",
   "environment_variables": {},
   "exception": null,
   "input_path": "notebooks/ADJUST_JOB.ipynb",
   "output_path": "outputs/ADJUST_JOB_2025-10-28.ipynb",
   "parameters": {
    "RUN_DATE": "2025-10-28"
   },
   "start_time": "2025-10-28T01:51:46.417904",
   "version": "2.6.0"
  }
 },
 "nbformat": 4,
 "nbformat_minor": 5
}