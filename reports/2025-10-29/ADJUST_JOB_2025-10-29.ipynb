{
 "cells": [
  {
   "cell_type": "code",
   "execution_count": 1,
   "id": "b32592e2",
   "metadata": {
    "execution": {
     "iopub.execute_input": "2025-10-29T01:58:57.242675Z",
     "iopub.status.busy": "2025-10-29T01:58:57.242441Z",
     "iopub.status.idle": "2025-10-29T01:58:57.247920Z",
     "shell.execute_reply": "2025-10-29T01:58:57.247166Z"
    },
    "papermill": {
     "duration": 0.009959,
     "end_time": "2025-10-29T01:58:57.248703",
     "exception": false,
     "start_time": "2025-10-29T01:58:57.238744",
     "status": "completed"
    },
    "tags": [
     "injected-parameters"
    ]
   },
   "outputs": [],
   "source": [
    "# Parameters\n",
    "RUN_DATE = \"2025-10-29\"\n"
   ]
  },
  {
   "cell_type": "markdown",
   "id": "6e1db49f",
   "metadata": {
    "colab_type": "text",
    "id": "view-in-github",
    "papermill": {
     "duration": 0.002333,
     "end_time": "2025-10-29T01:58:57.253215",
     "exception": false,
     "start_time": "2025-10-29T01:58:57.250882",
     "status": "completed"
    },
    "tags": []
   },
   "source": [
    "<a href=\"https://colab.research.google.com/github/HieuNguyenPhi/ADJ_JOBS/blob/main/notebooks/ADJUST_JOB.ipynb\" target=\"_parent\"><img src=\"https://colab.research.google.com/assets/colab-badge.svg\" alt=\"Open In Colab\"/></a>"
   ]
  },
  {
   "cell_type": "markdown",
   "id": "8464f03d",
   "metadata": {
    "papermill": {
     "duration": 0.002745,
     "end_time": "2025-10-29T01:58:57.257845",
     "exception": false,
     "start_time": "2025-10-29T01:58:57.255100",
     "status": "completed"
    },
    "tags": []
   },
   "source": [
    "# UAT"
   ]
  },
  {
   "cell_type": "code",
   "execution_count": 2,
   "id": "beecdae2",
   "metadata": {
    "execution": {
     "iopub.execute_input": "2025-10-29T01:58:57.262565Z",
     "iopub.status.busy": "2025-10-29T01:58:57.262376Z",
     "iopub.status.idle": "2025-10-29T01:59:04.505950Z",
     "shell.execute_reply": "2025-10-29T01:59:04.505114Z"
    },
    "id": "ycUR2r1dq1Nm",
    "papermill": {
     "duration": 7.247009,
     "end_time": "2025-10-29T01:59:04.506764",
     "exception": false,
     "start_time": "2025-10-29T01:58:57.259755",
     "status": "completed"
    },
    "tags": []
   },
   "outputs": [
    {
     "data": {
      "text/plain": [
       "['2025-10-27T200000',\n",
       " '2025-10-27T210000',\n",
       " '2025-10-27T220000',\n",
       " '2025-10-27T230000',\n",
       " '2025-10-28T000000']"
      ]
     },
     "execution_count": 2,
     "metadata": {},
     "output_type": "execute_result"
    }
   ],
   "source": [
    "import os\n",
    "from azure.storage.blob import BlobServiceClient\n",
    "\n",
    "account_name = os.getenv('ACCOUNT_NAME')\n",
    "account_key = os.getenv('ACCOUNT_KEY')\n",
    "# Replace with your Azure Storage account name and SAS token or connection string\n",
    "connect_str = f\"DefaultEndpointsProtocol=https;AccountName={account_name};AccountKey={account_key};EndpointSuffix=core.windows.net\"\n",
    "blob_service_client = BlobServiceClient.from_connection_string(connect_str)\n",
    "container_list = blob_service_client.list_containers()\n",
    "container_name = \"adjuststbuatprocessed\" #os.getenv('CONTAINER_NAME')\n",
    "container_client = blob_service_client.get_container_client(container_name)\n",
    "# already_processed = [file.name.split('/')[1].split('.')[0] for file in container_client.list_blobs() if file.name.split('/')[0] == 'output']\n",
    "# already_processed[-5:]\n",
    "already_processed_ts = sorted([file.name.split('/')[-1].split(\".\")[0] for file in container_client.list_blobs() if file.name.split('/')[0] == 'processing'])\n",
    "already_processed_ts[-5:]"
   ]
  },
  {
   "cell_type": "code",
   "execution_count": 3,
   "id": "915fec54",
   "metadata": {
    "execution": {
     "iopub.execute_input": "2025-10-29T01:59:04.512436Z",
     "iopub.status.busy": "2025-10-29T01:59:04.512194Z",
     "iopub.status.idle": "2025-10-29T01:59:14.080970Z",
     "shell.execute_reply": "2025-10-29T01:59:14.080184Z"
    },
    "id": "xyPuVC12s7fn",
    "papermill": {
     "duration": 9.572553,
     "end_time": "2025-10-29T01:59:14.081736",
     "exception": false,
     "start_time": "2025-10-29T01:59:04.509183",
     "status": "completed"
    },
    "tags": []
   },
   "outputs": [
    {
     "data": {
      "text/plain": [
       "['rsh20bkkb4zk_2025-10-29T000000_762c775ae454d23f2c6b6a75623d14c7_be8220.csv.gz',\n",
       " 'rsh20bkkb4zk_2025-10-29T000000_762c775ae454d23f2c6b6a75623d14c7_be8221.csv.gz',\n",
       " 'rsh20bkkb4zk_2025-10-29T000000_762c775ae454d23f2c6b6a75623d14c7_c35750.csv.gz']"
      ]
     },
     "execution_count": 3,
     "metadata": {},
     "output_type": "execute_result"
    }
   ],
   "source": [
    "container_name_uat = \"adjuststbuat\"\n",
    "container_client_uat = blob_service_client.get_container_client(container_name_uat)\n",
    "from collections import defaultdict\n",
    "files = [i.name for i in container_client_uat.list_blobs()]\n",
    "groups = defaultdict(list)\n",
    "for f in files:\n",
    "    dt = f.split('_')[1]\n",
    "    groups[dt].append(f)\n",
    "groups[dt]"
   ]
  },
  {
   "cell_type": "code",
   "execution_count": 4,
   "id": "f4b370b5",
   "metadata": {
    "execution": {
     "iopub.execute_input": "2025-10-29T01:59:14.087625Z",
     "iopub.status.busy": "2025-10-29T01:59:14.087421Z",
     "iopub.status.idle": "2025-10-29T01:59:14.090208Z",
     "shell.execute_reply": "2025-10-29T01:59:14.089496Z"
    },
    "papermill": {
     "duration": 0.006554,
     "end_time": "2025-10-29T01:59:14.090904",
     "exception": false,
     "start_time": "2025-10-29T01:59:14.084350",
     "status": "completed"
    },
    "tags": []
   },
   "outputs": [],
   "source": [
    "# from datetime import date, timedelta, datetime\n",
    "# import pandas as pd\n",
    "# today = date.today().strftime('%Y-%m-%d')\n",
    "# yesterday = (date.today() - timedelta(days = 1) ).strftime('%Y-%m-%d')\n",
    "# check_date = dt.split(\"T\")[0]\n",
    "# if check_date == today:\n",
    "#     need_process = pd.date_range(start=already_processed[-1], end=today).strftime('%Y-%m-%d').to_list()\n",
    "# else:\n",
    "#     need_process = pd.date_range(start=already_processed[-1], end=yesterday).strftime('%Y-%m-%d').to_list()\n",
    "# need_process"
   ]
  },
  {
   "cell_type": "code",
   "execution_count": 5,
   "id": "9a4b3b6f",
   "metadata": {
    "execution": {
     "iopub.execute_input": "2025-10-29T01:59:14.096132Z",
     "iopub.status.busy": "2025-10-29T01:59:14.095963Z",
     "iopub.status.idle": "2025-10-29T01:59:14.318644Z",
     "shell.execute_reply": "2025-10-29T01:59:14.317755Z"
    },
    "papermill": {
     "duration": 0.226145,
     "end_time": "2025-10-29T01:59:14.319267",
     "exception": false,
     "start_time": "2025-10-29T01:59:14.093122",
     "status": "completed"
    },
    "tags": []
   },
   "outputs": [
    {
     "data": {
      "text/plain": [
       "['2025-10-27T230000',\n",
       " '2025-10-28T000000',\n",
       " '2025-10-28T010000',\n",
       " '2025-10-28T020000',\n",
       " '2025-10-28T030000',\n",
       " '2025-10-28T040000',\n",
       " '2025-10-28T050000',\n",
       " '2025-10-28T060000',\n",
       " '2025-10-28T070000',\n",
       " '2025-10-28T080000',\n",
       " '2025-10-28T090000',\n",
       " '2025-10-28T100000',\n",
       " '2025-10-28T110000',\n",
       " '2025-10-28T120000',\n",
       " '2025-10-28T130000',\n",
       " '2025-10-28T140000',\n",
       " '2025-10-28T150000',\n",
       " '2025-10-28T160000',\n",
       " '2025-10-28T170000',\n",
       " '2025-10-28T180000',\n",
       " '2025-10-28T190000',\n",
       " '2025-10-28T200000',\n",
       " '2025-10-28T210000',\n",
       " '2025-10-28T220000',\n",
       " '2025-10-28T230000',\n",
       " '2025-10-29T000000']"
      ]
     },
     "execution_count": 5,
     "metadata": {},
     "output_type": "execute_result"
    }
   ],
   "source": [
    "from datetime import datetime\n",
    "import pandas as pd\n",
    "B = datetime.strptime(dt, \"%Y-%m-%dT%H0000\")\n",
    "A = datetime.strptime(already_processed_ts[-2], \"%Y-%m-%dT%H0000\")\n",
    "need_process_ts =  pd.date_range(A, B, freq='h').strftime('%Y-%m-%dT%H0000').tolist()\n",
    "need_process_ts"
   ]
  },
  {
   "cell_type": "code",
   "execution_count": 6,
   "id": "c9b19acc",
   "metadata": {
    "execution": {
     "iopub.execute_input": "2025-10-29T01:59:14.325389Z",
     "iopub.status.busy": "2025-10-29T01:59:14.325113Z",
     "iopub.status.idle": "2025-10-29T02:03:15.699677Z",
     "shell.execute_reply": "2025-10-29T02:03:15.698794Z"
    },
    "papermill": {
     "duration": 241.378331,
     "end_time": "2025-10-29T02:03:15.700277",
     "exception": false,
     "start_time": "2025-10-29T01:59:14.321946",
     "status": "completed"
    },
    "tags": []
   },
   "outputs": [
    {
     "name": "stderr",
     "output_type": "stream",
     "text": [
      "\r",
      "  0%|          | 0/2242 [00:00<?, ?it/s]"
     ]
    },
    {
     "name": "stderr",
     "output_type": "stream",
     "text": [
      "\r",
      " 99%|█████████▉| 2217/2242 [00:10<00:00, 203.90it/s]"
     ]
    },
    {
     "name": "stdout",
     "output_type": "stream",
     "text": [
      "Done dt=2025-10-27/2025-10-27T230000.parquet\n"
     ]
    },
    {
     "name": "stdout",
     "output_type": "stream",
     "text": [
      "Done dt=2025-10-28/2025-10-28T000000.parquet\n"
     ]
    },
    {
     "name": "stderr",
     "output_type": "stream",
     "text": [
      "\r",
      " 99%|█████████▉| 2217/2242 [00:29<00:00, 203.90it/s]"
     ]
    },
    {
     "name": "stderr",
     "output_type": "stream",
     "text": [
      "\r",
      " 99%|█████████▉| 2219/2242 [00:30<00:00, 57.98it/s] "
     ]
    },
    {
     "name": "stdout",
     "output_type": "stream",
     "text": [
      "Done dt=2025-10-28/2025-10-28T010000.parquet\n"
     ]
    },
    {
     "name": "stderr",
     "output_type": "stream",
     "text": [
      "\r",
      " 99%|█████████▉| 2220/2242 [00:39<00:00, 38.71it/s]"
     ]
    },
    {
     "name": "stdout",
     "output_type": "stream",
     "text": [
      "Done dt=2025-10-28/2025-10-28T020000.parquet\n"
     ]
    },
    {
     "name": "stderr",
     "output_type": "stream",
     "text": [
      "\r",
      " 99%|█████████▉| 2221/2242 [00:49<00:00, 25.26it/s]"
     ]
    },
    {
     "name": "stdout",
     "output_type": "stream",
     "text": [
      "Done dt=2025-10-28/2025-10-28T030000.parquet\n"
     ]
    },
    {
     "name": "stderr",
     "output_type": "stream",
     "text": [
      "\r",
      " 99%|█████████▉| 2222/2242 [00:59<00:01, 17.51it/s]"
     ]
    },
    {
     "name": "stdout",
     "output_type": "stream",
     "text": [
      "Done dt=2025-10-28/2025-10-28T040000.parquet\n"
     ]
    },
    {
     "name": "stderr",
     "output_type": "stream",
     "text": [
      "\r",
      " 99%|█████████▉| 2223/2242 [01:08<00:01, 12.47it/s]"
     ]
    },
    {
     "name": "stdout",
     "output_type": "stream",
     "text": [
      "Done dt=2025-10-28/2025-10-28T050000.parquet\n"
     ]
    },
    {
     "name": "stderr",
     "output_type": "stream",
     "text": [
      "\r",
      " 99%|█████████▉| 2224/2242 [01:18<00:02,  8.37it/s]"
     ]
    },
    {
     "name": "stdout",
     "output_type": "stream",
     "text": [
      "Done dt=2025-10-28/2025-10-28T060000.parquet\n"
     ]
    },
    {
     "name": "stderr",
     "output_type": "stream",
     "text": [
      "\r",
      " 99%|█████████▉| 2225/2242 [01:28<00:02,  5.88it/s]"
     ]
    },
    {
     "name": "stdout",
     "output_type": "stream",
     "text": [
      "Done dt=2025-10-28/2025-10-28T070000.parquet\n"
     ]
    },
    {
     "name": "stderr",
     "output_type": "stream",
     "text": [
      "\r",
      " 99%|█████████▉| 2226/2242 [01:37<00:03,  4.16it/s]"
     ]
    },
    {
     "name": "stdout",
     "output_type": "stream",
     "text": [
      "Done dt=2025-10-28/2025-10-28T080000.parquet\n"
     ]
    },
    {
     "name": "stderr",
     "output_type": "stream",
     "text": [
      "\r",
      " 99%|█████████▉| 2227/2242 [01:46<00:05,  2.95it/s]"
     ]
    },
    {
     "name": "stdout",
     "output_type": "stream",
     "text": [
      "Done dt=2025-10-28/2025-10-28T090000.parquet\n"
     ]
    },
    {
     "name": "stderr",
     "output_type": "stream",
     "text": [
      "\r",
      " 99%|█████████▉| 2228/2242 [01:56<00:06,  2.10it/s]"
     ]
    },
    {
     "name": "stdout",
     "output_type": "stream",
     "text": [
      "Done dt=2025-10-28/2025-10-28T100000.parquet\n"
     ]
    },
    {
     "name": "stderr",
     "output_type": "stream",
     "text": [
      "\r",
      " 99%|█████████▉| 2229/2242 [02:05<00:08,  1.50it/s]"
     ]
    },
    {
     "name": "stdout",
     "output_type": "stream",
     "text": [
      "Done dt=2025-10-28/2025-10-28T110000.parquet\n"
     ]
    },
    {
     "name": "stderr",
     "output_type": "stream",
     "text": [
      "\r",
      " 99%|█████████▉| 2230/2242 [02:15<00:11,  1.08it/s]"
     ]
    },
    {
     "name": "stdout",
     "output_type": "stream",
     "text": [
      "Done dt=2025-10-28/2025-10-28T120000.parquet\n"
     ]
    },
    {
     "name": "stderr",
     "output_type": "stream",
     "text": [
      "\r",
      "100%|█████████▉| 2231/2242 [02:24<00:13,  1.26s/it]"
     ]
    },
    {
     "name": "stdout",
     "output_type": "stream",
     "text": [
      "Done dt=2025-10-28/2025-10-28T130000.parquet\n"
     ]
    },
    {
     "name": "stderr",
     "output_type": "stream",
     "text": [
      "\r",
      "100%|█████████▉| 2232/2242 [02:33<00:16,  1.67s/it]"
     ]
    },
    {
     "name": "stdout",
     "output_type": "stream",
     "text": [
      "Done dt=2025-10-28/2025-10-28T140000.parquet\n"
     ]
    },
    {
     "name": "stderr",
     "output_type": "stream",
     "text": [
      "\r",
      "100%|█████████▉| 2233/2242 [02:42<00:20,  2.23s/it]"
     ]
    },
    {
     "name": "stdout",
     "output_type": "stream",
     "text": [
      "Done dt=2025-10-28/2025-10-28T150000.parquet\n"
     ]
    },
    {
     "name": "stderr",
     "output_type": "stream",
     "text": [
      "\r",
      "100%|█████████▉| 2234/2242 [02:51<00:22,  2.84s/it]"
     ]
    },
    {
     "name": "stdout",
     "output_type": "stream",
     "text": [
      "Done dt=2025-10-28/2025-10-28T160000.parquet\n"
     ]
    },
    {
     "name": "stderr",
     "output_type": "stream",
     "text": [
      "\r",
      "100%|█████████▉| 2235/2242 [02:59<00:24,  3.53s/it]"
     ]
    },
    {
     "name": "stdout",
     "output_type": "stream",
     "text": [
      "Done dt=2025-10-28/2025-10-28T170000.parquet\n"
     ]
    },
    {
     "name": "stderr",
     "output_type": "stream",
     "text": [
      "\r",
      "100%|█████████▉| 2236/2242 [03:08<00:25,  4.27s/it]"
     ]
    },
    {
     "name": "stdout",
     "output_type": "stream",
     "text": [
      "Done dt=2025-10-28/2025-10-28T180000.parquet\n"
     ]
    },
    {
     "name": "stderr",
     "output_type": "stream",
     "text": [
      "\r",
      "100%|█████████▉| 2237/2242 [03:17<00:25,  5.04s/it]"
     ]
    },
    {
     "name": "stdout",
     "output_type": "stream",
     "text": [
      "Done dt=2025-10-28/2025-10-28T190000.parquet\n"
     ]
    },
    {
     "name": "stderr",
     "output_type": "stream",
     "text": [
      "\r",
      "100%|█████████▉| 2238/2242 [03:26<00:23,  5.77s/it]"
     ]
    },
    {
     "name": "stdout",
     "output_type": "stream",
     "text": [
      "Done dt=2025-10-28/2025-10-28T200000.parquet\n"
     ]
    },
    {
     "name": "stderr",
     "output_type": "stream",
     "text": [
      "\r",
      "100%|█████████▉| 2239/2242 [03:34<00:19,  6.42s/it]"
     ]
    },
    {
     "name": "stdout",
     "output_type": "stream",
     "text": [
      "Done dt=2025-10-28/2025-10-28T210000.parquet\n"
     ]
    },
    {
     "name": "stderr",
     "output_type": "stream",
     "text": [
      "\r",
      "100%|█████████▉| 2240/2242 [03:43<00:13,  6.97s/it]"
     ]
    },
    {
     "name": "stdout",
     "output_type": "stream",
     "text": [
      "Done dt=2025-10-28/2025-10-28T220000.parquet\n"
     ]
    },
    {
     "name": "stderr",
     "output_type": "stream",
     "text": [
      "\r",
      "100%|█████████▉| 2241/2242 [03:52<00:07,  7.43s/it]"
     ]
    },
    {
     "name": "stdout",
     "output_type": "stream",
     "text": [
      "Done dt=2025-10-28/2025-10-28T230000.parquet\n"
     ]
    },
    {
     "name": "stderr",
     "output_type": "stream",
     "text": [
      "\r",
      "100%|██████████| 2242/2242 [04:01<00:00,  7.79s/it]"
     ]
    },
    {
     "name": "stderr",
     "output_type": "stream",
     "text": [
      "\r",
      "100%|██████████| 2242/2242 [04:01<00:00,  9.29it/s]"
     ]
    },
    {
     "name": "stdout",
     "output_type": "stream",
     "text": [
      "Done dt=2025-10-29/2025-10-29T000000.parquet\n"
     ]
    },
    {
     "name": "stderr",
     "output_type": "stream",
     "text": [
      "\n"
     ]
    }
   ],
   "source": [
    "import polars as pl \n",
    "from tqdm import tqdm\n",
    "storage_options = {\n",
    "    \"account_name\": account_name,\n",
    "    \"account_key\":  account_key,\n",
    "}\n",
    "\n",
    "for ts, files in tqdm(groups.items()):\n",
    "    if ts not in need_process_ts:\n",
    "        continue\n",
    "    dt = ts[:10]\n",
    "    # if dt not in need_process:\n",
    "    #     continue\n",
    "    df = pl.scan_csv(f\"az://adjuststbuat/*_{ts}_*.csv.gz\", storage_options = storage_options,glob=True, has_header = True, null_values = [\"\",\"NULL\"], ignore_errors=True).select(pl.all().cast(pl.Utf8))\n",
    "    df.sink_parquet(f\"az://adjuststbuatprocessed/processing/dt={dt}/{ts}.parquet\", storage_options = storage_options, compression=\"snappy\")\n",
    "    print(f'Done dt={dt}/{ts}.parquet')\n",
    "        "
   ]
  },
  {
   "cell_type": "code",
   "execution_count": 7,
   "id": "6814f2b2",
   "metadata": {
    "execution": {
     "iopub.execute_input": "2025-10-29T02:03:15.710657Z",
     "iopub.status.busy": "2025-10-29T02:03:15.710389Z",
     "iopub.status.idle": "2025-10-29T02:03:15.714861Z",
     "shell.execute_reply": "2025-10-29T02:03:15.714091Z"
    },
    "papermill": {
     "duration": 0.010573,
     "end_time": "2025-10-29T02:03:15.715425",
     "exception": false,
     "start_time": "2025-10-29T02:03:15.704852",
     "status": "completed"
    },
    "tags": []
   },
   "outputs": [
    {
     "data": {
      "text/plain": [
       "{'2025-10-27', '2025-10-28', '2025-10-29'}"
      ]
     },
     "execution_count": 7,
     "metadata": {},
     "output_type": "execute_result"
    }
   ],
   "source": [
    "need_process = set([i.split(\"T\")[0] for i in need_process_ts])\n",
    "need_process"
   ]
  },
  {
   "cell_type": "code",
   "execution_count": 8,
   "id": "71149633",
   "metadata": {
    "execution": {
     "iopub.execute_input": "2025-10-29T02:03:15.724951Z",
     "iopub.status.busy": "2025-10-29T02:03:15.724777Z",
     "iopub.status.idle": "2025-10-29T02:03:27.857035Z",
     "shell.execute_reply": "2025-10-29T02:03:27.856317Z"
    },
    "papermill": {
     "duration": 12.137972,
     "end_time": "2025-10-29T02:03:27.857757",
     "exception": false,
     "start_time": "2025-10-29T02:03:15.719785",
     "status": "completed"
    },
    "tags": []
   },
   "outputs": [
    {
     "name": "stdout",
     "output_type": "stream",
     "text": [
      "\n",
      " Done 2025-10-28\n",
      "\n"
     ]
    },
    {
     "name": "stdout",
     "output_type": "stream",
     "text": [
      "\n",
      " Done 2025-10-27\n",
      "\n"
     ]
    },
    {
     "name": "stdout",
     "output_type": "stream",
     "text": [
      "\n",
      " Done 2025-10-29\n",
      "\n"
     ]
    }
   ],
   "source": [
    "for dt in need_process:\n",
    "  df = pl.scan_parquet(f\"az://adjuststbuatprocessed/processing/dt={dt}/*.parquet\", storage_options=storage_options,glob=True).with_columns(pl.lit(dt).alias(\"dt\"))\n",
    "  df.sink_parquet(f\"az://adjuststbuatprocessed/output/{dt}.parquet\", storage_options=storage_options, compression=\"snappy\")\n",
    "  print(f'\\n Done {dt}\\n')"
   ]
  },
  {
   "cell_type": "markdown",
   "id": "b3fa5aa6",
   "metadata": {
    "id": "2TvKr29qyJd_",
    "papermill": {
     "duration": 0.006033,
     "end_time": "2025-10-29T02:03:27.868664",
     "exception": false,
     "start_time": "2025-10-29T02:03:27.862631",
     "status": "completed"
    },
    "tags": []
   },
   "source": [
    "# Live"
   ]
  },
  {
   "cell_type": "code",
   "execution_count": 9,
   "id": "d0b5e4bd",
   "metadata": {
    "execution": {
     "iopub.execute_input": "2025-10-29T02:03:27.878447Z",
     "iopub.status.busy": "2025-10-29T02:03:27.878274Z",
     "iopub.status.idle": "2025-10-29T02:03:34.637868Z",
     "shell.execute_reply": "2025-10-29T02:03:34.636976Z"
    },
    "id": "EnaFsdZFxpwc",
    "papermill": {
     "duration": 6.765348,
     "end_time": "2025-10-29T02:03:34.638429",
     "exception": false,
     "start_time": "2025-10-29T02:03:27.873081",
     "status": "completed"
    },
    "tags": []
   },
   "outputs": [
    {
     "data": {
      "text/plain": [
       "['2025-10-27T200000',\n",
       " '2025-10-27T210000',\n",
       " '2025-10-27T220000',\n",
       " '2025-10-27T230000',\n",
       " '2025-10-28T000000']"
      ]
     },
     "execution_count": 9,
     "metadata": {},
     "output_type": "execute_result"
    }
   ],
   "source": [
    "# already_processed = [file.name.split('/')[-1].split('.')[0] for file in container_client.list_blobs() if file.name[:12] == 'live/output/']\n",
    "# already_processed[-5:]\n",
    "already_processed_ts = sorted([file.name.split('/')[-1].split(\".\")[0] for file in container_client.list_blobs() if (file.name.split('/')[0] + \"/\" + file.name.split('/')[1]) == 'live/processing'])\n",
    "already_processed_ts[-5:]"
   ]
  },
  {
   "cell_type": "code",
   "execution_count": 10,
   "id": "99dd1e92",
   "metadata": {
    "execution": {
     "iopub.execute_input": "2025-10-29T02:03:34.648865Z",
     "iopub.status.busy": "2025-10-29T02:03:34.648700Z",
     "iopub.status.idle": "2025-10-29T02:03:48.751134Z",
     "shell.execute_reply": "2025-10-29T02:03:48.750257Z"
    },
    "id": "I7Er6YEUyOsL",
    "papermill": {
     "duration": 14.108509,
     "end_time": "2025-10-29T02:03:48.751832",
     "exception": false,
     "start_time": "2025-10-29T02:03:34.643323",
     "status": "completed"
    },
    "tags": []
   },
   "outputs": [
    {
     "data": {
      "text/plain": [
       "['65n1fgov4zr4_2025-10-29T010000_762c775ae454d23f2c6b6a75623d14c7_2853a0.csv.gz',\n",
       " '65n1fgov4zr4_2025-10-29T010000_762c775ae454d23f2c6b6a75623d14c7_2853a1.csv.gz',\n",
       " '65n1fgov4zr4_2025-10-29T010000_762c775ae454d23f2c6b6a75623d14c7_be8220.csv.gz',\n",
       " '65n1fgov4zr4_2025-10-29T010000_762c775ae454d23f2c6b6a75623d14c7_be8221.csv.gz',\n",
       " '65n1fgov4zr4_2025-10-29T010000_762c775ae454d23f2c6b6a75623d14c7_c35750.csv.gz',\n",
       " '65n1fgov4zr4_2025-10-29T010000_762c775ae454d23f2c6b6a75623d14c7_c35751.csv.gz']"
      ]
     },
     "execution_count": 10,
     "metadata": {},
     "output_type": "execute_result"
    }
   ],
   "source": [
    "container_name_uat = \"adjuststblive\"\n",
    "container_client_uat = blob_service_client.get_container_client(container_name_uat)\n",
    "from collections import defaultdict\n",
    "files = [i.name for i in container_client_uat.list_blobs()]\n",
    "groups = defaultdict(list)\n",
    "for f in files:\n",
    "    dt = f.split('_')[1]\n",
    "    groups[dt].append(f)\n",
    "groups[dt]"
   ]
  },
  {
   "cell_type": "code",
   "execution_count": 11,
   "id": "3b85d790",
   "metadata": {
    "execution": {
     "iopub.execute_input": "2025-10-29T02:03:48.762840Z",
     "iopub.status.busy": "2025-10-29T02:03:48.762594Z",
     "iopub.status.idle": "2025-10-29T02:03:48.769397Z",
     "shell.execute_reply": "2025-10-29T02:03:48.768577Z"
    },
    "papermill": {
     "duration": 0.013266,
     "end_time": "2025-10-29T02:03:48.770118",
     "exception": false,
     "start_time": "2025-10-29T02:03:48.756852",
     "status": "completed"
    },
    "tags": []
   },
   "outputs": [
    {
     "data": {
      "text/plain": [
       "['2025-10-28T000000',\n",
       " '2025-10-28T010000',\n",
       " '2025-10-28T020000',\n",
       " '2025-10-28T030000',\n",
       " '2025-10-28T040000',\n",
       " '2025-10-28T050000',\n",
       " '2025-10-28T060000',\n",
       " '2025-10-28T070000',\n",
       " '2025-10-28T080000',\n",
       " '2025-10-28T090000',\n",
       " '2025-10-28T100000',\n",
       " '2025-10-28T110000',\n",
       " '2025-10-28T120000',\n",
       " '2025-10-28T130000',\n",
       " '2025-10-28T140000',\n",
       " '2025-10-28T150000',\n",
       " '2025-10-28T160000',\n",
       " '2025-10-28T170000',\n",
       " '2025-10-28T180000',\n",
       " '2025-10-28T190000',\n",
       " '2025-10-28T200000',\n",
       " '2025-10-28T210000',\n",
       " '2025-10-28T220000',\n",
       " '2025-10-28T230000',\n",
       " '2025-10-29T000000',\n",
       " '2025-10-29T010000']"
      ]
     },
     "execution_count": 11,
     "metadata": {},
     "output_type": "execute_result"
    }
   ],
   "source": [
    "# need_process = pd.date_range(start=already_processed[-1], end=today).strftime('%Y-%m-%d').to_list()\n",
    "# need_process\n",
    "\n",
    "B = datetime.strptime(dt, \"%Y-%m-%dT%H0000\")\n",
    "A = datetime.strptime(already_processed_ts[-1], \"%Y-%m-%dT%H0000\")\n",
    "need_process_ts =  pd.date_range(A, B, freq='h').strftime('%Y-%m-%dT%H0000').tolist()\n",
    "need_process_ts"
   ]
  },
  {
   "cell_type": "code",
   "execution_count": 12,
   "id": "e5da3a37",
   "metadata": {
    "execution": {
     "iopub.execute_input": "2025-10-29T02:03:48.780564Z",
     "iopub.status.busy": "2025-10-29T02:03:48.780372Z",
     "iopub.status.idle": "2025-10-29T02:13:20.543704Z",
     "shell.execute_reply": "2025-10-29T02:13:20.542729Z"
    },
    "id": "g-W3s2nRyRY7",
    "papermill": {
     "duration": 571.77583,
     "end_time": "2025-10-29T02:13:20.550771",
     "exception": false,
     "start_time": "2025-10-29T02:03:48.774941",
     "status": "completed"
    },
    "tags": []
   },
   "outputs": [
    {
     "name": "stderr",
     "output_type": "stream",
     "text": [
      "\r",
      "  0%|          | 0/2320 [00:00<?, ?it/s]"
     ]
    },
    {
     "name": "stderr",
     "output_type": "stream",
     "text": [
      "\r",
      " 99%|█████████▉| 2295/2320 [00:25<00:00, 88.88it/s]"
     ]
    },
    {
     "name": "stdout",
     "output_type": "stream",
     "text": [
      "Done dt=2025-10-28/2025-10-28T000000.parquet\n"
     ]
    },
    {
     "name": "stderr",
     "output_type": "stream",
     "text": [
      "\r",
      " 99%|█████████▉| 2295/2320 [00:45<00:00, 88.88it/s]"
     ]
    },
    {
     "name": "stderr",
     "output_type": "stream",
     "text": [
      "\r",
      " 99%|█████████▉| 2296/2320 [00:54<00:00, 34.31it/s]"
     ]
    },
    {
     "name": "stdout",
     "output_type": "stream",
     "text": [
      "Done dt=2025-10-28/2025-10-28T010000.parquet\n"
     ]
    },
    {
     "name": "stderr",
     "output_type": "stream",
     "text": [
      "\r",
      " 99%|█████████▉| 2297/2320 [01:23<00:01, 18.36it/s]"
     ]
    },
    {
     "name": "stdout",
     "output_type": "stream",
     "text": [
      "Done dt=2025-10-28/2025-10-28T020000.parquet\n"
     ]
    },
    {
     "name": "stderr",
     "output_type": "stream",
     "text": [
      "\r",
      " 99%|█████████▉| 2298/2320 [01:50<00:01, 11.25it/s]"
     ]
    },
    {
     "name": "stdout",
     "output_type": "stream",
     "text": [
      "Done dt=2025-10-28/2025-10-28T030000.parquet\n"
     ]
    },
    {
     "name": "stderr",
     "output_type": "stream",
     "text": [
      "\r",
      " 99%|█████████▉| 2299/2320 [02:28<00:03,  6.37it/s]"
     ]
    },
    {
     "name": "stdout",
     "output_type": "stream",
     "text": [
      "Done dt=2025-10-28/2025-10-28T040000.parquet\n"
     ]
    },
    {
     "name": "stderr",
     "output_type": "stream",
     "text": [
      "\r",
      " 99%|█████████▉| 2300/2320 [02:53<00:04,  4.50it/s]"
     ]
    },
    {
     "name": "stdout",
     "output_type": "stream",
     "text": [
      "Done dt=2025-10-28/2025-10-28T050000.parquet\n"
     ]
    },
    {
     "name": "stderr",
     "output_type": "stream",
     "text": [
      "\r",
      " 99%|█████████▉| 2301/2320 [03:16<00:05,  3.29it/s]"
     ]
    },
    {
     "name": "stdout",
     "output_type": "stream",
     "text": [
      "Done dt=2025-10-28/2025-10-28T060000.parquet\n"
     ]
    },
    {
     "name": "stderr",
     "output_type": "stream",
     "text": [
      "\r",
      " 99%|█████████▉| 2302/2320 [03:40<00:07,  2.34it/s]"
     ]
    },
    {
     "name": "stdout",
     "output_type": "stream",
     "text": [
      "Done dt=2025-10-28/2025-10-28T070000.parquet\n"
     ]
    },
    {
     "name": "stderr",
     "output_type": "stream",
     "text": [
      "\r",
      " 99%|█████████▉| 2303/2320 [04:04<00:10,  1.65it/s]"
     ]
    },
    {
     "name": "stdout",
     "output_type": "stream",
     "text": [
      "Done dt=2025-10-28/2025-10-28T080000.parquet\n"
     ]
    },
    {
     "name": "stderr",
     "output_type": "stream",
     "text": [
      "\r",
      " 99%|█████████▉| 2304/2320 [04:29<00:13,  1.17it/s]"
     ]
    },
    {
     "name": "stdout",
     "output_type": "stream",
     "text": [
      "Done dt=2025-10-28/2025-10-28T090000.parquet\n"
     ]
    },
    {
     "name": "stderr",
     "output_type": "stream",
     "text": [
      "\r",
      " 99%|█████████▉| 2305/2320 [04:55<00:18,  1.23s/it]"
     ]
    },
    {
     "name": "stdout",
     "output_type": "stream",
     "text": [
      "Done dt=2025-10-28/2025-10-28T100000.parquet\n"
     ]
    },
    {
     "name": "stderr",
     "output_type": "stream",
     "text": [
      "\r",
      " 99%|█████████▉| 2306/2320 [05:19<00:23,  1.69s/it]"
     ]
    },
    {
     "name": "stdout",
     "output_type": "stream",
     "text": [
      "Done dt=2025-10-28/2025-10-28T110000.parquet\n"
     ]
    },
    {
     "name": "stderr",
     "output_type": "stream",
     "text": [
      "\r",
      " 99%|█████████▉| 2307/2320 [05:43<00:30,  2.32s/it]"
     ]
    },
    {
     "name": "stdout",
     "output_type": "stream",
     "text": [
      "Done dt=2025-10-28/2025-10-28T120000.parquet\n"
     ]
    },
    {
     "name": "stderr",
     "output_type": "stream",
     "text": [
      "\r",
      " 99%|█████████▉| 2308/2320 [06:05<00:37,  3.10s/it]"
     ]
    },
    {
     "name": "stdout",
     "output_type": "stream",
     "text": [
      "Done dt=2025-10-28/2025-10-28T130000.parquet\n"
     ]
    },
    {
     "name": "stderr",
     "output_type": "stream",
     "text": [
      "\r",
      "100%|█████████▉| 2309/2320 [06:26<00:44,  4.05s/it]"
     ]
    },
    {
     "name": "stdout",
     "output_type": "stream",
     "text": [
      "Done dt=2025-10-28/2025-10-28T140000.parquet\n"
     ]
    },
    {
     "name": "stderr",
     "output_type": "stream",
     "text": [
      "\r",
      "100%|█████████▉| 2310/2320 [06:45<00:50,  5.10s/it]"
     ]
    },
    {
     "name": "stdout",
     "output_type": "stream",
     "text": [
      "Done dt=2025-10-28/2025-10-28T150000.parquet\n"
     ]
    },
    {
     "name": "stderr",
     "output_type": "stream",
     "text": [
      "\r",
      "100%|█████████▉| 2311/2320 [07:01<00:55,  6.14s/it]"
     ]
    },
    {
     "name": "stdout",
     "output_type": "stream",
     "text": [
      "Done dt=2025-10-28/2025-10-28T160000.parquet\n"
     ]
    },
    {
     "name": "stderr",
     "output_type": "stream",
     "text": [
      "\r",
      "100%|█████████▉| 2312/2320 [07:16<00:57,  7.18s/it]"
     ]
    },
    {
     "name": "stdout",
     "output_type": "stream",
     "text": [
      "Done dt=2025-10-28/2025-10-28T170000.parquet\n"
     ]
    },
    {
     "name": "stderr",
     "output_type": "stream",
     "text": [
      "\r",
      "100%|█████████▉| 2313/2320 [07:31<00:57,  8.26s/it]"
     ]
    },
    {
     "name": "stdout",
     "output_type": "stream",
     "text": [
      "Done dt=2025-10-28/2025-10-28T180000.parquet\n"
     ]
    },
    {
     "name": "stderr",
     "output_type": "stream",
     "text": [
      "\r",
      "100%|█████████▉| 2314/2320 [07:45<00:55,  9.23s/it]"
     ]
    },
    {
     "name": "stdout",
     "output_type": "stream",
     "text": [
      "Done dt=2025-10-28/2025-10-28T190000.parquet\n"
     ]
    },
    {
     "name": "stderr",
     "output_type": "stream",
     "text": [
      "\r",
      "100%|█████████▉| 2315/2320 [07:59<00:50, 10.17s/it]"
     ]
    },
    {
     "name": "stdout",
     "output_type": "stream",
     "text": [
      "Done dt=2025-10-28/2025-10-28T200000.parquet\n"
     ]
    },
    {
     "name": "stderr",
     "output_type": "stream",
     "text": [
      "\r",
      "100%|█████████▉| 2316/2320 [08:14<00:44, 11.05s/it]"
     ]
    },
    {
     "name": "stdout",
     "output_type": "stream",
     "text": [
      "Done dt=2025-10-28/2025-10-28T210000.parquet\n"
     ]
    },
    {
     "name": "stderr",
     "output_type": "stream",
     "text": [
      "\r",
      "100%|█████████▉| 2317/2320 [08:28<00:35, 11.95s/it]"
     ]
    },
    {
     "name": "stdout",
     "output_type": "stream",
     "text": [
      "Done dt=2025-10-28/2025-10-28T220000.parquet\n"
     ]
    },
    {
     "name": "stderr",
     "output_type": "stream",
     "text": [
      "\r",
      "100%|█████████▉| 2318/2320 [08:47<00:27, 13.50s/it]"
     ]
    },
    {
     "name": "stdout",
     "output_type": "stream",
     "text": [
      "Done dt=2025-10-28/2025-10-28T230000.parquet\n"
     ]
    },
    {
     "name": "stderr",
     "output_type": "stream",
     "text": [
      "\r",
      "100%|█████████▉| 2319/2320 [09:08<00:15, 15.65s/it]"
     ]
    },
    {
     "name": "stdout",
     "output_type": "stream",
     "text": [
      "Done dt=2025-10-29/2025-10-29T000000.parquet\n"
     ]
    },
    {
     "name": "stderr",
     "output_type": "stream",
     "text": [
      "\r",
      "100%|██████████| 2320/2320 [09:31<00:00, 17.70s/it]"
     ]
    },
    {
     "name": "stderr",
     "output_type": "stream",
     "text": [
      "\r",
      "100%|██████████| 2320/2320 [09:31<00:00,  4.06it/s]"
     ]
    },
    {
     "name": "stdout",
     "output_type": "stream",
     "text": [
      "Done dt=2025-10-29/2025-10-29T010000.parquet\n"
     ]
    },
    {
     "name": "stderr",
     "output_type": "stream",
     "text": [
      "\n"
     ]
    }
   ],
   "source": [
    "storage_options = {\n",
    "    \"account_name\": account_name,\n",
    "    \"account_key\":  account_key,\n",
    "}\n",
    "\n",
    "for ts, files in tqdm(groups.items()):\n",
    "    if ts not in need_process_ts: continue\n",
    "    dt = ts[:10]\n",
    "    # if dt not in need_process:\n",
    "    #     continue\n",
    "    df = pl.scan_csv(f\"az://adjuststblive/*_{ts}_*.csv.gz\", storage_options = storage_options,glob=True, has_header = True, null_values = [\"\",\"NULL\"], ignore_errors=True).select(pl.all().cast(pl.Utf8))\n",
    "    df.sink_parquet(f\"az://adjuststbuatprocessed/live/processing/dt={dt}/{ts}.parquet\", storage_options = storage_options, compression=\"snappy\")\n",
    "    print(f'Done dt={dt}/{ts}.parquet')\n",
    "        "
   ]
  },
  {
   "cell_type": "code",
   "execution_count": 13,
   "id": "52414610",
   "metadata": {
    "execution": {
     "iopub.execute_input": "2025-10-29T02:13:20.566769Z",
     "iopub.status.busy": "2025-10-29T02:13:20.566600Z",
     "iopub.status.idle": "2025-10-29T02:13:20.570945Z",
     "shell.execute_reply": "2025-10-29T02:13:20.569978Z"
    },
    "papermill": {
     "duration": 0.013796,
     "end_time": "2025-10-29T02:13:20.571515",
     "exception": false,
     "start_time": "2025-10-29T02:13:20.557719",
     "status": "completed"
    },
    "tags": []
   },
   "outputs": [
    {
     "data": {
      "text/plain": [
       "{'2025-10-28', '2025-10-29'}"
      ]
     },
     "execution_count": 13,
     "metadata": {},
     "output_type": "execute_result"
    }
   ],
   "source": [
    "need_process = set([i.split(\"T\")[0] for i in need_process_ts])\n",
    "need_process"
   ]
  },
  {
   "cell_type": "code",
   "execution_count": 14,
   "id": "299a6a5d",
   "metadata": {
    "execution": {
     "iopub.execute_input": "2025-10-29T02:13:20.586047Z",
     "iopub.status.busy": "2025-10-29T02:13:20.585885Z",
     "iopub.status.idle": "2025-10-29T02:14:25.384232Z",
     "shell.execute_reply": "2025-10-29T02:14:25.383345Z"
    },
    "id": "sBm7rfFUyePJ",
    "papermill": {
     "duration": 64.806494,
     "end_time": "2025-10-29T02:14:25.384843",
     "exception": false,
     "start_time": "2025-10-29T02:13:20.578349",
     "status": "completed"
    },
    "tags": []
   },
   "outputs": [
    {
     "name": "stdout",
     "output_type": "stream",
     "text": [
      "\n",
      " Done 2025-10-28\n",
      "\n"
     ]
    },
    {
     "name": "stdout",
     "output_type": "stream",
     "text": [
      "\n",
      " Done 2025-10-29\n",
      "\n"
     ]
    }
   ],
   "source": [
    "for dt in need_process:\n",
    "  df = pl.scan_parquet(f\"az://adjuststbuatprocessed/live/processing/dt={dt}/*.parquet\", storage_options=storage_options,glob=True).with_columns(pl.lit(dt).alias(\"dt\"))\n",
    "  df.sink_parquet(f\"az://adjuststbuatprocessed/live/output/{dt}.parquet\", storage_options=storage_options, compression=\"snappy\")\n",
    "  print(f'\\n Done {dt}\\n')"
   ]
  }
 ],
 "metadata": {
  "colab": {
   "authorship_tag": "ABX9TyOfzO6uvqUX+Tt89Y73G9E8",
   "include_colab_link": true,
   "provenance": []
  },
  "kernelspec": {
   "display_name": "Python 3",
   "name": "python3"
  },
  "language_info": {
   "codemirror_mode": {
    "name": "ipython",
    "version": 3
   },
   "file_extension": ".py",
   "mimetype": "text/x-python",
   "name": "python",
   "nbconvert_exporter": "python",
   "pygments_lexer": "ipython3",
   "version": "3.11.13"
  },
  "papermill": {
   "default_parameters": {},
   "duration": 930.114558,
   "end_time": "2025-10-29T02:14:26.110526",
   "environment_variables": {},
   "exception": null,
   "input_path": "notebooks/ADJUST_JOB.ipynb",
   "output_path": "outputs/ADJUST_JOB_2025-10-29.ipynb",
   "parameters": {
    "RUN_DATE": "2025-10-29"
   },
   "start_time": "2025-10-29T01:58:55.995968",
   "version": "2.6.0"
  }
 },
 "nbformat": 4,
 "nbformat_minor": 5
}