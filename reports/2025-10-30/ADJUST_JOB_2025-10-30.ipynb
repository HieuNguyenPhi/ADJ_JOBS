{
 "cells": [
  {
   "cell_type": "code",
   "execution_count": 1,
   "id": "12b3a886",
   "metadata": {
    "execution": {
     "iopub.execute_input": "2025-10-30T01:57:49.060925Z",
     "iopub.status.busy": "2025-10-30T01:57:49.060717Z",
     "iopub.status.idle": "2025-10-30T01:57:49.066098Z",
     "shell.execute_reply": "2025-10-30T01:57:49.065304Z"
    },
    "papermill": {
     "duration": 0.010007,
     "end_time": "2025-10-30T01:57:49.066871",
     "exception": false,
     "start_time": "2025-10-30T01:57:49.056864",
     "status": "completed"
    },
    "tags": [
     "injected-parameters"
    ]
   },
   "outputs": [],
   "source": [
    "# Parameters\n",
    "RUN_DATE = \"2025-10-30\"\n"
   ]
  },
  {
   "cell_type": "markdown",
   "id": "13ccda60",
   "metadata": {
    "colab_type": "text",
    "id": "view-in-github",
    "papermill": {
     "duration": 0.001907,
     "end_time": "2025-10-30T01:57:49.071095",
     "exception": false,
     "start_time": "2025-10-30T01:57:49.069188",
     "status": "completed"
    },
    "tags": []
   },
   "source": [
    "<a href=\"https://colab.research.google.com/github/HieuNguyenPhi/ADJ_JOBS/blob/main/notebooks/ADJUST_JOB.ipynb\" target=\"_parent\"><img src=\"https://colab.research.google.com/assets/colab-badge.svg\" alt=\"Open In Colab\"/></a>"
   ]
  },
  {
   "cell_type": "markdown",
   "id": "5048cde9",
   "metadata": {
    "papermill": {
     "duration": 0.002771,
     "end_time": "2025-10-30T01:57:49.075829",
     "exception": false,
     "start_time": "2025-10-30T01:57:49.073058",
     "status": "completed"
    },
    "tags": []
   },
   "source": [
    "# UAT"
   ]
  },
  {
   "cell_type": "code",
   "execution_count": 2,
   "id": "210ac87a",
   "metadata": {
    "execution": {
     "iopub.execute_input": "2025-10-30T01:57:49.080620Z",
     "iopub.status.busy": "2025-10-30T01:57:49.080448Z",
     "iopub.status.idle": "2025-10-30T01:57:55.379686Z",
     "shell.execute_reply": "2025-10-30T01:57:55.378929Z"
    },
    "id": "ycUR2r1dq1Nm",
    "papermill": {
     "duration": 6.302684,
     "end_time": "2025-10-30T01:57:55.380417",
     "exception": false,
     "start_time": "2025-10-30T01:57:49.077733",
     "status": "completed"
    },
    "tags": []
   },
   "outputs": [
    {
     "data": {
      "text/plain": [
       "['2025-10-28T200000',\n",
       " '2025-10-28T210000',\n",
       " '2025-10-28T220000',\n",
       " '2025-10-28T230000',\n",
       " '2025-10-29T000000']"
      ]
     },
     "execution_count": 2,
     "metadata": {},
     "output_type": "execute_result"
    }
   ],
   "source": [
    "import os\n",
    "from azure.storage.blob import BlobServiceClient\n",
    "\n",
    "account_name = os.getenv('ACCOUNT_NAME')\n",
    "account_key = os.getenv('ACCOUNT_KEY')\n",
    "# Replace with your Azure Storage account name and SAS token or connection string\n",
    "connect_str = f\"DefaultEndpointsProtocol=https;AccountName={account_name};AccountKey={account_key};EndpointSuffix=core.windows.net\"\n",
    "blob_service_client = BlobServiceClient.from_connection_string(connect_str)\n",
    "container_list = blob_service_client.list_containers()\n",
    "container_name = \"adjuststbuatprocessed\" #os.getenv('CONTAINER_NAME')\n",
    "container_client = blob_service_client.get_container_client(container_name)\n",
    "# already_processed = [file.name.split('/')[1].split('.')[0] for file in container_client.list_blobs() if file.name.split('/')[0] == 'output']\n",
    "# already_processed[-5:]\n",
    "already_processed_ts = sorted([file.name.split('/')[-1].split(\".\")[0] for file in container_client.list_blobs() if file.name.split('/')[0] == 'processing'])\n",
    "already_processed_ts[-5:]"
   ]
  },
  {
   "cell_type": "code",
   "execution_count": 3,
   "id": "d4225593",
   "metadata": {
    "execution": {
     "iopub.execute_input": "2025-10-30T01:57:55.385969Z",
     "iopub.status.busy": "2025-10-30T01:57:55.385715Z",
     "iopub.status.idle": "2025-10-30T01:58:04.016846Z",
     "shell.execute_reply": "2025-10-30T01:58:04.015931Z"
    },
    "id": "xyPuVC12s7fn",
    "papermill": {
     "duration": 8.634719,
     "end_time": "2025-10-30T01:58:04.017528",
     "exception": false,
     "start_time": "2025-10-30T01:57:55.382809",
     "status": "completed"
    },
    "tags": []
   },
   "outputs": [
    {
     "data": {
      "text/plain": [
       "['rsh20bkkb4zk_2025-10-30T000000_762c775ae454d23f2c6b6a75623d14c7_2853a0.csv.gz',\n",
       " 'rsh20bkkb4zk_2025-10-30T000000_762c775ae454d23f2c6b6a75623d14c7_2853a1.csv.gz',\n",
       " 'rsh20bkkb4zk_2025-10-30T000000_762c775ae454d23f2c6b6a75623d14c7_be8221.csv.gz',\n",
       " 'rsh20bkkb4zk_2025-10-30T000000_762c775ae454d23f2c6b6a75623d14c7_c35750.csv.gz',\n",
       " 'rsh20bkkb4zk_2025-10-30T000000_762c775ae454d23f2c6b6a75623d14c7_c35751.csv.gz']"
      ]
     },
     "execution_count": 3,
     "metadata": {},
     "output_type": "execute_result"
    }
   ],
   "source": [
    "container_name_uat = \"adjuststbuat\"\n",
    "container_client_uat = blob_service_client.get_container_client(container_name_uat)\n",
    "from collections import defaultdict\n",
    "files = [i.name for i in container_client_uat.list_blobs()]\n",
    "groups = defaultdict(list)\n",
    "for f in files:\n",
    "    dt = f.split('_')[1]\n",
    "    groups[dt].append(f)\n",
    "groups[dt]"
   ]
  },
  {
   "cell_type": "code",
   "execution_count": 4,
   "id": "11682524",
   "metadata": {
    "execution": {
     "iopub.execute_input": "2025-10-30T01:58:04.023498Z",
     "iopub.status.busy": "2025-10-30T01:58:04.023306Z",
     "iopub.status.idle": "2025-10-30T01:58:04.026073Z",
     "shell.execute_reply": "2025-10-30T01:58:04.025228Z"
    },
    "papermill": {
     "duration": 0.006464,
     "end_time": "2025-10-30T01:58:04.026673",
     "exception": false,
     "start_time": "2025-10-30T01:58:04.020209",
     "status": "completed"
    },
    "tags": []
   },
   "outputs": [],
   "source": [
    "# from datetime import date, timedelta, datetime\n",
    "# import pandas as pd\n",
    "# today = date.today().strftime('%Y-%m-%d')\n",
    "# yesterday = (date.today() - timedelta(days = 1) ).strftime('%Y-%m-%d')\n",
    "# check_date = dt.split(\"T\")[0]\n",
    "# if check_date == today:\n",
    "#     need_process = pd.date_range(start=already_processed[-1], end=today).strftime('%Y-%m-%d').to_list()\n",
    "# else:\n",
    "#     need_process = pd.date_range(start=already_processed[-1], end=yesterday).strftime('%Y-%m-%d').to_list()\n",
    "# need_process"
   ]
  },
  {
   "cell_type": "code",
   "execution_count": 5,
   "id": "7a8a6e67",
   "metadata": {
    "execution": {
     "iopub.execute_input": "2025-10-30T01:58:04.032015Z",
     "iopub.status.busy": "2025-10-30T01:58:04.031839Z",
     "iopub.status.idle": "2025-10-30T01:58:04.290034Z",
     "shell.execute_reply": "2025-10-30T01:58:04.289212Z"
    },
    "papermill": {
     "duration": 0.261704,
     "end_time": "2025-10-30T01:58:04.290681",
     "exception": false,
     "start_time": "2025-10-30T01:58:04.028977",
     "status": "completed"
    },
    "tags": []
   },
   "outputs": [
    {
     "data": {
      "text/plain": [
       "['2025-10-28T230000',\n",
       " '2025-10-29T000000',\n",
       " '2025-10-29T010000',\n",
       " '2025-10-29T020000',\n",
       " '2025-10-29T030000',\n",
       " '2025-10-29T040000',\n",
       " '2025-10-29T050000',\n",
       " '2025-10-29T060000',\n",
       " '2025-10-29T070000',\n",
       " '2025-10-29T080000',\n",
       " '2025-10-29T090000',\n",
       " '2025-10-29T100000',\n",
       " '2025-10-29T110000',\n",
       " '2025-10-29T120000',\n",
       " '2025-10-29T130000',\n",
       " '2025-10-29T140000',\n",
       " '2025-10-29T150000',\n",
       " '2025-10-29T160000',\n",
       " '2025-10-29T170000',\n",
       " '2025-10-29T180000',\n",
       " '2025-10-29T190000',\n",
       " '2025-10-29T200000',\n",
       " '2025-10-29T210000',\n",
       " '2025-10-29T220000',\n",
       " '2025-10-29T230000',\n",
       " '2025-10-30T000000']"
      ]
     },
     "execution_count": 5,
     "metadata": {},
     "output_type": "execute_result"
    }
   ],
   "source": [
    "from datetime import datetime\n",
    "import pandas as pd\n",
    "B = datetime.strptime(dt, \"%Y-%m-%dT%H0000\")\n",
    "A = datetime.strptime(already_processed_ts[-2], \"%Y-%m-%dT%H0000\")\n",
    "need_process_ts =  pd.date_range(A, B, freq='h').strftime('%Y-%m-%dT%H0000').tolist()\n",
    "need_process_ts"
   ]
  },
  {
   "cell_type": "code",
   "execution_count": 6,
   "id": "6a354ba6",
   "metadata": {
    "execution": {
     "iopub.execute_input": "2025-10-30T01:58:04.297365Z",
     "iopub.status.busy": "2025-10-30T01:58:04.297062Z",
     "iopub.status.idle": "2025-10-30T02:01:21.375434Z",
     "shell.execute_reply": "2025-10-30T02:01:21.374503Z"
    },
    "papermill": {
     "duration": 197.086097,
     "end_time": "2025-10-30T02:01:21.379503",
     "exception": false,
     "start_time": "2025-10-30T01:58:04.293406",
     "status": "completed"
    },
    "tags": []
   },
   "outputs": [
    {
     "name": "stderr",
     "output_type": "stream",
     "text": [
      "\r",
      "  0%|          | 0/2265 [00:00<?, ?it/s]"
     ]
    },
    {
     "name": "stderr",
     "output_type": "stream",
     "text": [
      "\r",
      " 99%|█████████▉| 2241/2265 [00:09<00:00, 226.88it/s]"
     ]
    },
    {
     "name": "stdout",
     "output_type": "stream",
     "text": [
      "Done dt=2025-10-28/2025-10-28T230000.parquet\n"
     ]
    },
    {
     "name": "stdout",
     "output_type": "stream",
     "text": [
      "Done dt=2025-10-29/2025-10-29T000000.parquet\n"
     ]
    },
    {
     "name": "stderr",
     "output_type": "stream",
     "text": [
      "\r",
      " 99%|█████████▉| 2241/2265 [00:19<00:00, 226.88it/s]"
     ]
    },
    {
     "name": "stderr",
     "output_type": "stream",
     "text": [
      "\r",
      " 99%|█████████▉| 2243/2265 [00:26<00:00, 67.80it/s] "
     ]
    },
    {
     "name": "stdout",
     "output_type": "stream",
     "text": [
      "Done dt=2025-10-29/2025-10-29T010000.parquet\n"
     ]
    },
    {
     "name": "stderr",
     "output_type": "stream",
     "text": [
      "\r",
      " 99%|█████████▉| 2244/2265 [00:33<00:00, 45.71it/s]"
     ]
    },
    {
     "name": "stdout",
     "output_type": "stream",
     "text": [
      "Done dt=2025-10-29/2025-10-29T020000.parquet\n"
     ]
    },
    {
     "name": "stdout",
     "output_type": "stream",
     "text": [
      "Done dt=2025-10-29/2025-10-29T030000.parquet\n"
     ]
    },
    {
     "name": "stderr",
     "output_type": "stream",
     "text": [
      "\r",
      " 99%|█████████▉| 2244/2265 [00:50<00:00, 45.71it/s]"
     ]
    },
    {
     "name": "stderr",
     "output_type": "stream",
     "text": [
      "\r",
      " 99%|█████████▉| 2246/2265 [00:50<00:00, 23.17it/s]"
     ]
    },
    {
     "name": "stdout",
     "output_type": "stream",
     "text": [
      "Done dt=2025-10-29/2025-10-29T040000.parquet\n"
     ]
    },
    {
     "name": "stderr",
     "output_type": "stream",
     "text": [
      "\r",
      " 99%|█████████▉| 2247/2265 [00:58<00:01, 17.39it/s]"
     ]
    },
    {
     "name": "stdout",
     "output_type": "stream",
     "text": [
      "Done dt=2025-10-29/2025-10-29T050000.parquet\n"
     ]
    },
    {
     "name": "stdout",
     "output_type": "stream",
     "text": [
      "Done dt=2025-10-29/2025-10-29T060000.parquet\n"
     ]
    },
    {
     "name": "stderr",
     "output_type": "stream",
     "text": [
      "\r",
      " 99%|█████████▉| 2247/2265 [01:10<00:01, 17.39it/s]"
     ]
    },
    {
     "name": "stderr",
     "output_type": "stream",
     "text": [
      "\r",
      " 99%|█████████▉| 2249/2265 [01:14<00:01,  9.93it/s]"
     ]
    },
    {
     "name": "stdout",
     "output_type": "stream",
     "text": [
      "Done dt=2025-10-29/2025-10-29T070000.parquet\n"
     ]
    },
    {
     "name": "stderr",
     "output_type": "stream",
     "text": [
      "\r",
      " 99%|█████████▉| 2250/2265 [01:22<00:01,  7.69it/s]"
     ]
    },
    {
     "name": "stdout",
     "output_type": "stream",
     "text": [
      "Done dt=2025-10-29/2025-10-29T080000.parquet\n"
     ]
    },
    {
     "name": "stdout",
     "output_type": "stream",
     "text": [
      "Done dt=2025-10-29/2025-10-29T090000.parquet\n"
     ]
    },
    {
     "name": "stdout",
     "output_type": "stream",
     "text": [
      "Done dt=2025-10-29/2025-10-29T100000.parquet\n"
     ]
    },
    {
     "name": "stderr",
     "output_type": "stream",
     "text": [
      "\r",
      " 99%|█████████▉| 2250/2265 [01:40<00:01,  7.69it/s]"
     ]
    },
    {
     "name": "stderr",
     "output_type": "stream",
     "text": [
      "\r",
      " 99%|█████████▉| 2253/2265 [01:46<00:03,  3.95it/s]"
     ]
    },
    {
     "name": "stdout",
     "output_type": "stream",
     "text": [
      "Done dt=2025-10-29/2025-10-29T110000.parquet\n"
     ]
    },
    {
     "name": "stderr",
     "output_type": "stream",
     "text": [
      "\r",
      "100%|█████████▉| 2254/2265 [01:54<00:03,  3.22it/s]"
     ]
    },
    {
     "name": "stdout",
     "output_type": "stream",
     "text": [
      "Done dt=2025-10-29/2025-10-29T120000.parquet\n"
     ]
    },
    {
     "name": "stdout",
     "output_type": "stream",
     "text": [
      "Done dt=2025-10-29/2025-10-29T130000.parquet\n"
     ]
    },
    {
     "name": "stderr",
     "output_type": "stream",
     "text": [
      "\r",
      "100%|█████████▉| 2256/2265 [02:09<00:04,  2.18it/s]"
     ]
    },
    {
     "name": "stdout",
     "output_type": "stream",
     "text": [
      "Done dt=2025-10-29/2025-10-29T140000.parquet\n"
     ]
    },
    {
     "name": "stderr",
     "output_type": "stream",
     "text": [
      "\r",
      "100%|█████████▉| 2257/2265 [02:17<00:04,  1.76it/s]"
     ]
    },
    {
     "name": "stdout",
     "output_type": "stream",
     "text": [
      "Done dt=2025-10-29/2025-10-29T150000.parquet\n"
     ]
    },
    {
     "name": "stdout",
     "output_type": "stream",
     "text": [
      "Done dt=2025-10-29/2025-10-29T160000.parquet\n"
     ]
    },
    {
     "name": "stderr",
     "output_type": "stream",
     "text": [
      "\r",
      "100%|█████████▉| 2257/2265 [02:30<00:04,  1.76it/s]"
     ]
    },
    {
     "name": "stderr",
     "output_type": "stream",
     "text": [
      "\r",
      "100%|█████████▉| 2259/2265 [02:32<00:05,  1.19it/s]"
     ]
    },
    {
     "name": "stdout",
     "output_type": "stream",
     "text": [
      "Done dt=2025-10-29/2025-10-29T170000.parquet\n"
     ]
    },
    {
     "name": "stderr",
     "output_type": "stream",
     "text": [
      "\r",
      "100%|█████████▉| 2260/2265 [02:39<00:05,  1.02s/it]"
     ]
    },
    {
     "name": "stdout",
     "output_type": "stream",
     "text": [
      "Done dt=2025-10-29/2025-10-29T180000.parquet\n"
     ]
    },
    {
     "name": "stderr",
     "output_type": "stream",
     "text": [
      "\r",
      "100%|█████████▉| 2261/2265 [02:46<00:05,  1.27s/it]"
     ]
    },
    {
     "name": "stdout",
     "output_type": "stream",
     "text": [
      "Done dt=2025-10-29/2025-10-29T190000.parquet\n"
     ]
    },
    {
     "name": "stderr",
     "output_type": "stream",
     "text": [
      "\r",
      "100%|█████████▉| 2262/2265 [02:54<00:04,  1.59s/it]"
     ]
    },
    {
     "name": "stdout",
     "output_type": "stream",
     "text": [
      "Done dt=2025-10-29/2025-10-29T200000.parquet\n"
     ]
    },
    {
     "name": "stderr",
     "output_type": "stream",
     "text": [
      "\r",
      "100%|█████████▉| 2263/2265 [03:01<00:03,  1.99s/it]"
     ]
    },
    {
     "name": "stdout",
     "output_type": "stream",
     "text": [
      "Done dt=2025-10-29/2025-10-29T210000.parquet\n"
     ]
    },
    {
     "name": "stderr",
     "output_type": "stream",
     "text": [
      "\r",
      "100%|█████████▉| 2264/2265 [03:09<00:02,  2.48s/it]"
     ]
    },
    {
     "name": "stdout",
     "output_type": "stream",
     "text": [
      "Done dt=2025-10-29/2025-10-29T220000.parquet\n"
     ]
    },
    {
     "name": "stderr",
     "output_type": "stream",
     "text": [
      "\r",
      "100%|██████████| 2265/2265 [03:16<00:00,  3.09s/it]"
     ]
    },
    {
     "name": "stderr",
     "output_type": "stream",
     "text": [
      "\r",
      "100%|██████████| 2265/2265 [03:16<00:00, 11.50it/s]"
     ]
    },
    {
     "name": "stdout",
     "output_type": "stream",
     "text": [
      "Done dt=2025-10-30/2025-10-30T000000.parquet\n"
     ]
    },
    {
     "name": "stderr",
     "output_type": "stream",
     "text": [
      "\n"
     ]
    }
   ],
   "source": [
    "import polars as pl \n",
    "from tqdm import tqdm\n",
    "storage_options = {\n",
    "    \"account_name\": account_name,\n",
    "    \"account_key\":  account_key,\n",
    "}\n",
    "\n",
    "for ts, files in tqdm(groups.items()):\n",
    "    if ts not in need_process_ts:\n",
    "        continue\n",
    "    dt = ts[:10]\n",
    "    # if dt not in need_process:\n",
    "    #     continue\n",
    "    df = pl.scan_csv(f\"az://adjuststbuat/*_{ts}_*.csv.gz\", storage_options = storage_options,glob=True, has_header = True, null_values = [\"\",\"NULL\"], ignore_errors=True).select(pl.all().cast(pl.Utf8))\n",
    "    df.sink_parquet(f\"az://adjuststbuatprocessed/processing/dt={dt}/{ts}.parquet\", storage_options = storage_options, compression=\"snappy\")\n",
    "    print(f'Done dt={dt}/{ts}.parquet')\n",
    "        "
   ]
  },
  {
   "cell_type": "code",
   "execution_count": 7,
   "id": "65b1dbd8",
   "metadata": {
    "execution": {
     "iopub.execute_input": "2025-10-30T02:01:21.389102Z",
     "iopub.status.busy": "2025-10-30T02:01:21.388914Z",
     "iopub.status.idle": "2025-10-30T02:01:21.393131Z",
     "shell.execute_reply": "2025-10-30T02:01:21.392359Z"
    },
    "papermill": {
     "duration": 0.009908,
     "end_time": "2025-10-30T02:01:21.393751",
     "exception": false,
     "start_time": "2025-10-30T02:01:21.383843",
     "status": "completed"
    },
    "tags": []
   },
   "outputs": [
    {
     "data": {
      "text/plain": [
       "{'2025-10-28', '2025-10-29', '2025-10-30'}"
      ]
     },
     "execution_count": 7,
     "metadata": {},
     "output_type": "execute_result"
    }
   ],
   "source": [
    "need_process = set([i.split(\"T\")[0] for i in need_process_ts])\n",
    "need_process"
   ]
  },
  {
   "cell_type": "code",
   "execution_count": 8,
   "id": "6ca4a02f",
   "metadata": {
    "execution": {
     "iopub.execute_input": "2025-10-30T02:01:21.402927Z",
     "iopub.status.busy": "2025-10-30T02:01:21.402763Z",
     "iopub.status.idle": "2025-10-30T02:01:31.157321Z",
     "shell.execute_reply": "2025-10-30T02:01:31.156431Z"
    },
    "papermill": {
     "duration": 9.759963,
     "end_time": "2025-10-30T02:01:31.157931",
     "exception": false,
     "start_time": "2025-10-30T02:01:21.397968",
     "status": "completed"
    },
    "tags": []
   },
   "outputs": [
    {
     "name": "stdout",
     "output_type": "stream",
     "text": [
      "\n",
      " Done 2025-10-29\n",
      "\n"
     ]
    },
    {
     "name": "stdout",
     "output_type": "stream",
     "text": [
      "\n",
      " Done 2025-10-28\n",
      "\n"
     ]
    },
    {
     "name": "stdout",
     "output_type": "stream",
     "text": [
      "\n",
      " Done 2025-10-30\n",
      "\n"
     ]
    }
   ],
   "source": [
    "for dt in need_process:\n",
    "  df = pl.scan_parquet(f\"az://adjuststbuatprocessed/processing/dt={dt}/*.parquet\", storage_options=storage_options,glob=True).with_columns(pl.lit(dt).alias(\"dt\"))\n",
    "  df.sink_parquet(f\"az://adjuststbuatprocessed/output/{dt}.parquet\", storage_options=storage_options, compression=\"snappy\")\n",
    "  print(f'\\n Done {dt}\\n')"
   ]
  },
  {
   "cell_type": "markdown",
   "id": "0f36a7e1",
   "metadata": {
    "id": "2TvKr29qyJd_",
    "papermill": {
     "duration": 0.004338,
     "end_time": "2025-10-30T02:01:31.166913",
     "exception": false,
     "start_time": "2025-10-30T02:01:31.162575",
     "status": "completed"
    },
    "tags": []
   },
   "source": [
    "# Live"
   ]
  },
  {
   "cell_type": "code",
   "execution_count": 9,
   "id": "8717a963",
   "metadata": {
    "execution": {
     "iopub.execute_input": "2025-10-30T02:01:31.176453Z",
     "iopub.status.busy": "2025-10-30T02:01:31.176264Z",
     "iopub.status.idle": "2025-10-30T02:01:36.898051Z",
     "shell.execute_reply": "2025-10-30T02:01:36.897202Z"
    },
    "id": "EnaFsdZFxpwc",
    "papermill": {
     "duration": 5.727467,
     "end_time": "2025-10-30T02:01:36.898685",
     "exception": false,
     "start_time": "2025-10-30T02:01:31.171218",
     "status": "completed"
    },
    "tags": []
   },
   "outputs": [
    {
     "data": {
      "text/plain": [
       "['2025-10-28T210000',\n",
       " '2025-10-28T220000',\n",
       " '2025-10-28T230000',\n",
       " '2025-10-29T000000',\n",
       " '2025-10-29T010000']"
      ]
     },
     "execution_count": 9,
     "metadata": {},
     "output_type": "execute_result"
    }
   ],
   "source": [
    "# already_processed = [file.name.split('/')[-1].split('.')[0] for file in container_client.list_blobs() if file.name[:12] == 'live/output/']\n",
    "# already_processed[-5:]\n",
    "already_processed_ts = sorted([file.name.split('/')[-1].split(\".\")[0] for file in container_client.list_blobs() if (file.name.split('/')[0] + \"/\" + file.name.split('/')[1]) == 'live/processing'])\n",
    "already_processed_ts[-5:]"
   ]
  },
  {
   "cell_type": "code",
   "execution_count": 10,
   "id": "7aafa9b3",
   "metadata": {
    "execution": {
     "iopub.execute_input": "2025-10-30T02:01:36.908749Z",
     "iopub.status.busy": "2025-10-30T02:01:36.908565Z",
     "iopub.status.idle": "2025-10-30T02:01:49.393109Z",
     "shell.execute_reply": "2025-10-30T02:01:49.392222Z"
    },
    "id": "I7Er6YEUyOsL",
    "papermill": {
     "duration": 12.490374,
     "end_time": "2025-10-30T02:01:49.393824",
     "exception": false,
     "start_time": "2025-10-30T02:01:36.903450",
     "status": "completed"
    },
    "tags": []
   },
   "outputs": [
    {
     "data": {
      "text/plain": [
       "['65n1fgov4zr4_2025-10-30T010000_762c775ae454d23f2c6b6a75623d14c7_be8221.csv.gz']"
      ]
     },
     "execution_count": 10,
     "metadata": {},
     "output_type": "execute_result"
    }
   ],
   "source": [
    "container_name_uat = \"adjuststblive\"\n",
    "container_client_uat = blob_service_client.get_container_client(container_name_uat)\n",
    "from collections import defaultdict\n",
    "files = [i.name for i in container_client_uat.list_blobs()]\n",
    "groups = defaultdict(list)\n",
    "for f in files:\n",
    "    dt = f.split('_')[1]\n",
    "    groups[dt].append(f)\n",
    "groups[dt]"
   ]
  },
  {
   "cell_type": "code",
   "execution_count": 11,
   "id": "fc984cb4",
   "metadata": {
    "execution": {
     "iopub.execute_input": "2025-10-30T02:01:49.404454Z",
     "iopub.status.busy": "2025-10-30T02:01:49.404271Z",
     "iopub.status.idle": "2025-10-30T02:01:49.409699Z",
     "shell.execute_reply": "2025-10-30T02:01:49.408863Z"
    },
    "papermill": {
     "duration": 0.011487,
     "end_time": "2025-10-30T02:01:49.410280",
     "exception": false,
     "start_time": "2025-10-30T02:01:49.398793",
     "status": "completed"
    },
    "tags": []
   },
   "outputs": [
    {
     "data": {
      "text/plain": [
       "['2025-10-29T010000',\n",
       " '2025-10-29T020000',\n",
       " '2025-10-29T030000',\n",
       " '2025-10-29T040000',\n",
       " '2025-10-29T050000',\n",
       " '2025-10-29T060000',\n",
       " '2025-10-29T070000',\n",
       " '2025-10-29T080000',\n",
       " '2025-10-29T090000',\n",
       " '2025-10-29T100000',\n",
       " '2025-10-29T110000',\n",
       " '2025-10-29T120000',\n",
       " '2025-10-29T130000',\n",
       " '2025-10-29T140000',\n",
       " '2025-10-29T150000',\n",
       " '2025-10-29T160000',\n",
       " '2025-10-29T170000',\n",
       " '2025-10-29T180000',\n",
       " '2025-10-29T190000',\n",
       " '2025-10-29T200000',\n",
       " '2025-10-29T210000',\n",
       " '2025-10-29T220000',\n",
       " '2025-10-29T230000',\n",
       " '2025-10-30T000000',\n",
       " '2025-10-30T010000']"
      ]
     },
     "execution_count": 11,
     "metadata": {},
     "output_type": "execute_result"
    }
   ],
   "source": [
    "# need_process = pd.date_range(start=already_processed[-1], end=today).strftime('%Y-%m-%d').to_list()\n",
    "# need_process\n",
    "\n",
    "B = datetime.strptime(dt, \"%Y-%m-%dT%H0000\")\n",
    "A = datetime.strptime(already_processed_ts[-1], \"%Y-%m-%dT%H0000\")\n",
    "need_process_ts =  pd.date_range(A, B, freq='h').strftime('%Y-%m-%dT%H0000').tolist()\n",
    "need_process_ts"
   ]
  },
  {
   "cell_type": "code",
   "execution_count": 12,
   "id": "10bedefc",
   "metadata": {
    "execution": {
     "iopub.execute_input": "2025-10-30T02:01:49.420381Z",
     "iopub.status.busy": "2025-10-30T02:01:49.420191Z",
     "iopub.status.idle": "2025-10-30T02:09:34.533681Z",
     "shell.execute_reply": "2025-10-30T02:09:34.532610Z"
    },
    "id": "g-W3s2nRyRY7",
    "papermill": {
     "duration": 465.119399,
     "end_time": "2025-10-30T02:09:34.534272",
     "exception": false,
     "start_time": "2025-10-30T02:01:49.414873",
     "status": "completed"
    },
    "tags": []
   },
   "outputs": [
    {
     "name": "stderr",
     "output_type": "stream",
     "text": [
      "\r",
      "  0%|          | 0/2344 [00:00<?, ?it/s]"
     ]
    },
    {
     "name": "stderr",
     "output_type": "stream",
     "text": [
      "\r",
      " 99%|█████████▉| 2320/2344 [00:22<00:00, 101.98it/s]"
     ]
    },
    {
     "name": "stdout",
     "output_type": "stream",
     "text": [
      "Done dt=2025-10-29/2025-10-29T010000.parquet\n"
     ]
    },
    {
     "name": "stderr",
     "output_type": "stream",
     "text": [
      "\r",
      " 99%|█████████▉| 2320/2344 [00:35<00:00, 101.98it/s]"
     ]
    },
    {
     "name": "stderr",
     "output_type": "stream",
     "text": [
      "\r",
      " 99%|█████████▉| 2321/2344 [00:42<00:00, 45.23it/s] "
     ]
    },
    {
     "name": "stdout",
     "output_type": "stream",
     "text": [
      "Done dt=2025-10-29/2025-10-29T020000.parquet\n"
     ]
    },
    {
     "name": "stderr",
     "output_type": "stream",
     "text": [
      "\r",
      " 99%|█████████▉| 2322/2344 [01:03<00:00, 24.60it/s]"
     ]
    },
    {
     "name": "stdout",
     "output_type": "stream",
     "text": [
      "Done dt=2025-10-29/2025-10-29T030000.parquet\n"
     ]
    },
    {
     "name": "stderr",
     "output_type": "stream",
     "text": [
      "\r",
      " 99%|█████████▉| 2323/2344 [01:25<00:01, 14.84it/s]"
     ]
    },
    {
     "name": "stdout",
     "output_type": "stream",
     "text": [
      "Done dt=2025-10-29/2025-10-29T040000.parquet\n"
     ]
    },
    {
     "name": "stderr",
     "output_type": "stream",
     "text": [
      "\r",
      " 99%|█████████▉| 2324/2344 [01:46<00:02,  9.49it/s]"
     ]
    },
    {
     "name": "stdout",
     "output_type": "stream",
     "text": [
      "Done dt=2025-10-29/2025-10-29T050000.parquet\n"
     ]
    },
    {
     "name": "stderr",
     "output_type": "stream",
     "text": [
      "\r",
      " 99%|█████████▉| 2325/2344 [02:07<00:03,  6.31it/s]"
     ]
    },
    {
     "name": "stdout",
     "output_type": "stream",
     "text": [
      "Done dt=2025-10-29/2025-10-29T060000.parquet\n"
     ]
    },
    {
     "name": "stderr",
     "output_type": "stream",
     "text": [
      "\r",
      " 99%|█████████▉| 2326/2344 [02:27<00:04,  4.33it/s]"
     ]
    },
    {
     "name": "stdout",
     "output_type": "stream",
     "text": [
      "Done dt=2025-10-29/2025-10-29T070000.parquet\n"
     ]
    },
    {
     "name": "stderr",
     "output_type": "stream",
     "text": [
      "\r",
      " 99%|█████████▉| 2327/2344 [02:49<00:05,  2.91it/s]"
     ]
    },
    {
     "name": "stdout",
     "output_type": "stream",
     "text": [
      "Done dt=2025-10-29/2025-10-29T080000.parquet\n"
     ]
    },
    {
     "name": "stderr",
     "output_type": "stream",
     "text": [
      "\r",
      " 99%|█████████▉| 2328/2344 [03:10<00:07,  2.04it/s]"
     ]
    },
    {
     "name": "stdout",
     "output_type": "stream",
     "text": [
      "Done dt=2025-10-29/2025-10-29T090000.parquet\n"
     ]
    },
    {
     "name": "stderr",
     "output_type": "stream",
     "text": [
      "\r",
      " 99%|█████████▉| 2329/2344 [03:36<00:11,  1.32it/s]"
     ]
    },
    {
     "name": "stdout",
     "output_type": "stream",
     "text": [
      "Done dt=2025-10-29/2025-10-29T100000.parquet\n"
     ]
    },
    {
     "name": "stderr",
     "output_type": "stream",
     "text": [
      "\r",
      " 99%|█████████▉| 2330/2344 [03:57<00:14,  1.05s/it]"
     ]
    },
    {
     "name": "stdout",
     "output_type": "stream",
     "text": [
      "Done dt=2025-10-29/2025-10-29T110000.parquet\n"
     ]
    },
    {
     "name": "stderr",
     "output_type": "stream",
     "text": [
      "\r",
      " 99%|█████████▉| 2331/2344 [04:18<00:19,  1.46s/it]"
     ]
    },
    {
     "name": "stdout",
     "output_type": "stream",
     "text": [
      "Done dt=2025-10-29/2025-10-29T120000.parquet\n"
     ]
    },
    {
     "name": "stderr",
     "output_type": "stream",
     "text": [
      "\r",
      " 99%|█████████▉| 2332/2344 [04:38<00:23,  1.98s/it]"
     ]
    },
    {
     "name": "stdout",
     "output_type": "stream",
     "text": [
      "Done dt=2025-10-29/2025-10-29T130000.parquet\n"
     ]
    },
    {
     "name": "stderr",
     "output_type": "stream",
     "text": [
      "\r",
      "100%|█████████▉| 2333/2344 [05:02<00:31,  2.84s/it]"
     ]
    },
    {
     "name": "stdout",
     "output_type": "stream",
     "text": [
      "Done dt=2025-10-29/2025-10-29T140000.parquet\n"
     ]
    },
    {
     "name": "stderr",
     "output_type": "stream",
     "text": [
      "\r",
      "100%|█████████▉| 2334/2344 [05:19<00:35,  3.58s/it]"
     ]
    },
    {
     "name": "stdout",
     "output_type": "stream",
     "text": [
      "Done dt=2025-10-29/2025-10-29T150000.parquet\n"
     ]
    },
    {
     "name": "stderr",
     "output_type": "stream",
     "text": [
      "\r",
      "100%|█████████▉| 2335/2344 [05:34<00:39,  4.34s/it]"
     ]
    },
    {
     "name": "stdout",
     "output_type": "stream",
     "text": [
      "Done dt=2025-10-29/2025-10-29T160000.parquet\n"
     ]
    },
    {
     "name": "stderr",
     "output_type": "stream",
     "text": [
      "\r",
      "100%|█████████▉| 2336/2344 [05:47<00:41,  5.16s/it]"
     ]
    },
    {
     "name": "stdout",
     "output_type": "stream",
     "text": [
      "Done dt=2025-10-29/2025-10-29T170000.parquet\n"
     ]
    },
    {
     "name": "stderr",
     "output_type": "stream",
     "text": [
      "\r",
      "100%|█████████▉| 2337/2344 [05:59<00:41,  6.00s/it]"
     ]
    },
    {
     "name": "stdout",
     "output_type": "stream",
     "text": [
      "Done dt=2025-10-29/2025-10-29T180000.parquet\n"
     ]
    },
    {
     "name": "stderr",
     "output_type": "stream",
     "text": [
      "\r",
      "100%|█████████▉| 2338/2344 [06:12<00:41,  6.86s/it]"
     ]
    },
    {
     "name": "stdout",
     "output_type": "stream",
     "text": [
      "Done dt=2025-10-29/2025-10-29T190000.parquet\n"
     ]
    },
    {
     "name": "stderr",
     "output_type": "stream",
     "text": [
      "\r",
      "100%|█████████▉| 2339/2344 [06:24<00:38,  7.75s/it]"
     ]
    },
    {
     "name": "stdout",
     "output_type": "stream",
     "text": [
      "Done dt=2025-10-29/2025-10-29T200000.parquet\n"
     ]
    },
    {
     "name": "stderr",
     "output_type": "stream",
     "text": [
      "\r",
      "100%|█████████▉| 2340/2344 [06:36<00:34,  8.59s/it]"
     ]
    },
    {
     "name": "stdout",
     "output_type": "stream",
     "text": [
      "Done dt=2025-10-29/2025-10-29T210000.parquet\n"
     ]
    },
    {
     "name": "stderr",
     "output_type": "stream",
     "text": [
      "\r",
      "100%|█████████▉| 2341/2344 [06:49<00:28,  9.54s/it]"
     ]
    },
    {
     "name": "stdout",
     "output_type": "stream",
     "text": [
      "Done dt=2025-10-29/2025-10-29T220000.parquet\n"
     ]
    },
    {
     "name": "stderr",
     "output_type": "stream",
     "text": [
      "\r",
      "100%|█████████▉| 2342/2344 [07:05<00:21, 11.00s/it]"
     ]
    },
    {
     "name": "stdout",
     "output_type": "stream",
     "text": [
      "Done dt=2025-10-29/2025-10-29T230000.parquet\n"
     ]
    },
    {
     "name": "stderr",
     "output_type": "stream",
     "text": [
      "\r",
      "100%|█████████▉| 2343/2344 [07:24<00:13, 13.13s/it]"
     ]
    },
    {
     "name": "stdout",
     "output_type": "stream",
     "text": [
      "Done dt=2025-10-30/2025-10-30T000000.parquet\n"
     ]
    },
    {
     "name": "stderr",
     "output_type": "stream",
     "text": [
      "\r",
      "100%|██████████| 2344/2344 [07:45<00:00, 15.10s/it]"
     ]
    },
    {
     "name": "stderr",
     "output_type": "stream",
     "text": [
      "\r",
      "100%|██████████| 2344/2344 [07:45<00:00,  5.04it/s]"
     ]
    },
    {
     "name": "stdout",
     "output_type": "stream",
     "text": [
      "Done dt=2025-10-30/2025-10-30T010000.parquet\n"
     ]
    },
    {
     "name": "stderr",
     "output_type": "stream",
     "text": [
      "\n"
     ]
    }
   ],
   "source": [
    "storage_options = {\n",
    "    \"account_name\": account_name,\n",
    "    \"account_key\":  account_key,\n",
    "}\n",
    "\n",
    "for ts, files in tqdm(groups.items()):\n",
    "    if ts not in need_process_ts: continue\n",
    "    dt = ts[:10]\n",
    "    # if dt not in need_process:\n",
    "    #     continue\n",
    "    df = pl.scan_csv(f\"az://adjuststblive/*_{ts}_*.csv.gz\", storage_options = storage_options,glob=True, has_header = True, null_values = [\"\",\"NULL\"], ignore_errors=True).select(pl.all().cast(pl.Utf8))\n",
    "    df.sink_parquet(f\"az://adjuststbuatprocessed/live/processing/dt={dt}/{ts}.parquet\", storage_options = storage_options, compression=\"snappy\")\n",
    "    print(f'Done dt={dt}/{ts}.parquet')\n",
    "        "
   ]
  },
  {
   "cell_type": "code",
   "execution_count": 13,
   "id": "f210e313",
   "metadata": {
    "execution": {
     "iopub.execute_input": "2025-10-30T02:09:34.548737Z",
     "iopub.status.busy": "2025-10-30T02:09:34.548569Z",
     "iopub.status.idle": "2025-10-30T02:09:34.552429Z",
     "shell.execute_reply": "2025-10-30T02:09:34.551831Z"
    },
    "papermill": {
     "duration": 0.012068,
     "end_time": "2025-10-30T02:09:34.553211",
     "exception": false,
     "start_time": "2025-10-30T02:09:34.541143",
     "status": "completed"
    },
    "tags": []
   },
   "outputs": [
    {
     "data": {
      "text/plain": [
       "{'2025-10-29', '2025-10-30'}"
      ]
     },
     "execution_count": 13,
     "metadata": {},
     "output_type": "execute_result"
    }
   ],
   "source": [
    "need_process = set([i.split(\"T\")[0] for i in need_process_ts])\n",
    "need_process"
   ]
  },
  {
   "cell_type": "code",
   "execution_count": 14,
   "id": "750cb105",
   "metadata": {
    "execution": {
     "iopub.execute_input": "2025-10-30T02:09:34.567666Z",
     "iopub.status.busy": "2025-10-30T02:09:34.567509Z",
     "iopub.status.idle": "2025-10-30T02:10:36.442407Z",
     "shell.execute_reply": "2025-10-30T02:10:36.439977Z"
    },
    "id": "sBm7rfFUyePJ",
    "papermill": {
     "duration": 61.888781,
     "end_time": "2025-10-30T02:10:36.448582",
     "exception": false,
     "start_time": "2025-10-30T02:09:34.559801",
     "status": "completed"
    },
    "tags": []
   },
   "outputs": [
    {
     "name": "stdout",
     "output_type": "stream",
     "text": [
      "\n",
      " Done 2025-10-29\n",
      "\n"
     ]
    },
    {
     "name": "stdout",
     "output_type": "stream",
     "text": [
      "\n",
      " Done 2025-10-30\n",
      "\n"
     ]
    }
   ],
   "source": [
    "for dt in need_process:\n",
    "  df = pl.scan_parquet(f\"az://adjuststbuatprocessed/live/processing/dt={dt}/*.parquet\", storage_options=storage_options,glob=True).with_columns(pl.lit(dt).alias(\"dt\"))\n",
    "  df.sink_parquet(f\"az://adjuststbuatprocessed/live/output/{dt}.parquet\", storage_options=storage_options, compression=\"snappy\")\n",
    "  print(f'\\n Done {dt}\\n')"
   ]
  }
 ],
 "metadata": {
  "colab": {
   "authorship_tag": "ABX9TyOfzO6uvqUX+Tt89Y73G9E8",
   "include_colab_link": true,
   "provenance": []
  },
  "kernelspec": {
   "display_name": "Python 3",
   "name": "python3"
  },
  "language_info": {
   "codemirror_mode": {
    "name": "ipython",
    "version": 3
   },
   "file_extension": ".py",
   "mimetype": "text/x-python",
   "name": "python",
   "nbconvert_exporter": "python",
   "pygments_lexer": "ipython3",
   "version": "3.11.13"
  },
  "papermill": {
   "default_parameters": {},
   "duration": 769.901685,
   "end_time": "2025-10-30T02:10:37.613253",
   "environment_variables": {},
   "exception": null,
   "input_path": "notebooks/ADJUST_JOB.ipynb",
   "output_path": "outputs/ADJUST_JOB_2025-10-30.ipynb",
   "parameters": {
    "RUN_DATE": "2025-10-30"
   },
   "start_time": "2025-10-30T01:57:47.711568",
   "version": "2.6.0"
  }
 },
 "nbformat": 4,
 "nbformat_minor": 5
}