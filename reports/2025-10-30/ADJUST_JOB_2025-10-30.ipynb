{
 "cells": [
  {
   "cell_type": "code",
   "execution_count": 1,
   "id": "d3947638",
   "metadata": {
    "execution": {
     "iopub.execute_input": "2025-10-30T09:04:06.698524Z",
     "iopub.status.busy": "2025-10-30T09:04:06.698291Z",
     "iopub.status.idle": "2025-10-30T09:04:06.704826Z",
     "shell.execute_reply": "2025-10-30T09:04:06.703838Z"
    },
    "papermill": {
     "duration": 0.012566,
     "end_time": "2025-10-30T09:04:06.705445",
     "exception": false,
     "start_time": "2025-10-30T09:04:06.692879",
     "status": "completed"
    },
    "tags": [
     "injected-parameters"
    ]
   },
   "outputs": [],
   "source": [
    "# Parameters\n",
    "RUN_DATE = \"2025-10-30\"\n"
   ]
  },
  {
   "cell_type": "markdown",
   "id": "b32fbafb",
   "metadata": {
    "colab_type": "text",
    "id": "view-in-github",
    "papermill": {
     "duration": 0.002486,
     "end_time": "2025-10-30T09:04:06.710347",
     "exception": false,
     "start_time": "2025-10-30T09:04:06.707861",
     "status": "completed"
    },
    "tags": []
   },
   "source": [
    "<a href=\"https://colab.research.google.com/github/HieuNguyenPhi/ADJ_JOBS/blob/main/notebooks/ADJUST_JOB.ipynb\" target=\"_parent\"><img src=\"https://colab.research.google.com/assets/colab-badge.svg\" alt=\"Open In Colab\"/></a>"
   ]
  },
  {
   "cell_type": "markdown",
   "id": "9d6a64fb",
   "metadata": {
    "papermill": {
     "duration": 0.003057,
     "end_time": "2025-10-30T09:04:06.715395",
     "exception": false,
     "start_time": "2025-10-30T09:04:06.712338",
     "status": "completed"
    },
    "tags": []
   },
   "source": [
    "# UAT"
   ]
  },
  {
   "cell_type": "code",
   "execution_count": 2,
   "id": "d8703fcc",
   "metadata": {
    "execution": {
     "iopub.execute_input": "2025-10-30T09:04:06.720374Z",
     "iopub.status.busy": "2025-10-30T09:04:06.720203Z",
     "iopub.status.idle": "2025-10-30T09:04:13.584809Z",
     "shell.execute_reply": "2025-10-30T09:04:13.584009Z"
    },
    "id": "ycUR2r1dq1Nm",
    "papermill": {
     "duration": 6.868163,
     "end_time": "2025-10-30T09:04:13.585555",
     "exception": false,
     "start_time": "2025-10-30T09:04:06.717392",
     "status": "completed"
    },
    "tags": []
   },
   "outputs": [
    {
     "data": {
      "text/plain": [
       "['2025-10-29T190000',\n",
       " '2025-10-29T200000',\n",
       " '2025-10-29T210000',\n",
       " '2025-10-29T220000',\n",
       " '2025-10-30T000000']"
      ]
     },
     "execution_count": 2,
     "metadata": {},
     "output_type": "execute_result"
    }
   ],
   "source": [
    "import os\n",
    "from azure.storage.blob import BlobServiceClient\n",
    "\n",
    "account_name = os.getenv('ACCOUNT_NAME')\n",
    "account_key = os.getenv('ACCOUNT_KEY')\n",
    "# Replace with your Azure Storage account name and SAS token or connection string\n",
    "connect_str = f\"DefaultEndpointsProtocol=https;AccountName={account_name};AccountKey={account_key};EndpointSuffix=core.windows.net\"\n",
    "blob_service_client = BlobServiceClient.from_connection_string(connect_str)\n",
    "container_list = blob_service_client.list_containers()\n",
    "container_name = \"adjuststbuatprocessed\" #os.getenv('CONTAINER_NAME')\n",
    "container_client = blob_service_client.get_container_client(container_name)\n",
    "# already_processed = [file.name.split('/')[1].split('.')[0] for file in container_client.list_blobs() if file.name.split('/')[0] == 'output']\n",
    "# already_processed[-5:]\n",
    "already_processed_ts = sorted([file.name.split('/')[-1].split(\".\")[0] for file in container_client.list_blobs() if file.name.split('/')[0] == 'processing'])\n",
    "already_processed_ts[-5:]"
   ]
  },
  {
   "cell_type": "code",
   "execution_count": 3,
   "id": "a4c468c3",
   "metadata": {
    "execution": {
     "iopub.execute_input": "2025-10-30T09:04:13.591401Z",
     "iopub.status.busy": "2025-10-30T09:04:13.591147Z",
     "iopub.status.idle": "2025-10-30T09:04:23.174966Z",
     "shell.execute_reply": "2025-10-30T09:04:23.174099Z"
    },
    "id": "xyPuVC12s7fn",
    "papermill": {
     "duration": 9.587636,
     "end_time": "2025-10-30T09:04:23.175626",
     "exception": false,
     "start_time": "2025-10-30T09:04:13.587990",
     "status": "completed"
    },
    "tags": []
   },
   "outputs": [
    {
     "data": {
      "text/plain": [
       "['rsh20bkkb4zk_2025-10-30T080000_762c775ae454d23f2c6b6a75623d14c7_2853a0.csv.gz',\n",
       " 'rsh20bkkb4zk_2025-10-30T080000_762c775ae454d23f2c6b6a75623d14c7_2853a1.csv.gz',\n",
       " 'rsh20bkkb4zk_2025-10-30T080000_762c775ae454d23f2c6b6a75623d14c7_be8220.csv.gz',\n",
       " 'rsh20bkkb4zk_2025-10-30T080000_762c775ae454d23f2c6b6a75623d14c7_be8221.csv.gz',\n",
       " 'rsh20bkkb4zk_2025-10-30T080000_762c775ae454d23f2c6b6a75623d14c7_c35750.csv.gz',\n",
       " 'rsh20bkkb4zk_2025-10-30T080000_762c775ae454d23f2c6b6a75623d14c7_c35751.csv.gz']"
      ]
     },
     "execution_count": 3,
     "metadata": {},
     "output_type": "execute_result"
    }
   ],
   "source": [
    "container_name_uat = \"adjuststbuat\"\n",
    "container_client_uat = blob_service_client.get_container_client(container_name_uat)\n",
    "from collections import defaultdict\n",
    "files = [i.name for i in container_client_uat.list_blobs()]\n",
    "groups = defaultdict(list)\n",
    "for f in files:\n",
    "    dt = f.split('_')[1]\n",
    "    groups[dt].append(f)\n",
    "groups[dt]"
   ]
  },
  {
   "cell_type": "code",
   "execution_count": 4,
   "id": "b5dee7af",
   "metadata": {
    "execution": {
     "iopub.execute_input": "2025-10-30T09:04:23.182339Z",
     "iopub.status.busy": "2025-10-30T09:04:23.182172Z",
     "iopub.status.idle": "2025-10-30T09:04:23.185102Z",
     "shell.execute_reply": "2025-10-30T09:04:23.184304Z"
    },
    "papermill": {
     "duration": 0.007401,
     "end_time": "2025-10-30T09:04:23.185678",
     "exception": false,
     "start_time": "2025-10-30T09:04:23.178277",
     "status": "completed"
    },
    "tags": []
   },
   "outputs": [],
   "source": [
    "# from datetime import date, timedelta, datetime\n",
    "# import pandas as pd\n",
    "# today = date.today().strftime('%Y-%m-%d')\n",
    "# yesterday = (date.today() - timedelta(days = 1) ).strftime('%Y-%m-%d')\n",
    "# check_date = dt.split(\"T\")[0]\n",
    "# if check_date == today:\n",
    "#     need_process = pd.date_range(start=already_processed[-1], end=today).strftime('%Y-%m-%d').to_list()\n",
    "# else:\n",
    "#     need_process = pd.date_range(start=already_processed[-1], end=yesterday).strftime('%Y-%m-%d').to_list()\n",
    "# need_process"
   ]
  },
  {
   "cell_type": "code",
   "execution_count": 5,
   "id": "51737a2d",
   "metadata": {
    "execution": {
     "iopub.execute_input": "2025-10-30T09:04:23.190886Z",
     "iopub.status.busy": "2025-10-30T09:04:23.190734Z",
     "iopub.status.idle": "2025-10-30T09:04:23.437008Z",
     "shell.execute_reply": "2025-10-30T09:04:23.436131Z"
    },
    "papermill": {
     "duration": 0.249732,
     "end_time": "2025-10-30T09:04:23.437622",
     "exception": false,
     "start_time": "2025-10-30T09:04:23.187890",
     "status": "completed"
    },
    "tags": []
   },
   "outputs": [
    {
     "data": {
      "text/plain": [
       "['2025-10-29T220000',\n",
       " '2025-10-29T230000',\n",
       " '2025-10-30T000000',\n",
       " '2025-10-30T010000',\n",
       " '2025-10-30T020000',\n",
       " '2025-10-30T030000',\n",
       " '2025-10-30T040000',\n",
       " '2025-10-30T050000',\n",
       " '2025-10-30T060000',\n",
       " '2025-10-30T070000',\n",
       " '2025-10-30T080000']"
      ]
     },
     "execution_count": 5,
     "metadata": {},
     "output_type": "execute_result"
    }
   ],
   "source": [
    "from datetime import datetime\n",
    "import pandas as pd\n",
    "B = datetime.strptime(dt, \"%Y-%m-%dT%H0000\")\n",
    "A = datetime.strptime(already_processed_ts[-2], \"%Y-%m-%dT%H0000\")\n",
    "need_process_ts =  pd.date_range(A, B, freq='h').strftime('%Y-%m-%dT%H0000').tolist()\n",
    "need_process_ts"
   ]
  },
  {
   "cell_type": "code",
   "execution_count": 6,
   "id": "995b2c79",
   "metadata": {
    "execution": {
     "iopub.execute_input": "2025-10-30T09:04:23.443800Z",
     "iopub.status.busy": "2025-10-30T09:04:23.443511Z",
     "iopub.status.idle": "2025-10-30T09:05:59.295507Z",
     "shell.execute_reply": "2025-10-30T09:05:59.294631Z"
    },
    "papermill": {
     "duration": 95.855863,
     "end_time": "2025-10-30T09:05:59.296155",
     "exception": false,
     "start_time": "2025-10-30T09:04:23.440292",
     "status": "completed"
    },
    "tags": []
   },
   "outputs": [
    {
     "name": "stderr",
     "output_type": "stream",
     "text": [
      "\r",
      "  0%|          | 0/2273 [00:00<?, ?it/s]"
     ]
    },
    {
     "name": "stderr",
     "output_type": "stream",
     "text": [
      "\r",
      "100%|█████████▉| 2264/2273 [00:11<00:00, 204.57it/s]"
     ]
    },
    {
     "name": "stdout",
     "output_type": "stream",
     "text": [
      "Done dt=2025-10-29/2025-10-29T220000.parquet\n"
     ]
    },
    {
     "name": "stdout",
     "output_type": "stream",
     "text": [
      "Done dt=2025-10-30/2025-10-30T000000.parquet\n"
     ]
    },
    {
     "name": "stderr",
     "output_type": "stream",
     "text": [
      "\r",
      "100%|█████████▉| 2264/2273 [00:29<00:00, 204.57it/s]"
     ]
    },
    {
     "name": "stderr",
     "output_type": "stream",
     "text": [
      "\r",
      "100%|█████████▉| 2266/2273 [00:30<00:00, 58.48it/s] "
     ]
    },
    {
     "name": "stdout",
     "output_type": "stream",
     "text": [
      "Done dt=2025-10-30/2025-10-30T010000.parquet\n"
     ]
    },
    {
     "name": "stderr",
     "output_type": "stream",
     "text": [
      "\r",
      "100%|█████████▉| 2267/2273 [00:39<00:00, 39.45it/s]"
     ]
    },
    {
     "name": "stdout",
     "output_type": "stream",
     "text": [
      "Done dt=2025-10-30/2025-10-30T020000.parquet\n"
     ]
    },
    {
     "name": "stderr",
     "output_type": "stream",
     "text": [
      "\r",
      "100%|█████████▉| 2268/2273 [00:49<00:00, 26.33it/s]"
     ]
    },
    {
     "name": "stdout",
     "output_type": "stream",
     "text": [
      "Done dt=2025-10-30/2025-10-30T030000.parquet\n"
     ]
    },
    {
     "name": "stderr",
     "output_type": "stream",
     "text": [
      "\r",
      "100%|█████████▉| 2269/2273 [00:58<00:00, 18.36it/s]"
     ]
    },
    {
     "name": "stdout",
     "output_type": "stream",
     "text": [
      "Done dt=2025-10-30/2025-10-30T040000.parquet\n"
     ]
    },
    {
     "name": "stderr",
     "output_type": "stream",
     "text": [
      "\r",
      "100%|█████████▉| 2270/2273 [01:08<00:00, 12.44it/s]"
     ]
    },
    {
     "name": "stdout",
     "output_type": "stream",
     "text": [
      "Done dt=2025-10-30/2025-10-30T050000.parquet\n"
     ]
    },
    {
     "name": "stderr",
     "output_type": "stream",
     "text": [
      "\r",
      "100%|█████████▉| 2271/2273 [01:17<00:00,  8.80it/s]"
     ]
    },
    {
     "name": "stdout",
     "output_type": "stream",
     "text": [
      "Done dt=2025-10-30/2025-10-30T060000.parquet\n"
     ]
    },
    {
     "name": "stderr",
     "output_type": "stream",
     "text": [
      "\r",
      "100%|█████████▉| 2272/2273 [01:26<00:00,  6.22it/s]"
     ]
    },
    {
     "name": "stdout",
     "output_type": "stream",
     "text": [
      "Done dt=2025-10-30/2025-10-30T070000.parquet\n"
     ]
    },
    {
     "name": "stderr",
     "output_type": "stream",
     "text": [
      "\r",
      "100%|██████████| 2273/2273 [01:35<00:00,  4.40it/s]"
     ]
    },
    {
     "name": "stderr",
     "output_type": "stream",
     "text": [
      "\r",
      "100%|██████████| 2273/2273 [01:35<00:00, 23.75it/s]"
     ]
    },
    {
     "name": "stdout",
     "output_type": "stream",
     "text": [
      "Done dt=2025-10-30/2025-10-30T080000.parquet\n"
     ]
    },
    {
     "name": "stderr",
     "output_type": "stream",
     "text": [
      "\n"
     ]
    }
   ],
   "source": [
    "import polars as pl \n",
    "from tqdm import tqdm\n",
    "storage_options = {\n",
    "    \"account_name\": account_name,\n",
    "    \"account_key\":  account_key,\n",
    "}\n",
    "\n",
    "for ts, files in tqdm(groups.items()):\n",
    "    if ts not in need_process_ts:\n",
    "        continue\n",
    "    dt = ts[:10]\n",
    "    # if dt not in need_process:\n",
    "    #     continue\n",
    "    df = pl.scan_csv(f\"az://adjuststbuat/*_{ts}_*.csv.gz\", storage_options = storage_options,glob=True, has_header = True, null_values = [\"\",\"NULL\"], ignore_errors=True).select(pl.all().cast(pl.Utf8))\n",
    "    df.sink_parquet(f\"az://adjuststbuatprocessed/processing/dt={dt}/{ts}.parquet\", storage_options = storage_options, compression=\"snappy\")\n",
    "    print(f'Done dt={dt}/{ts}.parquet')\n",
    "        "
   ]
  },
  {
   "cell_type": "code",
   "execution_count": 7,
   "id": "6cd65051",
   "metadata": {
    "execution": {
     "iopub.execute_input": "2025-10-30T09:05:59.303926Z",
     "iopub.status.busy": "2025-10-30T09:05:59.303698Z",
     "iopub.status.idle": "2025-10-30T09:05:59.308074Z",
     "shell.execute_reply": "2025-10-30T09:05:59.307265Z"
    },
    "papermill": {
     "duration": 0.008885,
     "end_time": "2025-10-30T09:05:59.308615",
     "exception": false,
     "start_time": "2025-10-30T09:05:59.299730",
     "status": "completed"
    },
    "tags": []
   },
   "outputs": [
    {
     "data": {
      "text/plain": [
       "{'2025-10-29', '2025-10-30'}"
      ]
     },
     "execution_count": 7,
     "metadata": {},
     "output_type": "execute_result"
    }
   ],
   "source": [
    "need_process = set([i.split(\"T\")[0] for i in need_process_ts])\n",
    "need_process"
   ]
  },
  {
   "cell_type": "code",
   "execution_count": 8,
   "id": "401dd7c1",
   "metadata": {
    "execution": {
     "iopub.execute_input": "2025-10-30T09:05:59.315993Z",
     "iopub.status.busy": "2025-10-30T09:05:59.315826Z",
     "iopub.status.idle": "2025-10-30T09:06:07.755606Z",
     "shell.execute_reply": "2025-10-30T09:06:07.754814Z"
    },
    "papermill": {
     "duration": 8.444311,
     "end_time": "2025-10-30T09:06:07.756251",
     "exception": false,
     "start_time": "2025-10-30T09:05:59.311940",
     "status": "completed"
    },
    "tags": []
   },
   "outputs": [
    {
     "name": "stdout",
     "output_type": "stream",
     "text": [
      "\n",
      " Done 2025-10-30\n",
      "\n"
     ]
    },
    {
     "name": "stdout",
     "output_type": "stream",
     "text": [
      "\n",
      " Done 2025-10-29\n",
      "\n"
     ]
    }
   ],
   "source": [
    "for dt in need_process:\n",
    "  df = pl.scan_parquet(f\"az://adjuststbuatprocessed/processing/dt={dt}/*.parquet\", storage_options=storage_options,glob=True).with_columns(pl.lit(dt).alias(\"dt\"))\n",
    "  df.sink_parquet(f\"az://adjuststbuatprocessed/output/{dt}.parquet\", storage_options=storage_options, compression=\"snappy\")\n",
    "  print(f'\\n Done {dt}\\n')"
   ]
  },
  {
   "cell_type": "markdown",
   "id": "75eaca6e",
   "metadata": {
    "id": "2TvKr29qyJd_",
    "papermill": {
     "duration": 0.003477,
     "end_time": "2025-10-30T09:06:07.763442",
     "exception": false,
     "start_time": "2025-10-30T09:06:07.759965",
     "status": "completed"
    },
    "tags": []
   },
   "source": [
    "# Live"
   ]
  },
  {
   "cell_type": "code",
   "execution_count": 9,
   "id": "9ca99feb",
   "metadata": {
    "execution": {
     "iopub.execute_input": "2025-10-30T09:06:07.771154Z",
     "iopub.status.busy": "2025-10-30T09:06:07.770951Z",
     "iopub.status.idle": "2025-10-30T09:06:12.402049Z",
     "shell.execute_reply": "2025-10-30T09:06:12.401207Z"
    },
    "id": "EnaFsdZFxpwc",
    "papermill": {
     "duration": 4.63593,
     "end_time": "2025-10-30T09:06:12.402706",
     "exception": false,
     "start_time": "2025-10-30T09:06:07.766776",
     "status": "completed"
    },
    "tags": []
   },
   "outputs": [
    {
     "data": {
      "text/plain": [
       "['2025-10-29T210000',\n",
       " '2025-10-29T220000',\n",
       " '2025-10-29T230000',\n",
       " '2025-10-30T000000',\n",
       " '2025-10-30T010000']"
      ]
     },
     "execution_count": 9,
     "metadata": {},
     "output_type": "execute_result"
    }
   ],
   "source": [
    "# already_processed = [file.name.split('/')[-1].split('.')[0] for file in container_client.list_blobs() if file.name[:12] == 'live/output/']\n",
    "# already_processed[-5:]\n",
    "already_processed_ts = sorted([file.name.split('/')[-1].split(\".\")[0] for file in container_client.list_blobs() if (file.name.split('/')[0] + \"/\" + file.name.split('/')[1]) == 'live/processing'])\n",
    "already_processed_ts[-5:]"
   ]
  },
  {
   "cell_type": "code",
   "execution_count": 10,
   "id": "90f57f5d",
   "metadata": {
    "execution": {
     "iopub.execute_input": "2025-10-30T09:06:12.410998Z",
     "iopub.status.busy": "2025-10-30T09:06:12.410791Z",
     "iopub.status.idle": "2025-10-30T09:06:26.202880Z",
     "shell.execute_reply": "2025-10-30T09:06:26.202016Z"
    },
    "id": "I7Er6YEUyOsL",
    "papermill": {
     "duration": 13.796986,
     "end_time": "2025-10-30T09:06:26.203487",
     "exception": false,
     "start_time": "2025-10-30T09:06:12.406501",
     "status": "completed"
    },
    "tags": []
   },
   "outputs": [
    {
     "data": {
      "text/plain": [
       "['65n1fgov4zr4_2025-10-30T080000_762c775ae454d23f2c6b6a75623d14c7_2853a0.csv.gz',\n",
       " '65n1fgov4zr4_2025-10-30T080000_762c775ae454d23f2c6b6a75623d14c7_2853a1.csv.gz',\n",
       " '65n1fgov4zr4_2025-10-30T080000_762c775ae454d23f2c6b6a75623d14c7_be8220.csv.gz',\n",
       " '65n1fgov4zr4_2025-10-30T080000_762c775ae454d23f2c6b6a75623d14c7_be8221.csv.gz',\n",
       " '65n1fgov4zr4_2025-10-30T080000_762c775ae454d23f2c6b6a75623d14c7_c35750.csv.gz',\n",
       " '65n1fgov4zr4_2025-10-30T080000_762c775ae454d23f2c6b6a75623d14c7_c35751.csv.gz']"
      ]
     },
     "execution_count": 10,
     "metadata": {},
     "output_type": "execute_result"
    }
   ],
   "source": [
    "container_name_uat = \"adjuststblive\"\n",
    "container_client_uat = blob_service_client.get_container_client(container_name_uat)\n",
    "from collections import defaultdict\n",
    "files = [i.name for i in container_client_uat.list_blobs()]\n",
    "groups = defaultdict(list)\n",
    "for f in files:\n",
    "    dt = f.split('_')[1]\n",
    "    groups[dt].append(f)\n",
    "groups[dt]"
   ]
  },
  {
   "cell_type": "code",
   "execution_count": 11,
   "id": "32ca3117",
   "metadata": {
    "execution": {
     "iopub.execute_input": "2025-10-30T09:06:26.212138Z",
     "iopub.status.busy": "2025-10-30T09:06:26.211819Z",
     "iopub.status.idle": "2025-10-30T09:06:26.217029Z",
     "shell.execute_reply": "2025-10-30T09:06:26.216262Z"
    },
    "papermill": {
     "duration": 0.010286,
     "end_time": "2025-10-30T09:06:26.217606",
     "exception": false,
     "start_time": "2025-10-30T09:06:26.207320",
     "status": "completed"
    },
    "tags": []
   },
   "outputs": [
    {
     "data": {
      "text/plain": [
       "['2025-10-30T010000',\n",
       " '2025-10-30T020000',\n",
       " '2025-10-30T030000',\n",
       " '2025-10-30T040000',\n",
       " '2025-10-30T050000',\n",
       " '2025-10-30T060000',\n",
       " '2025-10-30T070000',\n",
       " '2025-10-30T080000']"
      ]
     },
     "execution_count": 11,
     "metadata": {},
     "output_type": "execute_result"
    }
   ],
   "source": [
    "# need_process = pd.date_range(start=already_processed[-1], end=today).strftime('%Y-%m-%d').to_list()\n",
    "# need_process\n",
    "\n",
    "B = datetime.strptime(dt, \"%Y-%m-%dT%H0000\")\n",
    "A = datetime.strptime(already_processed_ts[-1], \"%Y-%m-%dT%H0000\")\n",
    "need_process_ts =  pd.date_range(A, B, freq='h').strftime('%Y-%m-%dT%H0000').tolist()\n",
    "need_process_ts"
   ]
  },
  {
   "cell_type": "code",
   "execution_count": 12,
   "id": "efcbeaf5",
   "metadata": {
    "execution": {
     "iopub.execute_input": "2025-10-30T09:06:26.225701Z",
     "iopub.status.busy": "2025-10-30T09:06:26.225517Z",
     "iopub.status.idle": "2025-10-30T09:09:46.269700Z",
     "shell.execute_reply": "2025-10-30T09:09:46.268977Z"
    },
    "id": "g-W3s2nRyRY7",
    "papermill": {
     "duration": 200.049287,
     "end_time": "2025-10-30T09:09:46.270474",
     "exception": false,
     "start_time": "2025-10-30T09:06:26.221187",
     "status": "completed"
    },
    "tags": []
   },
   "outputs": [
    {
     "name": "stderr",
     "output_type": "stream",
     "text": [
      "\r",
      "  0%|          | 0/2351 [00:00<?, ?it/s]"
     ]
    },
    {
     "name": "stderr",
     "output_type": "stream",
     "text": [
      "\r",
      "100%|█████████▉| 2344/2351 [00:26<00:00, 87.74it/s]"
     ]
    },
    {
     "name": "stdout",
     "output_type": "stream",
     "text": [
      "Done dt=2025-10-30/2025-10-30T010000.parquet\n"
     ]
    },
    {
     "name": "stderr",
     "output_type": "stream",
     "text": [
      "\r",
      "100%|█████████▉| 2344/2351 [00:37<00:00, 87.74it/s]"
     ]
    },
    {
     "name": "stderr",
     "output_type": "stream",
     "text": [
      "\r",
      "100%|█████████▉| 2345/2351 [00:50<00:00, 38.96it/s]"
     ]
    },
    {
     "name": "stdout",
     "output_type": "stream",
     "text": [
      "Done dt=2025-10-30/2025-10-30T020000.parquet\n"
     ]
    },
    {
     "name": "stderr",
     "output_type": "stream",
     "text": [
      "\r",
      "100%|█████████▉| 2346/2351 [01:13<00:00, 21.70it/s]"
     ]
    },
    {
     "name": "stdout",
     "output_type": "stream",
     "text": [
      "Done dt=2025-10-30/2025-10-30T030000.parquet\n"
     ]
    },
    {
     "name": "stderr",
     "output_type": "stream",
     "text": [
      "\r",
      "100%|█████████▉| 2347/2351 [01:37<00:00, 13.21it/s]"
     ]
    },
    {
     "name": "stdout",
     "output_type": "stream",
     "text": [
      "Done dt=2025-10-30/2025-10-30T040000.parquet\n"
     ]
    },
    {
     "name": "stderr",
     "output_type": "stream",
     "text": [
      "\r",
      "100%|█████████▉| 2348/2351 [02:00<00:00,  8.59it/s]"
     ]
    },
    {
     "name": "stdout",
     "output_type": "stream",
     "text": [
      "Done dt=2025-10-30/2025-10-30T050000.parquet\n"
     ]
    },
    {
     "name": "stderr",
     "output_type": "stream",
     "text": [
      "\r",
      "100%|█████████▉| 2349/2351 [02:28<00:00,  5.39it/s]"
     ]
    },
    {
     "name": "stdout",
     "output_type": "stream",
     "text": [
      "Done dt=2025-10-30/2025-10-30T060000.parquet\n"
     ]
    },
    {
     "name": "stderr",
     "output_type": "stream",
     "text": [
      "\r",
      "100%|█████████▉| 2350/2351 [02:51<00:00,  3.70it/s]"
     ]
    },
    {
     "name": "stdout",
     "output_type": "stream",
     "text": [
      "Done dt=2025-10-30/2025-10-30T070000.parquet\n"
     ]
    },
    {
     "name": "stderr",
     "output_type": "stream",
     "text": [
      "\r",
      "100%|██████████| 2351/2351 [03:20<00:00,  2.43it/s]"
     ]
    },
    {
     "name": "stderr",
     "output_type": "stream",
     "text": [
      "\r",
      "100%|██████████| 2351/2351 [03:20<00:00, 11.75it/s]"
     ]
    },
    {
     "name": "stdout",
     "output_type": "stream",
     "text": [
      "Done dt=2025-10-30/2025-10-30T080000.parquet\n"
     ]
    },
    {
     "name": "stderr",
     "output_type": "stream",
     "text": [
      "\n"
     ]
    }
   ],
   "source": [
    "storage_options = {\n",
    "    \"account_name\": account_name,\n",
    "    \"account_key\":  account_key,\n",
    "}\n",
    "\n",
    "for ts, files in tqdm(groups.items()):\n",
    "    if ts not in need_process_ts: continue\n",
    "    dt = ts[:10]\n",
    "    # if dt not in need_process:\n",
    "    #     continue\n",
    "    df = pl.scan_csv(f\"az://adjuststblive/*_{ts}_*.csv.gz\", storage_options = storage_options,glob=True, has_header = True, null_values = [\"\",\"NULL\"], ignore_errors=True).select(pl.all().cast(pl.Utf8))\n",
    "    df.sink_parquet(f\"az://adjuststbuatprocessed/live/processing/dt={dt}/{ts}.parquet\", storage_options = storage_options, compression=\"snappy\")\n",
    "    print(f'Done dt={dt}/{ts}.parquet')\n",
    "        "
   ]
  },
  {
   "cell_type": "code",
   "execution_count": 13,
   "id": "ac9a38b8",
   "metadata": {
    "execution": {
     "iopub.execute_input": "2025-10-30T09:09:46.280834Z",
     "iopub.status.busy": "2025-10-30T09:09:46.280622Z",
     "iopub.status.idle": "2025-10-30T09:09:46.285161Z",
     "shell.execute_reply": "2025-10-30T09:09:46.284300Z"
    },
    "papermill": {
     "duration": 0.010816,
     "end_time": "2025-10-30T09:09:46.285949",
     "exception": false,
     "start_time": "2025-10-30T09:09:46.275133",
     "status": "completed"
    },
    "tags": []
   },
   "outputs": [
    {
     "data": {
      "text/plain": [
       "{'2025-10-30'}"
      ]
     },
     "execution_count": 13,
     "metadata": {},
     "output_type": "execute_result"
    }
   ],
   "source": [
    "need_process = set([i.split(\"T\")[0] for i in need_process_ts])\n",
    "need_process"
   ]
  },
  {
   "cell_type": "code",
   "execution_count": 14,
   "id": "e86416ea",
   "metadata": {
    "execution": {
     "iopub.execute_input": "2025-10-30T09:09:46.299557Z",
     "iopub.status.busy": "2025-10-30T09:09:46.299348Z",
     "iopub.status.idle": "2025-10-30T09:10:15.964427Z",
     "shell.execute_reply": "2025-10-30T09:10:15.963496Z"
    },
    "id": "sBm7rfFUyePJ",
    "papermill": {
     "duration": 29.671056,
     "end_time": "2025-10-30T09:10:15.965047",
     "exception": false,
     "start_time": "2025-10-30T09:09:46.293991",
     "status": "completed"
    },
    "tags": []
   },
   "outputs": [
    {
     "name": "stdout",
     "output_type": "stream",
     "text": [
      "\n",
      " Done 2025-10-30\n",
      "\n"
     ]
    }
   ],
   "source": [
    "for dt in need_process:\n",
    "  df = pl.scan_parquet(f\"az://adjuststbuatprocessed/live/processing/dt={dt}/*.parquet\", storage_options=storage_options,glob=True).with_columns(pl.lit(dt).alias(\"dt\"))\n",
    "  df.sink_parquet(f\"az://adjuststbuatprocessed/live/output/{dt}.parquet\", storage_options=storage_options, compression=\"snappy\")\n",
    "  print(f'\\n Done {dt}\\n')"
   ]
  }
 ],
 "metadata": {
  "colab": {
   "authorship_tag": "ABX9TyOfzO6uvqUX+Tt89Y73G9E8",
   "include_colab_link": true,
   "provenance": []
  },
  "kernelspec": {
   "display_name": "Python 3",
   "name": "python3"
  },
  "language_info": {
   "codemirror_mode": {
    "name": "ipython",
    "version": 3
   },
   "file_extension": ".py",
   "mimetype": "text/x-python",
   "name": "python",
   "nbconvert_exporter": "python",
   "pygments_lexer": "ipython3",
   "version": "3.11.13"
  },
  "papermill": {
   "default_parameters": {},
   "duration": 371.108603,
   "end_time": "2025-10-30T09:10:16.586183",
   "environment_variables": {},
   "exception": null,
   "input_path": "notebooks/ADJUST_JOB.ipynb",
   "output_path": "outputs/ADJUST_JOB_2025-10-30.ipynb",
   "parameters": {
    "RUN_DATE": "2025-10-30"
   },
   "start_time": "2025-10-30T09:04:05.477580",
   "version": "2.6.0"
  }
 },
 "nbformat": 4,
 "nbformat_minor": 5
}