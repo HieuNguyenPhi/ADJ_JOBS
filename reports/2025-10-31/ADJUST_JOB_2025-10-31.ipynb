{
 "cells": [
  {
   "cell_type": "code",
   "execution_count": 1,
   "id": "42b1a899",
   "metadata": {
    "execution": {
     "iopub.execute_input": "2025-10-31T01:54:57.588859Z",
     "iopub.status.busy": "2025-10-31T01:54:57.588646Z",
     "iopub.status.idle": "2025-10-31T01:54:57.593981Z",
     "shell.execute_reply": "2025-10-31T01:54:57.593237Z"
    },
    "papermill": {
     "duration": 0.009915,
     "end_time": "2025-10-31T01:54:57.594634",
     "exception": false,
     "start_time": "2025-10-31T01:54:57.584719",
     "status": "completed"
    },
    "tags": [
     "injected-parameters"
    ]
   },
   "outputs": [],
   "source": [
    "# Parameters\n",
    "RUN_DATE = \"2025-10-31\"\n"
   ]
  },
  {
   "cell_type": "markdown",
   "id": "228e79e6",
   "metadata": {
    "colab_type": "text",
    "id": "view-in-github",
    "papermill": {
     "duration": 0.002116,
     "end_time": "2025-10-31T01:54:57.599084",
     "exception": false,
     "start_time": "2025-10-31T01:54:57.596968",
     "status": "completed"
    },
    "tags": []
   },
   "source": [
    "<a href=\"https://colab.research.google.com/github/HieuNguyenPhi/ADJ_JOBS/blob/main/notebooks/ADJUST_JOB.ipynb\" target=\"_parent\"><img src=\"https://colab.research.google.com/assets/colab-badge.svg\" alt=\"Open In Colab\"/></a>"
   ]
  },
  {
   "cell_type": "markdown",
   "id": "a632d8d5",
   "metadata": {
    "papermill": {
     "duration": 0.002792,
     "end_time": "2025-10-31T01:54:57.603941",
     "exception": false,
     "start_time": "2025-10-31T01:54:57.601149",
     "status": "completed"
    },
    "tags": []
   },
   "source": [
    "# UAT"
   ]
  },
  {
   "cell_type": "code",
   "execution_count": 2,
   "id": "5968f68a",
   "metadata": {
    "execution": {
     "iopub.execute_input": "2025-10-31T01:54:57.608710Z",
     "iopub.status.busy": "2025-10-31T01:54:57.608530Z",
     "iopub.status.idle": "2025-10-31T01:55:05.457242Z",
     "shell.execute_reply": "2025-10-31T01:55:05.456487Z"
    },
    "id": "ycUR2r1dq1Nm",
    "papermill": {
     "duration": 7.852201,
     "end_time": "2025-10-31T01:55:05.458025",
     "exception": false,
     "start_time": "2025-10-31T01:54:57.605824",
     "status": "completed"
    },
    "tags": []
   },
   "outputs": [
    {
     "data": {
      "text/plain": [
       "['2025-10-30T040000',\n",
       " '2025-10-30T050000',\n",
       " '2025-10-30T060000',\n",
       " '2025-10-30T070000',\n",
       " '2025-10-30T080000']"
      ]
     },
     "execution_count": 2,
     "metadata": {},
     "output_type": "execute_result"
    }
   ],
   "source": [
    "import os\n",
    "from azure.storage.blob import BlobServiceClient\n",
    "\n",
    "account_name = os.getenv('ACCOUNT_NAME')\n",
    "account_key = os.getenv('ACCOUNT_KEY')\n",
    "# Replace with your Azure Storage account name and SAS token or connection string\n",
    "connect_str = f\"DefaultEndpointsProtocol=https;AccountName={account_name};AccountKey={account_key};EndpointSuffix=core.windows.net\"\n",
    "blob_service_client = BlobServiceClient.from_connection_string(connect_str)\n",
    "container_list = blob_service_client.list_containers()\n",
    "container_name = \"adjuststbuatprocessed\" #os.getenv('CONTAINER_NAME')\n",
    "container_client = blob_service_client.get_container_client(container_name)\n",
    "# already_processed = [file.name.split('/')[1].split('.')[0] for file in container_client.list_blobs() if file.name.split('/')[0] == 'output']\n",
    "# already_processed[-5:]\n",
    "already_processed_ts = sorted([file.name.split('/')[-1].split(\".\")[0] for file in container_client.list_blobs() if file.name.split('/')[0] == 'processing'])\n",
    "already_processed_ts[-5:]"
   ]
  },
  {
   "cell_type": "code",
   "execution_count": 3,
   "id": "39295d69",
   "metadata": {
    "execution": {
     "iopub.execute_input": "2025-10-31T01:55:05.463939Z",
     "iopub.status.busy": "2025-10-31T01:55:05.463543Z",
     "iopub.status.idle": "2025-10-31T01:55:15.979603Z",
     "shell.execute_reply": "2025-10-31T01:55:15.978838Z"
    },
    "id": "xyPuVC12s7fn",
    "papermill": {
     "duration": 10.519861,
     "end_time": "2025-10-31T01:55:15.980309",
     "exception": false,
     "start_time": "2025-10-31T01:55:05.460448",
     "status": "completed"
    },
    "tags": []
   },
   "outputs": [
    {
     "data": {
      "text/plain": [
       "['rsh20bkkb4zk_2025-10-31T000000_762c775ae454d23f2c6b6a75623d14c7_2853a0.csv.gz',\n",
       " 'rsh20bkkb4zk_2025-10-31T000000_762c775ae454d23f2c6b6a75623d14c7_2853a1.csv.gz',\n",
       " 'rsh20bkkb4zk_2025-10-31T000000_762c775ae454d23f2c6b6a75623d14c7_be8220.csv.gz']"
      ]
     },
     "execution_count": 3,
     "metadata": {},
     "output_type": "execute_result"
    }
   ],
   "source": [
    "container_name_uat = \"adjuststbuat\"\n",
    "container_client_uat = blob_service_client.get_container_client(container_name_uat)\n",
    "from collections import defaultdict\n",
    "files = [i.name for i in container_client_uat.list_blobs()]\n",
    "groups = defaultdict(list)\n",
    "for f in files:\n",
    "    dt = f.split('_')[1]\n",
    "    groups[dt].append(f)\n",
    "groups[dt]"
   ]
  },
  {
   "cell_type": "code",
   "execution_count": 4,
   "id": "e1bc106b",
   "metadata": {
    "execution": {
     "iopub.execute_input": "2025-10-31T01:55:15.986425Z",
     "iopub.status.busy": "2025-10-31T01:55:15.986236Z",
     "iopub.status.idle": "2025-10-31T01:55:15.989163Z",
     "shell.execute_reply": "2025-10-31T01:55:15.988399Z"
    },
    "papermill": {
     "duration": 0.006831,
     "end_time": "2025-10-31T01:55:15.989770",
     "exception": false,
     "start_time": "2025-10-31T01:55:15.982939",
     "status": "completed"
    },
    "tags": []
   },
   "outputs": [],
   "source": [
    "# from datetime import date, timedelta, datetime\n",
    "# import pandas as pd\n",
    "# today = date.today().strftime('%Y-%m-%d')\n",
    "# yesterday = (date.today() - timedelta(days = 1) ).strftime('%Y-%m-%d')\n",
    "# check_date = dt.split(\"T\")[0]\n",
    "# if check_date == today:\n",
    "#     need_process = pd.date_range(start=already_processed[-1], end=today).strftime('%Y-%m-%d').to_list()\n",
    "# else:\n",
    "#     need_process = pd.date_range(start=already_processed[-1], end=yesterday).strftime('%Y-%m-%d').to_list()\n",
    "# need_process"
   ]
  },
  {
   "cell_type": "code",
   "execution_count": 5,
   "id": "524f9b25",
   "metadata": {
    "execution": {
     "iopub.execute_input": "2025-10-31T01:55:15.995094Z",
     "iopub.status.busy": "2025-10-31T01:55:15.994905Z",
     "iopub.status.idle": "2025-10-31T01:55:16.421194Z",
     "shell.execute_reply": "2025-10-31T01:55:16.420436Z"
    },
    "papermill": {
     "duration": 0.429991,
     "end_time": "2025-10-31T01:55:16.421964",
     "exception": false,
     "start_time": "2025-10-31T01:55:15.991973",
     "status": "completed"
    },
    "tags": []
   },
   "outputs": [
    {
     "data": {
      "text/plain": [
       "['2025-10-30T070000',\n",
       " '2025-10-30T080000',\n",
       " '2025-10-30T090000',\n",
       " '2025-10-30T100000',\n",
       " '2025-10-30T110000',\n",
       " '2025-10-30T120000',\n",
       " '2025-10-30T130000',\n",
       " '2025-10-30T140000',\n",
       " '2025-10-30T150000',\n",
       " '2025-10-30T160000',\n",
       " '2025-10-30T170000',\n",
       " '2025-10-30T180000',\n",
       " '2025-10-30T190000',\n",
       " '2025-10-30T200000',\n",
       " '2025-10-30T210000',\n",
       " '2025-10-30T220000',\n",
       " '2025-10-30T230000',\n",
       " '2025-10-31T000000']"
      ]
     },
     "execution_count": 5,
     "metadata": {},
     "output_type": "execute_result"
    }
   ],
   "source": [
    "from datetime import datetime\n",
    "import pandas as pd\n",
    "B = datetime.strptime(dt, \"%Y-%m-%dT%H0000\")\n",
    "A = datetime.strptime(already_processed_ts[-2], \"%Y-%m-%dT%H0000\")\n",
    "need_process_ts =  pd.date_range(A, B, freq='h').strftime('%Y-%m-%dT%H0000').tolist()\n",
    "need_process_ts"
   ]
  },
  {
   "cell_type": "code",
   "execution_count": 6,
   "id": "b44cca54",
   "metadata": {
    "execution": {
     "iopub.execute_input": "2025-10-31T01:55:16.428402Z",
     "iopub.status.busy": "2025-10-31T01:55:16.427964Z",
     "iopub.status.idle": "2025-10-31T01:57:22.592798Z",
     "shell.execute_reply": "2025-10-31T01:57:22.591999Z"
    },
    "papermill": {
     "duration": 126.168841,
     "end_time": "2025-10-31T01:57:22.593421",
     "exception": false,
     "start_time": "2025-10-31T01:55:16.424580",
     "status": "completed"
    },
    "tags": []
   },
   "outputs": [
    {
     "name": "stderr",
     "output_type": "stream",
     "text": [
      "\r",
      "  0%|          | 0/2283 [00:00<?, ?it/s]"
     ]
    },
    {
     "name": "stderr",
     "output_type": "stream",
     "text": [
      "\r",
      "100%|█████████▉| 2272/2283 [00:13<00:00, 172.53it/s]"
     ]
    },
    {
     "name": "stdout",
     "output_type": "stream",
     "text": [
      "Done dt=2025-10-30/2025-10-30T070000.parquet\n"
     ]
    },
    {
     "name": "stdout",
     "output_type": "stream",
     "text": [
      "Done dt=2025-10-30/2025-10-30T080000.parquet\n"
     ]
    },
    {
     "name": "stderr",
     "output_type": "stream",
     "text": [
      "\r",
      "100%|█████████▉| 2272/2283 [00:29<00:00, 172.53it/s]"
     ]
    },
    {
     "name": "stderr",
     "output_type": "stream",
     "text": [
      "\r",
      "100%|█████████▉| 2274/2283 [00:34<00:00, 51.95it/s] "
     ]
    },
    {
     "name": "stdout",
     "output_type": "stream",
     "text": [
      "Done dt=2025-10-30/2025-10-30T090000.parquet\n"
     ]
    },
    {
     "name": "stderr",
     "output_type": "stream",
     "text": [
      "\r",
      "100%|█████████▉| 2275/2283 [00:45<00:00, 34.10it/s]"
     ]
    },
    {
     "name": "stdout",
     "output_type": "stream",
     "text": [
      "Done dt=2025-10-30/2025-10-30T100000.parquet\n"
     ]
    },
    {
     "name": "stderr",
     "output_type": "stream",
     "text": [
      "\r",
      "100%|█████████▉| 2276/2283 [00:56<00:00, 23.04it/s]"
     ]
    },
    {
     "name": "stdout",
     "output_type": "stream",
     "text": [
      "Done dt=2025-10-30/2025-10-30T110000.parquet\n"
     ]
    },
    {
     "name": "stderr",
     "output_type": "stream",
     "text": [
      "\r",
      "100%|█████████▉| 2277/2283 [01:06<00:00, 16.27it/s]"
     ]
    },
    {
     "name": "stdout",
     "output_type": "stream",
     "text": [
      "Done dt=2025-10-30/2025-10-30T120000.parquet\n"
     ]
    },
    {
     "name": "stderr",
     "output_type": "stream",
     "text": [
      "\r",
      "100%|█████████▉| 2278/2283 [01:16<00:00, 11.41it/s]"
     ]
    },
    {
     "name": "stdout",
     "output_type": "stream",
     "text": [
      "Done dt=2025-10-30/2025-10-30T130000.parquet\n"
     ]
    },
    {
     "name": "stderr",
     "output_type": "stream",
     "text": [
      "\r",
      "100%|█████████▉| 2279/2283 [01:27<00:00,  8.01it/s]"
     ]
    },
    {
     "name": "stdout",
     "output_type": "stream",
     "text": [
      "Done dt=2025-10-30/2025-10-30T140000.parquet\n"
     ]
    },
    {
     "name": "stderr",
     "output_type": "stream",
     "text": [
      "\r",
      "100%|█████████▉| 2280/2283 [01:37<00:00,  5.64it/s]"
     ]
    },
    {
     "name": "stdout",
     "output_type": "stream",
     "text": [
      "Done dt=2025-10-30/2025-10-30T150000.parquet\n"
     ]
    },
    {
     "name": "stderr",
     "output_type": "stream",
     "text": [
      "\r",
      "100%|█████████▉| 2281/2283 [01:47<00:00,  3.98it/s]"
     ]
    },
    {
     "name": "stdout",
     "output_type": "stream",
     "text": [
      "Done dt=2025-10-30/2025-10-30T160000.parquet\n"
     ]
    },
    {
     "name": "stderr",
     "output_type": "stream",
     "text": [
      "\r",
      "100%|█████████▉| 2282/2283 [01:56<00:00,  2.89it/s]"
     ]
    },
    {
     "name": "stdout",
     "output_type": "stream",
     "text": [
      "Done dt=2025-10-30/2025-10-30T220000.parquet\n"
     ]
    },
    {
     "name": "stderr",
     "output_type": "stream",
     "text": [
      "\r",
      "100%|██████████| 2283/2283 [02:06<00:00,  2.08it/s]"
     ]
    },
    {
     "name": "stderr",
     "output_type": "stream",
     "text": [
      "\r",
      "100%|██████████| 2283/2283 [02:06<00:00, 18.11it/s]"
     ]
    },
    {
     "name": "stdout",
     "output_type": "stream",
     "text": [
      "Done dt=2025-10-31/2025-10-31T000000.parquet\n"
     ]
    },
    {
     "name": "stderr",
     "output_type": "stream",
     "text": [
      "\n"
     ]
    }
   ],
   "source": [
    "import polars as pl \n",
    "from tqdm import tqdm\n",
    "storage_options = {\n",
    "    \"account_name\": account_name,\n",
    "    \"account_key\":  account_key,\n",
    "}\n",
    "\n",
    "for ts, files in tqdm(groups.items()):\n",
    "    if ts not in need_process_ts:\n",
    "        continue\n",
    "    dt = ts[:10]\n",
    "    # if dt not in need_process:\n",
    "    #     continue\n",
    "    df = pl.scan_csv(f\"az://adjuststbuat/*_{ts}_*.csv.gz\", storage_options = storage_options,glob=True, has_header = True, null_values = [\"\",\"NULL\"], ignore_errors=True).select(pl.all().cast(pl.Utf8))\n",
    "    df.sink_parquet(f\"az://adjuststbuatprocessed/processing/dt={dt}/{ts}.parquet\", storage_options = storage_options, compression=\"snappy\")\n",
    "    print(f'Done dt={dt}/{ts}.parquet')\n",
    "        "
   ]
  },
  {
   "cell_type": "code",
   "execution_count": 7,
   "id": "b9e8f53d",
   "metadata": {
    "execution": {
     "iopub.execute_input": "2025-10-31T01:57:22.601399Z",
     "iopub.status.busy": "2025-10-31T01:57:22.601217Z",
     "iopub.status.idle": "2025-10-31T01:57:22.605368Z",
     "shell.execute_reply": "2025-10-31T01:57:22.604615Z"
    },
    "papermill": {
     "duration": 0.009004,
     "end_time": "2025-10-31T01:57:22.606026",
     "exception": false,
     "start_time": "2025-10-31T01:57:22.597022",
     "status": "completed"
    },
    "tags": []
   },
   "outputs": [
    {
     "data": {
      "text/plain": [
       "{'2025-10-30', '2025-10-31'}"
      ]
     },
     "execution_count": 7,
     "metadata": {},
     "output_type": "execute_result"
    }
   ],
   "source": [
    "need_process = set([i.split(\"T\")[0] for i in need_process_ts])\n",
    "need_process"
   ]
  },
  {
   "cell_type": "code",
   "execution_count": 8,
   "id": "b89911c5",
   "metadata": {
    "execution": {
     "iopub.execute_input": "2025-10-31T01:57:22.613666Z",
     "iopub.status.busy": "2025-10-31T01:57:22.613504Z",
     "iopub.status.idle": "2025-10-31T01:57:29.669495Z",
     "shell.execute_reply": "2025-10-31T01:57:29.668767Z"
    },
    "papermill": {
     "duration": 7.0608,
     "end_time": "2025-10-31T01:57:29.670252",
     "exception": false,
     "start_time": "2025-10-31T01:57:22.609452",
     "status": "completed"
    },
    "tags": []
   },
   "outputs": [
    {
     "name": "stdout",
     "output_type": "stream",
     "text": [
      "\n",
      " Done 2025-10-31\n",
      "\n"
     ]
    },
    {
     "name": "stdout",
     "output_type": "stream",
     "text": [
      "\n",
      " Done 2025-10-30\n",
      "\n"
     ]
    }
   ],
   "source": [
    "for dt in need_process:\n",
    "  df = pl.scan_parquet(f\"az://adjuststbuatprocessed/processing/dt={dt}/*.parquet\", storage_options=storage_options,glob=True).with_columns(pl.lit(dt).alias(\"dt\"))\n",
    "  df.sink_parquet(f\"az://adjuststbuatprocessed/output/{dt}.parquet\", storage_options=storage_options, compression=\"snappy\")\n",
    "  print(f'\\n Done {dt}\\n')"
   ]
  },
  {
   "cell_type": "markdown",
   "id": "fc79e351",
   "metadata": {
    "id": "2TvKr29qyJd_",
    "papermill": {
     "duration": 0.003362,
     "end_time": "2025-10-31T01:57:29.677384",
     "exception": false,
     "start_time": "2025-10-31T01:57:29.674022",
     "status": "completed"
    },
    "tags": []
   },
   "source": [
    "# Live"
   ]
  },
  {
   "cell_type": "code",
   "execution_count": 9,
   "id": "c2b44cb7",
   "metadata": {
    "execution": {
     "iopub.execute_input": "2025-10-31T01:57:29.685016Z",
     "iopub.status.busy": "2025-10-31T01:57:29.684822Z",
     "iopub.status.idle": "2025-10-31T01:57:34.793122Z",
     "shell.execute_reply": "2025-10-31T01:57:34.792305Z"
    },
    "id": "EnaFsdZFxpwc",
    "papermill": {
     "duration": 5.113102,
     "end_time": "2025-10-31T01:57:34.793832",
     "exception": false,
     "start_time": "2025-10-31T01:57:29.680730",
     "status": "completed"
    },
    "tags": []
   },
   "outputs": [
    {
     "data": {
      "text/plain": [
       "['2025-10-30T040000',\n",
       " '2025-10-30T050000',\n",
       " '2025-10-30T060000',\n",
       " '2025-10-30T070000',\n",
       " '2025-10-30T080000']"
      ]
     },
     "execution_count": 9,
     "metadata": {},
     "output_type": "execute_result"
    }
   ],
   "source": [
    "# already_processed = [file.name.split('/')[-1].split('.')[0] for file in container_client.list_blobs() if file.name[:12] == 'live/output/']\n",
    "# already_processed[-5:]\n",
    "already_processed_ts = sorted([file.name.split('/')[-1].split(\".\")[0] for file in container_client.list_blobs() if (file.name.split('/')[0] + \"/\" + file.name.split('/')[1]) == 'live/processing'])\n",
    "already_processed_ts[-5:]"
   ]
  },
  {
   "cell_type": "code",
   "execution_count": 10,
   "id": "8a5fb10b",
   "metadata": {
    "execution": {
     "iopub.execute_input": "2025-10-31T01:57:34.804967Z",
     "iopub.status.busy": "2025-10-31T01:57:34.804713Z",
     "iopub.status.idle": "2025-10-31T01:57:50.078166Z",
     "shell.execute_reply": "2025-10-31T01:57:50.077265Z"
    },
    "id": "I7Er6YEUyOsL",
    "papermill": {
     "duration": 15.280938,
     "end_time": "2025-10-31T01:57:50.078817",
     "exception": false,
     "start_time": "2025-10-31T01:57:34.797879",
     "status": "completed"
    },
    "tags": []
   },
   "outputs": [
    {
     "data": {
      "text/plain": [
       "['65n1fgov4zr4_2025-10-31T000000_762c775ae454d23f2c6b6a75623d14c7_2853a0.csv.gz',\n",
       " '65n1fgov4zr4_2025-10-31T000000_762c775ae454d23f2c6b6a75623d14c7_2853a1.csv.gz',\n",
       " '65n1fgov4zr4_2025-10-31T000000_762c775ae454d23f2c6b6a75623d14c7_be8220.csv.gz',\n",
       " '65n1fgov4zr4_2025-10-31T000000_762c775ae454d23f2c6b6a75623d14c7_be8221.csv.gz',\n",
       " '65n1fgov4zr4_2025-10-31T000000_762c775ae454d23f2c6b6a75623d14c7_c35750.csv.gz',\n",
       " '65n1fgov4zr4_2025-10-31T000000_762c775ae454d23f2c6b6a75623d14c7_c35751.csv.gz']"
      ]
     },
     "execution_count": 10,
     "metadata": {},
     "output_type": "execute_result"
    }
   ],
   "source": [
    "container_name_uat = \"adjuststblive\"\n",
    "container_client_uat = blob_service_client.get_container_client(container_name_uat)\n",
    "from collections import defaultdict\n",
    "files = [i.name for i in container_client_uat.list_blobs()]\n",
    "groups = defaultdict(list)\n",
    "for f in files:\n",
    "    dt = f.split('_')[1]\n",
    "    groups[dt].append(f)\n",
    "groups[dt]"
   ]
  },
  {
   "cell_type": "code",
   "execution_count": 11,
   "id": "18b2c65b",
   "metadata": {
    "execution": {
     "iopub.execute_input": "2025-10-31T01:57:50.087715Z",
     "iopub.status.busy": "2025-10-31T01:57:50.087513Z",
     "iopub.status.idle": "2025-10-31T01:57:50.092723Z",
     "shell.execute_reply": "2025-10-31T01:57:50.092051Z"
    },
    "papermill": {
     "duration": 0.010774,
     "end_time": "2025-10-31T01:57:50.093597",
     "exception": false,
     "start_time": "2025-10-31T01:57:50.082823",
     "status": "completed"
    },
    "tags": []
   },
   "outputs": [
    {
     "data": {
      "text/plain": [
       "['2025-10-30T080000',\n",
       " '2025-10-30T090000',\n",
       " '2025-10-30T100000',\n",
       " '2025-10-30T110000',\n",
       " '2025-10-30T120000',\n",
       " '2025-10-30T130000',\n",
       " '2025-10-30T140000',\n",
       " '2025-10-30T150000',\n",
       " '2025-10-30T160000',\n",
       " '2025-10-30T170000',\n",
       " '2025-10-30T180000',\n",
       " '2025-10-30T190000',\n",
       " '2025-10-30T200000',\n",
       " '2025-10-30T210000',\n",
       " '2025-10-30T220000',\n",
       " '2025-10-30T230000',\n",
       " '2025-10-31T000000']"
      ]
     },
     "execution_count": 11,
     "metadata": {},
     "output_type": "execute_result"
    }
   ],
   "source": [
    "# need_process = pd.date_range(start=already_processed[-1], end=today).strftime('%Y-%m-%d').to_list()\n",
    "# need_process\n",
    "\n",
    "B = datetime.strptime(dt, \"%Y-%m-%dT%H0000\")\n",
    "A = datetime.strptime(already_processed_ts[-1], \"%Y-%m-%dT%H0000\")\n",
    "need_process_ts =  pd.date_range(A, B, freq='h').strftime('%Y-%m-%dT%H0000').tolist()\n",
    "need_process_ts"
   ]
  },
  {
   "cell_type": "code",
   "execution_count": 12,
   "id": "ca3dfff8",
   "metadata": {
    "execution": {
     "iopub.execute_input": "2025-10-31T01:57:50.102055Z",
     "iopub.status.busy": "2025-10-31T01:57:50.101857Z",
     "iopub.status.idle": "2025-10-31T02:09:53.265686Z",
     "shell.execute_reply": "2025-10-31T02:09:53.264753Z"
    },
    "id": "g-W3s2nRyRY7",
    "papermill": {
     "duration": 723.173357,
     "end_time": "2025-10-31T02:09:53.270728",
     "exception": false,
     "start_time": "2025-10-31T01:57:50.097371",
     "status": "completed"
    },
    "tags": []
   },
   "outputs": [
    {
     "name": "stderr",
     "output_type": "stream",
     "text": [
      "\r",
      "  0%|          | 0/2367 [00:00<?, ?it/s]"
     ]
    },
    {
     "name": "stderr",
     "output_type": "stream",
     "text": [
      "\r",
      " 99%|█████████▉| 2351/2367 [00:32<00:00, 72.65it/s]"
     ]
    },
    {
     "name": "stdout",
     "output_type": "stream",
     "text": [
      "Done dt=2025-10-30/2025-10-30T080000.parquet\n"
     ]
    },
    {
     "name": "stderr",
     "output_type": "stream",
     "text": [
      "\r",
      " 99%|█████████▉| 2351/2367 [00:46<00:00, 72.65it/s]"
     ]
    },
    {
     "name": "stderr",
     "output_type": "stream",
     "text": [
      "\r",
      " 99%|█████████▉| 2352/2367 [01:18<00:00, 23.80it/s]"
     ]
    },
    {
     "name": "stdout",
     "output_type": "stream",
     "text": [
      "Done dt=2025-10-30/2025-10-30T090000.parquet\n"
     ]
    },
    {
     "name": "stderr",
     "output_type": "stream",
     "text": [
      "\r",
      " 99%|█████████▉| 2353/2367 [02:23<00:01, 10.21it/s]"
     ]
    },
    {
     "name": "stdout",
     "output_type": "stream",
     "text": [
      "Done dt=2025-10-30/2025-10-30T100000.parquet\n"
     ]
    },
    {
     "name": "stderr",
     "output_type": "stream",
     "text": [
      "\r",
      " 99%|█████████▉| 2354/2367 [03:25<00:02,  5.73it/s]"
     ]
    },
    {
     "name": "stdout",
     "output_type": "stream",
     "text": [
      "Done dt=2025-10-30/2025-10-30T110000.parquet\n"
     ]
    },
    {
     "name": "stderr",
     "output_type": "stream",
     "text": [
      "\r",
      " 99%|█████████▉| 2355/2367 [04:47<00:03,  3.13it/s]"
     ]
    },
    {
     "name": "stdout",
     "output_type": "stream",
     "text": [
      "Done dt=2025-10-30/2025-10-30T120000.parquet\n"
     ]
    },
    {
     "name": "stderr",
     "output_type": "stream",
     "text": [
      "\r",
      "100%|█████████▉| 2356/2367 [06:07<00:05,  1.93it/s]"
     ]
    },
    {
     "name": "stdout",
     "output_type": "stream",
     "text": [
      "Done dt=2025-10-30/2025-10-30T130000.parquet\n"
     ]
    },
    {
     "name": "stderr",
     "output_type": "stream",
     "text": [
      "\r",
      "100%|█████████▉| 2357/2367 [06:59<00:07,  1.42it/s]"
     ]
    },
    {
     "name": "stdout",
     "output_type": "stream",
     "text": [
      "Done dt=2025-10-30/2025-10-30T140000.parquet\n"
     ]
    },
    {
     "name": "stderr",
     "output_type": "stream",
     "text": [
      "\r",
      "100%|█████████▉| 2358/2367 [07:45<00:08,  1.07it/s]"
     ]
    },
    {
     "name": "stdout",
     "output_type": "stream",
     "text": [
      "Done dt=2025-10-30/2025-10-30T150000.parquet\n"
     ]
    },
    {
     "name": "stderr",
     "output_type": "stream",
     "text": [
      "\r",
      "100%|█████████▉| 2359/2367 [08:25<00:09,  1.22s/it]"
     ]
    },
    {
     "name": "stdout",
     "output_type": "stream",
     "text": [
      "Done dt=2025-10-30/2025-10-30T160000.parquet\n"
     ]
    },
    {
     "name": "stderr",
     "output_type": "stream",
     "text": [
      "\r",
      "100%|█████████▉| 2360/2367 [08:49<00:10,  1.44s/it]"
     ]
    },
    {
     "name": "stdout",
     "output_type": "stream",
     "text": [
      "Done dt=2025-10-30/2025-10-30T170000.parquet\n"
     ]
    },
    {
     "name": "stderr",
     "output_type": "stream",
     "text": [
      "\r",
      "100%|█████████▉| 2361/2367 [09:12<00:10,  1.75s/it]"
     ]
    },
    {
     "name": "stdout",
     "output_type": "stream",
     "text": [
      "Done dt=2025-10-30/2025-10-30T180000.parquet\n"
     ]
    },
    {
     "name": "stderr",
     "output_type": "stream",
     "text": [
      "\r",
      "100%|█████████▉| 2362/2367 [09:37<00:11,  2.23s/it]"
     ]
    },
    {
     "name": "stdout",
     "output_type": "stream",
     "text": [
      "Done dt=2025-10-30/2025-10-30T190000.parquet\n"
     ]
    },
    {
     "name": "stderr",
     "output_type": "stream",
     "text": [
      "\r",
      "100%|█████████▉| 2363/2367 [09:54<00:10,  2.63s/it]"
     ]
    },
    {
     "name": "stdout",
     "output_type": "stream",
     "text": [
      "Done dt=2025-10-30/2025-10-30T200000.parquet\n"
     ]
    },
    {
     "name": "stderr",
     "output_type": "stream",
     "text": [
      "\r",
      "100%|█████████▉| 2364/2367 [10:10<00:09,  3.16s/it]"
     ]
    },
    {
     "name": "stdout",
     "output_type": "stream",
     "text": [
      "Done dt=2025-10-30/2025-10-30T210000.parquet\n"
     ]
    },
    {
     "name": "stderr",
     "output_type": "stream",
     "text": [
      "\r",
      "100%|█████████▉| 2365/2367 [10:30<00:08,  4.04s/it]"
     ]
    },
    {
     "name": "stdout",
     "output_type": "stream",
     "text": [
      "Done dt=2025-10-30/2025-10-30T220000.parquet\n"
     ]
    },
    {
     "name": "stderr",
     "output_type": "stream",
     "text": [
      "\r",
      "100%|█████████▉| 2366/2367 [11:02<00:05,  5.92s/it]"
     ]
    },
    {
     "name": "stdout",
     "output_type": "stream",
     "text": [
      "Done dt=2025-10-30/2025-10-30T230000.parquet\n"
     ]
    },
    {
     "name": "stderr",
     "output_type": "stream",
     "text": [
      "\r",
      "100%|██████████| 2367/2367 [12:03<00:00, 10.87s/it]"
     ]
    },
    {
     "name": "stderr",
     "output_type": "stream",
     "text": [
      "\r",
      "100%|██████████| 2367/2367 [12:03<00:00,  3.27it/s]"
     ]
    },
    {
     "name": "stdout",
     "output_type": "stream",
     "text": [
      "Done dt=2025-10-31/2025-10-31T000000.parquet\n"
     ]
    },
    {
     "name": "stderr",
     "output_type": "stream",
     "text": [
      "\n"
     ]
    }
   ],
   "source": [
    "storage_options = {\n",
    "    \"account_name\": account_name,\n",
    "    \"account_key\":  account_key,\n",
    "}\n",
    "\n",
    "for ts, files in tqdm(groups.items()):\n",
    "    if ts not in need_process_ts: continue\n",
    "    dt = ts[:10]\n",
    "    # if dt not in need_process:\n",
    "    #     continue\n",
    "    df = pl.scan_csv(f\"az://adjuststblive/*_{ts}_*.csv.gz\", storage_options = storage_options,glob=True, has_header = True, null_values = [\"\",\"NULL\"], ignore_errors=True).select(pl.all().cast(pl.Utf8))\n",
    "    df.sink_parquet(f\"az://adjuststbuatprocessed/live/processing/dt={dt}/{ts}.parquet\", storage_options = storage_options, compression=\"snappy\")\n",
    "    print(f'Done dt={dt}/{ts}.parquet')\n",
    "        "
   ]
  },
  {
   "cell_type": "code",
   "execution_count": 13,
   "id": "b624a722",
   "metadata": {
    "execution": {
     "iopub.execute_input": "2025-10-31T02:09:53.281858Z",
     "iopub.status.busy": "2025-10-31T02:09:53.281680Z",
     "iopub.status.idle": "2025-10-31T02:09:53.285869Z",
     "shell.execute_reply": "2025-10-31T02:09:53.285060Z"
    },
    "papermill": {
     "duration": 0.010564,
     "end_time": "2025-10-31T02:09:53.286437",
     "exception": false,
     "start_time": "2025-10-31T02:09:53.275873",
     "status": "completed"
    },
    "tags": []
   },
   "outputs": [
    {
     "data": {
      "text/plain": [
       "{'2025-10-30', '2025-10-31'}"
      ]
     },
     "execution_count": 13,
     "metadata": {},
     "output_type": "execute_result"
    }
   ],
   "source": [
    "need_process = set([i.split(\"T\")[0] for i in need_process_ts])\n",
    "need_process"
   ]
  },
  {
   "cell_type": "code",
   "execution_count": 14,
   "id": "2f273c50",
   "metadata": {
    "execution": {
     "iopub.execute_input": "2025-10-31T02:09:53.297720Z",
     "iopub.status.busy": "2025-10-31T02:09:53.297549Z",
     "iopub.status.idle": "2025-10-31T02:11:35.362810Z",
     "shell.execute_reply": "2025-10-31T02:11:35.361870Z"
    },
    "id": "sBm7rfFUyePJ",
    "papermill": {
     "duration": 102.076499,
     "end_time": "2025-10-31T02:11:35.368263",
     "exception": false,
     "start_time": "2025-10-31T02:09:53.291764",
     "status": "completed"
    },
    "tags": []
   },
   "outputs": [
    {
     "name": "stdout",
     "output_type": "stream",
     "text": [
      "\n",
      " Done 2025-10-31\n",
      "\n"
     ]
    },
    {
     "name": "stdout",
     "output_type": "stream",
     "text": [
      "\n",
      " Done 2025-10-30\n",
      "\n"
     ]
    }
   ],
   "source": [
    "for dt in need_process:\n",
    "  df = pl.scan_parquet(f\"az://adjuststbuatprocessed/live/processing/dt={dt}/*.parquet\", storage_options=storage_options,glob=True).with_columns(pl.lit(dt).alias(\"dt\"))\n",
    "  df.sink_parquet(f\"az://adjuststbuatprocessed/live/output/{dt}.parquet\", storage_options=storage_options, compression=\"snappy\")\n",
    "  print(f'\\n Done {dt}\\n')"
   ]
  }
 ],
 "metadata": {
  "colab": {
   "authorship_tag": "ABX9TyOfzO6uvqUX+Tt89Y73G9E8",
   "include_colab_link": true,
   "provenance": []
  },
  "kernelspec": {
   "display_name": "Python 3",
   "name": "python3"
  },
  "language_info": {
   "codemirror_mode": {
    "name": "ipython",
    "version": 3
   },
   "file_extension": ".py",
   "mimetype": "text/x-python",
   "name": "python",
   "nbconvert_exporter": "python",
   "pygments_lexer": "ipython3",
   "version": "3.11.14"
  },
  "papermill": {
   "default_parameters": {},
   "duration": 999.821084,
   "end_time": "2025-10-31T02:11:36.190543",
   "environment_variables": {},
   "exception": null,
   "input_path": "notebooks/ADJUST_JOB.ipynb",
   "output_path": "outputs/ADJUST_JOB_2025-10-31.ipynb",
   "parameters": {
    "RUN_DATE": "2025-10-31"
   },
   "start_time": "2025-10-31T01:54:56.369459",
   "version": "2.6.0"
  }
 },
 "nbformat": 4,
 "nbformat_minor": 5
}