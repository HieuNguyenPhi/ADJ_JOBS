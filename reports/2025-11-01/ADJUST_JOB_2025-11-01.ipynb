{
 "cells": [
  {
   "cell_type": "code",
   "execution_count": 1,
   "id": "c1ad326e",
   "metadata": {
    "execution": {
     "iopub.execute_input": "2025-11-01T01:58:14.317742Z",
     "iopub.status.busy": "2025-11-01T01:58:14.317533Z",
     "iopub.status.idle": "2025-11-01T01:58:14.322784Z",
     "shell.execute_reply": "2025-11-01T01:58:14.322039Z"
    },
    "papermill": {
     "duration": 0.009582,
     "end_time": "2025-11-01T01:58:14.323439",
     "exception": false,
     "start_time": "2025-11-01T01:58:14.313857",
     "status": "completed"
    },
    "tags": [
     "injected-parameters"
    ]
   },
   "outputs": [],
   "source": [
    "# Parameters\n",
    "RUN_DATE = \"2025-11-01\"\n"
   ]
  },
  {
   "cell_type": "markdown",
   "id": "0b3e71bb",
   "metadata": {
    "colab_type": "text",
    "id": "view-in-github",
    "papermill": {
     "duration": 0.001933,
     "end_time": "2025-11-01T01:58:14.327608",
     "exception": false,
     "start_time": "2025-11-01T01:58:14.325675",
     "status": "completed"
    },
    "tags": []
   },
   "source": [
    "<a href=\"https://colab.research.google.com/github/HieuNguyenPhi/ADJ_JOBS/blob/main/notebooks/ADJUST_JOB.ipynb\" target=\"_parent\"><img src=\"https://colab.research.google.com/assets/colab-badge.svg\" alt=\"Open In Colab\"/></a>"
   ]
  },
  {
   "cell_type": "markdown",
   "id": "552d4dbf",
   "metadata": {
    "papermill": {
     "duration": 0.002747,
     "end_time": "2025-11-01T01:58:14.332247",
     "exception": false,
     "start_time": "2025-11-01T01:58:14.329500",
     "status": "completed"
    },
    "tags": []
   },
   "source": [
    "# UAT"
   ]
  },
  {
   "cell_type": "code",
   "execution_count": 2,
   "id": "d07afcdc",
   "metadata": {
    "execution": {
     "iopub.execute_input": "2025-11-01T01:58:14.336996Z",
     "iopub.status.busy": "2025-11-01T01:58:14.336791Z",
     "iopub.status.idle": "2025-11-01T01:58:20.688844Z",
     "shell.execute_reply": "2025-11-01T01:58:20.688028Z"
    },
    "id": "ycUR2r1dq1Nm",
    "papermill": {
     "duration": 6.355382,
     "end_time": "2025-11-01T01:58:20.689487",
     "exception": false,
     "start_time": "2025-11-01T01:58:14.334105",
     "status": "completed"
    },
    "tags": []
   },
   "outputs": [
    {
     "data": {
      "text/plain": [
       "['2025-10-30T140000',\n",
       " '2025-10-30T150000',\n",
       " '2025-10-30T160000',\n",
       " '2025-10-30T220000',\n",
       " '2025-10-31T000000']"
      ]
     },
     "execution_count": 2,
     "metadata": {},
     "output_type": "execute_result"
    }
   ],
   "source": [
    "import os\n",
    "from azure.storage.blob import BlobServiceClient\n",
    "\n",
    "account_name = os.getenv('ACCOUNT_NAME')\n",
    "account_key = os.getenv('ACCOUNT_KEY')\n",
    "# Replace with your Azure Storage account name and SAS token or connection string\n",
    "connect_str = f\"DefaultEndpointsProtocol=https;AccountName={account_name};AccountKey={account_key};EndpointSuffix=core.windows.net\"\n",
    "blob_service_client = BlobServiceClient.from_connection_string(connect_str)\n",
    "container_list = blob_service_client.list_containers()\n",
    "container_name = \"adjuststbuatprocessed\" #os.getenv('CONTAINER_NAME')\n",
    "container_client = blob_service_client.get_container_client(container_name)\n",
    "# already_processed = [file.name.split('/')[1].split('.')[0] for file in container_client.list_blobs() if file.name.split('/')[0] == 'output']\n",
    "# already_processed[-5:]\n",
    "already_processed_ts = sorted([file.name.split('/')[-1].split(\".\")[0] for file in container_client.list_blobs() if file.name.split('/')[0] == 'processing'])\n",
    "already_processed_ts[-5:]"
   ]
  },
  {
   "cell_type": "code",
   "execution_count": 3,
   "id": "561aee56",
   "metadata": {
    "execution": {
     "iopub.execute_input": "2025-11-01T01:58:20.695106Z",
     "iopub.status.busy": "2025-11-01T01:58:20.694801Z",
     "iopub.status.idle": "2025-11-01T01:58:29.825416Z",
     "shell.execute_reply": "2025-11-01T01:58:29.824289Z"
    },
    "id": "xyPuVC12s7fn",
    "papermill": {
     "duration": 9.134216,
     "end_time": "2025-11-01T01:58:29.826048",
     "exception": false,
     "start_time": "2025-11-01T01:58:20.691832",
     "status": "completed"
    },
    "tags": []
   },
   "outputs": [
    {
     "data": {
      "text/plain": [
       "['rsh20bkkb4zk_2025-11-01T000000_762c775ae454d23f2c6b6a75623d14c7_2853a0.csv.gz',\n",
       " 'rsh20bkkb4zk_2025-11-01T000000_762c775ae454d23f2c6b6a75623d14c7_2853a1.csv.gz',\n",
       " 'rsh20bkkb4zk_2025-11-01T000000_762c775ae454d23f2c6b6a75623d14c7_be8221.csv.gz']"
      ]
     },
     "execution_count": 3,
     "metadata": {},
     "output_type": "execute_result"
    }
   ],
   "source": [
    "container_name_uat = \"adjuststbuat\"\n",
    "container_client_uat = blob_service_client.get_container_client(container_name_uat)\n",
    "from collections import defaultdict\n",
    "files = [i.name for i in container_client_uat.list_blobs()]\n",
    "groups = defaultdict(list)\n",
    "for f in files:\n",
    "    dt = f.split('_')[1]\n",
    "    groups[dt].append(f)\n",
    "groups[dt]"
   ]
  },
  {
   "cell_type": "code",
   "execution_count": 4,
   "id": "d4074772",
   "metadata": {
    "execution": {
     "iopub.execute_input": "2025-11-01T01:58:29.832131Z",
     "iopub.status.busy": "2025-11-01T01:58:29.831926Z",
     "iopub.status.idle": "2025-11-01T01:58:29.834845Z",
     "shell.execute_reply": "2025-11-01T01:58:29.834093Z"
    },
    "papermill": {
     "duration": 0.006884,
     "end_time": "2025-11-01T01:58:29.835465",
     "exception": false,
     "start_time": "2025-11-01T01:58:29.828581",
     "status": "completed"
    },
    "tags": []
   },
   "outputs": [],
   "source": [
    "# from datetime import date, timedelta, datetime\n",
    "# import pandas as pd\n",
    "# today = date.today().strftime('%Y-%m-%d')\n",
    "# yesterday = (date.today() - timedelta(days = 1) ).strftime('%Y-%m-%d')\n",
    "# check_date = dt.split(\"T\")[0]\n",
    "# if check_date == today:\n",
    "#     need_process = pd.date_range(start=already_processed[-1], end=today).strftime('%Y-%m-%d').to_list()\n",
    "# else:\n",
    "#     need_process = pd.date_range(start=already_processed[-1], end=yesterday).strftime('%Y-%m-%d').to_list()\n",
    "# need_process"
   ]
  },
  {
   "cell_type": "code",
   "execution_count": 5,
   "id": "7b4ac365",
   "metadata": {
    "execution": {
     "iopub.execute_input": "2025-11-01T01:58:29.840675Z",
     "iopub.status.busy": "2025-11-01T01:58:29.840383Z",
     "iopub.status.idle": "2025-11-01T01:58:30.150415Z",
     "shell.execute_reply": "2025-11-01T01:58:30.149560Z"
    },
    "papermill": {
     "duration": 0.313452,
     "end_time": "2025-11-01T01:58:30.151083",
     "exception": false,
     "start_time": "2025-11-01T01:58:29.837631",
     "status": "completed"
    },
    "tags": []
   },
   "outputs": [
    {
     "data": {
      "text/plain": [
       "['2025-10-30T220000',\n",
       " '2025-10-30T230000',\n",
       " '2025-10-31T000000',\n",
       " '2025-10-31T010000',\n",
       " '2025-10-31T020000',\n",
       " '2025-10-31T030000',\n",
       " '2025-10-31T040000',\n",
       " '2025-10-31T050000',\n",
       " '2025-10-31T060000',\n",
       " '2025-10-31T070000',\n",
       " '2025-10-31T080000',\n",
       " '2025-10-31T090000',\n",
       " '2025-10-31T100000',\n",
       " '2025-10-31T110000',\n",
       " '2025-10-31T120000',\n",
       " '2025-10-31T130000',\n",
       " '2025-10-31T140000',\n",
       " '2025-10-31T150000',\n",
       " '2025-10-31T160000',\n",
       " '2025-10-31T170000',\n",
       " '2025-10-31T180000',\n",
       " '2025-10-31T190000',\n",
       " '2025-10-31T200000',\n",
       " '2025-10-31T210000',\n",
       " '2025-10-31T220000',\n",
       " '2025-10-31T230000',\n",
       " '2025-11-01T000000']"
      ]
     },
     "execution_count": 5,
     "metadata": {},
     "output_type": "execute_result"
    }
   ],
   "source": [
    "from datetime import datetime\n",
    "import pandas as pd\n",
    "B = datetime.strptime(dt, \"%Y-%m-%dT%H0000\")\n",
    "A = datetime.strptime(already_processed_ts[-2], \"%Y-%m-%dT%H0000\")\n",
    "need_process_ts =  pd.date_range(A, B, freq='h').strftime('%Y-%m-%dT%H0000').tolist()\n",
    "need_process_ts"
   ]
  },
  {
   "cell_type": "code",
   "execution_count": 6,
   "id": "75d2ce90",
   "metadata": {
    "execution": {
     "iopub.execute_input": "2025-11-01T01:58:30.157103Z",
     "iopub.status.busy": "2025-11-01T01:58:30.156823Z",
     "iopub.status.idle": "2025-11-01T02:00:54.918919Z",
     "shell.execute_reply": "2025-11-01T02:00:54.918096Z"
    },
    "papermill": {
     "duration": 144.765801,
     "end_time": "2025-11-01T02:00:54.919532",
     "exception": false,
     "start_time": "2025-11-01T01:58:30.153731",
     "status": "completed"
    },
    "tags": []
   },
   "outputs": [
    {
     "name": "stderr",
     "output_type": "stream",
     "text": [
      "\r",
      "  0%|          | 0/2298 [00:00<?, ?it/s]"
     ]
    },
    {
     "name": "stderr",
     "output_type": "stream",
     "text": [
      "\r",
      " 99%|█████████▉| 2282/2298 [00:09<00:00, 234.16it/s]"
     ]
    },
    {
     "name": "stdout",
     "output_type": "stream",
     "text": [
      "Done dt=2025-10-30/2025-10-30T220000.parquet\n"
     ]
    },
    {
     "name": "stdout",
     "output_type": "stream",
     "text": [
      "Done dt=2025-10-31/2025-10-31T000000.parquet\n"
     ]
    },
    {
     "name": "stderr",
     "output_type": "stream",
     "text": [
      "\r",
      " 99%|█████████▉| 2282/2298 [00:19<00:00, 234.16it/s]"
     ]
    },
    {
     "name": "stderr",
     "output_type": "stream",
     "text": [
      "\r",
      " 99%|█████████▉| 2284/2298 [00:26<00:00, 68.07it/s] "
     ]
    },
    {
     "name": "stdout",
     "output_type": "stream",
     "text": [
      "Done dt=2025-10-31/2025-10-31T010000.parquet\n"
     ]
    },
    {
     "name": "stderr",
     "output_type": "stream",
     "text": [
      "\r",
      " 99%|█████████▉| 2285/2298 [00:35<00:00, 43.59it/s]"
     ]
    },
    {
     "name": "stdout",
     "output_type": "stream",
     "text": [
      "Done dt=2025-10-31/2025-10-31T020000.parquet\n"
     ]
    },
    {
     "name": "stdout",
     "output_type": "stream",
     "text": [
      "Done dt=2025-10-31/2025-10-31T030000.parquet\n"
     ]
    },
    {
     "name": "stderr",
     "output_type": "stream",
     "text": [
      "\r",
      " 99%|█████████▉| 2285/2298 [00:50<00:00, 43.59it/s]"
     ]
    },
    {
     "name": "stderr",
     "output_type": "stream",
     "text": [
      "\r",
      "100%|█████████▉| 2287/2298 [00:53<00:00, 22.06it/s]"
     ]
    },
    {
     "name": "stdout",
     "output_type": "stream",
     "text": [
      "Done dt=2025-10-31/2025-10-31T040000.parquet\n"
     ]
    },
    {
     "name": "stderr",
     "output_type": "stream",
     "text": [
      "\r",
      "100%|█████████▉| 2288/2298 [01:01<00:00, 16.57it/s]"
     ]
    },
    {
     "name": "stdout",
     "output_type": "stream",
     "text": [
      "Done dt=2025-10-31/2025-10-31T050000.parquet\n"
     ]
    },
    {
     "name": "stdout",
     "output_type": "stream",
     "text": [
      "Done dt=2025-10-31/2025-10-31T060000.parquet\n"
     ]
    },
    {
     "name": "stdout",
     "output_type": "stream",
     "text": [
      "Done dt=2025-10-31/2025-10-31T070000.parquet\n"
     ]
    },
    {
     "name": "stderr",
     "output_type": "stream",
     "text": [
      "\r",
      "100%|█████████▉| 2288/2298 [01:20<00:00, 16.57it/s]"
     ]
    },
    {
     "name": "stderr",
     "output_type": "stream",
     "text": [
      "\r",
      "100%|█████████▉| 2291/2298 [01:27<00:00,  7.97it/s]"
     ]
    },
    {
     "name": "stdout",
     "output_type": "stream",
     "text": [
      "Done dt=2025-10-31/2025-10-31T080000.parquet\n"
     ]
    },
    {
     "name": "stderr",
     "output_type": "stream",
     "text": [
      "\r",
      "100%|█████████▉| 2292/2298 [01:35<00:00,  6.42it/s]"
     ]
    },
    {
     "name": "stdout",
     "output_type": "stream",
     "text": [
      "Done dt=2025-10-31/2025-10-31T090000.parquet\n"
     ]
    },
    {
     "name": "stdout",
     "output_type": "stream",
     "text": [
      "Done dt=2025-10-31/2025-10-31T100000.parquet\n"
     ]
    },
    {
     "name": "stderr",
     "output_type": "stream",
     "text": [
      "\r",
      "100%|█████████▉| 2292/2298 [01:50<00:00,  6.42it/s]"
     ]
    },
    {
     "name": "stderr",
     "output_type": "stream",
     "text": [
      "\r",
      "100%|█████████▉| 2294/2298 [01:52<00:00,  4.15it/s]"
     ]
    },
    {
     "name": "stdout",
     "output_type": "stream",
     "text": [
      "Done dt=2025-10-31/2025-10-31T110000.parquet\n"
     ]
    },
    {
     "name": "stderr",
     "output_type": "stream",
     "text": [
      "\r",
      "100%|█████████▉| 2295/2298 [02:01<00:00,  3.30it/s]"
     ]
    },
    {
     "name": "stdout",
     "output_type": "stream",
     "text": [
      "Done dt=2025-10-31/2025-10-31T120000.parquet\n"
     ]
    },
    {
     "name": "stdout",
     "output_type": "stream",
     "text": [
      "Done dt=2025-10-31/2025-10-31T130000.parquet\n"
     ]
    },
    {
     "name": "stdout",
     "output_type": "stream",
     "text": [
      "Done dt=2025-10-31/2025-10-31T230000.parquet\n"
     ]
    },
    {
     "name": "stderr",
     "output_type": "stream",
     "text": [
      "\r",
      "100%|█████████▉| 2295/2298 [02:20<00:00,  3.30it/s]"
     ]
    },
    {
     "name": "stderr",
     "output_type": "stream",
     "text": [
      "\r",
      "100%|██████████| 2298/2298 [02:24<00:00,  1.87it/s]"
     ]
    },
    {
     "name": "stderr",
     "output_type": "stream",
     "text": [
      "\r",
      "100%|██████████| 2298/2298 [02:24<00:00, 15.88it/s]"
     ]
    },
    {
     "name": "stdout",
     "output_type": "stream",
     "text": [
      "Done dt=2025-11-01/2025-11-01T000000.parquet\n"
     ]
    },
    {
     "name": "stderr",
     "output_type": "stream",
     "text": [
      "\n"
     ]
    }
   ],
   "source": [
    "import polars as pl \n",
    "from tqdm import tqdm\n",
    "storage_options = {\n",
    "    \"account_name\": account_name,\n",
    "    \"account_key\":  account_key,\n",
    "}\n",
    "\n",
    "for ts, files in tqdm(groups.items()):\n",
    "    if ts not in need_process_ts:\n",
    "        continue\n",
    "    dt = ts[:10]\n",
    "    # if dt not in need_process:\n",
    "    #     continue\n",
    "    df = pl.scan_csv(f\"az://adjuststbuat/*_{ts}_*.csv.gz\", storage_options = storage_options,glob=True, has_header = True, null_values = [\"\",\"NULL\"], ignore_errors=True).select(pl.all().cast(pl.Utf8))\n",
    "    df.sink_parquet(f\"az://adjuststbuatprocessed/processing/dt={dt}/{ts}.parquet\", storage_options = storage_options, compression=\"snappy\")\n",
    "    print(f'Done dt={dt}/{ts}.parquet')\n",
    "        "
   ]
  },
  {
   "cell_type": "code",
   "execution_count": 7,
   "id": "c92d0bed",
   "metadata": {
    "execution": {
     "iopub.execute_input": "2025-11-01T02:00:54.927929Z",
     "iopub.status.busy": "2025-11-01T02:00:54.927755Z",
     "iopub.status.idle": "2025-11-01T02:00:54.932084Z",
     "shell.execute_reply": "2025-11-01T02:00:54.931221Z"
    },
    "papermill": {
     "duration": 0.009477,
     "end_time": "2025-11-01T02:00:54.932924",
     "exception": false,
     "start_time": "2025-11-01T02:00:54.923447",
     "status": "completed"
    },
    "tags": []
   },
   "outputs": [
    {
     "data": {
      "text/plain": [
       "{'2025-10-30', '2025-10-31', '2025-11-01'}"
      ]
     },
     "execution_count": 7,
     "metadata": {},
     "output_type": "execute_result"
    }
   ],
   "source": [
    "need_process = set([i.split(\"T\")[0] for i in need_process_ts])\n",
    "need_process"
   ]
  },
  {
   "cell_type": "code",
   "execution_count": 8,
   "id": "232ffad3",
   "metadata": {
    "execution": {
     "iopub.execute_input": "2025-11-01T02:00:54.940925Z",
     "iopub.status.busy": "2025-11-01T02:00:54.940770Z",
     "iopub.status.idle": "2025-11-01T02:01:04.025033Z",
     "shell.execute_reply": "2025-11-01T02:01:04.024195Z"
    },
    "papermill": {
     "duration": 9.08914,
     "end_time": "2025-11-01T02:01:04.025613",
     "exception": false,
     "start_time": "2025-11-01T02:00:54.936473",
     "status": "completed"
    },
    "tags": []
   },
   "outputs": [
    {
     "name": "stdout",
     "output_type": "stream",
     "text": [
      "\n",
      " Done 2025-10-30\n",
      "\n"
     ]
    },
    {
     "name": "stdout",
     "output_type": "stream",
     "text": [
      "\n",
      " Done 2025-11-01\n",
      "\n"
     ]
    },
    {
     "name": "stdout",
     "output_type": "stream",
     "text": [
      "\n",
      " Done 2025-10-31\n",
      "\n"
     ]
    }
   ],
   "source": [
    "for dt in need_process:\n",
    "  df = pl.scan_parquet(f\"az://adjuststbuatprocessed/processing/dt={dt}/*.parquet\", storage_options=storage_options,glob=True).with_columns(pl.lit(dt).alias(\"dt\"))\n",
    "  df.sink_parquet(f\"az://adjuststbuatprocessed/output/{dt}.parquet\", storage_options=storage_options, compression=\"snappy\")\n",
    "  print(f'\\n Done {dt}\\n')"
   ]
  },
  {
   "cell_type": "markdown",
   "id": "fc9e097f",
   "metadata": {
    "id": "2TvKr29qyJd_",
    "papermill": {
     "duration": 0.003655,
     "end_time": "2025-11-01T02:01:04.033268",
     "exception": false,
     "start_time": "2025-11-01T02:01:04.029613",
     "status": "completed"
    },
    "tags": []
   },
   "source": [
    "# Live"
   ]
  },
  {
   "cell_type": "code",
   "execution_count": 9,
   "id": "76cbe447",
   "metadata": {
    "execution": {
     "iopub.execute_input": "2025-11-01T02:01:04.041503Z",
     "iopub.status.busy": "2025-11-01T02:01:04.041342Z",
     "iopub.status.idle": "2025-11-01T02:01:08.495063Z",
     "shell.execute_reply": "2025-11-01T02:01:08.494213Z"
    },
    "id": "EnaFsdZFxpwc",
    "papermill": {
     "duration": 4.458722,
     "end_time": "2025-11-01T02:01:08.495636",
     "exception": false,
     "start_time": "2025-11-01T02:01:04.036914",
     "status": "completed"
    },
    "tags": []
   },
   "outputs": [
    {
     "data": {
      "text/plain": [
       "['2025-10-30T200000',\n",
       " '2025-10-30T210000',\n",
       " '2025-10-30T220000',\n",
       " '2025-10-30T230000',\n",
       " '2025-10-31T000000']"
      ]
     },
     "execution_count": 9,
     "metadata": {},
     "output_type": "execute_result"
    }
   ],
   "source": [
    "# already_processed = [file.name.split('/')[-1].split('.')[0] for file in container_client.list_blobs() if file.name[:12] == 'live/output/']\n",
    "# already_processed[-5:]\n",
    "already_processed_ts = sorted([file.name.split('/')[-1].split(\".\")[0] for file in container_client.list_blobs() if (file.name.split('/')[0] + \"/\" + file.name.split('/')[1]) == 'live/processing'])\n",
    "already_processed_ts[-5:]"
   ]
  },
  {
   "cell_type": "code",
   "execution_count": 10,
   "id": "bd2214f7",
   "metadata": {
    "execution": {
     "iopub.execute_input": "2025-11-01T02:01:08.504469Z",
     "iopub.status.busy": "2025-11-01T02:01:08.504291Z",
     "iopub.status.idle": "2025-11-01T02:01:21.981695Z",
     "shell.execute_reply": "2025-11-01T02:01:21.980767Z"
    },
    "id": "I7Er6YEUyOsL",
    "papermill": {
     "duration": 13.482563,
     "end_time": "2025-11-01T02:01:21.982281",
     "exception": false,
     "start_time": "2025-11-01T02:01:08.499718",
     "status": "completed"
    },
    "tags": []
   },
   "outputs": [
    {
     "data": {
      "text/plain": [
       "['65n1fgov4zr4_2025-11-01T000000_762c775ae454d23f2c6b6a75623d14c7_2853a0.csv.gz',\n",
       " '65n1fgov4zr4_2025-11-01T000000_762c775ae454d23f2c6b6a75623d14c7_2853a1.csv.gz',\n",
       " '65n1fgov4zr4_2025-11-01T000000_762c775ae454d23f2c6b6a75623d14c7_be8220.csv.gz',\n",
       " '65n1fgov4zr4_2025-11-01T000000_762c775ae454d23f2c6b6a75623d14c7_be8221.csv.gz',\n",
       " '65n1fgov4zr4_2025-11-01T000000_762c775ae454d23f2c6b6a75623d14c7_c35750.csv.gz',\n",
       " '65n1fgov4zr4_2025-11-01T000000_762c775ae454d23f2c6b6a75623d14c7_c35751.csv.gz']"
      ]
     },
     "execution_count": 10,
     "metadata": {},
     "output_type": "execute_result"
    }
   ],
   "source": [
    "container_name_uat = \"adjuststblive\"\n",
    "container_client_uat = blob_service_client.get_container_client(container_name_uat)\n",
    "from collections import defaultdict\n",
    "files = [i.name for i in container_client_uat.list_blobs()]\n",
    "groups = defaultdict(list)\n",
    "for f in files:\n",
    "    dt = f.split('_')[1]\n",
    "    groups[dt].append(f)\n",
    "groups[dt]"
   ]
  },
  {
   "cell_type": "code",
   "execution_count": 11,
   "id": "dd348463",
   "metadata": {
    "execution": {
     "iopub.execute_input": "2025-11-01T02:01:21.991329Z",
     "iopub.status.busy": "2025-11-01T02:01:21.991141Z",
     "iopub.status.idle": "2025-11-01T02:01:21.996484Z",
     "shell.execute_reply": "2025-11-01T02:01:21.995808Z"
    },
    "papermill": {
     "duration": 0.010831,
     "end_time": "2025-11-01T02:01:21.997291",
     "exception": false,
     "start_time": "2025-11-01T02:01:21.986460",
     "status": "completed"
    },
    "tags": []
   },
   "outputs": [
    {
     "data": {
      "text/plain": [
       "['2025-10-31T000000',\n",
       " '2025-10-31T010000',\n",
       " '2025-10-31T020000',\n",
       " '2025-10-31T030000',\n",
       " '2025-10-31T040000',\n",
       " '2025-10-31T050000',\n",
       " '2025-10-31T060000',\n",
       " '2025-10-31T070000',\n",
       " '2025-10-31T080000',\n",
       " '2025-10-31T090000',\n",
       " '2025-10-31T100000',\n",
       " '2025-10-31T110000',\n",
       " '2025-10-31T120000',\n",
       " '2025-10-31T130000',\n",
       " '2025-10-31T140000',\n",
       " '2025-10-31T150000',\n",
       " '2025-10-31T160000',\n",
       " '2025-10-31T170000',\n",
       " '2025-10-31T180000',\n",
       " '2025-10-31T190000',\n",
       " '2025-10-31T200000',\n",
       " '2025-10-31T210000',\n",
       " '2025-10-31T220000',\n",
       " '2025-10-31T230000',\n",
       " '2025-11-01T000000']"
      ]
     },
     "execution_count": 11,
     "metadata": {},
     "output_type": "execute_result"
    }
   ],
   "source": [
    "# need_process = pd.date_range(start=already_processed[-1], end=today).strftime('%Y-%m-%d').to_list()\n",
    "# need_process\n",
    "\n",
    "B = datetime.strptime(dt, \"%Y-%m-%dT%H0000\")\n",
    "A = datetime.strptime(already_processed_ts[-1], \"%Y-%m-%dT%H0000\")\n",
    "need_process_ts =  pd.date_range(A, B, freq='h').strftime('%Y-%m-%dT%H0000').tolist()\n",
    "need_process_ts"
   ]
  },
  {
   "cell_type": "code",
   "execution_count": 12,
   "id": "d42d37ed",
   "metadata": {
    "execution": {
     "iopub.execute_input": "2025-11-01T02:01:22.006253Z",
     "iopub.status.busy": "2025-11-01T02:01:22.006075Z",
     "iopub.status.idle": "2025-11-01T02:09:27.596980Z",
     "shell.execute_reply": "2025-11-01T02:09:27.596214Z"
    },
    "id": "g-W3s2nRyRY7",
    "papermill": {
     "duration": 485.59614,
     "end_time": "2025-11-01T02:09:27.597582",
     "exception": false,
     "start_time": "2025-11-01T02:01:22.001442",
     "status": "completed"
    },
    "tags": []
   },
   "outputs": [
    {
     "name": "stderr",
     "output_type": "stream",
     "text": [
      "\r",
      "  0%|          | 0/2391 [00:00<?, ?it/s]"
     ]
    },
    {
     "name": "stderr",
     "output_type": "stream",
     "text": [
      "\r",
      " 99%|█████████▉| 2367/2391 [00:23<00:00, 101.17it/s]"
     ]
    },
    {
     "name": "stdout",
     "output_type": "stream",
     "text": [
      "Done dt=2025-10-31/2025-10-31T000000.parquet\n"
     ]
    },
    {
     "name": "stderr",
     "output_type": "stream",
     "text": [
      "\r",
      " 99%|█████████▉| 2367/2391 [00:38<00:00, 101.17it/s]"
     ]
    },
    {
     "name": "stderr",
     "output_type": "stream",
     "text": [
      "\r",
      " 99%|█████████▉| 2368/2391 [00:44<00:00, 44.10it/s] "
     ]
    },
    {
     "name": "stdout",
     "output_type": "stream",
     "text": [
      "Done dt=2025-10-31/2025-10-31T010000.parquet\n"
     ]
    },
    {
     "name": "stderr",
     "output_type": "stream",
     "text": [
      "\r",
      " 99%|█████████▉| 2369/2391 [01:06<00:00, 24.07it/s]"
     ]
    },
    {
     "name": "stdout",
     "output_type": "stream",
     "text": [
      "Done dt=2025-10-31/2025-10-31T020000.parquet\n"
     ]
    },
    {
     "name": "stderr",
     "output_type": "stream",
     "text": [
      "\r",
      " 99%|█████████▉| 2370/2391 [01:27<00:01, 14.88it/s]"
     ]
    },
    {
     "name": "stdout",
     "output_type": "stream",
     "text": [
      "Done dt=2025-10-31/2025-10-31T030000.parquet\n"
     ]
    },
    {
     "name": "stderr",
     "output_type": "stream",
     "text": [
      "\r",
      " 99%|█████████▉| 2371/2391 [01:49<00:02,  9.49it/s]"
     ]
    },
    {
     "name": "stdout",
     "output_type": "stream",
     "text": [
      "Done dt=2025-10-31/2025-10-31T040000.parquet\n"
     ]
    },
    {
     "name": "stderr",
     "output_type": "stream",
     "text": [
      "\r",
      " 99%|█████████▉| 2372/2391 [02:10<00:02,  6.36it/s]"
     ]
    },
    {
     "name": "stdout",
     "output_type": "stream",
     "text": [
      "Done dt=2025-10-31/2025-10-31T050000.parquet\n"
     ]
    },
    {
     "name": "stderr",
     "output_type": "stream",
     "text": [
      "\r",
      " 99%|█████████▉| 2373/2391 [02:31<00:04,  4.33it/s]"
     ]
    },
    {
     "name": "stdout",
     "output_type": "stream",
     "text": [
      "Done dt=2025-10-31/2025-10-31T060000.parquet\n"
     ]
    },
    {
     "name": "stderr",
     "output_type": "stream",
     "text": [
      "\r",
      " 99%|█████████▉| 2374/2391 [02:53<00:05,  2.92it/s]"
     ]
    },
    {
     "name": "stdout",
     "output_type": "stream",
     "text": [
      "Done dt=2025-10-31/2025-10-31T070000.parquet\n"
     ]
    },
    {
     "name": "stderr",
     "output_type": "stream",
     "text": [
      "\r",
      " 99%|█████████▉| 2375/2391 [03:15<00:07,  2.00it/s]"
     ]
    },
    {
     "name": "stdout",
     "output_type": "stream",
     "text": [
      "Done dt=2025-10-31/2025-10-31T080000.parquet\n"
     ]
    },
    {
     "name": "stderr",
     "output_type": "stream",
     "text": [
      "\r",
      " 99%|█████████▉| 2376/2391 [03:41<00:11,  1.33it/s]"
     ]
    },
    {
     "name": "stdout",
     "output_type": "stream",
     "text": [
      "Done dt=2025-10-31/2025-10-31T090000.parquet\n"
     ]
    },
    {
     "name": "stderr",
     "output_type": "stream",
     "text": [
      "\r",
      " 99%|█████████▉| 2377/2391 [04:06<00:15,  1.10s/it]"
     ]
    },
    {
     "name": "stdout",
     "output_type": "stream",
     "text": [
      "Done dt=2025-10-31/2025-10-31T100000.parquet\n"
     ]
    },
    {
     "name": "stderr",
     "output_type": "stream",
     "text": [
      "\r",
      " 99%|█████████▉| 2378/2391 [04:31<00:20,  1.59s/it]"
     ]
    },
    {
     "name": "stdout",
     "output_type": "stream",
     "text": [
      "Done dt=2025-10-31/2025-10-31T110000.parquet\n"
     ]
    },
    {
     "name": "stderr",
     "output_type": "stream",
     "text": [
      "\r",
      " 99%|█████████▉| 2379/2391 [04:54<00:25,  2.16s/it]"
     ]
    },
    {
     "name": "stdout",
     "output_type": "stream",
     "text": [
      "Done dt=2025-10-31/2025-10-31T120000.parquet\n"
     ]
    },
    {
     "name": "stderr",
     "output_type": "stream",
     "text": [
      "\r",
      "100%|█████████▉| 2380/2391 [05:15<00:32,  2.91s/it]"
     ]
    },
    {
     "name": "stdout",
     "output_type": "stream",
     "text": [
      "Done dt=2025-10-31/2025-10-31T130000.parquet\n"
     ]
    },
    {
     "name": "stderr",
     "output_type": "stream",
     "text": [
      "\r",
      "100%|█████████▉| 2381/2391 [05:36<00:38,  3.82s/it]"
     ]
    },
    {
     "name": "stdout",
     "output_type": "stream",
     "text": [
      "Done dt=2025-10-31/2025-10-31T140000.parquet\n"
     ]
    },
    {
     "name": "stderr",
     "output_type": "stream",
     "text": [
      "\r",
      "100%|█████████▉| 2382/2391 [05:53<00:42,  4.75s/it]"
     ]
    },
    {
     "name": "stdout",
     "output_type": "stream",
     "text": [
      "Done dt=2025-10-31/2025-10-31T150000.parquet\n"
     ]
    },
    {
     "name": "stderr",
     "output_type": "stream",
     "text": [
      "\r",
      "100%|█████████▉| 2383/2391 [06:08<00:45,  5.64s/it]"
     ]
    },
    {
     "name": "stdout",
     "output_type": "stream",
     "text": [
      "Done dt=2025-10-31/2025-10-31T160000.parquet\n"
     ]
    },
    {
     "name": "stderr",
     "output_type": "stream",
     "text": [
      "\r",
      "100%|█████████▉| 2384/2391 [06:22<00:45,  6.55s/it]"
     ]
    },
    {
     "name": "stdout",
     "output_type": "stream",
     "text": [
      "Done dt=2025-10-31/2025-10-31T170000.parquet\n"
     ]
    },
    {
     "name": "stderr",
     "output_type": "stream",
     "text": [
      "\r",
      "100%|█████████▉| 2385/2391 [06:35<00:44,  7.47s/it]"
     ]
    },
    {
     "name": "stdout",
     "output_type": "stream",
     "text": [
      "Done dt=2025-10-31/2025-10-31T180000.parquet\n"
     ]
    },
    {
     "name": "stderr",
     "output_type": "stream",
     "text": [
      "\r",
      "100%|█████████▉| 2386/2391 [06:48<00:41,  8.36s/it]"
     ]
    },
    {
     "name": "stdout",
     "output_type": "stream",
     "text": [
      "Done dt=2025-10-31/2025-10-31T190000.parquet\n"
     ]
    },
    {
     "name": "stderr",
     "output_type": "stream",
     "text": [
      "\r",
      "100%|█████████▉| 2387/2391 [07:00<00:36,  9.20s/it]"
     ]
    },
    {
     "name": "stdout",
     "output_type": "stream",
     "text": [
      "Done dt=2025-10-31/2025-10-31T200000.parquet\n"
     ]
    },
    {
     "name": "stderr",
     "output_type": "stream",
     "text": [
      "\r",
      "100%|█████████▉| 2388/2391 [07:13<00:29,  9.99s/it]"
     ]
    },
    {
     "name": "stdout",
     "output_type": "stream",
     "text": [
      "Done dt=2025-10-31/2025-10-31T210000.parquet\n"
     ]
    },
    {
     "name": "stderr",
     "output_type": "stream",
     "text": [
      "\r",
      "100%|█████████▉| 2389/2391 [07:27<00:21, 10.82s/it]"
     ]
    },
    {
     "name": "stdout",
     "output_type": "stream",
     "text": [
      "Done dt=2025-10-31/2025-10-31T220000.parquet\n"
     ]
    },
    {
     "name": "stderr",
     "output_type": "stream",
     "text": [
      "\r",
      "100%|█████████▉| 2390/2391 [07:45<00:12, 12.72s/it]"
     ]
    },
    {
     "name": "stdout",
     "output_type": "stream",
     "text": [
      "Done dt=2025-10-31/2025-10-31T230000.parquet\n"
     ]
    },
    {
     "name": "stderr",
     "output_type": "stream",
     "text": [
      "\r",
      "100%|██████████| 2391/2391 [08:05<00:00, 14.62s/it]"
     ]
    },
    {
     "name": "stderr",
     "output_type": "stream",
     "text": [
      "\r",
      "100%|██████████| 2391/2391 [08:05<00:00,  4.92it/s]"
     ]
    },
    {
     "name": "stdout",
     "output_type": "stream",
     "text": [
      "Done dt=2025-11-01/2025-11-01T000000.parquet\n"
     ]
    },
    {
     "name": "stderr",
     "output_type": "stream",
     "text": [
      "\n"
     ]
    }
   ],
   "source": [
    "storage_options = {\n",
    "    \"account_name\": account_name,\n",
    "    \"account_key\":  account_key,\n",
    "}\n",
    "\n",
    "for ts, files in tqdm(groups.items()):\n",
    "    if ts not in need_process_ts: continue\n",
    "    dt = ts[:10]\n",
    "    # if dt not in need_process:\n",
    "    #     continue\n",
    "    df = pl.scan_csv(f\"az://adjuststblive/*_{ts}_*.csv.gz\", storage_options = storage_options,glob=True, has_header = True, null_values = [\"\",\"NULL\"], ignore_errors=True).select(pl.all().cast(pl.Utf8))\n",
    "    df.sink_parquet(f\"az://adjuststbuatprocessed/live/processing/dt={dt}/{ts}.parquet\", storage_options = storage_options, compression=\"snappy\")\n",
    "    print(f'Done dt={dt}/{ts}.parquet')\n",
    "        "
   ]
  },
  {
   "cell_type": "code",
   "execution_count": 13,
   "id": "b06ae899",
   "metadata": {
    "execution": {
     "iopub.execute_input": "2025-11-01T02:09:27.610666Z",
     "iopub.status.busy": "2025-11-01T02:09:27.610470Z",
     "iopub.status.idle": "2025-11-01T02:09:27.614474Z",
     "shell.execute_reply": "2025-11-01T02:09:27.613763Z"
    },
    "papermill": {
     "duration": 0.011347,
     "end_time": "2025-11-01T02:09:27.615096",
     "exception": false,
     "start_time": "2025-11-01T02:09:27.603749",
     "status": "completed"
    },
    "tags": []
   },
   "outputs": [
    {
     "data": {
      "text/plain": [
       "{'2025-10-31', '2025-11-01'}"
      ]
     },
     "execution_count": 13,
     "metadata": {},
     "output_type": "execute_result"
    }
   ],
   "source": [
    "need_process = set([i.split(\"T\")[0] for i in need_process_ts])\n",
    "need_process"
   ]
  },
  {
   "cell_type": "code",
   "execution_count": 14,
   "id": "3e29cbaf",
   "metadata": {
    "execution": {
     "iopub.execute_input": "2025-11-01T02:09:27.627715Z",
     "iopub.status.busy": "2025-11-01T02:09:27.627536Z",
     "iopub.status.idle": "2025-11-01T02:10:43.732348Z",
     "shell.execute_reply": "2025-11-01T02:10:43.731524Z"
    },
    "id": "sBm7rfFUyePJ",
    "papermill": {
     "duration": 76.111934,
     "end_time": "2025-11-01T02:10:43.732960",
     "exception": false,
     "start_time": "2025-11-01T02:09:27.621026",
     "status": "completed"
    },
    "tags": []
   },
   "outputs": [
    {
     "name": "stdout",
     "output_type": "stream",
     "text": [
      "\n",
      " Done 2025-10-31\n",
      "\n"
     ]
    },
    {
     "name": "stdout",
     "output_type": "stream",
     "text": [
      "\n",
      " Done 2025-11-01\n",
      "\n"
     ]
    }
   ],
   "source": [
    "for dt in need_process:\n",
    "  df = pl.scan_parquet(f\"az://adjuststbuatprocessed/live/processing/dt={dt}/*.parquet\", storage_options=storage_options,glob=True).with_columns(pl.lit(dt).alias(\"dt\"))\n",
    "  df.sink_parquet(f\"az://adjuststbuatprocessed/live/output/{dt}.parquet\", storage_options=storage_options, compression=\"snappy\")\n",
    "  print(f'\\n Done {dt}\\n')"
   ]
  }
 ],
 "metadata": {
  "colab": {
   "authorship_tag": "ABX9TyOfzO6uvqUX+Tt89Y73G9E8",
   "include_colab_link": true,
   "provenance": []
  },
  "kernelspec": {
   "display_name": "Python 3",
   "name": "python3"
  },
  "language_info": {
   "codemirror_mode": {
    "name": "ipython",
    "version": 3
   },
   "file_extension": ".py",
   "mimetype": "text/x-python",
   "name": "python",
   "nbconvert_exporter": "python",
   "pygments_lexer": "ipython3",
   "version": "3.11.14"
  },
  "papermill": {
   "default_parameters": {},
   "duration": 751.443904,
   "end_time": "2025-11-01T02:10:44.456139",
   "environment_variables": {},
   "exception": null,
   "input_path": "notebooks/ADJUST_JOB.ipynb",
   "output_path": "outputs/ADJUST_JOB_2025-11-01.ipynb",
   "parameters": {
    "RUN_DATE": "2025-11-01"
   },
   "start_time": "2025-11-01T01:58:13.012235",
   "version": "2.6.0"
  }
 },
 "nbformat": 4,
 "nbformat_minor": 5
}